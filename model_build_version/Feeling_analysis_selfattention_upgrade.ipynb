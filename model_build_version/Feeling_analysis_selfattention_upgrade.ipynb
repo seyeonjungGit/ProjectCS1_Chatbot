{
  "nbformat": 4,
  "nbformat_minor": 0,
  "metadata": {
    "colab": {
      "name": "챗봇감성분석_모델저장_final.ipynb",
      "provenance": [],
      "authorship_tag": "ABX9TyNl5QOxka/HvhEIOLLaduDt",
      "include_colab_link": true
    },
    "kernelspec": {
      "name": "python3",
      "display_name": "Python 3"
    },
    "language_info": {
      "name": "python"
    }
  },
  "cells": [
    {
      "cell_type": "markdown",
      "metadata": {
        "id": "view-in-github",
        "colab_type": "text"
      },
      "source": [
        "<a href=\"https://colab.research.google.com/github/dagyeom23658/project_dayeom_chatbot/blob/main/%EC%B1%97%EB%B4%87%EA%B0%90%EC%84%B1%EB%B6%84%EC%84%9D_%EB%AA%A8%EB%8D%B8%EC%A0%80%EC%9E%A5_final.ipynb\" target=\"_parent\"><img src=\"https://colab.research.google.com/assets/colab-badge.svg\" alt=\"Open In Colab\"/></a>"
      ]
    },
    {
      "cell_type": "code",
      "execution_count": null,
      "metadata": {
        "id": "PrEBqOg6KrxB"
      },
      "outputs": [],
      "source": [
        "import tensorflow as tf"
      ]
    },
    {
      "cell_type": "markdown",
      "source": [
        "# 트렌스포머\n",
        "\n"
      ],
      "metadata": {
        "id": "r-NEjzCGK45P"
      }
    },
    {
      "cell_type": "markdown",
      "source": [
        "## 멀티헤드어텐션 구현"
      ],
      "metadata": {
        "id": "GDRWEF3WLHmd"
      }
    },
    {
      "cell_type": "code",
      "source": [
        "class MultiHeadAttention(tf.keras.layers.Layer):\n",
        "    def __init__(self, embedding_dim, num_heads=8):\n",
        "        super(MultiHeadAttention, self).__init__()\n",
        "        self.embedding_dim = embedding_dim # d_model\n",
        "        self.num_heads = num_heads\n",
        "\n",
        "        assert embedding_dim % self.num_heads == 0\n",
        "\n",
        "        self.projection_dim = embedding_dim // num_heads\n",
        "        self.query_dense = tf.keras.layers.Dense(embedding_dim)\n",
        "        self.key_dense = tf.keras.layers.Dense(embedding_dim)\n",
        "        self.value_dense = tf.keras.layers.Dense(embedding_dim)\n",
        "        self.dense = tf.keras.layers.Dense(embedding_dim)\n",
        "\n",
        "    def scaled_dot_product_attention(self, query, key, value):\n",
        "        matmul_qk = tf.matmul(query, key, transpose_b=True)\n",
        "        depth = tf.cast(tf.shape(key)[-1], tf.float32)\n",
        "        logits = matmul_qk / tf.math.sqrt(depth)\n",
        "        attention_weights = tf.nn.softmax(logits, axis=-1)\n",
        "        output = tf.matmul(attention_weights, value)\n",
        "        return output, attention_weights\n",
        "\n",
        "    def split_heads(self, x, batch_size):\n",
        "        x = tf.reshape(x, (batch_size, -1, self.num_heads, self.projection_dim))\n",
        "        return tf.transpose(x, perm=[0, 2, 1, 3])\n",
        "\n",
        "    def call(self, inputs):\n",
        "        # x.shape = [batch_size, seq_len, embedding_dim]\n",
        "        batch_size = tf.shape(inputs)[0]\n",
        "\n",
        "        # (batch_size, seq_len, embedding_dim)\n",
        "        query = self.query_dense(inputs)\n",
        "        key = self.key_dense(inputs)\n",
        "        value = self.value_dense(inputs)\n",
        "\n",
        "        # (batch_size, num_heads, seq_len, projection_dim)\n",
        "        query = self.split_heads(query, batch_size)  \n",
        "        key = self.split_heads(key, batch_size)\n",
        "        value = self.split_heads(value, batch_size)\n",
        "\n",
        "        scaled_attention, _ = self.scaled_dot_product_attention(query, key, value)\n",
        "        # (batch_size, seq_len, num_heads, projection_dim)\n",
        "        scaled_attention = tf.transpose(scaled_attention, perm=[0, 2, 1, 3])  \n",
        "\n",
        "        # (batch_size, seq_len, embedding_dim)\n",
        "        concat_attention = tf.reshape(scaled_attention, (batch_size, -1, self.embedding_dim))\n",
        "        outputs = self.dense(concat_attention)\n",
        "        return outputs"
      ],
      "metadata": {
        "id": "tuUDcHxaK4WW"
      },
      "execution_count": null,
      "outputs": []
    },
    {
      "cell_type": "markdown",
      "source": [
        "## 인코더 설계\n",
        "- 멀티 헤드 어텐션에 두번째 서브층인 포지션 와이즈 피드 포워드 신경망을 추가하여 인코더 클래스를 설계"
      ],
      "metadata": {
        "id": "V27Sgt_6LKKf"
      }
    },
    {
      "cell_type": "code",
      "source": [
        "class TransformerBlock(tf.keras.layers.Layer):\n",
        "    def __init__(self, embedding_dim, num_heads, dff, rate=0.1):\n",
        "        super(TransformerBlock, self).__init__()\n",
        "        self.att = MultiHeadAttention(embedding_dim, num_heads)\n",
        "        self.ffn = tf.keras.Sequential(\n",
        "            [tf.keras.layers.Dense(dff, activation=\"relu\"),\n",
        "             tf.keras.layers.Dense(embedding_dim),]\n",
        "        )\n",
        "        self.layernorm1 = tf.keras.layers.LayerNormalization(epsilon=1e-6)\n",
        "        self.layernorm2 = tf.keras.layers.LayerNormalization(epsilon=1e-6)\n",
        "        self.dropout1 = tf.keras.layers.Dropout(rate)\n",
        "        self.dropout2 = tf.keras.layers.Dropout(rate)\n",
        "\n",
        "    def call(self, inputs, training):\n",
        "        attn_output = self.att(inputs) # 첫번째 서브층 : 멀티 헤드 어텐션\n",
        "        attn_output = self.dropout1(attn_output, training=training)\n",
        "        out1 = self.layernorm1(inputs + attn_output) # Add & Norm\n",
        "        ffn_output = self.ffn(out1) # 두번째 서브층 : 포지션 와이즈 피드 포워드 신경망\n",
        "        ffn_output = self.dropout2(ffn_output, training=training)\n",
        "        return self.layernorm2(out1 + ffn_output) # Add & Norm\n"
      ],
      "metadata": {
        "id": "6dmMn3ggLbjP"
      },
      "execution_count": null,
      "outputs": []
    },
    {
      "cell_type": "markdown",
      "source": [
        "## 포지션 임베딩\n",
        "- 포지셔널 인코딩을 사용하였지만, 이번에는 위치 정보 자체를 학습을 하도록 하는 포지션 임베딩이라는 방법을 사용\n",
        "- 포지션 임베딩은 임베딩 층(Embedding layer)를 사용하되, 위치 벡터를 학습하도록 하므로 임베딩 층의 첫번째 인자로 단어 집합의 크기가 아니라 문장의 최대 길이를 넣어줍니다."
      ],
      "metadata": {
        "id": "m1B5GPixLkML"
      }
    },
    {
      "cell_type": "code",
      "source": [
        "class TokenAndPositionEmbedding(tf.keras.layers.Layer):\n",
        "    def __init__(self, max_len, vocab_size, embedding_dim):\n",
        "        super(TokenAndPositionEmbedding, self).__init__()\n",
        "        self.token_emb = tf.keras.layers.Embedding(vocab_size, embedding_dim)\n",
        "        self.pos_emb = tf.keras.layers.Embedding(max_len, embedding_dim)\n",
        "\n",
        "    def call(self, x):\n",
        "        max_len = tf.shape(x)[-1]\n",
        "        positions = tf.range(start=0, limit=max_len, delta=1)\n",
        "        positions = self.pos_emb(positions)\n",
        "        x = self.token_emb(x)\n",
        "        return x + positions"
      ],
      "metadata": {
        "id": "6E4k0zG4Lexw"
      },
      "execution_count": null,
      "outputs": []
    },
    {
      "cell_type": "code",
      "execution_count": null,
      "metadata": {
        "id": "sLpO8ZqtSAWk"
      },
      "outputs": [],
      "source": [
        "# pip install konlpy"
      ]
    },
    {
      "cell_type": "code",
      "source": [
        "import numpy as np\n",
        "import matplotlib.pyplot as plt\n",
        "import tensorflow as tf\n",
        "import pandas as pd\n",
        "\n",
        "import re\n",
        "from konlpy.tag import Okt\n",
        "from tqdm import tqdm  #상태진행률 표시\n",
        "from tensorflow.keras.preprocessing.text import Tokenizer\n",
        "from tensorflow.keras.preprocessing.sequence import pad_sequences"
      ],
      "metadata": {
        "id": "zuCdUSm6SFh8"
      },
      "execution_count": null,
      "outputs": []
    },
    {
      "cell_type": "code",
      "source": [
        "train_data = pd.read_excel('/content/drive/MyDrive/프로젝트1/감성대화말뭉치(최종데이터)_Training.xlsx')  # 코랩에 올리고 실행되기까지 시간이 좀 걸림.\n",
        "train_data.head(3)"
      ],
      "metadata": {
        "id": "8nwFsCG3SF8W",
        "colab": {
          "base_uri": "https://localhost:8080/",
          "height": 326
        },
        "outputId": "2526ec3c-4439-4638-b266-e70705323bdc"
      },
      "execution_count": null,
      "outputs": [
        {
          "output_type": "execute_result",
          "data": {
            "text/html": [
              "\n",
              "  <div id=\"df-43bc793a-8fa9-4e46-9754-48a5be535b60\">\n",
              "    <div class=\"colab-df-container\">\n",
              "      <div>\n",
              "<style scoped>\n",
              "    .dataframe tbody tr th:only-of-type {\n",
              "        vertical-align: middle;\n",
              "    }\n",
              "\n",
              "    .dataframe tbody tr th {\n",
              "        vertical-align: top;\n",
              "    }\n",
              "\n",
              "    .dataframe thead th {\n",
              "        text-align: right;\n",
              "    }\n",
              "</style>\n",
              "<table border=\"1\" class=\"dataframe\">\n",
              "  <thead>\n",
              "    <tr style=\"text-align: right;\">\n",
              "      <th></th>\n",
              "      <th>번호</th>\n",
              "      <th>연령</th>\n",
              "      <th>성별</th>\n",
              "      <th>상황키워드</th>\n",
              "      <th>신체질환</th>\n",
              "      <th>감정_대분류</th>\n",
              "      <th>감정_소분류</th>\n",
              "      <th>사람문장1</th>\n",
              "      <th>시스템응답1</th>\n",
              "      <th>사람문장2</th>\n",
              "      <th>시스템응답2</th>\n",
              "      <th>사람문장3</th>\n",
              "      <th>시스템응답3</th>\n",
              "      <th>사람문장4</th>\n",
              "      <th>시스템응답4</th>\n",
              "    </tr>\n",
              "  </thead>\n",
              "  <tbody>\n",
              "    <tr>\n",
              "      <th>0</th>\n",
              "      <td>44164</td>\n",
              "      <td>청년</td>\n",
              "      <td>남성</td>\n",
              "      <td>연애, 결혼, 출산</td>\n",
              "      <td>해당없음</td>\n",
              "      <td>기쁨</td>\n",
              "      <td>신이 난</td>\n",
              "      <td>아내가 드디어 출산하게 되어서 정말 신이 나.</td>\n",
              "      <td>아내분이 출산을 하시는군요. 정말 축하드려요.</td>\n",
              "      <td>아 지금 정말 신이 나.</td>\n",
              "      <td>잘 된 일이네요.</td>\n",
              "      <td>아기가 점점 클게 벌써 기대가 되네. 내가 많이 놀아줘야지.</td>\n",
              "      <td>좋은 아빠가 되실 거 같아요. 진심으로 축하드려요.</td>\n",
              "      <td>NaN</td>\n",
              "      <td>NaN</td>\n",
              "    </tr>\n",
              "    <tr>\n",
              "      <th>1</th>\n",
              "      <td>3926</td>\n",
              "      <td>노년</td>\n",
              "      <td>남성</td>\n",
              "      <td>건강, 죽음</td>\n",
              "      <td>만성질환 유</td>\n",
              "      <td>불안</td>\n",
              "      <td>스트레스 받는</td>\n",
              "      <td>당뇨랑 합병증 때문에 먹어야 할 약이 열 가지가 넘어가니까 스트레스야.</td>\n",
              "      <td>약 종류가 많아 번거로우시겠어요.</td>\n",
              "      <td>건강할 때 관리 좀 잘할걸 하는 생각이 들더라고.</td>\n",
              "      <td>현재 상황에서 변화를 주기 위해 어떻게 하면 될까요?</td>\n",
              "      <td>약을 잘 챙겨 먹고 나을 수 있도록 노력해야지.</td>\n",
              "      <td>약을 잘 챙겨 먹어 건강해지시길 바랄게요.</td>\n",
              "      <td>NaN</td>\n",
              "      <td>NaN</td>\n",
              "    </tr>\n",
              "    <tr>\n",
              "      <th>2</th>\n",
              "      <td>50882</td>\n",
              "      <td>청소년</td>\n",
              "      <td>여성</td>\n",
              "      <td>학업 및 진로</td>\n",
              "      <td>해당없음</td>\n",
              "      <td>당황</td>\n",
              "      <td>당황</td>\n",
              "      <td>고등학교에 올라오니 중학교 때보다 수업이 갑자기 어려워져서 당황스러워.</td>\n",
              "      <td>고등학교 수업이 중학교 때와는 다르게 갑자기 어려워서 당황스러우시군요.</td>\n",
              "      <td>아직 학기 초인데 내가 수업에 잘 따라갈 수 있을지 걱정돼.</td>\n",
              "      <td>이 상황에서 할 수 있는 게 어떤 것이 있을까요?</td>\n",
              "      <td>중학교 수업을 들을 때보다 훨씬 더 열심히 할 거야.</td>\n",
              "      <td>수업을 어떤 방식으로 열심히 듣는게 좋을까요?</td>\n",
              "      <td>선생님이 강조하신 부분을 필기하고 집에서 매일 수업 내용을 복습하려고 해.</td>\n",
              "      <td>열심히 해서 좋은 결과가 있었으면 좋겠어요.</td>\n",
              "    </tr>\n",
              "  </tbody>\n",
              "</table>\n",
              "</div>\n",
              "      <button class=\"colab-df-convert\" onclick=\"convertToInteractive('df-43bc793a-8fa9-4e46-9754-48a5be535b60')\"\n",
              "              title=\"Convert this dataframe to an interactive table.\"\n",
              "              style=\"display:none;\">\n",
              "        \n",
              "  <svg xmlns=\"http://www.w3.org/2000/svg\" height=\"24px\"viewBox=\"0 0 24 24\"\n",
              "       width=\"24px\">\n",
              "    <path d=\"M0 0h24v24H0V0z\" fill=\"none\"/>\n",
              "    <path d=\"M18.56 5.44l.94 2.06.94-2.06 2.06-.94-2.06-.94-.94-2.06-.94 2.06-2.06.94zm-11 1L8.5 8.5l.94-2.06 2.06-.94-2.06-.94L8.5 2.5l-.94 2.06-2.06.94zm10 10l.94 2.06.94-2.06 2.06-.94-2.06-.94-.94-2.06-.94 2.06-2.06.94z\"/><path d=\"M17.41 7.96l-1.37-1.37c-.4-.4-.92-.59-1.43-.59-.52 0-1.04.2-1.43.59L10.3 9.45l-7.72 7.72c-.78.78-.78 2.05 0 2.83L4 21.41c.39.39.9.59 1.41.59.51 0 1.02-.2 1.41-.59l7.78-7.78 2.81-2.81c.8-.78.8-2.07 0-2.86zM5.41 20L4 18.59l7.72-7.72 1.47 1.35L5.41 20z\"/>\n",
              "  </svg>\n",
              "      </button>\n",
              "      \n",
              "  <style>\n",
              "    .colab-df-container {\n",
              "      display:flex;\n",
              "      flex-wrap:wrap;\n",
              "      gap: 12px;\n",
              "    }\n",
              "\n",
              "    .colab-df-convert {\n",
              "      background-color: #E8F0FE;\n",
              "      border: none;\n",
              "      border-radius: 50%;\n",
              "      cursor: pointer;\n",
              "      display: none;\n",
              "      fill: #1967D2;\n",
              "      height: 32px;\n",
              "      padding: 0 0 0 0;\n",
              "      width: 32px;\n",
              "    }\n",
              "\n",
              "    .colab-df-convert:hover {\n",
              "      background-color: #E2EBFA;\n",
              "      box-shadow: 0px 1px 2px rgba(60, 64, 67, 0.3), 0px 1px 3px 1px rgba(60, 64, 67, 0.15);\n",
              "      fill: #174EA6;\n",
              "    }\n",
              "\n",
              "    [theme=dark] .colab-df-convert {\n",
              "      background-color: #3B4455;\n",
              "      fill: #D2E3FC;\n",
              "    }\n",
              "\n",
              "    [theme=dark] .colab-df-convert:hover {\n",
              "      background-color: #434B5C;\n",
              "      box-shadow: 0px 1px 3px 1px rgba(0, 0, 0, 0.15);\n",
              "      filter: drop-shadow(0px 1px 2px rgba(0, 0, 0, 0.3));\n",
              "      fill: #FFFFFF;\n",
              "    }\n",
              "  </style>\n",
              "\n",
              "      <script>\n",
              "        const buttonEl =\n",
              "          document.querySelector('#df-43bc793a-8fa9-4e46-9754-48a5be535b60 button.colab-df-convert');\n",
              "        buttonEl.style.display =\n",
              "          google.colab.kernel.accessAllowed ? 'block' : 'none';\n",
              "\n",
              "        async function convertToInteractive(key) {\n",
              "          const element = document.querySelector('#df-43bc793a-8fa9-4e46-9754-48a5be535b60');\n",
              "          const dataTable =\n",
              "            await google.colab.kernel.invokeFunction('convertToInteractive',\n",
              "                                                     [key], {});\n",
              "          if (!dataTable) return;\n",
              "\n",
              "          const docLinkHtml = 'Like what you see? Visit the ' +\n",
              "            '<a target=\"_blank\" href=https://colab.research.google.com/notebooks/data_table.ipynb>data table notebook</a>'\n",
              "            + ' to learn more about interactive tables.';\n",
              "          element.innerHTML = '';\n",
              "          dataTable['output_type'] = 'display_data';\n",
              "          await google.colab.output.renderOutput(dataTable, element);\n",
              "          const docLink = document.createElement('div');\n",
              "          docLink.innerHTML = docLinkHtml;\n",
              "          element.appendChild(docLink);\n",
              "        }\n",
              "      </script>\n",
              "    </div>\n",
              "  </div>\n",
              "  "
            ],
            "text/plain": [
              "      번호  ...                    시스템응답4\n",
              "0  44164  ...                       NaN\n",
              "1   3926  ...                       NaN\n",
              "2  50882  ...  열심히 해서 좋은 결과가 있었으면 좋겠어요.\n",
              "\n",
              "[3 rows x 15 columns]"
            ]
          },
          "metadata": {},
          "execution_count": 44
        }
      ]
    },
    {
      "cell_type": "code",
      "source": [
        "val_data = pd.read_excel('/content/drive/MyDrive/프로젝트1/감성대화말뭉치(최종데이터)_Validation.xlsx')  # 코랩에 올리고 실행되기까지 시간이 좀 걸림.\n",
        "val_data.head(3)"
      ],
      "metadata": {
        "id": "zZckiPHISICq",
        "colab": {
          "base_uri": "https://localhost:8080/",
          "height": 326
        },
        "outputId": "eeef00d1-2ec1-4c04-9ef5-4d6582cd2876"
      },
      "execution_count": null,
      "outputs": [
        {
          "output_type": "execute_result",
          "data": {
            "text/html": [
              "\n",
              "  <div id=\"df-768001a0-b81e-4de5-8bb4-288eb4d3ad6a\">\n",
              "    <div class=\"colab-df-container\">\n",
              "      <div>\n",
              "<style scoped>\n",
              "    .dataframe tbody tr th:only-of-type {\n",
              "        vertical-align: middle;\n",
              "    }\n",
              "\n",
              "    .dataframe tbody tr th {\n",
              "        vertical-align: top;\n",
              "    }\n",
              "\n",
              "    .dataframe thead th {\n",
              "        text-align: right;\n",
              "    }\n",
              "</style>\n",
              "<table border=\"1\" class=\"dataframe\">\n",
              "  <thead>\n",
              "    <tr style=\"text-align: right;\">\n",
              "      <th></th>\n",
              "      <th>번호</th>\n",
              "      <th>연령</th>\n",
              "      <th>성별</th>\n",
              "      <th>상황키워드</th>\n",
              "      <th>신체질환</th>\n",
              "      <th>감정_대분류</th>\n",
              "      <th>감정_소분류</th>\n",
              "      <th>사람문장1</th>\n",
              "      <th>시스템응답1</th>\n",
              "      <th>사람문장2</th>\n",
              "      <th>시스템응답2</th>\n",
              "      <th>사람문장3</th>\n",
              "      <th>시스템응답3</th>\n",
              "      <th>사람문장4</th>\n",
              "      <th>시스템응답4</th>\n",
              "    </tr>\n",
              "  </thead>\n",
              "  <tbody>\n",
              "    <tr>\n",
              "      <th>0</th>\n",
              "      <td>23093</td>\n",
              "      <td>청년</td>\n",
              "      <td>여성</td>\n",
              "      <td>진로, 취업, 직장</td>\n",
              "      <td>해당없음</td>\n",
              "      <td>분노</td>\n",
              "      <td>툴툴대는</td>\n",
              "      <td>요즘 부모님과 많이 부딪혀.</td>\n",
              "      <td>어떤 일로 부딪히시나요?</td>\n",
              "      <td>난 하고 싶은 일이 있는데 부모님은 안정적인 일만 하라고 하셔. 내 마음대로 하지도...</td>\n",
              "      <td>부모님과의 충돌로 힘드시겠군요.</td>\n",
              "      <td>응. 그래도 난 내가 하고 싶은 일을 위해 노력할 거야.</td>\n",
              "      <td>자신이 하고 싶은 일을 목표로 하기로 하셨군요.</td>\n",
              "      <td>NaN</td>\n",
              "      <td>NaN</td>\n",
              "    </tr>\n",
              "    <tr>\n",
              "      <th>1</th>\n",
              "      <td>32848</td>\n",
              "      <td>청소년</td>\n",
              "      <td>남성</td>\n",
              "      <td>가족관계</td>\n",
              "      <td>해당없음</td>\n",
              "      <td>슬픔</td>\n",
              "      <td>비통한</td>\n",
              "      <td>엄마가 결국 집을 나갔어. 너무 너무 슬퍼.</td>\n",
              "      <td>어머니께서 집을 나가셨다니 정말 슬프셨겠어요. 좀 더 자세히 얘기해주시겠어요?</td>\n",
              "      <td>엄마도 엄마만의 인생이 있을 테니 가지 말라고 할 수가 없었어. 그래서 더 마음이 ...</td>\n",
              "      <td>정말 많이 답답하셨겠어요. 어떻게 하는 게 기분이 좀 풀릴까요?</td>\n",
              "      <td>일단 좀 자야겠어.</td>\n",
              "      <td>일단 휴식을 가질 생각이시군요.</td>\n",
              "      <td>NaN</td>\n",
              "      <td>NaN</td>\n",
              "    </tr>\n",
              "    <tr>\n",
              "      <th>2</th>\n",
              "      <td>35590</td>\n",
              "      <td>청소년</td>\n",
              "      <td>남성</td>\n",
              "      <td>학교폭력/따돌림</td>\n",
              "      <td>해당없음</td>\n",
              "      <td>불안</td>\n",
              "      <td>조심스러운</td>\n",
              "      <td>학교에서 한 친구를 괴롭히는 무리에게 그만하라고 했어.</td>\n",
              "      <td>용기 있는 행동을 하셨네요. 마음이 어떠셨나요?</td>\n",
              "      <td>그런데 말을 하고 난 후 나도 괴롭힐까 봐 불안했어.</td>\n",
              "      <td>그랬군요. 지금 기분에서 벗어나기 위해 할 수 있는 일에는 무엇이 있을까요?</td>\n",
              "      <td>나는 옳은 일을 한 거라고 생각해. 나까지 괴롭힌다면 신고할 거야.</td>\n",
              "      <td>지금의 상황이 나의 방식으로써 잘 해결될 수 있기를 바라요.</td>\n",
              "      <td>NaN</td>\n",
              "      <td>NaN</td>\n",
              "    </tr>\n",
              "  </tbody>\n",
              "</table>\n",
              "</div>\n",
              "      <button class=\"colab-df-convert\" onclick=\"convertToInteractive('df-768001a0-b81e-4de5-8bb4-288eb4d3ad6a')\"\n",
              "              title=\"Convert this dataframe to an interactive table.\"\n",
              "              style=\"display:none;\">\n",
              "        \n",
              "  <svg xmlns=\"http://www.w3.org/2000/svg\" height=\"24px\"viewBox=\"0 0 24 24\"\n",
              "       width=\"24px\">\n",
              "    <path d=\"M0 0h24v24H0V0z\" fill=\"none\"/>\n",
              "    <path d=\"M18.56 5.44l.94 2.06.94-2.06 2.06-.94-2.06-.94-.94-2.06-.94 2.06-2.06.94zm-11 1L8.5 8.5l.94-2.06 2.06-.94-2.06-.94L8.5 2.5l-.94 2.06-2.06.94zm10 10l.94 2.06.94-2.06 2.06-.94-2.06-.94-.94-2.06-.94 2.06-2.06.94z\"/><path d=\"M17.41 7.96l-1.37-1.37c-.4-.4-.92-.59-1.43-.59-.52 0-1.04.2-1.43.59L10.3 9.45l-7.72 7.72c-.78.78-.78 2.05 0 2.83L4 21.41c.39.39.9.59 1.41.59.51 0 1.02-.2 1.41-.59l7.78-7.78 2.81-2.81c.8-.78.8-2.07 0-2.86zM5.41 20L4 18.59l7.72-7.72 1.47 1.35L5.41 20z\"/>\n",
              "  </svg>\n",
              "      </button>\n",
              "      \n",
              "  <style>\n",
              "    .colab-df-container {\n",
              "      display:flex;\n",
              "      flex-wrap:wrap;\n",
              "      gap: 12px;\n",
              "    }\n",
              "\n",
              "    .colab-df-convert {\n",
              "      background-color: #E8F0FE;\n",
              "      border: none;\n",
              "      border-radius: 50%;\n",
              "      cursor: pointer;\n",
              "      display: none;\n",
              "      fill: #1967D2;\n",
              "      height: 32px;\n",
              "      padding: 0 0 0 0;\n",
              "      width: 32px;\n",
              "    }\n",
              "\n",
              "    .colab-df-convert:hover {\n",
              "      background-color: #E2EBFA;\n",
              "      box-shadow: 0px 1px 2px rgba(60, 64, 67, 0.3), 0px 1px 3px 1px rgba(60, 64, 67, 0.15);\n",
              "      fill: #174EA6;\n",
              "    }\n",
              "\n",
              "    [theme=dark] .colab-df-convert {\n",
              "      background-color: #3B4455;\n",
              "      fill: #D2E3FC;\n",
              "    }\n",
              "\n",
              "    [theme=dark] .colab-df-convert:hover {\n",
              "      background-color: #434B5C;\n",
              "      box-shadow: 0px 1px 3px 1px rgba(0, 0, 0, 0.15);\n",
              "      filter: drop-shadow(0px 1px 2px rgba(0, 0, 0, 0.3));\n",
              "      fill: #FFFFFF;\n",
              "    }\n",
              "  </style>\n",
              "\n",
              "      <script>\n",
              "        const buttonEl =\n",
              "          document.querySelector('#df-768001a0-b81e-4de5-8bb4-288eb4d3ad6a button.colab-df-convert');\n",
              "        buttonEl.style.display =\n",
              "          google.colab.kernel.accessAllowed ? 'block' : 'none';\n",
              "\n",
              "        async function convertToInteractive(key) {\n",
              "          const element = document.querySelector('#df-768001a0-b81e-4de5-8bb4-288eb4d3ad6a');\n",
              "          const dataTable =\n",
              "            await google.colab.kernel.invokeFunction('convertToInteractive',\n",
              "                                                     [key], {});\n",
              "          if (!dataTable) return;\n",
              "\n",
              "          const docLinkHtml = 'Like what you see? Visit the ' +\n",
              "            '<a target=\"_blank\" href=https://colab.research.google.com/notebooks/data_table.ipynb>data table notebook</a>'\n",
              "            + ' to learn more about interactive tables.';\n",
              "          element.innerHTML = '';\n",
              "          dataTable['output_type'] = 'display_data';\n",
              "          await google.colab.output.renderOutput(dataTable, element);\n",
              "          const docLink = document.createElement('div');\n",
              "          docLink.innerHTML = docLinkHtml;\n",
              "          element.appendChild(docLink);\n",
              "        }\n",
              "      </script>\n",
              "    </div>\n",
              "  </div>\n",
              "  "
            ],
            "text/plain": [
              "      번호   연령  성별  ...                             시스템응답3 사람문장4 시스템응답4\n",
              "0  23093   청년  여성  ...         자신이 하고 싶은 일을 목표로 하기로 하셨군요.   NaN    NaN\n",
              "1  32848  청소년  남성  ...                  일단 휴식을 가질 생각이시군요.   NaN    NaN\n",
              "2  35590  청소년  남성  ...  지금의 상황이 나의 방식으로써 잘 해결될 수 있기를 바라요.   NaN    NaN\n",
              "\n",
              "[3 rows x 15 columns]"
            ]
          },
          "metadata": {},
          "execution_count": 45
        }
      ]
    },
    {
      "cell_type": "code",
      "source": [
        "df=pd.concat([train_data, val_data])"
      ],
      "metadata": {
        "id": "bj8xOHJkHa81"
      },
      "execution_count": null,
      "outputs": []
    },
    {
      "cell_type": "code",
      "source": [
        "df.head()"
      ],
      "metadata": {
        "colab": {
          "base_uri": "https://localhost:8080/",
          "height": 510
        },
        "id": "qJvalNKVHnW_",
        "outputId": "11385958-cb92-4e0b-ca19-3b65cbc7adea"
      },
      "execution_count": null,
      "outputs": [
        {
          "output_type": "execute_result",
          "data": {
            "text/html": [
              "\n",
              "  <div id=\"df-3878665e-748d-473c-bad8-47db5cd2e656\">\n",
              "    <div class=\"colab-df-container\">\n",
              "      <div>\n",
              "<style scoped>\n",
              "    .dataframe tbody tr th:only-of-type {\n",
              "        vertical-align: middle;\n",
              "    }\n",
              "\n",
              "    .dataframe tbody tr th {\n",
              "        vertical-align: top;\n",
              "    }\n",
              "\n",
              "    .dataframe thead th {\n",
              "        text-align: right;\n",
              "    }\n",
              "</style>\n",
              "<table border=\"1\" class=\"dataframe\">\n",
              "  <thead>\n",
              "    <tr style=\"text-align: right;\">\n",
              "      <th></th>\n",
              "      <th>번호</th>\n",
              "      <th>연령</th>\n",
              "      <th>성별</th>\n",
              "      <th>상황키워드</th>\n",
              "      <th>신체질환</th>\n",
              "      <th>감정_대분류</th>\n",
              "      <th>감정_소분류</th>\n",
              "      <th>사람문장1</th>\n",
              "      <th>시스템응답1</th>\n",
              "      <th>사람문장2</th>\n",
              "      <th>시스템응답2</th>\n",
              "      <th>사람문장3</th>\n",
              "      <th>시스템응답3</th>\n",
              "      <th>사람문장4</th>\n",
              "      <th>시스템응답4</th>\n",
              "    </tr>\n",
              "  </thead>\n",
              "  <tbody>\n",
              "    <tr>\n",
              "      <th>0</th>\n",
              "      <td>44164</td>\n",
              "      <td>청년</td>\n",
              "      <td>남성</td>\n",
              "      <td>연애, 결혼, 출산</td>\n",
              "      <td>해당없음</td>\n",
              "      <td>기쁨</td>\n",
              "      <td>신이 난</td>\n",
              "      <td>아내가 드디어 출산하게 되어서 정말 신이 나.</td>\n",
              "      <td>아내분이 출산을 하시는군요. 정말 축하드려요.</td>\n",
              "      <td>아 지금 정말 신이 나.</td>\n",
              "      <td>잘 된 일이네요.</td>\n",
              "      <td>아기가 점점 클게 벌써 기대가 되네. 내가 많이 놀아줘야지.</td>\n",
              "      <td>좋은 아빠가 되실 거 같아요. 진심으로 축하드려요.</td>\n",
              "      <td>NaN</td>\n",
              "      <td>NaN</td>\n",
              "    </tr>\n",
              "    <tr>\n",
              "      <th>1</th>\n",
              "      <td>3926</td>\n",
              "      <td>노년</td>\n",
              "      <td>남성</td>\n",
              "      <td>건강, 죽음</td>\n",
              "      <td>만성질환 유</td>\n",
              "      <td>불안</td>\n",
              "      <td>스트레스 받는</td>\n",
              "      <td>당뇨랑 합병증 때문에 먹어야 할 약이 열 가지가 넘어가니까 스트레스야.</td>\n",
              "      <td>약 종류가 많아 번거로우시겠어요.</td>\n",
              "      <td>건강할 때 관리 좀 잘할걸 하는 생각이 들더라고.</td>\n",
              "      <td>현재 상황에서 변화를 주기 위해 어떻게 하면 될까요?</td>\n",
              "      <td>약을 잘 챙겨 먹고 나을 수 있도록 노력해야지.</td>\n",
              "      <td>약을 잘 챙겨 먹어 건강해지시길 바랄게요.</td>\n",
              "      <td>NaN</td>\n",
              "      <td>NaN</td>\n",
              "    </tr>\n",
              "    <tr>\n",
              "      <th>2</th>\n",
              "      <td>50882</td>\n",
              "      <td>청소년</td>\n",
              "      <td>여성</td>\n",
              "      <td>학업 및 진로</td>\n",
              "      <td>해당없음</td>\n",
              "      <td>당황</td>\n",
              "      <td>당황</td>\n",
              "      <td>고등학교에 올라오니 중학교 때보다 수업이 갑자기 어려워져서 당황스러워.</td>\n",
              "      <td>고등학교 수업이 중학교 때와는 다르게 갑자기 어려워서 당황스러우시군요.</td>\n",
              "      <td>아직 학기 초인데 내가 수업에 잘 따라갈 수 있을지 걱정돼.</td>\n",
              "      <td>이 상황에서 할 수 있는 게 어떤 것이 있을까요?</td>\n",
              "      <td>중학교 수업을 들을 때보다 훨씬 더 열심히 할 거야.</td>\n",
              "      <td>수업을 어떤 방식으로 열심히 듣는게 좋을까요?</td>\n",
              "      <td>선생님이 강조하신 부분을 필기하고 집에서 매일 수업 내용을 복습하려고 해.</td>\n",
              "      <td>열심히 해서 좋은 결과가 있었으면 좋겠어요.</td>\n",
              "    </tr>\n",
              "    <tr>\n",
              "      <th>3</th>\n",
              "      <td>31303</td>\n",
              "      <td>노년</td>\n",
              "      <td>남성</td>\n",
              "      <td>재정</td>\n",
              "      <td>만성질환 무</td>\n",
              "      <td>기쁨</td>\n",
              "      <td>신이 난</td>\n",
              "      <td>재취업이 돼서 받게 된 첫 월급으로 온 가족이 외식을 할 예정이야. 너무 행복해.</td>\n",
              "      <td>재취업 후 첫 월급이라 정말 기쁘시겠어요.</td>\n",
              "      <td>퇴직 후 다시는 돈을 못 벌 줄 알았는데 이렇게 월급으로 가족에게 맛있는 밥을 살 ...</td>\n",
              "      <td>이 기분을 유지하려면 어떻게 해야 할까요?</td>\n",
              "      <td>회사생활을 열심히 해서 계속 월급을 받을거야!</td>\n",
              "      <td>계속 원하시는 대로 회사생활이 이어지길 바랄게요.</td>\n",
              "      <td>NaN</td>\n",
              "      <td>NaN</td>\n",
              "    </tr>\n",
              "    <tr>\n",
              "      <th>4</th>\n",
              "      <td>47200</td>\n",
              "      <td>노년</td>\n",
              "      <td>여성</td>\n",
              "      <td>재정</td>\n",
              "      <td>만성질환 유</td>\n",
              "      <td>기쁨</td>\n",
              "      <td>안도</td>\n",
              "      <td>빚을 드디어 다 갚게 되어서 이제야 안도감이 들어.</td>\n",
              "      <td>기분 좋으시겠어요. 앞으로는 어떻게 하실 생각이신가요?</td>\n",
              "      <td>빚도 다 갚았으니 당분간은 아무 생각도 안 하며 살고 싶어.</td>\n",
              "      <td>빚도 다 갚았으니 당분간은 아무 생각도 안 하며 살고 싶으시군요.</td>\n",
              "      <td>NaN</td>\n",
              "      <td>NaN</td>\n",
              "      <td>NaN</td>\n",
              "      <td>NaN</td>\n",
              "    </tr>\n",
              "  </tbody>\n",
              "</table>\n",
              "</div>\n",
              "      <button class=\"colab-df-convert\" onclick=\"convertToInteractive('df-3878665e-748d-473c-bad8-47db5cd2e656')\"\n",
              "              title=\"Convert this dataframe to an interactive table.\"\n",
              "              style=\"display:none;\">\n",
              "        \n",
              "  <svg xmlns=\"http://www.w3.org/2000/svg\" height=\"24px\"viewBox=\"0 0 24 24\"\n",
              "       width=\"24px\">\n",
              "    <path d=\"M0 0h24v24H0V0z\" fill=\"none\"/>\n",
              "    <path d=\"M18.56 5.44l.94 2.06.94-2.06 2.06-.94-2.06-.94-.94-2.06-.94 2.06-2.06.94zm-11 1L8.5 8.5l.94-2.06 2.06-.94-2.06-.94L8.5 2.5l-.94 2.06-2.06.94zm10 10l.94 2.06.94-2.06 2.06-.94-2.06-.94-.94-2.06-.94 2.06-2.06.94z\"/><path d=\"M17.41 7.96l-1.37-1.37c-.4-.4-.92-.59-1.43-.59-.52 0-1.04.2-1.43.59L10.3 9.45l-7.72 7.72c-.78.78-.78 2.05 0 2.83L4 21.41c.39.39.9.59 1.41.59.51 0 1.02-.2 1.41-.59l7.78-7.78 2.81-2.81c.8-.78.8-2.07 0-2.86zM5.41 20L4 18.59l7.72-7.72 1.47 1.35L5.41 20z\"/>\n",
              "  </svg>\n",
              "      </button>\n",
              "      \n",
              "  <style>\n",
              "    .colab-df-container {\n",
              "      display:flex;\n",
              "      flex-wrap:wrap;\n",
              "      gap: 12px;\n",
              "    }\n",
              "\n",
              "    .colab-df-convert {\n",
              "      background-color: #E8F0FE;\n",
              "      border: none;\n",
              "      border-radius: 50%;\n",
              "      cursor: pointer;\n",
              "      display: none;\n",
              "      fill: #1967D2;\n",
              "      height: 32px;\n",
              "      padding: 0 0 0 0;\n",
              "      width: 32px;\n",
              "    }\n",
              "\n",
              "    .colab-df-convert:hover {\n",
              "      background-color: #E2EBFA;\n",
              "      box-shadow: 0px 1px 2px rgba(60, 64, 67, 0.3), 0px 1px 3px 1px rgba(60, 64, 67, 0.15);\n",
              "      fill: #174EA6;\n",
              "    }\n",
              "\n",
              "    [theme=dark] .colab-df-convert {\n",
              "      background-color: #3B4455;\n",
              "      fill: #D2E3FC;\n",
              "    }\n",
              "\n",
              "    [theme=dark] .colab-df-convert:hover {\n",
              "      background-color: #434B5C;\n",
              "      box-shadow: 0px 1px 3px 1px rgba(0, 0, 0, 0.15);\n",
              "      filter: drop-shadow(0px 1px 2px rgba(0, 0, 0, 0.3));\n",
              "      fill: #FFFFFF;\n",
              "    }\n",
              "  </style>\n",
              "\n",
              "      <script>\n",
              "        const buttonEl =\n",
              "          document.querySelector('#df-3878665e-748d-473c-bad8-47db5cd2e656 button.colab-df-convert');\n",
              "        buttonEl.style.display =\n",
              "          google.colab.kernel.accessAllowed ? 'block' : 'none';\n",
              "\n",
              "        async function convertToInteractive(key) {\n",
              "          const element = document.querySelector('#df-3878665e-748d-473c-bad8-47db5cd2e656');\n",
              "          const dataTable =\n",
              "            await google.colab.kernel.invokeFunction('convertToInteractive',\n",
              "                                                     [key], {});\n",
              "          if (!dataTable) return;\n",
              "\n",
              "          const docLinkHtml = 'Like what you see? Visit the ' +\n",
              "            '<a target=\"_blank\" href=https://colab.research.google.com/notebooks/data_table.ipynb>data table notebook</a>'\n",
              "            + ' to learn more about interactive tables.';\n",
              "          element.innerHTML = '';\n",
              "          dataTable['output_type'] = 'display_data';\n",
              "          await google.colab.output.renderOutput(dataTable, element);\n",
              "          const docLink = document.createElement('div');\n",
              "          docLink.innerHTML = docLinkHtml;\n",
              "          element.appendChild(docLink);\n",
              "        }\n",
              "      </script>\n",
              "    </div>\n",
              "  </div>\n",
              "  "
            ],
            "text/plain": [
              "      번호  ...                    시스템응답4\n",
              "0  44164  ...                       NaN\n",
              "1   3926  ...                       NaN\n",
              "2  50882  ...  열심히 해서 좋은 결과가 있었으면 좋겠어요.\n",
              "3  31303  ...                       NaN\n",
              "4  47200  ...                       NaN\n",
              "\n",
              "[5 rows x 15 columns]"
            ]
          },
          "metadata": {},
          "execution_count": 47
        }
      ]
    },
    {
      "cell_type": "code",
      "source": [
        "df.isnull().sum()"
      ],
      "metadata": {
        "colab": {
          "base_uri": "https://localhost:8080/"
        },
        "id": "RbvoFAX0Hq64",
        "outputId": "a95b2791-4f0b-46b7-ad3f-ab5028e2b229"
      },
      "execution_count": null,
      "outputs": [
        {
          "output_type": "execute_result",
          "data": {
            "text/plain": [
              "번호            0\n",
              "연령            0\n",
              "성별            0\n",
              "상황키워드         0\n",
              "신체질환          0\n",
              "감정_대분류        0\n",
              "감정_소분류        0\n",
              "사람문장1         0\n",
              "시스템응답1        0\n",
              "사람문장2         0\n",
              "시스템응답2        0\n",
              "사람문장3     11076\n",
              "시스템응답3    11076\n",
              "사람문장4     44386\n",
              "시스템응답4    44511\n",
              "dtype: int64"
            ]
          },
          "metadata": {},
          "execution_count": 48
        }
      ]
    },
    {
      "cell_type": "code",
      "source": [
        "stop_word = pd.read_excel('/content/drive/MyDrive/프로젝트1/stop_words.xlsx',header=None) "
      ],
      "metadata": {
        "id": "J66SVrMaSKMd"
      },
      "execution_count": null,
      "outputs": []
    },
    {
      "cell_type": "code",
      "source": [
        "stop_words=set(stop_word.iloc[:,0].values.tolist())\n",
        "stop_words"
      ],
      "metadata": {
        "id": "6akFQPncSTX2",
        "colab": {
          "base_uri": "https://localhost:8080/"
        },
        "outputId": "b5035d68-d0cd-4267-da91-a2e4f1744f7e"
      },
      "execution_count": null,
      "outputs": [
        {
          "output_type": "execute_result",
          "data": {
            "text/plain": [
              "{',',\n",
              " '.',\n",
              " '가',\n",
              " '가지',\n",
              " '같',\n",
              " '개',\n",
              " '것',\n",
              " '경우',\n",
              " '그',\n",
              " '그것',\n",
              " '그녀',\n",
              " '그러',\n",
              " '그러나',\n",
              " '그런',\n",
              " '그렇',\n",
              " '그리고',\n",
              " '나',\n",
              " '나오',\n",
              " '내',\n",
              " '년',\n",
              " '놓',\n",
              " '다른',\n",
              " '다시',\n",
              " '대하',\n",
              " '더',\n",
              " '데',\n",
              " '되',\n",
              " '두',\n",
              " '들',\n",
              " '등',\n",
              " '따르',\n",
              " '때',\n",
              " '때문',\n",
              " '또',\n",
              " '만들',\n",
              " '많',\n",
              " '말',\n",
              " '말하',\n",
              " '명',\n",
              " '모르',\n",
              " '못하',\n",
              " '문제',\n",
              " '받',\n",
              " '번',\n",
              " '보',\n",
              " '보이',\n",
              " '사람',\n",
              " '사실',\n",
              " '사회',\n",
              " '살',\n",
              " '생각',\n",
              " '생각하',\n",
              " '소리',\n",
              " '속',\n",
              " '수',\n",
              " '시간',\n",
              " '시키',\n",
              " '싶',\n",
              " '씨',\n",
              " '아니',\n",
              " '안',\n",
              " '않',\n",
              " '알',\n",
              " '앞',\n",
              " '어떤',\n",
              " '어떻',\n",
              " '없',\n",
              " '여자',\n",
              " '오',\n",
              " '우리',\n",
              " '원',\n",
              " '월',\n",
              " '위하',\n",
              " '이',\n",
              " '이런',\n",
              " '이렇',\n",
              " '일',\n",
              " '있',\n",
              " '자신',\n",
              " '잘',\n",
              " '적',\n",
              " '전',\n",
              " '점',\n",
              " '정도',\n",
              " '좀',\n",
              " '좋',\n",
              " '주',\n",
              " '중',\n",
              " '지',\n",
              " '지금',\n",
              " '집',\n",
              " '크',\n",
              " '통하',\n",
              " '하',\n",
              " '하나',\n",
              " '한'}"
            ]
          },
          "metadata": {},
          "execution_count": 50
        }
      ]
    },
    {
      "cell_type": "markdown",
      "source": [
        "# 데이터에 대한 이해"
      ],
      "metadata": {
        "id": "neh4w8PyScw0"
      }
    },
    {
      "cell_type": "code",
      "source": [
        "import pandas as pd\n",
        "import numpy as np\n",
        "import matplotlib.pyplot as plt\n",
        "from tensorflow.keras.preprocessing.text import Tokenizer\n",
        "from tensorflow.keras.utils import to_categorical"
      ],
      "metadata": {
        "id": "kI31AhjdSYMo"
      },
      "execution_count": null,
      "outputs": []
    },
    {
      "cell_type": "code",
      "source": [
        "df['번호']=df['번호'].astype('str')\n",
        "\n",
        "# 앞뒤 공백 처리\n",
        "df=df.apply(lambda x: x.str.strip() , axis = 1)  #https://www.delftstack.com/ko/howto/python-pandas/difference-between-pandas-apply-map-and-applymap/"
      ],
      "metadata": {
        "id": "EISFJkw5SmkN"
      },
      "execution_count": null,
      "outputs": []
    },
    {
      "cell_type": "code",
      "source": [
        "feel_bic_class = df['감정_대분류'].unique()"
      ],
      "metadata": {
        "id": "-iwNSV_KG_zy"
      },
      "execution_count": null,
      "outputs": []
    },
    {
      "cell_type": "markdown",
      "source": [
        "# 감성 레이블 만들기(숫자로 매핑)"
      ],
      "metadata": {
        "id": "EiazGyCbS0CJ"
      }
    },
    {
      "cell_type": "code",
      "source": [
        "# 숫자로 감정을 찾을 수 레이블 만들기.\n",
        "i = 0\n",
        "feel_bic_dic= {}\n",
        "for feel in feel_bic_class:\n",
        "    feel_bic_dic[feel] = i\n",
        "    i+=1\n",
        "feel_bic_dic"
      ],
      "metadata": {
        "colab": {
          "base_uri": "https://localhost:8080/"
        },
        "id": "p3wQtz3QGvHx",
        "outputId": "55a37b02-dfc8-41bc-d055-1939206a9502"
      },
      "execution_count": null,
      "outputs": [
        {
          "output_type": "execute_result",
          "data": {
            "text/plain": [
              "{'기쁨': 0, '당황': 2, '분노': 4, '불안': 1, '상처': 5, '슬픔': 3}"
            ]
          },
          "metadata": {},
          "execution_count": 54
        }
      ]
    },
    {
      "cell_type": "code",
      "source": [
        "i = 0\n",
        "feel_bic_dic_reverse= {}\n",
        "for feel in feel_bic_class:\n",
        "    feel_bic_dic_reverse[i] = feel\n",
        "    i+=1\n",
        "feel_bic_dic_reverse"
      ],
      "metadata": {
        "id": "4uRAOxRWUCBM",
        "colab": {
          "base_uri": "https://localhost:8080/"
        },
        "outputId": "d0473458-9438-4adc-dd64-dcfd9baf6de2"
      },
      "execution_count": null,
      "outputs": [
        {
          "output_type": "execute_result",
          "data": {
            "text/plain": [
              "{0: '기쁨', 1: '불안', 2: '당황', 3: '슬픔', 4: '분노', 5: '상처'}"
            ]
          },
          "metadata": {},
          "execution_count": 55
        }
      ]
    },
    {
      "cell_type": "code",
      "source": [
        "df_label = []\n",
        "for feel in df['감정_대분류']:\n",
        "    df_label.append(feel_bic_dic[feel])"
      ],
      "metadata": {
        "id": "zC2hVPQUTTrR"
      },
      "execution_count": null,
      "outputs": []
    },
    {
      "cell_type": "markdown",
      "source": [
        "# 토큰화"
      ],
      "metadata": {
        "id": "KWZNfYUaU5pA"
      }
    },
    {
      "cell_type": "code",
      "source": [
        "from konlpy.tag import Okt\n",
        "from konlpy.tag import Kkma\n",
        "import re"
      ],
      "metadata": {
        "id": "bIn1KqKnWAcG"
      },
      "execution_count": null,
      "outputs": []
    },
    {
      "cell_type": "code",
      "source": [
        "okt=Okt()\n",
        "X_train = []\n",
        "for sentence in df['사람문장1']:\n",
        "    tokenized_sentence = okt.morphs(sentence, stem=True) # 토큰화\n",
        "    stopwords_removed_sentence = [word for word in tokenized_sentence if not word in stop_words] # 불용어 제거\n",
        "    X_train.append(stopwords_removed_sentence)\n",
        "print(X_train[:3])"
      ],
      "metadata": {
        "id": "MaRXng4IWj2T",
        "colab": {
          "base_uri": "https://localhost:8080/"
        },
        "outputId": "6f14d74d-669e-4860-a6f1-9188b02e2276"
      },
      "execution_count": null,
      "outputs": [
        {
          "output_type": "stream",
          "name": "stdout",
          "text": [
            "[['아내', '드디어', '출산', '하다', '되어다', '정말', '신'], ['당뇨', '랑', '합병증', '에', '먹다', '하다', '약', '열', '넘어가다', '스트레스', '야'], ['고등학교', '에', '올라오다', '중학교', '보다', '수업', '갑자기', '어려워지다', '당황', '스럽다']]\n"
          ]
        }
      ]
    },
    {
      "cell_type": "markdown",
      "source": [
        "### 정수인코딩\n",
        "\n",
        "- 기계가 텍스트를 숫자로 처리할 수 있도록 훈련 데이터와 테스트 데이터에 정수 인코딩을 수행해야 합니다. 우선, 훈련 데이터에 대해서 단어 집합(vocaburary)을 만들어봅시다."
      ],
      "metadata": {
        "id": "U-f8OUolYaaS"
      }
    },
    {
      "cell_type": "code",
      "source": [
        "tokenizer = Tokenizer()\n",
        "tokenizer.fit_on_texts(X_train)"
      ],
      "metadata": {
        "id": "i9wKiiByYj57"
      },
      "execution_count": null,
      "outputs": []
    },
    {
      "cell_type": "code",
      "source": [
        "word_index = tokenizer.word_index\n",
        "print(tokenizer.word_index)   # 여기서 oov는 어떻게 되는거지?\n",
        "\n",
        "# 0은 패딩을 위해 비워둠"
      ],
      "metadata": {
        "id": "FwOyBpf7YnOW",
        "colab": {
          "base_uri": "https://localhost:8080/"
        },
        "outputId": "bdff5182-dbcd-45d1-95c2-ea06f37d24ec"
      },
      "execution_count": null,
      "outputs": [
        {
          "output_type": "stream",
          "name": "stdout",
          "text": [
            "{'하다': 1, '을': 2, '에': 3, '를': 4, '너무': 5, '친구': 6, '있다': 7, '같다': 8, '는': 9, '에서': 10, '도': 11, '없다': 12, '보다': 13, '않다': 14, '은': 15, '좋다': 16, '못': 17, '받다': 18, '되다': 19, '이야': 20, '만': 21, '에게': 22, '들다': 23, '돼다': 24, '회사': 25, '오늘': 26, '요즘': 27, '으로': 28, '돈': 29, '정말': 30, '게': 31, '의': 32, '로': 33, '나르다': 34, '아내': 35, '싶다': 36, '걱정': 37, '스럽다': 38, '가다': 39, '한테': 40, '하고': 41, '남편': 42, '이번': 43, '힘들다': 44, '모르다': 45, '?': 46, '고': 47, '나다': 48, '결혼': 49, '자다': 50, '슬프다': 51, '화가': 52, '다': 53, '많이': 54, '직장': 55, '오다': 56, '과': 57, '아프다': 58, '기분': 59, '거': 60, '!': 61, '마음': 62, '아들': 63, '나오다': 64, '되어다': 65, '엄마': 66, '준비': 67, '당황': 68, '불안하다': 69, '많다': 70, '당하다': 71, '나이': 72, '건강': 73, '해': 74, '랑': 75, '병원': 76, '먹다': 77, '어떻다': 78, '와': 79, '자식': 80, '가족': 81, '이제': 82, '학교': 83, '취업': 84, '부모님': 85, '기쁘다': 86, '난': 87, '일이': 88, '자꾸': 89, '인데': 90, '날': 91, '야': 92, '주다': 93, '아이': 94, '속상하다': 95, '딸': 96, '노후': 97, '걸': 98, '혼자': 99, '은퇴': 100, '다니다': 101, '짜증': 102, '그렇다': 103, '왜': 104, '내다': 105, '아무': 106, '공부': 107, '갑자기': 108, '어제': 109, '아니다': 110, '몸': 111, '라고': 112, '인': 113, '까지': 114, '아빠': 115, '스트레스': 116, '만나다': 117, '알다': 118, '싫다': 119, '애': 120, '살다': 121, '보고': 122, '상사': 123, '생기다': 124, '버리다': 125, '남자친구': 126, '해주다': 127, '연락': 128, '서': 129, '업무': 130, '같이': 131, '성적': 132, '계속': 133, '친하다': 134, '우울하다': 135, '시험': 136, '떨어지다': 137, '죽다': 138, '크다': 139, '비': 140, '선생님': 141, '싸우다': 142, '이다': 143, '줄': 144, '열심히': 145, '님': 146, '얼마': 147, '걸리다': 148, '후': 149, '거야': 150, '나가다': 151, '믿다': 152, '고민': 153, '괴롭히다': 154, '이랑': 155, '직원': 156, '혼란': 157, '동료': 158, '부터': 159, '건강하다': 160, '없이': 161, '따돌림': 162, '마다': 163, '한심하다': 164, '동생': 165, '면접': 166, '아직': 167, '맞다': 168, '이렇게': 169, '차다': 170, '항상': 171, '새롭다': 172, '두렵다': 173, '여자친구': 174, '상처': 175, '괴롭다': 176, '좋아하다': 177, '반': 178, '매일': 179, '얘기': 180, '대학': 181, '억울하다': 182, '팀': 183, '다행': 184, '어렵다': 185, '남자': 186, '생활': 187, '술': 188, '후회': 189, '부끄럽다': 190, '모으다': 191, '대해': 192, '나서다': 193, '충격': 194, '수술': 195, '모두': 196, '연애': 197, '위해': 198, '에는': 199, '감': 200, '곳': 201, '두다': 202, '병': 203, '주변': 204, '시키다': 205, '눈물': 206, '께': 207, '빌리다': 208, '세상': 209, '무섭다': 210, '뭐': 211, '보내다': 212, '걸다': 213, '자기': 214, '결과': 215, '드디어': 216, '치료': 217, '암': 218, '달라': 219, '이야기': 220, '지내다': 221, '운동': 222, '의사': 223, '그래서': 224, '원하다': 225, '에도': 226, '수가': 227, '느끼다': 228, '지다': 229, '챙기다': 230, '언니': 231, '보이다': 232, '달': 233, '이렇다': 234, '코로나': 235, '쓰다': 236, '여행': 237, '외로워': 238, '합격': 239, '미안하다': 240, '노인': 241, '시작': 242, '이라': 243, '느껴지다': 244, '무시': 245, '신경': 246, '실수': 247, '점점': 248, '느낌': 249, '배신': 250, '아주': 251, '놀다': 252, '몇': 253, '프로젝트': 254, '진짜': 255, '들어서다': 256, '동기': 257, '승진': 258, '진로': 259, '내일': 260, '들어가다': 261, '힘드다': 262, '들어오다': 263, '함께': 264, '벌써': 265, '이나': 266, '네': 267, '행복하다': 268, '곧': 269, '사다': 270, '사이': 271, '화': 272, '입원': 273, '대화': 274, '빨리': 275, '젊다': 276, '좋아지다': 277, '약': 278, '답답하다': 279, '오랜': 280, '모임': 281, '잘못': 282, '떠나다': 283, '어리다': 284, '모습': 285, '관리': 286, '귀찮다': 287, '이라고': 288, '라': 289, '해도': 290, '심하다': 291, '할머니': 292, '건': 293, '갈다': 294, '남다': 295, '건강검진': 296, '요새': 297, '쉬다': 298, '그만두다': 299, '상황': 300, '듣다': 301, '편하다': 302, '출산': 303, '아직도': 304, '초조하다': 305, '오래': 306, '처음': 307, '나쁘다': 308, '도와주다': 309, '실망': 310, '뒤': 311, '감사하다': 312, '조금': 313, '사업': 314, '성가시다': 315, '질투': 316, '남': 317, '퇴직': 318, '가기': 319, '따돌리다': 320, '김': 321, '질환': 322, '간': 323, '자주': 324, '자금': 325, '가게': 326, '예전': 327, '투자': 328, '전화': 329, '이상': 330, '물어보다': 331, '재정': 332, '조심스럽다': 333, '께서': 334, '부장': 335, '당혹스럽다': 336, '주식': 337, '옆집': 338, '노': 339, '처럼': 340, '이혼': 341, '바람': 342, '짜증나다': 343, '편안하다': 344, '취직': 345, '무슨': 346, '관계': 347, '써다': 348, '늦다': 349, '생일': 350, '인정': 351, '먼저': 352, '밥': 353, '고생': 354, '이유': 355, '놓다': 356, '사장': 357, '사귀다': 358, '꿈': 359, '언제': 360, '오르다': 361, '말다': 362, '면': 363, '학교폭력': 364, '최근': 365, '사고': 366, '몰래': 367, '선물': 368, '관심': 369, '헤어지다': 370, '별로': 371, '늙다': 372, '당뇨': 373, '약속': 374, '아': 375, '하니': 376, '도움': 377, '출근': 378, '부서': 379, '어떡하다': 380, '구역질': 381, '용돈': 382, '형': 383, '임신': 384, '젠': 385, '제대로': 386, '입사': 387, '온': 388, '꼭': 389, '그런데': 390, '이상하다': 391, '바쁘다': 392, '동안': 393, '니까': 394, '제일': 395, '지원': 396, '회의': 397, '크게': 398, '상태': 399, '그냥': 400, '피우다': 401, '며칠': 402, '라는': 403, '고맙다': 404, '애가': 405, '사': 406, '필요하다': 407, '다녀오다': 408, '척': 409, '사랑': 410, '낳다': 411, '그동안': 412, '성': 413, '건지다': 414, '밖에': 415, '검진': 416, '노력': 417, '갚다': 418, '불편하다': 419, '머리': 420, '실망하다': 421, '인지': 422, '눈치': 423, '벌다': 424, '부부': 425, '화나다': 426, '부족하다': 427, '끝나다': 428, '퇴근': 429, '넘다': 430, '가난하다': 431, '자리': 432, '담배': 433, '선배': 434, '야근': 435, '아침': 436, '엔': 437, '대다': 438, '모든': 439, '그렇게': 440, '대': 441, '놀라다': 442, '치다': 443, '볼': 444, '발표': 445, '잔소리': 446, '키우다': 447, '결혼식': 448, '빠지다': 449, '애인': 450, '소식': 451, '손자': 452, '평소': 453, '부럽다': 454, '옆': 455, '보험': 456, '준': 457, '음식': 458, '결국': 459, '여서': 460, '외롭다': 461, '돌아가다': 462, '폭력': 463, '가장': 464, '때리다': 465, '감정': 466, '늘': 467, '인생': 468, '맡다': 469, '주말': 470, '찾다': 471, '째': 472, '보기': 473, '찾아오다': 474, '싫어하다': 475, '재산': 476, '끊다': 477, '당': 478, '큰일': 479, '하루': 480, '거짓말': 481, '가해자': 482, '뭘': 483, '평생': 484, '올해': 485, '경제': 486, '다음': 487, '해고': 488, '빼다': 489, '얼굴': 490, '방': 491, '고립': 492, '욕': 493, '해보다': 494, '매우': 495, '막막하다': 496, '만들다': 497, '기다리다': 498, '환멸': 499, '구': 500, '눈': 501, '중이': 502, '길': 503, '삶': 504, '혐오': 505, '대한': 506, '누나': 507, '대학교': 508, '옷': 509, '잠': 510, '사기': 511, '에만': 512, '혼나다': 513, '좌절': 514, '저': 515, '다가오다': 516, '둘': 517, '죄책감': 518, '마비': 519, '장님': 520, '자녀': 521, '삼': 522, '상담': 523, '다투다': 524, '매번': 525, '학원': 526, '만족스럽다': 527, '대로': 528, '기': 529, '처리': 530, '퇴사': 531, '얼마나': 532, '비교': 533, '손': 534, '하라': 535, '엄청': 536, '힘': 537, '영': 538, '졸업': 539, '월급': 540, '울다': 541, '따르다': 542, '대인관계': 543, '쓰러지다': 544, '오지': 545, '많아지다': 546, '심해지다': 547, '치매': 548, '서로': 549, '비싸다': 550, '이해': 551, '연금': 552, '고백': 553, '차': 554, '성공하다': 555, '에서는': 556, '높다': 557, '미치다': 558, '아기': 559, '없어지다': 560, '걱정스럽다': 561, '늘다': 562, '동네': 563, '인사': 564, '과장': 565, '중요하다': 566, '계획': 567, '후배': 568, '빚': 569, '이르다': 570, '지치다': 571, '괴롭힘': 572, '잃다': 573, '다치다': 574, '입다': 575, '고등학교': 576, '정년': 577, '점수': 578, '아버지': 579, '자랑': 580, '신나다': 581, '고혈압': 582, '검사': 583, '급하다': 584, '이네': 585, '집안': 586, '거절': 587, '오빠': 588, '이사': 589, '퇴원': 590, '전혀': 591, '수업': 592, '여유': 593, '주지': 594, '맨날': 595, '행동': 596, '만큼': 597, '살이': 598, '신입': 599, '아무리': 600, '진단': 601, '죽음': 602, '지인': 603, '물건': 604, '피곤하다': 605, '박': 606, '덕분': 607, '우울증': 608, '쓰이다': 609, '허리': 610, '회식': 611, '이후': 612, '가끔': 613, '일찍': 614, '이직': 615, '십': 616, '불다': 617, '교통사고': 618, '가야': 619, '이라는': 620, '위': 621, '오랫동안': 622, '포기': 623, '어디': 624, '괜찮다': 625, '배': 626, '끼리': 627, '버려진': 628, '대출': 629, '자': 630, '칭찬': 631, '이고': 632, '퇴직금': 633, '열등감': 634, '분': 635, '서다': 636, '성격': 637, '괜히': 638, '뜨다': 639, '반대': 640, '밤': 641, '왕따': 642, '이래': 643, '나빠지다': 644, '신': 645, '텐데': 646, '일도': 647, '비통하다': 648, '한다는': 649, '열': 650, '나니': 651, '서운하다': 652, '만날': 653, '아끼다': 654, '근데': 655, '가지다': 656, '생활비': 657, '\\xa0': 658, '세': 659, '인하다': 660, '소문': 661, '갖다': 662, '누구': 663, '적다': 664, '휴가': 665, '등산': 666, '희생': 667, '시선': 668, '별': 669, '첫': 670, '장': 671, '죽': 672, '작다': 673, '다리': 674, '뿐': 675, '저축': 676, '느긋하다': 677, '부하': 678, '의견': 679, '진행': 680, '스스로': 681, '사과': 682, '며느리': 683, '넣다': 684, '가면': 685, '실패하다': 686, '서럽다': 687, '씩': 688, '마련': 689, '멀어지다': 690, '사정': 691, '일어나다': 692, '해오다': 693, '산': 694, '무엇': 695, '혹시': 696, '뭐라다': 697, '후회되다': 698, '쓸다': 699, '어울리다': 700, '해결': 701, '미리': 702, '형편': 703, '오해': 704, '꾸준하다': 705, '들이다': 706, '명절': 707, '자고': 708, '과의': 709, '남지': 710, '공무원': 711, '사주다': 712, '드리다': 713, '가입': 714, '병문안': 715, '망하다': 716, '앞두다': 717, '그게': 718, '대신': 719, '통보': 720, '미루다': 721, '험담': 722, '신뢰': 723, '타다': 724, '주위': 725, '안달': 726, '태어나다': 727, '서류': 728, '여러': 729, '탈락': 730, '비다': 731, '스러운': 732, '부탁': 733, '게임': 734, '떨리다': 735, '아무래도': 736, '부르다': 737, '동창': 738, '라도': 739, '잡다': 740, '알아보다': 741, '예쁘다': 742, '손주': 743, '라서': 744, '기대': 745, '집안일': 746, '하지만': 747, '저번': 748, '즐겁다': 749, '만난': 750, '들키다': 751, '지나다': 752, '뻔하다': 753, '능력': 754, '인가': 755, '계약': 756, '무릎': 757, '살아오다': 758, '배우다': 759, '친해지다': 760, '소개': 761, '낮다': 762, '력': 763, '지키다': 764, '결정': 765, '축하': 766, '돌아오다': 767, '취소': 768, '쓸쓸하다': 769, '기억': 770, '정신': 771, '과제': 772, '신고': 773, '사람과': 774, '거리': 775, '분위기': 776, '일부러': 777, '양제': 778, '부담': 779, '당첨': 780, '직업': 781, '갱년기': 782, '일자리': 783, '끝': 784, '들어주다': 785, '선택': 786, '돌보다': 787, '통': 788, '저녁': 789, '아무렇다': 790, '바로': 791, '앓다': 792, '외': 793, '나누다': 794, '새': 795, '망치다': 796, '이지': 797, '숙제': 798, '수학': 799, '전학': 800, '문': 801, '어머니': 802, '제': 803, '통장': 804, '은행': 805, '친척': 806, '장례식': 807, '마시다': 808, '바꾸다': 809, '전부': 810, '실적': 811, '근무': 812, '긴장': 813, '판정': 814, '붙다': 815, '놀리다': 816, '롭고': 817, '요양원': 818, '적금': 819, '요구': 820, '수치': 821, '잃어버리다': 822, '정리': 823, '찌다': 824, '동호회': 825, '속이다': 826, '일로': 827, '와이프': 828, '대기업': 829, '사원': 830, '부리다': 831, '미래': 832, '도대체': 833, '올리다': 834, '일주일': 835, '다행하다': 836, '부동산': 837, '창피하다': 838, '발령': 839, '만성': 840, '당장': 841, '어쩌지': 842, '밖': 843, '얻다': 844, '간다': 845, '안심': 846, '소개팅': 847, '편': 848, '항': 849, '암치료': 850, '집중': 851, '대리': 852, '조': 853, '다르다': 854, '놈': 855, '기업': 856, '연봉': 857, '노년': 858, '진학': 859, '건데': 860, '시기': 861, '살아가다': 862, '최종': 863, '탓': 864, '밀리다': 865, '아르바이트': 866, '가슴': 867, '무척': 868, '일만': 869, '강요': 870, '인간관계': 871, '그만': 872, '필요': 873, '만에': 874, '그래도': 875, '딸아이': 876, '유산': 877, '미우다': 878, '겪다': 879, '정': 880, '끝내다': 881, '래': 882, '살기': 883, '꺼내다': 884, '유학': 885, '의심': 886, '혈압': 887, '내년': 888, '그걸': 889, '드': 890, '넘기다': 891, '으로는': 892, '기간': 893, '완치': 894, '돌리다': 895, '체력': 896, '털다': 897, '거지': 898, '집다': 899, '바라다': 900, '피해': 901, '앉다': 902, '걔': 903, '바뀌다': 904, '이라서': 905, '하자': 906, '뭔가': 907, '관절염': 908, '물리다': 909, '순간': 910, '청소': 911, '기도': 912, '넘어지다': 913, '사라지다': 914, '녀석': 915, '제출': 916, '화장실': 917, '피하': 918, '상': 919, '드니': 920, '솔직하다': 921, '지르다': 922, '누가': 923, '아파트': 924, '악화': 925, '올라서다': 926, '작년': 927, '사춘기': 928, '영감': 929, '시': 930, '맡기다': 931, '눕다': 932, '에서도': 933, '황당하다': 934, '줄다': 935, '신입사원': 936, '거래처': 937, '참다': 938, '관': 939, '거의': 940, '섭섭하다': 941, '뿌듯하다': 942, '나중': 943, '오히려': 944, '말씀': 945, '이십': 946, '어느': 947, '관련': 948, '폐암': 949, '계시다': 950, '중년': 951, '당한': 952, '가정': 953, '지각': 954, '월세': 955, '어이': 956, '효과': 957, '일등': 958, '삼십': 959, '에게는': 960, '쳐다보다': 961, '며': 962, '가버리다': 963, '즐기다': 964, '대비': 965, '이기다': 966, '추천': 967, '장이': 968, '흥분': 969, '학생': 970, '지방': 971, '맘': 972, '끄다': 973, '발견': 974, '훔치다': 975, '값': 976, '안도': 977, '지긋지긋하다': 978, '시어머니': 979, '부모': 980, '스럽게': 981, '은근': 982, '취약': 983, '화해': 984, '의식': 985, '깨다': 986, '웃다': 987, '굉장하다': 988, '채용': 989, '태도': 990, '비참하다': 991, '종일': 992, '갈수록': 993, '천식': 994, '간암': 995, '생기': 996, '옮기다': 997, '보험금': 998, '편이': 999, '비밀': 1000, '성과': 1001, '땅': 1002, '수능': 1003, '이라도': 1004, '날다': 1005, '자꾸만': 1006, '우연히': 1007, '풀다': 1008, '혼내다': 1009, '의지': 1010, '뉴스': 1011, '전공': 1012, '수도': 1013, '히': 1014, '데이트': 1015, '집사람': 1016, '충분하다': 1017, '어쩔': 1018, '잘리다': 1019, '이라니': 1020, '안좋다': 1021, '담임': 1022, '숨기다': 1023, '막상': 1024, '와의': 1025, '문자': 1026, '취급': 1027, '가져가다': 1028, '쉬': 1029, '엄청나다': 1030, '시골': 1031, '대답': 1032, '간호사': 1033, '훨씬': 1034, '가방': 1035, '너무나': 1036, '싸움': 1037, '잦다': 1038, '냐': 1039, '본인': 1040, '비웃다': 1041, '요': 1042, '허무하다': 1043, '쌓이다': 1044, '이제야': 1045, '안정': 1046, '위암': 1047, '팔': 1048, '잊다': 1049, '마을': 1050, '아깝다': 1051, '맞추다': 1052, '육십': 1053, '프러포즈': 1054, '팀원': 1055, '직': 1056, '분명': 1057, '확인': 1058, '이면': 1059, '여기저기': 1060, '허락': 1061, '따로': 1062, '감기': 1063, '어려워지다': 1064, '개월': 1065, '채': 1066, '권유': 1067, '마지막': 1068, '위로': 1069, '뺏다': 1070, '이름': 1071, '비용': 1072, '낼': 1073, '날아가다': 1074, '아이디어': 1075, '점심': 1076, '심해': 1077, '장난': 1078, '기회': 1079, '환자': 1080, '갑작스럽다': 1081, '출장': 1082, '일해': 1083, '부분': 1084, '현실': 1085, '에게만': 1086, '완전': 1087, '창피해': 1088, '핸드폰': 1089, '헤어지자': 1090, '악의': 1091, '합병증': 1092, '내주다': 1093, '산책': 1094, '멀리': 1095, '신청': 1096, '똑같다': 1097, '할아버지': 1098, '오십': 1099, '나름': 1100, '해봤다': 1101, '질문': 1102, '방법': 1103, '자료': 1104, '평가': 1105, '맛있다': 1106, '막히다': 1107, '손해': 1108, '시절': 1109, '조차': 1110, '모이다': 1111, '려고': 1112, '지갑': 1113, '유지': 1114, '장사': 1115, '응원': 1116, '어이없다': 1117, '듯': 1118, '초라하다': 1119, '버스': 1120, '보고서': 1121, '안되다': 1122, '겁': 1123, '지난': 1124, '혼': 1125, '완전하다': 1126, '열다': 1127, '약하다': 1128, '말기': 1129, '디스크': 1130, '강아지': 1131, '틀리다': 1132, '소외': 1133, '성적표': 1134, '지만': 1135, '책': 1136, '사무실': 1137, '든든하다': 1138, '로부터': 1139, '자격증': 1140, '반장': 1141, '외식': 1142, '시댁': 1143, '컴퓨터': 1144, '해외': 1145, '하루하루': 1146, '겨우': 1147, '보태': 1148, '사진': 1149, '절대': 1150, '영어': 1151, '꽤': 1152, '전화하다': 1153, '지시': 1154, '난리': 1155, '넉넉하다': 1156, '원래': 1157, '통해': 1158, '깜짝': 1159, '믿음': 1160, '묻다': 1161, '이어서': 1162, '땐': 1163, '식단': 1164, '나아지다': 1165, '이력서': 1166, '대회': 1167, '방금': 1168, '꼴': 1169, '감당': 1170, '줄어들다': 1171, '거래': 1172, '말고': 1173, '마주치다': 1174, '백': 1175, '손녀': 1176, '군대': 1177, '길이': 1178, '교육': 1179, '마무리': 1180, '니': 1181, '건가': 1182, '멀다': 1183, '지겹다': 1184, '싫어지다': 1185, '경로당': 1186, '어찌': 1187, '대서': 1188, '뒷바라지': 1189, '관절': 1190, '치밀다': 1191, '분노': 1192, '당뇨병': 1193, '조절': 1194, '라니': 1195, '사용': 1196, '살리다': 1197, '지나가다': 1198, '울': 1199, '아쉽다': 1200, '성공': 1201, '예민하다': 1202, '차이': 1203, '심장': 1204, '말다툼': 1205, '대표': 1206, '조급하다': 1207, '수입': 1208, '매달': 1209, '내려가다': 1210, '뽑다': 1211, '냄새': 1212, '한마디': 1213, '죄송하다': 1214, '해내다': 1215, '차리다': 1216, '달라지다': 1217, '이지만': 1218, '워': 1219, '최고': 1220, '식품': 1221, '여': 1222, '병실': 1223, '서글프다': 1224, '걷다': 1225, '반응': 1226, '기침': 1227, '자살': 1228, '환갑': 1229, '지병': 1230, '커서': 1231, '부담스럽다': 1232, '지난주': 1233, '교수': 1234, '날리다': 1235, '재미': 1236, '치고': 1237, '운영': 1238, '취미': 1239, '하래': 1240, '금': 1241, '체육': 1242, '무조건': 1243, '착하다': 1244, '절망': 1245, '되게': 1246, '상대': 1247, '친절하다': 1248, '일인': 1249, '경력': 1250, '담당': 1251, '자신감': 1252, '달이': 1253, '든': 1254, '대체': 1255, '적성': 1256, '낙담하다': 1257, '확실하다': 1258, '육아': 1259, '명예퇴직': 1260, '기다': 1261, '식사': 1262, '막': 1263, '소홀하다': 1264, '이미': 1265, '따다': 1266, '분명하다': 1267, '역겹다': 1268, '에게도': 1269, '곁': 1270, '불합격': 1271, '차별': 1272, '체중': 1273, '실': 1274, '불쌍하다': 1275, '제안': 1276, '가보다': 1277, '남아': 1278, '개인': 1279, '카드': 1280, '피': 1281, '작성': 1282, '확신': 1283, '외출': 1284, '고지혈증': 1285, '주가': 1286, '지난번': 1287, '넘어가다': 1288, '변하다': 1289, '이루다': 1290, '최': 1291, '마음대로': 1292, '과연': 1293, '짐': 1294, '펀드': 1295, '민망하다': 1296, '간호': 1297, '옛날': 1298, '온종일': 1299, '마치': 1300, '가깝다': 1301, '한번': 1302, '독립': 1303, '출금': 1304, '데려오다': 1305, '상의': 1306, '물': 1307, '예정': 1308, '그대로': 1309, '끊기다': 1310, '지하철': 1311, '잘나다': 1312, '타': 1313, '동창회': 1314, '정상': 1315, '지적': 1316, '폭행': 1317, '활동': 1318, '기대하다': 1319, '발': 1320, '지출': 1321, '타고': 1322, '누군가': 1323, '백수': 1324, '보여주다': 1325, '정작': 1326, '큰아들': 1327, '몹시': 1328, '이용': 1329, '투병': 1330, '찍다': 1331, '증상': 1332, '사수': 1333, '역시': 1334, '회': 1335, '노래': 1336, '도망가다': 1337, '엉망': 1338, '언젠가': 1339, '탈모': 1340, '여기': 1341, '다이어트': 1342, '재촉': 1343, '도저히': 1344, '생각나다': 1345, '날짜': 1346, '마흔': 1347, '무사하다': 1348, '늘어나다': 1349, '왠지': 1350, '정기': 1351, '저지르다': 1352, '신랑': 1353, '궁금하다': 1354, '짝': 1355, '불만': 1356, '내내': 1357, '조심': 1358, '회장': 1359, '요청': 1360, '복권': 1361, '채다': 1362, '항암': 1363, '내지': 1364, '이동': 1365, '식': 1366, '무리': 1367, '복지': 1368, '와도': 1369, '방어': 1370, '이란': 1371, '학업': 1372, '주사': 1373, '중학교': 1374, '의미': 1375, '풀리다': 1376, '만족하다': 1377, '닫다': 1378, '말씀드리다': 1379, '런가': 1380, '노트': 1381, '사소하다': 1382, '중간고사': 1383, '그때': 1384, '견디다': 1385, '막내': 1386, '어쩌면': 1387, '데리': 1388, '이별': 1389, '마감': 1390, '추석': 1391, '지경': 1392, '육': 1393, '숨': 1394, '잘해주다': 1395, '보지': 1396, '오래되다': 1397, '목표': 1398, '맛': 1399, '심부름': 1400, '식당': 1401, '여기다': 1402, '존재': 1403, '시끄럽다': 1404, '부정': 1405, '당연하다': 1406, '기사': 1407, '압박': 1408, '조용하다': 1409, '안타깝다': 1410, '헬스장': 1411, '달다': 1412, '물다': 1413, '버티다': 1414, '공': 1415, '파다': 1416, '학과': 1417, '재발': 1418, '도박': 1419, '신세': 1420, '한참': 1421, '굳다': 1422, '차갑다': 1423, '어른': 1424, '여름': 1425, '이식': 1426, '심': 1427, '동아리': 1428, '소용': 1429, '센터': 1430, '고장': 1431, '양': 1432, '버': 1433, '달리': 1434, '등급': 1435, '심정': 1436, '어차피': 1437, '온몸': 1438, '새벽': 1439, '어깨': 1440, '내용': 1441, '학기': 1442, '알아주다': 1443, '초기': 1444, '벗어나다': 1445, '치우다': 1446, '장기': 1447, '재미있다': 1448, '보다는': 1449, '원금': 1450, '먹기': 1451, '커피': 1452, '무기': 1453, '손님': 1454, '올라오다': 1455, '재': 1456, '가격': 1457, '신경질': 1458, '과거': 1459, '입학': 1460, '집주인': 1461, '짓': 1462, '자랑스럽다': 1463, '금방': 1464, '경찰': 1465, '어색하다': 1466, '간섭': 1467, '자시다': 1468, '어': 1469, '명품': 1470, '시력': 1471, '통화': 1472, '희망': 1473, '벌': 1474, '쪽': 1475, '한숨': 1476, '표정': 1477, '친정': 1478, '고기': 1479, '내시경': 1480, '짜다': 1481, '글쎄': 1482, '불우하다': 1483, '움직이다': 1484, '동': 1485, '직무': 1486, '가라': 1487, '고객': 1488, '정보': 1489, '무량': 1490, '슬슬': 1491, '청년': 1492, '차려': 1493, '멈추다': 1494, '화목': 1495, '고등학생': 1496, '대가': 1497, '만기': 1498, '가능하다': 1499, '따라가다': 1500, '비슷하다': 1501, '유방암': 1502, '직접': 1503, '또래': 1504, '터지다': 1505, '영화': 1506, '파혼': 1507, '중간': 1508, '함부로': 1509, '밉다': 1510, '덥다': 1511, '취해': 1512, '지도': 1513, '습관': 1514, '내버리다': 1515, '파티': 1516, '금액': 1517, '참석': 1518, '인정받다': 1519, '답': 1520, '부인': 1521, '경험': 1522, '지켜보다': 1523, '운전': 1524, '치': 1525, '언제나': 1526, '시대': 1527, '업': 1528, '입시': 1529, '참여': 1530, '술자리': 1531, '에겐': 1532, '용기': 1533, '잡히다': 1534, '으로도': 1535, '종종': 1536, '내리다': 1537, '놓이다': 1538, '보증': 1539, '로는': 1540, '학년': 1541, '꺼리다': 1542, '끼다': 1543, '기한': 1544, '설레다': 1545, '여태': 1546, '기운': 1547, '기획': 1548, '방문': 1549, '재테크': 1550, '진급': 1551, '쯤': 1552, '질병': 1553, '부쩍': 1554, '입': 1555, '주어': 1556, '현재': 1557, '조건': 1558, '고향': 1559, '로또': 1560, '보너스': 1561, '신장': 1562, '학폭위': 1563, '책임': 1564, '떠오르다': 1565, '가볍다': 1566, '권고사직': 1567, '내기': 1568, '시장': 1569, '계산': 1570, '예약': 1571, '낫다': 1572, '외모': 1573, '덕': 1574, '무리하다': 1575, '과외': 1576, '터': 1577, '산부인과': 1578, '뻔': 1579, '기말고사': 1580, '바보': 1581, '안다': 1582, '영업': 1583, '접다': 1584, '자전거': 1585, '텔레비전': 1586, '처벌': 1587, '얼른': 1588, '그리다': 1589, '급식': 1590, '세우다': 1591, '귀': 1592, '기대다': 1593, '업체': 1594, '친': 1595, '명도': 1596, '배려': 1597, '까먹다': 1598, '여유롭다': 1599, '잠깐': 1600, '다가가다': 1601, '정해': 1602, '재수': 1603, '모자라다': 1604, '어서': 1605, '사내': 1606, '동성애자': 1607, '시도': 1608, '의욕': 1609, '토': 1610, '조언': 1611, '백내장': 1612, '오라': 1613, '자퇴': 1614, '여전하다': 1615, '안쓰럽다': 1616, '반찬': 1617, '시달리다': 1618, '잔뜩': 1619, '가르치다': 1620, '창업': 1621, '에선': 1622, '억지로': 1623, '산다': 1624, '방학': 1625, '덜': 1626, '원서': 1627, '바라보다': 1628, '라면': 1629, '과는': 1630, '흘리다': 1631, '필기': 1632, '반복': 1633, '빼': 1634, '짝사랑': 1635, '사회생활': 1636, '구박': 1637, '통증': 1638, '지나치다': 1639, '이자': 1640, '마저': 1641, '신체': 1642, '양보': 1643, '도착': 1644, '모': 1645, '여직원': 1646, '줄이다': 1647, '사람인': 1648, '곤란하다': 1649, '해외여행': 1650, '요양': 1651, '이웃': 1652, '어찌나': 1653, '가로': 1654, '실패': 1655, '상대방': 1656, '재혼': 1657, '이리': 1658, '고치다': 1659, '받아들이다': 1660, '지속': 1661, '복잡하다': 1662, '거들다': 1663, '점심시간': 1664, '뛰다': 1665, '잠도': 1666, '외국': 1667, '가져오다': 1668, '조심하다': 1669, '대상': 1670, '인간': 1671, '심각하다': 1672, '인원': 1673, '선': 1674, '책임지다': 1675, '보이지': 1676, '이러다가': 1677, '전교': 1678, '절교': 1679, '목격': 1680, '기르다': 1681, '징계': 1682, '서른': 1683, '구해': 1684, '공원': 1685, '죄': 1686, '권': 1687, '편지': 1688, '정부': 1689, '당분간': 1690, '금연': 1691, '교실': 1692, '한결': 1693, '보라': 1694, '경기': 1695, '적응하다': 1696, '연': 1697, '요리': 1698, '심란하다': 1699, '기적': 1700, '젊은이': 1701, '코': 1702, '부도': 1703, '결혼기념일': 1704, '야하다': 1705, '에서만': 1706, '부다': 1707, '원망': 1708, '말리다': 1709, '미워하다': 1710, '바르다': 1711, '가도': 1712, '귀가': 1713, '너무하다': 1714, '움직': 1715, '틈': 1716, '잊어버리다': 1717, '처방': 1718, '실력': 1719, '세대': 1720, '매출': 1721, '소': 1722, '느리다': 1723, '도전': 1724, '카페': 1725, '욕심': 1726, '존경': 1727, '멀쩡하다': 1728, '씁쓸하다': 1729, '커지다': 1730, '무너지다': 1731, '둘째': 1732, '완벽하다': 1733, '니깐': 1734, '뇌졸중': 1735, '중학생': 1736, '체': 1737, '진료': 1738, '써주다': 1739, '뭔': 1740, '더욱': 1741, '자르다': 1742, '나타나다': 1743, '마스크': 1744, '반갑다': 1745, '한잔': 1746, '키': 1747, '아줌마': 1748, '식구': 1749, '진심': 1750, '핀잔': 1751, '커닝': 1752, '가까워지다': 1753, '골다공증': 1754, '서울': 1755, '읽다': 1756, '시부모': 1757, '약해지다': 1758, '닮다': 1759, '데리다': 1760, '메시지': 1761, '명의': 1762, '초대': 1763, '길어지다': 1764, '피해자': 1765, '다시다': 1766, '쓸모없다': 1767, '칠': 1768, '마누라': 1769, '중인': 1770, '구매': 1771, '제주도': 1772, '날씨': 1773, '하늘': 1774, '청혼': 1775, '연예인': 1776, '뒤지다': 1777, '놀림': 1778, '한두': 1779, '처지다': 1780, '처지': 1781, '차이다': 1782, '인턴': 1783, '인슐린': 1784, '수군거리다': 1785, '전환': 1786, '신발': 1787, '시비': 1788, '실기': 1789, '자취': 1790, '맞벌이': 1791, '독감': 1792, '방송': 1793, '에게서': 1794, '치르다': 1795, '오니': 1796, '불': 1797, '해달라다': 1798, '어려움': 1799, '이대로': 1800, '자산': 1801, '적응': 1802, '내야': 1803, '소용없다': 1804, '깎다': 1805, '기계': 1806, '끼': 1807, '숨기': 1808, '최선': 1809, '이민': 1810, '대인': 1811, '위원회': 1812, '오늘이': 1813, '수학여행': 1814, '단체': 1815, '부자': 1816, '거기': 1817, '현장': 1818, '근처': 1819, '등록금': 1820, '복지관': 1821, '자라다': 1822, '윗': 1823, '얘': 1824, '차라리': 1825, '툴툴대': 1826, '쇼핑': 1827, '쏟다': 1828, '퇴': 1829, '대학원': 1830, '먹이다': 1831, '푼': 1832, '정리해고': 1833, '든지': 1834, '부러지다': 1835, '걷기': 1836, '우리나라': 1837, '급여': 1838, '만이': 1839, '병들다': 1840, '열리다': 1841, '인터넷': 1842, '세다': 1843, '남기다': 1844, '군데': 1845, '떨다': 1846, '중소기업': 1847, '간병': 1848, '사망': 1849, '퇴학': 1850, '꾸다': 1851, '골프': 1852, '매': 1853, '정이': 1854, '초등학교': 1855, '대학생': 1856, '복수': 1857, '임원': 1858, '어젯밤': 1859, '도중': 1860, '작업': 1861, '과도': 1862, '불행하다': 1863, '티브이': 1864, '위험하다': 1865, '병간호': 1866, '대충': 1867, '치료받다': 1868, '외톨이': 1869, '정규직': 1870, '주문': 1871, '면서': 1872, '그립다': 1873, '가만히': 1874, '내려오다': 1875, '조금씩': 1876, '참고': 1877, '방해': 1878, '전염병': 1879, '주택': 1880, '인상': 1881, '약간': 1882, '신혼': 1883, '생계': 1884, '환경': 1885, '생': 1886, '잔치': 1887, '백만': 1888, '잠적': 1889, '일상': 1890, '전세': 1891, '회복': 1892, '홀로': 1893, '집도': 1894, '모의고사': 1895, '달래': 1896, '깜빡': 1897, '거부': 1898, '일구다': 1899, '대놓고': 1900, '비난': 1901, '감동': 1902, '음식점': 1903, '요실금': 1904, '자부': 1905, '진지하다': 1906, '댁': 1907, '쉽다': 1908, '지난달': 1909, '표현': 1910, '징그럽다': 1911, '깊다': 1912, '천천히': 1913, '줍다': 1914, '치가': 1915, '멋지다': 1916, '학교생활': 1917, '다가': 1918, '너무나도': 1919, '수익': 1920, '빠르다': 1921, '꿈꾸다': 1922, '폐': 1923, '지기': 1924, '깨어나다': 1925, '이전': 1926, '자존심': 1927, '알려지다': 1928, '무겁다': 1929, '숨다': 1930, '고집': 1931, '세금': 1932, '회비': 1933, '마치다': 1934, '깨': 1935, '무능하다': 1936, '가다가': 1937, '중반': 1938, '허전하다': 1939, '곳도': 1940, '룸메이트': 1941, '데도': 1942, '예상': 1943, '상품': 1944, '소통': 1945, '소중하다': 1946, '똑같이': 1947, '금융': 1948, '설명': 1949, '기술': 1950, '동반': 1951, '부양': 1952, '도둑': 1953, '상해': 1954, '안마': 1955, '시집': 1956, '일정': 1957, '후임': 1958, '스터디': 1959, '병상': 1960, '펴다': 1961, '집값': 1962, '성화': 1963, '라네': 1964, '끔찍하다': 1965, '비상': 1966, '단절': 1967, '이건': 1968, '처': 1969, '핑계': 1970, '지역': 1971, '간질': 1972, '얄밉다': 1973, '벌리다': 1974, '세월': 1975, '정말로': 1976, '성실하다': 1977, '목소리': 1978, '노트북': 1979, '몰다': 1980, '넘어서다': 1981, '감사': 1982, '착잡하다': 1983, '금전': 1984, '칠십': 1985, '대단하다': 1986, '설계': 1987, '눈앞': 1988, '뚱뚱하다': 1989, '요즈음': 1990, '남겨지다': 1991, '목돈': 1992, '배우자': 1993, '축구': 1994, '바닥': 1995, '보람': 1996, '예정일': 1997, '유일하다': 1998, '티': 1999, '비도': 2000, '단': 2001, '아저씨': 2002, '낳을': 2003, '관해': 2004, '뜻대로': 2005, '코앞': 2006, '주인': 2007, '불쾌하다': 2008, '조마조마하다': 2009, '까지만': 2010, '그림': 2011, '실직': 2012, '뱃살': 2013, '부': 2014, '확': 2015, '망설이다': 2016, '특별하다': 2017, '가난': 2018, '소문나다': 2019, '풀': 2020, '통과': 2021, '명단': 2022, '사촌': 2023, '사건': 2024, '증': 2025, '겉': 2026, '전체': 2027, '회복하다': 2028, '총각': 2029, '연차': 2030, '보장': 2031, '듯이': 2032, '마트': 2033, '공감': 2034, '심심하다': 2035, '답장': 2036, '사표': 2037, '부당하다': 2038, '아예': 2039, '주기': 2040, '매년': 2041, '살림': 2042, '구조조정': 2043, '오해해': 2044, '막내딸': 2045, '내신': 2046, '국어': 2047, '과목': 2048, '난감하다': 2049, '대장암': 2050, '녹내장': 2051, '차도': 2052, '종양': 2053, '이성': 2054, '계': 2055, '으로만': 2056, '잔고': 2057, '성인': 2058, '자마자': 2059, '폐지': 2060, '경쟁': 2061, '에서의': 2062, '말실수': 2063, '선고': 2064, '놀이': 2065, '동갑': 2066, '고통스럽다': 2067, '잔': 2068, '오래전': 2069, '저러다': 2070, '잘살다': 2071, '와는': 2072, '정시': 2073, '사오다': 2074, '음악': 2075, '순': 2076, '재활': 2077, '버려지다': 2078, '소심하다': 2079, '철': 2080, '피다': 2081, '어머님': 2082, '상상': 2083, '재밌다': 2084, '성희롱': 2085, '군': 2086, '늦잠': 2087, '치킨': 2088, '낫': 2089, '모양': 2090, '위축': 2091, '장애': 2092, '벌이': 2093, '이만': 2094, '위기': 2095, '답안': 2096, '인기': 2097, '주의': 2098, '잠시': 2099, '더러': 2100, '정체': 2101, '만으로': 2102, '자괴': 2103, '분야': 2104, '듣기': 2105, '다툼': 2106, '만큼은': 2107, '마라톤': 2108, '발생': 2109, '째다': 2110, '짓다': 2111, '말로': 2112, '영향': 2113, '밤새': 2114, '후련하다': 2115, '폐렴': 2116, '독촉': 2117, '못마땅하다': 2118, '돌다': 2119, '한편': 2120, '한지': 2121, '구입': 2122, '조카': 2123, '안부': 2124, '쑤시다': 2125, '권하다': 2126, '초': 2127, '각자': 2128, '전이': 2129, '상견례': 2130, '그만하다': 2131, '높아지다': 2132, '돌려주다': 2133, '그저': 2134, '소변': 2135, '피부': 2136, '만의': 2137, '연인': 2138, '국민연금': 2139, '펑펑': 2140, '풀이': 2141, '앞날': 2142, '하고는': 2143, '고독': 2144, '염려': 2145, '올려주다': 2146, '농사': 2147, '남동생': 2148, '직할': 2149, '경찰서': 2150, '교육비': 2151, '까지도': 2152, '학비': 2153, '발목': 2154, '뛰어나다': 2155, '뼈': 2156, '여동생': 2157, '컨디션': 2158, '수정': 2159, '황': 2160, '불구': 2161, '예의': 2162, '다섯': 2163, '공고': 2164, '찾아가다': 2165, '던지다': 2166, '물어': 2167, '어느새다': 2168, '불평': 2169, '부질없다': 2170, '낮': 2171, '번째': 2172, '이틀': 2173, '올라가다': 2174, '전형': 2175, '휴대폰': 2176, '겁나다': 2177, '사서': 2178, '잡고': 2179, '제때': 2180, '장가': 2181, '지지': 2182, '제외': 2183, '조만간': 2184, '미술': 2185, '참견': 2186, '까지는': 2187, '몸살': 2188, '더니': 2189, '막다': 2190, '결제': 2191, '구직': 2192, '아이돌': 2193, '늦어지다': 2194, '돌아다니다': 2195, '찾아보다': 2196, '버릇': 2197, '인연': 2198, '도통': 2199, '불가능하다': 2200, '심장마비': 2201, '트집': 2202, '대접': 2203, '라며': 2204, '불공평하다': 2205, '업자': 2206, '책상': 2207, '공모전': 2208, '치과': 2209, '애쓰다': 2210, '뽑히다': 2211, '부딪히다': 2212, '망가지다': 2213, '주시': 2214, '무언가': 2215, '울면': 2216, '몰리다': 2217, '테': 2218, '과로': 2219, '어디서': 2220, '미국': 2221, '제한': 2222, '급격하다': 2223, '고과': 2224, '겠다': 2225, '내면': 2226, '불륜': 2227, '딱': 2228, '장소': 2229, '별거': 2230, '건물': 2231, '주민': 2232, '당당하다': 2233, '선거': 2234, '출신': 2235, '휴직': 2236, '고용': 2237, '귀농': 2238, '베': 2239, '미팅': 2240, '염세': 2241, '언': 2242, '더럽다': 2243, '변화': 2244, '외박': 2245, '기미': 2246, '깨우다': 2247, '해지': 2248, '큰딸': 2249, '주신': 2250, '나라': 2251, '어지럽다': 2252, '고통': 2253, '일방': 2254, '카톡': 2255, '맞이': 2256, '요통': 2257, '예비': 2258, '차례': 2259, '다정하다': 2260, '괘씸하다': 2261, '씌우다': 2262, '뇌출혈': 2263, '의도': 2264, '방관': 2265, '고르다': 2266, '무산': 2267, '자존감': 2268, '기부': 2269, '우선': 2270, '빼놓다': 2271, '금리': 2272, '떠나가다': 2273, '들리다': 2274, '조기': 2275, '공채': 2276, '행사': 2277, '특히': 2278, '오전': 2279, '유독': 2280, '흉': 2281, '처분': 2282, '휠체어': 2283, '일부': 2284, '신문': 2285, '비만': 2286, '새다': 2287, '문과': 2288, '상하': 2289, '학점': 2290, '형제': 2291, '외로움': 2292, '만으로도': 2293, '어쩜': 2294, '거울': 2295, '단짝': 2296, '옳다': 2297, '길거리': 2298, '캠핑': 2299, '분해': 2300, '비리': 2301, '여성': 2302, '거려': 2303, '목': 2304, '사사건건': 2305, '면목': 2306, '찬': 2307, '돌': 2308, '배드민턴': 2309, '용서': 2310, '기념': 2311, '면담': 2312, '고양이': 2313, '익숙하다': 2314, '후반': 2315, '거실': 2316, '말르다': 2317, '밝다': 2318, '체육대회': 2319, '낙담': 2320, '이든': 2321, '계단': 2322, '심근경색': 2323, '이끌다': 2324, '마냥': 2325, '수익률': 2326, '교무': 2327, '깜깜': 2328, '조사': 2329, '방향': 2330, '납부': 2331, '광고': 2332, '휴일': 2333, '전원주택': 2334, '걔네': 2335, '시한': 2336, '불황': 2337, '수행평가': 2338, '집착': 2339, '애교': 2340, '원인': 2341, '경': 2342, '떠들다': 2343, '결심': 2344, '무거워': 2345, '프레': 2346, '테이': 2347, '션': 2348, '인공': 2349, '범인': 2350, '웃음': 2351, '침대': 2352, '한데': 2353, '형님': 2354, '쓸데없다': 2355, '봉사': 2356, '수시': 2357, '이벤트': 2358, '기특하다': 2359, '재택근무': 2360, '첫날': 2361, '이장': 2362, '파일': 2363, '질': 2364, '도망': 2365, '잠들다': 2366, '내놓다': 2367, '반말': 2368, '미혼': 2369, '쫓기다': 2370, '유행': 2371, '랑은': 2372, '서툴다': 2373, '전해': 2374, '흡연': 2375, '지목': 2376, '도망치다': 2377, '강의': 2378, '맺다': 2379, '격려': 2380, '내외': 2381, '잘나가다': 2382, '알리': 2383, '가수': 2384, '귀엽다': 2385, '저렇게': 2386, '나가야': 2387, '폭락': 2388, '장면': 2389, '입양': 2390, '대책': 2391, '다단계': 2392, '판매': 2393, '지금껏': 2394, '뒷': 2395, '여간': 2396, '지급': 2397, '자체': 2398, '사르다': 2399, '존중': 2400, '청': 2401, '감축': 2402, '깨지다': 2403, '둘이서': 2404, '아마': 2405, '성사': 2406, '거두다': 2407, '떡': 2408, '수영': 2409, '께서는': 2410, '두통': 2411, '시술': 2412, '근': 2413, '조르다': 2414, '짧다': 2415, '하필': 2416, '버겁다': 2417, '교회': 2418, '로서': 2419, '생기지': 2420, '당하': 2421, '망치': 2422, '이기': 2423, '쌀쌀': 2424, '유명하다': 2425, '의문': 2426, '천만': 2427, '거나': 2428, '투석': 2429, '배달': 2430, '흥분하다': 2431, '장례': 2432, '담보': 2433, '혜택': 2434, '어딜': 2435, '대들다': 2436, '직속': 2437, '한순간': 2438, '동업': 2439, '우유': 2440, '보이스피싱': 2441, '출퇴근': 2442, '기력': 2443, '무료': 2444, '탈': 2445, '아등바등': 2446, '팔다': 2447, '등록': 2448, '낯': 2449, '재능': 2450, '육십이': 2451, '어버이날': 2452, '보살피다': 2453, '턱': 2454, '기념일': 2455, '외근': 2456, '빈': 2457, '작': 2458, '좁다': 2459, '온갖': 2460, '매주': 2461, '상관없다': 2462, '타지': 2463, '배고프다': 2464, '운': 2465, '연습': 2466, '살라': 2467, '뇌': 2468, '법': 2469, '데려가다': 2470, '신혼여행': 2471, '툭하면': 2472, '반항': 2473, '혈당': 2474, '노름': 2475, '비염': 2476, '달리기': 2477, '코로나바이러스': 2478, '택시': 2479, '하고도': 2480, '은사': 2481, '바치다': 2482, '란': 2483, '변기': 2484, '큰소리': 2485, '입대': 2486, '흐르다': 2487, '겨울': 2488, '빨갛다': 2489, '물가': 2490, '문화': 2491, '술집': 2492, '온대': 2493, '주어지다': 2494, '석': 2495, '간식': 2496, '혹': 2497, '보약': 2498, '쓸모': 2499, '씻다': 2500, '스펙': 2501, '척도': 2502, '비아': 2503, '냥': 2504, '낙': 2505, '프로그램': 2506, '모욕': 2507, '팔이': 2508, '방귀': 2509, '으로의': 2510, '처가': 2511, '먹고살다': 2512, '넘치다': 2513, '이를': 2514, '차서': 2515, '사돈': 2516, '밝히다': 2517, '놓치다': 2518, '자유롭다': 2519, '하소연': 2520, '참담하다': 2521, '졸업식': 2522, '한국': 2523, '갈등': 2524, '맘대로': 2525, '시험지': 2526, '살날': 2527, '의자': 2528, '전과': 2529, '꼴다': 2530, '만지다': 2531, '쫓겨나다': 2532, '모시다': 2533, '매사': 2534, '보조': 2535, '불면증': 2536, '지는': 2537, '완성': 2538, '끓이다': 2539, '투정': 2540, '죽겠네': 2541, '부러워하다': 2542, '임': 2543, '화도': 2544, '좀처럼': 2545, '과정': 2546, '이모': 2547, '편애': 2548, '드라마': 2549, '공장': 2550, '사별': 2551, '문득': 2552, '제자리': 2553, '진': 2554, '일어나서': 2555, '목적': 2556, '슬픔': 2557, '현금': 2558, '청약': 2559, '바': 2560, '헷갈리다': 2561, '으론': 2562, '상당하다': 2563, '희망이': 2564, '소원': 2565, '직전': 2566, '층': 2567, '양가': 2568, '동시': 2569, '꼬이다': 2570, '놀': 2571, '일과': 2572, '늘어서다': 2573, '싸': 2574, '강제': 2575, '허망': 2576, '차장': 2577, '보험사': 2578, '연말': 2579, '쓰기': 2580, '알리다': 2581, '평균': 2582, '로운': 2583, '장난감': 2584, '학자금': 2585, '쓰레기': 2586, '바닥나다': 2587, '노약': 2588, '재미없다': 2589, '번호': 2590, '누명': 2591, '찢어지다': 2592, '서먹해지다': 2593, '불안감': 2594, '조원': 2595, '공기': 2596, '기계로': 2597, '발언': 2598, '최대한': 2599, '의료': 2600, '예방': 2601, '간단하다': 2602, '전달': 2603, '쓰리다': 2604, '이과': 2605, '생리': 2606, '기복': 2607, '공기업': 2608, '꼴등': 2609, '손실': 2610, '내심': 2611, '청첩장': 2612, '심각해지다': 2613, '야단': 2614, '건망증': 2615, '병동': 2616, '꾸짖다': 2617, '푹': 2618, '따뜻하다': 2619, '브랜드': 2620, '비혼': 2621, '비우다': 2622, '한동안': 2623, '실제': 2624, '얘길': 2625, '난처하다': 2626, '수험생': 2627, '문서': 2628, '약점': 2629, '국가': 2630, '허탈하다': 2631, '식탁': 2632, '영상': 2633, '뇌종양': 2634, '길다': 2635, '여태껏': 2636, '아부': 2637, '성별': 2638, '예': 2639, '협박': 2640, '기만': 2641, '채우다': 2642, '유부': 2643, '매달리다': 2644, '늘어놓다': 2645, '일거리': 2646, '절대로': 2647, '학벌': 2648, '간절하다': 2649, '대박': 2650, '보상': 2651, '너': 2652, '몸무게': 2653, '이니까': 2654, '승인': 2655, '장만': 2656, '예금': 2657, '변경': 2658, '상위': 2659, '별일': 2660, '붙잡다': 2661, '주고받다': 2662, '돌아보다': 2663, '주네': 2664, '틀어지다': 2665, '기초': 2666, '나하': 2667, '달성': 2668, '기증': 2669, '진작': 2670, '번거롭다': 2671, '방식': 2672, '절친': 2673, '만약': 2674, '거짓': 2675, '화장': 2676, '폭': 2677, '닦달': 2678, '울적하다': 2679, '끼치다': 2680, '어르신': 2681, '영원하다': 2682, '분하다': 2683, '호전': 2684, '착각': 2685, '서서': 2686, '곗돈': 2687, '제발': 2688, '애정': 2689, '외면': 2690, '배치': 2691, '보험료': 2692, '선임': 2693, '결혼식장': 2694, '이제껏': 2695, '고프다': 2696, '홈쇼핑': 2697, '정책': 2698, '톡': 2699, '의심스럽다': 2700, '불량': 2701, '학부모': 2702, '화장품': 2703, '채팅': 2704, '부턴': 2705, '수행': 2706, '대장': 2707, '뒤늦다': 2708, '케이크': 2709, '콜레스테롤': 2710, '방이': 2711, '설거지': 2712, '커플': 2713, '독서실': 2714, '서비스': 2715, '자석': 2716, '온통': 2717, '모자라': 2718, '빌다': 2719, '사기꾼': 2720, '스마트폰': 2721, '만을': 2722, '후유증': 2723, '도무지': 2724, '그러면': 2725, '머리카락': 2726, '임플란트': 2727, '공허하다': 2728, '틀니': 2729, '지불': 2730, '선뜻': 2731, '망': 2732, '지고': 2733, '켜다': 2734, '포함': 2735, '모이': 2736, '실감': 2737, '여생': 2738, '내미다': 2739, '마음먹다': 2740, '감다': 2741, '놔두다': 2742, '별것': 2743, '적극': 2744, '처남': 2745, '실장': 2746, '태풍': 2747, '시스템': 2748, '생명': 2749, '익숙해지다': 2750, '첫째': 2751, '이냐': 2752, '조직': 2753, '뜸': 2754, '한시름': 2755, '복용': 2756, '등수': 2757, '시누이': 2758, '두려움': 2759, '알코올': 2760, '종합': 2761, '넘겨주다': 2762, '보시': 2763, '사지': 2764, '협상': 2765, '지루하다': 2766, '추가': 2767, '진정하다': 2768, '정확하다': 2769, '미련': 2770, '불친절하다': 2771, '뒷말': 2772, '지저분하다': 2773, '폐경': 2774, '세계': 2775, '다해': 2776, '인제': 2777, '정산': 2778, '팔고': 2779, '슈퍼': 2780, '육아휴직': 2781, '진정': 2782, '직급': 2783, '노망': 2784, '사항': 2785, '이쁘다': 2786, '부작용': 2787, '퇴임': 2788, '워낙': 2789, '통지': 2790, '이런저런': 2791, '졸라': 2792, '화려하다': 2793, '신규': 2794, '주눅': 2795, '로만': 2796, '가리다': 2797, '명문': 2798, '에스': 2799, '인맥': 2800, '응급실': 2801, '나은': 2802, '환멸감': 2803, '단순': 2804, '분담': 2805, '화분': 2806, '연기': 2807, '덮다': 2808, '전보': 2809, '게임기': 2810, '성질': 2811, '서울대': 2812, '부리고': 2813, '학창': 2814, '걱정거리': 2815, '는커녕': 2816, '헛소문': 2817, '단둘': 2818, '구속': 2819, '교과서': 2820, '인들': 2821, '마땅하다': 2822, '하루아침': 2823, '뵈다': 2824, '편의점': 2825, '평온하다': 2826, '한창': 2827, '성과급': 2828, '살짝': 2829, '축': 2830, '회원': 2831, '미세먼지': 2832, '당선': 2833, '도시락': 2834, '기관지염': 2835, '분들': 2836, '소득': 2837, '의대': 2838, '사직서': 2839, '이상은': 2840, '굳이': 2841, '지은': 2842, '엊그제': 2843, '합격자': 2844, '저금': 2845, '늘리다': 2846, '모처럼': 2847, '화만': 2848, '차로': 2849, '홀가분하다': 2850, '전문가': 2851, '교제': 2852, '경비': 2853, '퍼지다': 2854, '물리치료': 2855, '마음껏': 2856, '진절머리': 2857, '빵': 2858, '위험': 2859, '접근': 2860, '백화점': 2861, '투': 2862, '거슬리다': 2863, '발전': 2864, '침침하다': 2865, '게으르다': 2866, '무니': 2867, '곤': 2868, '속도': 2869, '결핵': 2870, '인수': 2871, '속마음': 2872, '새우다': 2873, '가까이': 2874, '교사': 2875, '온라인': 2876, '강하다': 2877, '판단': 2878, '치질': 2879, '홍삼': 2880, '아야': 2881, '안해': 2882, '렸': 2883, '삼다': 2884, '취하': 2885, '진상': 2886, '하찮다': 2887, '에이': 2888, '피로': 2889, '낚시': 2890, '주름': 2891, '배정': 2892, '표': 2893, '그랬는데': 2894, '늦둥이': 2895, '간의': 2896, '식이': 2897, '비행기': 2898, '입자': 2899, '비록': 2900, '소화': 2901, '떼': 2902, '추다': 2903, '그건': 2904, '외도': 2905, '이따금': 2906, '병세': 2907, '행복': 2908, '어휴': 2909, '이익': 2910, '자연': 2911, '사위': 2912, '꾸리다': 2913, '한쪽': 2914, '학급': 2915, '연속': 2916, '휴': 2917, '일억': 2918, '거동': 2919, '충돌': 2920, '리지': 2921, '질책': 2922, '채소': 2923, '찢다': 2924, '벅차다': 2925, '정답': 2926, '다루다': 2927, '누르다': 2928, '혼수': 2929, '상여금': 2930, '적자': 2931, '몽땅': 2932, '손가락': 2933, '성추행': 2934, '시세': 2935, '꼼짝': 2936, '장학금': 2937, '적도': 2938, '중풍': 2939, '잘생기다': 2940, '기본': 2941, '폭언': 2942, '지향': 2943, '따라서': 2944, '과중': 2945, '적당하다': 2946, '수준': 2947, '자동차': 2948, '가을': 2949, '차질': 2950, '뒷담화': 2951, '멋있다': 2952, '뒤통수': 2953, '췌장암': 2954, '붉다': 2955, '완주': 2956, '모레': 2957, '쏙': 2958, '오십이': 2959, '래서': 2960, '반기다': 2961, '우린': 2962, '임금': 2963, '간병인': 2964, '심사': 2965, '빠듯한데': 2966, '단골': 2967, '가출': 2968, '상치': 2969, '소음': 2970, '골다': 2971, '헌신': 2972, '제시': 2973, '방치': 2974, '돕다': 2975, '엘리베이터': 2976, '감시': 2977, '기준': 2978, '기능': 2979, '골': 2980, '카카오': 2981, '콘서트': 2982, '신용': 2983, '비위': 2984, '정직': 2985, '수령': 2986, '톡방': 2987, '보통': 2988, '부상': 2989, '꼼꼼하다': 2990, '성형': 2991, '몰려오다': 2992, '보단': 2993, '잡': 2994, '하교': 2995, '단어': 2996, '고치': 2997, '떼다': 2998, '감각': 2999, '철수': 3000, '비타민': 3001, '과일': 3002, '실리다': 3003, '쑥스럽다': 3004, '순위': 3005, '리': 3006, '허약하다': 3007, '사채': 3008, '조치': 3009, '택배': 3010, '싸다': 3011, '정치': 3012, '동자': 3013, '오토바이': 3014, '순이': 3015, '가발': 3016, '건드리다': 3017, '호감': 3018, '이웃집': 3019, '입장': 3020, '장래희망': 3021, '목욕탕': 3022, '대고': 3023, '결재': 3024, '깨끗하다': 3025, '동결': 3026, '타박': 3027, '독서': 3028, '도시': 3029, '장모님': 3030, '최신': 3031, '빼앗다': 3032, '증거': 3033, '달래다': 3034, '채택': 3035, '후원': 3036, '억': 3037, '음주운전': 3038, '꾸지람': 3039, '마주': 3040, '굽다': 3041, '임종': 3042, '고발': 3043, '판': 3044, '아버님': 3045, '집의': 3046, '건네다': 3047, '심지어': 3048, '친정엄마': 3049, '본가': 3050, '일구': 3051, '하늘나라': 3052, '수면': 3053, '폐업': 3054, '달려오다': 3055, '보호자': 3056, '중독': 3057, '연루': 3058, '채점': 3059, '섞이다': 3060, '근육': 3061, '야간': 3062, '말투': 3063, '가보': 3064, '가능성': 3065, '가사': 3066, '부유하다': 3067, '머릿속': 3068, '하든': 3069, '노릇': 3070, '쌍둥이': 3071, '침': 3072, '사적': 3073, '부지런하다': 3074, '만들기': 3075, '벌어지다': 3076, '소리치다': 3077, '반려': 3078, '난동': 3079, '권고': 3080, '저리다': 3081, '안이': 3082, '퍼센트': 3083, '함': 3084, '이루어지다': 3085, '다짜고짜': 3086, '누락': 3087, '트라우마': 3088, '일흔': 3089, '으로부터': 3090, '접촉': 3091, '물이': 3092, '굶다': 3093, '강도': 3094, '그날': 3095, '저렇다': 3096, '교복': 3097, '앞집': 3098, '낙하산': 3099, '가담': 3100, '만치': 3101, '겸': 3102, '늙은이': 3103, '퍼트': 3104, '보호': 3105, '보더': 3106, '는걸': 3107, '단순하다': 3108, '노안': 3109, '끝내': 3110, '학습': 3111, '넓다': 3112, '수당': 3113, '살갑': 3114, '제도': 3115, '지나': 3116, '끼니': 3117, '액수': 3118, '휘두르다': 3119, '서랍': 3120, '십년지기': 3121, '그만큼': 3122, '일일이': 3123, '워크숍': 3124, '마이너스': 3125, '고작': 3126, '뜯다': 3127, '폭발': 3128, '투성이': 3129, '냉장고': 3130, '졸다': 3131, '증세': 3132, '주더': 3133, '적지': 3134, '중단': 3135, '제의': 3136, '뺨': 3137, '개선': 3138, '셔': 3139, '적적하다': 3140, '조퇴': 3141, '목숨': 3142, '출근길': 3143, '안나': 3144, '당일': 3145, '에다': 3146, '메신저': 3147, '옷차림': 3148, '시국': 3149, '품': 3150, '미움': 3151, '대출받다': 3152, '간만': 3153, '액': 3154, '보증금': 3155, '일진': 3156, '만점': 3157, '꾸중': 3158, '성장하다': 3159, '유치원': 3160, '관계도': 3161, '올바르다': 3162, '교내': 3163, '바다': 3164, '역할': 3165, '주제': 3166, '돼지': 3167, '때로는': 3168, '계주': 3169, '한약': 3170, '만만하다': 3171, '대기': 3172, '깁스': 3173, '꼬투리': 3174, '스타일': 3175, '내색': 3176, '빈혈': 3177, '내쫓다': 3178, '텅': 3179, '무관심하다': 3180, '겹': 3181, '밀리': 3182, '복도': 3183, '까다롭다': 3184, '글': 3185, '말썽': 3186, '일으키다': 3187, '농담': 3188, '상가': 3189, '흥미': 3190, '최악': 3191, '충당': 3192, '복학': 3193, '맥주': 3194, '과자': 3195, '자서': 3196, '문병': 3197, '안경': 3198, '대처': 3199, '공개': 3200, '불안정하다': 3201, '마시기': 3202, '배우': 3203, '그렇다고': 3204, '수월하다': 3205, '죄다': 3206, '희귀': 3207, '촬영': 3208, '빼앗기다': 3209, '오백만': 3210, '물러나다': 3211, '틀어박히다': 3212, '섞다': 3213, '개발': 3214, '졸': 3215, '시각': 3216, '호스피스': 3217, '주임': 3218, '아래': 3219, '철저하다': 3220, '아주머니': 3221, '신기하다': 3222, '가신': 3223, '밀치다': 3224, '신혼집': 3225, '간경변증': 3226, '박히다': 3227, '가르다': 3228, '등교': 3229, '과를': 3230, '찌': 3231, '밑': 3232, '부족': 3233, '예식장': 3234, '대중교통': 3235, '사려': 3236, '임용고시': 3237, '헬스': 3238, '던': 3239, '직장인': 3240, '겉도': 3241, '조직검사': 3242, '필라테스': 3243, '소비': 3244, '옛': 3245, '약국': 3246, '증후군': 3247, '접수': 3248, '날씬하다': 3249, '감격': 3250, '이해해': 3251, '주저앉다': 3252, '산더미': 3253, '서도': 3254, '유출': 3255, '절약': 3256, '예물': 3257, '전날': 3258, '재료': 3259, '백혈병': 3260, '동거': 3261, '꾀병': 3262, '라고는': 3263, '서서히': 3264, '저혈압': 3265, '부터는': 3266, '설': 3267, '딸내미': 3268, '주머니': 3269, '무': 3270, '담': 3271, '그토록': 3272, '교류': 3273, '진자': 3274, '끌다': 3275, '지식': 3276, '절반': 3277, '무심하다': 3278, '여섯': 3279, '우승': 3280, '따라다니다': 3281, '언성': 3282, '시계': 3283, '스무': 3284, '꾸미다': 3285, '학대': 3286, '당구': 3287, '손목': 3288, '치기': 3289, '승낙': 3290, '휴학': 3291, '취': 3292, '재무': 3293, '장래': 3294, '수다': 3295, '삐지다': 3296, '기러기': 3297, '저항': 3298, '가망': 3299, '자궁': 3300, '새엄마': 3301, '작품': 3302, '부리': 3303, '무뚝뚝하다': 3304, '정학': 3305, '수중': 3306, '조롱': 3307, '합의': 3308, '담당자': 3309, '깔다': 3310, '분노하다': 3311, '인거': 3312, '딸도': 3313, '하나같이': 3314, '쓰레기통': 3315, '삼촌': 3316, '가득하다': 3317, '인력': 3318, '십대': 3319, '막내아들': 3320, '기구': 3321, '물론': 3322, '범죄': 3323, '만사': 3324, '사랑받다': 3325, '수급': 3326, '효율': 3327, '몸매': 3328, '월요일': 3329, '동년배': 3330, '따지다': 3331, '악성': 3332, '기숙사': 3333, '결근': 3334, '제자': 3335, '상무': 3336, '웃기다': 3337, '무단': 3338, '끊임없다': 3339, '남인': 3340, '자세하다': 3341, '기저귀': 3342, '학생회장': 3343, '친목': 3344, '예순': 3345, '돌아서다': 3346, '꽃': 3347, '호흡기': 3348, '구역': 3349, '욕설': 3350, '굽': 3351, '강사': 3352, '놀이동산': 3353, '주사기': 3354, '텃세': 3355, '동의': 3356, '정신과': 3357, '되찾다': 3358, '규칙': 3359, '낮아지다': 3360, '뮤지컬': 3361, '검토': 3362, '가계': 3363, '위급하다': 3364, '단칸': 3365, '비키다': 3366, '대부분': 3367, '유튜브': 3368, '안과': 3369, '방역': 3370, '부부싸움': 3371, '현관': 3372, '주부': 3373, '안보': 3374, '차마': 3375, '근력': 3376, '경매': 3377, '기기': 3378, '장수': 3379, '오류': 3380, '벌레': 3381, '배다': 3382, '외제': 3383, '활': 3384, '구조': 3385, '손가락질': 3386, '상담사': 3387, '상속': 3388, '뵙다': 3389, '만남': 3390, '심부전증': 3391, '동성': 3392, '달려가다': 3393, '일어나지': 3394, '벽': 3395, '드릴': 3396, '극적': 3397, '하마터면': 3398, '횡령': 3399, '말대꾸': 3400, '인계': 3401, '죄송스럽다': 3402, '가라앉다': 3403, '작고': 3404, '도리어': 3405, '능률': 3406, '전역': 3407, '대견하다': 3408, '이중': 3409, '훌륭하다': 3410, '상쾌하다': 3411, '돌이키다': 3412, '멍청하다': 3413, '캄캄하다': 3414, '대우': 3415, '연수': 3416, '처량하다': 3417, '어둡다': 3418, '준비물': 3419, '슬쩍': 3420, '천': 3421, '안중': 3422, '몇몇': 3423, '폐가': 3424, '알바': 3425, '동떨어지다': 3426, '직종': 3427, '쉰': 3428, '범위': 3429, '오후': 3430, '납품': 3431, '발작': 3432, '폐결핵': 3433, '서먹하다': 3434, '후의': 3435, '벗다': 3436, '무급': 3437, '걸어오다': 3438, '빼먹다': 3439, '전화번호': 3440, '음성': 3441, '향': 3442, '피아노': 3443, '체육복': 3444, '끼어들다': 3445, '삶다': 3446, '무인도': 3447, '아름답다': 3448, '모시': 3449, '네트워크': 3450, '안내': 3451, '응대': 3452, '길가': 3453, '변': 3454, '알레르기': 3455, '외부': 3456, '위자료': 3457, '옛말': 3458, '틀림없다': 3459, '밝혀지다': 3460, '멍하다': 3461, '삭감': 3462, '땅값': 3463, '적어지다': 3464, '낙방': 3465, '믿어지다': 3466, '치레': 3467, '가식': 3468, '소견': 3469, '화재': 3470, '아시': 3471, '주장': 3472, '견제': 3473, '이던': 3474, '인스타그램': 3475, '호텔': 3476, '잘만': 3477, '풍족하다': 3478, '위층': 3479, '극단': 3480, '쌀': 3481, '틀다': 3482, '입덧': 3483, '의료기기': 3484, '반영': 3485, '실내': 3486, '낡다': 3487, '구두': 3488, '정직하다': 3489, '흔쾌하다': 3490, '쥐다': 3491, '원만하다': 3492, '시합': 3493, '남성': 3494, '흔들리다': 3495, '생산': 3496, '긍정': 3497, '해방': 3498, '수상하다': 3499, '엄살': 3500, '보다도': 3501, '미역국': 3502, '유튜버': 3503, '아랫': 3504, '기세': 3505, '식장': 3506, '한텐': 3507, '퍼뜨리': 3508, '마디': 3509, '별다르다': 3510, '해치다': 3511, '퇴근길': 3512, '긁다': 3513, '덜다': 3514, '급': 3515, '휴식': 3516, '끌': 3517, '들통': 3518, '경제력': 3519, '류머티즘': 3520, '만원': 3521, '보복': 3522, '매력': 3523, '열사병': 3524, '정정': 3525, '여력': 3526, '차지': 3527, '툴툴댔어': 3528, '유능하다': 3529, '서글퍼지다': 3530, '분배': 3531, '복': 3532, '인걸': 3533, '꽃다발': 3534, '운명': 3535, '살아나다': 3536, '맛없다': 3537, '밀다': 3538, '먹어주다': 3539, '인스턴트': 3540, '즙': 3541, '낭비': 3542, '대형': 3543, '더듬다': 3544, '음료수': 3545, '지연': 3546, '가계부': 3547, '평판': 3548, '간이': 3549, '쏘다': 3550, '사가': 3551, '예고': 3552, '불합리': 3553, '최저': 3554, '따라잡다': 3555, '민간요법': 3556, '어쩌나': 3557, '이라고는': 3558, '걸어가다': 3559, '푸다': 3560, '독거': 3561, '음': 3562, '역': 3563, '하객': 3564, '딱하다': 3565, '충': 3566, '골치': 3567, '근속': 3568, '갑갑하다': 3569, '명예': 3570, '라니까': 3571, '끼우다': 3572, '영희': 3573, '성향': 3574, '시원하다': 3575, '체육관': 3576, '우승하다': 3577, '수술실': 3578, '완쾌': 3579, '코지': 3580, '만으로는': 3581, '만은': 3582, '버튼': 3583, '연장': 3584, '깜빡깜빡': 3585, '어쩌다': 3586, '손잡다': 3587, '종목': 3588, '염': 3589, '지게': 3590, '신사': 3591, '체크': 3592, '문화센터': 3593, '한계': 3594, '고독사': 3595, '수습': 3596, '수발': 3597, '예산': 3598, '빈털터리': 3599, '주도하다': 3600, '압류': 3601, '구급차': 3602, '와중': 3603, '장거리': 3604, '쪽지': 3605, '충고': 3606, '빨르다': 3607, '노리': 3608, '힘쓰다': 3609, '떠올리다': 3610, '남자에게': 3611, '여자애': 3612, '저런': 3613, '오천만': 3614, '임대': 3615, '주차': 3616, '밤새우다': 3617, '두절': 3618, '라지': 3619, '토막': 3620, '클럽': 3621, '상관': 3622, '토익': 3623, '그렇지만': 3624, '았': 3625, '낯선': 3626, '퍼붓다': 3627, '빠듯해': 3628, '꿇다': 3629, '요가': 3630, '동서': 3631, '고소하다': 3632, '부잣집': 3633, '약물': 3634, '바깥': 3635, '제멋대로': 3636, '만족': 3637, '쏟아지다': 3638, '불필요하다': 3639, '두서': 3640, '부어': 3641, '수고': 3642, '체계': 3643, '사치': 3644, '스킨십': 3645, '살찌다': 3646, '십만': 3647, '출가': 3648, '방과': 3649, '주선': 3650, '작가': 3651, '은커녕': 3652, '유명': 3653, '묻히다': 3654, '권태기': 3655, '수능시험': 3656, '리기': 3657, '오디션': 3658, '정성껏': 3659, '참으로': 3660, '심장병': 3661, '깔끔하다': 3662, '위염': 3663, '괜': 3664, '외국인': 3665, '노크': 3666, '극': 3667, '착실하다': 3668, '해약': 3669, '편찮다': 3670, '믿음직하다': 3671, '외제차': 3672, '가벼워지다': 3673, '부치다': 3674, '걸음': 3675, '출발': 3676, '들여다보다': 3677, '아가씨': 3678, '무난': 3679, '체질': 3680, '극복': 3681, '흉하다': 3682, '경향': 3683, '어딘가': 3684, '엉뚱하다': 3685, '일지': 3686, '합의금': 3687, '기쁨': 3688, '나잇': 3689, '비서': 3690, '제대': 3691, '계모임': 3692, '스카우트': 3693, '모금': 3694, '망신': 3695, '약사': 3696, '외우다': 3697, '통쾌하다': 3698, '샤워': 3699, '마찰': 3700, '반려견': 3701, '명확하다': 3702, '전문': 3703, '상냥하다': 3704, '과실': 3705, '대수롭다': 3706, '심다': 3707, '트러블': 3708, '밟다': 3709, '연휴': 3710, '한평생': 3711, '암울하다': 3712, '한의원': 3713, '보양식': 3714, '썩': 3715, '신부전증': 3716, '언행': 3717, '허세': 3718, '원망하다': 3719, '아이고': 3720, '낯설다': 3721, '해주': 3722, '창고': 3723, '볼펜': 3724, '피우지': 3725, '년도': 3726, '가시': 3727, '악한': 3728, '애도': 3729, '감염': 3730, '잘해야': 3731, '져서': 3732, '문신': 3733, '주니': 3734, '햄버거': 3735, '프로게이머': 3736, '협심증': 3737, '자율학습': 3738, '각종': 3739, '영양': 3740, '사라': 3741, '물혹': 3742, '동영상': 3743, '수년': 3744, '장염': 3745, '경비원': 3746, '꼬박꼬박': 3747, '뱉다': 3748, '이러니까': 3749, '구석': 3750, '휘': 3751, '벌이다': 3752, '그거': 3753, '젊음': 3754, '돈벌이': 3755, '닿다': 3756, '게이트볼': 3757, '총무': 3758, '치마': 3759, '정장': 3760, '유급': 3761, '자유': 3762, '자지': 3763, '해산물': 3764, '안주': 3765, '노래방': 3766, '건네주다': 3767, '재판': 3768, '뒷전': 3769, '사신': 3770, '뿌리다': 3771, '별문제': 3772, '정밀검사': 3773, '신다': 3774, '안절부절': 3775, '턱걸이': 3776, '사이좋다': 3777, '기립': 3778, '정해지다': 3779, '모집': 3780, '데뷔': 3781, '뻐근하다': 3782, '담그다': 3783, '달도': 3784, '한탄': 3785, '위태': 3786, '원피스': 3787, '파산': 3788, '경과': 3789, '샘': 3790, '몇십': 3791, '미처': 3792, '기어': 3793, '투명인간': 3794, '선수': 3795, '캐': 3796, '금요일': 3797, '공격': 3798, '수십': 3799, '담다': 3800, '정색': 3801, '부서장': 3802, '야구': 3803, '그랬더니': 3804, '공유': 3805, '탁구': 3806, '치이다': 3807, '형수': 3808, '유난': 3809, '뇌수막염': 3810, '덩달아': 3811, '접': 3812, '장도': 3813, '미끄러지다': 3814, '원수': 3815, '무의미하다': 3816, '판이': 3817, '대꾸': 3818, '하반기': 3819, '놀이터': 3820, '싱겁다': 3821, '거란': 3822, '부터라도': 3823, '유럽': 3824, '누군지': 3825, '반년': 3826, '반지': 3827, '잔병치레': 3828, '바늘': 3829, '디자인': 3830, '올': 3831, '국내': 3832, '자로': 3833, '피드백': 3834, '산후조리원': 3835, '이대': 3836, '드라이브': 3837, '억이': 3838, '내려지다': 3839, '변호사': 3840, '정지': 3841, '운동장': 3842, '골절': 3843, '뜻': 3844, '비추다': 3845, '오진': 3846, '갇히다': 3847, '증언': 3848, '저기': 3849, '공간': 3850, '지난해': 3851, '전망': 3852, '보도': 3853, '증오': 3854, '잡기': 3855, '서두르다': 3856, '근심': 3857, '가정폭력': 3858, '불안': 3859, '대상자': 3860, '부사': 3861, '공경': 3862, '중환자실': 3863, '영영': 3864, '대학병원': 3865, '이신': 3866, '쟤': 3867, '말수': 3868, '매점': 3869, '바지': 3870, '과금': 3871, '찌르다': 3872, '감싸다': 3873, '중도': 3874, '투덜거리다': 3875, '매월': 3876, '곧바로': 3877, '실습': 3878, '필수': 3879, '논': 3880, '탕': 3881, '메일': 3882, '축가': 3883, '복귀': 3884, '들르다': 3885, '격리': 3886, '께선': 3887, '볼일': 3888, '단벌': 3889, '도우': 3890, '겨': 3891, '고급': 3892, '승무원': 3893, '원한': 3894, '쓴다': 3895, '업다': 3896, '끌리다': 3897, '방지': 3898, '크리스마스': 3899, '부린다': 3900, '생색': 3901, '제거': 3902, '분만': 3903, '잇몸': 3904, '박해': 3905, '이기도': 3906, '가나': 3907, '해드리다': 3908, '처참하다': 3909, '어느덧다': 3910, '기울이다': 3911, '놀래다': 3912, '허다': 3913, '선정': 3914, '번다': 3915, '불법': 3916, '개다': 3917, '점검': 3918, '미용실': 3919, '번듯하다': 3920, '아흔': 3921, '전담': 3922, '밀': 3923, '불리하다': 3924, '입히다': 3925, '난청': 3926, '성하다': 3927, '쫓아내다': 3928, '청춘': 3929, '봄': 3930, '가만두다': 3931, '자도': 3932, '주먹': 3933, '오기': 3934, '회계사': 3935, '엠티': 3936, '예단': 3937, '유전자': 3938, '실로': 3939, '파킨슨병': 3940, '산재': 3941, '절제': 3942, '귀촌': 3943, '미대': 3944, '구토': 3945, '면박': 3946, '관리사': 3947, '지끈': 3948, '앞서다': 3949, '허가': 3950, '권위': 3951, '안면': 3952, '오줌': 3953, '정의': 3954, '이어지다': 3955, '화내': 3956, '다양하다': 3957, '률': 3958, '솜씨': 3959, '호흡': 3960, '도우미': 3961, '정성': 3962, '흐뭇하다': 3963, '활발하다': 3964, '문턱': 3965, '부위': 3966, '재계약': 3967, '소셜': 3968, '암담하다': 3969, '주방': 3970, '설마': 3971, '넥타이': 3972, '소파': 3973, '부딪치다': 3974, '모자': 3975, '대입': 3976, '밥상': 3977, '진도': 3978, '입금': 3979, '창문': 3980, '사나': 3981, '닥치다': 3982, '규모': 3983, '무례하다': 3984, '중개인': 3985, '마취': 3986, '평일': 3987, '시험관': 3988, '촌스럽다': 3989, '실험': 3990, '운전면허': 3991, '낭비하다': 3992, '확정': 3993, '정거장': 3994, '말문': 3995, '숱': 3996, '죽이다': 3997, '소아': 3998, '가두다': 3999, '엄두': 4000, '소릴': 4001, '둔하다': 4002, '설득': 4003, '고혈압약': 4004, '경영': 4005, '려': 4006, '조정': 4007, '이래서': 4008, '크기': 4009, '계곡': 4010, '아낌없이': 4011, '공휴일': 4012, '썩다': 4013, '과잉': 4014, '고시': 4015, '땀': 4016, '순식간': 4017, '양말': 4018, '녀': 4019, '수리': 4020, '기존': 4021, '피고': 4022, '사교성': 4023, '찍히다': 4024, '붙이다': 4025, '어기다': 4026, '타령': 4027, '난대': 4028, '바람나다': 4029, '축복': 4030, '그릇': 4031, '제약': 4032, '주의자': 4033, '입맛': 4034, '방광염': 4035, '만료': 4036, '체험': 4037, '부축': 4038, '꽁초': 4039, '조차도': 4040, '매정하다': 4041, '위협': 4042, '각방': 4043, '걸치다': 4044, '식욕': 4045, '채널': 4046, '텃밭': 4047, '백세': 4048, '멸시': 4049, '실컷': 4050, '오른': 4051, '늘어지다': 4052, '종업원': 4053, '베풀다': 4054, '불치': 4055, '언짢다': 4056, '똑똑하다': 4057, '감옥': 4058, '통금': 4059, '응급': 4060, '잠그다': 4061, '테스트': 4062, '모델': 4063, '까진': 4064, '선언': 4065, '이미지': 4066, '볶다': 4067, '기일': 4068, '호들갑': 4069, '정밀': 4070, '피로하다': 4071, '무능력하다': 4072, '먹이': 4073, '주목': 4074, '임산부': 4075, '만드': 4076, '살걸': 4077, '필통': 4078, '만년': 4079, '천만다행': 4080, '핵심': 4081, '유쾌하다': 4082, '열정': 4083, '환불': 4084, '음주': 4085, '불임': 4086, '엄격하다': 4087, '병마': 4088, '그나마': 4089, '학창시절': 4090, '차고': 4091, '불량하다': 4092, '연극': 4093, '흐리다': 4094, '갑상선': 4095, '자세': 4096, '한국사': 4097, '역사': 4098, '김치': 4099, '황혼': 4100, '부고': 4101, '선글라스': 4102, '몫': 4103, '전기': 4104, '그린': 4105, '침체': 4106, '미흡하다': 4107, '띄다': 4108, '학력': 4109, '메뉴': 4110, '안남다': 4111, '투덜대다': 4112, '시기하다': 4113, '아홉': 4114, '누굴': 4115, '그땐': 4116, '인지도': 4117, '기절': 4118, '주간': 4119, '커녕': 4120, '툭툭': 4121, '전쟁': 4122, '유전': 4123, '뒹굴': 4124, '부족함': 4125, '헛살았': 4126, '시설': 4127, '편두통': 4128, '꿀': 4129, '들뜨다': 4130, '어보': 4131, '혈변': 4132, '높이다': 4133, '모범생': 4134, '자라': 4135, '마르다': 4136, '기관지': 4137, '흥청망청': 4138, '위아래': 4139, '냉전': 4140, '주년': 4141, '게시판': 4142, '빈곤': 4143, '숨쉬기': 4144, '입상': 4145, '손찌검': 4146, '심리': 4147, '경조사': 4148, '종교': 4149, '일상생활': 4150, '밀려오다': 4151, '손대다': 4152, '못자다': 4153, '초등학생': 4154, '산업': 4155, '뽀뽀': 4156, '씀씀이': 4157, '신입생': 4158, '환영': 4159, '회관': 4160, '호': 4161, '식은땀': 4162, '손바닥': 4163, '소송': 4164, '마구': 4165, '똥': 4166, '고소': 4167, '축제': 4168, '측정': 4169, '경치': 4170, '어처구니없다': 4171, '늦': 4172, '진찰': 4173, '아토피': 4174, '자극': 4175, '급성': 4176, '행운': 4177, '추워지다': 4178, '도서관': 4179, '아마도': 4180, '희생양': 4181, '승승장구': 4182, '야유회': 4183, '유부녀': 4184, '캠프': 4185, '욱해': 4186, '뚝': 4187, '툴툴거려': 4188, '야식': 4189, '쓴소리': 4190, '여든': 4191, '실례': 4192, '작은아들': 4193, '되레': 4194, '밤늦다': 4195, '등하교': 4196, '재력': 4197, '라곤': 4198, '낯가림': 4199, '적막하다': 4200, '희다': 4201, '거짓말쟁이': 4202, '얻어먹다': 4203, '파악': 4204, '본부장': 4205, '뚜렷하다': 4206, '솟다': 4207, '산소': 4208, '비실': 4209, '참가': 4210, '종이': 4211, '머물다': 4212, '팀워크': 4213, '밤새다': 4214, '정당하다': 4215, '공사': 4216, '리더': 4217, '화낼': 4218, '버는데': 4219, '공동': 4220, '둘러보다': 4221, '고지식하다': 4222, '눈빛': 4223, '헬스클럽': 4224, '신약': 4225, '차림': 4226, '은퇴식': 4227, '해대': 4228, '시아버지': 4229, '생인': 4230, '모로': 4231, '그이': 4232, '신혼부부': 4233, '찝찝하다': 4234, '불화': 4235, '지체': 4236, '없애다': 4237, '탄탄하다': 4238, '자제': 4239, '우기다': 4240, '수많다': 4241, '고령': 4242, '잡아먹다': 4243, '트림': 4244, '트': 4245, '불어': 4246, '재검': 4247, '품절': 4248, '기밀': 4249, '흉보다': 4250, '벗': 4251, '지방간': 4252, '향상': 4253, '유전병': 4254, '골목': 4255, '행성': 4256, '소질': 4257, '치아': 4258, '어디가': 4259, '노년기': 4260, '쪽방': 4261, '이상형': 4262, '상한': 4263, '복부': 4264, '에서야': 4265, '시즌': 4266, '합병': 4267, '간염': 4268, '빨래': 4269, '량': 4270, '중식': 4271, '병행': 4272, '노고': 4273, '사태': 4274, '음식물': 4275, '건성': 4276, '양치질': 4277, '조가': 4278, '안고': 4279, '간경화': 4280, '교통': 4281, '탕진': 4282, '보청기': 4283, '마자': 4284, '연락처': 4285, '결': 4286, '인센티브': 4287, '나무라다': 4288, '연령': 4289, '물품': 4290, '국': 4291, '산후': 4292, '안전하다': 4293, '죽마고우': 4294, '팔자': 4295, '사오': 4296, '뿐이다': 4297, '쭉': 4298, '뜨겁다': 4299, '노동': 4300, '착취': 4301, '짝꿍': 4302, '하락': 4303, '식다': 4304, '경쟁자': 4305, '만큼의': 4306, '소풍': 4307, '점원': 4308, '생신': 4309, '정신없이': 4310, '방안': 4311, '외국어': 4312, '대감': 4313, '낙서': 4314, '홧김': 4315, '피임': 4316, '떨어뜨리다': 4317, '그랬다고': 4318, '어쩐지': 4319, '따갑다': 4320, '혼수상태': 4321, '보채다': 4322, '극도': 4323, '멍': 4324, '자국': 4325, '유난히': 4326, '가뜩이나': 4327, '유세': 4328, '고해': 4329, '으로가': 4330, '유치하다': 4331, '용품': 4332, '반드시': 4333, '쫓다': 4334, '커플링': 4335, '알아듣다': 4336, '어떠하다': 4337, '종류': 4338, '고도': 4339, '험하다': 4340, '전셋집': 4341, '팔팔하다': 4342, '말리': 4343, '나기': 4344, '시집가다': 4345, '번만': 4346, '설사': 4347, '패혈증': 4348, '가짜': 4349, '연체': 4350, '찜질방': 4351, '감추다': 4352, '구석구석': 4353, '병가': 4354, '깜박': 4355, '나나': 4356, '극구': 4357, '고모': 4358, '실태': 4359, '살맛': 4360, '연도': 4361, '고구마': 4362, '독신': 4363, '고사하고': 4364, '대판': 4365, '덩어리': 4366, '주정': 4367, '투기': 4368, '대뜸': 4369, '딴': 4370, '다짐': 4371, '그간': 4372, '취한': 4373, '키스': 4374, '적용': 4375, '선호': 4376, '공식': 4377, '얼어붙다': 4378, '반납': 4379, '양다리': 4380, '앞서': 4381, '대응': 4382, '급전': 4383, '주치의': 4384, '이래도': 4385, '바이러스': 4386, '이며': 4387, '만두': 4388, '퍼뜨렸어': 4389, '가정부': 4390, '홍수': 4391, '힘없다': 4392, '도르다': 4393, '뒷모습': 4394, '위선': 4395, '두근거리다': 4396, '무얼': 4397, '래야': 4398, '우대': 4399, '관리자': 4400, '전념': 4401, '임시': 4402, '주거': 4403, '상환': 4404, '야구장': 4405, '횡단보도': 4406, '일기': 4407, '아픔': 4408, '졸이다': 4409, '온화하다': 4410, '오래오래': 4411, '나머지': 4412, '부적': 4413, '움큼': 4414, '정반대': 4415, '또다시': 4416, '신호': 4417, '질리다': 4418, '가치관': 4419, '왕래': 4420, '입지': 4421, '일단': 4422, '외상': 4423, '개념': 4424, '중심': 4425, '딱지': 4426, '빈손': 4427, '연하': 4428, '모욕감': 4429, '하고만': 4430, '잡일': 4431, '휴지': 4432, '피피티': 4433, '연구': 4434, '주제가': 4435, '대학가': 4436, '고비': 4437, '닫히다': 4438, '찜찜하다': 4439, '짠하다': 4440, '근사하다': 4441, '헛산': 4442, '보내오다': 4443, '의하다': 4444, '재개발': 4445, '반의': 4446, '거꾸로': 4447, '내부': 4448, '각오': 4449, '구한': 4450, '마케팅': 4451, '부진': 4452, '보신': 4453, '완벽': 4454, '덤벼': 4455, '구십': 4456, '옥상': 4457, '정신건강': 4458, '트렸': 4459, '내조': 4460, '찍기': 4461, '완료': 4462, '춤': 4463, '인신공격': 4464, '이도': 4465, '위치': 4466, '위독하다': 4467, '구질구질하다': 4468, '뇌경색': 4469, '그려지다': 4470, '칼': 4471, '일용직': 4472, '십년': 4473, '영정': 4474, '설정': 4475, '버럭': 4476, '오만': 4477, '프리랜서': 4478, '펀드매니저': 4479, '결과물': 4480, '부정맥': 4481, '칸': 4482, '일기장': 4483, '개운하다': 4484, '이주': 4485, '취득': 4486, '잔액': 4487, '펼치다': 4488, '결리다': 4489, '수석': 4490, '성인병': 4491, '낙오': 4492, '돌이': 4493, '뒷이야기': 4494, '실명': 4495, '어머님께': 4496, '꽉': 4497, '추억': 4498, '어쩌다가': 4499, '나라고': 4500, '시행': 4501, '공로': 4502, '대사': 4503, '신체검사': 4504, '뜬금없이': 4505, '낙심': 4506, '식이요법': 4507, '확률': 4508, '이군': 4509, '전의': 4510, '언쟁': 4511, '경고': 4512, '무자식': 4513, '트레이너': 4514, '양수': 4515, '인색하다': 4516, '대지': 4517, '팔리다': 4518, '일급': 4519, '두기': 4520, '강화': 4521, '맴돌다': 4522, '촉박하다': 4523, '비꼬다': 4524, '자리다': 4525, '팔지': 4526, '모질다': 4527, '무력하다': 4528, '현': 4529, '덜컥': 4530, '입양아': 4531, '나아': 4532, '그룹': 4533, '성소수자': 4534, '지능': 4535, '족구': 4536, '고령자': 4537, '중국': 4538, '캐나다': 4539, '오가다': 4540, '서슴없이': 4541, '답변': 4542, '죽지': 4543, '여행지': 4544, '멋대로': 4545, '스물': 4546, '사생활': 4547, '정신병': 4548, '힘내다': 4549, '진실': 4550, '상조': 4551, '에어컨': 4552, '틀': 4553, '제품': 4554, '극심하다': 4555, '대학입시': 4556, '영정사진': 4557, '찾기': 4558, '분통': 4559, '만하': 4560, '여겨지다': 4561, '고달프다': 4562, '전하': 4563, '대부': 4564, '프랜차이즈': 4565, '골골': 4566, '뱀술': 4567, '이니': 4568, '파업': 4569, '맞선': 4570, '엎어지다': 4571, '납골당': 4572, '부산': 4573, '동참': 4574, '계약서': 4575, '조깅': 4576, '진술': 4577, '막말': 4578, '경화': 4579, '기획서': 4580, '의논': 4581, '입사시험': 4582, '야채': 4583, '양복': 4584, '날카롭다': 4585, '석류': 4586, '취향': 4587, '힘겹다': 4588, '부조': 4589, '뇌수술': 4590, '사이트': 4591, '고정': 4592, '일요일': 4593, '곱': 4594, '선천': 4595, '로라': 4596, '오락가락': 4597, '소름': 4598, '연로': 4599, '의치': 4600, '실종': 4601, '해당': 4602, '뺑소니': 4603, '고대': 4604, '헛': 4605, '앞당기다': 4606, '복직': 4607, '양육비': 4608, '질색': 4609, '야호': 4610, '민폐': 4611, '복습': 4612, '어쩌려': 4613, '보수': 4614, '원통': 4615, '필름': 4616, '다달이': 4617, '보답': 4618, '뱃속': 4619, '밥값': 4620, '교대': 4621, '아르바이트생': 4622, '혀': 4623, '박람회': 4624, '셋': 4625, '당직': 4626, '악취': 4627, '비밀번호': 4628, '지장': 4629, '매형': 4630, '웬만하다': 4631, '숙취': 4632, '용': 4633, '삼수': 4634, '눈초리': 4635, '기형': 4636, '튼튼하다': 4637, '건의': 4638, '교차': 4639, '되돌리다': 4640, '돌변': 4641, '젠데': 4642, '발휘': 4643, '밭': 4644, '독차지': 4645, '태산': 4646, '하얘지다': 4647, '담기다': 4648, '살펴보다': 4649, '라야': 4650, '가습기': 4651, '웬': 4652, '밥맛': 4653, '찬성': 4654, '본': 4655, '영심': 4656, '어기': 4657, '품다': 4658, '위장': 4659, '불투명하다': 4660, '야뇨증': 4661, '사느랗다': 4662, '웨딩': 4663, '과로사': 4664, '씹다': 4665, '주번': 4666, '편입': 4667, '내보내다': 4668, '썩이다': 4669, '입술': 4670, '형식': 4671, '안일하다': 4672, '신제품': 4673, '짚다': 4674, '잠자다': 4675, '잠수': 4676, '지망': 4677, '싱글': 4678, '공지': 4679, '호르몬': 4680, '시원찮다': 4681, '닦다': 4682, '먹고다': 4683, '수영장': 4684, '우울': 4685, '할멈': 4686, '협력': 4687, '선명하다': 4688, '노여움': 4689, '속물': 4690, '난이': 4691, '아쉬움': 4692, '특별': 4693, '출전': 4694, '일일': 4695, '교우': 4696, '체념하다': 4697, '실업계': 4698, '거치다': 4699, '연금복권': 4700, '태우다': 4701, '사먹다': 4702, '또한': 4703, '무덤': 4704, '무좀': 4705, '파산하다': 4706, '장인': 4707, '수험': 4708, '착오': 4709, '인복': 4710, '밤낮없이': 4711, '실무': 4712, '신용카드': 4713, '이명': 4714, '박탈': 4715, '연배': 4716, '양로원': 4717, '항해': 4718, '수시로': 4719, '서방': 4720, '채식': 4721, '사도': 4722, '비정상': 4723, '괜스레': 4724, '들려오다': 4725, '던데': 4726, '화병': 4727, '움': 4728, '배경': 4729, '특기': 4730, '뛰어가다': 4731, '쌓이네': 4732, '두둑': 4733, '축의금': 4734, '설립': 4735, '악착같이': 4736, '넘어오다': 4737, '인적': 4738, '일치': 4739, '묘': 4740, '빵집': 4741, '입찰': 4742, '추태': 4743, '휴대전화': 4744, '장기로': 4745, '버느': 4746, '트로트': 4747, '아침밥': 4748, '효도': 4749, '소설': 4750, '퉁': 4751, '피아니스트': 4752, '재직': 4753, '여럿': 4754, '적령': 4755, '후기': 4756, '상실': 4757, '삐': 4758, '구분': 4759, '특정': 4760, '접대': 4761, '간수치': 4762, '과식': 4763, '점차': 4764, '복지사': 4765, '선산': 4766, '비대': 4767, '립스틱': 4768, '보유': 4769, '김씨': 4770, '재단': 4771, '언급': 4772, '우시': 4773, '번번이': 4774, '산후조리': 4775, '연고': 4776, '마늘': 4777, '남용': 4778, '에야': 4779, '수록': 4780, '도난': 4781, '지우다': 4782, '자격지심': 4783, '자상하다': 4784, '염증': 4785, '도달': 4786, '연세': 4787, '곳곳': 4788, '눈시울': 4789, '파견': 4790, '이차': 4791, '절차': 4792, '그러니까': 4793, '승진도': 4794, '무작정': 4795, '리가': 4796, '돋다': 4797, '거액': 4798, '까봐': 4799, '만해': 4800, '구경': 4801, '소꿉친구': 4802, '꼬박': 4803, '힐': 4804, '엎드리다': 4805, '시리다': 4806, '고만': 4807, '돋보기': 4808, '만취': 4809, '실천': 4810, '흔들다': 4811, '귀로': 4812, '상식': 4813, '원룸': 4814, '잔인하다': 4815, '다운': 4816, '돈독하다': 4817, '신음': 4818, '갖은': 4819, '갑작스레': 4820, '예감': 4821, '모함': 4822, '즐거움': 4823, '붙임성': 4824, '비어': 4825, '무안하다': 4826, '언론': 4827, '프로포즈': 4828, '회화': 4829, '태블릿': 4830, '고가': 4831, '시가': 4832, '높이': 4833, '말동무': 4834, '전원': 4835, '빈자리': 4836, '술잔': 4837, '확대': 4838, '여부': 4839, '낫질': 4840, '진액': 4841, '예체능': 4842, '피자': 4843, '분리': 4844, '수용': 4845, '순산': 4846, '강남': 4847, '궁핍하다': 4848, '시점': 4849, '동물': 4850, '항의': 4851, '조각': 4852, '경사': 4853, '파트너': 4854, '맞춤법': 4855, '어금니': 4856, '말고는': 4857, '나날이': 4858, '투자가': 4859, '알선': 4860, '짧아지다': 4861, '마음속': 4862, '북받치다': 4863, '놀란': 4864, '외할머니': 4865, '헤프': 4866, '민원': 4867, '무턱': 4868, '아무나': 4869, '여행가': 4870, '가정사': 4871, '세뱃돈': 4872, '빠져나오다': 4873, '산모': 4874, '아두': 4875, '영수증': 4876, '타인': 4877, '효자': 4878, '일차': 4879, '이랑은': 4880, '해명': 4881, '툴툴': 4882, '이러니': 4883, '코피': 4884, '옮': 4885, '현기증': 4886, '공항': 4887, '구월': 4888, '오십만': 4889, '집세': 4890, '패스트푸드': 4891, '부끄럼': 4892, '관념': 4893, '직위': 4894, '훈계': 4895, '마중': 4896, '애통하다': 4897, '컵라면': 4898, '유리': 4899, '교체': 4900, '특강': 4901, '계좌': 4902, '질타': 4903, '필': 4904, '너무도': 4905, '병인': 4906, '회삿돈': 4907, '떠내려가다': 4908, '못지않다': 4909, '조바심': 4910, '먹듯': 4911, '답시고': 4912, '집들이': 4913, '면허': 4914, '자원봉사': 4915, '증권사': 4916, '낮추다': 4917, '살길': 4918, '에나': 4919, '속인': 4920, '웨딩드레스': 4921, '빠듯': 4922, '구내식당': 4923, '가져다주다': 4924, '책임감': 4925, '중요성': 4926, '실업': 4927, '오류로': 4928, '변비': 4929, '활기차다': 4930, '싸늘하다': 4931, '쌓다': 4932, '달리다': 4933, '상반기': 4934, '팬': 4935, '비치다': 4936, '부당': 4937, '섬': 4938, '내력': 4939, '우수': 4940, '일반': 4941, '우유부단하다': 4942, '어지르다': 4943, '마저도': 4944, '아첨': 4945, '가장이': 4946, '엠알아': 4947, '소소하다': 4948, '단점': 4949, '면회': 4950, '놀랍다': 4951, '불의': 4952, '카네이션': 4953, '떠돌다': 4954, '에세이': 4955, '시더': 4956, '튀어나오다': 4957, '팔목': 4958, '꾸리': 4959, '구걸': 4960, '꼬리': 4961, '말걸': 4962, '안락사': 4963, '이외': 4964, '심근경색증': 4965, '시원': 4966, '순서': 4967, '웃': 4968, '티격태격': 4969, '공짜': 4970, '매다': 4971, '금일': 4972, '볼품': 4973, '마킹': 4974, '에서나': 4975, '갖추다': 4976, '치사하다': 4977, '스트레칭': 4978, '단계': 4979, '건너다': 4980, '상대평가': 4981, '어도': 4982, '왜냐면': 4983, '경영학': 4984, '사진관': 4985, '산악': 4986, '지향성': 4987, '몸조리': 4988, '지팡이': 4989, '눈물나다': 4990, '주도': 4991, '자부심': 4992, '알파벳': 4993, '깨닫다': 4994, '회의실': 4995, '폰': 4996, '따라오다': 4997, '활기': 4998, '쥐구멍': 4999, '코스': 5000, '드물다': 5001, '어긋나다': 5002, '행색': 5003, '기억나다': 5004, '버티고': 5005, '지수': 5006, '기피': 5007, '엑스레이': 5008, '겉모습': 5009, '알아차리다': 5010, '초반': 5011, '아무튼': 5012, '사우나': 5013, '똑바로': 5014, '사칭': 5015, '수수료': 5016, '치부': 5017, '쥐': 5018, '기껏': 5019, '보류': 5020, '진영': 5021, '에너지': 5022, '한없이': 5023, '대성공': 5024, '재수술': 5025, '돌잔치': 5026, '파탄': 5027, '업계': 5028, '두운': 5029, '삐뚤어지다': 5030, '두르다': 5031, '민첩하다': 5032, '골탕': 5033, '친언니': 5034, '취객': 5035, '생일도': 5036, '다그치다': 5037, '매몰': 5038, '주관': 5039, '가뿐하다': 5040, '골인': 5041, '시큰거리다': 5042, '잖다': 5043, '상팔자': 5044, '근교': 5045, '슈퍼마켓': 5046, '애기': 5047, '지점': 5048, '부임': 5049, '사하다': 5050, '서술': 5051, '안지': 5052, '술병': 5053, '금반지': 5054, '에서조차': 5055, '난폭하다': 5056, '원장': 5057, '나약하다': 5058, '운동화': 5059, '허우적거리다': 5060, '호소': 5061, '초년': 5062, '토요일': 5063, '상금': 5064, '삭제': 5065, '전액': 5066, '감독': 5067, '여한': 5068, '발주': 5069, '모호하다': 5070, '미납': 5071, '시급하다': 5072, '성심': 5073, '성의껏': 5074, '유언': 5075, '이성애자': 5076, '구먼': 5077, '율': 5078, '금도': 5079, '향수': 5080, '따름': 5081, '찜질': 5082, '옆구리': 5083, '금식': 5084, '용지': 5085, '제압': 5086, '장기간': 5087, '채도': 5088, '사내연애': 5089, '매수': 5090, '풍': 5091, '웬일': 5092, '학예회': 5093, '도자기': 5094, '비관': 5095, '아들내미': 5096, '범죄자': 5097, '친화력': 5098, '가누다': 5099, '여유도': 5100, '막심': 5101, '더럽히다': 5102, '성전환수술': 5103, '미경': 5104, '미용': 5105, '떤다': 5106, '길고양이': 5107, '빨': 5108, '신용등급': 5109, '삐끗': 5110, '막무가내': 5111, '가구': 5112, '뇌사': 5113, '게다가': 5114, '매입': 5115, '무대': 5116, '치면': 5117, '손발': 5118, '한시': 5119, '빠뜨리다': 5120, '수저': 5121, '플레이': 5122, '고깃집': 5123, '마당': 5124, '독하다': 5125, '장마': 5126, '척추': 5127, '달마': 5128, '새내기': 5129, '익명': 5130, '짜증스럽다': 5131, '노인성': 5132, '세라': 5133, '재정난': 5134, '칭얼대다': 5135, '아려': 5136, '만들어지다': 5137, '분주하다': 5138, '평': 5139, '양육': 5140, '저염식': 5141, '의외로': 5142, '괴물': 5143, '교묘하다': 5144, '신분': 5145, '상승': 5146, '윗사람': 5147, '얹혀살다': 5148, '만끽': 5149, '해둘걸': 5150, '독단': 5151, '천하태평': 5152, '타일러': 5153, '빛': 5154, '모진': 5155, '시내': 5156, '의학': 5157, '잉여': 5158, '빈약하다': 5159, '혐의': 5160, '대도': 5161, '청년회': 5162, '여물': 5163, '허위': 5164, '검증': 5165, '들락날락': 5166, '한창때': 5167, '특근': 5168, '양반': 5169, '트랜스젠더': 5170, '친자': 5171, '가든': 5172, '삭막하다': 5173, '기안': 5174, '임원진': 5175, '아인': 5176, '피크': 5177, '늦추다': 5178, '곧장': 5179, '바이어': 5180, '기재': 5181, '앞가림': 5182, '예절': 5183, '재수생': 5184, '도로': 5185, '큰소리치다': 5186, '어쩌': 5187, '고개': 5188, '말고도': 5189, '뒤치다꺼리': 5190, '만류': 5191, '목걸이': 5192, '동문': 5193, '얕다': 5194, '달라붙다': 5195, '주체': 5196, '빙판': 5197, '으로서': 5198, '잉꼬': 5199, '과음': 5200, '사물함': 5201, '궁리': 5202, '출세': 5203, '예방주사': 5204, '오시': 5205, '지옥': 5206, '요점': 5207, '패키지': 5208, '가래': 5209, '일어난다': 5210, '오리엔테이션': 5211, '노화': 5212, '종': 5213, '나물': 5214, '취약점': 5215, '패턴': 5216, '고약하다': 5217, '어처구니': 5218, '여덟': 5219, '깊이': 5220, '인큐베이터': 5221, '게이': 5222, '훈수': 5223, '팽': 5224, '제만': 5225, '측': 5226, '회피': 5227, '피시방': 5228, '싹싹하다': 5229, '사인': 5230, '지난날': 5231, '뇌척수막': 5232, '발음': 5233, '번창': 5234, '전만': 5235, '승급': 5236, '검소': 5237, '안정감': 5238, '주변인': 5239, '붓다': 5240, '수명': 5241, '장점': 5242, '사경': 5243, '헤매다': 5244, '양심': 5245, '통지서': 5246, '드러내다': 5247, '빈곤하다': 5248, '계층': 5249, '수단': 5250, '이사해': 5251, '구심': 5252, '신중하다': 5253, '들러붙다': 5254, '거처': 5255, '인터뷰': 5256, '툴툴거렸어': 5257, '풍경': 5258, '헛구역질': 5259, '이뤄지다': 5260, '성장': 5261, '저렴하다': 5262, '노숙자': 5263, '맛집': 5264, '총': 5265, '알츠하이머': 5266, '정착': 5267, '어젠': 5268, '십견': 5269, '염치': 5270, '혈액암': 5271, '심장질환': 5272, '작업복': 5273, '원도': 5274, '요리사': 5275, '설치다': 5276, '실행': 5277, '이나마': 5278, '단정': 5279, '슬그머니': 5280, '보건소': 5281, '머뭇거리다': 5282, '부터가': 5283, '에서부터': 5284, '부추기다': 5285, '증진': 5286, '전립선': 5287, '험악하다': 5288, '입상하다': 5289, '비명': 5290, '나다니다': 5291, '밖에도': 5292, '올케': 5293, '우려': 5294, '금지': 5295, '설날': 5296, '챙': 5297, '대리점': 5298, '철렁': 5299, '칠판': 5300, '풍요': 5301, '부진하다': 5302, '충실하다': 5303, '한국어': 5304, '비웃음': 5305, '단속': 5306, '가중': 5307, '일주년': 5308, '우리엄마': 5309, '인문': 5310, '랍시고': 5311, '전시': 5312, '계란': 5313, '역정': 5314, '끊어지다': 5315, '워킹맘': 5316, '병중': 5317, '흥이': 5318, '현황': 5319, '아이폰': 5320, '박대': 5321, '살피다': 5322, '볼걸': 5323, '말년': 5324, '노부': 5325, '부가': 5326, '필요성': 5327, '부드럽다': 5328, '환상': 5329, '가증': 5330, '막대': 5331, '금제': 5332, '감상': 5333, '분장': 5334, '일박': 5335, '팍팍하다': 5336, '출석': 5337, '실손': 5338, '찍': 5339, '약초': 5340, '사보다': 5341, '결산': 5342, '때우다': 5343, '구멍': 5344, '잡곡': 5345, '얇다': 5346, '인재': 5347, '청력': 5348, '불쑥': 5349, '돌연': 5350, '간부': 5351, '귀지': 5352, '우산': 5353, '빠져나가다': 5354, '뒷받침': 5355, '나인': 5356, '프로': 5357, '교환': 5358, '백일': 5359, '변명': 5360, '이력': 5361, '덤벙대다': 5362, '기와': 5363, '어가': 5364, '넘어뜨리다': 5365, '박사': 5366, '미식': 5367, '타고나다': 5368, '어수선하다': 5369, '석차': 5370, '튀다': 5371, '가하다': 5372, '과체중': 5373, '헐뜯다': 5374, '용법': 5375, '낙인': 5376, '구제': 5377, '불능': 5378, '이장님': 5379, '러더': 5380, '어리석다': 5381, '질서': 5382, '결혼반지': 5383, '처우': 5384, '나이라': 5385, '운동회': 5386, '꼴찌': 5387, '봉사활동': 5388, '수군대다': 5389, '뚜껑': 5390, '매니저': 5391, '추구': 5392, '김부': 5393, '장모': 5394, '호통': 5395, '가주': 5396, '숭숭': 5397, '엄': 5398, '화기': 5399, '헛살': 5400, '꾼': 5401, '결석': 5402, '연명': 5403, '산악회': 5404, '에라도': 5405, '감흥': 5406, '의존': 5407, '주무르다': 5408, '대인기피증': 5409, '기승': 5410, '스치다': 5411, '수련': 5412, '사시': 5413, '울컥': 5414, '적절하다': 5415, '십억': 5416, '마찬가지': 5417, '성폭행': 5418, '수감': 5419, '갑상샘': 5420, '공책': 5421, '진땀': 5422, '파손': 5423, '중요': 5424, '음반': 5425, '세미나': 5426, '선생': 5427, '간경변': 5428, '여건': 5429, '대의': 5430, '글씨': 5431, '트릴': 5432, '일정하다': 5433, '근래': 5434, '수집': 5435, '키도': 5436, '두드리다': 5437, '환갑잔치': 5438, '초췌하다': 5439, '반성': 5440, '후두': 5441, '조상': 5442, '이빨': 5443, '반도': 5444, '넓어지다': 5445, '술김': 5446, '증인': 5447, '기반': 5448, '개학': 5449, '오신': 5450, '통째': 5451, '신선하다': 5452, '엄하': 5453, '버섯': 5454, '부로': 5455, '체형': 5456, '한턱': 5457, '배제': 5458, '재산세': 5459, '가스': 5460, '둥': 5461, '메': 5462, '본의': 5463, '과학': 5464, '성품': 5465, '형성': 5466, '구단': 5467, '두드러기': 5468, '외톨': 5469, '양쪽': 5470, '꺼지다': 5471, '재작년': 5472, '오르내리다': 5473, '생활고': 5474, '합리': 5475, '감수': 5476, '면역': 5477, '뜨개질': 5478, '앞장서다': 5479, '문의': 5480, '삼십만': 5481, '구인': 5482, '그제야': 5483, '제기': 5484, '서면': 5485, '야속하다': 5486, '동창생': 5487, '아웃': 5488, '식후': 5489, '출산율': 5490, '유통': 5491, '갑질': 5492, '앞당겨지다': 5493, '코골': 5494, '운용': 5495, '혈액형': 5496, '캄캄해지다': 5497, '행패': 5498, '유복하다': 5499, '곱다': 5500, '분투': 5501, '검다': 5502, '사두': 5503, '공백기': 5504, '헛웃음': 5505, '갓난아기': 5506, '졸리다': 5507, '번은': 5508, '설문지': 5509, '회사원': 5510, '궤양': 5511, '여가': 5512, '누리다': 5513, '사유': 5514, '킬로그램': 5515, '산행': 5516, '추진': 5517, '소속사': 5518, '마려워': 5519, '화끈': 5520, '전근': 5521, '첫사랑': 5522, '셈': 5523, '앱': 5524, '비속어': 5525, '혈육': 5526, '피시': 5527, '계발': 5528, '억지': 5529, '섹스': 5530, '빵점': 5531, '쓸데없이': 5532, '쫄쫄': 5533, '삿': 5534, '복학생': 5535, '정신병원': 5536, '협조': 5537, '신부': 5538, '드레스': 5539, '이래저래': 5540, '직후': 5541, '대중': 5542, '부녀': 5543, '엇': 5544, '올려놓다': 5545, '돌연사': 5546, '공금': 5547, '너그럽다': 5548, '다지': 5549, '전교생': 5550, '가라앉히다': 5551, '테이블': 5552, '반지하': 5553, '신부전': 5554, '계정': 5555, '위안': 5556, '패딩': 5557, '남매': 5558, '공공': 5559, '수평': 5560, '의사소통': 5561, '재롱': 5562, '일어서다': 5563, '비정규직': 5564, '가족사진': 5565, '외톨이야': 5566, '진통': 5567, '비직': 5568, '싱숭생숭하다': 5569, '생일상': 5570, '건축': 5571, '속옷': 5572, '끝내기': 5573, '물리': 5574, '숙이다': 5575, '일본': 5576, '쫓아오다': 5577, '하굣길': 5578, '쌩쌩하다': 5579, '스럽지': 5580, '견': 5581, '행실': 5582, '대립': 5583, '진창': 5584, '덕이': 5585, '명예롭': 5586, '빨다': 5587, '나대다': 5588, '처녀': 5589, '달걀': 5590, '약재': 5591, '싱글벙글': 5592, '산골': 5593, '커리어': 5594, '노조': 5595, '일터': 5596, '묵살': 5597, '별도': 5598, '전선': 5599, '당기다': 5600, '엎': 5601, '애매하다': 5602, '익사': 5603, '고스': 5604, '부풀다': 5605, '국물': 5606, '신가': 5607, '춤추다': 5608, '춥다': 5609, '로비': 5610, '복통': 5611, '애사': 5612, '개수': 5613, '뀌었어': 5614, '동조': 5615, '삼백만': 5616, '갈아입다': 5617, '기록': 5618, '귀국': 5619, '유': 5620, '발병': 5621, '진전': 5622, '독박': 5623, '불경기': 5624, '숫자': 5625, '왼쪽': 5626, '백신': 5627, '오로지': 5628, '계열': 5629, '연기자': 5630, '이마': 5631, '양호': 5632, '월급쟁이': 5633, '주무시다': 5634, '흑자': 5635, '좌천': 5636, '지표': 5637, '통풍': 5638, '빌라': 5639, '염좌': 5640, '재건축': 5641, '사십': 5642, '친분': 5643, '수나': 5644, '안기다': 5645, '이서': 5646, '명과': 5647, '그저께': 5648, '파리': 5649, '넋': 5650, '스승': 5651, '사진작가': 5652, '물놀이': 5653, '자해': 5654, '나날': 5655, '두텁다': 5656, '살찐': 5657, '구성': 5658, '둘걸': 5659, '상대로': 5660, '특성': 5661, '따끔하다': 5662, '약도': 5663, '지원이': 5664, '부품': 5665, '성대': 5666, '혹사': 5667, '다음주': 5668, '문구점': 5669, '곰팡이': 5670, '즉석식품': 5671, '나른하다': 5672, '점잖다': 5673, '가해': 5674, '관광': 5675, '생리대': 5676, '운동선수': 5677, '잘나오다': 5678, '합류': 5679, '취할': 5680, '당번': 5681, '곤두박질': 5682, '창작': 5683, '주로': 5684, '환승': 5685, '조문': 5686, '신물': 5687, '장인어른': 5688, '혈관': 5689, '환절기': 5690, '호실': 5691, '허덕이다': 5692, '치솟다': 5693, '변변찮': 5694, '하반신': 5695, '가가': 5696, '바가지': 5697, '용도': 5698, '텅텅': 5699, '자네': 5700, '지진': 5701, '호강': 5702, '파스': 5703, '물질': 5704, '할인': 5705, '켜': 5706, '매너': 5707, '흔적': 5708, '서운해하다': 5709, '매장': 5710, '등반': 5711, '분양': 5712, '무관심': 5713, '우정': 5714, '적립': 5715, '한소리': 5716, '팔씨름': 5717, '쩝쩝': 5718, '영화배우': 5719, '제사': 5720, '제법': 5721, '호출': 5722, '깨뜨리다': 5723, '외딴': 5724, '절단': 5725, '악성종양': 5726, '소속': 5727, '배탈': 5728, '비운': 5729, '밥풀': 5730, '열두': 5731, '뒷산': 5732, '경제활동': 5733, '숙소': 5734, '확진': 5735, '근거': 5736, '데이터': 5737, '집단': 5738, '둘러대다': 5739, '평범하다': 5740, '융통성': 5741, '중매': 5742, '자동': 5743, '평화롭다': 5744, '무게': 5745, '농촌': 5746, '염색': 5747, '회식비': 5748, '문학': 5749, '토라': 5750, '조율': 5751, '화요일': 5752, '사주지': 5753, '감량': 5754, '병환': 5755, '캐비닛': 5756, '상주': 5757, '퍼': 5758, '클래스': 5759, '뒷돈': 5760, '예습': 5761, '감회': 5762, '좁히다': 5763, '분량': 5764, '마침': 5765, '잘되지': 5766, '생명보험': 5767, '어저께': 5768, '골프장': 5769, '에스컬레이터': 5770, '곤혹': 5771, '갑상선암': 5772, '불확실하다': 5773, '업주': 5774, '고교': 5775, '입어보다': 5776, '참고서': 5777, '일어': 5778, '단호': 5779, '저녁때': 5780, '연초': 5781, '매뉴얼': 5782, '다독이다': 5783, '소수자': 5784, '시청': 5785, '뇌리': 5786, '거뜬하다': 5787, '스': 5788, '예술': 5789, '보직변경': 5790, '치매증': 5791, '청각': 5792, '우물쭈물': 5793, '글렀어': 5794, '원만': 5795, '띵하다': 5796, '소주': 5797, '세트': 5798, '틱장애': 5799, '임용': 5800, '활짝': 5801, '눈뜨다': 5802, '유도': 5803, '예방접종': 5804, '증가': 5805, '싹': 5806, '사법고시': 5807, '호프': 5808, '실효': 5809, '살얼음': 5810, '다크서클': 5811, '버냐': 5812, '사이클': 5813, '측은하다': 5814, '스마트': 5815, '올가미': 5816, '핑': 5817, '저리': 5818, '냉정하다': 5819, '변심': 5820, '전생': 5821, '마녀사냥': 5822, '최고다': 5823, '대야': 5824, '관문': 5825, '꼴등일': 5826, '변치': 5827, '이메일': 5828, '발송': 5829, '떨떠름하다': 5830, '가정은': 5831, '올림피아드': 5832, '헛되': 5833, '구로': 5834, '최대': 5835, '리모컨': 5836, '작전': 5837, '세력': 5838, '수지': 5839, '특이하다': 5840, '벌칙': 5841, '현미': 5842, '만행': 5843, '연일': 5844, '능숙하다': 5845, '장터': 5846, '으쓱': 5847, '부숴': 5848, '싸구려': 5849, '항심': 5850, '대학교수': 5851, '스카이': 5852, '발등': 5853, '이송': 5854, '급사': 5855, '금수': 5856, '무지': 5857, '홀': 5858, '실물': 5859, '해변': 5860, '객': 5861, '진즉': 5862, '피부색': 5863, '지름길': 5864, '예시': 5865, '모유': 5866, '입학식': 5867, '주책': 5868, '식판': 5869, '새총': 5870, '눈가': 5871, '들들': 5872, '여름방학': 5873, '과시': 5874, '숫기': 5875, '꼬치꼬치': 5876, '시말서': 5877, '리포트': 5878, '다소': 5879, '위조품': 5880, '합창': 5881, '둘리': 5882, '특목고': 5883, '층간소음': 5884, '휴게소': 5885, '모바일': 5886, '육체': 5887, '볶음': 5888, '아비': 5889, '삼백': 5890, '정황': 5891, '재학': 5892, '골프채': 5893, '비겁하다': 5894, '괴팍하다': 5895, '플': 5896, '샌드위치': 5897, '기독교': 5898, '포교': 5899, '옹알': 5900, '잡혀가다': 5901, '뀌': 5902, '대머리': 5903, '도장': 5904, '생애': 5905, '모범': 5906, '앙상하다': 5907, '양일': 5908, '멎다': 5909, '노출': 5910, '본사': 5911, '중요시': 5912, '오피스텔': 5913, '관리인': 5914, '보일러': 5915, '검정': 5916, '소집': 5917, '정수기': 5918, '더군다나': 5919, '도덕': 5920, '떠밀다': 5921, '하기는': 5922, '법원': 5923, '프로야구': 5924, '수백': 5925, '아랑곳': 5926, '바라지': 5927, '달팽이관': 5928, '수빈': 5929, '지안': 5930, '명상': 5931, '생존': 5932, '사들이다': 5933, '공평하다': 5934, '우승팀': 5935, '등지': 5936, '클레': 5937, '맑다': 5938, '뿌리치다': 5939, '힐끔힐끔': 5940, '뱀': 5941, '프린트': 5942, '기선': 5943, '조르지': 5944, '터뜨리다': 5945, '툴툴거린': 5946, '작은딸': 5947, '서먹서먹하다': 5948, '부케': 5949, '거렸더': 5950, '제공': 5951, '감원': 5952, '고용주': 5953, '햇살': 5954, '회수': 5955, '로움': 5956, '작업장': 5957, '더미': 5958, '대로는': 5959, '성전환': 5960, '뜻밖': 5961, '자처': 5962, '우애': 5963, '일가': 5964, '분기': 5965, '편집장': 5966, '엑셀': 5967, '토지': 5968, '도구로': 5969, '한껏': 5970, '컨설팅': 5971, '흉측하다': 5972, '주연': 5973, '오락': 5974, '바다로': 5975, '폭풍우': 5976, '혈액': 5977, '축축하다': 5978, '토로': 5979, '본받다': 5980, '실버': 5981, '타운': 5982, '오죽하다': 5983, '국가고시': 5984, '정식': 5985, '도주': 5986, '쇠퇴하다': 5987, '방사선': 5988, '몰골': 5989, '과묵': 5990, '내뱉다': 5991, '뽐내다': 5992, '옷맵시': 5993, '자반': 5994, '딸리다': 5995, '불리다': 5996, '중증': 5997, '개도': 5998, '허구': 5999, '종료': 6000, '출처': 6001, '성분': 6002, '오백': 6003, '대화방': 6004, '곤경': 6005, '빠트렸어': 6006, '재킷': 6007, '맥': 6008, '더치페이': 6009, '직성': 6010, '강조': 6011, '수술대': 6012, '노심초사': 6013, '번복': 6014, '대우받다': 6015, '시니어': 6016, '안전': 6017, '골짜기': 6018, '사면': 6019, '잡지': 6020, '돈다': 6021, '사후': 6022, '무효': 6023, '학': 6024, '음란물': 6025, '운영자': 6026, '평화': 6027, '킬로': 6028, '체지방': 6029, '마': 6030, '조처': 6031, '대치': 6032, '시피': 6033, '접종': 6034, '발달': 6035, '사납다': 6036, '어중간하다': 6037, '경기도': 6038, '근로': 6039, '장학생': 6040, '동고동락': 6041, '학우': 6042, '녹즙': 6043, '시샘': 6044, '용이': 6045, '인기척': 6046, '제보': 6047, '욕먹다': 6048, '지코': 6049, '살인': 6050, '프린터': 6051, '출력': 6052, '공로상': 6053, '화면': 6054, '애꿎': 6055, '이루': 6056, '보조금': 6057, '모회사': 6058, '사연': 6059, '창': 6060, '섬유': 6061, '용접': 6062, '생선': 6063, '항암제': 6064, '자원': 6065, '온천': 6066, '결핍': 6067, '사직': 6068, '상습': 6069, '엄한데': 6070, '안위': 6071, '도용': 6072, '민지': 6073, '팔십': 6074, '헛된': 6075, '일학년': 6076, '돌발': 6077, '순인': 6078, '무릎관절': 6079, '저주': 6080, '아랫사람': 6081, '극진하다': 6082, '붕대': 6083, '척해': 6084, '개천': 6085, '자각': 6086, '할당': 6087, '해마다': 6088, '선선해지다': 6089, '박스': 6090, '교외': 6091, '타격': 6092, '누런': 6093, '더욱더': 6094, '비율': 6095, '쿵쿵': 6096, '골목길': 6097, '갈라지다': 6098, '빈곤층': 6099, '멈칫': 6100, '자기계발': 6101, '대졸': 6102, '유물': 6103, '짐짝': 6104, '기여': 6105, '어지럼증': 6106, '지네': 6107, '매진': 6108, '한글': 6109, '깨우치다': 6110, '즘': 6111, '팔다리': 6112, '흡족하다': 6113, '라인': 6114, '난건': 6115, '생전': 6116, '부적절하다': 6117, '자가': 6118, '되돌아보다': 6119, '낙찰': 6120, '한단': 6121, '어눌하다': 6122, '각각': 6123, '나들이': 6124, '사이만': 6125, '한바탕': 6126, '성찬': 6127, '패': 6128, '피부병': 6129, '꾹': 6130, '태교': 6131, '차비': 6132, '도덕성': 6133, '눈곱': 6134, '만큼도': 6135, '실업자': 6136, '타깃': 6137, '근육통': 6138, '다한': 6139, '탑승': 6140, '본격': 6141, '검색': 6142, '쏟아내다': 6143, '만화책': 6144, '조종사': 6145, '항공': 6146, '반토막': 6147, '쇼': 6148, '윈도': 6149, '자사고': 6150, '외동딸': 6151, '프로도': 6152, '비결': 6153, '갈수': 6154, '진솔하다': 6155, '마마': 6156, '왜인': 6157, '놨는': 6158, '입김': 6159, '추악하다': 6160, '알콩달콩': 6161, '댄스': 6162, '고단': 6163, '섣불리': 6164, '벌떡': 6165, '심성': 6166, '지하': 6167, '울음소리': 6168, '사탕': 6169, '가격표': 6170, '창밖': 6171, '동행': 6172, '밴드': 6173, '어마어마하다': 6174, '치주염': 6175, '비로소': 6176, '쏠리다': 6177, '안식처': 6178, '저녁식사': 6179, '휴게실': 6180, '합심': 6181, '역류성': 6182, '식도염': 6183, '이맘때': 6184, '철회': 6185, '병명': 6186, '일절': 6187, '디자이너': 6188, '도둑질': 6189, '품질': 6190, '앤': 6191, '현상': 6192, '딱딱하다': 6193, '서프라이즈': 6194, '정규': 6195, '스포츠': 6196, '소방관': 6197, '전신': 6198, '약과': 6199, '멘토': 6200, '페이': 6201, '부질': 6202, '세대차이': 6203, '정당방위': 6204, '전화기': 6205, '남루하다': 6206, '발짝': 6207, '중퇴': 6208, '공연': 6209, '스팸': 6210, '쾌적하다': 6211, '피부염': 6212, '내다보다': 6213, '아파해': 6214, '탁': 6215, '지독하다': 6216, '가엾다': 6217, '편의': 6218, '울화통': 6219, '떡볶이': 6220, '트렌드': 6221, '까지의': 6222, '간지': 6223, '급작': 6224, '옮을까': 6225, '보나': 6226, '훌쩍': 6227, '고역': 6228, '선약': 6229, '이에요': 6230, '위도': 6231, '히터': 6232, '까탈': 6233, '최소': 6234, '글자': 6235, '엿': 6236, '차라': 6237, '조이다': 6238, '뒷골목': 6239, '인격': 6240, '이일': 6241, '얻어맞다': 6242, '궁상맞다': 6243, '반쪽': 6244, '근절': 6245, '구시대': 6246, '혼인신고': 6247, '격해지다': 6248, '이의': 6249, '예외': 6250, '안하무인': 6251, '거더': 6252, '분가': 6253, '자격': 6254, '제목': 6255, '게이머': 6256, '지대': 6257, '허비하다': 6258, '차오르다': 6259, '농사일': 6260, '이용만': 6261, '얼떨떨하다': 6262, '은혜': 6263, '자동화': 6264, '여러가지': 6265, '주요': 6266, '조작': 6267, '꺾다': 6268, '핸드백': 6269, '성교육': 6270, '웃기': 6271, '이해력': 6272, '교장': 6273, '친밀하다': 6274, '고갈': 6275, '환우': 6276, '찬밥': 6277, '집요하다': 6278, '침묵': 6279, '흙': 6280, '분할': 6281, '대학원생': 6282, '초래': 6283, '레스토랑': 6284, '인테리어': 6285, '짖다': 6286, '규제': 6287, '편일': 6288, '친근하다': 6289, '구타': 6290, '금메달': 6291, '응모': 6292, '큰아버지': 6293, '왕성': 6294, '개봉': 6295, '이러하다': 6296, '한강': 6297, '이득': 6298, '옷가게': 6299, '두껍다': 6300, '주재': 6301, '이동해': 6302, '주최': 6303, '내달': 6304, '어지러움': 6305, '모조리': 6306, '화상': 6307, '놨어': 6308, '화난': 6309, '캠퍼스': 6310, '응': 6311, '위조': 6312, '나돌다': 6313, '일곱': 6314, '고삼': 6315, '공중화장실': 6316, '고래': 6317, '봉양': 6318, '줄줄이': 6319, '월말': 6320, '죗값': 6321, '태희': 6322, '천재': 6323, '코웃음': 6324, '목욕': 6325, '헤드헌터': 6326, '논리': 6327, '애애': 6328, '조울증': 6329, '단독': 6330, '걸레': 6331, '베이비': 6332, '인수합병': 6333, '뛰어오다': 6334, '어째': 6335, '바르게': 6336, '공과': 6337, '옆방': 6338, '갈비': 6339, '헤어': 6340, '부여': 6341, '배역': 6342, '환호': 6343, '쫄딱': 6344, '맨': 6345, '경운기': 6346, '자매': 6347, '만만': 6348, '지소': 6349, '커뮤니티': 6350, '옥': 6351, '평상시': 6352, '소금': 6353, '빅히트': 6354, '방탄': 6355, '소년단': 6356, '투명': 6357, '지정': 6358, '와이셔츠': 6359, '서슴지': 6360, '칠하다': 6361, '짓궂다': 6362, '서기': 6363, '연주': 6364, '야자': 6365, '메꿀': 6366, '패거리': 6367, '굴지': 6368, '다수': 6369, '송년회': 6370, '경품': 6371, '불완전': 6372, '쌈짓돈': 6373, '뛰어놀다': 6374, '치수': 6375, '달랑': 6376, '툴툴거리': 6377, '발리': 6378, '여보': 6379, '얌전하다': 6380, '자립하다': 6381, '미숙': 6382, '자자하다': 6383, '덧': 6384, '냉랭하다': 6385, '명함': 6386, '새삼': 6387, '누더기': 6388, '격식': 6389, '주인공': 6390, '인구': 6391, '첫인상': 6392, '용어': 6393, '개미': 6394, '남고': 6395, '금세': 6396, '코치': 6397, '해나': 6398, '분란': 6399, '유동': 6400, '해달': 6401, '소매치기': 6402, '까칠하다': 6403, '한눈': 6404, '굳기': 6405, '파토': 6406, '발걸음': 6407, '밝아지다': 6408, '사고방식': 6409, '말벗': 6410, '경영인': 6411, '별걱정': 6412, '꽂다': 6413, '효능': 6414, '먼지': 6415, '민감하다': 6416, '마르고': 6417, '대면': 6418, '블로그': 6419, '참신하다': 6420, '플러스': 6421, '더위': 6422, '물속': 6423, '향후': 6424, '끈질기다': 6425, '공황장애': 6426, '늘그막': 6427, '식도암': 6428, '꾀다': 6429, '부패': 6430, '고기만': 6431, '쪼들리다': 6432, '당해': 6433, '얽매': 6434, '음악가': 6435, '알콜': 6436, '사주면': 6437, '허벅지': 6438, '일억이': 6439, '털': 6440, '인물': 6441, '오피스': 6442, '표시': 6443, '천국': 6444, '소아마비': 6445, '쩔뚝': 6446, '넌': 6447, '부풀리다': 6448, '가득': 6449, '보미': 6450, '활용': 6451, '아웃백': 6452, '문중': 6453, '확답': 6454, '일거수일투족': 6455, '술버릇': 6456, '관람': 6457, '시급': 6458, '불이익': 6459, '새하얘지다': 6460, '쏠쏠하다': 6461, '아우': 6462, '부하라': 6463, '및': 6464, '팔찌': 6465, '착용': 6466, '수만': 6467, '열사': 6468, '인감도장': 6469, '화환': 6470, '감사패': 6471, '도입': 6472, '운동복': 6473, '끈': 6474, '민철': 6475, '답지': 6476, '공통': 6477, '장담': 6478, '상향': 6479, '미심': 6480, '쩍': 6481, '시원섭섭하다': 6482, '강인하다': 6483, '명인': 6484, '단풍': 6485, '영웅': 6486, '감돌다': 6487, '사나워지다': 6488, '제라': 6489, '조로': 6490, '청소부': 6491, '끙끙대다': 6492, '셋째': 6493, '정전': 6494, '청소기': 6495, '귓등': 6496, '소화도': 6497, '위장병': 6498, '얼': 6499, '술값': 6500, '폐경기': 6501, '컨닝': 6502, '중재': 6503, '혼전': 6504, '재수없다': 6505, '년차': 6506, '무서움': 6507, '의무': 6508, '댓글': 6509, '조짐': 6510, '따오다': 6511, '방광암': 6512, '제아': 6513, '자판기': 6514, '잠자리': 6515, '빠져들다': 6516, '네로': 6517, '세운': 6518, '랄': 6519, '손재주': 6520, '무식하다': 6521, '우쭐대다': 6522, '알츠하이머병': 6523, '비법': 6524, '속지': 6525, '자율': 6526, '성의': 6527, '발가락': 6528, '궁': 6529, '습득': 6530, '한국말': 6531, '곤욕': 6532, '하루빨리': 6533, '해둘': 6534, '앞길': 6535, '자연스럽다': 6536, '찌들다': 6537, '저절로': 6538, '피라미드': 6539, '유입': 6540, '복장': 6541, '에서까지': 6542, '팔짱': 6543, '금실': 6544, '히스테리': 6545, '페이퍼': 6546, '단지': 6547, '얼다': 6548, '대외': 6549, '고시원': 6550, '다녀가다': 6551, '막바지': 6552, '명퇴': 6553, '한도': 6554, '협회': 6555, '연결': 6556, '실속': 6557, '미영': 6558, '도모': 6559, '이바지': 6560, '밀가루': 6561, '오늘내일': 6562, '잊혀지다': 6563, '사래': 6564, '아비규환': 6565, '자궁경부암': 6566, '장애인': 6567, '푼돈': 6568, '공단': 6569, '호언': 6570, '담하다': 6571, '냉담하다': 6572, '고함': 6573, '표창장': 6574, '작동': 6575, '봉사자': 6576, '주식시장': 6577, '동일하다': 6578, '떼이다': 6579, '상습범': 6580, '맞장구': 6581, '살수': 6582, '록': 6583, '솔로인': 6584, '심술': 6585, '헤치다': 6586, '잡무': 6587, '모멸': 6588, '정형외과': 6589, '통합': 6590, '식비': 6591, '석사': 6592, '녹초': 6593, '지퍼': 6594, '진저리': 6595, '초음파': 6596, '사전': 6597, '가만': 6598, '시신': 6599, '계시': 6600, '설교': 6601, '붙들다': 6602, '보직': 6603, '근소': 6604, '생으로': 6605, '여자아이': 6606, '정해진': 6607, '등진': 6608, '승소': 6609, '홍보': 6610, '임대료': 6611, '안색': 6612, '인사말': 6613, '스트레': 6614, '틀어놓다': 6615, '명목': 6616, '경제권': 6617, '살더': 6618, '컵': 6619, '다혈질': 6620, '관심사': 6621, '편협': 6622, '탈퇴': 6623, '판사': 6624, '막차': 6625, '고려': 6626, '두근두근': 6627, '첨부': 6628, '왕': 6629, '시금': 6630, '인공수정': 6631, '절뚝': 6632, '소서': 6633, '잠기다': 6634, '불참': 6635, '위생': 6636, '전무': 6637, '포토샵': 6638, '복사기': 6639, '약혼': 6640, '뛰어들다': 6641, '현수막': 6642, '그중': 6643, '한구석': 6644, '용종': 6645, '생소하다': 6646, '천성': 6647, '약관': 6648, '리도': 6649, '산만하다': 6650, '영구': 6651, '편안함': 6652, '노예': 6653, '금주': 6654, '은행원': 6655, '피나': 6656, '뷔페': 6657, '쇼크': 6658, '중이염': 6659, '위주': 6660, '어린이집': 6661, '풍기다': 6662, '공직': 6663, '약혼자': 6664, '탁하다': 6665, '로봇': 6666, '장치': 6667, '혼미하다': 6668, '오래도록': 6669, '갈구다': 6670, '매매': 6671, '비뇨기': 6672, '무지하다': 6673, '쟁이': 6674, '태권도': 6675, '우스꽝스럽다': 6676, '벌벌': 6677, '막연하다': 6678, '깜깜무소식': 6679, '삿대질': 6680, '주차장': 6681, '점도': 6682, '행위': 6683, '자금난': 6684, '현관문': 6685, '진통제': 6686, '균': 6687, '아찔하다': 6688, '공문': 6689, '내후년': 6690, '실현': 6691, '폴더': 6692, '주스': 6693, '낮잠': 6694, '징징대다': 6695, '김장': 6696, '찾아다니다': 6697, '뎌': 6698, '치유': 6699, '환경미화원': 6700, '내정자': 6701, '러닝머신': 6702, '맞은편': 6703, '잇속': 6704, '독자': 6705, '한일': 6706, '상복': 6707, '까마득하다': 6708, '박살': 6709, '문고': 6710, '소지품': 6711, '경쟁률': 6712, '캐스팅': 6713, '수건': 6714, '노산': 6715, '협업': 6716, '무전': 6717, '노랗다': 6718, '상장': 6719, '가물가물': 6720, '최씨': 6721, '올린다': 6722, '가정불화': 6723, '패션': 6724, '자질': 6725, '메뚜기': 6726, '사흘': 6727, '붙이': 6728, '에어로빅': 6729, '왈칵': 6730, '고마움': 6731, '부끄러움': 6732, '덤덤하다': 6733, '스크린': 6734, '열기': 6735, '심리상담': 6736, '욕실': 6737, '현명하다': 6738, '사모님': 6739, '범': 6740, '아부해': 6741, '하차': 6742, '혈당량': 6743, '퍼뜨려': 6744, '들먹이다': 6745, '통원': 6746, '삼겹살': 6747, '하향': 6748, '숙연': 6749, '축농증': 6750, '밤하늘': 6751, '간밤': 6752, '덩이': 6753, '움직임': 6754, '생생하다': 6755, '짝짝이': 6756, '통계': 6757, '해오': 6758, '우연이': 6759, '신지': 6760, '도울': 6761, '결항': 6762, '확산': 6763, '칠십이': 6764, '몹쓸': 6765, '맹세코': 6766, '무직': 6767, '절': 6768, '가차': 6769, '따위': 6770, '시큰둥하다': 6771, '흩어지다': 6772, '타입': 6773, '금산사': 6774, '도태': 6775, '세고': 6776, '엇갈리다': 6777, '아프리카': 6778, '인형': 6779, '고아원': 6780, '오래간만': 6781, '백이십': 6782, '콜센터': 6783, '장비': 6784, '근무시간': 6785, '고심': 6786, '사비': 6787, '줄넘기': 6788, '끈기': 6789, '으름장': 6790, '건조하다': 6791, '메달': 6792, '외투': 6793, '여지': 6794, '건전지': 6795, '파': 6796, '액정': 6797, '신종': 6798, '시집살이': 6799, '과장하다': 6800, '사방': 6801, '기원': 6802, '피지': 6803, '졸지': 6804, '연관': 6805, '부정행위': 6806, '민수': 6807, '서양화': 6808, '한문': 6809, '흉터': 6810, '포': 6811, '다솜': 6812, '굴': 6813, '여윳돈': 6814, '영어실력': 6815, '욱하': 6816, '동맥경화': 6817, '허리띠': 6818, '흐릿하': 6819, '한층': 6820, '고자질': 6821, '땡볕': 6822, '튀어': 6823, '치인': 6824, '사체': 6825, '작정': 6826, '남녀': 6827, '부실하다': 6828, '내장': 6829, '달이다': 6830, '밤중': 6831, '윗몸일으키기': 6832, '패가망신': 6833, '설움': 6834, '내과': 6835, '맛보다': 6836, '쪼잔하': 6837, '헛디디다': 6838, '하혈': 6839, '중천': 6840, '밥상머리': 6841, '엎었': 6842, '왕인': 6843, '하녀': 6844, '발끝': 6845, '연골': 6846, '차기': 6847, '전문성': 6848, '독일': 6849, '유연하다': 6850, '대상포진': 6851, '저택': 6852, '관계없이': 6853, '여사': 6854, '나앉다': 6855, '유서': 6856, '번갈아': 6857, '슥': 6858, '악화시키다': 6859, '남친': 6860, '로써': 6861, '시름시름': 6862, '하직': 6863, '전자': 6864, '적히다': 6865, '세탁': 6866, '상심': 6867, '날인': 6868, '법률': 6869, '쑥떡': 6870, '치명': 6871, '바짓가랑이': 6872, '타오': 6873, '정액': 6874, '발버둥': 6875, '유형': 6876, '해먹': 6877, '옥자': 6878, '자연과학': 6879, '팔로': 6880, '일수록': 6881, '나아가다': 6882, '적어도': 6883, '명성': 6884, '혜인': 6885, '필요없다': 6886, '목발': 6887, '폭탄': 6888, '정돈': 6889, '자락': 6890, '변덕': 6891, '지사': 6892, '구실': 6893, '나주': 6894, '강박': 6895, '발표회': 6896, '눈병': 6897, '남부럽다': 6898, '멀뚱하다': 6899, '오천': 6900, '한약재': 6901, '부러': 6902, '심기': 6903, '함정': 6904, '무리다': 6905, '업적': 6906, '모발': 6907, '암투': 6908, '속도위반': 6909, '개교': 6910, '보육원': 6911, '반기': 6912, '계서': 6913, '외다': 6914, '멤버': 6915, '일부분': 6916, '해임': 6917, '내려앉다': 6918, '날카로워지다': 6919, '하란': 6920, '조리': 6921, '악': 6922, '엉덩이': 6923, '주랑': 6924, '재니': 6925, '광택': 6926, '청렴': 6927, '이불': 6928, '퍼뜨렸': 6929, '백두산': 6930, '끔뻑이': 6931, '자수': 6932, '침착하다': 6933, '그대': 6934, '교활하다': 6935, '순진하다': 6936, '아사코': 6937, '별장': 6938, '스럽지도': 6939, '바퀴': 6940, '말주변': 6941, '관성': 6942, '스페인': 6943, '사후세계': 6944, '전염': 6945, '삼포': 6946, '친형': 6947, '초초해': 6948, '사이즈': 6949, '협착증': 6950, '경미하다': 6951, '별세': 6952, '구려': 6953, '문책': 6954, '인기투표': 6955, '학식': 6956, '울화': 6957, '기관': 6958, '음료': 6959, '굿': 6960, '사주': 6961, '입력': 6962, '러시': 6963, '관대하다': 6964, '위계': 6965, '놨는데': 6966, '치욕스럽다': 6967, '휴업': 6968, '깨트렸어': 6969, '삼천만': 6970, '근원': 6971, '이구나': 6972, '투여': 6973, '퍼뜨린': 6974, '환': 6975, '왕년': 6976, '따분하다': 6977, '손길': 6978, '다이아몬드': 6979, '자영': 6980, '남다르다': 6981, '소형차': 6982, '잔기침': 6983, '사상': 6984, '더러워지다': 6985, '꾸물거리다': 6986, '전전': 6987, '렌스': 6988, '젠더': 6989, '섣부르다': 6990, '구나': 6991, '경로': 6992, '킬로나': 6993, '여운': 6994, '순수하다': 6995, '삭신': 6996, '사무직': 6997, '닳다': 6998, '베스트': 6999, '동정': 7000, '애프터': 7001, '울리다': 7002, '순조': 7003, '출시': 7004, '수칙': 7005, '순은': 7006, '난데없이': 7007, '야위다': 7008, '철석': 7009, '뇌혈관': 7010, '열중': 7011, '린': 7012, '말끝': 7013, '오만원': 7014, '대기발령': 7015, '랬': 7016, '디지털': 7017, '질린다': 7018, '열악하다': 7019, '밭일': 7020, '추하다': 7021, '상종': 7022, '스타': 7023, '산지': 7024, '엉엉': 7025, '건방지다': 7026, '스킬': 7027, '디저트': 7028, '빠듯하': 7029, '덤': 7030, '외적인': 7031, '육십오': 7032, '기지개': 7033, '외할아버지': 7034, '속임수': 7035, '꼬락서니': 7036, '자소': 7037, '콩알': 7038, '섭취': 7039, '고서': 7040, '통치': 7041, '덩': 7042, '구체': 7043, '무마': 7044, '스페인어': 7045, '해롭다': 7046, '토악질': 7047, '가까스로': 7048, '회계': 7049, '감소': 7050, '무심코': 7051, '녹용': 7052, '더디다': 7053, '털모자': 7054, '청소년': 7055, '다기': 7056, '차단': 7057, '끝없다': 7058, '사의': 7059, '졸업생': 7060, '흐': 7061, '한가하다': 7062, '과격하다': 7063, '지우': 7064, '인대': 7065, '어지간하다': 7066, '책임자': 7067, '악순환': 7068, '브런치': 7069, '젖': 7070, '유언비어': 7071, '어학': 7072, '인식': 7073, '눈코': 7074, '뜰': 7075, '쌀밥': 7076, '유흥': 7077, '운동신경': 7078, '불상': 7079, '으로나': 7080, '일면': 7081, '줄줄': 7082, '작아지다': 7083, '도서실': 7084, '까맣다': 7085, '가스요금': 7086, '컴컴하다': 7087, '썰렁하다': 7088, '개조': 7089, '노려보다': 7090, '벌금': 7091, '일꾼': 7092, '덴': 7093, '둔갑': 7094, '뜬금': 7095, '갓': 7096, '마인드': 7097, '만화': 7098, '복구': 7099, '떳떳하다': 7100, '스토킹': 7101, '딸애': 7102, '달아나다': 7103, '수포': 7104, '배구': 7105, '종식': 7106, '분홍색': 7107, '꼬르륵': 7108, '적정': 7109, '역다': 7110, '애완견': 7111, '미로': 7112, '둘러싸이다': 7113, '한결같이': 7114, '대폭': 7115, '어버이': 7116, '칠십팔이': 7117, '변동': 7118, '찬스': 7119, '전국': 7120, '복사': 7121, '내막': 7122, '명순': 7123, '실시': 7124, '얽히다': 7125, '시야': 7126, '학연': 7127, '적합하다': 7128, '티끌': 7129, '사슴벌레': 7130, '격': 7131, '인의': 7132, '새해': 7133, '구청': 7134, '강': 7135, '이리저리': 7136, '면접시험': 7137, '손톱': 7138, '선포': 7139, '이백': 7140, '충성': 7141, '외곽': 7142, '울고불고': 7143, '쫒다': 7144, '안이하다': 7145, '감점': 7146, '뚝딱': 7147, '바람맞다': 7148, '열흘': 7149, '국영수': 7150, '탄력': 7151, '각': 7152, '동무': 7153, '줄곧': 7154, '에부터': 7155, '위반': 7156, '박다': 7157, '청구': 7158, '클라이언트': 7159, '넉': 7160, '케이': 7161, '짜릿하다': 7162, '진동': 7163, '소고기': 7164, '액세서리': 7165, '띄엄띄엄': 7166, '체험학습': 7167, '그런대로': 7168, '산책로': 7169, '휘트니': 7170, '입도': 7171, '클라우드': 7172, '줄어드': 7173, '상이': 7174, '새아버지': 7175, '그치다': 7176, '한자리': 7177, '짊어지': 7178, '따로따로': 7179, '주소': 7180, '앓아눕다': 7181, '우르르': 7182, '참혹하다': 7183, '울상': 7184, '여우': 7185, '공황': 7186, '야무지다': 7187, '멋': 7188, '아래층': 7189, '연신': 7190, '털털': 7191, '영업정지': 7192, '본대': 7193, '어울림': 7194, '일이구': 7195, '모피': 7196, '매니아': 7197, '쪽팔리다': 7198, '티켓': 7199, '생태계': 7200, '파괴': 7201, '몰아치다': 7202, '신호등': 7203, '점집': 7204, '한주': 7205, '영업직': 7206, '들러리': 7207, '워드': 7208, '중고': 7209, '쓰시': 7210, '친숙하다': 7211, '생활기록부': 7212, '어김없이': 7213, '귀감': 7214, '성찰': 7215, '함흥차사': 7216, '뀌어': 7217, '백미': 7218, '사그라지다': 7219, '침울하다': 7220, '납입': 7221, '등하굣길': 7222, '틈틈이': 7223, '노환': 7224, '킥': 7225, '보드': 7226, '마침내': 7227, '경지': 7228, '이르렀다': 7229, '사택': 7230, '강점': 7231, '볕': 7232, '합석': 7233, '반딧불': 7234, '대드': 7235, '자유분방하다': 7236, '여야': 7237, '무자비하다': 7238, '바래다주다': 7239, '게임중독': 7240, '나란하다': 7241, '롤': 7242, '환장하다': 7243, '나누기': 7244, '송두리째': 7245, '잠잠하다': 7246, '정신장애': 7247, '수유': 7248, '시끌시끌하다': 7249, '수천만': 7250, '치장': 7251, '??': 7252, '뭉클하다': 7253, '몸집': 7254, '주가지수': 7255, '몽': 7256, '그래그래': 7257, '선망': 7258, '플루': 7259, '대표이사': 7260, '관철': 7261, '무감각': 7262, '은행업': 7263, '무도': 7264, '영역': 7265, '독학': 7266, '이정': 7267, '응시': 7268, '압도': 7269, '산불': 7270, '활약': 7271, '징징거리다': 7272, '유용하다': 7273, '날아다니다': 7274, '법석': 7275, '과만': 7276, '손위': 7277, '화이트': 7278, '천년': 7279, '체격': 7280, '재활용': 7281, '수거': 7282, '당사자': 7283, '관여': 7284, '추슬러': 7285, '맑은': 7286, '신자': 7287, '무종교': 7288, '용납': 7289, '완벽주의자': 7290, '머무르다': 7291, '풀어지다': 7292, '옹호': 7293, '머': 7294, '고요함': 7295, '갈아': 7296, '미화': 7297, '장어': 7298, '씻기다': 7299, '굽히다': 7300, '제각각': 7301, '적당': 7302, '솔루션': 7303, '주리': 7304, '경위': 7305, '증원': 7306, '휩싸이다': 7307, '미역': 7308, '완도': 7309, '바꿔치다': 7310, '얼음': 7311, '부득이': 7312, '오타': 7313, '재산상속': 7314, '수학과': 7315, '울분': 7316, '영양사': 7317, '심화': 7318, '일수': 7319, '삼총사': 7320, '스케이트': 7321, '체결': 7322, '세방': 7323, '상대편': 7324, '낙상': 7325, '엉': 7326, '성해': 7327, '요로결석': 7328, '헉헉거리다': 7329, '혼담': 7330, '추모': 7331, '바닷가': 7332, '정오': 7333, '일찍이': 7334, '치켜세우다': 7335, '똑': 7336, '백만원': 7337, '재난': 7338, '탐방': 7339, '취조': 7340, '광주': 7341, '혼잣말': 7342, '여자도': 7343, '푹신하다': 7344, '기필코': 7345, '메우다': 7346, '나오니': 7347, '온돌': 7348, '대패': 7349, '중계': 7350, '더구나': 7351, '사량': 7352, '쬐다': 7353, '나마': 7354, '테니스': 7355, '온라인과': 7356, '오프라인': 7357, '나일': 7358, '욱했던': 7359, '어쩐': 7360, '고지': 7361, '아이스크림': 7362, '장일': 7363, '꼽아보': 7364, '언어': 7365, '메이커': 7366, '피트니스': 7367, '출판': 7368, '공인': 7369, '중개사': 7370, '중개': 7371, '답례': 7372, '벼슬도': 7373, '빗다': 7374, '사레': 7375, '성전환자': 7376, '정신질환': 7377, '자빠지다': 7378, '물르다': 7379, '세차': 7380, '익': 7381, '거창하다': 7382, '순환': 7383, '찌릿찌릿하다': 7384, '헐다': 7385, '배송': 7386, '베개': 7387, '유리하다': 7388, '안치': 7389, '약수터': 7390, '으슬으슬': 7391, '왕복': 7392, '위함': 7393, '리스크': 7394, '전립선암': 7395, '교정': 7396, '배움터': 7397, '제보자': 7398, '거덜': 7399, '고요하다': 7400, '콘테스트': 7401, '개최': 7402, '서성거리다': 7403, '비축': 7404, '건설업': 7405, '가만있다': 7406, '유무': 7407, '좌석': 7408, '시트': 7409, '지면': 7410, '꿰': 7411, '궂은일': 7412, '층집': 7413, '사랑스럽다': 7414, '세지': 7415, '우등상': 7416, '네일아트': 7417, '루테인': 7418, '서바이벌': 7419, '멘붕': 7420, '상상임신': 7421, '빈틈': 7422, '천사처럼': 7423, '연구실': 7424, '벌겋다': 7425, '중책': 7426, '지킴': 7427, '놨겠다': 7428, '형호': 7429, '제하': 7430, '퇴소': 7431, '처치': 7432, '갈리다': 7433, '넘겨받다': 7434, '한살이': 7435, '질해': 7436, '지방함량': 7437, '편견': 7438, '유니세프': 7439, '이세': 7440, '구년': 7441, '방면': 7442, '이중성': 7443, '불로소득': 7444, '리다': 7445, '방조': 7446, '아사': 7447, '기침약': 7448, '과학고': 7449, '빼기': 7450, '은연중': 7451, '취업률': 7452, '역대': 7453, '수없이': 7454, '스테이크': 7455, '재해': 7456, '대론': 7457, '골고루': 7458, '국수': 7459, '먹여주다': 7460, '철인': 7461, '령': 7462, '플래카드': 7463, '외딴섬': 7464, '지로': 7465, '위절제술': 7466, '환기': 7467, '배낭여행': 7468, '생일케이크': 7469, '콱': 7470, '명세서': 7471, '전산': 7472, '헛소리': 7473, '으로서는': 7474, '시렁': 7475, '삐쩍': 7476, '소모품': 7477, '매스컴': 7478, '친족': 7479, '상일': 7480, '이사도': 7481, '연세대': 7482, '증권': 7483, '암산': 7484, '띄우다': 7485, '성당': 7486, '위험수위': 7487, '대수': 7488, '파스타': 7489, '알람': 7490, '서적': 7491, '툴툴댔더': 7492, '정류장': 7493, '새치기': 7494, '미네': 7495, '권력': 7496, '쳇바퀴': 7497, '다람쥐': 7498, '민정': 7499, '돌리지': 7500, '명령': 7501, '의예': 7502, '커피믹스': 7503, '어쩌자': 7504, '잡음': 7505, '라식수술': 7506, '개강': 7507, '꼿꼿하다': 7508, '묵묵': 7509, '낄낄': 7510, '부자간': 7511, '티격태격해': 7512, '빗자루': 7513, '매니지먼트': 7514, '제로': 7515, '시리': 7516, '스카웃': 7517, '주전': 7518, '결함': 7519, '양파': 7520, '타자': 7521, '이로': 7522, '한해': 7523, '차량': 7524, '택해': 7525, '겁쟁이': 7526, '장의': 7527, '랜덤': 7528, '피기': 7529, '무려': 7530, '예비신부': 7531, '금고': 7532, '닥달': 7533, '단장': 7534, '비틀': 7535, '나진': 7536, '다발': 7537, '유령': 7538, '급락': 7539, '마그네슘': 7540, '슬며시': 7541, '한눈팔다': 7542, '의과대학': 7543, '육군사관학교': 7544, '추기': 7545, '조장': 7546, '리더십': 7547, '앞뒤': 7548, '세균': 7549, '번식': 7550, '옥탑방': 7551, '매니큐어': 7552, '차근차근하다': 7553, '유치장': 7554, '치민': 7555, '목적지': 7556, '수출': 7557, '드세지다': 7558, '투찰': 7559, '세포': 7560, '선후배': 7561, '관객': 7562, '사백': 7563, '팔십이': 7564, '이상신': 7565, '호가': 7566, '땜': 7567, '어안': 7568, '벙벙하다': 7569, '통역사': 7570, '원활하다': 7571, '묵묵하다': 7572, '베테': 7573, '태평하다': 7574, '투약': 7575, '증여': 7576, '고의': 7577, '장애우': 7578, '질도': 7579, '구순': 7580, '일확천금': 7581, '입실': 7582, '사고뭉치': 7583, '쇠약하다': 7584, '억압받다': 7585, '자본주의': 7586, '카레': 7587, '윤': 7588, '바퀴벌레': 7589, '흘겨보다': 7590, '반신': 7591, '움츠리다': 7592, '사이비': 7593, '오목': 7594, '욕구': 7595, '요추': 7596, '협착': 7597, '오백만원': 7598, '변성기': 7599, '유기농': 7600, '곡물': 7601, '꿀꿀하다': 7602, '짓궃': 7603, '이자율': 7604, '대니': 7605, '기둥': 7606, '저장': 7607, '부둥켜안다': 7608, '증명사진': 7609, '?.': 7610, '일삼': 7611, '원가': 7612, '재건': 7613, '잔소릴': 7614, '꼬마': 7615, '핼쑥': 7616, '해지니': 7617, '체지방률': 7618, '3년': 7619, '뻘쭘해': 7620, '빈둥대던': 7621, '불장난': 7622, '권투': 7623, '래미': 7624, '하룻밤': 7625, '군상': 7626, '정나미': 7627, '전업': 7628, '흥미롭다': 7629, '청결': 7630, '감사히': 7631, '판단력': 7632, '냉소': 7633, '본능': 7634, '천장': 7635, '자칫': 7636, '엎었어': 7637, '어우': 7638, '비대증': 7639, '회서': 7640, '개고기': 7641, '들보': 7642, '환호성': 7643, '처절하다': 7644, '혈중': 7645, '시라': 7646, '자기개발': 7647, '가부장': 7648, '통제': 7649, '가르침': 7650, '백팔이': 7651, '뽀삐': 7652, '견주': 7653, '쌍방': 7654, '귓속말': 7655, '삼십육': 7656, '앞서서': 7657, '재활용품': 7658, '독수공방': 7659, '원천': 7660, '교통비': 7661, '삭히다': 7662, '전교꼴등': 7663, '짤렸어': 7664, '약혼녀': 7665, '하얗다': 7666, '몰두하다': 7667, '생필품': 7668, '오른쪽': 7669, '비문증': 7670, '가불': 7671, '혼사': 7672, '십수': 7673, '반등': 7674, '맞대다': 7675, '당신': 7676, '순직': 7677, '수로': 7678, '복무': 7679, '진도면': 7680, '더치': 7681, '가로등': 7682, '가정법원': 7683, '괴리감': 7684, '대피': 7685, '고스톱': 7686, '학자금대출': 7687, '정리정돈': 7688, '사례금': 7689, '수락': 7690, '어나': 7691, '풋살': 7692, '이드': 7693, '판촉': 7694, '차출': 7695, '숙면': 7696, '코드': 7697, '꺼림칙하다': 7698, '국채': 7699, '시전': 7700, '창자': 7701, '어린이': 7702, '어그러지다': 7703, '곽': 7704, '까닥': 7705, '카풀': 7706, '보안': 7707, '영진': 7708, '해석': 7709, '문전': 7710, '깨나': 7711, '귀중하다': 7712, '콜로라도주': 7713, '자연스레': 7714, '입학시험': 7715, '발톱': 7716, '장년': 7717, '사교육': 7718, '조례': 7719, '밑바닥': 7720, '천원': 7721, '가군': 7722, '남남': 7723, '강압': 7724, '콜록콜록': 7725, '재물': 7726, '학폭': 7727, '맞서다': 7728, '난방': 7729, '억대': 7730, '다양해지다': 7731, '덜하다': 7732, '밑었던': 7733, '파란': 7734, '대문': 7735, '가품': 7736, '옥살이': 7737, '체제': 7738, '돌입': 7739, '돌려막기': 7740, '기성세대': 7741, '곰곰': 7742, '행각': 7743, '동물원': 7744, '침해': 7745, '후룸라이드': 7746, '오르락내리락': 7747, '파격': 7748, '낙태': 7749, '끌어내리다': 7750, '솟구치다': 7751, '물정': 7752, '네이버': 7753, '크릴': 7754, '오일': 7755, '중금속': 7756, '해고자': 7757, '학회': 7758, '도련님': 7759, '몸뚱어리': 7760, '개방': 7761, '얹히다': 7762, '고산': 7763, '병적': 7764, '최상': 7765, '먹구름': 7766, '화창하다': 7767, '조폭': 7768, '팔도': 7769, '주야장천': 7770, '영화관': 7771, '들여놓다': 7772, '녹차': 7773, '차사': 7774, '꼰대': 7775, '처방전': 7776, '퇴로': 7777, '예치': 7778, '동성애': 7779, '위스키': 7780, '난장판': 7781, '해킹': 7782, '약용식물': 7783, '난이도': 7784, '기금': 7785, '원기준': 7786, '건재': 7787, '남한': 7788, '하청': 7789, '중점': 7790, '난후': 7791, '관둘': 7792, '멍하니': 7793, '욕구불만': 7794, '문헌정보': 7795, '아보': 7796, '종합병원': 7797, '수위': 7798, '헛딛는': 7799, '월간지': 7800, '산걸': 7801, '전동': 7802, '올림픽': 7803, '로되': 7804, '대만': 7805, '혈기': 7806, '몸뚱아리': 7807, '도사': 7808, '외양': 7809, '따내다': 7810, '껍데기': 7811, '며늘': 7812, '겨울철': 7813, '신경증': 7814, '비중': 7815, '경직': 7816, '만큼이나': 7817, '일손': 7818, '괄시': 7819, '미천하다': 7820, '막냇동생': 7821, '익다': 7822, '열한': 7823, '제약회사': 7824, '아이템': 7825, '장례비용': 7826, '새우등': 7827, '도리': 7828, '토박이': 7829, '애정도': 7830, '염두': 7831, '출근시간': 7832, '불성': 7833, '더라도': 7834, '백오십': 7835, '휴무': 7836, '물병': 7837, '는가': 7838, '평안하다': 7839, '셰계': 7840, '폐병': 7841, '영지': 7842, '상철': 7843, '영점': 7844, '음감': 7845, '조그마하다': 7846, '처자': 7847, '반도체': 7848, '행세': 7849, '산물': 7850, '붐': 7851, '미투': 7852, '박수': 7853, '줏대': 7854, '정심': 7855, '안건': 7856, '잔반': 7857, '축소': 7858, '코코아': 7859, '음미': 7860, '연극배우': 7861, '재택': 7862, '특수부대': 7863, '로나': 7864, '더부룩하다': 7865, '들려주다': 7866, '일관': 7867, '작심삼일': 7868, '사철': 7869, '거둬들이다': 7870, '내자': 7871, '뻗다': 7872, '궁색하다': 7873, '제작': 7874, '알아맞히다': 7875, '기역': 7876, '자만': 7877, '설탕': 7878, '충동': 7879, '가죽': 7880, '남일': 7881, '사죄': 7882, '핑곗거리': 7883, '어두우': 7884, '중압감': 7885, '설문조사': 7886, '냉혹하다': 7887, '연달': 7888, '페인트': 7889, '유력': 7890, '유라': 7891, '잔쯕': 7892, '떵떵': 7893, '드러나다': 7894, '오르간': 7895, '주자': 7896, '쫄면': 7897, '신어': 7898, '창립': 7899, '무가': 7900, '배당': 7901, '꿋꿋하다': 7902, '베트남': 7903, '입국': 7904, '날씨예보': 7905, '인파': 7906, '일명': 7907, '창창하다': 7908, '날밤': 7909, '재항암': 7910, '닥치고': 7911, '반신불수': 7912, '젤': 7913, '국비': 7914, '치료법': 7915, '헤드셋': 7916, '콩쿠르': 7917, '거북하다': 7918, '결코': 7919, '학용품': 7920, '황천': 7921, '컨설턴트': 7922, '용의자': 7923, '설렁설렁': 7924, '진탕': 7925, '목격자': 7926, '곯다': 7927, '티나': 7928, '덕담': 7929, '수요일': 7930, '치근덕거리다': 7931, '농구': 7932, '조직개편': 7933, '신생': 7934, '대각선': 7935, '가줄': 7936, '동락': 7937, '빈칸': 7938, '목구멍': 7939, '수치심': 7940, '버럭대다': 7941, '지칭': 7942, '고수': 7943, '유리창': 7944, '칫솔': 7945, '에게서도': 7946, '생겨나다': 7947, '깜짝깜짝': 7948, '나로': 7949, '취했다': 7950, '지민': 7951, '불완전하다': 7952, '가꾸다': 7953, '일주': 7954, '식상하다': 7955, '놨더': 7956, '백팔십팔': 7957, '센티미터': 7958, '강인': 7959, '페이스': 7960, '예견': 7961, '유튜버로': 7962, '악플': 7963, '이기심': 7964, '충만': 7965, '공포증': 7966, '감안': 7967, '면제': 7968, '취준생': 7969, '총괄': 7970, '구성원': 7971, '일억만': 7972, '하와이': 7973, '엄연하다': 7974, '유골': 7975, '소실': 7976, '차키': 7977, '머쓱하다': 7978, '방출': 7979, '보탬': 7980, '여름날': 7981, '십여': 7982, '스톡옵션': 7983, '우러러': 7984, '괴로움': 7985, '장마철': 7986, '장대': 7987, '전교회장': 7988, '전가': 7989, '습도': 7990, '순대': 7991, '명예훼손': 7992, '탑골': 7993, '한판': 7994, '가족계획': 7995, '에까지': 7996, '짱': 7997, '웅덩이': 7998, '곤충': 7999, '숨찬': 8000, '등등': 8001, '애틋하다': 8002, '갈팡질팡': 8003, '굴레': 8004, '승률': 8005, '막둥': 8006, '눈길': 8007, '예사롭다': 8008, '전자레인지': 8009, '관련성': 8010, '국제': 8011, '재결합': 8012, '생물학자': 8013, '만병통치약': 8014, '어치': 8015, '들추다': 8016, '스토커': 8017, '오번': 8018, '사족': 8019, '이인삼각': 8020, '대범하다': 8021, '푸대접': 8022, '군무원': 8023, '상도': 8024, '알코올중독': 8025, '일일구': 8026, '감상문': 8027, '경희대': 8028, '이심': 8029, '걷히다': 8030, '담담하다': 8031, '소규모': 8032, '도래': 8033, '수완': 8034, '초소': 8035, '카메라': 8036, '년전': 8037, '고하': 8038, '늘씬하다': 8039, '집안사람': 8040, '영화제': 8041, '영향력': 8042, '피곤': 8043, '토론': 8044, '차원': 8045, '보상금': 8046, '수립': 8047, '벤처기업': 8048, '신변': 8049, '해몽': 8050, '알림': 8051, '봉지': 8052, '귀하다': 8053, '냉면': 8054, '어리광': 8055, '노궁': 8056, '전조': 8057, '유흥주점': 8058, '급증': 8059, '적격하다': 8060, '부금': 8061, '고학력자': 8062, '애달프다': 8063, '유치': 8064, '에프': 8065, '눈독': 8066, '미션': 8067, '무언': 8068, '배분': 8069, '가스레인지': 8070, '착착': 8071, '화제': 8072, '건다': 8073, '다이아': 8074, '글짓기': 8075, '자궁암': 8076, '목록': 8077, '보도자료': 8078, '가운데': 8079, '홍': 8080, '머릿결': 8081, '심신': 8082, '선보다': 8083, '쇠': 8084, '대거': 8085, '반수': 8086, '항적': 8087, '망정': 8088, '멱살': 8089, '평수': 8090, '고모부': 8091, '티격태격하': 8092, '시체': 8093, '오묘하다': 8094, '명시': 8095, '목사': 8096, '설경': 8097, '래서야': 8098, '에게나': 8099, '부녀회': 8100, '맛탕': 8101, '이뿌다': 8102, '차안': 8103, '말벌': 8104, '레인': 8105, '홍콩': 8106, '머리띠': 8107, '에게로': 8108, '부들부들': 8109, '백조': 8110, '식충이': 8111, '반면': 8112, '납작하다': 8113, '도질': 8114, '수강': 8115, '췌장': 8116, '보육': 8117, '바람직하다': 8118, '미터': 8119, '쾅': 8120, '리스': 8121, '여드름': 8122, '합동': 8123, '얼렁뚱땅': 8124, '무역': 8125, '물회': 8126, '미세하다': 8127, '전남편': 8128, '거역': 8129, '비롯': 8130, '일본어': 8131, '세제': 8132, '갈망': 8133, '행시': 8134, '펜션': 8135, '만족감': 8136, '육류': 8137, '법안': 8138, '샤프': 8139, '얼버무리다': 8140, '독점': 8141, '장차': 8142, '유망': 8143, '맹장': 8144, '부간': 8145, '에피소드': 8146, '전립선비대증': 8147, '경제학자': 8148, '크루즈': 8149, '유방': 8150, '바비큐': 8151, '텃새': 8152, '공업고등학교': 8153, '올려다보다': 8154, '박하': 8155, '이복': 8156, '선천성': 8157, '황새': 8158, '뱁새': 8159, '못버는데': 8160, '연대': 8161, '떠보다': 8162, '울렁증': 8163, '수백만': 8164, '총애': 8165, '발레': 8166, '감퇴': 8167, '성형수술': 8168, '승객': 8169, '파마': 8170, '괴씸': 8171, '저하': 8172, '블라인드': 8173, '다문화': 8174, '고지서': 8175, '갈아엎다': 8176, '구리다': 8177, '야생': 8178, '대한민국': 8179, '집밖': 8180, '미숙아': 8181, '호기심': 8182, '웅': 8183, '밀도': 8184, '피디': 8185, '조산': 8186, '소독': 8187, '철썩': 8188, '에서만큼은': 8189, '코트': 8190, '저녁밥': 8191, '동요': 8192, '까막눈': 8193, '보드게임': 8194, '경찰관': 8195, '밑천': 8196, '기타': 8197, '표기': 8198, '제자리걸음': 8199, '개입': 8200, '서류철': 8201, '입소': 8202, '뒤척': 8203, '경청': 8204, '억압': 8205, '파도': 8206, '휩쓸다': 8207, '상투': 8208, '어딨다': 8209, '뜻일': 8210, '하나님': 8211, '필리핀': 8212, '두뇌': 8213, '쉬쉬': 8214, '폐기': 8215, '역무': 8216, '콘돔': 8217, '바란': 8218, '지리산': 8219, '다재': 8220, '능': 8221, '다정': 8222, '삼차': 8223, '배움': 8224, '담소': 8225, '지도력': 8226, '버킷리스트': 8227, '복합': 8228, '꼰대들': 8229, '메세지': 8230, '색안경': 8231, '틀림없이': 8232, '해진': 8233, '집문서': 8234, '발끈': 8235, '다만': 8236, '이해도': 8237, '발길': 8238, '아치': 8239, '터치': 8240, '아니꼽다': 8241, '천직': 8242, '별명': 8243, '찰': 8244, '골병': 8245, '뭐기': 8246, '바람둥이': 8247, '벽돌': 8248, '이끼': 8249, '골도': 8250, '마리': 8251, '뚫어지다': 8252, '육촌': 8253, '한턱내다': 8254, '점장님': 8255, '이겠다': 8256, '수동': 8257, '친철': 8258, '방탄소년단': 8259, '강화하다': 8260, '성능': 8261, '대관절': 8262, '상대자': 8263, '오징어': 8264, '고전': 8265, '위원장': 8266, '전전긍긍': 8267, '호기롭': 8268, '공적': 8269, '들고나다': 8270, '불명예': 8271, '갑상샘암': 8272, '영양가': 8273, '한고비': 8274, '넷플릭스': 8275, '획득': 8276, '문해': 8277, '조미료': 8278, '잉크': 8279, '베란다': 8280, '가전제품': 8281, '특유': 8282, '마땅': 8283, '비자': 8284, '부인과': 8285, '박씨': 8286, '가동': 8287, '방송사': 8288, '추잡': 8289, '악기': 8290, '바른': 8291, '한적하다': 8292, '가계약': 8293, '성정체성': 8294, '종용': 8295, '주택연금': 8296, '외진': 8297, '포트폴리오': 8298, '좌지우지': 8299, '롯데': 8300, '월드': 8301, '벨': 8302, '연애편지': 8303, '출결': 8304, '초밥': 8305, '마땅치': 8306, '주병': 8307, '정자': 8308, '판별': 8309, '주입': 8310, '다큐': 8311, '흐릿해': 8312, '백해무익': 8313, '물난리': 8314, '살살': 8315, '자랑거리': 8316, '찾아내다': 8317, '사안': 8318, '홀어머니': 8319, '가로막다': 8320, '지리다': 8321, '선행': 8322, '려면': 8323, '둥지': 8324, '참새': 8325, '계산서': 8326, '발행': 8327, '잔디': 8328, '돗자리': 8329, '순하다': 8330, '대주': 8331, '산길': 8332, '식약청': 8333, '검문': 8334, '분도': 8335, '앓이': 8336, '절대음감': 8337, '경멸': 8338, '다년': 8339, '유머러스하다': 8340, '넋두리': 8341, '휘청': 8342, '몇번': 8343, '오월': 8344, '서예': 8345, '호적': 8346, '취했더': 8347, '뭣': 8348, '뉴저지': 8349, '궂': 8350, '밤사이': 8351, '봉투': 8352, '째째하다': 8353, '텐트': 8354, '삽입': 8355, '앞진': 8356, '죄인': 8357, '격투기': 8358, '구두쇠': 8359, '얼추': 8360, '깔보다': 8361, '헤르페스': 8362, '유흥업소': 8363, '다그': 8364, '홈': 8365, '트레이닝': 8366, '파선': 8367, '삐걱': 8368, '아나운서': 8369, '호우': 8370, '캠핑카': 8371, '스카프': 8372, '면치': 8373, '관두': 8374, '하원': 8375, '포근하다': 8376, '일원': 8377, '족': 8378, '인솔': 8379, '피부암': 8380, '척척': 8381, '성취': 8382, '연연하다': 8383, '흠': 8384, '불운': 8385, '아이콘': 8386, '봉': 8387, '껄끄러워': 8388, '식기세척기': 8389, '친한친구': 8390, '작당': 8391, '최저임금': 8392, '뛰어다니다': 8393, '돌침대': 8394, '크나크다': 8395, '전략': 8396, '강원랜드': 8397, '구십이': 8398, '요약': 8399, '마는': 8400, '물불': 8401, '열두시': 8402, '권장': 8403, '어리석음': 8404, '제빵': 8405, '망언': 8406, '재다': 8407, '저조하다': 8408, '혁신': 8409, '팔로우': 8410, '투표': 8411, '붙잡히다': 8412, '사실관계': 8413, '거렸': 8414, '무표정': 8415, '유발': 8416, '망태': 8417, '식지': 8418, '방향성': 8419, '업그레이드': 8420, '리스트': 8421, '민낯': 8422, '교습': 8423, '모의': 8424, '삼고': 8425, '무인': 8426, '한때': 8427, '공모': 8428, '다나': 8429, '현역': 8430, '소유권': 8431, '으로서의': 8432, '후송': 8433, '성문': 8434, '뉘우치다': 8435, '정원': 8436, '노선': 8437, '구가': 8438, '편파': 8439, '저승사자': 8440, '맹세': 8441, '쟁겨주': 8442, '비행청소년': 8443, '상사면': 8444, '지위': 8445, '훨훨': 8446, '사무소': 8447, '갈비뼈': 8448, '브로마이드': 8449, '종말': 8450, '일환': 8451, '웃옷': 8452, '긴급하다': 8453, '애원': 8454, '양성애자': 8455, '파마머리': 8456, '소가': 8457, '생명과학': 8458, '사십이': 8459, '중병': 8460, '박동수': 8461, '아역': 8462, '인내심': 8463, '기독교도': 8464, '레고': 8465, '처갓집': 8466, '짓누르다': 8467, '여념': 8468, '화투': 8469, '빡빡': 8470, '지배': 8471, '얼싸안다': 8472, '순순하다': 8473, '공백': 8474, '땅문서': 8475, '다세대': 8476, '모니터': 8477, '포옹': 8478, '폭삭': 8479, '행정': 8480, '다시금': 8481, '삔': 8482, '막걸리': 8483, '자네도': 8484, '택할': 8485, '정성스럽다': 8486, '중추': 8487, '신장암': 8488, '무료함': 8489, '개국': 8490, '음악회': 8491, '쥐어박다': 8492, '메모': 8493, '애정결핍': 8494, '삼일장': 8495, '안방': 8496, '다라': 8497, '관리직': 8498, '돈대': 8499, '적반하장': 8500, '사과문': 8501, '병균': 8502, '몸싸움': 8503, '표절': 8504, '이인': 8505, '일조': 8506, '널': 8507, '불규칙하다': 8508, '짜장면': 8509, '이석': 8510, '애니메이션': 8511, '만삭': 8512, '카바레': 8513, '땡기다': 8514, '구축': 8515, '로더': 8516, '군기': 8517, '우회': 8518, '미세': 8519, '중일': 8520, '으로써': 8521, '간판': 8522, '알라': 8523, '피부관리': 8524, '세척': 8525, '신한': 8526, '나가떨어지다': 8527, '복약': 8528, '부닥치다': 8529, '바람기': 8530, '체면': 8531, '배상금': 8532, '험준하다': 8533, '소름끼치다': 8534, '융통': 8535, '완고하다': 8536, '겁박': 8537, '직렬': 8538, '전세계약': 8539, '중지': 8540, '대적': 8541, '친우': 8542, '무관': 8543, '집어넣다': 8544, '결백': 8545, '홀수': 8546, '비거': 8547, '살균제': 8548, '만큼이야': 8549, '점포': 8550, '좌': 8551, '산책길': 8552, '퇴행': 8553, '엎어': 8554, '선입견': 8555, '서질': 8556, '직분': 8557, '심정지': 8558, '이탈': 8559, '우기': 8560, '결판': 8561, '친자검사': 8562, '위약금': 8563, '뻣뻣하다': 8564, '친아빠': 8565, '민해지니': 8566, '줄기세포': 8567, '서점': 8568, '메뉴얼': 8569, '남탕': 8570, '정비': 8571, '차남': 8572, '날아오다': 8573, '목장': 8574, '피티': 8575, '돌부리': 8576, '알차다': 8577, '쭈글쭈글하다': 8578, '헤아리다': 8579, '패싸움': 8580, '주름살': 8581, '말론': 8582, '천하': 8583, '밸런스': 8584, '게으름': 8585, '삼계탕': 8586, '하고의': 8587, '횡재': 8588, '교생': 8589, '구애': 8590, '건너편': 8591, '명일': 8592, '민회': 8593, '주민등록': 8594, '오한': 8595, '유명인': 8596, '이른바': 8597, '물밀': 8598, '이상야릇하다': 8599, '순서대로': 8600, '프라푸치노': 8601, '인심': 8602, '월차': 8603, '밤샘': 8604, '직속상관': 8605, '집밥': 8606, '배지': 8607, '벼슬': 8608, '복부비만': 8609, '단합': 8610, '애해': 8611, '통행': 8612, '콜라': 8613, '애착': 8614, '하루살이': 8615, '뒤로': 8616, '어림': 8617, '불문': 8618, '헛일': 8619, '집회': 8620, '빵빵': 8621, '간도': 8622, '가축': 8623, '뒷덜미': 8624, '교': 8625, '세태': 8626, '밤낮': 8627, '예요': 8628, '튀김': 8629, '느': 8630, '오거': 8631, '호칭': 8632, '억제': 8633, '껏': 8634, '방전': 8635, '떨구다': 8636, '제나': 8637, '잔업': 8638, '어미': 8639, '잠꼬대': 8640, '강탈': 8641, '우러러보': 8642, '케어': 8643, '브리핑': 8644, '중복': 8645, '정문': 8646, '자치': 8647, '결론': 8648, '자작': 8649, '곧잘': 8650, '친오빠': 8651, '바로잡다': 8652, '안취': 8653, '헛걸음': 8654, '존대': 8655, '젋었': 8656, '초콜릿': 8657, '지니': 8658, '휴양': 8659, '그럴듯하다': 8660, '연습생': 8661, '어린이날': 8662, '표준': 8663, '벼락치기': 8664, '백도': 8665, '군것질': 8666, '재우다': 8667, '스레': 8668, '눕혔는데': 8669, '옛날이야기': 8670, '잡아가다': 8671, '출연': 8672, '그다지': 8673, '불순': 8674, '무임': 8675, '승차': 8676, '다야': 8677, '공복': 8678, '음으로': 8679, '일쑤': 8680, '운전대': 8681, '고현': 8682, '번의': 8683, '개통': 8684, '다급해지다': 8685, '가상': 8686, '화폐': 8687, '애초': 8688, '인증': 8689, '유혹': 8690, '성관계': 8691, '휴양지': 8692, '밥투': 8693, '허허': 8694, '교양': 8695, '십년감수': 8696, '빈둥거리': 8697, '적기': 8698, '수금': 8699, '카트': 8700, '프로그래머': 8701, '천근': 8702, '정성은': 8703, '미관': 8704, '라미': 8705, '태생': 8706, '액자': 8707, '어머': 8708, '소희': 8709, '예상외': 8710, '색시': 8711, '저희': 8712, '탄산음료': 8713, '열시': 8714, '신인': 8715, '사례': 8716, '할멈들': 8717, '떄문': 8718, '폐활량': 8719, '라식': 8720, '일보': 8721, '운전자': 8722, '무신': 8723, '사양': 8724, '범주': 8725, '괴팍': 8726, '선출': 8727, '사촌동생': 8728, '마음가짐': 8729, '마땅찮다': 8730, '당부': 8731, '넌지시': 8732, '라는데': 8733, '스런': 8734, '장성': 8735, '셀': 8736, '외동': 8737, '성비': 8738, '금지법': 8739, '젊은것': 8740, '까불다': 8741, '중과세': 8742, '공시가격': 8743, '급등': 8744, '화학': 8745, '반대편': 8746, '전송': 8747, '참내': 8748, '무분별': 8749, '십이': 8750, '생사': 8751, '불분명': 8752, '호응': 8753, '정치가': 8754, '자식새끼': 8755, '경시': 8756, '응답': 8757, '대성통곡': 8758, '무소식': 8759, '꼴불견': 8760, '폐수': 8761, '방류': 8762, '물고기': 8763, '훈련소': 8764, '갈비찜': 8765, '남김없이': 8766, '폐해': 8767, '믹스': 8768, '경계': 8769, '멘트': 8770, '룰루랄라': 8771, '공세': 8772, '프라모델': 8773, '손수': 8774, '손수건': 8775, '이보': 8776, '최소한': 8777, '바람둥': 8778, '뛰어오르다': 8779, '콕': 8780, '친한척': 8781, '시시콜콜': 8782, '다락방': 8783, '쌍꺼풀': 8784, '락': 8785, '어설프다': 8786, '명동': 8787, '시보': 8788, '장시간': 8789, '맨발': 8790, '기곈': 8791, '차감': 8792, '가이드': 8793, '시디': 8794, '성화니': 8795, '자재': 8796, '가설': 8797, '몰입': 8798, '관광지': 8799, '북': 8800, '부스럭': 8801, '병약하다': 8802, '식물인간': 8803, '허례': 8804, '허식': 8805, '생략': 8806, '치도': 8807, '애완동물': 8808, '기혼': 8809, '녹음': 8810, '친밀': 8811, '저주받다': 8812, '영민': 8813, '몰래카메라': 8814, '여론': 8815, '들쑥날쑥하다': 8816, '놀이기구': 8817, '단단하다': 8818, '증서': 8819, '조교': 8820, '월액': 8821, '최저생계비': 8822, '해물탕': 8823, '한라산': 8824, '묶음': 8825, '때마': 8826, '무상': 8827, '주일': 8828, '관장': 8829, '분풀이': 8830, '피구': 8831, '익스트림': 8832, '풀칠': 8833, '거참': 8834, '멘탈': 8835, '붕괴': 8836, '줌바': 8837, '치근덕대다': 8838, '외무': 8839, '외교관': 8840, '학문': 8841, '부침개': 8842, '만회': 8843, '런닝맨': 8844, '토닥이다': 8845, '산산조각': 8846, '대리출석': 8847, '구강': 8848, '아가': 8849, '쩔쩔매다': 8850, '부친상': 8851, '내비게이션': 8852, '건너가다': 8853, '조의': 8854, '큰집': 8855, '전자기기': 8856, '사투리': 8857, '표준어': 8858, '모여들다': 8859, '면도': 8860, '난소': 8861, '에서만이': 8862, '고려장': 8863, '십오': 8864, '오매불망': 8865, '그러기에': 8866, '증조': 8867, '치열하다': 8868, '해선': 8869, '직책': 8870, '비책': 8871, '묏': 8872, '오에이': 8873, '탁월하다': 8874, '서든': 8875, '떨기': 8876, '요강': 8877, '맞닥뜨렸었어': 8878, '알더': 8879, '퀴즈쇼': 8880, '작물': 8881, '수확': 8882, '분업': 8883, '목덜미': 8884, '다인': 8885, '동문회': 8886, '철민': 8887, '시들하다': 8888, '실체': 8889, '숨가쁘다': 8890, '가물치': 8891, '공존': 8892, '할껄': 8893, '살피': 8894, '시리얼': 8895, '렀': 8896, '부류': 8897, '이혼소송': 8898, '오냐': 8899, '시련': 8900, '휘감다': 8901, '코딩': 8902, '산업혁명': 8903, '향기': 8904, '식겁하다': 8905, '기울어지다': 8906, '컴': 8907, '플레인': 8908, '지우개': 8909, '장식': 8910, '트로피': 8911, '제조': 8912, '제빵사': 8913, '골증': 8914, '간소': 8915, '스몰': 8916, '오픈': 8917, '전면': 8918, '교도소': 8919, '부조리': 8920, '빈도': 8921, '백칠십이': 8922, '같잖다': 8923, '판명': 8924, '에다가': 8925, '해체': 8926, '분실': 8927, '열차': 8928, '탈선': 8929, '간장게장': 8930, '부업': 8931, '이사장': 8932, '금괴': 8933, '모성애': 8934, '굽실': 8935, '신념': 8936, '와전': 8937, '실용음악': 8938, '성대결절': 8939, '허름': 8940, '순탄': 8941, '새치': 8942, '탯줄': 8943, '알뜰하다': 8944, '금융투자': 8945, '관점': 8946, '풍요롭': 8947, '광부': 8948, '질리': 8949, '터널': 8950, '굴착': 8951, '벼르': 8952, '권한': 8953, '공과금': 8954, '벌렁벌렁': 8955, '아드님': 8956, '앉히다': 8957, '빠트려': 8958, '여중생': 8959, '횟감': 8960, '커밍아웃': 8961, '다름없다': 8962, '초혼': 8963, '부리면': 8964, '비치': 8965, '헬기': 8966, '땅콩': 8967, '방황': 8968, '보아': 8969, '공통점': 8970, '롤모델': 8971, '백여': 8972, '섬기다': 8973, '눌리': 8974, '쪼그라들다': 8975, '로고': 8976, '체불': 8977, '어물쩍': 8978, '구지': 8979, '축구선수': 8980, '불리': 8981, '유지비': 8982, '개성': 8983, '때론': 8984, '코로': 8985, '측면': 8986, '경연': 8987, '과부': 8988, '닌': 8989, '흐름': 8990, '노하우': 8991, '스케줄': 8992, '줌': 8993, '매부': 8994, '속보': 8995, '심심': 8996, '스위스': 8997, '양도': 8998, '수줍다': 8999, '부재': 9000, '위중하다': 9001, '다냬': 9002, '연희': 9003, '칭하': 9004, '다정다감하다': 9005, '치네다': 9006, '라이딩': 9007, '스무살': 9008, '탄탄': 9009, '십상': 9010, '대원': 9011, '기숙': 9012, '슬리퍼': 9013, '모기지론': 9014, '퉁퉁': 9015, '횟수': 9016, '노리다': 9017, '살로': 9018, '악명': 9019, '으레': 9020, '위경련': 9021, '재고': 9022, '정석': 9023, '정통': 9024, '호구': 9025, '병과': 9026, '오십오': 9027, '전등': 9028, '어수룩하다': 9029, '참나': 9030, '하인': 9031, '일자': 9032, '허수아비': 9033, '해주시': 9034, '우두커니': 9035, '일그러지다': 9036, '외손': 9037, '할머님': 9038, '개장': 9039, '호주': 9040, '에게까지': 9041, '교환학생': 9042, '딴지': 9043, '위임장': 9044, '아이스': 9045, '이삿짐': 9046, '즈': 9047, '서인': 9048, '워크넷': 9049, '기저': 9050, '진수': 9051, '흑': 9052, '남학생': 9053, '개별': 9054, '원고': 9055, '고속': 9056, '굴릴': 9057, '애칭': 9058, '열세': 9059, '돈자': 9060, '졸졸': 9061, '금슬': 9062, '편리하다': 9063, '공양': 9064, '충치': 9065, '만복': 9066, '하지정맥류': 9067, '나무': 9068, '부주의': 9069, '은둔': 9070, '불고기': 9071, '천지': 9072, '이레': 9073, '동전': 9074, '깡통': 9075, '이기주의': 9076, '노령': 9077, '영란': 9078, '장근이': 9079, '특별대우': 9080, '경황': 9081, '미나': 9082, '물컵': 9083, '경신': 9084, '민우': 9085, '그른': 9086, '빈둥대': 9087, '식약처': 9088, '바이크': 9089, '임종은': 9090, '버셨어': 9091, '아이야': 9092, '말귀': 9093, '형제자매': 9094, '무책임하다': 9095, '미묘하다': 9096, '뭉치다': 9097, '종친회': 9098, '착상': 9099, '선남선녀': 9100, '업소': 9101, '내려놓다': 9102, '그림자': 9103, '구조대': 9104, '박봉': 9105, '인공호흡': 9106, '부착': 9107, '부주의하다': 9108, '요지경': 9109, '소방': 9110, '타부': 9111, '노인도': 9112, '요금소': 9113, '기자': 9114, '이적': 9115, '러브콜': 9116, '개시': 9117, '개업': 9118, '밀고': 9119, '무르': 9120, '받치다': 9121, '것일': 9122, '건너': 9123, '그따위': 9124, '은인': 9125, '벌렁': 9126, '농작물': 9127, '의외': 9128, '부전': 9129, '골수암': 9130, '미비하다': 9131, '거뭇거뭇': 9132, '프': 9133, '랜드': 9134, '차분해지다': 9135, '게걸': 9136, '안녕': 9137, '독극물': 9138, '씨름': 9139, '노동부': 9140, '부속품': 9141, '서지': 9142, '댄서': 9143, '스킨': 9144, '하프마라톤': 9145, '보충수업': 9146, '바른길': 9147, '간혹': 9148, '버럭버럭': 9149, '투입': 9150, '토록': 9151, '호화': 9152, '유람선': 9153, '드림': 9154, '카를': 9155, '수업료': 9156, '허무맹랑': 9157, '천만원': 9158, '월경': 9159, '맞춤': 9160, '분윳값': 9161, '분과': 9162, '멋쟁이': 9163, '효': 9164, '맥박': 9165, '한의사': 9166, '허니문': 9167, '정기적금': 9168, '박카스': 9169, '베다': 9170, '손버릇': 9171, '웠': 9172, '포대': 9173, '탕수육': 9174, '반주': 9175, '책장': 9176, '숟가락': 9177, '커버': 9178, '무력': 9179, '어리바리하다': 9180, '간신히': 9181, '동맥': 9182, '류': 9183, '방석집': 9184, '쓰레기봉투': 9185, '경위서': 9186, '몸조심': 9187, '봉급': 9188, '요구르트': 9189, '근로계약서': 9190, '처신': 9191, '칙': 9192, '훤': 9193, '칠해': 9194, '감염병': 9195, '아날로그': 9196, '우울함': 9197, '고물': 9198, '가시다': 9199, '로란': 9200, '차곡하다': 9201, '사촌오빠': 9202, '와우': 9203, '추근거리다': 9204, '올가을': 9205, '주례': 9206, '롭': 9207, '작은아버지': 9208, '항생제': 9209, '초경': 9210, '방심하다': 9211, '웨어': 9212, '부탁드리다': 9213, '명쾌하다': 9214, '유머': 9215, '대물리다': 9216, '치맥': 9217, '배신감드': 9218, '따윈': 9219, '거고': 9220, '친부모': 9221, '오직': 9222, '새기다': 9223, '센티': 9224, '브': 9225, '비굴하다': 9226, '혼하': 9227, '익히다': 9228, '뻘쭘했어': 9229, '기색': 9230, '영혼': 9231, '통학': 9232, '덤비다': 9233, '준비운동': 9234, '론': 9235, '소수': 9236, '엄습': 9237, '여행기': 9238, '학번': 9239, '병시': 9240, '유행병': 9241, '진담': 9242, '구별': 9243, '차일': 9244, '비판': 9245, '탐색': 9246, '이어진': 9247, '자업자득': 9248, '꼿꼿이': 9249, '무병장수': 9250, '훈육': 9251, '자그마하다': 9252, '복인': 9253, '오억이': 9254, '상실하다': 9255, '신세대': 9256, '국장': 9257, '골반': 9258, '현식': 9259, '느슨하다': 9260, '잔잔하다': 9261, '콩나물': 9262, '얼떨결': 9263, '편집자': 9264, '빗': 9265, '도세': 9266, '파서': 9267, '우수하다': 9268, '문학소녀': 9269, '앨범': 9270, '씌었던': 9271, '마크': 9272, '강의실': 9273, '금값': 9274, '논밭': 9275, '소인배': 9276, '절실': 9277, '햄스터': 9278, '확실': 9279, '이견': 9280, '환전': 9281, '이쯤': 9282, '김치찌개': 9283, '가치': 9284, '간담': 9285, '답문': 9286, '격렬하다': 9287, '복판': 9288, '동물병원': 9289, '우아하다': 9290, '참관': 9291, '하여간': 9292, '차일피일': 9293, '논의': 9294, '문건': 9295, '어긋나게': 9296, '번뜩': 9297, '순이익': 9298, '종신': 9299, '껄': 9300, '빠듯할': 9301, '전철역': 9302, '전단지': 9303, '이십팔': 9304, '경제학': 9305, '소액': 9306, '요금': 9307, '지지도': 9308, '투잡': 9309, '낙도': 9310, '툴툴대더': 9311, '공신': 9312, '인스턴트식품': 9313, '실언': 9314, '희소': 9315, '한심헤': 9316, '담요': 9317, '얼룩': 9318, '사담': 9319, '난리치다': 9320, '부의': 9321, '신장결석': 9322, '격차': 9323, '토익시험': 9324, '파릇파릇하다': 9325, '환송': 9326, '현직': 9327, '앞세우다': 9328, '쪼': 9329, '트리': 9330, '복날': 9331, '술술': 9332, '경제사': 9333, '군림': 9334, '회신': 9335, '정서': 9336, '한식': 9337, '조리사': 9338, '냉동': 9339, '박아': 9340, '교과': 9341, '팬클럽': 9342, '유가족': 9343, '오살': 9344, '다다르다': 9345, '비행': 9346, '말재': 9347, '화이트데이': 9348, '단위': 9349, '타이': 9350, '마사지': 9351, '홱': 9352, '이억': 9353, '불만족': 9354, '초인종': 9355, '첨': 9356, '삭': 9357, '사위다': 9358, '앰뷸런스': 9359, '난산': 9360, '무궁무진': 9361, '학술': 9362, '로거': 9363, '이율': 9364, '까치': 9365, '삼지': 9366, '어영부영': 9367, '안경점': 9368, '찬물': 9369, '따끈하다': 9370, '분별': 9371, '절절': 9372, '무지막지': 9373, '여자라서': 9374, '목도': 9375, '핀': 9376, '김치전': 9377, '부스스': 9378, '호명': 9379, '쫓아가다': 9380, '백발': 9381, '돌기': 9382, '악습': 9383, '쾌변': 9384, '벼룩': 9385, '무기한': 9386, '문외한': 9387, '기수': 9388, '삼일': 9389, '굴걸': 9390, '퍼부어': 9391, '끝일': 9392, '임자': 9393, '!!': 9394, '료': 9395, '잉어': 9396, '응급구조대': 9397, '무릅쓰': 9398, '기합': 9399, '기물': 9400, '끝장': 9401, '시동생': 9402, '동원': 9403, '짤릴까': 9404, '아슬아슬하다': 9405, '라디오': 9406, '고리타분하다': 9407, '이라곤': 9408, '볼껄': 9409, '회한': 9410, '대시': 9411, '검수': 9412, '동심': 9413, '아물다': 9414, '구독': 9415, '깨달': 9416, '모나': 9417, '수상': 9418, '출동': 9419, '멍청이': 9420, '의리': 9421, '홈페이지': 9422, '게재': 9423, '뭉치': 9424, '축구공': 9425, '어렵사리': 9426, '꼬셔': 9427, '듬직하다': 9428, '다지다': 9429, '나요': 9430, '밖에는': 9431, '동사무소': 9432, '체감': 9433, '산악자전거': 9434, '문제점': 9435, '뻑뻑': 9436, '심경': 9437, '폐쇄되어': 9438, '자택': 9439, '총명하다': 9440, '거름': 9441, '의젓하다': 9442, '체력장': 9443, '건실': 9444, '펄펄': 9445, '초보': 9446, '이십만': 9447, '암흑': 9448, '식도': 9449, '술취해': 9450, '설치': 9451, '굳은살': 9452, '갑': 9453, '애나': 9454, '세지면': 9455, '검버섯': 9456, '직하다': 9457, '년제': 9458, '작용': 9459, '눈감다': 9460, '전립선염': 9461, '셀프': 9462, '바득바득': 9463, '금은': 9464, '항복': 9465, '햇빛': 9466, '특채': 9467, '뇌물': 9468, '처럼만': 9469, '금지옥엽': 9470, '채근': 9471, '팀별': 9472, '웹툰': 9473, '마르지': 9474, '영문': 9475, '한정판': 9476, '손익': 9477, '화려': 9478, '틈타다': 9479, '천대': 9480, '두창': 9481, '정력': 9482, '광경': 9483, '그로': 9484, '농기': 9485, '신분증': 9486, '질질': 9487, '뜨끔하다': 9488, '하위': 9489, '원산지': 9490, '장사꾼': 9491, '입버릇': 9492, '군소리': 9493, '그러하다': 9494, '짐일': 9495, '놨': 9496, '거도': 9497, '통탄': 9498, '알바생': 9499, '외숙모': 9500, '켜지다': 9501, '배꼽': 9502, '마치니': 9503, '사기죄': 9504, '단식': 9505, '과민': 9506, '두통약': 9507, '왼': 9508, '입수': 9509, '본전': 9510, '호상': 9511, '가압류': 9512, '북새통': 9513, '살인마': 9514, '식중독': 9515, '농구부': 9516, '노부모': 9517, '틱': 9518, '바램': 9519, '시안': 9520, '레슨': 9521, '이씨': 9522, '하염없이': 9523, '신통': 9524, '우편물': 9525, '남성만': 9526, '포상': 9527, '손수레': 9528, '손상': 9529, '팸플릿': 9530, '부라': 9531, '만구천': 9532, '역서': 9533, '휜다': 9534, '계약금': 9535, '러시아': 9536, '결원': 9537, '정신차리다': 9538, '실실': 9539, '부아': 9540, '기량': 9541, '출품': 9542, '도비': 9543, '감고': 9544, '잡티': 9545, '여권': 9546, '물배': 9547, '스포츠댄스': 9548, '맘껏': 9549, '장려상': 9550, '애석하다': 9551, '일위': 9552, '흘러가다': 9553, '신비': 9554, '현금인출기': 9555, '귀금속': 9556, '멍멍하다': 9557, '피진': 9558, '맹구': 9559, '현지': 9560, '추수': 9561, '이백사십만': 9562, '백팔십만': 9563, '비보': 9564, '대금': 9565, '달인': 9566, '합치': 9567, '허약': 9568, '단기간': 9569, '자문': 9570, '장롱': 9571, '커트라인': 9572, '제이': 9573, '대여': 9574, '사무': 9575, '부터의': 9576, '먹잇감': 9577, '창구': 9578, '업종': 9579, '팬티': 9580, '쿠키': 9581, '나변': 9582, '소도': 9583, '끈끈': 9584, '혹평': 9585, '헛헛해': 9586, '최우수상': 9587, '오성': 9588, '톤': 9589, '트럭': 9590, '형부': 9591, '항공기': 9592, '싸고돌다': 9593, '단정하다': 9594, '불공정': 9595, '못정': 9596, '프렌': 9597, '이즈': 9598, '외주': 9599, '판다': 9600, '맴도': 9601, '약인': 9602, '무심': 9603, '쓰다듬다': 9604, '외아들': 9605, '굴다': 9606, '과신': 9607, '근엄하다': 9608, '상임': 9609, '제과제빵': 9610, '위험성': 9611, '존재도': 9612, '콤플렉스': 9613, '감지': 9614, '싯': 9615, '널다': 9616, '막노동': 9617, '욱': 9618, '수속': 9619, '아유': 9620, '하트': 9621, '당근': 9622, '울타리': 9623, '음담패설': 9624, '선지': 9625, '확충': 9626, '알아채다': 9627, '부수': 9628, '성황리': 9629, '끼리끼리': 9630, '모형': 9631, '가사도': 9632, '말라가': 9633, '긴축': 9634, '구도': 9635, '막강': 9636, '고배': 9637, '고속도로': 9638, '뚫리다': 9639, '헛먹': 9640, '몰두': 9641, '현성': 9642, '나본': 9643, '중성': 9644, '요사이': 9645, '볼링': 9646, '두피': 9647, '폐교': 9648, '파가': 9649, '나누어지다': 9650, '경리': 9651, '하우스': 9652, '탐욕': 9653, '인삼': 9654, '얽매이다': 9655, '장신구': 9656, '이단': 9657, '령액': 9658, '과업': 9659, '부글부글': 9660, '끓다': 9661, '굵다': 9662, '뀌었는데': 9663, '흐릿': 9664, '불우': 9665, '돕기': 9666, '미수': 9667, '납': 9668, '페스티벌': 9669, '술잔치': 9670, '수목장': 9671, '한량': 9672, '담합': 9673, '유비': 9674, '무환': 9675, '사자': 9676, '성어': 9677, '불균형': 9678, '수납': 9679, '국회의원': 9680, '숨소리': 9681, '희미하다': 9682, '연구원': 9683, '경악': 9684, '금치': 9685, '급변': 9686, '황달': 9687, '시르다': 9688, '염소': 9689, '다운증후군': 9690, '검정고시': 9691, '얌체': 9692, '주주': 9693, '요법': 9694, '법인': 9695, '공용': 9696, '점퍼': 9697, '불길': 9698, '외침': 9699, '상여': 9700, '면전': 9701, '체조': 9702, '우릴': 9703, '풍년': 9704, '수확량': 9705, '결벽증': 9706, '두시': 9707, '의탁': 9708, '인정이': 9709, '냉기': 9710, '싫증': 9711, '양옆': 9712, '품위': 9713, '숙지': 9714, '문상': 9715, '체류': 9716, '데스크': 9717, '특성화고': 9718, '혈연': 9719, '김숙': 9720, '반값': 9721, '인명': 9722, '재천': 9723, '순리': 9724, '주군': 9725, '본적': 9726, '친부': 9727, '캥거루': 9728, '성용': 9729, '환승역': 9730, '단층': 9731, '무당': 9732, '누님': 9733, '기울다': 9734, '강력': 9735, '계비': 9736, '대대로': 9737, '벽지': 9738, '차이점': 9739, '영재': 9740, '균형': 9741, '어두워지다': 9742, '삐었어': 9743, '뿌옇다': 9744, '서러워지다': 9745, '부결': 9746, '해만': 9747, '허겁지겁': 9748, '열심': 9749, '모녀': 9750, '투고': 9751, '법정': 9752, '슬럼프': 9753, '눈살': 9754, '찌푸리다': 9755, '마약': 9756, '간직': 9757, '패물': 9758, '악감': 9759, '차가워지다': 9760, '비키': 9761, '북한': 9762, '커뮤니케이션': 9763, '자장면': 9764, '콜': 9765, '길길이': 9766, '날뛰다': 9767, '효심': 9768, '지극': 9769, '일당': 9770, '월드컵': 9771, '클래식': 9772, '초연': 9773, '구장': 9774, '고위': 9775, '공직자': 9776, '십분': 9777, '느닷없다': 9778, '어쩌겠다': 9779, '툴툴거렸더': 9780, '차하': 9781, '벼랑': 9782, '낯빛': 9783, '연쇄': 9784, '손등': 9785, '서빙': 9786, '심혈': 9787, '낙인찍히다': 9788, '누리': 9789, '사골': 9790, '신장병': 9791, '쥐꼬리': 9792, '악착같다': 9793, '헛돈': 9794, '에러': 9795, '사드': 9796, '방도': 9797, '근해': 9798, '털리다': 9799, '항진': 9800, '에가': 9801, '베이': 9802, '킹': 9803, '요일': 9804, '으로선': 9805, '외로': 9806, '싸잡다': 9807, '이상향': 9808, '안면도': 9809, '재주': 9810, '공기청정기': 9811, '구비': 9812, '알람시계': 9813, '훼방': 9814, '잡초': 9815, '성내다': 9816, '회생': 9817, '밝기': 9818, '초창': 9819, '전문직': 9820, '궁둥이': 9821, '몸서리': 9822, '등원': 9823, '동선': 9824, '소위': 9825, '정확': 9826, '잔금': 9827, '양립': 9828, '만도': 9829, '자살률': 9830, '서민': 9831, '일평생': 9832, '신생아': 9833, '꼬깃꼬깃': 9834, '파란색': 9835, '무력감': 9836, '화통': 9837, '휘둥그레지다': 9838, '재채기': 9839, '자만하다': 9840, '가정방문': 9841, '방인': 9842, '과분': 9843, '제어': 9844, '소동': 9845, '코고': 9846, '이공': 9847, '지긋지긋': 9848, '돈줄로': 9849, '수도권': 9850, '얹다': 9851, '모독': 9852, '실전': 9853, '누렇': 9854, '동향': 9855, '겹겹이': 9856, '귤': 9857, '상자': 9858, '혼쭐': 9859, '엮': 9860, '쉬엄쉬엄': 9861, '젓갈': 9862, '에베레스트산': 9863, '출산휴가': 9864, '카디건': 9865, '노엽': 9866, '병날': 9867, '승연이': 9868, '승연': 9869, '선인장': 9870, '파상풍': 9871, '골수': 9872, '궁지': 9873, '윤리': 9874, '인내': 9875, '커피숍': 9876, '이튿날': 9877, '철로': 9878, '충전': 9879, '합숙': 9880, '인용': 9881, '배설물': 9882, '무단횡단': 9883, '고참': 9884, '매가': 9885, '불입': 9886, '배부르다': 9887, '수주': 9888, '새로이': 9889, '의처증': 9890, '파기': 9891, '삽': 9892, '나신': 9893, '팔근육': 9894, '병해': 9895, '진득': 9896, '불가': 9897, '바치': 9898, '룩': 9899, '잔인': 9900, '사치하다': 9901, '시끌벅적하다': 9902, '동이': 9903, '나비': 9904, '난임': 9905, '갓난아이': 9906, '불미': 9907, '진가': 9908, '부친': 9909, '장하다': 9910, '농사짓다': 9911, '프렌드': 9912, '누': 9913, '문단속': 9914, '허드': 9915, '렛': 9916, '부양가족': 9917, '관공서': 9918, '괴짜': 9919, '폐쇄': 9920, '이르렀던': 9921, '나눠지다': 9922, '자본금': 9923, '걸음걸이': 9924, '군데군데': 9925, '불어오다': 9926, '자게': 9927, '불효': 9928, '티비': 9929, '동성연애': 9930, '친엄마': 9931, '감개': 9932, '협의': 9933, '돌싱': 9934, '경이': 9935, '희한하다': 9936, '만능': 9937, '엔지니어': 9938, '분석': 9939, '폭하': 9940, '이따위': 9941, '쇼핑중독': 9942, '친딸': 9943, '횡설수설': 9944, '단명': 9945, '샛노랗': 9946, '퍼주시': 9947, '십구': 9948, '가량': 9949, '폭럭': 9950, '만이라도': 9951, '알몸': 9952, '공군': 9953, '푸셔': 9954, '삼이': 9955, '구상': 9956, '여고': 9957, '실습생': 9958, '씹히다': 9959, '처사': 9960, '복리': 9961, '후생': 9962, '것이므': 9963, '겨를': 9964, '버젓': 9965, '전광판': 9966, '풀풀': 9967, '풍기': 9968, '웨딩사진': 9969, '스케일링': 9970, '의기소침하다': 9971, '직설': 9972, '국사': 9973, '어엿하다': 9974, '사회인': 9975, '문소리': 9976, '광고주': 9977, '다스리다': 9978, '폭우': 9979, '파고다': 9980, '배신자': 9981, '몸뚱이': 9982, '눈높이': 9983, '이하': 9984, '귀염': 9985, '차차': 9986, '회초리': 9987, '승부': 9988, '공공장소': 9989, '실업률': 9990, '실금': 9991, '방석': 9992, '화상회의': 9993, '하곤': 9994, '사일': 9995, '군인': 9996, '합치다': 9997, '세번': 9998, '저명하다': 9999, '샴푸': 10000, '늪': 10001, '보살': 10002, '활동량': 10003, '실화': 10004, '루머': 10005, '망중': 10006, '부비': 10007, '별관': 10008, '새우': 10009, '만기일': 10010, '팬데믹': 10011, '차려입다': 10012, '구설수': 10013, '처세': 10014, '수박': 10015, '물주': 10016, '라섹': 10017, '반찬거리': 10018, '강북': 10019, '시산': 10020, '항목': 10021, '갈취': 10022, '이유지': 10023, '직인': 10024, '사가다': 10025, '조부': 10026, '스피닝': 10027, '단종': 10028, '타라': 10029, '일간': 10030, '미진하다': 10031, '우': 10032, '부근': 10033, '호불호': 10034, '나뉘다': 10035, '도출': 10036, '내겐': 10037, '런닝머신': 10038, '기다림': 10039, '인간미': 10040, '인게': 10041, '찔리다': 10042, '헤': 10043, '쏜살같다': 10044, '진하다': 10045, '아버': 10046, '카페나': 10047, '인성': 10048, '넣기': 10049, '폐하': 10050, '야외': 10051, '절로': 10052, '북적': 10053, '한결같다': 10054, '생활관': 10055, '쐐기': 10056, '공약': 10057, '발인': 10058, '교통체증': 10059, '미신': 10060, '경쟁심': 10061, '만족도': 10062, '규율': 10063, '체증': 10064, '기척': 10065, '아동': 10066, '팔자주름': 10067, '쌈': 10068, '삼성': 10069, '옷가지': 10070, '잡아당기다': 10071, '구태여': 10072, '오백사': 10073, '주량': 10074, '목도리': 10075, '심취': 10076, '어쩌란': 10077, '윙크': 10078, '성우': 10079, '키즈': 10080, '천금': 10081, '쉬기': 10082, '떨치다': 10083, '임박': 10084, '양치': 10085, '브로커': 10086, '할미': 10087, '교태': 10088, '치우치다': 10089, '엄포': 10090, '덜렁': 10091, '기계화': 10092, '청해': 10093, '빚쟁이': 10094, '알약': 10095, '는다': 10096, '국정감사': 10097, '최연': 10098, '반점': 10099, '조사해': 10100, '숨통': 10101, '트이다': 10102, '엉터리': 10103, '왜소하다': 10104, '체구': 10105, '냄비': 10106, '영철': 10107, '연속극': 10108, '꽝': 10109}\n"
          ]
        }
      ]
    },
    {
      "cell_type": "code",
      "source": [
        "vocab_size = len(tokenizer.word_index) +1     # 단어집합의 크기"
      ],
      "metadata": {
        "id": "UEIOpBDUyMWq"
      },
      "execution_count": null,
      "outputs": []
    },
    {
      "cell_type": "code",
      "source": [
        "X_train = tokenizer.texts_to_sequences(X_train)"
      ],
      "metadata": {
        "id": "ms2gzokoY3Eh"
      },
      "execution_count": null,
      "outputs": []
    },
    {
      "cell_type": "code",
      "source": [
        "print(X_train[:3])\n",
        "# 각 샘플 내의 단어들은 각 단어에 대한 정수로 변환된 것을 확인할 수 있습니다."
      ],
      "metadata": {
        "id": "Q4a81hNCZEzu",
        "colab": {
          "base_uri": "https://localhost:8080/"
        },
        "outputId": "44f2552d-c1f2-40b9-bf8a-34be762f9a54"
      },
      "execution_count": null,
      "outputs": [
        {
          "output_type": "stream",
          "name": "stdout",
          "text": [
            "[[35, 216, 303, 1, 65, 30, 645], [373, 75, 1092, 3, 77, 1, 278, 650, 1288, 116, 92], [576, 3, 1455, 1374, 13, 592, 108, 1064, 68, 38]]\n"
          ]
        }
      ]
    },
    {
      "cell_type": "code",
      "source": [
        "# 훈련 데이터와 테스트 데이터의 문장과 레이블을 각각 저장합니다.\n",
        "y_train = np.array(df_label)"
      ],
      "metadata": {
        "id": "YxZfgXwG3VQN"
      },
      "execution_count": null,
      "outputs": []
    },
    {
      "cell_type": "markdown",
      "source": [
        "### 패딩"
      ],
      "metadata": {
        "id": "L3TxoaaBvZWq"
      }
    },
    {
      "cell_type": "code",
      "source": [
        "print('문장의 최대 길이 :',max(len(text) for text in X_train))\n",
        "print('문장의 평균 길이 :',sum(map(len, X_train))/len(X_train))\n",
        "plt.hist([len(text) for text in X_train], bins=50)\n",
        "plt.xlabel('length of samples')\n",
        "plt.ylabel('number of samples')\n",
        "plt.show()\n",
        "\n",
        "# 전체 데이터의 길이 분포는 대체적으로 약 9내외의 길이를 가지는 것을 볼 수 있습니다. "
      ],
      "metadata": {
        "id": "s-9HR1zpvbFp",
        "colab": {
          "base_uri": "https://localhost:8080/",
          "height": 315
        },
        "outputId": "c24b507f-3abe-4641-9d3c-ea0c67a7018f"
      },
      "execution_count": null,
      "outputs": [
        {
          "output_type": "stream",
          "name": "stdout",
          "text": [
            "문장의 최대 길이 : 49\n",
            "문장의 평균 길이 : 10.832206742159142\n"
          ]
        },
        {
          "output_type": "display_data",
          "data": {
            "image/png": "[encoded data removed]",
            "text/plain": [
              "<Figure size 432x288 with 1 Axes>"
            ]
          },
          "metadata": {
            "needs_background": "light"
          }
        }
      ]
    },
    {
      "cell_type": "code",
      "source": [
        "# 모델이 처리할 수 있도록 X_train과 X_test의 모든 샘플의 길이를 특정 길이로 동일하게 맞춰줄 필요가 있습니다. 특정 길이 변수를 max_len으로 정합니다. 대부분의 리뷰가 내용이 잘리지 않도록 할 수 있는 최적의 max_len의 값은 몇일까요? 전체 샘플 중 길이가 max_len 이하인 샘플의 비율이 몇 %인지 확인하는 함수를 만듭니다.\n",
        "def below_threshold_len(max_len, nested_list):\n",
        "  count = 0\n",
        "  for sentence in nested_list:\n",
        "    if(len(sentence) <= max_len):\n",
        "        count = count + 1\n",
        "  print('전체 샘플 중 길이가 %s 이하인 샘플의 비율: %s'%(max_len, (count / len(nested_list))*100))\n"
      ],
      "metadata": {
        "id": "VpJJeG1PwJU_"
      },
      "execution_count": null,
      "outputs": []
    },
    {
      "cell_type": "code",
      "source": [
        "# 위의 분포 그래프를 봤을 때, max_len = 25이 적당할 것 같습니다. 이 값이 얼마나 많은 리뷰 길이를 커버하는지 확인해봅시다. 채팅 특성상 엄청 긴 문장이 포함되지 않으므로, 최대길이로 모든 데이터를 패딩하면 됨. --> 그러나 별 차이 없었다고 한다.\n",
        "max_len =  25       # 18 에서 99%\n",
        "below_threshold_len(max_len, X_train)"
      ],
      "metadata": {
        "id": "vyAN-qO_wWPl",
        "colab": {
          "base_uri": "https://localhost:8080/"
        },
        "outputId": "d52c3fd8-25a8-46e3-a5d8-38a663bc7ffd"
      },
      "execution_count": null,
      "outputs": [
        {
          "output_type": "stream",
          "name": "stdout",
          "text": [
            "전체 샘플 중 길이가 25 이하인 샘플의 비율: 99.71527309874155\n"
          ]
        }
      ]
    },
    {
      "cell_type": "code",
      "source": [
        "# 전체 훈련 데이터 중 약 99%의 리뷰가 18이하의 길이를 가지는 것을 확인했습니다. 모든 샘플의 길이를 18으로 맞추겠습니다.\n",
        "X_train = pad_sequences(X_train, maxlen=max_len)"
      ],
      "metadata": {
        "id": "cgm-5dtzwyYC"
      },
      "execution_count": null,
      "outputs": []
    },
    {
      "cell_type": "code",
      "source": [
        "# 훈련용, 테스트용 뉴스 기사 데이터의 레이블에 원-핫 인코딩을 합니다.\n",
        "y_train = to_categorical(y_train)"
      ],
      "metadata": {
        "id": "GzjFC0-F5Zi9"
      },
      "execution_count": null,
      "outputs": []
    },
    {
      "cell_type": "code",
      "source": [
        "print('전체 데이터의 크기(shape):', X_train.shape)\n",
        "print('레이블 데이터의 크기(shape):', y_train.shape)"
      ],
      "metadata": {
        "id": "7lBI4zLJZL16",
        "colab": {
          "base_uri": "https://localhost:8080/"
        },
        "outputId": "4afc7b1c-67e0-4c32-bfd9-15919804dd79"
      },
      "execution_count": null,
      "outputs": [
        {
          "output_type": "stream",
          "name": "stdout",
          "text": [
            "전체 데이터의 크기(shape): (46009, 25)\n",
            "레이블 데이터의 크기(shape): (46009, 6)\n"
          ]
        }
      ]
    },
    {
      "cell_type": "code",
      "source": [
        "print(X_train[0])\n",
        "print(y_train[0])"
      ],
      "metadata": {
        "id": "TGI29vNfZSSL",
        "colab": {
          "base_uri": "https://localhost:8080/"
        },
        "outputId": "066d2acb-febc-4c64-927e-d131890bf61c"
      },
      "execution_count": null,
      "outputs": [
        {
          "output_type": "stream",
          "name": "stdout",
          "text": [
            "[  0   0   0   0   0   0   0   0   0   0   0   0   0   0   0   0   0   0\n",
            "  35 216 303   1  65  30 645]\n",
            "[1. 0. 0. 0. 0. 0.]\n"
          ]
        }
      ]
    },
    {
      "cell_type": "code",
      "source": [
        "embedding_dim = 32  # 각 단어의 임베딩 벡터의 차원\n",
        "num_heads = 2  # 어텐션 헤드의 수\n",
        "dff = 32  # 포지션 와이즈 피드 포워드 신경망의 은닉층의 크기\n",
        "\n",
        "inputs = tf.keras.layers.Input(shape=(max_len,))\n",
        "embedding_layer = TokenAndPositionEmbedding(max_len, vocab_size, embedding_dim)\n",
        "x = embedding_layer(inputs)\n",
        "transformer_block = TransformerBlock(embedding_dim, num_heads, dff)\n",
        "x = transformer_block(x)\n",
        "x = tf.keras.layers.GlobalAveragePooling1D()(x)\n",
        "x = tf.keras.layers.Dropout(0.1)(x)\n",
        "x = tf.keras.layers.Dense(20, activation=\"relu\")(x)\n",
        "x = tf.keras.layers.Dropout(0.1)(x)\n",
        "outputs = tf.keras.layers.Dense(6, activation=\"softmax\")(x)\n",
        "\n",
        "model = tf.keras.Model(inputs=inputs, outputs=outputs)"
      ],
      "metadata": {
        "id": "2ERi8yryaxfe"
      },
      "execution_count": null,
      "outputs": []
    },
    {
      "cell_type": "code",
      "source": [
        "model.compile(optimizer='adam', loss='categorical_crossentropy', metrics=['acc'])\n",
        "history = model.fit(X_train, y_train, epochs=2, batch_size=32, validation_split=0.2)  # 데이터 크기를 늘이니까 정확도가 조금 더 개선된다. 에포크수가 더할수록 과적합되는 건 마찬가지."
      ],
      "metadata": {
        "colab": {
          "base_uri": "https://localhost:8080/"
        },
        "id": "T873AfQahNQb",
        "outputId": "2a4e8f79-e149-48f6-b19a-48efc421210a"
      },
      "execution_count": null,
      "outputs": [
        {
          "output_type": "stream",
          "name": "stdout",
          "text": [
            "Epoch 1/2\n",
            "1151/1151 [==============================] - 29s 20ms/step - loss: 1.3837 - acc: 0.4530 - val_loss: 1.1198 - val_acc: 0.5950\n",
            "Epoch 2/2\n",
            "1151/1151 [==============================] - 23s 20ms/step - loss: 1.0600 - acc: 0.6269 - val_loss: 1.0904 - val_acc: 0.6048\n"
          ]
        }
      ]
    },
    {
      "cell_type": "code",
      "source": [
        "model.summary()"
      ],
      "metadata": {
        "colab": {
          "base_uri": "https://localhost:8080/"
        },
        "id": "88XCAnmtOJg9",
        "outputId": "b76c581e-11ff-46ae-8ac6-a2aa9964f1f4"
      },
      "execution_count": null,
      "outputs": [
        {
          "output_type": "stream",
          "name": "stdout",
          "text": [
            "Model: \"model_4\"\n",
            "_________________________________________________________________\n",
            " Layer (type)                Output Shape              Param #   \n",
            "=================================================================\n",
            " input_7 (InputLayer)        [(None, 25)]              0         \n",
            "                                                                 \n",
            " token_and_position_embeddin  (None, 25, 32)           324320    \n",
            " g_6 (TokenAndPositionEmbedd                                     \n",
            " ing)                                                            \n",
            "                                                                 \n",
            " transformer_block_6 (Transf  (None, 25, 32)           6464      \n",
            " ormerBlock)                                                     \n",
            "                                                                 \n",
            " global_average_pooling1d_4   (None, 32)               0         \n",
            " (GlobalAveragePooling1D)                                        \n",
            "                                                                 \n",
            " dropout_18 (Dropout)        (None, 32)                0         \n",
            "                                                                 \n",
            " dense_38 (Dense)            (None, 20)                660       \n",
            "                                                                 \n",
            " dropout_19 (Dropout)        (None, 20)                0         \n",
            "                                                                 \n",
            " dense_39 (Dense)            (None, 6)                 126       \n",
            "                                                                 \n",
            "=================================================================\n",
            "Total params: 331,570\n",
            "Trainable params: 331,570\n",
            "Non-trainable params: 0\n",
            "_________________________________________________________________\n"
          ]
        }
      ]
    },
    {
      "cell_type": "code",
      "source": [
        "# 모델저장"
      ],
      "metadata": {
        "id": "7xqq-7NySd2P"
      },
      "execution_count": null,
      "outputs": []
    },
    {
      "cell_type": "code",
      "source": [
        "# model.save('feel_analysis_model.h5')   # 에러 : https://lsjsj92.tistory.com/598, https://stackoverflow.com/questions/58678836/notimplementederror-layers-with-arguments-in-init-must-override-get-conf\n",
        "# 커스텀된 트랜스포머라 저장도 로드도 어려웠다. \n",
        "# 가중치 저장 후 로드 https://tykimos.github.io/2017/06/10/Model_Save_Load/"
      ],
      "metadata": {
        "id": "aknhQZsGOi8Z"
      },
      "execution_count": null,
      "outputs": []
    },
    {
      "cell_type": "code",
      "source": [
        "epochs = range(1, len(history.history['acc']) + 1)\n",
        "plt.plot(epochs, history.history['loss'])\n",
        "plt.plot(epochs, history.history['val_loss'])\n",
        "plt.title('model loss')\n",
        "plt.ylabel('loss')\n",
        "plt.xlabel('epoch')\n",
        "plt.legend(['train', 'test'], loc='upper left')\n",
        "plt.show()"
      ],
      "metadata": {
        "colab": {
          "base_uri": "https://localhost:8080/",
          "height": 295
        },
        "id": "vxsN5wImha7d",
        "outputId": "98a9c38f-b57d-4036-be02-48e8ed1be8a9"
      },
      "execution_count": null,
      "outputs": [
        {
          "output_type": "display_data",
          "data": {
            "image/png": "[encoded data removed]",
            "text/plain": [
              "<Figure size 432x288 with 1 Axes>"
            ]
          },
          "metadata": {
            "needs_background": "light"
          }
        }
      ]
    },
    {
      "cell_type": "code",
      "source": [
        "pip install git+https://github.com/ssut/py-hanspell.git"
      ],
      "metadata": {
        "colab": {
          "base_uri": "https://localhost:8080/"
        },
        "id": "NaxCBwWxp3Pj",
        "outputId": "c6d98a74-c2e9-4b17-a522-7bcb421d9616"
      },
      "execution_count": null,
      "outputs": [
        {
          "output_type": "stream",
          "name": "stdout",
          "text": [
            "Collecting git+https://github.com/ssut/py-hanspell.git\n",
            "  Cloning https://github.com/ssut/py-hanspell.git to /tmp/pip-req-build-0py_mwsk\n",
            "  Running command git clone -q https://github.com/ssut/py-hanspell.git /tmp/pip-req-build-0py_mwsk\n",
            "Requirement already satisfied: requests in /usr/local/lib/python3.7/dist-packages (from py-hanspell==1.1) (2.23.0)\n",
            "Requirement already satisfied: certifi>=2017.4.17 in /usr/local/lib/python3.7/dist-packages (from requests->py-hanspell==1.1) (2021.10.8)\n",
            "Requirement already satisfied: chardet<4,>=3.0.2 in /usr/local/lib/python3.7/dist-packages (from requests->py-hanspell==1.1) (3.0.4)\n",
            "Requirement already satisfied: idna<3,>=2.5 in /usr/local/lib/python3.7/dist-packages (from requests->py-hanspell==1.1) (2.10)\n",
            "Requirement already satisfied: urllib3!=1.25.0,!=1.25.1,<1.26,>=1.21.1 in /usr/local/lib/python3.7/dist-packages (from requests->py-hanspell==1.1) (1.24.3)\n",
            "Building wheels for collected packages: py-hanspell\n",
            "  Building wheel for py-hanspell (setup.py) ... \u001b[?25l\u001b[?25hdone\n",
            "  Created wheel for py-hanspell: filename=py_hanspell-1.1-py3-none-any.whl size=4868 sha256=76eee3446dd0787a80e3aec5c89b87b1ae245733141f251fde61e81a97266d80\n",
            "  Stored in directory: /tmp/pip-ephem-wheel-cache-kowhb71d/wheels/ab/f5/7b/d4124bb329c905301baed80e2ae45aa14e824f62ebc3ec2cc4\n",
            "Successfully built py-hanspell\n",
            "Installing collected packages: py-hanspell\n",
            "Successfully installed py-hanspell-1.1\n"
          ]
        }
      ]
    },
    {
      "cell_type": "code",
      "source": [
        "# 예측해보기\n",
        "from hanspell import spell_checker\n",
        "def sentiment_predict(new_sentence):\n",
        "  spelled_sent = spell_checker.check(new_sentence)    # 챗봇에 단어를 입력할 때는 비문법이 많으므로 문법을 맞춰주고 띄어쓰기를 시켜준다. 이걸 추가하니까 성능이 훨씬 좋아졌다.\n",
        "  hanspell_sent = spelled_sent.checked\n",
        "  new_sentence = re.sub(r'[^ㄱ-ㅎㅏ-ㅣ가-힣 ]','', hanspell_sent)\n",
        "  new_sentence = okt.morphs(new_sentence, stem=True) # 토큰화\n",
        "  new_sentence = [word for word in new_sentence if not word in stop_words] # 불용어 제거\n",
        "  encoded = tokenizer.texts_to_sequences([new_sentence]) # 정수 인코딩\n",
        "  pad_new = pad_sequences(encoded, maxlen = max_len) # 패딩\n",
        "  score = model.predict(pad_new) # 예측\n",
        "#   print(score[0, score.argmax()])\n",
        "  return feel_bic_dic_reverse[score.argmax()]"
      ],
      "metadata": {
        "id": "EByDZrQKhcya"
      },
      "execution_count": null,
      "outputs": []
    },
    {
      "cell_type": "code",
      "source": [
        "sentiment_predict('상장을 받았어')"
      ],
      "metadata": {
        "colab": {
          "base_uri": "https://localhost:8080/",
          "height": 35
        },
        "id": "XMAKB9qzhePf",
        "outputId": "abf6311c-909e-4332-f007-e8d21de826fa"
      },
      "execution_count": null,
      "outputs": [
        {
          "output_type": "execute_result",
          "data": {
            "application/vnd.google.colaboratory.intrinsic+json": {
              "type": "string"
            },
            "text/plain": [
              "'기쁨'"
            ]
          },
          "metadata": {},
          "execution_count": 114
        }
      ]
    },
    {
      "cell_type": "code",
      "source": [
        "sentiment_predict('오늘 학교에서 상을 받았어')  # 상을 구별못함. 이러면 곤란..."
      ],
      "metadata": {
        "colab": {
          "base_uri": "https://localhost:8080/",
          "height": 35
        },
        "id": "e7DTs0hwjk-W",
        "outputId": "a5cfd64b-16f1-4b88-bd36-b8301d7d107b"
      },
      "execution_count": null,
      "outputs": [
        {
          "output_type": "execute_result",
          "data": {
            "application/vnd.google.colaboratory.intrinsic+json": {
              "type": "string"
            },
            "text/plain": [
              "'기쁨'"
            ]
          },
          "metadata": {},
          "execution_count": 90
        }
      ]
    },
    {
      "cell_type": "code",
      "source": [
        "sentiment_predict('ㅋㅋㅋㅋㅋㅋ 오늘 학교에서 상받아떵') "
      ],
      "metadata": {
        "colab": {
          "base_uri": "https://localhost:8080/",
          "height": 35
        },
        "id": "ACkFxuDbo_ab",
        "outputId": "911cd2a0-ac73-4fb8-9fe9-c501a5a7c00a"
      },
      "execution_count": null,
      "outputs": [
        {
          "output_type": "execute_result",
          "data": {
            "application/vnd.google.colaboratory.intrinsic+json": {
              "type": "string"
            },
            "text/plain": [
              "'슬픔'"
            ]
          },
          "metadata": {},
          "execution_count": 91
        }
      ]
    },
    {
      "cell_type": "code",
      "source": [
        "sentiment_predict('ㅋㅋㅋㅋㅋㅋ 오늘 학교에서 상받아서 너무 기분좋아')  # 직접적으로 기분을 말해주면 구분을 하는데, 상황에 따른 판별력은 떨어진다. "
      ],
      "metadata": {
        "colab": {
          "base_uri": "https://localhost:8080/",
          "height": 35
        },
        "id": "N8CjauGWqJRN",
        "outputId": "b2e06224-018b-4c02-dc04-788a82ec3008"
      },
      "execution_count": null,
      "outputs": [
        {
          "output_type": "execute_result",
          "data": {
            "application/vnd.google.colaboratory.intrinsic+json": {
              "type": "string"
            },
            "text/plain": [
              "'기쁨'"
            ]
          },
          "metadata": {},
          "execution_count": 92
        }
      ]
    },
    {
      "cell_type": "code",
      "source": [
        "sentiment_predict('아빠한테 맞았어')   # 누가봐도 상처인 건 구별한다. "
      ],
      "metadata": {
        "colab": {
          "base_uri": "https://localhost:8080/",
          "height": 35
        },
        "id": "A1XgRFO2qQYV",
        "outputId": "36d996ce-bc99-443e-cf41-b80a6106e70b"
      },
      "execution_count": null,
      "outputs": [
        {
          "output_type": "execute_result",
          "data": {
            "application/vnd.google.colaboratory.intrinsic+json": {
              "type": "string"
            },
            "text/plain": [
              "'상처'"
            ]
          },
          "metadata": {},
          "execution_count": 93
        }
      ]
    },
    {
      "cell_type": "code",
      "source": [
        "sentiment_predict('남자친구가 샤넬백 사줌')  "
      ],
      "metadata": {
        "colab": {
          "base_uri": "https://localhost:8080/",
          "height": 35
        },
        "id": "BRJPcJx6qV_w",
        "outputId": "6d1bae47-f75c-4bd8-86f2-cf38311abd92"
      },
      "execution_count": null,
      "outputs": [
        {
          "output_type": "execute_result",
          "data": {
            "application/vnd.google.colaboratory.intrinsic+json": {
              "type": "string"
            },
            "text/plain": [
              "'기쁨'"
            ]
          },
          "metadata": {},
          "execution_count": 94
        }
      ]
    },
    {
      "cell_type": "code",
      "source": [
        "sentiment_predict('남자친구한테 샤넬백 사줌') "
      ],
      "metadata": {
        "colab": {
          "base_uri": "https://localhost:8080/",
          "height": 35
        },
        "id": "zSUD6Ofwqc_n",
        "outputId": "609922a7-6ed0-4e40-b865-5d0404cad34e"
      },
      "execution_count": null,
      "outputs": [
        {
          "output_type": "execute_result",
          "data": {
            "application/vnd.google.colaboratory.intrinsic+json": {
              "type": "string"
            },
            "text/plain": [
              "'기쁨'"
            ]
          },
          "metadata": {},
          "execution_count": 95
        }
      ]
    },
    {
      "cell_type": "code",
      "source": [
        "sentiment_predict('아프리카 난민에게 기부함')"
      ],
      "metadata": {
        "colab": {
          "base_uri": "https://localhost:8080/",
          "height": 35
        },
        "id": "3SajAwZkqgVp",
        "outputId": "6c020a50-0761-43cf-f3ff-c01e0e27fc51"
      },
      "execution_count": null,
      "outputs": [
        {
          "output_type": "execute_result",
          "data": {
            "application/vnd.google.colaboratory.intrinsic+json": {
              "type": "string"
            },
            "text/plain": [
              "'기쁨'"
            ]
          },
          "metadata": {},
          "execution_count": 96
        }
      ]
    },
    {
      "cell_type": "code",
      "source": [
        "sentiment_predict('카리나는 너무 예쁘다')  # 나름 일리있는 것 같기도...ㅋㅋㅋ"
      ],
      "metadata": {
        "colab": {
          "base_uri": "https://localhost:8080/",
          "height": 35
        },
        "id": "NzzpWBnWqvuI",
        "outputId": "d6936671-6e23-41c1-d3be-1cd9861eb4ba"
      },
      "execution_count": null,
      "outputs": [
        {
          "output_type": "execute_result",
          "data": {
            "application/vnd.google.colaboratory.intrinsic+json": {
              "type": "string"
            },
            "text/plain": [
              "'상처'"
            ]
          },
          "metadata": {},
          "execution_count": 97
        }
      ]
    },
    {
      "cell_type": "code",
      "source": [
        "sentiment_predict('난 너무 못생겼어') "
      ],
      "metadata": {
        "colab": {
          "base_uri": "https://localhost:8080/",
          "height": 35
        },
        "id": "pnyq_LG7q715",
        "outputId": "ccc813ac-3018-4390-d2d6-4eb211e30df2"
      },
      "execution_count": null,
      "outputs": [
        {
          "output_type": "execute_result",
          "data": {
            "application/vnd.google.colaboratory.intrinsic+json": {
              "type": "string"
            },
            "text/plain": [
              "'슬픔'"
            ]
          },
          "metadata": {},
          "execution_count": 98
        }
      ]
    },
    {
      "cell_type": "code",
      "source": [
        "# 임베딩이나, 불용어 처리 같은 것이 .. 큰 차이가 없는 것 같다. 그것보다는 하이퍼파라미터를 조절하는게 정확도 개선에 나을 것 같기도 하고...\n",
        "# 사실 잘 모르겠다. \n",
        "# 우리나라 말은 특히, 한 단어안에 여러가지 중의적 의미를 내포하고 있는 경우가 많아서 정확도가 더 떨어지는 것 같기도 하다. \n",
        "\n",
        "# 한국어 챗봇에서 가장 중요한 건, 맞춤법 검사기를 꼭 넣어야 한다는 것이다. "
      ],
      "metadata": {
        "id": "IAq0qCHjjuIq"
      },
      "execution_count": null,
      "outputs": []
    }
  ]
}