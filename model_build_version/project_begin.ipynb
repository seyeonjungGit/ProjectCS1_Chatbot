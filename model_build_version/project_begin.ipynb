{
  "nbformat": 4,
  "nbformat_minor": 0,
  "metadata": {
    "colab": {
      "name": "챗봇만들기_초기연습.ipynb",
      "provenance": [],
      "collapsed_sections": [],
      "toc_visible": true,
      "mount_file_id": "1Erlkbc_tEFu2ajnvERAz0CMWIj7cS_zu",
      "authorship_tag": "ABX9TyMxkZmzbUOytInhBq37CoXm",
      "include_colab_link": true
    },
    "kernelspec": {
      "name": "python3",
      "display_name": "Python 3"
    },
    "language_info": {
      "name": "python"
    },
    "widgets": {
      "application/vnd.jupyter.widget-state+json": {
        "6018536a65824e3d9eecb5849e257816": {
          "model_module": "@jupyter-widgets/controls",
          "model_name": "HBoxModel",
          "model_module_version": "1.5.0",
          "state": {
            "_view_name": "HBoxView",
            "_dom_classes": [],
            "_model_name": "HBoxModel",
            "_view_module": "@jupyter-widgets/controls",
            "_model_module_version": "1.5.0",
            "_view_count": null,
            "_view_module_version": "1.5.0",
            "box_style": "",
            "layout": "IPY_MODEL_0f92cd48f0734849823d7cc5336dddb8",
            "_model_module": "@jupyter-widgets/controls",
            "children": [
              "IPY_MODEL_7c55ec070cfe4787933aec748441b83f",
              "IPY_MODEL_3136e620ccea414abd462546179534a2",
              "IPY_MODEL_41d37ac8330e46cfa890d420ff8355f5"
            ]
          }
        },
        "0f92cd48f0734849823d7cc5336dddb8": {
          "model_module": "@jupyter-widgets/base",
          "model_name": "LayoutModel",
          "model_module_version": "1.2.0",
          "state": {
            "_view_name": "LayoutView",
            "grid_template_rows": null,
            "right": null,
            "justify_content": null,
            "_view_module": "@jupyter-widgets/base",
            "overflow": null,
            "_model_module_version": "1.2.0",
            "_view_count": null,
            "flex_flow": null,
            "width": null,
            "min_width": null,
            "border": null,
            "align_items": null,
            "bottom": null,
            "_model_module": "@jupyter-widgets/base",
            "top": null,
            "grid_column": null,
            "overflow_y": null,
            "overflow_x": null,
            "grid_auto_flow": null,
            "grid_area": null,
            "grid_template_columns": null,
            "flex": null,
            "_model_name": "LayoutModel",
            "justify_items": null,
            "grid_row": null,
            "max_height": null,
            "align_content": null,
            "visibility": null,
            "align_self": null,
            "height": null,
            "min_height": null,
            "padding": null,
            "grid_auto_rows": null,
            "grid_gap": null,
            "max_width": null,
            "order": null,
            "_view_module_version": "1.2.0",
            "grid_template_areas": null,
            "object_position": null,
            "object_fit": null,
            "grid_auto_columns": null,
            "margin": null,
            "display": null,
            "left": null
          }
        },
        "7c55ec070cfe4787933aec748441b83f": {
          "model_module": "@jupyter-widgets/controls",
          "model_name": "HTMLModel",
          "model_module_version": "1.5.0",
          "state": {
            "_view_name": "HTMLView",
            "style": "IPY_MODEL_67299386206b4a5c89cd7bb143b5d9a3",
            "_dom_classes": [],
            "description": "",
            "_model_name": "HTMLModel",
            "placeholder": "​",
            "_view_module": "@jupyter-widgets/controls",
            "_model_module_version": "1.5.0",
            "value": "Downloading: 100%",
            "_view_count": null,
            "_view_module_version": "1.5.0",
            "description_tooltip": null,
            "_model_module": "@jupyter-widgets/controls",
            "layout": "IPY_MODEL_3e08c50e4aea47bcb49c55b8defdbe85"
          }
        },
        "3136e620ccea414abd462546179534a2": {
          "model_module": "@jupyter-widgets/controls",
          "model_name": "FloatProgressModel",
          "model_module_version": "1.5.0",
          "state": {
            "_view_name": "ProgressView",
            "style": "IPY_MODEL_4401d54245ac4e9b9f495f1b76334c54",
            "_dom_classes": [],
            "description": "",
            "_model_name": "FloatProgressModel",
            "bar_style": "success",
            "max": 574,
            "_view_module": "@jupyter-widgets/controls",
            "_model_module_version": "1.5.0",
            "value": 574,
            "_view_count": null,
            "_view_module_version": "1.5.0",
            "orientation": "horizontal",
            "min": 0,
            "description_tooltip": null,
            "_model_module": "@jupyter-widgets/controls",
            "layout": "IPY_MODEL_70d7cdedc1ce41fbbf38bd07d5845bd7"
          }
        },
        "41d37ac8330e46cfa890d420ff8355f5": {
          "model_module": "@jupyter-widgets/controls",
          "model_name": "HTMLModel",
          "model_module_version": "1.5.0",
          "state": {
            "_view_name": "HTMLView",
            "style": "IPY_MODEL_04e5fa99fd07434c9aa5249d2844e5f4",
            "_dom_classes": [],
            "description": "",
            "_model_name": "HTMLModel",
            "placeholder": "​",
            "_view_module": "@jupyter-widgets/controls",
            "_model_module_version": "1.5.0",
            "value": " 574/574 [00:00&lt;00:00, 11.5kB/s]",
            "_view_count": null,
            "_view_module_version": "1.5.0",
            "description_tooltip": null,
            "_model_module": "@jupyter-widgets/controls",
            "layout": "IPY_MODEL_98ddb48444ec4a159b8adeeb7461c646"
          }
        },
        "67299386206b4a5c89cd7bb143b5d9a3": {
          "model_module": "@jupyter-widgets/controls",
          "model_name": "DescriptionStyleModel",
          "model_module_version": "1.5.0",
          "state": {
            "_view_name": "StyleView",
            "_model_name": "DescriptionStyleModel",
            "description_width": "",
            "_view_module": "@jupyter-widgets/base",
            "_model_module_version": "1.5.0",
            "_view_count": null,
            "_view_module_version": "1.2.0",
            "_model_module": "@jupyter-widgets/controls"
          }
        },
        "3e08c50e4aea47bcb49c55b8defdbe85": {
          "model_module": "@jupyter-widgets/base",
          "model_name": "LayoutModel",
          "model_module_version": "1.2.0",
          "state": {
            "_view_name": "LayoutView",
            "grid_template_rows": null,
            "right": null,
            "justify_content": null,
            "_view_module": "@jupyter-widgets/base",
            "overflow": null,
            "_model_module_version": "1.2.0",
            "_view_count": null,
            "flex_flow": null,
            "width": null,
            "min_width": null,
            "border": null,
            "align_items": null,
            "bottom": null,
            "_model_module": "@jupyter-widgets/base",
            "top": null,
            "grid_column": null,
            "overflow_y": null,
            "overflow_x": null,
            "grid_auto_flow": null,
            "grid_area": null,
            "grid_template_columns": null,
            "flex": null,
            "_model_name": "LayoutModel",
            "justify_items": null,
            "grid_row": null,
            "max_height": null,
            "align_content": null,
            "visibility": null,
            "align_self": null,
            "height": null,
            "min_height": null,
            "padding": null,
            "grid_auto_rows": null,
            "grid_gap": null,
            "max_width": null,
            "order": null,
            "_view_module_version": "1.2.0",
            "grid_template_areas": null,
            "object_position": null,
            "object_fit": null,
            "grid_auto_columns": null,
            "margin": null,
            "display": null,
            "left": null
          }
        },
        "4401d54245ac4e9b9f495f1b76334c54": {
          "model_module": "@jupyter-widgets/controls",
          "model_name": "ProgressStyleModel",
          "model_module_version": "1.5.0",
          "state": {
            "_view_name": "StyleView",
            "_model_name": "ProgressStyleModel",
            "description_width": "",
            "_view_module": "@jupyter-widgets/base",
            "_model_module_version": "1.5.0",
            "_view_count": null,
            "_view_module_version": "1.2.0",
            "bar_color": null,
            "_model_module": "@jupyter-widgets/controls"
          }
        },
        "70d7cdedc1ce41fbbf38bd07d5845bd7": {
          "model_module": "@jupyter-widgets/base",
          "model_name": "LayoutModel",
          "model_module_version": "1.2.0",
          "state": {
            "_view_name": "LayoutView",
            "grid_template_rows": null,
            "right": null,
            "justify_content": null,
            "_view_module": "@jupyter-widgets/base",
            "overflow": null,
            "_model_module_version": "1.2.0",
            "_view_count": null,
            "flex_flow": null,
            "width": null,
            "min_width": null,
            "border": null,
            "align_items": null,
            "bottom": null,
            "_model_module": "@jupyter-widgets/base",
            "top": null,
            "grid_column": null,
            "overflow_y": null,
            "overflow_x": null,
            "grid_auto_flow": null,
            "grid_area": null,
            "grid_template_columns": null,
            "flex": null,
            "_model_name": "LayoutModel",
            "justify_items": null,
            "grid_row": null,
            "max_height": null,
            "align_content": null,
            "visibility": null,
            "align_self": null,
            "height": null,
            "min_height": null,
            "padding": null,
            "grid_auto_rows": null,
            "grid_gap": null,
            "max_width": null,
            "order": null,
            "_view_module_version": "1.2.0",
            "grid_template_areas": null,
            "object_position": null,
            "object_fit": null,
            "grid_auto_columns": null,
            "margin": null,
            "display": null,
            "left": null
          }
        },
        "04e5fa99fd07434c9aa5249d2844e5f4": {
          "model_module": "@jupyter-widgets/controls",
          "model_name": "DescriptionStyleModel",
          "model_module_version": "1.5.0",
          "state": {
            "_view_name": "StyleView",
            "_model_name": "DescriptionStyleModel",
            "description_width": "",
            "_view_module": "@jupyter-widgets/base",
            "_model_module_version": "1.5.0",
            "_view_count": null,
            "_view_module_version": "1.2.0",
            "_model_module": "@jupyter-widgets/controls"
          }
        },
        "98ddb48444ec4a159b8adeeb7461c646": {
          "model_module": "@jupyter-widgets/base",
          "model_name": "LayoutModel",
          "model_module_version": "1.2.0",
          "state": {
            "_view_name": "LayoutView",
            "grid_template_rows": null,
            "right": null,
            "justify_content": null,
            "_view_module": "@jupyter-widgets/base",
            "overflow": null,
            "_model_module_version": "1.2.0",
            "_view_count": null,
            "flex_flow": null,
            "width": null,
            "min_width": null,
            "border": null,
            "align_items": null,
            "bottom": null,
            "_model_module": "@jupyter-widgets/base",
            "top": null,
            "grid_column": null,
            "overflow_y": null,
            "overflow_x": null,
            "grid_auto_flow": null,
            "grid_area": null,
            "grid_template_columns": null,
            "flex": null,
            "_model_name": "LayoutModel",
            "justify_items": null,
            "grid_row": null,
            "max_height": null,
            "align_content": null,
            "visibility": null,
            "align_self": null,
            "height": null,
            "min_height": null,
            "padding": null,
            "grid_auto_rows": null,
            "grid_gap": null,
            "max_width": null,
            "order": null,
            "_view_module_version": "1.2.0",
            "grid_template_areas": null,
            "object_position": null,
            "object_fit": null,
            "grid_auto_columns": null,
            "margin": null,
            "display": null,
            "left": null
          }
        },
        "10ce6b5d1eee484c944521617032f7d3": {
          "model_module": "@jupyter-widgets/controls",
          "model_name": "HBoxModel",
          "model_module_version": "1.5.0",
          "state": {
            "_view_name": "HBoxView",
            "_dom_classes": [],
            "_model_name": "HBoxModel",
            "_view_module": "@jupyter-widgets/controls",
            "_model_module_version": "1.5.0",
            "_view_count": null,
            "_view_module_version": "1.5.0",
            "box_style": "",
            "layout": "IPY_MODEL_03095ddae2ff4e0f9d9472f8abace1b3",
            "_model_module": "@jupyter-widgets/controls",
            "children": [
              "IPY_MODEL_8d37010a902b4f11bc9a1f5c6b343907",
              "IPY_MODEL_d981d77e14984991b1ce395118e461fd",
              "IPY_MODEL_1b88d00af6ee403ea39d799452f79bef"
            ]
          }
        },
        "03095ddae2ff4e0f9d9472f8abace1b3": {
          "model_module": "@jupyter-widgets/base",
          "model_name": "LayoutModel",
          "model_module_version": "1.2.0",
          "state": {
            "_view_name": "LayoutView",
            "grid_template_rows": null,
            "right": null,
            "justify_content": null,
            "_view_module": "@jupyter-widgets/base",
            "overflow": null,
            "_model_module_version": "1.2.0",
            "_view_count": null,
            "flex_flow": null,
            "width": null,
            "min_width": null,
            "border": null,
            "align_items": null,
            "bottom": null,
            "_model_module": "@jupyter-widgets/base",
            "top": null,
            "grid_column": null,
            "overflow_y": null,
            "overflow_x": null,
            "grid_auto_flow": null,
            "grid_area": null,
            "grid_template_columns": null,
            "flex": null,
            "_model_name": "LayoutModel",
            "justify_items": null,
            "grid_row": null,
            "max_height": null,
            "align_content": null,
            "visibility": null,
            "align_self": null,
            "height": null,
            "min_height": null,
            "padding": null,
            "grid_auto_rows": null,
            "grid_gap": null,
            "max_width": null,
            "order": null,
            "_view_module_version": "1.2.0",
            "grid_template_areas": null,
            "object_position": null,
            "object_fit": null,
            "grid_auto_columns": null,
            "margin": null,
            "display": null,
            "left": null
          }
        },
        "8d37010a902b4f11bc9a1f5c6b343907": {
          "model_module": "@jupyter-widgets/controls",
          "model_name": "HTMLModel",
          "model_module_version": "1.5.0",
          "state": {
            "_view_name": "HTMLView",
            "style": "IPY_MODEL_aedea526cf53424790fd43154e4bbea1",
            "_dom_classes": [],
            "description": "",
            "_model_name": "HTMLModel",
            "placeholder": "​",
            "_view_module": "@jupyter-widgets/controls",
            "_model_module_version": "1.5.0",
            "value": "Downloading: 100%",
            "_view_count": null,
            "_view_module_version": "1.5.0",
            "description_tooltip": null,
            "_model_module": "@jupyter-widgets/controls",
            "layout": "IPY_MODEL_c315fb80e75a44df9113f1ad9e759417"
          }
        },
        "d981d77e14984991b1ce395118e461fd": {
          "model_module": "@jupyter-widgets/controls",
          "model_name": "FloatProgressModel",
          "model_module_version": "1.5.0",
          "state": {
            "_view_name": "ProgressView",
            "style": "IPY_MODEL_889d09ac5bfa4e9fa4829430f988f1ec",
            "_dom_classes": [],
            "description": "",
            "_model_name": "FloatProgressModel",
            "bar_style": "success",
            "max": 4059,
            "_view_module": "@jupyter-widgets/controls",
            "_model_module_version": "1.5.0",
            "value": 4059,
            "_view_count": null,
            "_view_module_version": "1.5.0",
            "orientation": "horizontal",
            "min": 0,
            "description_tooltip": null,
            "_model_module": "@jupyter-widgets/controls",
            "layout": "IPY_MODEL_d9f6b88fa7cb477d8d5556b857d38590"
          }
        },
        "1b88d00af6ee403ea39d799452f79bef": {
          "model_module": "@jupyter-widgets/controls",
          "model_name": "HTMLModel",
          "model_module_version": "1.5.0",
          "state": {
            "_view_name": "HTMLView",
            "style": "IPY_MODEL_36e72353398c46ad8df269a9a37b9f90",
            "_dom_classes": [],
            "description": "",
            "_model_name": "HTMLModel",
            "placeholder": "​",
            "_view_module": "@jupyter-widgets/controls",
            "_model_module_version": "1.5.0",
            "value": " 4.06k/4.06k [00:00&lt;00:00, 103kB/s]",
            "_view_count": null,
            "_view_module_version": "1.5.0",
            "description_tooltip": null,
            "_model_module": "@jupyter-widgets/controls",
            "layout": "IPY_MODEL_698a298e30894fecb22c0794faf042b0"
          }
        },
        "aedea526cf53424790fd43154e4bbea1": {
          "model_module": "@jupyter-widgets/controls",
          "model_name": "DescriptionStyleModel",
          "model_module_version": "1.5.0",
          "state": {
            "_view_name": "StyleView",
            "_model_name": "DescriptionStyleModel",
            "description_width": "",
            "_view_module": "@jupyter-widgets/base",
            "_model_module_version": "1.5.0",
            "_view_count": null,
            "_view_module_version": "1.2.0",
            "_model_module": "@jupyter-widgets/controls"
          }
        },
        "c315fb80e75a44df9113f1ad9e759417": {
          "model_module": "@jupyter-widgets/base",
          "model_name": "LayoutModel",
          "model_module_version": "1.2.0",
          "state": {
            "_view_name": "LayoutView",
            "grid_template_rows": null,
            "right": null,
            "justify_content": null,
            "_view_module": "@jupyter-widgets/base",
            "overflow": null,
            "_model_module_version": "1.2.0",
            "_view_count": null,
            "flex_flow": null,
            "width": null,
            "min_width": null,
            "border": null,
            "align_items": null,
            "bottom": null,
            "_model_module": "@jupyter-widgets/base",
            "top": null,
            "grid_column": null,
            "overflow_y": null,
            "overflow_x": null,
            "grid_auto_flow": null,
            "grid_area": null,
            "grid_template_columns": null,
            "flex": null,
            "_model_name": "LayoutModel",
            "justify_items": null,
            "grid_row": null,
            "max_height": null,
            "align_content": null,
            "visibility": null,
            "align_self": null,
            "height": null,
            "min_height": null,
            "padding": null,
            "grid_auto_rows": null,
            "grid_gap": null,
            "max_width": null,
            "order": null,
            "_view_module_version": "1.2.0",
            "grid_template_areas": null,
            "object_position": null,
            "object_fit": null,
            "grid_auto_columns": null,
            "margin": null,
            "display": null,
            "left": null
          }
        },
        "889d09ac5bfa4e9fa4829430f988f1ec": {
          "model_module": "@jupyter-widgets/controls",
          "model_name": "ProgressStyleModel",
          "model_module_version": "1.5.0",
          "state": {
            "_view_name": "StyleView",
            "_model_name": "ProgressStyleModel",
            "description_width": "",
            "_view_module": "@jupyter-widgets/base",
            "_model_module_version": "1.5.0",
            "_view_count": null,
            "_view_module_version": "1.2.0",
            "bar_color": null,
            "_model_module": "@jupyter-widgets/controls"
          }
        },
        "d9f6b88fa7cb477d8d5556b857d38590": {
          "model_module": "@jupyter-widgets/base",
          "model_name": "LayoutModel",
          "model_module_version": "1.2.0",
          "state": {
            "_view_name": "LayoutView",
            "grid_template_rows": null,
            "right": null,
            "justify_content": null,
            "_view_module": "@jupyter-widgets/base",
            "overflow": null,
            "_model_module_version": "1.2.0",
            "_view_count": null,
            "flex_flow": null,
            "width": null,
            "min_width": null,
            "border": null,
            "align_items": null,
            "bottom": null,
            "_model_module": "@jupyter-widgets/base",
            "top": null,
            "grid_column": null,
            "overflow_y": null,
            "overflow_x": null,
            "grid_auto_flow": null,
            "grid_area": null,
            "grid_template_columns": null,
            "flex": null,
            "_model_name": "LayoutModel",
            "justify_items": null,
            "grid_row": null,
            "max_height": null,
            "align_content": null,
            "visibility": null,
            "align_self": null,
            "height": null,
            "min_height": null,
            "padding": null,
            "grid_auto_rows": null,
            "grid_gap": null,
            "max_width": null,
            "order": null,
            "_view_module_version": "1.2.0",
            "grid_template_areas": null,
            "object_position": null,
            "object_fit": null,
            "grid_auto_columns": null,
            "margin": null,
            "display": null,
            "left": null
          }
        },
        "36e72353398c46ad8df269a9a37b9f90": {
          "model_module": "@jupyter-widgets/controls",
          "model_name": "DescriptionStyleModel",
          "model_module_version": "1.5.0",
          "state": {
            "_view_name": "StyleView",
            "_model_name": "DescriptionStyleModel",
            "description_width": "",
            "_view_module": "@jupyter-widgets/base",
            "_model_module_version": "1.5.0",
            "_view_count": null,
            "_view_module_version": "1.2.0",
            "_model_module": "@jupyter-widgets/controls"
          }
        },
        "698a298e30894fecb22c0794faf042b0": {
          "model_module": "@jupyter-widgets/base",
          "model_name": "LayoutModel",
          "model_module_version": "1.2.0",
          "state": {
            "_view_name": "LayoutView",
            "grid_template_rows": null,
            "right": null,
            "justify_content": null,
            "_view_module": "@jupyter-widgets/base",
            "overflow": null,
            "_model_module_version": "1.2.0",
            "_view_count": null,
            "flex_flow": null,
            "width": null,
            "min_width": null,
            "border": null,
            "align_items": null,
            "bottom": null,
            "_model_module": "@jupyter-widgets/base",
            "top": null,
            "grid_column": null,
            "overflow_y": null,
            "overflow_x": null,
            "grid_auto_flow": null,
            "grid_area": null,
            "grid_template_columns": null,
            "flex": null,
            "_model_name": "LayoutModel",
            "justify_items": null,
            "grid_row": null,
            "max_height": null,
            "align_content": null,
            "visibility": null,
            "align_self": null,
            "height": null,
            "min_height": null,
            "padding": null,
            "grid_auto_rows": null,
            "grid_gap": null,
            "max_width": null,
            "order": null,
            "_view_module_version": "1.2.0",
            "grid_template_areas": null,
            "object_position": null,
            "object_fit": null,
            "grid_auto_columns": null,
            "margin": null,
            "display": null,
            "left": null
          }
        },
        "b89893e7f7824684980572d0329c841a": {
          "model_module": "@jupyter-widgets/controls",
          "model_name": "HBoxModel",
          "model_module_version": "1.5.0",
          "state": {
            "_view_name": "HBoxView",
            "_dom_classes": [],
            "_model_name": "HBoxModel",
            "_view_module": "@jupyter-widgets/controls",
            "_model_module_version": "1.5.0",
            "_view_count": null,
            "_view_module_version": "1.5.0",
            "box_style": "",
            "layout": "IPY_MODEL_99dce1d5fd6f4dadbb5e8d081b7037f3",
            "_model_module": "@jupyter-widgets/controls",
            "children": [
              "IPY_MODEL_7c9c69686b7f4070a64329a60362e1d4",
              "IPY_MODEL_5b7e88f8b0ec44fd9c84133d90798200",
              "IPY_MODEL_b102293c08e444a68e1c03d060b8a6e3"
            ]
          }
        },
        "99dce1d5fd6f4dadbb5e8d081b7037f3": {
          "model_module": "@jupyter-widgets/base",
          "model_name": "LayoutModel",
          "model_module_version": "1.2.0",
          "state": {
            "_view_name": "LayoutView",
            "grid_template_rows": null,
            "right": null,
            "justify_content": null,
            "_view_module": "@jupyter-widgets/base",
            "overflow": null,
            "_model_module_version": "1.2.0",
            "_view_count": null,
            "flex_flow": null,
            "width": null,
            "min_width": null,
            "border": null,
            "align_items": null,
            "bottom": null,
            "_model_module": "@jupyter-widgets/base",
            "top": null,
            "grid_column": null,
            "overflow_y": null,
            "overflow_x": null,
            "grid_auto_flow": null,
            "grid_area": null,
            "grid_template_columns": null,
            "flex": null,
            "_model_name": "LayoutModel",
            "justify_items": null,
            "grid_row": null,
            "max_height": null,
            "align_content": null,
            "visibility": null,
            "align_self": null,
            "height": null,
            "min_height": null,
            "padding": null,
            "grid_auto_rows": null,
            "grid_gap": null,
            "max_width": null,
            "order": null,
            "_view_module_version": "1.2.0",
            "grid_template_areas": null,
            "object_position": null,
            "object_fit": null,
            "grid_auto_columns": null,
            "margin": null,
            "display": null,
            "left": null
          }
        },
        "7c9c69686b7f4070a64329a60362e1d4": {
          "model_module": "@jupyter-widgets/controls",
          "model_name": "HTMLModel",
          "model_module_version": "1.5.0",
          "state": {
            "_view_name": "HTMLView",
            "style": "IPY_MODEL_ca08691a48464483aa50147e08b5bf2f",
            "_dom_classes": [],
            "description": "",
            "_model_name": "HTMLModel",
            "placeholder": "​",
            "_view_module": "@jupyter-widgets/controls",
            "_model_module_version": "1.5.0",
            "value": "Downloading: 100%",
            "_view_count": null,
            "_view_module_version": "1.5.0",
            "description_tooltip": null,
            "_model_module": "@jupyter-widgets/controls",
            "layout": "IPY_MODEL_6b03c093f49e45b1802fe57ee2b6a4a3"
          }
        },
        "5b7e88f8b0ec44fd9c84133d90798200": {
          "model_module": "@jupyter-widgets/controls",
          "model_name": "FloatProgressModel",
          "model_module_version": "1.5.0",
          "state": {
            "_view_name": "ProgressView",
            "style": "IPY_MODEL_b4a01821745a45f3b819c412050892e2",
            "_dom_classes": [],
            "description": "",
            "_model_name": "FloatProgressModel",
            "bar_style": "success",
            "max": 731,
            "_view_module": "@jupyter-widgets/controls",
            "_model_module_version": "1.5.0",
            "value": 731,
            "_view_count": null,
            "_view_module_version": "1.5.0",
            "orientation": "horizontal",
            "min": 0,
            "description_tooltip": null,
            "_model_module": "@jupyter-widgets/controls",
            "layout": "IPY_MODEL_7d201f6c773b498d9caaf8345e5e5119"
          }
        },
        "b102293c08e444a68e1c03d060b8a6e3": {
          "model_module": "@jupyter-widgets/controls",
          "model_name": "HTMLModel",
          "model_module_version": "1.5.0",
          "state": {
            "_view_name": "HTMLView",
            "style": "IPY_MODEL_b0f4cac843c747f584e8daaefa018f60",
            "_dom_classes": [],
            "description": "",
            "_model_name": "HTMLModel",
            "placeholder": "​",
            "_view_module": "@jupyter-widgets/controls",
            "_model_module_version": "1.5.0",
            "value": " 731/731 [00:00&lt;00:00, 13.6kB/s]",
            "_view_count": null,
            "_view_module_version": "1.5.0",
            "description_tooltip": null,
            "_model_module": "@jupyter-widgets/controls",
            "layout": "IPY_MODEL_63a22390436b473999ca71a100f6ad14"
          }
        },
        "ca08691a48464483aa50147e08b5bf2f": {
          "model_module": "@jupyter-widgets/controls",
          "model_name": "DescriptionStyleModel",
          "model_module_version": "1.5.0",
          "state": {
            "_view_name": "StyleView",
            "_model_name": "DescriptionStyleModel",
            "description_width": "",
            "_view_module": "@jupyter-widgets/base",
            "_model_module_version": "1.5.0",
            "_view_count": null,
            "_view_module_version": "1.2.0",
            "_model_module": "@jupyter-widgets/controls"
          }
        },
        "6b03c093f49e45b1802fe57ee2b6a4a3": {
          "model_module": "@jupyter-widgets/base",
          "model_name": "LayoutModel",
          "model_module_version": "1.2.0",
          "state": {
            "_view_name": "LayoutView",
            "grid_template_rows": null,
            "right": null,
            "justify_content": null,
            "_view_module": "@jupyter-widgets/base",
            "overflow": null,
            "_model_module_version": "1.2.0",
            "_view_count": null,
            "flex_flow": null,
            "width": null,
            "min_width": null,
            "border": null,
            "align_items": null,
            "bottom": null,
            "_model_module": "@jupyter-widgets/base",
            "top": null,
            "grid_column": null,
            "overflow_y": null,
            "overflow_x": null,
            "grid_auto_flow": null,
            "grid_area": null,
            "grid_template_columns": null,
            "flex": null,
            "_model_name": "LayoutModel",
            "justify_items": null,
            "grid_row": null,
            "max_height": null,
            "align_content": null,
            "visibility": null,
            "align_self": null,
            "height": null,
            "min_height": null,
            "padding": null,
            "grid_auto_rows": null,
            "grid_gap": null,
            "max_width": null,
            "order": null,
            "_view_module_version": "1.2.0",
            "grid_template_areas": null,
            "object_position": null,
            "object_fit": null,
            "grid_auto_columns": null,
            "margin": null,
            "display": null,
            "left": null
          }
        },
        "b4a01821745a45f3b819c412050892e2": {
          "model_module": "@jupyter-widgets/controls",
          "model_name": "ProgressStyleModel",
          "model_module_version": "1.5.0",
          "state": {
            "_view_name": "StyleView",
            "_model_name": "ProgressStyleModel",
            "description_width": "",
            "_view_module": "@jupyter-widgets/base",
            "_model_module_version": "1.5.0",
            "_view_count": null,
            "_view_module_version": "1.2.0",
            "bar_color": null,
            "_model_module": "@jupyter-widgets/controls"
          }
        },
        "7d201f6c773b498d9caaf8345e5e5119": {
          "model_module": "@jupyter-widgets/base",
          "model_name": "LayoutModel",
          "model_module_version": "1.2.0",
          "state": {
            "_view_name": "LayoutView",
            "grid_template_rows": null,
            "right": null,
            "justify_content": null,
            "_view_module": "@jupyter-widgets/base",
            "overflow": null,
            "_model_module_version": "1.2.0",
            "_view_count": null,
            "flex_flow": null,
            "width": null,
            "min_width": null,
            "border": null,
            "align_items": null,
            "bottom": null,
            "_model_module": "@jupyter-widgets/base",
            "top": null,
            "grid_column": null,
            "overflow_y": null,
            "overflow_x": null,
            "grid_auto_flow": null,
            "grid_area": null,
            "grid_template_columns": null,
            "flex": null,
            "_model_name": "LayoutModel",
            "justify_items": null,
            "grid_row": null,
            "max_height": null,
            "align_content": null,
            "visibility": null,
            "align_self": null,
            "height": null,
            "min_height": null,
            "padding": null,
            "grid_auto_rows": null,
            "grid_gap": null,
            "max_width": null,
            "order": null,
            "_view_module_version": "1.2.0",
            "grid_template_areas": null,
            "object_position": null,
            "object_fit": null,
            "grid_auto_columns": null,
            "margin": null,
            "display": null,
            "left": null
          }
        },
        "b0f4cac843c747f584e8daaefa018f60": {
          "model_module": "@jupyter-widgets/controls",
          "model_name": "DescriptionStyleModel",
          "model_module_version": "1.5.0",
          "state": {
            "_view_name": "StyleView",
            "_model_name": "DescriptionStyleModel",
            "description_width": "",
            "_view_module": "@jupyter-widgets/base",
            "_model_module_version": "1.5.0",
            "_view_count": null,
            "_view_module_version": "1.2.0",
            "_model_module": "@jupyter-widgets/controls"
          }
        },
        "63a22390436b473999ca71a100f6ad14": {
          "model_module": "@jupyter-widgets/base",
          "model_name": "LayoutModel",
          "model_module_version": "1.2.0",
          "state": {
            "_view_name": "LayoutView",
            "grid_template_rows": null,
            "right": null,
            "justify_content": null,
            "_view_module": "@jupyter-widgets/base",
            "overflow": null,
            "_model_module_version": "1.2.0",
            "_view_count": null,
            "flex_flow": null,
            "width": null,
            "min_width": null,
            "border": null,
            "align_items": null,
            "bottom": null,
            "_model_module": "@jupyter-widgets/base",
            "top": null,
            "grid_column": null,
            "overflow_y": null,
            "overflow_x": null,
            "grid_auto_flow": null,
            "grid_area": null,
            "grid_template_columns": null,
            "flex": null,
            "_model_name": "LayoutModel",
            "justify_items": null,
            "grid_row": null,
            "max_height": null,
            "align_content": null,
            "visibility": null,
            "align_self": null,
            "height": null,
            "min_height": null,
            "padding": null,
            "grid_auto_rows": null,
            "grid_gap": null,
            "max_width": null,
            "order": null,
            "_view_module_version": "1.2.0",
            "grid_template_areas": null,
            "object_position": null,
            "object_fit": null,
            "grid_auto_columns": null,
            "margin": null,
            "display": null,
            "left": null
          }
        },
        "8957c72cc5d54689b0587906eaff3f22": {
          "model_module": "@jupyter-widgets/controls",
          "model_name": "HBoxModel",
          "model_module_version": "1.5.0",
          "state": {
            "_view_name": "HBoxView",
            "_dom_classes": [],
            "_model_name": "HBoxModel",
            "_view_module": "@jupyter-widgets/controls",
            "_model_module_version": "1.5.0",
            "_view_count": null,
            "_view_module_version": "1.5.0",
            "box_style": "",
            "layout": "IPY_MODEL_881f7ce372db4548a58701960608ef13",
            "_model_module": "@jupyter-widgets/controls",
            "children": [
              "IPY_MODEL_31f9109bbe954658b05da2a4ebf9a79a",
              "IPY_MODEL_a30856514f1449678a513b077a4e7995",
              "IPY_MODEL_d1e413e8a316435286876d431082b375"
            ]
          }
        },
        "881f7ce372db4548a58701960608ef13": {
          "model_module": "@jupyter-widgets/base",
          "model_name": "LayoutModel",
          "model_module_version": "1.2.0",
          "state": {
            "_view_name": "LayoutView",
            "grid_template_rows": null,
            "right": null,
            "justify_content": null,
            "_view_module": "@jupyter-widgets/base",
            "overflow": null,
            "_model_module_version": "1.2.0",
            "_view_count": null,
            "flex_flow": null,
            "width": null,
            "min_width": null,
            "border": null,
            "align_items": null,
            "bottom": null,
            "_model_module": "@jupyter-widgets/base",
            "top": null,
            "grid_column": null,
            "overflow_y": null,
            "overflow_x": null,
            "grid_auto_flow": null,
            "grid_area": null,
            "grid_template_columns": null,
            "flex": null,
            "_model_name": "LayoutModel",
            "justify_items": null,
            "grid_row": null,
            "max_height": null,
            "align_content": null,
            "visibility": null,
            "align_self": null,
            "height": null,
            "min_height": null,
            "padding": null,
            "grid_auto_rows": null,
            "grid_gap": null,
            "max_width": null,
            "order": null,
            "_view_module_version": "1.2.0",
            "grid_template_areas": null,
            "object_position": null,
            "object_fit": null,
            "grid_auto_columns": null,
            "margin": null,
            "display": null,
            "left": null
          }
        },
        "31f9109bbe954658b05da2a4ebf9a79a": {
          "model_module": "@jupyter-widgets/controls",
          "model_name": "HTMLModel",
          "model_module_version": "1.5.0",
          "state": {
            "_view_name": "HTMLView",
            "style": "IPY_MODEL_cb4d921d486e44839734122b76a06f90",
            "_dom_classes": [],
            "description": "",
            "_model_name": "HTMLModel",
            "placeholder": "​",
            "_view_module": "@jupyter-widgets/controls",
            "_model_module_version": "1.5.0",
            "value": "Downloading: 100%",
            "_view_count": null,
            "_view_module_version": "1.5.0",
            "description_tooltip": null,
            "_model_module": "@jupyter-widgets/controls",
            "layout": "IPY_MODEL_d6e05f63dffd4fcc856d07fed0c6fbde"
          }
        },
        "a30856514f1449678a513b077a4e7995": {
          "model_module": "@jupyter-widgets/controls",
          "model_name": "FloatProgressModel",
          "model_module_version": "1.5.0",
          "state": {
            "_view_name": "ProgressView",
            "style": "IPY_MODEL_bc0acfece6284bf282b4851dc64840cd",
            "_dom_classes": [],
            "description": "",
            "_model_name": "FloatProgressModel",
            "bar_style": "success",
            "max": 122,
            "_view_module": "@jupyter-widgets/controls",
            "_model_module_version": "1.5.0",
            "value": 122,
            "_view_count": null,
            "_view_module_version": "1.5.0",
            "orientation": "horizontal",
            "min": 0,
            "description_tooltip": null,
            "_model_module": "@jupyter-widgets/controls",
            "layout": "IPY_MODEL_996097d9224a4dd790cc80506caba81a"
          }
        },
        "d1e413e8a316435286876d431082b375": {
          "model_module": "@jupyter-widgets/controls",
          "model_name": "HTMLModel",
          "model_module_version": "1.5.0",
          "state": {
            "_view_name": "HTMLView",
            "style": "IPY_MODEL_54fa87e4d51f498497f4aaac994a9ecc",
            "_dom_classes": [],
            "description": "",
            "_model_name": "HTMLModel",
            "placeholder": "​",
            "_view_module": "@jupyter-widgets/controls",
            "_model_module_version": "1.5.0",
            "value": " 122/122 [00:00&lt;00:00, 2.21kB/s]",
            "_view_count": null,
            "_view_module_version": "1.5.0",
            "description_tooltip": null,
            "_model_module": "@jupyter-widgets/controls",
            "layout": "IPY_MODEL_745e782f291f4daf9c67f1455ddadb82"
          }
        },
        "cb4d921d486e44839734122b76a06f90": {
          "model_module": "@jupyter-widgets/controls",
          "model_name": "DescriptionStyleModel",
          "model_module_version": "1.5.0",
          "state": {
            "_view_name": "StyleView",
            "_model_name": "DescriptionStyleModel",
            "description_width": "",
            "_view_module": "@jupyter-widgets/base",
            "_model_module_version": "1.5.0",
            "_view_count": null,
            "_view_module_version": "1.2.0",
            "_model_module": "@jupyter-widgets/controls"
          }
        },
        "d6e05f63dffd4fcc856d07fed0c6fbde": {
          "model_module": "@jupyter-widgets/base",
          "model_name": "LayoutModel",
          "model_module_version": "1.2.0",
          "state": {
            "_view_name": "LayoutView",
            "grid_template_rows": null,
            "right": null,
            "justify_content": null,
            "_view_module": "@jupyter-widgets/base",
            "overflow": null,
            "_model_module_version": "1.2.0",
            "_view_count": null,
            "flex_flow": null,
            "width": null,
            "min_width": null,
            "border": null,
            "align_items": null,
            "bottom": null,
            "_model_module": "@jupyter-widgets/base",
            "top": null,
            "grid_column": null,
            "overflow_y": null,
            "overflow_x": null,
            "grid_auto_flow": null,
            "grid_area": null,
            "grid_template_columns": null,
            "flex": null,
            "_model_name": "LayoutModel",
            "justify_items": null,
            "grid_row": null,
            "max_height": null,
            "align_content": null,
            "visibility": null,
            "align_self": null,
            "height": null,
            "min_height": null,
            "padding": null,
            "grid_auto_rows": null,
            "grid_gap": null,
            "max_width": null,
            "order": null,
            "_view_module_version": "1.2.0",
            "grid_template_areas": null,
            "object_position": null,
            "object_fit": null,
            "grid_auto_columns": null,
            "margin": null,
            "display": null,
            "left": null
          }
        },
        "bc0acfece6284bf282b4851dc64840cd": {
          "model_module": "@jupyter-widgets/controls",
          "model_name": "ProgressStyleModel",
          "model_module_version": "1.5.0",
          "state": {
            "_view_name": "StyleView",
            "_model_name": "ProgressStyleModel",
            "description_width": "",
            "_view_module": "@jupyter-widgets/base",
            "_model_module_version": "1.5.0",
            "_view_count": null,
            "_view_module_version": "1.2.0",
            "bar_color": null,
            "_model_module": "@jupyter-widgets/controls"
          }
        },
        "996097d9224a4dd790cc80506caba81a": {
          "model_module": "@jupyter-widgets/base",
          "model_name": "LayoutModel",
          "model_module_version": "1.2.0",
          "state": {
            "_view_name": "LayoutView",
            "grid_template_rows": null,
            "right": null,
            "justify_content": null,
            "_view_module": "@jupyter-widgets/base",
            "overflow": null,
            "_model_module_version": "1.2.0",
            "_view_count": null,
            "flex_flow": null,
            "width": null,
            "min_width": null,
            "border": null,
            "align_items": null,
            "bottom": null,
            "_model_module": "@jupyter-widgets/base",
            "top": null,
            "grid_column": null,
            "overflow_y": null,
            "overflow_x": null,
            "grid_auto_flow": null,
            "grid_area": null,
            "grid_template_columns": null,
            "flex": null,
            "_model_name": "LayoutModel",
            "justify_items": null,
            "grid_row": null,
            "max_height": null,
            "align_content": null,
            "visibility": null,
            "align_self": null,
            "height": null,
            "min_height": null,
            "padding": null,
            "grid_auto_rows": null,
            "grid_gap": null,
            "max_width": null,
            "order": null,
            "_view_module_version": "1.2.0",
            "grid_template_areas": null,
            "object_position": null,
            "object_fit": null,
            "grid_auto_columns": null,
            "margin": null,
            "display": null,
            "left": null
          }
        },
        "54fa87e4d51f498497f4aaac994a9ecc": {
          "model_module": "@jupyter-widgets/controls",
          "model_name": "DescriptionStyleModel",
          "model_module_version": "1.5.0",
          "state": {
            "_view_name": "StyleView",
            "_model_name": "DescriptionStyleModel",
            "description_width": "",
            "_view_module": "@jupyter-widgets/base",
            "_model_module_version": "1.5.0",
            "_view_count": null,
            "_view_module_version": "1.2.0",
            "_model_module": "@jupyter-widgets/controls"
          }
        },
        "745e782f291f4daf9c67f1455ddadb82": {
          "model_module": "@jupyter-widgets/base",
          "model_name": "LayoutModel",
          "model_module_version": "1.2.0",
          "state": {
            "_view_name": "LayoutView",
            "grid_template_rows": null,
            "right": null,
            "justify_content": null,
            "_view_module": "@jupyter-widgets/base",
            "overflow": null,
            "_model_module_version": "1.2.0",
            "_view_count": null,
            "flex_flow": null,
            "width": null,
            "min_width": null,
            "border": null,
            "align_items": null,
            "bottom": null,
            "_model_module": "@jupyter-widgets/base",
            "top": null,
            "grid_column": null,
            "overflow_y": null,
            "overflow_x": null,
            "grid_auto_flow": null,
            "grid_area": null,
            "grid_template_columns": null,
            "flex": null,
            "_model_name": "LayoutModel",
            "justify_items": null,
            "grid_row": null,
            "max_height": null,
            "align_content": null,
            "visibility": null,
            "align_self": null,
            "height": null,
            "min_height": null,
            "padding": null,
            "grid_auto_rows": null,
            "grid_gap": null,
            "max_width": null,
            "order": null,
            "_view_module_version": "1.2.0",
            "grid_template_areas": null,
            "object_position": null,
            "object_fit": null,
            "grid_auto_columns": null,
            "margin": null,
            "display": null,
            "left": null
          }
        },
        "382e1a720414443599c28e0c2b45fd4c": {
          "model_module": "@jupyter-widgets/controls",
          "model_name": "HBoxModel",
          "model_module_version": "1.5.0",
          "state": {
            "_view_name": "HBoxView",
            "_dom_classes": [],
            "_model_name": "HBoxModel",
            "_view_module": "@jupyter-widgets/controls",
            "_model_module_version": "1.5.0",
            "_view_count": null,
            "_view_module_version": "1.5.0",
            "box_style": "",
            "layout": "IPY_MODEL_17f7beea21bd43f5a8b2a01d2676da00",
            "_model_module": "@jupyter-widgets/controls",
            "children": [
              "IPY_MODEL_4b809d0e4401409a92adf7db54b38b98",
              "IPY_MODEL_39d081c6bd92429e90c716a65a725595",
              "IPY_MODEL_f574d29d76c04efcbe32d040bd3198ea"
            ]
          }
        },
        "17f7beea21bd43f5a8b2a01d2676da00": {
          "model_module": "@jupyter-widgets/base",
          "model_name": "LayoutModel",
          "model_module_version": "1.2.0",
          "state": {
            "_view_name": "LayoutView",
            "grid_template_rows": null,
            "right": null,
            "justify_content": null,
            "_view_module": "@jupyter-widgets/base",
            "overflow": null,
            "_model_module_version": "1.2.0",
            "_view_count": null,
            "flex_flow": null,
            "width": null,
            "min_width": null,
            "border": null,
            "align_items": null,
            "bottom": null,
            "_model_module": "@jupyter-widgets/base",
            "top": null,
            "grid_column": null,
            "overflow_y": null,
            "overflow_x": null,
            "grid_auto_flow": null,
            "grid_area": null,
            "grid_template_columns": null,
            "flex": null,
            "_model_name": "LayoutModel",
            "justify_items": null,
            "grid_row": null,
            "max_height": null,
            "align_content": null,
            "visibility": null,
            "align_self": null,
            "height": null,
            "min_height": null,
            "padding": null,
            "grid_auto_rows": null,
            "grid_gap": null,
            "max_width": null,
            "order": null,
            "_view_module_version": "1.2.0",
            "grid_template_areas": null,
            "object_position": null,
            "object_fit": null,
            "grid_auto_columns": null,
            "margin": null,
            "display": null,
            "left": null
          }
        },
        "4b809d0e4401409a92adf7db54b38b98": {
          "model_module": "@jupyter-widgets/controls",
          "model_name": "HTMLModel",
          "model_module_version": "1.5.0",
          "state": {
            "_view_name": "HTMLView",
            "style": "IPY_MODEL_6332f753068f45d182457b53cdad8943",
            "_dom_classes": [],
            "description": "",
            "_model_name": "HTMLModel",
            "placeholder": "​",
            "_view_module": "@jupyter-widgets/controls",
            "_model_module_version": "1.5.0",
            "value": "Downloading: 100%",
            "_view_count": null,
            "_view_module_version": "1.5.0",
            "description_tooltip": null,
            "_model_module": "@jupyter-widgets/controls",
            "layout": "IPY_MODEL_5d25b500d5564fbab48b90f79f3e8590"
          }
        },
        "39d081c6bd92429e90c716a65a725595": {
          "model_module": "@jupyter-widgets/controls",
          "model_name": "FloatProgressModel",
          "model_module_version": "1.5.0",
          "state": {
            "_view_name": "ProgressView",
            "style": "IPY_MODEL_9bfa946684634f41b8e7a0fde8b597ed",
            "_dom_classes": [],
            "description": "",
            "_model_name": "FloatProgressModel",
            "bar_style": "success",
            "max": 229,
            "_view_module": "@jupyter-widgets/controls",
            "_model_module_version": "1.5.0",
            "value": 229,
            "_view_count": null,
            "_view_module_version": "1.5.0",
            "orientation": "horizontal",
            "min": 0,
            "description_tooltip": null,
            "_model_module": "@jupyter-widgets/controls",
            "layout": "IPY_MODEL_f4d061a004b4495c9584e2640e199c63"
          }
        },
        "f574d29d76c04efcbe32d040bd3198ea": {
          "model_module": "@jupyter-widgets/controls",
          "model_name": "HTMLModel",
          "model_module_version": "1.5.0",
          "state": {
            "_view_name": "HTMLView",
            "style": "IPY_MODEL_c4279ec7a53a4e0cbec6925870ed3609",
            "_dom_classes": [],
            "description": "",
            "_model_name": "HTMLModel",
            "placeholder": "​",
            "_view_module": "@jupyter-widgets/controls",
            "_model_module_version": "1.5.0",
            "value": " 229/229 [00:00&lt;00:00, 6.38kB/s]",
            "_view_count": null,
            "_view_module_version": "1.5.0",
            "description_tooltip": null,
            "_model_module": "@jupyter-widgets/controls",
            "layout": "IPY_MODEL_e001c588dd9449e680c9b07d7974084a"
          }
        },
        "6332f753068f45d182457b53cdad8943": {
          "model_module": "@jupyter-widgets/controls",
          "model_name": "DescriptionStyleModel",
          "model_module_version": "1.5.0",
          "state": {
            "_view_name": "StyleView",
            "_model_name": "DescriptionStyleModel",
            "description_width": "",
            "_view_module": "@jupyter-widgets/base",
            "_model_module_version": "1.5.0",
            "_view_count": null,
            "_view_module_version": "1.2.0",
            "_model_module": "@jupyter-widgets/controls"
          }
        },
        "5d25b500d5564fbab48b90f79f3e8590": {
          "model_module": "@jupyter-widgets/base",
          "model_name": "LayoutModel",
          "model_module_version": "1.2.0",
          "state": {
            "_view_name": "LayoutView",
            "grid_template_rows": null,
            "right": null,
            "justify_content": null,
            "_view_module": "@jupyter-widgets/base",
            "overflow": null,
            "_model_module_version": "1.2.0",
            "_view_count": null,
            "flex_flow": null,
            "width": null,
            "min_width": null,
            "border": null,
            "align_items": null,
            "bottom": null,
            "_model_module": "@jupyter-widgets/base",
            "top": null,
            "grid_column": null,
            "overflow_y": null,
            "overflow_x": null,
            "grid_auto_flow": null,
            "grid_area": null,
            "grid_template_columns": null,
            "flex": null,
            "_model_name": "LayoutModel",
            "justify_items": null,
            "grid_row": null,
            "max_height": null,
            "align_content": null,
            "visibility": null,
            "align_self": null,
            "height": null,
            "min_height": null,
            "padding": null,
            "grid_auto_rows": null,
            "grid_gap": null,
            "max_width": null,
            "order": null,
            "_view_module_version": "1.2.0",
            "grid_template_areas": null,
            "object_position": null,
            "object_fit": null,
            "grid_auto_columns": null,
            "margin": null,
            "display": null,
            "left": null
          }
        },
        "9bfa946684634f41b8e7a0fde8b597ed": {
          "model_module": "@jupyter-widgets/controls",
          "model_name": "ProgressStyleModel",
          "model_module_version": "1.5.0",
          "state": {
            "_view_name": "StyleView",
            "_model_name": "ProgressStyleModel",
            "description_width": "",
            "_view_module": "@jupyter-widgets/base",
            "_model_module_version": "1.5.0",
            "_view_count": null,
            "_view_module_version": "1.2.0",
            "bar_color": null,
            "_model_module": "@jupyter-widgets/controls"
          }
        },
        "f4d061a004b4495c9584e2640e199c63": {
          "model_module": "@jupyter-widgets/base",
          "model_name": "LayoutModel",
          "model_module_version": "1.2.0",
          "state": {
            "_view_name": "LayoutView",
            "grid_template_rows": null,
            "right": null,
            "justify_content": null,
            "_view_module": "@jupyter-widgets/base",
            "overflow": null,
            "_model_module_version": "1.2.0",
            "_view_count": null,
            "flex_flow": null,
            "width": null,
            "min_width": null,
            "border": null,
            "align_items": null,
            "bottom": null,
            "_model_module": "@jupyter-widgets/base",
            "top": null,
            "grid_column": null,
            "overflow_y": null,
            "overflow_x": null,
            "grid_auto_flow": null,
            "grid_area": null,
            "grid_template_columns": null,
            "flex": null,
            "_model_name": "LayoutModel",
            "justify_items": null,
            "grid_row": null,
            "max_height": null,
            "align_content": null,
            "visibility": null,
            "align_self": null,
            "height": null,
            "min_height": null,
            "padding": null,
            "grid_auto_rows": null,
            "grid_gap": null,
            "max_width": null,
            "order": null,
            "_view_module_version": "1.2.0",
            "grid_template_areas": null,
            "object_position": null,
            "object_fit": null,
            "grid_auto_columns": null,
            "margin": null,
            "display": null,
            "left": null
          }
        },
        "c4279ec7a53a4e0cbec6925870ed3609": {
          "model_module": "@jupyter-widgets/controls",
          "model_name": "DescriptionStyleModel",
          "model_module_version": "1.5.0",
          "state": {
            "_view_name": "StyleView",
            "_model_name": "DescriptionStyleModel",
            "description_width": "",
            "_view_module": "@jupyter-widgets/base",
            "_model_module_version": "1.5.0",
            "_view_count": null,
            "_view_module_version": "1.2.0",
            "_model_module": "@jupyter-widgets/controls"
          }
        },
        "e001c588dd9449e680c9b07d7974084a": {
          "model_module": "@jupyter-widgets/base",
          "model_name": "LayoutModel",
          "model_module_version": "1.2.0",
          "state": {
            "_view_name": "LayoutView",
            "grid_template_rows": null,
            "right": null,
            "justify_content": null,
            "_view_module": "@jupyter-widgets/base",
            "overflow": null,
            "_model_module_version": "1.2.0",
            "_view_count": null,
            "flex_flow": null,
            "width": null,
            "min_width": null,
            "border": null,
            "align_items": null,
            "bottom": null,
            "_model_module": "@jupyter-widgets/base",
            "top": null,
            "grid_column": null,
            "overflow_y": null,
            "overflow_x": null,
            "grid_auto_flow": null,
            "grid_area": null,
            "grid_template_columns": null,
            "flex": null,
            "_model_name": "LayoutModel",
            "justify_items": null,
            "grid_row": null,
            "max_height": null,
            "align_content": null,
            "visibility": null,
            "align_self": null,
            "height": null,
            "min_height": null,
            "padding": null,
            "grid_auto_rows": null,
            "grid_gap": null,
            "max_width": null,
            "order": null,
            "_view_module_version": "1.2.0",
            "grid_template_areas": null,
            "object_position": null,
            "object_fit": null,
            "grid_auto_columns": null,
            "margin": null,
            "display": null,
            "left": null
          }
        },
        "e6ec56bce4754156a2badae347839be7": {
          "model_module": "@jupyter-widgets/controls",
          "model_name": "HBoxModel",
          "model_module_version": "1.5.0",
          "state": {
            "_view_name": "HBoxView",
            "_dom_classes": [],
            "_model_name": "HBoxModel",
            "_view_module": "@jupyter-widgets/controls",
            "_model_module_version": "1.5.0",
            "_view_count": null,
            "_view_module_version": "1.5.0",
            "box_style": "",
            "layout": "IPY_MODEL_760a6a695c8249e89361ce3b4d3a4094",
            "_model_module": "@jupyter-widgets/controls",
            "children": [
              "IPY_MODEL_4142ee1f4d88420b8ad0ff2e19183ef2",
              "IPY_MODEL_449e7a3894d041d1ad16cad9486f3e11",
              "IPY_MODEL_e9d7a3731f75426bbda182c0190434e8"
            ]
          }
        },
        "760a6a695c8249e89361ce3b4d3a4094": {
          "model_module": "@jupyter-widgets/base",
          "model_name": "LayoutModel",
          "model_module_version": "1.2.0",
          "state": {
            "_view_name": "LayoutView",
            "grid_template_rows": null,
            "right": null,
            "justify_content": null,
            "_view_module": "@jupyter-widgets/base",
            "overflow": null,
            "_model_module_version": "1.2.0",
            "_view_count": null,
            "flex_flow": null,
            "width": null,
            "min_width": null,
            "border": null,
            "align_items": null,
            "bottom": null,
            "_model_module": "@jupyter-widgets/base",
            "top": null,
            "grid_column": null,
            "overflow_y": null,
            "overflow_x": null,
            "grid_auto_flow": null,
            "grid_area": null,
            "grid_template_columns": null,
            "flex": null,
            "_model_name": "LayoutModel",
            "justify_items": null,
            "grid_row": null,
            "max_height": null,
            "align_content": null,
            "visibility": null,
            "align_self": null,
            "height": null,
            "min_height": null,
            "padding": null,
            "grid_auto_rows": null,
            "grid_gap": null,
            "max_width": null,
            "order": null,
            "_view_module_version": "1.2.0",
            "grid_template_areas": null,
            "object_position": null,
            "object_fit": null,
            "grid_auto_columns": null,
            "margin": null,
            "display": null,
            "left": null
          }
        },
        "4142ee1f4d88420b8ad0ff2e19183ef2": {
          "model_module": "@jupyter-widgets/controls",
          "model_name": "HTMLModel",
          "model_module_version": "1.5.0",
          "state": {
            "_view_name": "HTMLView",
            "style": "IPY_MODEL_77ed8ca0b3534620921bddbd1d160bf7",
            "_dom_classes": [],
            "description": "",
            "_model_name": "HTMLModel",
            "placeholder": "​",
            "_view_module": "@jupyter-widgets/controls",
            "_model_module_version": "1.5.0",
            "value": "Downloading: 100%",
            "_view_count": null,
            "_view_module_version": "1.5.0",
            "description_tooltip": null,
            "_model_module": "@jupyter-widgets/controls",
            "layout": "IPY_MODEL_fb8a4e977d7549c498d578f615da66c6"
          }
        },
        "449e7a3894d041d1ad16cad9486f3e11": {
          "model_module": "@jupyter-widgets/controls",
          "model_name": "FloatProgressModel",
          "model_module_version": "1.5.0",
          "state": {
            "_view_name": "ProgressView",
            "style": "IPY_MODEL_17ae35e1178146e8a084cc7348a587c0",
            "_dom_classes": [],
            "description": "",
            "_model_name": "FloatProgressModel",
            "bar_style": "success",
            "max": 1112253233,
            "_view_module": "@jupyter-widgets/controls",
            "_model_module_version": "1.5.0",
            "value": 1112253233,
            "_view_count": null,
            "_view_module_version": "1.5.0",
            "orientation": "horizontal",
            "min": 0,
            "description_tooltip": null,
            "_model_module": "@jupyter-widgets/controls",
            "layout": "IPY_MODEL_418d5be5fed748d982ba8723ecc0be92"
          }
        },
        "e9d7a3731f75426bbda182c0190434e8": {
          "model_module": "@jupyter-widgets/controls",
          "model_name": "HTMLModel",
          "model_module_version": "1.5.0",
          "state": {
            "_view_name": "HTMLView",
            "style": "IPY_MODEL_02b1d74c84c14b3d85d1ec53e5518a14",
            "_dom_classes": [],
            "description": "",
            "_model_name": "HTMLModel",
            "placeholder": "​",
            "_view_module": "@jupyter-widgets/controls",
            "_model_module_version": "1.5.0",
            "value": " 1.11G/1.11G [00:34&lt;00:00, 36.5MB/s]",
            "_view_count": null,
            "_view_module_version": "1.5.0",
            "description_tooltip": null,
            "_model_module": "@jupyter-widgets/controls",
            "layout": "IPY_MODEL_7c9d044b728543a482ea3ee511e6b2f0"
          }
        },
        "77ed8ca0b3534620921bddbd1d160bf7": {
          "model_module": "@jupyter-widgets/controls",
          "model_name": "DescriptionStyleModel",
          "model_module_version": "1.5.0",
          "state": {
            "_view_name": "StyleView",
            "_model_name": "DescriptionStyleModel",
            "description_width": "",
            "_view_module": "@jupyter-widgets/base",
            "_model_module_version": "1.5.0",
            "_view_count": null,
            "_view_module_version": "1.2.0",
            "_model_module": "@jupyter-widgets/controls"
          }
        },
        "fb8a4e977d7549c498d578f615da66c6": {
          "model_module": "@jupyter-widgets/base",
          "model_name": "LayoutModel",
          "model_module_version": "1.2.0",
          "state": {
            "_view_name": "LayoutView",
            "grid_template_rows": null,
            "right": null,
            "justify_content": null,
            "_view_module": "@jupyter-widgets/base",
            "overflow": null,
            "_model_module_version": "1.2.0",
            "_view_count": null,
            "flex_flow": null,
            "width": null,
            "min_width": null,
            "border": null,
            "align_items": null,
            "bottom": null,
            "_model_module": "@jupyter-widgets/base",
            "top": null,
            "grid_column": null,
            "overflow_y": null,
            "overflow_x": null,
            "grid_auto_flow": null,
            "grid_area": null,
            "grid_template_columns": null,
            "flex": null,
            "_model_name": "LayoutModel",
            "justify_items": null,
            "grid_row": null,
            "max_height": null,
            "align_content": null,
            "visibility": null,
            "align_self": null,
            "height": null,
            "min_height": null,
            "padding": null,
            "grid_auto_rows": null,
            "grid_gap": null,
            "max_width": null,
            "order": null,
            "_view_module_version": "1.2.0",
            "grid_template_areas": null,
            "object_position": null,
            "object_fit": null,
            "grid_auto_columns": null,
            "margin": null,
            "display": null,
            "left": null
          }
        },
        "17ae35e1178146e8a084cc7348a587c0": {
          "model_module": "@jupyter-widgets/controls",
          "model_name": "ProgressStyleModel",
          "model_module_version": "1.5.0",
          "state": {
            "_view_name": "StyleView",
            "_model_name": "ProgressStyleModel",
            "description_width": "",
            "_view_module": "@jupyter-widgets/base",
            "_model_module_version": "1.5.0",
            "_view_count": null,
            "_view_module_version": "1.2.0",
            "bar_color": null,
            "_model_module": "@jupyter-widgets/controls"
          }
        },
        "418d5be5fed748d982ba8723ecc0be92": {
          "model_module": "@jupyter-widgets/base",
          "model_name": "LayoutModel",
          "model_module_version": "1.2.0",
          "state": {
            "_view_name": "LayoutView",
            "grid_template_rows": null,
            "right": null,
            "justify_content": null,
            "_view_module": "@jupyter-widgets/base",
            "overflow": null,
            "_model_module_version": "1.2.0",
            "_view_count": null,
            "flex_flow": null,
            "width": null,
            "min_width": null,
            "border": null,
            "align_items": null,
            "bottom": null,
            "_model_module": "@jupyter-widgets/base",
            "top": null,
            "grid_column": null,
            "overflow_y": null,
            "overflow_x": null,
            "grid_auto_flow": null,
            "grid_area": null,
            "grid_template_columns": null,
            "flex": null,
            "_model_name": "LayoutModel",
            "justify_items": null,
            "grid_row": null,
            "max_height": null,
            "align_content": null,
            "visibility": null,
            "align_self": null,
            "height": null,
            "min_height": null,
            "padding": null,
            "grid_auto_rows": null,
            "grid_gap": null,
            "max_width": null,
            "order": null,
            "_view_module_version": "1.2.0",
            "grid_template_areas": null,
            "object_position": null,
            "object_fit": null,
            "grid_auto_columns": null,
            "margin": null,
            "display": null,
            "left": null
          }
        },
        "02b1d74c84c14b3d85d1ec53e5518a14": {
          "model_module": "@jupyter-widgets/controls",
          "model_name": "DescriptionStyleModel",
          "model_module_version": "1.5.0",
          "state": {
            "_view_name": "StyleView",
            "_model_name": "DescriptionStyleModel",
            "description_width": "",
            "_view_module": "@jupyter-widgets/base",
            "_model_module_version": "1.5.0",
            "_view_count": null,
            "_view_module_version": "1.2.0",
            "_model_module": "@jupyter-widgets/controls"
          }
        },
        "7c9d044b728543a482ea3ee511e6b2f0": {
          "model_module": "@jupyter-widgets/base",
          "model_name": "LayoutModel",
          "model_module_version": "1.2.0",
          "state": {
            "_view_name": "LayoutView",
            "grid_template_rows": null,
            "right": null,
            "justify_content": null,
            "_view_module": "@jupyter-widgets/base",
            "overflow": null,
            "_model_module_version": "1.2.0",
            "_view_count": null,
            "flex_flow": null,
            "width": null,
            "min_width": null,
            "border": null,
            "align_items": null,
            "bottom": null,
            "_model_module": "@jupyter-widgets/base",
            "top": null,
            "grid_column": null,
            "overflow_y": null,
            "overflow_x": null,
            "grid_auto_flow": null,
            "grid_area": null,
            "grid_template_columns": null,
            "flex": null,
            "_model_name": "LayoutModel",
            "justify_items": null,
            "grid_row": null,
            "max_height": null,
            "align_content": null,
            "visibility": null,
            "align_self": null,
            "height": null,
            "min_height": null,
            "padding": null,
            "grid_auto_rows": null,
            "grid_gap": null,
            "max_width": null,
            "order": null,
            "_view_module_version": "1.2.0",
            "grid_template_areas": null,
            "object_position": null,
            "object_fit": null,
            "grid_auto_columns": null,
            "margin": null,
            "display": null,
            "left": null
          }
        },
        "3d44eba4a9234768bdbd220a0cf8630a": {
          "model_module": "@jupyter-widgets/controls",
          "model_name": "HBoxModel",
          "model_module_version": "1.5.0",
          "state": {
            "_view_name": "HBoxView",
            "_dom_classes": [],
            "_model_name": "HBoxModel",
            "_view_module": "@jupyter-widgets/controls",
            "_model_module_version": "1.5.0",
            "_view_count": null,
            "_view_module_version": "1.5.0",
            "box_style": "",
            "layout": "IPY_MODEL_5030854572c84a5b81c4e01af89b8d2a",
            "_model_module": "@jupyter-widgets/controls",
            "children": [
              "IPY_MODEL_06e8bdb1fe7a4294aafb8e151127f9ad",
              "IPY_MODEL_9638e2ed8d0f49c1a5bebc259f8e63da",
              "IPY_MODEL_2e5ac61c57f84ccab3ecab5aaa1dd696"
            ]
          }
        },
        "5030854572c84a5b81c4e01af89b8d2a": {
          "model_module": "@jupyter-widgets/base",
          "model_name": "LayoutModel",
          "model_module_version": "1.2.0",
          "state": {
            "_view_name": "LayoutView",
            "grid_template_rows": null,
            "right": null,
            "justify_content": null,
            "_view_module": "@jupyter-widgets/base",
            "overflow": null,
            "_model_module_version": "1.2.0",
            "_view_count": null,
            "flex_flow": null,
            "width": null,
            "min_width": null,
            "border": null,
            "align_items": null,
            "bottom": null,
            "_model_module": "@jupyter-widgets/base",
            "top": null,
            "grid_column": null,
            "overflow_y": null,
            "overflow_x": null,
            "grid_auto_flow": null,
            "grid_area": null,
            "grid_template_columns": null,
            "flex": null,
            "_model_name": "LayoutModel",
            "justify_items": null,
            "grid_row": null,
            "max_height": null,
            "align_content": null,
            "visibility": null,
            "align_self": null,
            "height": null,
            "min_height": null,
            "padding": null,
            "grid_auto_rows": null,
            "grid_gap": null,
            "max_width": null,
            "order": null,
            "_view_module_version": "1.2.0",
            "grid_template_areas": null,
            "object_position": null,
            "object_fit": null,
            "grid_auto_columns": null,
            "margin": null,
            "display": null,
            "left": null
          }
        },
        "06e8bdb1fe7a4294aafb8e151127f9ad": {
          "model_module": "@jupyter-widgets/controls",
          "model_name": "HTMLModel",
          "model_module_version": "1.5.0",
          "state": {
            "_view_name": "HTMLView",
            "style": "IPY_MODEL_f656547699c34a1e85a0be910802c325",
            "_dom_classes": [],
            "description": "",
            "_model_name": "HTMLModel",
            "placeholder": "​",
            "_view_module": "@jupyter-widgets/controls",
            "_model_module_version": "1.5.0",
            "value": "Downloading: 100%",
            "_view_count": null,
            "_view_module_version": "1.5.0",
            "description_tooltip": null,
            "_model_module": "@jupyter-widgets/controls",
            "layout": "IPY_MODEL_f096dab126d4401d9e7eb33bc8e8ff74"
          }
        },
        "9638e2ed8d0f49c1a5bebc259f8e63da": {
          "model_module": "@jupyter-widgets/controls",
          "model_name": "FloatProgressModel",
          "model_module_version": "1.5.0",
          "state": {
            "_view_name": "ProgressView",
            "style": "IPY_MODEL_106a65f31e7649c2a6137f5b9aee5c6f",
            "_dom_classes": [],
            "description": "",
            "_model_name": "FloatProgressModel",
            "bar_style": "success",
            "max": 53,
            "_view_module": "@jupyter-widgets/controls",
            "_model_module_version": "1.5.0",
            "value": 53,
            "_view_count": null,
            "_view_module_version": "1.5.0",
            "orientation": "horizontal",
            "min": 0,
            "description_tooltip": null,
            "_model_module": "@jupyter-widgets/controls",
            "layout": "IPY_MODEL_06e01d53380640b988b34c3a84e9eda4"
          }
        },
        "2e5ac61c57f84ccab3ecab5aaa1dd696": {
          "model_module": "@jupyter-widgets/controls",
          "model_name": "HTMLModel",
          "model_module_version": "1.5.0",
          "state": {
            "_view_name": "HTMLView",
            "style": "IPY_MODEL_4d2483d6f2e5409cabc9ec413b55c0f8",
            "_dom_classes": [],
            "description": "",
            "_model_name": "HTMLModel",
            "placeholder": "​",
            "_view_module": "@jupyter-widgets/controls",
            "_model_module_version": "1.5.0",
            "value": " 53.0/53.0 [00:00&lt;00:00, 1.34kB/s]",
            "_view_count": null,
            "_view_module_version": "1.5.0",
            "description_tooltip": null,
            "_model_module": "@jupyter-widgets/controls",
            "layout": "IPY_MODEL_174161f2583c43389557295dc1f9f7a9"
          }
        },
        "f656547699c34a1e85a0be910802c325": {
          "model_module": "@jupyter-widgets/controls",
          "model_name": "DescriptionStyleModel",
          "model_module_version": "1.5.0",
          "state": {
            "_view_name": "StyleView",
            "_model_name": "DescriptionStyleModel",
            "description_width": "",
            "_view_module": "@jupyter-widgets/base",
            "_model_module_version": "1.5.0",
            "_view_count": null,
            "_view_module_version": "1.2.0",
            "_model_module": "@jupyter-widgets/controls"
          }
        },
        "f096dab126d4401d9e7eb33bc8e8ff74": {
          "model_module": "@jupyter-widgets/base",
          "model_name": "LayoutModel",
          "model_module_version": "1.2.0",
          "state": {
            "_view_name": "LayoutView",
            "grid_template_rows": null,
            "right": null,
            "justify_content": null,
            "_view_module": "@jupyter-widgets/base",
            "overflow": null,
            "_model_module_version": "1.2.0",
            "_view_count": null,
            "flex_flow": null,
            "width": null,
            "min_width": null,
            "border": null,
            "align_items": null,
            "bottom": null,
            "_model_module": "@jupyter-widgets/base",
            "top": null,
            "grid_column": null,
            "overflow_y": null,
            "overflow_x": null,
            "grid_auto_flow": null,
            "grid_area": null,
            "grid_template_columns": null,
            "flex": null,
            "_model_name": "LayoutModel",
            "justify_items": null,
            "grid_row": null,
            "max_height": null,
            "align_content": null,
            "visibility": null,
            "align_self": null,
            "height": null,
            "min_height": null,
            "padding": null,
            "grid_auto_rows": null,
            "grid_gap": null,
            "max_width": null,
            "order": null,
            "_view_module_version": "1.2.0",
            "grid_template_areas": null,
            "object_position": null,
            "object_fit": null,
            "grid_auto_columns": null,
            "margin": null,
            "display": null,
            "left": null
          }
        },
        "106a65f31e7649c2a6137f5b9aee5c6f": {
          "model_module": "@jupyter-widgets/controls",
          "model_name": "ProgressStyleModel",
          "model_module_version": "1.5.0",
          "state": {
            "_view_name": "StyleView",
            "_model_name": "ProgressStyleModel",
            "description_width": "",
            "_view_module": "@jupyter-widgets/base",
            "_model_module_version": "1.5.0",
            "_view_count": null,
            "_view_module_version": "1.2.0",
            "bar_color": null,
            "_model_module": "@jupyter-widgets/controls"
          }
        },
        "06e01d53380640b988b34c3a84e9eda4": {
          "model_module": "@jupyter-widgets/base",
          "model_name": "LayoutModel",
          "model_module_version": "1.2.0",
          "state": {
            "_view_name": "LayoutView",
            "grid_template_rows": null,
            "right": null,
            "justify_content": null,
            "_view_module": "@jupyter-widgets/base",
            "overflow": null,
            "_model_module_version": "1.2.0",
            "_view_count": null,
            "flex_flow": null,
            "width": null,
            "min_width": null,
            "border": null,
            "align_items": null,
            "bottom": null,
            "_model_module": "@jupyter-widgets/base",
            "top": null,
            "grid_column": null,
            "overflow_y": null,
            "overflow_x": null,
            "grid_auto_flow": null,
            "grid_area": null,
            "grid_template_columns": null,
            "flex": null,
            "_model_name": "LayoutModel",
            "justify_items": null,
            "grid_row": null,
            "max_height": null,
            "align_content": null,
            "visibility": null,
            "align_self": null,
            "height": null,
            "min_height": null,
            "padding": null,
            "grid_auto_rows": null,
            "grid_gap": null,
            "max_width": null,
            "order": null,
            "_view_module_version": "1.2.0",
            "grid_template_areas": null,
            "object_position": null,
            "object_fit": null,
            "grid_auto_columns": null,
            "margin": null,
            "display": null,
            "left": null
          }
        },
        "4d2483d6f2e5409cabc9ec413b55c0f8": {
          "model_module": "@jupyter-widgets/controls",
          "model_name": "DescriptionStyleModel",
          "model_module_version": "1.5.0",
          "state": {
            "_view_name": "StyleView",
            "_model_name": "DescriptionStyleModel",
            "description_width": "",
            "_view_module": "@jupyter-widgets/base",
            "_model_module_version": "1.5.0",
            "_view_count": null,
            "_view_module_version": "1.2.0",
            "_model_module": "@jupyter-widgets/controls"
          }
        },
        "174161f2583c43389557295dc1f9f7a9": {
          "model_module": "@jupyter-widgets/base",
          "model_name": "LayoutModel",
          "model_module_version": "1.2.0",
          "state": {
            "_view_name": "LayoutView",
            "grid_template_rows": null,
            "right": null,
            "justify_content": null,
            "_view_module": "@jupyter-widgets/base",
            "overflow": null,
            "_model_module_version": "1.2.0",
            "_view_count": null,
            "flex_flow": null,
            "width": null,
            "min_width": null,
            "border": null,
            "align_items": null,
            "bottom": null,
            "_model_module": "@jupyter-widgets/base",
            "top": null,
            "grid_column": null,
            "overflow_y": null,
            "overflow_x": null,
            "grid_auto_flow": null,
            "grid_area": null,
            "grid_template_columns": null,
            "flex": null,
            "_model_name": "LayoutModel",
            "justify_items": null,
            "grid_row": null,
            "max_height": null,
            "align_content": null,
            "visibility": null,
            "align_self": null,
            "height": null,
            "min_height": null,
            "padding": null,
            "grid_auto_rows": null,
            "grid_gap": null,
            "max_width": null,
            "order": null,
            "_view_module_version": "1.2.0",
            "grid_template_areas": null,
            "object_position": null,
            "object_fit": null,
            "grid_auto_columns": null,
            "margin": null,
            "display": null,
            "left": null
          }
        },
        "14d96e1f933249d4beec0a411ba353ec": {
          "model_module": "@jupyter-widgets/controls",
          "model_name": "HBoxModel",
          "model_module_version": "1.5.0",
          "state": {
            "_view_name": "HBoxView",
            "_dom_classes": [],
            "_model_name": "HBoxModel",
            "_view_module": "@jupyter-widgets/controls",
            "_model_module_version": "1.5.0",
            "_view_count": null,
            "_view_module_version": "1.5.0",
            "box_style": "",
            "layout": "IPY_MODEL_1af92ae8d2a940cea92f1cad22fe6142",
            "_model_module": "@jupyter-widgets/controls",
            "children": [
              "IPY_MODEL_1e5a806b48e445db9557a62f418abcc5",
              "IPY_MODEL_f8593b12d3e243e2b198e5c7a5e0932a",
              "IPY_MODEL_94058457043e488f88df0307b674e280"
            ]
          }
        },
        "1af92ae8d2a940cea92f1cad22fe6142": {
          "model_module": "@jupyter-widgets/base",
          "model_name": "LayoutModel",
          "model_module_version": "1.2.0",
          "state": {
            "_view_name": "LayoutView",
            "grid_template_rows": null,
            "right": null,
            "justify_content": null,
            "_view_module": "@jupyter-widgets/base",
            "overflow": null,
            "_model_module_version": "1.2.0",
            "_view_count": null,
            "flex_flow": null,
            "width": null,
            "min_width": null,
            "border": null,
            "align_items": null,
            "bottom": null,
            "_model_module": "@jupyter-widgets/base",
            "top": null,
            "grid_column": null,
            "overflow_y": null,
            "overflow_x": null,
            "grid_auto_flow": null,
            "grid_area": null,
            "grid_template_columns": null,
            "flex": null,
            "_model_name": "LayoutModel",
            "justify_items": null,
            "grid_row": null,
            "max_height": null,
            "align_content": null,
            "visibility": null,
            "align_self": null,
            "height": null,
            "min_height": null,
            "padding": null,
            "grid_auto_rows": null,
            "grid_gap": null,
            "max_width": null,
            "order": null,
            "_view_module_version": "1.2.0",
            "grid_template_areas": null,
            "object_position": null,
            "object_fit": null,
            "grid_auto_columns": null,
            "margin": null,
            "display": null,
            "left": null
          }
        },
        "1e5a806b48e445db9557a62f418abcc5": {
          "model_module": "@jupyter-widgets/controls",
          "model_name": "HTMLModel",
          "model_module_version": "1.5.0",
          "state": {
            "_view_name": "HTMLView",
            "style": "IPY_MODEL_8ff4647b93044d96984dc55458b8ca66",
            "_dom_classes": [],
            "description": "",
            "_model_name": "HTMLModel",
            "placeholder": "​",
            "_view_module": "@jupyter-widgets/controls",
            "_model_module_version": "1.5.0",
            "value": "Downloading: 100%",
            "_view_count": null,
            "_view_module_version": "1.5.0",
            "description_tooltip": null,
            "_model_module": "@jupyter-widgets/controls",
            "layout": "IPY_MODEL_efbb5932db3146769c1a4bf809f5dac6"
          }
        },
        "f8593b12d3e243e2b198e5c7a5e0932a": {
          "model_module": "@jupyter-widgets/controls",
          "model_name": "FloatProgressModel",
          "model_module_version": "1.5.0",
          "state": {
            "_view_name": "ProgressView",
            "style": "IPY_MODEL_51519941945943d28af13f444481cc34",
            "_dom_classes": [],
            "description": "",
            "_model_name": "FloatProgressModel",
            "bar_style": "success",
            "max": 5069051,
            "_view_module": "@jupyter-widgets/controls",
            "_model_module_version": "1.5.0",
            "value": 5069051,
            "_view_count": null,
            "_view_module_version": "1.5.0",
            "orientation": "horizontal",
            "min": 0,
            "description_tooltip": null,
            "_model_module": "@jupyter-widgets/controls",
            "layout": "IPY_MODEL_401dd844e2d84080ab84a2f592c927f8"
          }
        },
        "94058457043e488f88df0307b674e280": {
          "model_module": "@jupyter-widgets/controls",
          "model_name": "HTMLModel",
          "model_module_version": "1.5.0",
          "state": {
            "_view_name": "HTMLView",
            "style": "IPY_MODEL_880df103494b49c9a4e9dc271cc1a7c9",
            "_dom_classes": [],
            "description": "",
            "_model_name": "HTMLModel",
            "placeholder": "​",
            "_view_module": "@jupyter-widgets/controls",
            "_model_module_version": "1.5.0",
            "value": " 5.07M/5.07M [00:00&lt;00:00, 11.1MB/s]",
            "_view_count": null,
            "_view_module_version": "1.5.0",
            "description_tooltip": null,
            "_model_module": "@jupyter-widgets/controls",
            "layout": "IPY_MODEL_a59c06ed95f34b0d90ba447f7ad6e732"
          }
        },
        "8ff4647b93044d96984dc55458b8ca66": {
          "model_module": "@jupyter-widgets/controls",
          "model_name": "DescriptionStyleModel",
          "model_module_version": "1.5.0",
          "state": {
            "_view_name": "StyleView",
            "_model_name": "DescriptionStyleModel",
            "description_width": "",
            "_view_module": "@jupyter-widgets/base",
            "_model_module_version": "1.5.0",
            "_view_count": null,
            "_view_module_version": "1.2.0",
            "_model_module": "@jupyter-widgets/controls"
          }
        },
        "efbb5932db3146769c1a4bf809f5dac6": {
          "model_module": "@jupyter-widgets/base",
          "model_name": "LayoutModel",
          "model_module_version": "1.2.0",
          "state": {
            "_view_name": "LayoutView",
            "grid_template_rows": null,
            "right": null,
            "justify_content": null,
            "_view_module": "@jupyter-widgets/base",
            "overflow": null,
            "_model_module_version": "1.2.0",
            "_view_count": null,
            "flex_flow": null,
            "width": null,
            "min_width": null,
            "border": null,
            "align_items": null,
            "bottom": null,
            "_model_module": "@jupyter-widgets/base",
            "top": null,
            "grid_column": null,
            "overflow_y": null,
            "overflow_x": null,
            "grid_auto_flow": null,
            "grid_area": null,
            "grid_template_columns": null,
            "flex": null,
            "_model_name": "LayoutModel",
            "justify_items": null,
            "grid_row": null,
            "max_height": null,
            "align_content": null,
            "visibility": null,
            "align_self": null,
            "height": null,
            "min_height": null,
            "padding": null,
            "grid_auto_rows": null,
            "grid_gap": null,
            "max_width": null,
            "order": null,
            "_view_module_version": "1.2.0",
            "grid_template_areas": null,
            "object_position": null,
            "object_fit": null,
            "grid_auto_columns": null,
            "margin": null,
            "display": null,
            "left": null
          }
        },
        "51519941945943d28af13f444481cc34": {
          "model_module": "@jupyter-widgets/controls",
          "model_name": "ProgressStyleModel",
          "model_module_version": "1.5.0",
          "state": {
            "_view_name": "StyleView",
            "_model_name": "ProgressStyleModel",
            "description_width": "",
            "_view_module": "@jupyter-widgets/base",
            "_model_module_version": "1.5.0",
            "_view_count": null,
            "_view_module_version": "1.2.0",
            "bar_color": null,
            "_model_module": "@jupyter-widgets/controls"
          }
        },
        "401dd844e2d84080ab84a2f592c927f8": {
          "model_module": "@jupyter-widgets/base",
          "model_name": "LayoutModel",
          "model_module_version": "1.2.0",
          "state": {
            "_view_name": "LayoutView",
            "grid_template_rows": null,
            "right": null,
            "justify_content": null,
            "_view_module": "@jupyter-widgets/base",
            "overflow": null,
            "_model_module_version": "1.2.0",
            "_view_count": null,
            "flex_flow": null,
            "width": null,
            "min_width": null,
            "border": null,
            "align_items": null,
            "bottom": null,
            "_model_module": "@jupyter-widgets/base",
            "top": null,
            "grid_column": null,
            "overflow_y": null,
            "overflow_x": null,
            "grid_auto_flow": null,
            "grid_area": null,
            "grid_template_columns": null,
            "flex": null,
            "_model_name": "LayoutModel",
            "justify_items": null,
            "grid_row": null,
            "max_height": null,
            "align_content": null,
            "visibility": null,
            "align_self": null,
            "height": null,
            "min_height": null,
            "padding": null,
            "grid_auto_rows": null,
            "grid_gap": null,
            "max_width": null,
            "order": null,
            "_view_module_version": "1.2.0",
            "grid_template_areas": null,
            "object_position": null,
            "object_fit": null,
            "grid_auto_columns": null,
            "margin": null,
            "display": null,
            "left": null
          }
        },
        "880df103494b49c9a4e9dc271cc1a7c9": {
          "model_module": "@jupyter-widgets/controls",
          "model_name": "DescriptionStyleModel",
          "model_module_version": "1.5.0",
          "state": {
            "_view_name": "StyleView",
            "_model_name": "DescriptionStyleModel",
            "description_width": "",
            "_view_module": "@jupyter-widgets/base",
            "_model_module_version": "1.5.0",
            "_view_count": null,
            "_view_module_version": "1.2.0",
            "_model_module": "@jupyter-widgets/controls"
          }
        },
        "a59c06ed95f34b0d90ba447f7ad6e732": {
          "model_module": "@jupyter-widgets/base",
          "model_name": "LayoutModel",
          "model_module_version": "1.2.0",
          "state": {
            "_view_name": "LayoutView",
            "grid_template_rows": null,
            "right": null,
            "justify_content": null,
            "_view_module": "@jupyter-widgets/base",
            "overflow": null,
            "_model_module_version": "1.2.0",
            "_view_count": null,
            "flex_flow": null,
            "width": null,
            "min_width": null,
            "border": null,
            "align_items": null,
            "bottom": null,
            "_model_module": "@jupyter-widgets/base",
            "top": null,
            "grid_column": null,
            "overflow_y": null,
            "overflow_x": null,
            "grid_auto_flow": null,
            "grid_area": null,
            "grid_template_columns": null,
            "flex": null,
            "_model_name": "LayoutModel",
            "justify_items": null,
            "grid_row": null,
            "max_height": null,
            "align_content": null,
            "visibility": null,
            "align_self": null,
            "height": null,
            "min_height": null,
            "padding": null,
            "grid_auto_rows": null,
            "grid_gap": null,
            "max_width": null,
            "order": null,
            "_view_module_version": "1.2.0",
            "grid_template_areas": null,
            "object_position": null,
            "object_fit": null,
            "grid_auto_columns": null,
            "margin": null,
            "display": null,
            "left": null
          }
        },
        "aa4233439e6b460283caa3c0c6b82fa8": {
          "model_module": "@jupyter-widgets/controls",
          "model_name": "HBoxModel",
          "model_module_version": "1.5.0",
          "state": {
            "_view_name": "HBoxView",
            "_dom_classes": [],
            "_model_name": "HBoxModel",
            "_view_module": "@jupyter-widgets/controls",
            "_model_module_version": "1.5.0",
            "_view_count": null,
            "_view_module_version": "1.5.0",
            "box_style": "",
            "layout": "IPY_MODEL_b15f30283a5b431cbef810945cca9291",
            "_model_module": "@jupyter-widgets/controls",
            "children": [
              "IPY_MODEL_a381df8d83264152b7ce5bca197a7dc7",
              "IPY_MODEL_e6bf6aadc82f4e16af16ff6f239cff82",
              "IPY_MODEL_1adf208d26d34c8e970e41854184edc8"
            ]
          }
        },
        "b15f30283a5b431cbef810945cca9291": {
          "model_module": "@jupyter-widgets/base",
          "model_name": "LayoutModel",
          "model_module_version": "1.2.0",
          "state": {
            "_view_name": "LayoutView",
            "grid_template_rows": null,
            "right": null,
            "justify_content": null,
            "_view_module": "@jupyter-widgets/base",
            "overflow": null,
            "_model_module_version": "1.2.0",
            "_view_count": null,
            "flex_flow": null,
            "width": null,
            "min_width": null,
            "border": null,
            "align_items": null,
            "bottom": null,
            "_model_module": "@jupyter-widgets/base",
            "top": null,
            "grid_column": null,
            "overflow_y": null,
            "overflow_x": null,
            "grid_auto_flow": null,
            "grid_area": null,
            "grid_template_columns": null,
            "flex": null,
            "_model_name": "LayoutModel",
            "justify_items": null,
            "grid_row": null,
            "max_height": null,
            "align_content": null,
            "visibility": null,
            "align_self": null,
            "height": null,
            "min_height": null,
            "padding": null,
            "grid_auto_rows": null,
            "grid_gap": null,
            "max_width": null,
            "order": null,
            "_view_module_version": "1.2.0",
            "grid_template_areas": null,
            "object_position": null,
            "object_fit": null,
            "grid_auto_columns": null,
            "margin": null,
            "display": null,
            "left": null
          }
        },
        "a381df8d83264152b7ce5bca197a7dc7": {
          "model_module": "@jupyter-widgets/controls",
          "model_name": "HTMLModel",
          "model_module_version": "1.5.0",
          "state": {
            "_view_name": "HTMLView",
            "style": "IPY_MODEL_e2a5f60d57794cda956f9981850d3285",
            "_dom_classes": [],
            "description": "",
            "_model_name": "HTMLModel",
            "placeholder": "​",
            "_view_module": "@jupyter-widgets/controls",
            "_model_module_version": "1.5.0",
            "value": "Downloading: 100%",
            "_view_count": null,
            "_view_module_version": "1.5.0",
            "description_tooltip": null,
            "_model_module": "@jupyter-widgets/controls",
            "layout": "IPY_MODEL_a85136e8fb4740279753b4347fdc7b89"
          }
        },
        "e6bf6aadc82f4e16af16ff6f239cff82": {
          "model_module": "@jupyter-widgets/controls",
          "model_name": "FloatProgressModel",
          "model_module_version": "1.5.0",
          "state": {
            "_view_name": "ProgressView",
            "style": "IPY_MODEL_973561f53ea747aab0a6ad47ea8de7f2",
            "_dom_classes": [],
            "description": "",
            "_model_name": "FloatProgressModel",
            "bar_style": "success",
            "max": 150,
            "_view_module": "@jupyter-widgets/controls",
            "_model_module_version": "1.5.0",
            "value": 150,
            "_view_count": null,
            "_view_module_version": "1.5.0",
            "orientation": "horizontal",
            "min": 0,
            "description_tooltip": null,
            "_model_module": "@jupyter-widgets/controls",
            "layout": "IPY_MODEL_8e6f5439c38c4103b54df56758ab9762"
          }
        },
        "1adf208d26d34c8e970e41854184edc8": {
          "model_module": "@jupyter-widgets/controls",
          "model_name": "HTMLModel",
          "model_module_version": "1.5.0",
          "state": {
            "_view_name": "HTMLView",
            "style": "IPY_MODEL_1c0de0f558f1410f8a8d36e499c6a0cc",
            "_dom_classes": [],
            "description": "",
            "_model_name": "HTMLModel",
            "placeholder": "​",
            "_view_module": "@jupyter-widgets/controls",
            "_model_module_version": "1.5.0",
            "value": " 150/150 [00:00&lt;00:00, 3.29kB/s]",
            "_view_count": null,
            "_view_module_version": "1.5.0",
            "description_tooltip": null,
            "_model_module": "@jupyter-widgets/controls",
            "layout": "IPY_MODEL_f355c5aa1c154aa8bdc0b42eb64896a8"
          }
        },
        "e2a5f60d57794cda956f9981850d3285": {
          "model_module": "@jupyter-widgets/controls",
          "model_name": "DescriptionStyleModel",
          "model_module_version": "1.5.0",
          "state": {
            "_view_name": "StyleView",
            "_model_name": "DescriptionStyleModel",
            "description_width": "",
            "_view_module": "@jupyter-widgets/base",
            "_model_module_version": "1.5.0",
            "_view_count": null,
            "_view_module_version": "1.2.0",
            "_model_module": "@jupyter-widgets/controls"
          }
        },
        "a85136e8fb4740279753b4347fdc7b89": {
          "model_module": "@jupyter-widgets/base",
          "model_name": "LayoutModel",
          "model_module_version": "1.2.0",
          "state": {
            "_view_name": "LayoutView",
            "grid_template_rows": null,
            "right": null,
            "justify_content": null,
            "_view_module": "@jupyter-widgets/base",
            "overflow": null,
            "_model_module_version": "1.2.0",
            "_view_count": null,
            "flex_flow": null,
            "width": null,
            "min_width": null,
            "border": null,
            "align_items": null,
            "bottom": null,
            "_model_module": "@jupyter-widgets/base",
            "top": null,
            "grid_column": null,
            "overflow_y": null,
            "overflow_x": null,
            "grid_auto_flow": null,
            "grid_area": null,
            "grid_template_columns": null,
            "flex": null,
            "_model_name": "LayoutModel",
            "justify_items": null,
            "grid_row": null,
            "max_height": null,
            "align_content": null,
            "visibility": null,
            "align_self": null,
            "height": null,
            "min_height": null,
            "padding": null,
            "grid_auto_rows": null,
            "grid_gap": null,
            "max_width": null,
            "order": null,
            "_view_module_version": "1.2.0",
            "grid_template_areas": null,
            "object_position": null,
            "object_fit": null,
            "grid_auto_columns": null,
            "margin": null,
            "display": null,
            "left": null
          }
        },
        "973561f53ea747aab0a6ad47ea8de7f2": {
          "model_module": "@jupyter-widgets/controls",
          "model_name": "ProgressStyleModel",
          "model_module_version": "1.5.0",
          "state": {
            "_view_name": "StyleView",
            "_model_name": "ProgressStyleModel",
            "description_width": "",
            "_view_module": "@jupyter-widgets/base",
            "_model_module_version": "1.5.0",
            "_view_count": null,
            "_view_module_version": "1.2.0",
            "bar_color": null,
            "_model_module": "@jupyter-widgets/controls"
          }
        },
        "8e6f5439c38c4103b54df56758ab9762": {
          "model_module": "@jupyter-widgets/base",
          "model_name": "LayoutModel",
          "model_module_version": "1.2.0",
          "state": {
            "_view_name": "LayoutView",
            "grid_template_rows": null,
            "right": null,
            "justify_content": null,
            "_view_module": "@jupyter-widgets/base",
            "overflow": null,
            "_model_module_version": "1.2.0",
            "_view_count": null,
            "flex_flow": null,
            "width": null,
            "min_width": null,
            "border": null,
            "align_items": null,
            "bottom": null,
            "_model_module": "@jupyter-widgets/base",
            "top": null,
            "grid_column": null,
            "overflow_y": null,
            "overflow_x": null,
            "grid_auto_flow": null,
            "grid_area": null,
            "grid_template_columns": null,
            "flex": null,
            "_model_name": "LayoutModel",
            "justify_items": null,
            "grid_row": null,
            "max_height": null,
            "align_content": null,
            "visibility": null,
            "align_self": null,
            "height": null,
            "min_height": null,
            "padding": null,
            "grid_auto_rows": null,
            "grid_gap": null,
            "max_width": null,
            "order": null,
            "_view_module_version": "1.2.0",
            "grid_template_areas": null,
            "object_position": null,
            "object_fit": null,
            "grid_auto_columns": null,
            "margin": null,
            "display": null,
            "left": null
          }
        },
        "1c0de0f558f1410f8a8d36e499c6a0cc": {
          "model_module": "@jupyter-widgets/controls",
          "model_name": "DescriptionStyleModel",
          "model_module_version": "1.5.0",
          "state": {
            "_view_name": "StyleView",
            "_model_name": "DescriptionStyleModel",
            "description_width": "",
            "_view_module": "@jupyter-widgets/base",
            "_model_module_version": "1.5.0",
            "_view_count": null,
            "_view_module_version": "1.2.0",
            "_model_module": "@jupyter-widgets/controls"
          }
        },
        "f355c5aa1c154aa8bdc0b42eb64896a8": {
          "model_module": "@jupyter-widgets/base",
          "model_name": "LayoutModel",
          "model_module_version": "1.2.0",
          "state": {
            "_view_name": "LayoutView",
            "grid_template_rows": null,
            "right": null,
            "justify_content": null,
            "_view_module": "@jupyter-widgets/base",
            "overflow": null,
            "_model_module_version": "1.2.0",
            "_view_count": null,
            "flex_flow": null,
            "width": null,
            "min_width": null,
            "border": null,
            "align_items": null,
            "bottom": null,
            "_model_module": "@jupyter-widgets/base",
            "top": null,
            "grid_column": null,
            "overflow_y": null,
            "overflow_x": null,
            "grid_auto_flow": null,
            "grid_area": null,
            "grid_template_columns": null,
            "flex": null,
            "_model_name": "LayoutModel",
            "justify_items": null,
            "grid_row": null,
            "max_height": null,
            "align_content": null,
            "visibility": null,
            "align_self": null,
            "height": null,
            "min_height": null,
            "padding": null,
            "grid_auto_rows": null,
            "grid_gap": null,
            "max_width": null,
            "order": null,
            "_view_module_version": "1.2.0",
            "grid_template_areas": null,
            "object_position": null,
            "object_fit": null,
            "grid_auto_columns": null,
            "margin": null,
            "display": null,
            "left": null
          }
        },
        "3cef909f42664392a27f9a48f5c44e03": {
          "model_module": "@jupyter-widgets/controls",
          "model_name": "HBoxModel",
          "model_module_version": "1.5.0",
          "state": {
            "_view_name": "HBoxView",
            "_dom_classes": [],
            "_model_name": "HBoxModel",
            "_view_module": "@jupyter-widgets/controls",
            "_model_module_version": "1.5.0",
            "_view_count": null,
            "_view_module_version": "1.5.0",
            "box_style": "",
            "layout": "IPY_MODEL_2f44c12ee3ca4c199fe8585028a79c38",
            "_model_module": "@jupyter-widgets/controls",
            "children": [
              "IPY_MODEL_96aa490de491477ba585beacebb5fdbd",
              "IPY_MODEL_9f0bdb904e80488390598022bd6dad78",
              "IPY_MODEL_95d7c417e9864ad2bd44576b540bdb62"
            ]
          }
        },
        "2f44c12ee3ca4c199fe8585028a79c38": {
          "model_module": "@jupyter-widgets/base",
          "model_name": "LayoutModel",
          "model_module_version": "1.2.0",
          "state": {
            "_view_name": "LayoutView",
            "grid_template_rows": null,
            "right": null,
            "justify_content": null,
            "_view_module": "@jupyter-widgets/base",
            "overflow": null,
            "_model_module_version": "1.2.0",
            "_view_count": null,
            "flex_flow": null,
            "width": null,
            "min_width": null,
            "border": null,
            "align_items": null,
            "bottom": null,
            "_model_module": "@jupyter-widgets/base",
            "top": null,
            "grid_column": null,
            "overflow_y": null,
            "overflow_x": null,
            "grid_auto_flow": null,
            "grid_area": null,
            "grid_template_columns": null,
            "flex": null,
            "_model_name": "LayoutModel",
            "justify_items": null,
            "grid_row": null,
            "max_height": null,
            "align_content": null,
            "visibility": null,
            "align_self": null,
            "height": null,
            "min_height": null,
            "padding": null,
            "grid_auto_rows": null,
            "grid_gap": null,
            "max_width": null,
            "order": null,
            "_view_module_version": "1.2.0",
            "grid_template_areas": null,
            "object_position": null,
            "object_fit": null,
            "grid_auto_columns": null,
            "margin": null,
            "display": null,
            "left": null
          }
        },
        "96aa490de491477ba585beacebb5fdbd": {
          "model_module": "@jupyter-widgets/controls",
          "model_name": "HTMLModel",
          "model_module_version": "1.5.0",
          "state": {
            "_view_name": "HTMLView",
            "style": "IPY_MODEL_74d9ee62bb8649f1888f55a2dcbbd52b",
            "_dom_classes": [],
            "description": "",
            "_model_name": "HTMLModel",
            "placeholder": "​",
            "_view_module": "@jupyter-widgets/controls",
            "_model_module_version": "1.5.0",
            "value": "Downloading: 100%",
            "_view_count": null,
            "_view_module_version": "1.5.0",
            "description_tooltip": null,
            "_model_module": "@jupyter-widgets/controls",
            "layout": "IPY_MODEL_389f799c2dff4e82a661237639da76f8"
          }
        },
        "9f0bdb904e80488390598022bd6dad78": {
          "model_module": "@jupyter-widgets/controls",
          "model_name": "FloatProgressModel",
          "model_module_version": "1.5.0",
          "state": {
            "_view_name": "ProgressView",
            "style": "IPY_MODEL_364c6dbf509e42a4b5322afcbe15f97b",
            "_dom_classes": [],
            "description": "",
            "_model_name": "FloatProgressModel",
            "bar_style": "success",
            "max": 9096735,
            "_view_module": "@jupyter-widgets/controls",
            "_model_module_version": "1.5.0",
            "value": 9096735,
            "_view_count": null,
            "_view_module_version": "1.5.0",
            "orientation": "horizontal",
            "min": 0,
            "description_tooltip": null,
            "_model_module": "@jupyter-widgets/controls",
            "layout": "IPY_MODEL_64933c58e9ab471abdbea07e9db04489"
          }
        },
        "95d7c417e9864ad2bd44576b540bdb62": {
          "model_module": "@jupyter-widgets/controls",
          "model_name": "HTMLModel",
          "model_module_version": "1.5.0",
          "state": {
            "_view_name": "HTMLView",
            "style": "IPY_MODEL_28efc1ef355a426690b65a8e4db946c6",
            "_dom_classes": [],
            "description": "",
            "_model_name": "HTMLModel",
            "placeholder": "​",
            "_view_module": "@jupyter-widgets/controls",
            "_model_module_version": "1.5.0",
            "value": " 9.10M/9.10M [00:00&lt;00:00, 29.2MB/s]",
            "_view_count": null,
            "_view_module_version": "1.5.0",
            "description_tooltip": null,
            "_model_module": "@jupyter-widgets/controls",
            "layout": "IPY_MODEL_733a89d18c564343bb996e49fd768fc9"
          }
        },
        "74d9ee62bb8649f1888f55a2dcbbd52b": {
          "model_module": "@jupyter-widgets/controls",
          "model_name": "DescriptionStyleModel",
          "model_module_version": "1.5.0",
          "state": {
            "_view_name": "StyleView",
            "_model_name": "DescriptionStyleModel",
            "description_width": "",
            "_view_module": "@jupyter-widgets/base",
            "_model_module_version": "1.5.0",
            "_view_count": null,
            "_view_module_version": "1.2.0",
            "_model_module": "@jupyter-widgets/controls"
          }
        },
        "389f799c2dff4e82a661237639da76f8": {
          "model_module": "@jupyter-widgets/base",
          "model_name": "LayoutModel",
          "model_module_version": "1.2.0",
          "state": {
            "_view_name": "LayoutView",
            "grid_template_rows": null,
            "right": null,
            "justify_content": null,
            "_view_module": "@jupyter-widgets/base",
            "overflow": null,
            "_model_module_version": "1.2.0",
            "_view_count": null,
            "flex_flow": null,
            "width": null,
            "min_width": null,
            "border": null,
            "align_items": null,
            "bottom": null,
            "_model_module": "@jupyter-widgets/base",
            "top": null,
            "grid_column": null,
            "overflow_y": null,
            "overflow_x": null,
            "grid_auto_flow": null,
            "grid_area": null,
            "grid_template_columns": null,
            "flex": null,
            "_model_name": "LayoutModel",
            "justify_items": null,
            "grid_row": null,
            "max_height": null,
            "align_content": null,
            "visibility": null,
            "align_self": null,
            "height": null,
            "min_height": null,
            "padding": null,
            "grid_auto_rows": null,
            "grid_gap": null,
            "max_width": null,
            "order": null,
            "_view_module_version": "1.2.0",
            "grid_template_areas": null,
            "object_position": null,
            "object_fit": null,
            "grid_auto_columns": null,
            "margin": null,
            "display": null,
            "left": null
          }
        },
        "364c6dbf509e42a4b5322afcbe15f97b": {
          "model_module": "@jupyter-widgets/controls",
          "model_name": "ProgressStyleModel",
          "model_module_version": "1.5.0",
          "state": {
            "_view_name": "StyleView",
            "_model_name": "ProgressStyleModel",
            "description_width": "",
            "_view_module": "@jupyter-widgets/base",
            "_model_module_version": "1.5.0",
            "_view_count": null,
            "_view_module_version": "1.2.0",
            "bar_color": null,
            "_model_module": "@jupyter-widgets/controls"
          }
        },
        "64933c58e9ab471abdbea07e9db04489": {
          "model_module": "@jupyter-widgets/base",
          "model_name": "LayoutModel",
          "model_module_version": "1.2.0",
          "state": {
            "_view_name": "LayoutView",
            "grid_template_rows": null,
            "right": null,
            "justify_content": null,
            "_view_module": "@jupyter-widgets/base",
            "overflow": null,
            "_model_module_version": "1.2.0",
            "_view_count": null,
            "flex_flow": null,
            "width": null,
            "min_width": null,
            "border": null,
            "align_items": null,
            "bottom": null,
            "_model_module": "@jupyter-widgets/base",
            "top": null,
            "grid_column": null,
            "overflow_y": null,
            "overflow_x": null,
            "grid_auto_flow": null,
            "grid_area": null,
            "grid_template_columns": null,
            "flex": null,
            "_model_name": "LayoutModel",
            "justify_items": null,
            "grid_row": null,
            "max_height": null,
            "align_content": null,
            "visibility": null,
            "align_self": null,
            "height": null,
            "min_height": null,
            "padding": null,
            "grid_auto_rows": null,
            "grid_gap": null,
            "max_width": null,
            "order": null,
            "_view_module_version": "1.2.0",
            "grid_template_areas": null,
            "object_position": null,
            "object_fit": null,
            "grid_auto_columns": null,
            "margin": null,
            "display": null,
            "left": null
          }
        },
        "28efc1ef355a426690b65a8e4db946c6": {
          "model_module": "@jupyter-widgets/controls",
          "model_name": "DescriptionStyleModel",
          "model_module_version": "1.5.0",
          "state": {
            "_view_name": "StyleView",
            "_model_name": "DescriptionStyleModel",
            "description_width": "",
            "_view_module": "@jupyter-widgets/base",
            "_model_module_version": "1.5.0",
            "_view_count": null,
            "_view_module_version": "1.2.0",
            "_model_module": "@jupyter-widgets/controls"
          }
        },
        "733a89d18c564343bb996e49fd768fc9": {
          "model_module": "@jupyter-widgets/base",
          "model_name": "LayoutModel",
          "model_module_version": "1.2.0",
          "state": {
            "_view_name": "LayoutView",
            "grid_template_rows": null,
            "right": null,
            "justify_content": null,
            "_view_module": "@jupyter-widgets/base",
            "overflow": null,
            "_model_module_version": "1.2.0",
            "_view_count": null,
            "flex_flow": null,
            "width": null,
            "min_width": null,
            "border": null,
            "align_items": null,
            "bottom": null,
            "_model_module": "@jupyter-widgets/base",
            "top": null,
            "grid_column": null,
            "overflow_y": null,
            "overflow_x": null,
            "grid_auto_flow": null,
            "grid_area": null,
            "grid_template_columns": null,
            "flex": null,
            "_model_name": "LayoutModel",
            "justify_items": null,
            "grid_row": null,
            "max_height": null,
            "align_content": null,
            "visibility": null,
            "align_self": null,
            "height": null,
            "min_height": null,
            "padding": null,
            "grid_auto_rows": null,
            "grid_gap": null,
            "max_width": null,
            "order": null,
            "_view_module_version": "1.2.0",
            "grid_template_areas": null,
            "object_position": null,
            "object_fit": null,
            "grid_auto_columns": null,
            "margin": null,
            "display": null,
            "left": null
          }
        },
        "875efa0057df4536bddee3cabfe9389a": {
          "model_module": "@jupyter-widgets/controls",
          "model_name": "HBoxModel",
          "model_module_version": "1.5.0",
          "state": {
            "_view_name": "HBoxView",
            "_dom_classes": [],
            "_model_name": "HBoxModel",
            "_view_module": "@jupyter-widgets/controls",
            "_model_module_version": "1.5.0",
            "_view_count": null,
            "_view_module_version": "1.5.0",
            "box_style": "",
            "layout": "IPY_MODEL_270c101479c94079b1d84ae976151bc4",
            "_model_module": "@jupyter-widgets/controls",
            "children": [
              "IPY_MODEL_6cfecb70abea44ac87edcc2ad4a39f23",
              "IPY_MODEL_dbfce732614b42709da856e1050eaf0f",
              "IPY_MODEL_34f186f618f84f1698b25fb455d1bb6b"
            ]
          }
        },
        "270c101479c94079b1d84ae976151bc4": {
          "model_module": "@jupyter-widgets/base",
          "model_name": "LayoutModel",
          "model_module_version": "1.2.0",
          "state": {
            "_view_name": "LayoutView",
            "grid_template_rows": null,
            "right": null,
            "justify_content": null,
            "_view_module": "@jupyter-widgets/base",
            "overflow": null,
            "_model_module_version": "1.2.0",
            "_view_count": null,
            "flex_flow": null,
            "width": null,
            "min_width": null,
            "border": null,
            "align_items": null,
            "bottom": null,
            "_model_module": "@jupyter-widgets/base",
            "top": null,
            "grid_column": null,
            "overflow_y": null,
            "overflow_x": null,
            "grid_auto_flow": null,
            "grid_area": null,
            "grid_template_columns": null,
            "flex": null,
            "_model_name": "LayoutModel",
            "justify_items": null,
            "grid_row": null,
            "max_height": null,
            "align_content": null,
            "visibility": null,
            "align_self": null,
            "height": null,
            "min_height": null,
            "padding": null,
            "grid_auto_rows": null,
            "grid_gap": null,
            "max_width": null,
            "order": null,
            "_view_module_version": "1.2.0",
            "grid_template_areas": null,
            "object_position": null,
            "object_fit": null,
            "grid_auto_columns": null,
            "margin": null,
            "display": null,
            "left": null
          }
        },
        "6cfecb70abea44ac87edcc2ad4a39f23": {
          "model_module": "@jupyter-widgets/controls",
          "model_name": "HTMLModel",
          "model_module_version": "1.5.0",
          "state": {
            "_view_name": "HTMLView",
            "style": "IPY_MODEL_332981c0253840aeb2c84a58dc9d09dc",
            "_dom_classes": [],
            "description": "",
            "_model_name": "HTMLModel",
            "placeholder": "​",
            "_view_module": "@jupyter-widgets/controls",
            "_model_module_version": "1.5.0",
            "value": "Downloading: 100%",
            "_view_count": null,
            "_view_module_version": "1.5.0",
            "description_tooltip": null,
            "_model_module": "@jupyter-widgets/controls",
            "layout": "IPY_MODEL_81d3f39e00d84de18800d9f32196c0df"
          }
        },
        "dbfce732614b42709da856e1050eaf0f": {
          "model_module": "@jupyter-widgets/controls",
          "model_name": "FloatProgressModel",
          "model_module_version": "1.5.0",
          "state": {
            "_view_name": "ProgressView",
            "style": "IPY_MODEL_46c49fb800924c86a76100f840df0c85",
            "_dom_classes": [],
            "description": "",
            "_model_name": "FloatProgressModel",
            "bar_style": "success",
            "max": 527,
            "_view_module": "@jupyter-widgets/controls",
            "_model_module_version": "1.5.0",
            "value": 527,
            "_view_count": null,
            "_view_module_version": "1.5.0",
            "orientation": "horizontal",
            "min": 0,
            "description_tooltip": null,
            "_model_module": "@jupyter-widgets/controls",
            "layout": "IPY_MODEL_b3b01973380c4e28befab5347b5996da"
          }
        },
        "34f186f618f84f1698b25fb455d1bb6b": {
          "model_module": "@jupyter-widgets/controls",
          "model_name": "HTMLModel",
          "model_module_version": "1.5.0",
          "state": {
            "_view_name": "HTMLView",
            "style": "IPY_MODEL_586d7f13dc4745d8a920f60e43ae58aa",
            "_dom_classes": [],
            "description": "",
            "_model_name": "HTMLModel",
            "placeholder": "​",
            "_view_module": "@jupyter-widgets/controls",
            "_model_module_version": "1.5.0",
            "value": " 527/527 [00:00&lt;00:00, 12.0kB/s]",
            "_view_count": null,
            "_view_module_version": "1.5.0",
            "description_tooltip": null,
            "_model_module": "@jupyter-widgets/controls",
            "layout": "IPY_MODEL_c88bfc222ace43d7af2723b92526f80e"
          }
        },
        "332981c0253840aeb2c84a58dc9d09dc": {
          "model_module": "@jupyter-widgets/controls",
          "model_name": "DescriptionStyleModel",
          "model_module_version": "1.5.0",
          "state": {
            "_view_name": "StyleView",
            "_model_name": "DescriptionStyleModel",
            "description_width": "",
            "_view_module": "@jupyter-widgets/base",
            "_model_module_version": "1.5.0",
            "_view_count": null,
            "_view_module_version": "1.2.0",
            "_model_module": "@jupyter-widgets/controls"
          }
        },
        "81d3f39e00d84de18800d9f32196c0df": {
          "model_module": "@jupyter-widgets/base",
          "model_name": "LayoutModel",
          "model_module_version": "1.2.0",
          "state": {
            "_view_name": "LayoutView",
            "grid_template_rows": null,
            "right": null,
            "justify_content": null,
            "_view_module": "@jupyter-widgets/base",
            "overflow": null,
            "_model_module_version": "1.2.0",
            "_view_count": null,
            "flex_flow": null,
            "width": null,
            "min_width": null,
            "border": null,
            "align_items": null,
            "bottom": null,
            "_model_module": "@jupyter-widgets/base",
            "top": null,
            "grid_column": null,
            "overflow_y": null,
            "overflow_x": null,
            "grid_auto_flow": null,
            "grid_area": null,
            "grid_template_columns": null,
            "flex": null,
            "_model_name": "LayoutModel",
            "justify_items": null,
            "grid_row": null,
            "max_height": null,
            "align_content": null,
            "visibility": null,
            "align_self": null,
            "height": null,
            "min_height": null,
            "padding": null,
            "grid_auto_rows": null,
            "grid_gap": null,
            "max_width": null,
            "order": null,
            "_view_module_version": "1.2.0",
            "grid_template_areas": null,
            "object_position": null,
            "object_fit": null,
            "grid_auto_columns": null,
            "margin": null,
            "display": null,
            "left": null
          }
        },
        "46c49fb800924c86a76100f840df0c85": {
          "model_module": "@jupyter-widgets/controls",
          "model_name": "ProgressStyleModel",
          "model_module_version": "1.5.0",
          "state": {
            "_view_name": "StyleView",
            "_model_name": "ProgressStyleModel",
            "description_width": "",
            "_view_module": "@jupyter-widgets/base",
            "_model_module_version": "1.5.0",
            "_view_count": null,
            "_view_module_version": "1.2.0",
            "bar_color": null,
            "_model_module": "@jupyter-widgets/controls"
          }
        },
        "b3b01973380c4e28befab5347b5996da": {
          "model_module": "@jupyter-widgets/base",
          "model_name": "LayoutModel",
          "model_module_version": "1.2.0",
          "state": {
            "_view_name": "LayoutView",
            "grid_template_rows": null,
            "right": null,
            "justify_content": null,
            "_view_module": "@jupyter-widgets/base",
            "overflow": null,
            "_model_module_version": "1.2.0",
            "_view_count": null,
            "flex_flow": null,
            "width": null,
            "min_width": null,
            "border": null,
            "align_items": null,
            "bottom": null,
            "_model_module": "@jupyter-widgets/base",
            "top": null,
            "grid_column": null,
            "overflow_y": null,
            "overflow_x": null,
            "grid_auto_flow": null,
            "grid_area": null,
            "grid_template_columns": null,
            "flex": null,
            "_model_name": "LayoutModel",
            "justify_items": null,
            "grid_row": null,
            "max_height": null,
            "align_content": null,
            "visibility": null,
            "align_self": null,
            "height": null,
            "min_height": null,
            "padding": null,
            "grid_auto_rows": null,
            "grid_gap": null,
            "max_width": null,
            "order": null,
            "_view_module_version": "1.2.0",
            "grid_template_areas": null,
            "object_position": null,
            "object_fit": null,
            "grid_auto_columns": null,
            "margin": null,
            "display": null,
            "left": null
          }
        },
        "586d7f13dc4745d8a920f60e43ae58aa": {
          "model_module": "@jupyter-widgets/controls",
          "model_name": "DescriptionStyleModel",
          "model_module_version": "1.5.0",
          "state": {
            "_view_name": "StyleView",
            "_model_name": "DescriptionStyleModel",
            "description_width": "",
            "_view_module": "@jupyter-widgets/base",
            "_model_module_version": "1.5.0",
            "_view_count": null,
            "_view_module_version": "1.2.0",
            "_model_module": "@jupyter-widgets/controls"
          }
        },
        "c88bfc222ace43d7af2723b92526f80e": {
          "model_module": "@jupyter-widgets/base",
          "model_name": "LayoutModel",
          "model_module_version": "1.2.0",
          "state": {
            "_view_name": "LayoutView",
            "grid_template_rows": null,
            "right": null,
            "justify_content": null,
            "_view_module": "@jupyter-widgets/base",
            "overflow": null,
            "_model_module_version": "1.2.0",
            "_view_count": null,
            "flex_flow": null,
            "width": null,
            "min_width": null,
            "border": null,
            "align_items": null,
            "bottom": null,
            "_model_module": "@jupyter-widgets/base",
            "top": null,
            "grid_column": null,
            "overflow_y": null,
            "overflow_x": null,
            "grid_auto_flow": null,
            "grid_area": null,
            "grid_template_columns": null,
            "flex": null,
            "_model_name": "LayoutModel",
            "justify_items": null,
            "grid_row": null,
            "max_height": null,
            "align_content": null,
            "visibility": null,
            "align_self": null,
            "height": null,
            "min_height": null,
            "padding": null,
            "grid_auto_rows": null,
            "grid_gap": null,
            "max_width": null,
            "order": null,
            "_view_module_version": "1.2.0",
            "grid_template_areas": null,
            "object_position": null,
            "object_fit": null,
            "grid_auto_columns": null,
            "margin": null,
            "display": null,
            "left": null
          }
        },
        "b38e3bcb52ff497b8f1d61270f4d9f57": {
          "model_module": "@jupyter-widgets/controls",
          "model_name": "HBoxModel",
          "model_module_version": "1.5.0",
          "state": {
            "_view_name": "HBoxView",
            "_dom_classes": [],
            "_model_name": "HBoxModel",
            "_view_module": "@jupyter-widgets/controls",
            "_model_module_version": "1.5.0",
            "_view_count": null,
            "_view_module_version": "1.5.0",
            "box_style": "",
            "layout": "IPY_MODEL_4ffe9640b64243438fee2ea108442aa8",
            "_model_module": "@jupyter-widgets/controls",
            "children": [
              "IPY_MODEL_34b419ec80c342878a742a11efc8e944",
              "IPY_MODEL_da68c2810c604cdeafd1a786377260c1",
              "IPY_MODEL_0b7cc785eb5440a192f0005d1cba05c0"
            ]
          }
        },
        "4ffe9640b64243438fee2ea108442aa8": {
          "model_module": "@jupyter-widgets/base",
          "model_name": "LayoutModel",
          "model_module_version": "1.2.0",
          "state": {
            "_view_name": "LayoutView",
            "grid_template_rows": null,
            "right": null,
            "justify_content": null,
            "_view_module": "@jupyter-widgets/base",
            "overflow": null,
            "_model_module_version": "1.2.0",
            "_view_count": null,
            "flex_flow": null,
            "width": null,
            "min_width": null,
            "border": null,
            "align_items": null,
            "bottom": null,
            "_model_module": "@jupyter-widgets/base",
            "top": null,
            "grid_column": null,
            "overflow_y": null,
            "overflow_x": null,
            "grid_auto_flow": null,
            "grid_area": null,
            "grid_template_columns": null,
            "flex": null,
            "_model_name": "LayoutModel",
            "justify_items": null,
            "grid_row": null,
            "max_height": null,
            "align_content": null,
            "visibility": null,
            "align_self": null,
            "height": null,
            "min_height": null,
            "padding": null,
            "grid_auto_rows": null,
            "grid_gap": null,
            "max_width": null,
            "order": null,
            "_view_module_version": "1.2.0",
            "grid_template_areas": null,
            "object_position": null,
            "object_fit": null,
            "grid_auto_columns": null,
            "margin": null,
            "display": null,
            "left": null
          }
        },
        "34b419ec80c342878a742a11efc8e944": {
          "model_module": "@jupyter-widgets/controls",
          "model_name": "HTMLModel",
          "model_module_version": "1.5.0",
          "state": {
            "_view_name": "HTMLView",
            "style": "IPY_MODEL_de92ff4a7af34469a33c21a0ad2f547b",
            "_dom_classes": [],
            "description": "",
            "_model_name": "HTMLModel",
            "placeholder": "​",
            "_view_module": "@jupyter-widgets/controls",
            "_model_module_version": "1.5.0",
            "value": "Downloading: 100%",
            "_view_count": null,
            "_view_module_version": "1.5.0",
            "description_tooltip": null,
            "_model_module": "@jupyter-widgets/controls",
            "layout": "IPY_MODEL_2d246368c1bd496c8e7ee8f13be4b65f"
          }
        },
        "da68c2810c604cdeafd1a786377260c1": {
          "model_module": "@jupyter-widgets/controls",
          "model_name": "FloatProgressModel",
          "model_module_version": "1.5.0",
          "state": {
            "_view_name": "ProgressView",
            "style": "IPY_MODEL_ac65ed921d854485ba4606c026e21152",
            "_dom_classes": [],
            "description": "",
            "_model_name": "FloatProgressModel",
            "bar_style": "success",
            "max": 190,
            "_view_module": "@jupyter-widgets/controls",
            "_model_module_version": "1.5.0",
            "value": 190,
            "_view_count": null,
            "_view_module_version": "1.5.0",
            "orientation": "horizontal",
            "min": 0,
            "description_tooltip": null,
            "_model_module": "@jupyter-widgets/controls",
            "layout": "IPY_MODEL_4b4e69c2a9344197b79c07c20159eb2e"
          }
        },
        "0b7cc785eb5440a192f0005d1cba05c0": {
          "model_module": "@jupyter-widgets/controls",
          "model_name": "HTMLModel",
          "model_module_version": "1.5.0",
          "state": {
            "_view_name": "HTMLView",
            "style": "IPY_MODEL_d7f88338b85047d5b38b1bd2d00e7769",
            "_dom_classes": [],
            "description": "",
            "_model_name": "HTMLModel",
            "placeholder": "​",
            "_view_module": "@jupyter-widgets/controls",
            "_model_module_version": "1.5.0",
            "value": " 190/190 [00:00&lt;00:00, 4.63kB/s]",
            "_view_count": null,
            "_view_module_version": "1.5.0",
            "description_tooltip": null,
            "_model_module": "@jupyter-widgets/controls",
            "layout": "IPY_MODEL_0e569b1bc80346eb8aabf279d32fe6c9"
          }
        },
        "de92ff4a7af34469a33c21a0ad2f547b": {
          "model_module": "@jupyter-widgets/controls",
          "model_name": "DescriptionStyleModel",
          "model_module_version": "1.5.0",
          "state": {
            "_view_name": "StyleView",
            "_model_name": "DescriptionStyleModel",
            "description_width": "",
            "_view_module": "@jupyter-widgets/base",
            "_model_module_version": "1.5.0",
            "_view_count": null,
            "_view_module_version": "1.2.0",
            "_model_module": "@jupyter-widgets/controls"
          }
        },
        "2d246368c1bd496c8e7ee8f13be4b65f": {
          "model_module": "@jupyter-widgets/base",
          "model_name": "LayoutModel",
          "model_module_version": "1.2.0",
          "state": {
            "_view_name": "LayoutView",
            "grid_template_rows": null,
            "right": null,
            "justify_content": null,
            "_view_module": "@jupyter-widgets/base",
            "overflow": null,
            "_model_module_version": "1.2.0",
            "_view_count": null,
            "flex_flow": null,
            "width": null,
            "min_width": null,
            "border": null,
            "align_items": null,
            "bottom": null,
            "_model_module": "@jupyter-widgets/base",
            "top": null,
            "grid_column": null,
            "overflow_y": null,
            "overflow_x": null,
            "grid_auto_flow": null,
            "grid_area": null,
            "grid_template_columns": null,
            "flex": null,
            "_model_name": "LayoutModel",
            "justify_items": null,
            "grid_row": null,
            "max_height": null,
            "align_content": null,
            "visibility": null,
            "align_self": null,
            "height": null,
            "min_height": null,
            "padding": null,
            "grid_auto_rows": null,
            "grid_gap": null,
            "max_width": null,
            "order": null,
            "_view_module_version": "1.2.0",
            "grid_template_areas": null,
            "object_position": null,
            "object_fit": null,
            "grid_auto_columns": null,
            "margin": null,
            "display": null,
            "left": null
          }
        },
        "ac65ed921d854485ba4606c026e21152": {
          "model_module": "@jupyter-widgets/controls",
          "model_name": "ProgressStyleModel",
          "model_module_version": "1.5.0",
          "state": {
            "_view_name": "StyleView",
            "_model_name": "ProgressStyleModel",
            "description_width": "",
            "_view_module": "@jupyter-widgets/base",
            "_model_module_version": "1.5.0",
            "_view_count": null,
            "_view_module_version": "1.2.0",
            "bar_color": null,
            "_model_module": "@jupyter-widgets/controls"
          }
        },
        "4b4e69c2a9344197b79c07c20159eb2e": {
          "model_module": "@jupyter-widgets/base",
          "model_name": "LayoutModel",
          "model_module_version": "1.2.0",
          "state": {
            "_view_name": "LayoutView",
            "grid_template_rows": null,
            "right": null,
            "justify_content": null,
            "_view_module": "@jupyter-widgets/base",
            "overflow": null,
            "_model_module_version": "1.2.0",
            "_view_count": null,
            "flex_flow": null,
            "width": null,
            "min_width": null,
            "border": null,
            "align_items": null,
            "bottom": null,
            "_model_module": "@jupyter-widgets/base",
            "top": null,
            "grid_column": null,
            "overflow_y": null,
            "overflow_x": null,
            "grid_auto_flow": null,
            "grid_area": null,
            "grid_template_columns": null,
            "flex": null,
            "_model_name": "LayoutModel",
            "justify_items": null,
            "grid_row": null,
            "max_height": null,
            "align_content": null,
            "visibility": null,
            "align_self": null,
            "height": null,
            "min_height": null,
            "padding": null,
            "grid_auto_rows": null,
            "grid_gap": null,
            "max_width": null,
            "order": null,
            "_view_module_version": "1.2.0",
            "grid_template_areas": null,
            "object_position": null,
            "object_fit": null,
            "grid_auto_columns": null,
            "margin": null,
            "display": null,
            "left": null
          }
        },
        "d7f88338b85047d5b38b1bd2d00e7769": {
          "model_module": "@jupyter-widgets/controls",
          "model_name": "DescriptionStyleModel",
          "model_module_version": "1.5.0",
          "state": {
            "_view_name": "StyleView",
            "_model_name": "DescriptionStyleModel",
            "description_width": "",
            "_view_module": "@jupyter-widgets/base",
            "_model_module_version": "1.5.0",
            "_view_count": null,
            "_view_module_version": "1.2.0",
            "_model_module": "@jupyter-widgets/controls"
          }
        },
        "0e569b1bc80346eb8aabf279d32fe6c9": {
          "model_module": "@jupyter-widgets/base",
          "model_name": "LayoutModel",
          "model_module_version": "1.2.0",
          "state": {
            "_view_name": "LayoutView",
            "grid_template_rows": null,
            "right": null,
            "justify_content": null,
            "_view_module": "@jupyter-widgets/base",
            "overflow": null,
            "_model_module_version": "1.2.0",
            "_view_count": null,
            "flex_flow": null,
            "width": null,
            "min_width": null,
            "border": null,
            "align_items": null,
            "bottom": null,
            "_model_module": "@jupyter-widgets/base",
            "top": null,
            "grid_column": null,
            "overflow_y": null,
            "overflow_x": null,
            "grid_auto_flow": null,
            "grid_area": null,
            "grid_template_columns": null,
            "flex": null,
            "_model_name": "LayoutModel",
            "justify_items": null,
            "grid_row": null,
            "max_height": null,
            "align_content": null,
            "visibility": null,
            "align_self": null,
            "height": null,
            "min_height": null,
            "padding": null,
            "grid_auto_rows": null,
            "grid_gap": null,
            "max_width": null,
            "order": null,
            "_view_module_version": "1.2.0",
            "grid_template_areas": null,
            "object_position": null,
            "object_fit": null,
            "grid_auto_columns": null,
            "margin": null,
            "display": null,
            "left": null
          }
        }
      }
    }
  },
  "cells": [
    {
      "cell_type": "markdown",
      "metadata": {
        "id": "view-in-github",
        "colab_type": "text"
      },
      "source": [
        "<a href=\"https://colab.research.google.com/github/dagyeom23658/project_dayeom_chatbot/blob/main/%EC%B1%97%EB%B4%87%EB%A7%8C%EB%93%A4%EA%B8%B0_%EC%B4%88%EA%B8%B0%EC%97%B0%EC%8A%B5.ipynb\" target=\"_parent\"><img src=\"https://colab.research.google.com/assets/colab-badge.svg\" alt=\"Open In Colab\"/></a>"
      ]
    },
    {
      "cell_type": "markdown",
      "source": [
        "# BERT의 문장 임베딩(SBERT)을 이용한 한국어 챗봇\n",
        "\n",
        "- Rule-Based 모델도 가능하지만, 일단 트랜스포머를 활용해 구현해보자. \n",
        "룰베이스 예시 : https://needjarvis.tistory.com/639\n",
        "\n",
        "- 형태소분석기 : https://m.blog.naver.com/PostView.naver?isHttpsRedirect=true&blogId=naininfo&logNo=221565581221\n",
        "\n",
        "말뭉치란 https://m.blog.naver.com/PostView.naver?isHttpsRedirect=true&blogId=b4332&logNo=220263617191\n",
        "\n",
        "\n",
        "말뭉치 데이터베이스 만드는 방법; https://aihub.or.kr/sites/default/files/2020-12/8_27%2028%2029.%EC%A4%91%EC%9D%BC%EB%B2%88%EC%97%AD%EB%A7%90%EB%AD%89%EC%B9%98_%ED%85%8C%ED%81%AC%EB%8B%88%EC%BB%AC%EB%A6%AC%ED%8F%AC%ED%8A%B8.pdf\n",
        "\n",
        "이 작은 데이터로 형태소 분석을 해서 챗봇을 만들것이냐.\n",
        "아니면 구축된 모델에 내 데이터를 얹을 것이냐.\n",
        "\n",
        "이것 저것 다 해보는게 좋지 않나 싶다./\n",
        "말뭉치모음 : \n",
        "https://ko-nlp.github.io/Korpora/ko-docs/corpuslist/korean_chatbot_data.html\n",
        "\n",
        "형태소 분석을 하고 --> 단어 임베딩을 통해 단어유사도를 측정할 수 있다.\n",
        "\n",
        "Sentencepiece를 활용해 Vocab 만들기\n",
        "https://paul-hyun.github.io/vocab-with-sentencepiece/\n",
        "\n",
        "\n",
        "\n",
        "허깅페이스 토커나이저 https://wikidocs.net/99893\n",
        "SKT Ko-BERT의 경량화 버전 https://littlefoxdiary.tistory.com/81\n",
        "\n",
        "파이썬 실행시간 측정 :https://opentutorials.org/module/2980/17436\n",
        "\n",
        "\n"
      ],
      "metadata": {
        "id": "nZU3DRFsOeaQ"
      }
    },
    {
      "cell_type": "code",
      "source": [
        "pip install konlpy"
      ],
      "metadata": {
        "colab": {
          "base_uri": "https://localhost:8080/"
        },
        "id": "AUBhMyRg-XEj",
        "outputId": "7f9bfbf0-47a8-4e08-e89f-5c24728007f5"
      },
      "execution_count": 1,
      "outputs": [
        {
          "output_type": "stream",
          "name": "stdout",
          "text": [
            "Collecting konlpy\n",
            "  Downloading konlpy-0.5.2-py2.py3-none-any.whl (19.4 MB)\n",
            "\u001b[K     |████████████████████████████████| 19.4 MB 1.2 MB/s \n",
            "\u001b[?25hCollecting beautifulsoup4==4.6.0\n",
            "  Downloading beautifulsoup4-4.6.0-py3-none-any.whl (86 kB)\n",
            "\u001b[K     |████████████████████████████████| 86 kB 5.6 MB/s \n",
            "\u001b[?25hRequirement already satisfied: numpy>=1.6 in /usr/local/lib/python3.7/dist-packages (from konlpy) (1.19.5)\n",
            "Collecting colorama\n",
            "  Downloading colorama-0.4.4-py2.py3-none-any.whl (16 kB)\n",
            "Collecting JPype1>=0.7.0\n",
            "  Downloading JPype1-1.3.0-cp37-cp37m-manylinux_2_5_x86_64.manylinux1_x86_64.whl (448 kB)\n",
            "\u001b[K     |████████████████████████████████| 448 kB 35.8 MB/s \n",
            "\u001b[?25hRequirement already satisfied: tweepy>=3.7.0 in /usr/local/lib/python3.7/dist-packages (from konlpy) (3.10.0)\n",
            "Requirement already satisfied: lxml>=4.1.0 in /usr/local/lib/python3.7/dist-packages (from konlpy) (4.2.6)\n",
            "Requirement already satisfied: typing-extensions in /usr/local/lib/python3.7/dist-packages (from JPype1>=0.7.0->konlpy) (3.10.0.2)\n",
            "Requirement already satisfied: requests-oauthlib>=0.7.0 in /usr/local/lib/python3.7/dist-packages (from tweepy>=3.7.0->konlpy) (1.3.0)\n",
            "Requirement already satisfied: six>=1.10.0 in /usr/local/lib/python3.7/dist-packages (from tweepy>=3.7.0->konlpy) (1.15.0)\n",
            "Requirement already satisfied: requests[socks]>=2.11.1 in /usr/local/lib/python3.7/dist-packages (from tweepy>=3.7.0->konlpy) (2.23.0)\n",
            "Requirement already satisfied: oauthlib>=3.0.0 in /usr/local/lib/python3.7/dist-packages (from requests-oauthlib>=0.7.0->tweepy>=3.7.0->konlpy) (3.1.1)\n",
            "Requirement already satisfied: idna<3,>=2.5 in /usr/local/lib/python3.7/dist-packages (from requests[socks]>=2.11.1->tweepy>=3.7.0->konlpy) (2.10)\n",
            "Requirement already satisfied: certifi>=2017.4.17 in /usr/local/lib/python3.7/dist-packages (from requests[socks]>=2.11.1->tweepy>=3.7.0->konlpy) (2021.10.8)\n",
            "Requirement already satisfied: urllib3!=1.25.0,!=1.25.1,<1.26,>=1.21.1 in /usr/local/lib/python3.7/dist-packages (from requests[socks]>=2.11.1->tweepy>=3.7.0->konlpy) (1.24.3)\n",
            "Requirement already satisfied: chardet<4,>=3.0.2 in /usr/local/lib/python3.7/dist-packages (from requests[socks]>=2.11.1->tweepy>=3.7.0->konlpy) (3.0.4)\n",
            "Requirement already satisfied: PySocks!=1.5.7,>=1.5.6 in /usr/local/lib/python3.7/dist-packages (from requests[socks]>=2.11.1->tweepy>=3.7.0->konlpy) (1.7.1)\n",
            "Installing collected packages: JPype1, colorama, beautifulsoup4, konlpy\n",
            "  Attempting uninstall: beautifulsoup4\n",
            "    Found existing installation: beautifulsoup4 4.6.3\n",
            "    Uninstalling beautifulsoup4-4.6.3:\n",
            "      Successfully uninstalled beautifulsoup4-4.6.3\n",
            "Successfully installed JPype1-1.3.0 beautifulsoup4-4.6.0 colorama-0.4.4 konlpy-0.5.2\n"
          ]
        }
      ]
    },
    {
      "cell_type": "code",
      "source": [
        "# ! git clone https://github.com/SOMJANG/Mecab-ko-for-Google-Colab.git"
      ],
      "metadata": {
        "colab": {
          "base_uri": "https://localhost:8080/"
        },
        "id": "vtKmcgQbQMRq",
        "outputId": "467a8f72-c046-4aca-e904-50e404e94d6d"
      },
      "execution_count": 3,
      "outputs": [
        {
          "output_type": "stream",
          "name": "stdout",
          "text": [
            "Cloning into 'Mecab-ko-for-Google-Colab'...\n",
            "remote: Enumerating objects: 91, done.\u001b[K\n",
            "remote: Total 91 (delta 0), reused 0 (delta 0), pack-reused 91\u001b[K\n",
            "Unpacking objects: 100% (91/91), done.\n"
          ]
        }
      ]
    },
    {
      "cell_type": "code",
      "source": [
        "# cd Mecab-ko-for-Google-Colab"
      ],
      "metadata": {
        "colab": {
          "base_uri": "https://localhost:8080/"
        },
        "id": "ibPnSEFbQObp",
        "outputId": "9d1faf1c-178a-472c-c7ba-15f41a9ead9a"
      },
      "execution_count": 4,
      "outputs": [
        {
          "output_type": "stream",
          "name": "stdout",
          "text": [
            "/content/Mecab-ko-for-Google-Colab\n"
          ]
        }
      ]
    },
    {
      "cell_type": "code",
      "source": [
        "# 메캅설치 시간이 좀 걸림 답답함. 런타임 재시작까지 해야댐."
      ],
      "metadata": {
        "id": "Q_rU3vzpRL-A"
      },
      "execution_count": null,
      "outputs": []
    },
    {
      "cell_type": "code",
      "source": [
        "# ! bash install_mecab-ko_on_colab190912.sh"
      ],
      "metadata": {
        "id": "ZMl1LQ--QRCb"
      },
      "execution_count": null,
      "outputs": []
    },
    {
      "cell_type": "markdown",
      "source": [
        "# 파일 불러오기"
      ],
      "metadata": {
        "id": "rkAXFTJ4Ygtl"
      }
    },
    {
      "cell_type": "code",
      "source": [
        "import numpy as np\n",
        "import matplotlib.pyplot as plt\n",
        "import tensorflow as tf\n",
        "import pandas as pd\n",
        "\n",
        "import re\n",
        "from konlpy.tag import Okt\n",
        "from tqdm import tqdm  #상태진행률 표시\n",
        "from tensorflow.keras.preprocessing.text import Tokenizer\n",
        "from tensorflow.keras.preprocessing.sequence import pad_sequences"
      ],
      "metadata": {
        "id": "a-e_isnRv4tu"
      },
      "execution_count": 2,
      "outputs": []
    },
    {
      "cell_type": "code",
      "source": [
        "train_data = pd.read_excel('/content/drive/MyDrive/프로젝트1/감성대화말뭉치(최종데이터)_Training.xlsx')  # 코랩에 올리고 실행되기까지 시간이 좀 걸림.\n",
        "train_data.head(3)"
      ],
      "metadata": {
        "colab": {
          "base_uri": "https://localhost:8080/",
          "height": 378
        },
        "id": "nducbS5GOmP8",
        "outputId": "d201c59d-cee8-40d9-8d3c-c6962159d391"
      },
      "execution_count": 3,
      "outputs": [
        {
          "output_type": "execute_result",
          "data": {
            "text/html": [
              "\n",
              "  <div id=\"df-211cb93e-6555-4e5b-ad32-24c4e7ca4a9c\">\n",
              "    <div class=\"colab-df-container\">\n",
              "      <div>\n",
              "<style scoped>\n",
              "    .dataframe tbody tr th:only-of-type {\n",
              "        vertical-align: middle;\n",
              "    }\n",
              "\n",
              "    .dataframe tbody tr th {\n",
              "        vertical-align: top;\n",
              "    }\n",
              "\n",
              "    .dataframe thead th {\n",
              "        text-align: right;\n",
              "    }\n",
              "</style>\n",
              "<table border=\"1\" class=\"dataframe\">\n",
              "  <thead>\n",
              "    <tr style=\"text-align: right;\">\n",
              "      <th></th>\n",
              "      <th>번호</th>\n",
              "      <th>연령</th>\n",
              "      <th>성별</th>\n",
              "      <th>상황키워드</th>\n",
              "      <th>신체질환</th>\n",
              "      <th>감정_대분류</th>\n",
              "      <th>감정_소분류</th>\n",
              "      <th>사람문장1</th>\n",
              "      <th>시스템응답1</th>\n",
              "      <th>사람문장2</th>\n",
              "      <th>시스템응답2</th>\n",
              "      <th>사람문장3</th>\n",
              "      <th>시스템응답3</th>\n",
              "      <th>사람문장4</th>\n",
              "      <th>시스템응답4</th>\n",
              "    </tr>\n",
              "  </thead>\n",
              "  <tbody>\n",
              "    <tr>\n",
              "      <th>0</th>\n",
              "      <td>44164</td>\n",
              "      <td>청년</td>\n",
              "      <td>남성</td>\n",
              "      <td>연애, 결혼, 출산</td>\n",
              "      <td>해당없음</td>\n",
              "      <td>기쁨</td>\n",
              "      <td>신이 난</td>\n",
              "      <td>아내가 드디어 출산하게 되어서 정말 신이 나.</td>\n",
              "      <td>아내분이 출산을 하시는군요. 정말 축하드려요.</td>\n",
              "      <td>아 지금 정말 신이 나.</td>\n",
              "      <td>잘 된 일이네요.</td>\n",
              "      <td>아기가 점점 클게 벌써 기대가 되네. 내가 많이 놀아줘야지.</td>\n",
              "      <td>좋은 아빠가 되실 거 같아요. 진심으로 축하드려요.</td>\n",
              "      <td>NaN</td>\n",
              "      <td>NaN</td>\n",
              "    </tr>\n",
              "    <tr>\n",
              "      <th>1</th>\n",
              "      <td>3926</td>\n",
              "      <td>노년</td>\n",
              "      <td>남성</td>\n",
              "      <td>건강, 죽음</td>\n",
              "      <td>만성질환 유</td>\n",
              "      <td>불안</td>\n",
              "      <td>스트레스 받는</td>\n",
              "      <td>당뇨랑 합병증 때문에 먹어야 할 약이 열 가지가 넘어가니까 스트레스야.</td>\n",
              "      <td>약 종류가 많아 번거로우시겠어요.</td>\n",
              "      <td>건강할 때 관리 좀 잘할걸 하는 생각이 들더라고.</td>\n",
              "      <td>현재 상황에서 변화를 주기 위해 어떻게 하면 될까요?</td>\n",
              "      <td>약을 잘 챙겨 먹고 나을 수 있도록 노력해야지.</td>\n",
              "      <td>약을 잘 챙겨 먹어 건강해지시길 바랄게요.</td>\n",
              "      <td>NaN</td>\n",
              "      <td>NaN</td>\n",
              "    </tr>\n",
              "    <tr>\n",
              "      <th>2</th>\n",
              "      <td>50882</td>\n",
              "      <td>청소년</td>\n",
              "      <td>여성</td>\n",
              "      <td>학업 및 진로</td>\n",
              "      <td>해당없음</td>\n",
              "      <td>당황</td>\n",
              "      <td>당황</td>\n",
              "      <td>고등학교에 올라오니 중학교 때보다 수업이 갑자기 어려워져서 당황스러워.</td>\n",
              "      <td>고등학교 수업이 중학교 때와는 다르게 갑자기 어려워서 당황스러우시군요.</td>\n",
              "      <td>아직 학기 초인데 내가 수업에 잘 따라갈 수 있을지 걱정돼.</td>\n",
              "      <td>이 상황에서 할 수 있는 게 어떤 것이 있을까요?</td>\n",
              "      <td>중학교 수업을 들을 때보다 훨씬 더 열심히 할 거야.</td>\n",
              "      <td>수업을 어떤 방식으로 열심히 듣는게 좋을까요?</td>\n",
              "      <td>선생님이 강조하신 부분을 필기하고 집에서 매일 수업 내용을 복습하려고 해.</td>\n",
              "      <td>열심히 해서 좋은 결과가 있었으면 좋겠어요.</td>\n",
              "    </tr>\n",
              "  </tbody>\n",
              "</table>\n",
              "</div>\n",
              "      <button class=\"colab-df-convert\" onclick=\"convertToInteractive('df-211cb93e-6555-4e5b-ad32-24c4e7ca4a9c')\"\n",
              "              title=\"Convert this dataframe to an interactive table.\"\n",
              "              style=\"display:none;\">\n",
              "        \n",
              "  <svg xmlns=\"http://www.w3.org/2000/svg\" height=\"24px\"viewBox=\"0 0 24 24\"\n",
              "       width=\"24px\">\n",
              "    <path d=\"M0 0h24v24H0V0z\" fill=\"none\"/>\n",
              "    <path d=\"M18.56 5.44l.94 2.06.94-2.06 2.06-.94-2.06-.94-.94-2.06-.94 2.06-2.06.94zm-11 1L8.5 8.5l.94-2.06 2.06-.94-2.06-.94L8.5 2.5l-.94 2.06-2.06.94zm10 10l.94 2.06.94-2.06 2.06-.94-2.06-.94-.94-2.06-.94 2.06-2.06.94z\"/><path d=\"M17.41 7.96l-1.37-1.37c-.4-.4-.92-.59-1.43-.59-.52 0-1.04.2-1.43.59L10.3 9.45l-7.72 7.72c-.78.78-.78 2.05 0 2.83L4 21.41c.39.39.9.59 1.41.59.51 0 1.02-.2 1.41-.59l7.78-7.78 2.81-2.81c.8-.78.8-2.07 0-2.86zM5.41 20L4 18.59l7.72-7.72 1.47 1.35L5.41 20z\"/>\n",
              "  </svg>\n",
              "      </button>\n",
              "      \n",
              "  <style>\n",
              "    .colab-df-container {\n",
              "      display:flex;\n",
              "      flex-wrap:wrap;\n",
              "      gap: 12px;\n",
              "    }\n",
              "\n",
              "    .colab-df-convert {\n",
              "      background-color: #E8F0FE;\n",
              "      border: none;\n",
              "      border-radius: 50%;\n",
              "      cursor: pointer;\n",
              "      display: none;\n",
              "      fill: #1967D2;\n",
              "      height: 32px;\n",
              "      padding: 0 0 0 0;\n",
              "      width: 32px;\n",
              "    }\n",
              "\n",
              "    .colab-df-convert:hover {\n",
              "      background-color: #E2EBFA;\n",
              "      box-shadow: 0px 1px 2px rgba(60, 64, 67, 0.3), 0px 1px 3px 1px rgba(60, 64, 67, 0.15);\n",
              "      fill: #174EA6;\n",
              "    }\n",
              "\n",
              "    [theme=dark] .colab-df-convert {\n",
              "      background-color: #3B4455;\n",
              "      fill: #D2E3FC;\n",
              "    }\n",
              "\n",
              "    [theme=dark] .colab-df-convert:hover {\n",
              "      background-color: #434B5C;\n",
              "      box-shadow: 0px 1px 3px 1px rgba(0, 0, 0, 0.15);\n",
              "      filter: drop-shadow(0px 1px 2px rgba(0, 0, 0, 0.3));\n",
              "      fill: #FFFFFF;\n",
              "    }\n",
              "  </style>\n",
              "\n",
              "      <script>\n",
              "        const buttonEl =\n",
              "          document.querySelector('#df-211cb93e-6555-4e5b-ad32-24c4e7ca4a9c button.colab-df-convert');\n",
              "        buttonEl.style.display =\n",
              "          google.colab.kernel.accessAllowed ? 'block' : 'none';\n",
              "\n",
              "        async function convertToInteractive(key) {\n",
              "          const element = document.querySelector('#df-211cb93e-6555-4e5b-ad32-24c4e7ca4a9c');\n",
              "          const dataTable =\n",
              "            await google.colab.kernel.invokeFunction('convertToInteractive',\n",
              "                                                     [key], {});\n",
              "          if (!dataTable) return;\n",
              "\n",
              "          const docLinkHtml = 'Like what you see? Visit the ' +\n",
              "            '<a target=\"_blank\" href=https://colab.research.google.com/notebooks/data_table.ipynb>data table notebook</a>'\n",
              "            + ' to learn more about interactive tables.';\n",
              "          element.innerHTML = '';\n",
              "          dataTable['output_type'] = 'display_data';\n",
              "          await google.colab.output.renderOutput(dataTable, element);\n",
              "          const docLink = document.createElement('div');\n",
              "          docLink.innerHTML = docLinkHtml;\n",
              "          element.appendChild(docLink);\n",
              "        }\n",
              "      </script>\n",
              "    </div>\n",
              "  </div>\n",
              "  "
            ],
            "text/plain": [
              "      번호  ...                    시스템응답4\n",
              "0  44164  ...                       NaN\n",
              "1   3926  ...                       NaN\n",
              "2  50882  ...  열심히 해서 좋은 결과가 있었으면 좋겠어요.\n",
              "\n",
              "[3 rows x 15 columns]"
            ]
          },
          "metadata": {},
          "execution_count": 3
        }
      ]
    },
    {
      "cell_type": "code",
      "source": [
        "val_data = pd.read_excel('/content/drive/MyDrive/프로젝트1/감성대화말뭉치(최종데이터)_Validation.xlsx')  # 코랩에 올리고 실행되기까지 시간이 좀 걸림.\n",
        "val_data.head(3)"
      ],
      "metadata": {
        "colab": {
          "base_uri": "https://localhost:8080/",
          "height": 344
        },
        "id": "eXgB8HY4-kaq",
        "outputId": "effe616f-e636-447f-fbbd-626f1258012d"
      },
      "execution_count": 4,
      "outputs": [
        {
          "output_type": "execute_result",
          "data": {
            "text/html": [
              "\n",
              "  <div id=\"df-1659917a-1afd-4b7a-9075-a20a8d02ca27\">\n",
              "    <div class=\"colab-df-container\">\n",
              "      <div>\n",
              "<style scoped>\n",
              "    .dataframe tbody tr th:only-of-type {\n",
              "        vertical-align: middle;\n",
              "    }\n",
              "\n",
              "    .dataframe tbody tr th {\n",
              "        vertical-align: top;\n",
              "    }\n",
              "\n",
              "    .dataframe thead th {\n",
              "        text-align: right;\n",
              "    }\n",
              "</style>\n",
              "<table border=\"1\" class=\"dataframe\">\n",
              "  <thead>\n",
              "    <tr style=\"text-align: right;\">\n",
              "      <th></th>\n",
              "      <th>번호</th>\n",
              "      <th>연령</th>\n",
              "      <th>성별</th>\n",
              "      <th>상황키워드</th>\n",
              "      <th>신체질환</th>\n",
              "      <th>감정_대분류</th>\n",
              "      <th>감정_소분류</th>\n",
              "      <th>사람문장1</th>\n",
              "      <th>시스템응답1</th>\n",
              "      <th>사람문장2</th>\n",
              "      <th>시스템응답2</th>\n",
              "      <th>사람문장3</th>\n",
              "      <th>시스템응답3</th>\n",
              "      <th>사람문장4</th>\n",
              "      <th>시스템응답4</th>\n",
              "    </tr>\n",
              "  </thead>\n",
              "  <tbody>\n",
              "    <tr>\n",
              "      <th>0</th>\n",
              "      <td>23093</td>\n",
              "      <td>청년</td>\n",
              "      <td>여성</td>\n",
              "      <td>진로, 취업, 직장</td>\n",
              "      <td>해당없음</td>\n",
              "      <td>분노</td>\n",
              "      <td>툴툴대는</td>\n",
              "      <td>요즘 부모님과 많이 부딪혀.</td>\n",
              "      <td>어떤 일로 부딪히시나요?</td>\n",
              "      <td>난 하고 싶은 일이 있는데 부모님은 안정적인 일만 하라고 하셔. 내 마음대로 하지도...</td>\n",
              "      <td>부모님과의 충돌로 힘드시겠군요.</td>\n",
              "      <td>응. 그래도 난 내가 하고 싶은 일을 위해 노력할 거야.</td>\n",
              "      <td>자신이 하고 싶은 일을 목표로 하기로 하셨군요.</td>\n",
              "      <td>NaN</td>\n",
              "      <td>NaN</td>\n",
              "    </tr>\n",
              "    <tr>\n",
              "      <th>1</th>\n",
              "      <td>32848</td>\n",
              "      <td>청소년</td>\n",
              "      <td>남성</td>\n",
              "      <td>가족관계</td>\n",
              "      <td>해당없음</td>\n",
              "      <td>슬픔</td>\n",
              "      <td>비통한</td>\n",
              "      <td>엄마가 결국 집을 나갔어. 너무 너무 슬퍼.</td>\n",
              "      <td>어머니께서 집을 나가셨다니 정말 슬프셨겠어요. 좀 더 자세히 얘기해주시겠어요?</td>\n",
              "      <td>엄마도 엄마만의 인생이 있을 테니 가지 말라고 할 수가 없었어. 그래서 더 마음이 ...</td>\n",
              "      <td>정말 많이 답답하셨겠어요. 어떻게 하는 게 기분이 좀 풀릴까요?</td>\n",
              "      <td>일단 좀 자야겠어.</td>\n",
              "      <td>일단 휴식을 가질 생각이시군요.</td>\n",
              "      <td>NaN</td>\n",
              "      <td>NaN</td>\n",
              "    </tr>\n",
              "    <tr>\n",
              "      <th>2</th>\n",
              "      <td>35590</td>\n",
              "      <td>청소년</td>\n",
              "      <td>남성</td>\n",
              "      <td>학교폭력/따돌림</td>\n",
              "      <td>해당없음</td>\n",
              "      <td>불안</td>\n",
              "      <td>조심스러운</td>\n",
              "      <td>학교에서 한 친구를 괴롭히는 무리에게 그만하라고 했어.</td>\n",
              "      <td>용기 있는 행동을 하셨네요. 마음이 어떠셨나요?</td>\n",
              "      <td>그런데 말을 하고 난 후 나도 괴롭힐까 봐 불안했어.</td>\n",
              "      <td>그랬군요. 지금 기분에서 벗어나기 위해 할 수 있는 일에는 무엇이 있을까요?</td>\n",
              "      <td>나는 옳은 일을 한 거라고 생각해. 나까지 괴롭힌다면 신고할 거야.</td>\n",
              "      <td>지금의 상황이 나의 방식으로써 잘 해결될 수 있기를 바라요.</td>\n",
              "      <td>NaN</td>\n",
              "      <td>NaN</td>\n",
              "    </tr>\n",
              "  </tbody>\n",
              "</table>\n",
              "</div>\n",
              "      <button class=\"colab-df-convert\" onclick=\"convertToInteractive('df-1659917a-1afd-4b7a-9075-a20a8d02ca27')\"\n",
              "              title=\"Convert this dataframe to an interactive table.\"\n",
              "              style=\"display:none;\">\n",
              "        \n",
              "  <svg xmlns=\"http://www.w3.org/2000/svg\" height=\"24px\"viewBox=\"0 0 24 24\"\n",
              "       width=\"24px\">\n",
              "    <path d=\"M0 0h24v24H0V0z\" fill=\"none\"/>\n",
              "    <path d=\"M18.56 5.44l.94 2.06.94-2.06 2.06-.94-2.06-.94-.94-2.06-.94 2.06-2.06.94zm-11 1L8.5 8.5l.94-2.06 2.06-.94-2.06-.94L8.5 2.5l-.94 2.06-2.06.94zm10 10l.94 2.06.94-2.06 2.06-.94-2.06-.94-.94-2.06-.94 2.06-2.06.94z\"/><path d=\"M17.41 7.96l-1.37-1.37c-.4-.4-.92-.59-1.43-.59-.52 0-1.04.2-1.43.59L10.3 9.45l-7.72 7.72c-.78.78-.78 2.05 0 2.83L4 21.41c.39.39.9.59 1.41.59.51 0 1.02-.2 1.41-.59l7.78-7.78 2.81-2.81c.8-.78.8-2.07 0-2.86zM5.41 20L4 18.59l7.72-7.72 1.47 1.35L5.41 20z\"/>\n",
              "  </svg>\n",
              "      </button>\n",
              "      \n",
              "  <style>\n",
              "    .colab-df-container {\n",
              "      display:flex;\n",
              "      flex-wrap:wrap;\n",
              "      gap: 12px;\n",
              "    }\n",
              "\n",
              "    .colab-df-convert {\n",
              "      background-color: #E8F0FE;\n",
              "      border: none;\n",
              "      border-radius: 50%;\n",
              "      cursor: pointer;\n",
              "      display: none;\n",
              "      fill: #1967D2;\n",
              "      height: 32px;\n",
              "      padding: 0 0 0 0;\n",
              "      width: 32px;\n",
              "    }\n",
              "\n",
              "    .colab-df-convert:hover {\n",
              "      background-color: #E2EBFA;\n",
              "      box-shadow: 0px 1px 2px rgba(60, 64, 67, 0.3), 0px 1px 3px 1px rgba(60, 64, 67, 0.15);\n",
              "      fill: #174EA6;\n",
              "    }\n",
              "\n",
              "    [theme=dark] .colab-df-convert {\n",
              "      background-color: #3B4455;\n",
              "      fill: #D2E3FC;\n",
              "    }\n",
              "\n",
              "    [theme=dark] .colab-df-convert:hover {\n",
              "      background-color: #434B5C;\n",
              "      box-shadow: 0px 1px 3px 1px rgba(0, 0, 0, 0.15);\n",
              "      filter: drop-shadow(0px 1px 2px rgba(0, 0, 0, 0.3));\n",
              "      fill: #FFFFFF;\n",
              "    }\n",
              "  </style>\n",
              "\n",
              "      <script>\n",
              "        const buttonEl =\n",
              "          document.querySelector('#df-1659917a-1afd-4b7a-9075-a20a8d02ca27 button.colab-df-convert');\n",
              "        buttonEl.style.display =\n",
              "          google.colab.kernel.accessAllowed ? 'block' : 'none';\n",
              "\n",
              "        async function convertToInteractive(key) {\n",
              "          const element = document.querySelector('#df-1659917a-1afd-4b7a-9075-a20a8d02ca27');\n",
              "          const dataTable =\n",
              "            await google.colab.kernel.invokeFunction('convertToInteractive',\n",
              "                                                     [key], {});\n",
              "          if (!dataTable) return;\n",
              "\n",
              "          const docLinkHtml = 'Like what you see? Visit the ' +\n",
              "            '<a target=\"_blank\" href=https://colab.research.google.com/notebooks/data_table.ipynb>data table notebook</a>'\n",
              "            + ' to learn more about interactive tables.';\n",
              "          element.innerHTML = '';\n",
              "          dataTable['output_type'] = 'display_data';\n",
              "          await google.colab.output.renderOutput(dataTable, element);\n",
              "          const docLink = document.createElement('div');\n",
              "          docLink.innerHTML = docLinkHtml;\n",
              "          element.appendChild(docLink);\n",
              "        }\n",
              "      </script>\n",
              "    </div>\n",
              "  </div>\n",
              "  "
            ],
            "text/plain": [
              "      번호   연령  성별  ...                             시스템응답3 사람문장4 시스템응답4\n",
              "0  23093   청년  여성  ...         자신이 하고 싶은 일을 목표로 하기로 하셨군요.   NaN    NaN\n",
              "1  32848  청소년  남성  ...                  일단 휴식을 가질 생각이시군요.   NaN    NaN\n",
              "2  35590  청소년  남성  ...  지금의 상황이 나의 방식으로써 잘 해결될 수 있기를 바라요.   NaN    NaN\n",
              "\n",
              "[3 rows x 15 columns]"
            ]
          },
          "metadata": {},
          "execution_count": 4
        }
      ]
    },
    {
      "cell_type": "code",
      "source": [
        "train_data.isnull().sum()"
      ],
      "metadata": {
        "id": "rP1-qTlDSmnU"
      },
      "execution_count": null,
      "outputs": []
    },
    {
      "cell_type": "code",
      "source": [
        "train_data.columns"
      ],
      "metadata": {
        "colab": {
          "base_uri": "https://localhost:8080/"
        },
        "id": "nuXU6U2XSx3s",
        "outputId": "353b33b8-dc63-4168-ceb7-d4a7807bbdfe"
      },
      "execution_count": null,
      "outputs": [
        {
          "output_type": "execute_result",
          "data": {
            "text/plain": [
              "Index(['번호', '연령', '성별', '상황키워드', '신체질환', '감정_대분류', '감정_소분류', '사람문장1',\n",
              "       '시스템응답1', '사람문장2', '시스템응답2', '사람문장3', '시스템응답3', '사람문장4', '시스템응답4'],\n",
              "      dtype='object')"
            ]
          },
          "metadata": {},
          "execution_count": 5
        }
      ]
    },
    {
      "cell_type": "code",
      "source": [
        "train_data.dtypes"
      ],
      "metadata": {
        "colab": {
          "base_uri": "https://localhost:8080/"
        },
        "id": "ckKHmrQR6Mcc",
        "outputId": "34496bc1-79c4-4a1f-ebf6-9ae1ca9231bc"
      },
      "execution_count": null,
      "outputs": [
        {
          "output_type": "execute_result",
          "data": {
            "text/plain": [
              "번호         int64\n",
              "연령        object\n",
              "성별        object\n",
              "상황키워드     object\n",
              "신체질환      object\n",
              "감정_대분류    object\n",
              "감정_소분류    object\n",
              "사람문장1     object\n",
              "시스템응답1    object\n",
              "사람문장2     object\n",
              "시스템응답2    object\n",
              "사람문장3     object\n",
              "시스템응답3    object\n",
              "사람문장4     object\n",
              "시스템응답4    object\n",
              "dtype: object"
            ]
          },
          "metadata": {},
          "execution_count": 81
        }
      ]
    },
    {
      "cell_type": "markdown",
      "source": [
        "### 불용어 리스트 만들기\n",
        "\n",
        "- . 불용어는 정의하기 나름인데, 한국어의 조사, 접속사 등의 보편적인 불용어를 사용할 수도 있겠지만 결국 풀고자 하는 문제의 데이터를 지속 검토하면서 계속해서 추가하는 경우 또한 많습니다"
      ],
      "metadata": {
        "id": "n3-gUtDgMXb3"
      }
    },
    {
      "cell_type": "code",
      "source": [
        "stop_words1 = pd.read_excel('/content/drive/MyDrive/프로젝트1/ko_stop_words.xlsx',header=None) \n",
        "stop_words1.head()"
      ],
      "metadata": {
        "colab": {
          "base_uri": "https://localhost:8080/",
          "height": 206
        },
        "id": "1i0ZTeuP-xJN",
        "outputId": "99342a27-623b-427b-9262-7daee3cd030a"
      },
      "execution_count": 5,
      "outputs": [
        {
          "output_type": "execute_result",
          "data": {
            "text/html": [
              "\n",
              "  <div id=\"df-d03425d1-a2a1-49a0-aeec-7023806ff87e\">\n",
              "    <div class=\"colab-df-container\">\n",
              "      <div>\n",
              "<style scoped>\n",
              "    .dataframe tbody tr th:only-of-type {\n",
              "        vertical-align: middle;\n",
              "    }\n",
              "\n",
              "    .dataframe tbody tr th {\n",
              "        vertical-align: top;\n",
              "    }\n",
              "\n",
              "    .dataframe thead th {\n",
              "        text-align: right;\n",
              "    }\n",
              "</style>\n",
              "<table border=\"1\" class=\"dataframe\">\n",
              "  <thead>\n",
              "    <tr style=\"text-align: right;\">\n",
              "      <th></th>\n",
              "      <th>0</th>\n",
              "      <th>1</th>\n",
              "      <th>2</th>\n",
              "    </tr>\n",
              "  </thead>\n",
              "  <tbody>\n",
              "    <tr>\n",
              "      <th>0</th>\n",
              "      <td>아</td>\n",
              "      <td>어찌됏든</td>\n",
              "      <td>하기보다는</td>\n",
              "    </tr>\n",
              "    <tr>\n",
              "      <th>1</th>\n",
              "      <td>휴</td>\n",
              "      <td>그위에</td>\n",
              "      <td>차라리</td>\n",
              "    </tr>\n",
              "    <tr>\n",
              "      <th>2</th>\n",
              "      <td>아이구</td>\n",
              "      <td>게다가</td>\n",
              "      <td>하는 편이 낫다</td>\n",
              "    </tr>\n",
              "    <tr>\n",
              "      <th>3</th>\n",
              "      <td>아이쿠</td>\n",
              "      <td>점에서 보아</td>\n",
              "      <td>흐흐</td>\n",
              "    </tr>\n",
              "    <tr>\n",
              "      <th>4</th>\n",
              "      <td>아이고</td>\n",
              "      <td>비추어 보아</td>\n",
              "      <td>놀라다</td>\n",
              "    </tr>\n",
              "  </tbody>\n",
              "</table>\n",
              "</div>\n",
              "      <button class=\"colab-df-convert\" onclick=\"convertToInteractive('df-d03425d1-a2a1-49a0-aeec-7023806ff87e')\"\n",
              "              title=\"Convert this dataframe to an interactive table.\"\n",
              "              style=\"display:none;\">\n",
              "        \n",
              "  <svg xmlns=\"http://www.w3.org/2000/svg\" height=\"24px\"viewBox=\"0 0 24 24\"\n",
              "       width=\"24px\">\n",
              "    <path d=\"M0 0h24v24H0V0z\" fill=\"none\"/>\n",
              "    <path d=\"M18.56 5.44l.94 2.06.94-2.06 2.06-.94-2.06-.94-.94-2.06-.94 2.06-2.06.94zm-11 1L8.5 8.5l.94-2.06 2.06-.94-2.06-.94L8.5 2.5l-.94 2.06-2.06.94zm10 10l.94 2.06.94-2.06 2.06-.94-2.06-.94-.94-2.06-.94 2.06-2.06.94z\"/><path d=\"M17.41 7.96l-1.37-1.37c-.4-.4-.92-.59-1.43-.59-.52 0-1.04.2-1.43.59L10.3 9.45l-7.72 7.72c-.78.78-.78 2.05 0 2.83L4 21.41c.39.39.9.59 1.41.59.51 0 1.02-.2 1.41-.59l7.78-7.78 2.81-2.81c.8-.78.8-2.07 0-2.86zM5.41 20L4 18.59l7.72-7.72 1.47 1.35L5.41 20z\"/>\n",
              "  </svg>\n",
              "      </button>\n",
              "      \n",
              "  <style>\n",
              "    .colab-df-container {\n",
              "      display:flex;\n",
              "      flex-wrap:wrap;\n",
              "      gap: 12px;\n",
              "    }\n",
              "\n",
              "    .colab-df-convert {\n",
              "      background-color: #E8F0FE;\n",
              "      border: none;\n",
              "      border-radius: 50%;\n",
              "      cursor: pointer;\n",
              "      display: none;\n",
              "      fill: #1967D2;\n",
              "      height: 32px;\n",
              "      padding: 0 0 0 0;\n",
              "      width: 32px;\n",
              "    }\n",
              "\n",
              "    .colab-df-convert:hover {\n",
              "      background-color: #E2EBFA;\n",
              "      box-shadow: 0px 1px 2px rgba(60, 64, 67, 0.3), 0px 1px 3px 1px rgba(60, 64, 67, 0.15);\n",
              "      fill: #174EA6;\n",
              "    }\n",
              "\n",
              "    [theme=dark] .colab-df-convert {\n",
              "      background-color: #3B4455;\n",
              "      fill: #D2E3FC;\n",
              "    }\n",
              "\n",
              "    [theme=dark] .colab-df-convert:hover {\n",
              "      background-color: #434B5C;\n",
              "      box-shadow: 0px 1px 3px 1px rgba(0, 0, 0, 0.15);\n",
              "      filter: drop-shadow(0px 1px 2px rgba(0, 0, 0, 0.3));\n",
              "      fill: #FFFFFF;\n",
              "    }\n",
              "  </style>\n",
              "\n",
              "      <script>\n",
              "        const buttonEl =\n",
              "          document.querySelector('#df-d03425d1-a2a1-49a0-aeec-7023806ff87e button.colab-df-convert');\n",
              "        buttonEl.style.display =\n",
              "          google.colab.kernel.accessAllowed ? 'block' : 'none';\n",
              "\n",
              "        async function convertToInteractive(key) {\n",
              "          const element = document.querySelector('#df-d03425d1-a2a1-49a0-aeec-7023806ff87e');\n",
              "          const dataTable =\n",
              "            await google.colab.kernel.invokeFunction('convertToInteractive',\n",
              "                                                     [key], {});\n",
              "          if (!dataTable) return;\n",
              "\n",
              "          const docLinkHtml = 'Like what you see? Visit the ' +\n",
              "            '<a target=\"_blank\" href=https://colab.research.google.com/notebooks/data_table.ipynb>data table notebook</a>'\n",
              "            + ' to learn more about interactive tables.';\n",
              "          element.innerHTML = '';\n",
              "          dataTable['output_type'] = 'display_data';\n",
              "          await google.colab.output.renderOutput(dataTable, element);\n",
              "          const docLink = document.createElement('div');\n",
              "          docLink.innerHTML = docLinkHtml;\n",
              "          element.appendChild(docLink);\n",
              "        }\n",
              "      </script>\n",
              "    </div>\n",
              "  </div>\n",
              "  "
            ],
            "text/plain": [
              "     0       1         2\n",
              "0    아    어찌됏든     하기보다는\n",
              "1    휴     그위에       차라리\n",
              "2  아이구     게다가  하는 편이 낫다\n",
              "3  아이쿠  점에서 보아        흐흐\n",
              "4  아이고  비추어 보아       놀라다"
            ]
          },
          "metadata": {},
          "execution_count": 5
        }
      ]
    },
    {
      "cell_type": "code",
      "source": [
        "stop_words2 = pd.read_excel('/content/drive/MyDrive/프로젝트1/ko_stop_words2.xlsx', header=None)  # 코랩에 올리고 실행되기까지 시간이 좀 걸림.\n",
        "stop_words2.head()"
      ],
      "metadata": {
        "colab": {
          "base_uri": "https://localhost:8080/",
          "height": 206
        },
        "id": "ey5CXQRG_IhU",
        "outputId": "889ac07a-b665-4432-89cc-e2765b13b189"
      },
      "execution_count": 6,
      "outputs": [
        {
          "output_type": "execute_result",
          "data": {
            "text/html": [
              "\n",
              "  <div id=\"df-0904ccce-0765-479b-8b97-8527b0d5b2e5\">\n",
              "    <div class=\"colab-df-container\">\n",
              "      <div>\n",
              "<style scoped>\n",
              "    .dataframe tbody tr th:only-of-type {\n",
              "        vertical-align: middle;\n",
              "    }\n",
              "\n",
              "    .dataframe tbody tr th {\n",
              "        vertical-align: top;\n",
              "    }\n",
              "\n",
              "    .dataframe thead th {\n",
              "        text-align: right;\n",
              "    }\n",
              "</style>\n",
              "<table border=\"1\" class=\"dataframe\">\n",
              "  <thead>\n",
              "    <tr style=\"text-align: right;\">\n",
              "      <th></th>\n",
              "      <th>0</th>\n",
              "      <th>1</th>\n",
              "      <th>2</th>\n",
              "    </tr>\n",
              "  </thead>\n",
              "  <tbody>\n",
              "    <tr>\n",
              "      <th>0</th>\n",
              "      <td>이</td>\n",
              "      <td>VCP</td>\n",
              "      <td>0.018280</td>\n",
              "    </tr>\n",
              "    <tr>\n",
              "      <th>1</th>\n",
              "      <td>있</td>\n",
              "      <td>VA</td>\n",
              "      <td>0.011699</td>\n",
              "    </tr>\n",
              "    <tr>\n",
              "      <th>2</th>\n",
              "      <td>하</td>\n",
              "      <td>VV</td>\n",
              "      <td>0.009774</td>\n",
              "    </tr>\n",
              "    <tr>\n",
              "      <th>3</th>\n",
              "      <td>것</td>\n",
              "      <td>NNB</td>\n",
              "      <td>0.009733</td>\n",
              "    </tr>\n",
              "    <tr>\n",
              "      <th>4</th>\n",
              "      <td>들</td>\n",
              "      <td>XSN</td>\n",
              "      <td>0.006898</td>\n",
              "    </tr>\n",
              "  </tbody>\n",
              "</table>\n",
              "</div>\n",
              "      <button class=\"colab-df-convert\" onclick=\"convertToInteractive('df-0904ccce-0765-479b-8b97-8527b0d5b2e5')\"\n",
              "              title=\"Convert this dataframe to an interactive table.\"\n",
              "              style=\"display:none;\">\n",
              "        \n",
              "  <svg xmlns=\"http://www.w3.org/2000/svg\" height=\"24px\"viewBox=\"0 0 24 24\"\n",
              "       width=\"24px\">\n",
              "    <path d=\"M0 0h24v24H0V0z\" fill=\"none\"/>\n",
              "    <path d=\"M18.56 5.44l.94 2.06.94-2.06 2.06-.94-2.06-.94-.94-2.06-.94 2.06-2.06.94zm-11 1L8.5 8.5l.94-2.06 2.06-.94-2.06-.94L8.5 2.5l-.94 2.06-2.06.94zm10 10l.94 2.06.94-2.06 2.06-.94-2.06-.94-.94-2.06-.94 2.06-2.06.94z\"/><path d=\"M17.41 7.96l-1.37-1.37c-.4-.4-.92-.59-1.43-.59-.52 0-1.04.2-1.43.59L10.3 9.45l-7.72 7.72c-.78.78-.78 2.05 0 2.83L4 21.41c.39.39.9.59 1.41.59.51 0 1.02-.2 1.41-.59l7.78-7.78 2.81-2.81c.8-.78.8-2.07 0-2.86zM5.41 20L4 18.59l7.72-7.72 1.47 1.35L5.41 20z\"/>\n",
              "  </svg>\n",
              "      </button>\n",
              "      \n",
              "  <style>\n",
              "    .colab-df-container {\n",
              "      display:flex;\n",
              "      flex-wrap:wrap;\n",
              "      gap: 12px;\n",
              "    }\n",
              "\n",
              "    .colab-df-convert {\n",
              "      background-color: #E8F0FE;\n",
              "      border: none;\n",
              "      border-radius: 50%;\n",
              "      cursor: pointer;\n",
              "      display: none;\n",
              "      fill: #1967D2;\n",
              "      height: 32px;\n",
              "      padding: 0 0 0 0;\n",
              "      width: 32px;\n",
              "    }\n",
              "\n",
              "    .colab-df-convert:hover {\n",
              "      background-color: #E2EBFA;\n",
              "      box-shadow: 0px 1px 2px rgba(60, 64, 67, 0.3), 0px 1px 3px 1px rgba(60, 64, 67, 0.15);\n",
              "      fill: #174EA6;\n",
              "    }\n",
              "\n",
              "    [theme=dark] .colab-df-convert {\n",
              "      background-color: #3B4455;\n",
              "      fill: #D2E3FC;\n",
              "    }\n",
              "\n",
              "    [theme=dark] .colab-df-convert:hover {\n",
              "      background-color: #434B5C;\n",
              "      box-shadow: 0px 1px 3px 1px rgba(0, 0, 0, 0.15);\n",
              "      filter: drop-shadow(0px 1px 2px rgba(0, 0, 0, 0.3));\n",
              "      fill: #FFFFFF;\n",
              "    }\n",
              "  </style>\n",
              "\n",
              "      <script>\n",
              "        const buttonEl =\n",
              "          document.querySelector('#df-0904ccce-0765-479b-8b97-8527b0d5b2e5 button.colab-df-convert');\n",
              "        buttonEl.style.display =\n",
              "          google.colab.kernel.accessAllowed ? 'block' : 'none';\n",
              "\n",
              "        async function convertToInteractive(key) {\n",
              "          const element = document.querySelector('#df-0904ccce-0765-479b-8b97-8527b0d5b2e5');\n",
              "          const dataTable =\n",
              "            await google.colab.kernel.invokeFunction('convertToInteractive',\n",
              "                                                     [key], {});\n",
              "          if (!dataTable) return;\n",
              "\n",
              "          const docLinkHtml = 'Like what you see? Visit the ' +\n",
              "            '<a target=\"_blank\" href=https://colab.research.google.com/notebooks/data_table.ipynb>data table notebook</a>'\n",
              "            + ' to learn more about interactive tables.';\n",
              "          element.innerHTML = '';\n",
              "          dataTable['output_type'] = 'display_data';\n",
              "          await google.colab.output.renderOutput(dataTable, element);\n",
              "          const docLink = document.createElement('div');\n",
              "          docLink.innerHTML = docLinkHtml;\n",
              "          element.appendChild(docLink);\n",
              "        }\n",
              "      </script>\n",
              "    </div>\n",
              "  </div>\n",
              "  "
            ],
            "text/plain": [
              "   0    1         2\n",
              "0  이  VCP  0.018280\n",
              "1  있   VA  0.011699\n",
              "2  하   VV  0.009774\n",
              "3  것  NNB  0.009733\n",
              "4  들  XSN  0.006898"
            ]
          },
          "metadata": {},
          "execution_count": 6
        }
      ]
    },
    {
      "cell_type": "code",
      "source": [
        "print(stop_words1.shape)\n",
        "print(stop_words1.isna().sum())\n",
        "\n",
        "stop1 = stop_words1.iloc[:,0].to_frame().values.tolist()\n",
        "stop2 = stop_words1.iloc[:,1].to_frame().values.tolist()\n",
        "stop3 = stop_words1.iloc[:,2].to_frame().dropna().values.tolist()\n",
        "\n",
        "# 2차원리스트 -> 1차원리스트로 변환 https://codechacha.com/ko/python-flatten-list/\n",
        "\n",
        "stop = stop1+stop2+stop3\n",
        "print(len(stop))\n",
        "\n",
        "stop2=sum(stop,[])\n",
        "print(len(stop2))\n",
        "\n",
        "stop_im = stop_words2[0].to_list()\n",
        "stop_word=stop2 + stop_im\n",
        "print(len(stop_word))\n",
        "\n",
        "stop_words=set(stop_word)\n",
        "print(stop_words)"
      ],
      "metadata": {
        "colab": {
          "base_uri": "https://localhost:8080/"
        },
        "id": "ywZlke7dFUnu",
        "outputId": "1a0fc37e-ea40-42c4-f316-9c76459de637"
      },
      "execution_count": 7,
      "outputs": [
        {
          "output_type": "stream",
          "name": "stdout",
          "text": [
            "(250, 3)\n",
            "0     0\n",
            "1     0\n",
            "2    73\n",
            "dtype: int64\n",
            "677\n",
            "677\n",
            "777\n",
            "{'반대로 말하자면', '육', '가령', '야', '훨씬', '기타', '하지마', '그런데', '일단', '이 되다', '할 지경이다', '비록', '이럴정도로', '꽈당', '함께', '매번', '정도', '이지만', '상대적으로 말하자면', '일지라도', '이렇구나', '예를 들자면', '대하', '어느것', '만 못하다', '우에 종합한것과같이', '우리들', '그렇', '이쪽', '얼마나', '의해서', '그리고', '하는 김에', '않', '이봐', '그렇지않으면', '도착하다', '중에서', '비추어 보아', '하물며', '더군다나', '아니나다를가', '생각하', '얼마든지', '그래도', '엉엉', '즉', '따위', '말', '되', '까지도', '일때', '여보시오', '저쪽', '때가 되어', '이만큼', '시키', '바꾸어서 한다면', '든간에', '줄은모른다', '개', '타인', '전자', '기대여', '그저', '누가 알겠는가', '토하다', '그럼에도 불구하고', '제각기', '당장', '어', '심지어', '만일', '습니까', '바와같이', '자마자', '년', '다섯', '내', '따라', '너', '데', '할 따름이다', '잠시', '그러니', '불구하고', '을', '지든지', '답다', '이로 인하여', '이천육', '통하', '이젠', '때문', '언제', '제외하고', '그렇지 않으면', '흥', '허걱', '수', '라 해도', '때', '그런 까닭에', '씨', '무엇때문에', '기준으로', '하게하다', '바꾸어말하자면', '예', '모르', '어찌하든지', '끙끙', '이상', '외에도', '얼마큼', '결론을 낼 수 있다', '퉤', '해야한다', '주', '그러나', '의해되다', '약간', '일곱', '와아', '한켠으로는', '그러', '모', '그러면', '아무거나', '시작하여', '하지 않도록', '어느쪽', '어떤것들', '이 정도의', '허허', '나', '너희', '따라서', '한적이있다', '우선', '주저하지 않고', '하면 할수록', '만약', '에 한하다', '바꿔 말하면', '쉿', '게다가', '하기에', '오', '동안', '를', '생각', '한항목', '하도다', '및', '혹은', '보이', '말하자면', '소생', '어쨋든', '다음으로', '살', '힘입어', '더구나', '당신', '모두', '밖에 안된다', '이렇게 많은 것', '할 생각이다', '령', '다른', '하지마라', '임에 틀림없다', '하는 편이 낫다', '하겠는가', '언젠가', '할만하다', '오르다', '시초에', '실로', '근거로', '해도좋다', '팍', '각각', '윙윙', '아니', '그치지 않다', '하든지', '다시말하면', '대해 말하자면', '자신', '어떻', '그중에서', '댕그', '마저도', '요컨대', '하마터면', '하기만 하면', '관계없이', '마음대로', '것과 같이', '얼마간', '설마', '중의하나', '한데', '조차도', '시간', '여차', '지금', '가까스로', '그렇지 않다면', '게우다', '보다더', '진짜로', '크', '쳇', '그것', '마치', '어쩔수 없다', '그들', '와', '으로써', '이와같다면', '의지하여', '것들', '콸콸', '으로서', '경우', '전후', '지만', '네', '좀', '정도에 이르다', '쾅쾅', '물론', '할 힘이 있다', '된이상', '좋아', '흐흐', '하는것이 낫다', '아니면', '설령', '헐떡헐떡', '딩동', '한', '그렇지만', '이러한', '예컨대', '할때', '어떠한', '할 줄 안다', '안', '이천팔', '저것만큼', '누구', '이렇게말하자면', '오로지', '하곤하였다', '못하', '위해서', '인 듯하다', '총적으로 말하면', '주룩주룩', '줄은 몰랏다', '구', '원', '봐', '앞', '에서', '하면서', '그렇게 함으로써', '에 가서', '시키다', '사람', '비슷하다', '응당', '어디', '보는데서', '관하여', '어이', '불문하고', '아홉', '형식으로 쓰여', '때문에', '잘', '한 이유는', '적', '어떻게', '아니라면', '나오', '받', '여덟', '이와 같은', '자기집', '가지', '어찌', '영', '하도록하다', '일반적으로', '둘', '그러한즉', '이때', '일것이다', '반드시', '이유만으로', '어느해', '인젠', '어떤것', '딱', '만약에', '있', '아이구', '갖고말하자면', '여전히', '많', '차라리', '한 까닭에', '바꾸어서 말하면', '다시 말하자면', '무렵', '말하', '지말고', '아울러', '이외에도', '저', '혹시', '뒤따라', '까닭으로', '어떤', '그러므로', '로', '이 때문에', '하', '입장에서', '어찌됏어', '하지 않는다면', '사회', '그런', '이천칠', '오히려', '의해', '점에서 보아', '다음', '하기는한데', '공동으로', '하고 있다', '헉', '어기여차', '막론하고', '구토하다', '졸졸', '너희들', '소인', '일', '나머지는', '겸사겸사', '하여야', '향하다', '더불어', '기점으로', '생각한대로', '저기', '자기', '이러이러하다', '참', '대로 하다', '개의치않고', '보드득', '왜냐하면', '우르르', '끼익', '아이', '응', '잠깐', '참나', '여섯', '좍좍', '통하여', '총적으로', '대하여', '이라면', '만이 아니다', '타다', '남짓', '들', '즈음하여', '어떻해', '비하면', '고로', '만들', '어째서', '하도록시키다', '의', '동시에', '논하지 않다', '이어서', '얼마', '마저', '그런즉', '여부', '셋', '삐걱', '와 같은 사람들', '하더라도', '된바에야', '만큼', '다수', '하기보다는', '다만', '위에서 서술한바와같이', '입각하여', '이런', '에 있다', '할망정', '여기', '그러니까', '다음에', '하려고하다', '하는것도', '대해서', '이렇게되면', '더라도', '반대로', '그만이다', '사', '이것', '한다면', '총적으로 보면', '부류의 사람들', '한다면 몰라도', '이번', '이 밖에', '로 인하여', '이와 반대로', '알 수 있다', '않기 위해서', '뒤이어', '그위에', '아야', '조금', '오호', '이', '하지만', '무슨', '펄렁', '등', '과', '할지라도', '아', '무엇', '가', '하여금', '더욱이는', '한 후', '전', '까지 미치다', '그렇지', '설사', '탕탕', '거바', '견지에서', '비걱거리다', '놓', '단지', '해서는 안된다', '각자', '향해서', '싶', '보', '뚝뚝', '위하여', '안 그러면', '결국', '버금', '아무도', '만은 아니다', '관해서는', '넷', '놀라다', '또', '않기 위하여', '바꾸어말하면', '다른 방면으로', '어느 년도', '그때', '으로', '하면된다', '관계가 있다', '더', '결과에 이르다', '비교적', '에', '양자', '으로 인하여', '각종', '까지', '얼마만큼', '속', '얼마 안 되는 것', '집', '하기 위하여', '등등', '첫번째로', '붕붕', '어찌됏든', '쿵', '여', '그래서', '그래', '연관되다', '습니다', '했어요', '앗', '같이', '문제', '다시', '아이고', '위하', '각', '삼', '아래윗', '부터', '휴', '이 외에', '알', '메쓰겁다', '즉시', '이와 같다', '무릎쓰고', '어때', '그에 따르는', '솨', '할뿐', '근거하여', '오직', '영차', '하는바', '관련이 있다', '곧', '전부', '어느곳', '거의', '하자마자', '이용하여', '하기 때문에', '자', '혼자', '와르르', '매', '있다', '좋', '대하면', '바로', '두번째로', '구체적으로', '또한', '이곳', '뿐이다', '그', '이리하여', '할지언정', '팔', '뿐만 아니라', '하고있었다', '같다', '우리', '아하', '의거하여', '저희', '두', '어느', '해도된다', '소리', '로써', '삐걱거리다', '어느때', '말할것도 없고', '저것', '여자', '없', '하구나', '요만한 것', '비로소', '제', '예하면', '더욱더', '따지지 않다', '연이서', '여러분', '명', '앞에서', '사실', '그리하여', '로부터', '봐라', '조차', '예를 들면', '다소', '륙', '헉헉', '툭', '하하', '이었다', '요만큼', '거니와', '할수있어', '해봐요', '잇따라', '시각', '칠', '고려하면', '그럼', '남들', '알았어', '이르기까지', '앞의것', '도달하다', '휘익', '둥둥', '에 달려 있다', '쪽으로', '허', '에게', '뿐만아니라', '것', '할수있다', '하는것만 못하다', '이천구', '한마디', '어찌하여', '번', '에 대해', '점', '월', '하느니', '이렇', '관한', '해요', '아니었다면', '향하여', '하나', '아이야', '본대로', '과연', '아이쿠', '그녀', '운운', '퍽', '지', '왜', '비길수 없다', '요만한걸', '같', '옆사람', '까악', '틈타', '몇', '하게될것이다', '겨우', '중', '이래', '할줄알다', '따르', '오자마자'}\n"
          ]
        }
      ]
    },
    {
      "cell_type": "code",
      "source": [
        "stop_words.add(',')\n",
        "stop_words.add('.')"
      ],
      "metadata": {
        "id": "AYv5k02hXpnL"
      },
      "execution_count": 8,
      "outputs": []
    },
    {
      "cell_type": "markdown",
      "source": [
        "# 감성 분류\n",
        "- 일반적인 딥러닝 통해서도 가능하다. (다층퍼셉트론)\n",
        "- 피드포워드신경망 https://wikidocs.net/45609\n",
        "\n",
        "```\n",
        "import time\n",
        "start = time.time()  # 시작 시간 저장\n",
        " \n",
        "# 작업 코드\n",
        " \n",
        "print(\"time :\", time.time() - start)  # 현재시각 - 시작시간 = 실행 시간\n",
        "```\n"
      ],
      "metadata": {
        "id": "bfN1Msog8fXA"
      }
    },
    {
      "cell_type": "markdown",
      "source": [
        "### 데이터에 대한 이해"
      ],
      "metadata": {
        "id": "BtmdflGmfOfA"
      }
    },
    {
      "cell_type": "code",
      "source": [
        "import pandas as pd\n",
        "import numpy as np\n",
        "import matplotlib.pyplot as plt\n",
        "from tensorflow.keras.preprocessing.text import Tokenizer\n",
        "from tensorflow.keras.utils import to_categorical"
      ],
      "metadata": {
        "id": "jRG_1os60zn7"
      },
      "execution_count": 9,
      "outputs": []
    },
    {
      "cell_type": "code",
      "source": [
        "print('훈련용 샘플의 개수 : {}'.format(train_data.shape))\n",
        "print('검증용 샘플의 개수 : {}'.format(val_data.shape))"
      ],
      "metadata": {
        "colab": {
          "base_uri": "https://localhost:8080/"
        },
        "id": "CtLAZYXKfYFK",
        "outputId": "1a549c9a-29c4-41a4-bd74-d7b89a7e3f63"
      },
      "execution_count": 10,
      "outputs": [
        {
          "output_type": "stream",
          "name": "stdout",
          "text": [
            "훈련용 샘플의 개수 : (40879, 15)\n",
            "검증용 샘플의 개수 : (5130, 15)\n"
          ]
        }
      ]
    },
    {
      "cell_type": "code",
      "source": [
        "print('총 주제의 개수 : {}'.format(len(train_data['감정_대분류'].unique())))\n",
        "print(train_data['감정_대분류'].unique())\n",
        "\n",
        "# 띄워쓰기가 있구나... 전처리가 필요하구나..."
      ],
      "metadata": {
        "colab": {
          "base_uri": "https://localhost:8080/"
        },
        "id": "LCCwBRIs101p",
        "outputId": "b97c1ff3-68a3-4825-f300-dadaa72f13e3"
      },
      "execution_count": null,
      "outputs": [
        {
          "output_type": "stream",
          "name": "stdout",
          "text": [
            "총 주제의 개수 : 8\n",
            "['기쁨' '불안' '당황' '슬픔' '분노' '상처' '불안 ' '기쁨 ']\n"
          ]
        }
      ]
    },
    {
      "cell_type": "code",
      "source": [
        "train_data['번호']=train_data['번호'].astype('str')"
      ],
      "metadata": {
        "id": "y8Xf8QyZ6rZo"
      },
      "execution_count": 11,
      "outputs": []
    },
    {
      "cell_type": "code",
      "source": [
        "train_data.dtypes"
      ],
      "metadata": {
        "colab": {
          "base_uri": "https://localhost:8080/"
        },
        "id": "2CifYMDQ7efr",
        "outputId": "32375513-c8c4-4a7e-a88d-9149b6885943"
      },
      "execution_count": null,
      "outputs": [
        {
          "output_type": "execute_result",
          "data": {
            "text/plain": [
              "번호        object\n",
              "연령        object\n",
              "성별        object\n",
              "상황키워드     object\n",
              "신체질환      object\n",
              "감정_대분류    object\n",
              "감정_소분류    object\n",
              "사람문장1     object\n",
              "시스템응답1    object\n",
              "사람문장2     object\n",
              "시스템응답2    object\n",
              "사람문장3     object\n",
              "시스템응답3    object\n",
              "사람문장4     object\n",
              "시스템응답4    object\n",
              "dtype: object"
            ]
          },
          "metadata": {},
          "execution_count": 37
        }
      ]
    },
    {
      "cell_type": "code",
      "source": [
        "# 앞뒤 공백 처리.\n",
        "train_data =train_data.apply(lambda x: x.str.strip() , axis = 1)  #https://www.delftstack.com/ko/howto/python-pandas/difference-between-pandas-apply-map-and-applymap/\n",
        "train_data.head(3)\n",
        "\n",
        "# strip()이 숫자는 Nan값으로 반환해버린다...??뭐지?\n",
        "# df.apply(lambda x: x.str.strip() if x.dtype == 'object' else x)\n"
      ],
      "metadata": {
        "colab": {
          "base_uri": "https://localhost:8080/",
          "height": 378
        },
        "id": "6RAPHx2W3xCC",
        "outputId": "1107e3db-d09f-4a0f-bab0-c777f9ce19af"
      },
      "execution_count": 12,
      "outputs": [
        {
          "output_type": "execute_result",
          "data": {
            "text/html": [
              "\n",
              "  <div id=\"df-ac9ce439-6e62-454c-b425-37e1d196a13e\">\n",
              "    <div class=\"colab-df-container\">\n",
              "      <div>\n",
              "<style scoped>\n",
              "    .dataframe tbody tr th:only-of-type {\n",
              "        vertical-align: middle;\n",
              "    }\n",
              "\n",
              "    .dataframe tbody tr th {\n",
              "        vertical-align: top;\n",
              "    }\n",
              "\n",
              "    .dataframe thead th {\n",
              "        text-align: right;\n",
              "    }\n",
              "</style>\n",
              "<table border=\"1\" class=\"dataframe\">\n",
              "  <thead>\n",
              "    <tr style=\"text-align: right;\">\n",
              "      <th></th>\n",
              "      <th>번호</th>\n",
              "      <th>연령</th>\n",
              "      <th>성별</th>\n",
              "      <th>상황키워드</th>\n",
              "      <th>신체질환</th>\n",
              "      <th>감정_대분류</th>\n",
              "      <th>감정_소분류</th>\n",
              "      <th>사람문장1</th>\n",
              "      <th>시스템응답1</th>\n",
              "      <th>사람문장2</th>\n",
              "      <th>시스템응답2</th>\n",
              "      <th>사람문장3</th>\n",
              "      <th>시스템응답3</th>\n",
              "      <th>사람문장4</th>\n",
              "      <th>시스템응답4</th>\n",
              "    </tr>\n",
              "  </thead>\n",
              "  <tbody>\n",
              "    <tr>\n",
              "      <th>0</th>\n",
              "      <td>44164</td>\n",
              "      <td>청년</td>\n",
              "      <td>남성</td>\n",
              "      <td>연애, 결혼, 출산</td>\n",
              "      <td>해당없음</td>\n",
              "      <td>기쁨</td>\n",
              "      <td>신이 난</td>\n",
              "      <td>아내가 드디어 출산하게 되어서 정말 신이 나.</td>\n",
              "      <td>아내분이 출산을 하시는군요. 정말 축하드려요.</td>\n",
              "      <td>아 지금 정말 신이 나.</td>\n",
              "      <td>잘 된 일이네요.</td>\n",
              "      <td>아기가 점점 클게 벌써 기대가 되네. 내가 많이 놀아줘야지.</td>\n",
              "      <td>좋은 아빠가 되실 거 같아요. 진심으로 축하드려요.</td>\n",
              "      <td>NaN</td>\n",
              "      <td>NaN</td>\n",
              "    </tr>\n",
              "    <tr>\n",
              "      <th>1</th>\n",
              "      <td>3926</td>\n",
              "      <td>노년</td>\n",
              "      <td>남성</td>\n",
              "      <td>건강, 죽음</td>\n",
              "      <td>만성질환 유</td>\n",
              "      <td>불안</td>\n",
              "      <td>스트레스 받는</td>\n",
              "      <td>당뇨랑 합병증 때문에 먹어야 할 약이 열 가지가 넘어가니까 스트레스야.</td>\n",
              "      <td>약 종류가 많아 번거로우시겠어요.</td>\n",
              "      <td>건강할 때 관리 좀 잘할걸 하는 생각이 들더라고.</td>\n",
              "      <td>현재 상황에서 변화를 주기 위해 어떻게 하면 될까요?</td>\n",
              "      <td>약을 잘 챙겨 먹고 나을 수 있도록 노력해야지.</td>\n",
              "      <td>약을 잘 챙겨 먹어 건강해지시길 바랄게요.</td>\n",
              "      <td>NaN</td>\n",
              "      <td>NaN</td>\n",
              "    </tr>\n",
              "    <tr>\n",
              "      <th>2</th>\n",
              "      <td>50882</td>\n",
              "      <td>청소년</td>\n",
              "      <td>여성</td>\n",
              "      <td>학업 및 진로</td>\n",
              "      <td>해당없음</td>\n",
              "      <td>당황</td>\n",
              "      <td>당황</td>\n",
              "      <td>고등학교에 올라오니 중학교 때보다 수업이 갑자기 어려워져서 당황스러워.</td>\n",
              "      <td>고등학교 수업이 중학교 때와는 다르게 갑자기 어려워서 당황스러우시군요.</td>\n",
              "      <td>아직 학기 초인데 내가 수업에 잘 따라갈 수 있을지 걱정돼.</td>\n",
              "      <td>이 상황에서 할 수 있는 게 어떤 것이 있을까요?</td>\n",
              "      <td>중학교 수업을 들을 때보다 훨씬 더 열심히 할 거야.</td>\n",
              "      <td>수업을 어떤 방식으로 열심히 듣는게 좋을까요?</td>\n",
              "      <td>선생님이 강조하신 부분을 필기하고 집에서 매일 수업 내용을 복습하려고 해.</td>\n",
              "      <td>열심히 해서 좋은 결과가 있었으면 좋겠어요.</td>\n",
              "    </tr>\n",
              "  </tbody>\n",
              "</table>\n",
              "</div>\n",
              "      <button class=\"colab-df-convert\" onclick=\"convertToInteractive('df-ac9ce439-6e62-454c-b425-37e1d196a13e')\"\n",
              "              title=\"Convert this dataframe to an interactive table.\"\n",
              "              style=\"display:none;\">\n",
              "        \n",
              "  <svg xmlns=\"http://www.w3.org/2000/svg\" height=\"24px\"viewBox=\"0 0 24 24\"\n",
              "       width=\"24px\">\n",
              "    <path d=\"M0 0h24v24H0V0z\" fill=\"none\"/>\n",
              "    <path d=\"M18.56 5.44l.94 2.06.94-2.06 2.06-.94-2.06-.94-.94-2.06-.94 2.06-2.06.94zm-11 1L8.5 8.5l.94-2.06 2.06-.94-2.06-.94L8.5 2.5l-.94 2.06-2.06.94zm10 10l.94 2.06.94-2.06 2.06-.94-2.06-.94-.94-2.06-.94 2.06-2.06.94z\"/><path d=\"M17.41 7.96l-1.37-1.37c-.4-.4-.92-.59-1.43-.59-.52 0-1.04.2-1.43.59L10.3 9.45l-7.72 7.72c-.78.78-.78 2.05 0 2.83L4 21.41c.39.39.9.59 1.41.59.51 0 1.02-.2 1.41-.59l7.78-7.78 2.81-2.81c.8-.78.8-2.07 0-2.86zM5.41 20L4 18.59l7.72-7.72 1.47 1.35L5.41 20z\"/>\n",
              "  </svg>\n",
              "      </button>\n",
              "      \n",
              "  <style>\n",
              "    .colab-df-container {\n",
              "      display:flex;\n",
              "      flex-wrap:wrap;\n",
              "      gap: 12px;\n",
              "    }\n",
              "\n",
              "    .colab-df-convert {\n",
              "      background-color: #E8F0FE;\n",
              "      border: none;\n",
              "      border-radius: 50%;\n",
              "      cursor: pointer;\n",
              "      display: none;\n",
              "      fill: #1967D2;\n",
              "      height: 32px;\n",
              "      padding: 0 0 0 0;\n",
              "      width: 32px;\n",
              "    }\n",
              "\n",
              "    .colab-df-convert:hover {\n",
              "      background-color: #E2EBFA;\n",
              "      box-shadow: 0px 1px 2px rgba(60, 64, 67, 0.3), 0px 1px 3px 1px rgba(60, 64, 67, 0.15);\n",
              "      fill: #174EA6;\n",
              "    }\n",
              "\n",
              "    [theme=dark] .colab-df-convert {\n",
              "      background-color: #3B4455;\n",
              "      fill: #D2E3FC;\n",
              "    }\n",
              "\n",
              "    [theme=dark] .colab-df-convert:hover {\n",
              "      background-color: #434B5C;\n",
              "      box-shadow: 0px 1px 3px 1px rgba(0, 0, 0, 0.15);\n",
              "      filter: drop-shadow(0px 1px 2px rgba(0, 0, 0, 0.3));\n",
              "      fill: #FFFFFF;\n",
              "    }\n",
              "  </style>\n",
              "\n",
              "      <script>\n",
              "        const buttonEl =\n",
              "          document.querySelector('#df-ac9ce439-6e62-454c-b425-37e1d196a13e button.colab-df-convert');\n",
              "        buttonEl.style.display =\n",
              "          google.colab.kernel.accessAllowed ? 'block' : 'none';\n",
              "\n",
              "        async function convertToInteractive(key) {\n",
              "          const element = document.querySelector('#df-ac9ce439-6e62-454c-b425-37e1d196a13e');\n",
              "          const dataTable =\n",
              "            await google.colab.kernel.invokeFunction('convertToInteractive',\n",
              "                                                     [key], {});\n",
              "          if (!dataTable) return;\n",
              "\n",
              "          const docLinkHtml = 'Like what you see? Visit the ' +\n",
              "            '<a target=\"_blank\" href=https://colab.research.google.com/notebooks/data_table.ipynb>data table notebook</a>'\n",
              "            + ' to learn more about interactive tables.';\n",
              "          element.innerHTML = '';\n",
              "          dataTable['output_type'] = 'display_data';\n",
              "          await google.colab.output.renderOutput(dataTable, element);\n",
              "          const docLink = document.createElement('div');\n",
              "          docLink.innerHTML = docLinkHtml;\n",
              "          element.appendChild(docLink);\n",
              "        }\n",
              "      </script>\n",
              "    </div>\n",
              "  </div>\n",
              "  "
            ],
            "text/plain": [
              "      번호  ...                    시스템응답4\n",
              "0  44164  ...                       NaN\n",
              "1   3926  ...                       NaN\n",
              "2  50882  ...  열심히 해서 좋은 결과가 있었으면 좋겠어요.\n",
              "\n",
              "[3 rows x 15 columns]"
            ]
          },
          "metadata": {},
          "execution_count": 12
        }
      ]
    },
    {
      "cell_type": "code",
      "source": [
        "print('총 감정_대분류의 개수 : {}'.format(len(train_data['감정_대분류'].unique())))\n",
        "print(train_data['감정_대분류'].unique())"
      ],
      "metadata": {
        "colab": {
          "base_uri": "https://localhost:8080/"
        },
        "id": "i89066Gs4b68",
        "outputId": "df02e3bc-26b8-41c0-d961-dfe0ba50d962"
      },
      "execution_count": 13,
      "outputs": [
        {
          "output_type": "stream",
          "name": "stdout",
          "text": [
            "총 감정_대분류의 개수 : 6\n",
            "['기쁨' '불안' '당황' '슬픔' '분노' '상처']\n"
          ]
        }
      ]
    },
    {
      "cell_type": "code",
      "source": [
        "print('총 감정_소분류의 개수 : {}'.format(len(train_data['감정_소분류'].unique())))\n",
        "print(train_data['감정_소분류'].unique())"
      ],
      "metadata": {
        "colab": {
          "base_uri": "https://localhost:8080/"
        },
        "id": "QL6elwvD1Lw7",
        "outputId": "e5650d62-e1ec-4d0f-8575-13e07c615555"
      },
      "execution_count": null,
      "outputs": [
        {
          "output_type": "stream",
          "name": "stdout",
          "text": [
            "총 주제의 개수 : 58\n",
            "['신이 난' '스트레스 받는' '당황' '안도' '취약한' '우울한' '구역질 나는' '좌절한' '눈물이 나는' '배신당한'\n",
            " '남의 시선을 의식하는' '죄책감의' '당혹스러운' '분노' '두려운' '낙담한' '회의적인' '마비된' '혼란스러운' '흥분'\n",
            " '한심한' '염세적인' '안달하는' '걱정스러운' '조심스러운' '충격 받은' '상처' '불안' '노여워하는' '기쁨' '짜증내는'\n",
            " '환멸을 느끼는' '비통한' '혐오스러운' '억울한' '만족스러운' '부끄러운' '버려진' '고립된' '괴로워하는' '자신하는'\n",
            " '외로운' '방어적인' '편안한' '질투하는' '감사하는' '초조한' '실망한' '슬픔' '신뢰하는' '가난한, 불우한'\n",
            " '후회되는' '툴툴대는' '성가신' '열등감' '희생된' '느긋' '악의적인']\n"
          ]
        }
      ]
    },
    {
      "cell_type": "markdown",
      "source": [
        "### 감성 레이블 만들기(숫자로 매핑)"
      ],
      "metadata": {
        "id": "CpZ6daz7HJv_"
      }
    },
    {
      "cell_type": "code",
      "source": [
        "#감정 대분류와 소분류를 키값쌍으로 정렬.\n",
        "dic = {}\n",
        "for uni_class in train_data['감정_대분류'].unique():\n",
        "    uni = train_data[train_data['감정_대분류'] == uni_class]['감정_소분류'].unique()\n",
        "    dic[uni_class] = list(uni)\n",
        "print(dic['기쁨'])"
      ],
      "metadata": {
        "colab": {
          "base_uri": "https://localhost:8080/"
        },
        "id": "Er7E2SGT18YT",
        "outputId": "24f6bb6b-5feb-453b-eede-c8b16dc45d1e"
      },
      "execution_count": 14,
      "outputs": [
        {
          "output_type": "stream",
          "name": "stdout",
          "text": [
            "['신이 난', '안도', '흥분', '기쁨', '만족스러운', '자신하는', '편안한', '감사하는', '신뢰하는', '느긋']\n"
          ]
        }
      ]
    },
    {
      "cell_type": "code",
      "source": [
        "# 감정소분류주제 58개를 숫자레이블 딕셔너리로 변경\n",
        "feel_class = train_data['감정_소분류'].unique()\n",
        "\n",
        "i = 0\n",
        "feel_dic = {}\n",
        "for feel in feel_class:\n",
        "    feel_dic[feel] = i\n",
        "    i+=1\n",
        "# feel_dic  #key:value = 감정소분류:숫자"
      ],
      "metadata": {
        "id": "vG7uTFsyiQnP"
      },
      "execution_count": 15,
      "outputs": []
    },
    {
      "cell_type": "code",
      "source": [
        "# 숫자로 감정을 찾을 수 있도록 reverse\n",
        "feel_dic_reverse = {}\n",
        "for key, value in feel_dic.items():\n",
        "    feel_dic_reverse[value] = key\n",
        "feel_dic_reverse"
      ],
      "metadata": {
        "id": "69QLD7M1w4Kp"
      },
      "execution_count": null,
      "outputs": []
    },
    {
      "cell_type": "code",
      "source": [
        "feel_df = train_data[['감정_소분류','사람문장1']]\n",
        "feel_df"
      ],
      "metadata": {
        "colab": {
          "base_uri": "https://localhost:8080/",
          "height": 424
        },
        "id": "tHadN0pjhNIe",
        "outputId": "16693eae-ad35-4a1c-e232-484f9b02e34a"
      },
      "execution_count": null,
      "outputs": [
        {
          "output_type": "execute_result",
          "data": {
            "text/html": [
              "<div>\n",
              "<style scoped>\n",
              "    .dataframe tbody tr th:only-of-type {\n",
              "        vertical-align: middle;\n",
              "    }\n",
              "\n",
              "    .dataframe tbody tr th {\n",
              "        vertical-align: top;\n",
              "    }\n",
              "\n",
              "    .dataframe thead th {\n",
              "        text-align: right;\n",
              "    }\n",
              "</style>\n",
              "<table border=\"1\" class=\"dataframe\">\n",
              "  <thead>\n",
              "    <tr style=\"text-align: right;\">\n",
              "      <th></th>\n",
              "      <th>감정_소분류</th>\n",
              "      <th>사람문장1</th>\n",
              "    </tr>\n",
              "  </thead>\n",
              "  <tbody>\n",
              "    <tr>\n",
              "      <th>0</th>\n",
              "      <td>신이 난</td>\n",
              "      <td>아내가 드디어 출산하게 되어서 정말 신이 나.</td>\n",
              "    </tr>\n",
              "    <tr>\n",
              "      <th>1</th>\n",
              "      <td>스트레스 받는</td>\n",
              "      <td>당뇨랑 합병증 때문에 먹어야 할 약이 열 가지가 넘어가니까 스트레스야.</td>\n",
              "    </tr>\n",
              "    <tr>\n",
              "      <th>2</th>\n",
              "      <td>당황</td>\n",
              "      <td>고등학교에 올라오니 중학교 때보다 수업이 갑자기 어려워져서 당황스러워.</td>\n",
              "    </tr>\n",
              "    <tr>\n",
              "      <th>3</th>\n",
              "      <td>신이 난</td>\n",
              "      <td>재취업이 돼서 받게 된 첫 월급으로 온 가족이 외식을 할 예정이야. 너무 행복해.</td>\n",
              "    </tr>\n",
              "    <tr>\n",
              "      <th>4</th>\n",
              "      <td>안도</td>\n",
              "      <td>빚을 드디어 다 갚게 되어서 이제야 안도감이 들어.</td>\n",
              "    </tr>\n",
              "    <tr>\n",
              "      <th>...</th>\n",
              "      <td>...</td>\n",
              "      <td>...</td>\n",
              "    </tr>\n",
              "    <tr>\n",
              "      <th>40874</th>\n",
              "      <td>혼란스러운</td>\n",
              "      <td>같이 사는 친구가 애완견을 데려왔는데 대부분 내가 돌보고 있어. 내가 주인인가 혼란...</td>\n",
              "    </tr>\n",
              "    <tr>\n",
              "      <th>40875</th>\n",
              "      <td>안도</td>\n",
              "      <td>지난주에 건강검진 결과가 나왔는데 정상이라고 결과가 나왔어.</td>\n",
              "    </tr>\n",
              "    <tr>\n",
              "      <th>40876</th>\n",
              "      <td>우울한</td>\n",
              "      <td>엄마는 내 꿈인 작가를 응원해 주고는 했는데 지금은 안 그래. 너무 슬퍼.</td>\n",
              "    </tr>\n",
              "    <tr>\n",
              "      <th>40877</th>\n",
              "      <td>감사하는</td>\n",
              "      <td>이렇게 좋은 운동 시설에서 경로 우대로 운동할 수 있다니 참 행운이야.</td>\n",
              "    </tr>\n",
              "    <tr>\n",
              "      <th>40878</th>\n",
              "      <td>스트레스 받는</td>\n",
              "      <td>친구 관계가 너무 힘들어. 베푸는 만큼 돌아오지 않는 것 같아.</td>\n",
              "    </tr>\n",
              "  </tbody>\n",
              "</table>\n",
              "<p>40879 rows × 2 columns</p>\n",
              "</div>"
            ],
            "text/plain": [
              "        감정_소분류                                              사람문장1\n",
              "0         신이 난                          아내가 드디어 출산하게 되어서 정말 신이 나.\n",
              "1      스트레스 받는            당뇨랑 합병증 때문에 먹어야 할 약이 열 가지가 넘어가니까 스트레스야.\n",
              "2           당황            고등학교에 올라오니 중학교 때보다 수업이 갑자기 어려워져서 당황스러워.\n",
              "3         신이 난      재취업이 돼서 받게 된 첫 월급으로 온 가족이 외식을 할 예정이야. 너무 행복해.\n",
              "4           안도                       빚을 드디어 다 갚게 되어서 이제야 안도감이 들어.\n",
              "...        ...                                                ...\n",
              "40874    혼란스러운  같이 사는 친구가 애완견을 데려왔는데 대부분 내가 돌보고 있어. 내가 주인인가 혼란...\n",
              "40875       안도                  지난주에 건강검진 결과가 나왔는데 정상이라고 결과가 나왔어.\n",
              "40876      우울한          엄마는 내 꿈인 작가를 응원해 주고는 했는데 지금은 안 그래. 너무 슬퍼.\n",
              "40877     감사하는            이렇게 좋은 운동 시설에서 경로 우대로 운동할 수 있다니 참 행운이야.\n",
              "40878  스트레스 받는                친구 관계가 너무 힘들어. 베푸는 만큼 돌아오지 않는 것 같아.\n",
              "\n",
              "[40879 rows x 2 columns]"
            ]
          },
          "metadata": {},
          "execution_count": 44
        }
      ]
    },
    {
      "cell_type": "code",
      "source": [
        "li = []\n",
        "for feel in feel_df['감정_소분류']:\n",
        "    li.append(feel_dic[feel])\n",
        "feel_df['소분류_num'] = li\n",
        "feel_df"
      ],
      "metadata": {
        "colab": {
          "base_uri": "https://localhost:8080/",
          "height": 644
        },
        "id": "eFMTQQ5_jjvD",
        "outputId": "490e5130-fc27-4bc2-a620-7280d2d21782"
      },
      "execution_count": null,
      "outputs": [
        {
          "output_type": "stream",
          "name": "stderr",
          "text": [
            "/usr/local/lib/python3.7/dist-packages/ipykernel_launcher.py:1: SettingWithCopyWarning: \n",
            "A value is trying to be set on a copy of a slice from a DataFrame.\n",
            "Try using .loc[row_indexer,col_indexer] = value instead\n",
            "\n",
            "See the caveats in the documentation: https://pandas.pydata.org/pandas-docs/stable/user_guide/indexing.html#returning-a-view-versus-a-copy\n",
            "  \"\"\"Entry point for launching an IPython kernel.\n",
            "/usr/local/lib/python3.7/dist-packages/ipykernel_launcher.py:5: SettingWithCopyWarning: \n",
            "A value is trying to be set on a copy of a slice from a DataFrame.\n",
            "Try using .loc[row_indexer,col_indexer] = value instead\n",
            "\n",
            "See the caveats in the documentation: https://pandas.pydata.org/pandas-docs/stable/user_guide/indexing.html#returning-a-view-versus-a-copy\n",
            "  \"\"\"\n"
          ]
        },
        {
          "output_type": "execute_result",
          "data": {
            "text/html": [
              "<div>\n",
              "<style scoped>\n",
              "    .dataframe tbody tr th:only-of-type {\n",
              "        vertical-align: middle;\n",
              "    }\n",
              "\n",
              "    .dataframe tbody tr th {\n",
              "        vertical-align: top;\n",
              "    }\n",
              "\n",
              "    .dataframe thead th {\n",
              "        text-align: right;\n",
              "    }\n",
              "</style>\n",
              "<table border=\"1\" class=\"dataframe\">\n",
              "  <thead>\n",
              "    <tr style=\"text-align: right;\">\n",
              "      <th></th>\n",
              "      <th>감정_소분류</th>\n",
              "      <th>사람문장1</th>\n",
              "      <th>소분류_num</th>\n",
              "    </tr>\n",
              "  </thead>\n",
              "  <tbody>\n",
              "    <tr>\n",
              "      <th>0</th>\n",
              "      <td>신이 난</td>\n",
              "      <td>아내가 드디어 출산하게 되어서 정말 신이 나.</td>\n",
              "      <td>0</td>\n",
              "    </tr>\n",
              "    <tr>\n",
              "      <th>1</th>\n",
              "      <td>스트레스 받는</td>\n",
              "      <td>당뇨랑 합병증 때문에 먹어야 할 약이 열 가지가 넘어가니까 스트레스야.</td>\n",
              "      <td>1</td>\n",
              "    </tr>\n",
              "    <tr>\n",
              "      <th>2</th>\n",
              "      <td>당황</td>\n",
              "      <td>고등학교에 올라오니 중학교 때보다 수업이 갑자기 어려워져서 당황스러워.</td>\n",
              "      <td>2</td>\n",
              "    </tr>\n",
              "    <tr>\n",
              "      <th>3</th>\n",
              "      <td>신이 난</td>\n",
              "      <td>재취업이 돼서 받게 된 첫 월급으로 온 가족이 외식을 할 예정이야. 너무 행복해.</td>\n",
              "      <td>0</td>\n",
              "    </tr>\n",
              "    <tr>\n",
              "      <th>4</th>\n",
              "      <td>안도</td>\n",
              "      <td>빚을 드디어 다 갚게 되어서 이제야 안도감이 들어.</td>\n",
              "      <td>3</td>\n",
              "    </tr>\n",
              "    <tr>\n",
              "      <th>...</th>\n",
              "      <td>...</td>\n",
              "      <td>...</td>\n",
              "      <td>...</td>\n",
              "    </tr>\n",
              "    <tr>\n",
              "      <th>40874</th>\n",
              "      <td>혼란스러운</td>\n",
              "      <td>같이 사는 친구가 애완견을 데려왔는데 대부분 내가 돌보고 있어. 내가 주인인가 혼란...</td>\n",
              "      <td>18</td>\n",
              "    </tr>\n",
              "    <tr>\n",
              "      <th>40875</th>\n",
              "      <td>안도</td>\n",
              "      <td>지난주에 건강검진 결과가 나왔는데 정상이라고 결과가 나왔어.</td>\n",
              "      <td>3</td>\n",
              "    </tr>\n",
              "    <tr>\n",
              "      <th>40876</th>\n",
              "      <td>우울한</td>\n",
              "      <td>엄마는 내 꿈인 작가를 응원해 주고는 했는데 지금은 안 그래. 너무 슬퍼.</td>\n",
              "      <td>5</td>\n",
              "    </tr>\n",
              "    <tr>\n",
              "      <th>40877</th>\n",
              "      <td>감사하는</td>\n",
              "      <td>이렇게 좋은 운동 시설에서 경로 우대로 운동할 수 있다니 참 행운이야.</td>\n",
              "      <td>45</td>\n",
              "    </tr>\n",
              "    <tr>\n",
              "      <th>40878</th>\n",
              "      <td>스트레스 받는</td>\n",
              "      <td>친구 관계가 너무 힘들어. 베푸는 만큼 돌아오지 않는 것 같아.</td>\n",
              "      <td>1</td>\n",
              "    </tr>\n",
              "  </tbody>\n",
              "</table>\n",
              "<p>40879 rows × 3 columns</p>\n",
              "</div>"
            ],
            "text/plain": [
              "        감정_소분류                                              사람문장1  소분류_num\n",
              "0         신이 난                          아내가 드디어 출산하게 되어서 정말 신이 나.        0\n",
              "1      스트레스 받는            당뇨랑 합병증 때문에 먹어야 할 약이 열 가지가 넘어가니까 스트레스야.        1\n",
              "2           당황            고등학교에 올라오니 중학교 때보다 수업이 갑자기 어려워져서 당황스러워.        2\n",
              "3         신이 난      재취업이 돼서 받게 된 첫 월급으로 온 가족이 외식을 할 예정이야. 너무 행복해.        0\n",
              "4           안도                       빚을 드디어 다 갚게 되어서 이제야 안도감이 들어.        3\n",
              "...        ...                                                ...      ...\n",
              "40874    혼란스러운  같이 사는 친구가 애완견을 데려왔는데 대부분 내가 돌보고 있어. 내가 주인인가 혼란...       18\n",
              "40875       안도                  지난주에 건강검진 결과가 나왔는데 정상이라고 결과가 나왔어.        3\n",
              "40876      우울한          엄마는 내 꿈인 작가를 응원해 주고는 했는데 지금은 안 그래. 너무 슬퍼.        5\n",
              "40877     감사하는            이렇게 좋은 운동 시설에서 경로 우대로 운동할 수 있다니 참 행운이야.       45\n",
              "40878  스트레스 받는                친구 관계가 너무 힘들어. 베푸는 만큼 돌아오지 않는 것 같아.        1\n",
              "\n",
              "[40879 rows x 3 columns]"
            ]
          },
          "metadata": {},
          "execution_count": 48
        }
      ]
    },
    {
      "cell_type": "code",
      "source": [
        "# 레이블 값의 분포 시각화\n",
        "plt.figure(figsize=(24, 10))\n",
        "feel_df['소분류_num'].value_counts().plot(kind='bar');"
      ],
      "metadata": {
        "colab": {
          "base_uri": "https://localhost:8080/",
          "height": 594
        },
        "id": "DSSxQ-PxvpOp",
        "outputId": "ed7a2605-d2ae-461c-ee03-fa06f3d81e2d"
      },
      "execution_count": null,
      "outputs": [
        {
          "output_type": "display_data",
          "data": {
            "image/png": "[encoded data removed]",
            "text/plain": [
              "<Figure size 1728x720 with 1 Axes>"
            ]
          },
          "metadata": {
            "needs_background": "light"
          }
        }
      ]
    },
    {
      "cell_type": "code",
      "source": [
        "# 18, 38, 23번 감정이 매우 많은 분포\n",
        "print('가장많은 분포의 감정: ', feel_dic_reverse[18])\n",
        "print('감정분포 2위: ', feel_dic_reverse[38])\n",
        "print('감정분포 3위: ',feel_dic_reverse[23])\n",
        "print('감정분포 가장적은: ',feel_dic_reverse[42])\n",
        "\n",
        "# 대체적으로 600~800개의 분포를 보인다.\n",
        "# 어휴 격자 저거 y축 세분화하고싶은데 어렵네..\n"
      ],
      "metadata": {
        "colab": {
          "base_uri": "https://localhost:8080/"
        },
        "id": "kiTfTjtdkqmT",
        "outputId": "f408ec27-30fb-4d4c-fb23-1c084e304ee9"
      },
      "execution_count": null,
      "outputs": [
        {
          "output_type": "stream",
          "name": "stdout",
          "text": [
            "가장많은 분포의 감정:  혼란스러운\n",
            "감정분포 2위:  고립된\n",
            "감정분포 3위:  걱정스러운\n",
            "감정분포 가장적은:  방어적인\n"
          ]
        }
      ]
    },
    {
      "cell_type": "code",
      "source": [
        "# 각 레이블이 몇개인가\n",
        "print(feel_df.groupby('소분류_num').size().reset_index(name='count'))   #https://www.codeit.kr/community/threads/6279"
      ],
      "metadata": {
        "id": "e16bpHDjzb7d"
      },
      "execution_count": null,
      "outputs": []
    },
    {
      "cell_type": "markdown",
      "source": [
        "#### 감성분류 정확도때문에, 대분류로 다시 만들어본다.\n"
      ],
      "metadata": {
        "id": "A0LTF8j4R6JN"
      }
    },
    {
      "cell_type": "code",
      "source": [
        "# 감정소분류주제 58개를 숫자레이블 딕셔너리로 변경\n",
        "feel_bic_class = train_data['감정_대분류'].unique()\n",
        "\n",
        "i = 0\n",
        "feel_bic_dic= {}\n",
        "for feel in feel_bic_class:\n",
        "    feel_bic_dic[feel] = i\n",
        "    i+=1\n",
        "# feel_dic  #key:value = 감정소분류:숫자"
      ],
      "metadata": {
        "id": "Ra2566IWR-7l"
      },
      "execution_count": 16,
      "outputs": []
    },
    {
      "cell_type": "code",
      "source": [
        "# 숫자로 감정을 찾을 수 있도록 reverse\n",
        "feel_bic_dic_reverse = {}\n",
        "for key, value in feel_bic_dic.items():\n",
        "    feel_bic_dic_reverse[value] = key\n",
        "feel_bic_dic_reverse"
      ],
      "metadata": {
        "colab": {
          "base_uri": "https://localhost:8080/"
        },
        "outputId": "1ec7694f-ec7b-482a-c68b-ccfacca31a48",
        "id": "34CWGUrCR-7l"
      },
      "execution_count": 17,
      "outputs": [
        {
          "output_type": "execute_result",
          "data": {
            "text/plain": [
              "{0: '기쁨', 1: '불안', 2: '당황', 3: '슬픔', 4: '분노', 5: '상처'}"
            ]
          },
          "metadata": {},
          "execution_count": 17
        }
      ]
    },
    {
      "cell_type": "code",
      "source": [
        "feel_bic_df = train_data[['감정_대분류','사람문장1']]\n",
        "feel_bic_df"
      ],
      "metadata": {
        "colab": {
          "base_uri": "https://localhost:8080/",
          "height": 424
        },
        "outputId": "52df00ec-1962-4ba3-d68c-29b4d65ea290",
        "id": "1LG9n3DWR-7m"
      },
      "execution_count": 18,
      "outputs": [
        {
          "output_type": "execute_result",
          "data": {
            "text/html": [
              "\n",
              "  <div id=\"df-3c715e9d-5ffb-483d-b1b7-18738ec70d65\">\n",
              "    <div class=\"colab-df-container\">\n",
              "      <div>\n",
              "<style scoped>\n",
              "    .dataframe tbody tr th:only-of-type {\n",
              "        vertical-align: middle;\n",
              "    }\n",
              "\n",
              "    .dataframe tbody tr th {\n",
              "        vertical-align: top;\n",
              "    }\n",
              "\n",
              "    .dataframe thead th {\n",
              "        text-align: right;\n",
              "    }\n",
              "</style>\n",
              "<table border=\"1\" class=\"dataframe\">\n",
              "  <thead>\n",
              "    <tr style=\"text-align: right;\">\n",
              "      <th></th>\n",
              "      <th>감정_대분류</th>\n",
              "      <th>사람문장1</th>\n",
              "    </tr>\n",
              "  </thead>\n",
              "  <tbody>\n",
              "    <tr>\n",
              "      <th>0</th>\n",
              "      <td>기쁨</td>\n",
              "      <td>아내가 드디어 출산하게 되어서 정말 신이 나.</td>\n",
              "    </tr>\n",
              "    <tr>\n",
              "      <th>1</th>\n",
              "      <td>불안</td>\n",
              "      <td>당뇨랑 합병증 때문에 먹어야 할 약이 열 가지가 넘어가니까 스트레스야.</td>\n",
              "    </tr>\n",
              "    <tr>\n",
              "      <th>2</th>\n",
              "      <td>당황</td>\n",
              "      <td>고등학교에 올라오니 중학교 때보다 수업이 갑자기 어려워져서 당황스러워.</td>\n",
              "    </tr>\n",
              "    <tr>\n",
              "      <th>3</th>\n",
              "      <td>기쁨</td>\n",
              "      <td>재취업이 돼서 받게 된 첫 월급으로 온 가족이 외식을 할 예정이야. 너무 행복해.</td>\n",
              "    </tr>\n",
              "    <tr>\n",
              "      <th>4</th>\n",
              "      <td>기쁨</td>\n",
              "      <td>빚을 드디어 다 갚게 되어서 이제야 안도감이 들어.</td>\n",
              "    </tr>\n",
              "    <tr>\n",
              "      <th>...</th>\n",
              "      <td>...</td>\n",
              "      <td>...</td>\n",
              "    </tr>\n",
              "    <tr>\n",
              "      <th>40874</th>\n",
              "      <td>불안</td>\n",
              "      <td>같이 사는 친구가 애완견을 데려왔는데 대부분 내가 돌보고 있어. 내가 주인인가 혼란...</td>\n",
              "    </tr>\n",
              "    <tr>\n",
              "      <th>40875</th>\n",
              "      <td>기쁨</td>\n",
              "      <td>지난주에 건강검진 결과가 나왔는데 정상이라고 결과가 나왔어.</td>\n",
              "    </tr>\n",
              "    <tr>\n",
              "      <th>40876</th>\n",
              "      <td>슬픔</td>\n",
              "      <td>엄마는 내 꿈인 작가를 응원해 주고는 했는데 지금은 안 그래. 너무 슬퍼.</td>\n",
              "    </tr>\n",
              "    <tr>\n",
              "      <th>40877</th>\n",
              "      <td>기쁨</td>\n",
              "      <td>이렇게 좋은 운동 시설에서 경로 우대로 운동할 수 있다니 참 행운이야.</td>\n",
              "    </tr>\n",
              "    <tr>\n",
              "      <th>40878</th>\n",
              "      <td>불안</td>\n",
              "      <td>친구 관계가 너무 힘들어. 베푸는 만큼 돌아오지 않는 것 같아.</td>\n",
              "    </tr>\n",
              "  </tbody>\n",
              "</table>\n",
              "<p>40879 rows × 2 columns</p>\n",
              "</div>\n",
              "      <button class=\"colab-df-convert\" onclick=\"convertToInteractive('df-3c715e9d-5ffb-483d-b1b7-18738ec70d65')\"\n",
              "              title=\"Convert this dataframe to an interactive table.\"\n",
              "              style=\"display:none;\">\n",
              "        \n",
              "  <svg xmlns=\"http://www.w3.org/2000/svg\" height=\"24px\"viewBox=\"0 0 24 24\"\n",
              "       width=\"24px\">\n",
              "    <path d=\"M0 0h24v24H0V0z\" fill=\"none\"/>\n",
              "    <path d=\"M18.56 5.44l.94 2.06.94-2.06 2.06-.94-2.06-.94-.94-2.06-.94 2.06-2.06.94zm-11 1L8.5 8.5l.94-2.06 2.06-.94-2.06-.94L8.5 2.5l-.94 2.06-2.06.94zm10 10l.94 2.06.94-2.06 2.06-.94-2.06-.94-.94-2.06-.94 2.06-2.06.94z\"/><path d=\"M17.41 7.96l-1.37-1.37c-.4-.4-.92-.59-1.43-.59-.52 0-1.04.2-1.43.59L10.3 9.45l-7.72 7.72c-.78.78-.78 2.05 0 2.83L4 21.41c.39.39.9.59 1.41.59.51 0 1.02-.2 1.41-.59l7.78-7.78 2.81-2.81c.8-.78.8-2.07 0-2.86zM5.41 20L4 18.59l7.72-7.72 1.47 1.35L5.41 20z\"/>\n",
              "  </svg>\n",
              "      </button>\n",
              "      \n",
              "  <style>\n",
              "    .colab-df-container {\n",
              "      display:flex;\n",
              "      flex-wrap:wrap;\n",
              "      gap: 12px;\n",
              "    }\n",
              "\n",
              "    .colab-df-convert {\n",
              "      background-color: #E8F0FE;\n",
              "      border: none;\n",
              "      border-radius: 50%;\n",
              "      cursor: pointer;\n",
              "      display: none;\n",
              "      fill: #1967D2;\n",
              "      height: 32px;\n",
              "      padding: 0 0 0 0;\n",
              "      width: 32px;\n",
              "    }\n",
              "\n",
              "    .colab-df-convert:hover {\n",
              "      background-color: #E2EBFA;\n",
              "      box-shadow: 0px 1px 2px rgba(60, 64, 67, 0.3), 0px 1px 3px 1px rgba(60, 64, 67, 0.15);\n",
              "      fill: #174EA6;\n",
              "    }\n",
              "\n",
              "    [theme=dark] .colab-df-convert {\n",
              "      background-color: #3B4455;\n",
              "      fill: #D2E3FC;\n",
              "    }\n",
              "\n",
              "    [theme=dark] .colab-df-convert:hover {\n",
              "      background-color: #434B5C;\n",
              "      box-shadow: 0px 1px 3px 1px rgba(0, 0, 0, 0.15);\n",
              "      filter: drop-shadow(0px 1px 2px rgba(0, 0, 0, 0.3));\n",
              "      fill: #FFFFFF;\n",
              "    }\n",
              "  </style>\n",
              "\n",
              "      <script>\n",
              "        const buttonEl =\n",
              "          document.querySelector('#df-3c715e9d-5ffb-483d-b1b7-18738ec70d65 button.colab-df-convert');\n",
              "        buttonEl.style.display =\n",
              "          google.colab.kernel.accessAllowed ? 'block' : 'none';\n",
              "\n",
              "        async function convertToInteractive(key) {\n",
              "          const element = document.querySelector('#df-3c715e9d-5ffb-483d-b1b7-18738ec70d65');\n",
              "          const dataTable =\n",
              "            await google.colab.kernel.invokeFunction('convertToInteractive',\n",
              "                                                     [key], {});\n",
              "          if (!dataTable) return;\n",
              "\n",
              "          const docLinkHtml = 'Like what you see? Visit the ' +\n",
              "            '<a target=\"_blank\" href=https://colab.research.google.com/notebooks/data_table.ipynb>data table notebook</a>'\n",
              "            + ' to learn more about interactive tables.';\n",
              "          element.innerHTML = '';\n",
              "          dataTable['output_type'] = 'display_data';\n",
              "          await google.colab.output.renderOutput(dataTable, element);\n",
              "          const docLink = document.createElement('div');\n",
              "          docLink.innerHTML = docLinkHtml;\n",
              "          element.appendChild(docLink);\n",
              "        }\n",
              "      </script>\n",
              "    </div>\n",
              "  </div>\n",
              "  "
            ],
            "text/plain": [
              "      감정_대분류                                              사람문장1\n",
              "0         기쁨                          아내가 드디어 출산하게 되어서 정말 신이 나.\n",
              "1         불안            당뇨랑 합병증 때문에 먹어야 할 약이 열 가지가 넘어가니까 스트레스야.\n",
              "2         당황            고등학교에 올라오니 중학교 때보다 수업이 갑자기 어려워져서 당황스러워.\n",
              "3         기쁨      재취업이 돼서 받게 된 첫 월급으로 온 가족이 외식을 할 예정이야. 너무 행복해.\n",
              "4         기쁨                       빚을 드디어 다 갚게 되어서 이제야 안도감이 들어.\n",
              "...      ...                                                ...\n",
              "40874     불안  같이 사는 친구가 애완견을 데려왔는데 대부분 내가 돌보고 있어. 내가 주인인가 혼란...\n",
              "40875     기쁨                  지난주에 건강검진 결과가 나왔는데 정상이라고 결과가 나왔어.\n",
              "40876     슬픔          엄마는 내 꿈인 작가를 응원해 주고는 했는데 지금은 안 그래. 너무 슬퍼.\n",
              "40877     기쁨            이렇게 좋은 운동 시설에서 경로 우대로 운동할 수 있다니 참 행운이야.\n",
              "40878     불안                친구 관계가 너무 힘들어. 베푸는 만큼 돌아오지 않는 것 같아.\n",
              "\n",
              "[40879 rows x 2 columns]"
            ]
          },
          "metadata": {},
          "execution_count": 18
        }
      ]
    },
    {
      "cell_type": "code",
      "source": [
        "li = []\n",
        "for feel in feel_bic_df['감정_대분류']:\n",
        "    li.append(feel_bic_dic[feel])\n",
        "feel_bic_df['대분류_num'] = li\n",
        "feel_bic_df"
      ],
      "metadata": {
        "colab": {
          "base_uri": "https://localhost:8080/",
          "height": 534
        },
        "outputId": "9ddd2f82-ab56-431b-bf8f-759c83587ae2",
        "id": "kLcf9wYrR-7m"
      },
      "execution_count": 19,
      "outputs": [
        {
          "output_type": "stream",
          "name": "stderr",
          "text": [
            "/usr/local/lib/python3.7/dist-packages/ipykernel_launcher.py:4: SettingWithCopyWarning: \n",
            "A value is trying to be set on a copy of a slice from a DataFrame.\n",
            "Try using .loc[row_indexer,col_indexer] = value instead\n",
            "\n",
            "See the caveats in the documentation: https://pandas.pydata.org/pandas-docs/stable/user_guide/indexing.html#returning-a-view-versus-a-copy\n",
            "  after removing the cwd from sys.path.\n"
          ]
        },
        {
          "output_type": "execute_result",
          "data": {
            "text/html": [
              "\n",
              "  <div id=\"df-5b2655df-6d36-4d4b-a5da-eb00ad2bfe48\">\n",
              "    <div class=\"colab-df-container\">\n",
              "      <div>\n",
              "<style scoped>\n",
              "    .dataframe tbody tr th:only-of-type {\n",
              "        vertical-align: middle;\n",
              "    }\n",
              "\n",
              "    .dataframe tbody tr th {\n",
              "        vertical-align: top;\n",
              "    }\n",
              "\n",
              "    .dataframe thead th {\n",
              "        text-align: right;\n",
              "    }\n",
              "</style>\n",
              "<table border=\"1\" class=\"dataframe\">\n",
              "  <thead>\n",
              "    <tr style=\"text-align: right;\">\n",
              "      <th></th>\n",
              "      <th>감정_대분류</th>\n",
              "      <th>사람문장1</th>\n",
              "      <th>대분류_num</th>\n",
              "    </tr>\n",
              "  </thead>\n",
              "  <tbody>\n",
              "    <tr>\n",
              "      <th>0</th>\n",
              "      <td>기쁨</td>\n",
              "      <td>아내가 드디어 출산하게 되어서 정말 신이 나.</td>\n",
              "      <td>0</td>\n",
              "    </tr>\n",
              "    <tr>\n",
              "      <th>1</th>\n",
              "      <td>불안</td>\n",
              "      <td>당뇨랑 합병증 때문에 먹어야 할 약이 열 가지가 넘어가니까 스트레스야.</td>\n",
              "      <td>1</td>\n",
              "    </tr>\n",
              "    <tr>\n",
              "      <th>2</th>\n",
              "      <td>당황</td>\n",
              "      <td>고등학교에 올라오니 중학교 때보다 수업이 갑자기 어려워져서 당황스러워.</td>\n",
              "      <td>2</td>\n",
              "    </tr>\n",
              "    <tr>\n",
              "      <th>3</th>\n",
              "      <td>기쁨</td>\n",
              "      <td>재취업이 돼서 받게 된 첫 월급으로 온 가족이 외식을 할 예정이야. 너무 행복해.</td>\n",
              "      <td>0</td>\n",
              "    </tr>\n",
              "    <tr>\n",
              "      <th>4</th>\n",
              "      <td>기쁨</td>\n",
              "      <td>빚을 드디어 다 갚게 되어서 이제야 안도감이 들어.</td>\n",
              "      <td>0</td>\n",
              "    </tr>\n",
              "    <tr>\n",
              "      <th>...</th>\n",
              "      <td>...</td>\n",
              "      <td>...</td>\n",
              "      <td>...</td>\n",
              "    </tr>\n",
              "    <tr>\n",
              "      <th>40874</th>\n",
              "      <td>불안</td>\n",
              "      <td>같이 사는 친구가 애완견을 데려왔는데 대부분 내가 돌보고 있어. 내가 주인인가 혼란...</td>\n",
              "      <td>1</td>\n",
              "    </tr>\n",
              "    <tr>\n",
              "      <th>40875</th>\n",
              "      <td>기쁨</td>\n",
              "      <td>지난주에 건강검진 결과가 나왔는데 정상이라고 결과가 나왔어.</td>\n",
              "      <td>0</td>\n",
              "    </tr>\n",
              "    <tr>\n",
              "      <th>40876</th>\n",
              "      <td>슬픔</td>\n",
              "      <td>엄마는 내 꿈인 작가를 응원해 주고는 했는데 지금은 안 그래. 너무 슬퍼.</td>\n",
              "      <td>3</td>\n",
              "    </tr>\n",
              "    <tr>\n",
              "      <th>40877</th>\n",
              "      <td>기쁨</td>\n",
              "      <td>이렇게 좋은 운동 시설에서 경로 우대로 운동할 수 있다니 참 행운이야.</td>\n",
              "      <td>0</td>\n",
              "    </tr>\n",
              "    <tr>\n",
              "      <th>40878</th>\n",
              "      <td>불안</td>\n",
              "      <td>친구 관계가 너무 힘들어. 베푸는 만큼 돌아오지 않는 것 같아.</td>\n",
              "      <td>1</td>\n",
              "    </tr>\n",
              "  </tbody>\n",
              "</table>\n",
              "<p>40879 rows × 3 columns</p>\n",
              "</div>\n",
              "      <button class=\"colab-df-convert\" onclick=\"convertToInteractive('df-5b2655df-6d36-4d4b-a5da-eb00ad2bfe48')\"\n",
              "              title=\"Convert this dataframe to an interactive table.\"\n",
              "              style=\"display:none;\">\n",
              "        \n",
              "  <svg xmlns=\"http://www.w3.org/2000/svg\" height=\"24px\"viewBox=\"0 0 24 24\"\n",
              "       width=\"24px\">\n",
              "    <path d=\"M0 0h24v24H0V0z\" fill=\"none\"/>\n",
              "    <path d=\"M18.56 5.44l.94 2.06.94-2.06 2.06-.94-2.06-.94-.94-2.06-.94 2.06-2.06.94zm-11 1L8.5 8.5l.94-2.06 2.06-.94-2.06-.94L8.5 2.5l-.94 2.06-2.06.94zm10 10l.94 2.06.94-2.06 2.06-.94-2.06-.94-.94-2.06-.94 2.06-2.06.94z\"/><path d=\"M17.41 7.96l-1.37-1.37c-.4-.4-.92-.59-1.43-.59-.52 0-1.04.2-1.43.59L10.3 9.45l-7.72 7.72c-.78.78-.78 2.05 0 2.83L4 21.41c.39.39.9.59 1.41.59.51 0 1.02-.2 1.41-.59l7.78-7.78 2.81-2.81c.8-.78.8-2.07 0-2.86zM5.41 20L4 18.59l7.72-7.72 1.47 1.35L5.41 20z\"/>\n",
              "  </svg>\n",
              "      </button>\n",
              "      \n",
              "  <style>\n",
              "    .colab-df-container {\n",
              "      display:flex;\n",
              "      flex-wrap:wrap;\n",
              "      gap: 12px;\n",
              "    }\n",
              "\n",
              "    .colab-df-convert {\n",
              "      background-color: #E8F0FE;\n",
              "      border: none;\n",
              "      border-radius: 50%;\n",
              "      cursor: pointer;\n",
              "      display: none;\n",
              "      fill: #1967D2;\n",
              "      height: 32px;\n",
              "      padding: 0 0 0 0;\n",
              "      width: 32px;\n",
              "    }\n",
              "\n",
              "    .colab-df-convert:hover {\n",
              "      background-color: #E2EBFA;\n",
              "      box-shadow: 0px 1px 2px rgba(60, 64, 67, 0.3), 0px 1px 3px 1px rgba(60, 64, 67, 0.15);\n",
              "      fill: #174EA6;\n",
              "    }\n",
              "\n",
              "    [theme=dark] .colab-df-convert {\n",
              "      background-color: #3B4455;\n",
              "      fill: #D2E3FC;\n",
              "    }\n",
              "\n",
              "    [theme=dark] .colab-df-convert:hover {\n",
              "      background-color: #434B5C;\n",
              "      box-shadow: 0px 1px 3px 1px rgba(0, 0, 0, 0.15);\n",
              "      filter: drop-shadow(0px 1px 2px rgba(0, 0, 0, 0.3));\n",
              "      fill: #FFFFFF;\n",
              "    }\n",
              "  </style>\n",
              "\n",
              "      <script>\n",
              "        const buttonEl =\n",
              "          document.querySelector('#df-5b2655df-6d36-4d4b-a5da-eb00ad2bfe48 button.colab-df-convert');\n",
              "        buttonEl.style.display =\n",
              "          google.colab.kernel.accessAllowed ? 'block' : 'none';\n",
              "\n",
              "        async function convertToInteractive(key) {\n",
              "          const element = document.querySelector('#df-5b2655df-6d36-4d4b-a5da-eb00ad2bfe48');\n",
              "          const dataTable =\n",
              "            await google.colab.kernel.invokeFunction('convertToInteractive',\n",
              "                                                     [key], {});\n",
              "          if (!dataTable) return;\n",
              "\n",
              "          const docLinkHtml = 'Like what you see? Visit the ' +\n",
              "            '<a target=\"_blank\" href=https://colab.research.google.com/notebooks/data_table.ipynb>data table notebook</a>'\n",
              "            + ' to learn more about interactive tables.';\n",
              "          element.innerHTML = '';\n",
              "          dataTable['output_type'] = 'display_data';\n",
              "          await google.colab.output.renderOutput(dataTable, element);\n",
              "          const docLink = document.createElement('div');\n",
              "          docLink.innerHTML = docLinkHtml;\n",
              "          element.appendChild(docLink);\n",
              "        }\n",
              "      </script>\n",
              "    </div>\n",
              "  </div>\n",
              "  "
            ],
            "text/plain": [
              "      감정_대분류                                              사람문장1  대분류_num\n",
              "0         기쁨                          아내가 드디어 출산하게 되어서 정말 신이 나.        0\n",
              "1         불안            당뇨랑 합병증 때문에 먹어야 할 약이 열 가지가 넘어가니까 스트레스야.        1\n",
              "2         당황            고등학교에 올라오니 중학교 때보다 수업이 갑자기 어려워져서 당황스러워.        2\n",
              "3         기쁨      재취업이 돼서 받게 된 첫 월급으로 온 가족이 외식을 할 예정이야. 너무 행복해.        0\n",
              "4         기쁨                       빚을 드디어 다 갚게 되어서 이제야 안도감이 들어.        0\n",
              "...      ...                                                ...      ...\n",
              "40874     불안  같이 사는 친구가 애완견을 데려왔는데 대부분 내가 돌보고 있어. 내가 주인인가 혼란...        1\n",
              "40875     기쁨                  지난주에 건강검진 결과가 나왔는데 정상이라고 결과가 나왔어.        0\n",
              "40876     슬픔          엄마는 내 꿈인 작가를 응원해 주고는 했는데 지금은 안 그래. 너무 슬퍼.        3\n",
              "40877     기쁨            이렇게 좋은 운동 시설에서 경로 우대로 운동할 수 있다니 참 행운이야.        0\n",
              "40878     불안                친구 관계가 너무 힘들어. 베푸는 만큼 돌아오지 않는 것 같아.        1\n",
              "\n",
              "[40879 rows x 3 columns]"
            ]
          },
          "metadata": {},
          "execution_count": 19
        }
      ]
    },
    {
      "cell_type": "code",
      "source": [
        "# 레이블 값의 분포 시각화\n",
        "plt.figure(figsize=(6, 4))\n",
        "feel_bic_df['대분류_num'].value_counts().plot(kind='bar');"
      ],
      "metadata": {
        "colab": {
          "base_uri": "https://localhost:8080/",
          "height": 262
        },
        "outputId": "a1740b23-4833-4967-dbf0-c3268a33e578",
        "id": "FEUxzb4BR-7m"
      },
      "execution_count": null,
      "outputs": [
        {
          "output_type": "display_data",
          "data": {
            "image/png": "[encoded data removed]",
            "text/plain": [
              "<Figure size 432x288 with 1 Axes>"
            ]
          },
          "metadata": {
            "needs_background": "light"
          }
        }
      ]
    },
    {
      "cell_type": "code",
      "source": [
        "# 18, 38, 23번 감정이 매우 많은 분포\n",
        "print('가장많은 분포의 감정: ', feel_bic_dic_reverse[1])\n",
        "print('감정분포 2위: ', feel_bic_dic_reverse[4])\n",
        "print('감정분포 3위: ',feel_bic_dic_reverse[3])\n",
        "print('감정분포 가장적은: ',feel_bic_dic_reverse[2])\n",
        "\n",
        "# 대체적으로 600~800개의 분포를 보인다.\n",
        "# 어휴 격자 저거 y축 세분화하고싶은데 어렵네..\n"
      ],
      "metadata": {
        "colab": {
          "base_uri": "https://localhost:8080/"
        },
        "outputId": "9d72e1f9-d9b2-4c11-cee1-ecd5dd5163b7",
        "id": "smkFRbWeR-7m"
      },
      "execution_count": null,
      "outputs": [
        {
          "output_type": "stream",
          "name": "stdout",
          "text": [
            "가장많은 분포의 감정:  불안\n",
            "감정분포 2위:  분노\n",
            "감정분포 3위:  슬픔\n",
            "감정분포 가장적은:  당황\n"
          ]
        }
      ]
    },
    {
      "cell_type": "code",
      "source": [
        "# 각 레이블이 몇개인가\n",
        "print(feel_bic_df.groupby('대분류_num').size().reset_index(name='count'))   #https://www.codeit.kr/community/threads/6279"
      ],
      "metadata": {
        "colab": {
          "base_uri": "https://localhost:8080/"
        },
        "id": "3ZBHDRrVR-7q",
        "outputId": "0ae4b40d-231b-4825-d1b6-afddb19fee4a"
      },
      "execution_count": null,
      "outputs": [
        {
          "output_type": "stream",
          "name": "stdout",
          "text": [
            "   대분류_num  count\n",
            "0        0   6731\n",
            "1        1   7329\n",
            "2        2   6360\n",
            "3        3   6915\n",
            "4        4   6920\n",
            "5        5   6624\n"
          ]
        }
      ]
    },
    {
      "cell_type": "markdown",
      "source": [
        "### train, val 전처리 완료 및 레이블 만들기"
      ],
      "metadata": {
        "id": "frtymP9C1Mwp"
      }
    },
    {
      "cell_type": "code",
      "source": [
        "# 공백제거\n",
        "val_data['번호']=val_data['번호'].astype('str')\n",
        "val_data =val_data.apply(lambda x: x.str.strip() , axis = 1)"
      ],
      "metadata": {
        "id": "appcJgG202t1"
      },
      "execution_count": 20,
      "outputs": []
    },
    {
      "cell_type": "code",
      "source": [
        "# 확인\n",
        "val_data.head(3)"
      ],
      "metadata": {
        "colab": {
          "base_uri": "https://localhost:8080/",
          "height": 344
        },
        "id": "HUnCTAy91iWr",
        "outputId": "2417706c-2abb-44b3-9257-3f60617aea51"
      },
      "execution_count": 21,
      "outputs": [
        {
          "output_type": "execute_result",
          "data": {
            "text/html": [
              "\n",
              "  <div id=\"df-45065c9b-9a0c-4e23-bf9f-ba800f7c37f0\">\n",
              "    <div class=\"colab-df-container\">\n",
              "      <div>\n",
              "<style scoped>\n",
              "    .dataframe tbody tr th:only-of-type {\n",
              "        vertical-align: middle;\n",
              "    }\n",
              "\n",
              "    .dataframe tbody tr th {\n",
              "        vertical-align: top;\n",
              "    }\n",
              "\n",
              "    .dataframe thead th {\n",
              "        text-align: right;\n",
              "    }\n",
              "</style>\n",
              "<table border=\"1\" class=\"dataframe\">\n",
              "  <thead>\n",
              "    <tr style=\"text-align: right;\">\n",
              "      <th></th>\n",
              "      <th>번호</th>\n",
              "      <th>연령</th>\n",
              "      <th>성별</th>\n",
              "      <th>상황키워드</th>\n",
              "      <th>신체질환</th>\n",
              "      <th>감정_대분류</th>\n",
              "      <th>감정_소분류</th>\n",
              "      <th>사람문장1</th>\n",
              "      <th>시스템응답1</th>\n",
              "      <th>사람문장2</th>\n",
              "      <th>시스템응답2</th>\n",
              "      <th>사람문장3</th>\n",
              "      <th>시스템응답3</th>\n",
              "      <th>사람문장4</th>\n",
              "      <th>시스템응답4</th>\n",
              "    </tr>\n",
              "  </thead>\n",
              "  <tbody>\n",
              "    <tr>\n",
              "      <th>0</th>\n",
              "      <td>23093</td>\n",
              "      <td>청년</td>\n",
              "      <td>여성</td>\n",
              "      <td>진로, 취업, 직장</td>\n",
              "      <td>해당없음</td>\n",
              "      <td>분노</td>\n",
              "      <td>툴툴대는</td>\n",
              "      <td>요즘 부모님과 많이 부딪혀.</td>\n",
              "      <td>어떤 일로 부딪히시나요?</td>\n",
              "      <td>난 하고 싶은 일이 있는데 부모님은 안정적인 일만 하라고 하셔. 내 마음대로 하지도...</td>\n",
              "      <td>부모님과의 충돌로 힘드시겠군요.</td>\n",
              "      <td>응. 그래도 난 내가 하고 싶은 일을 위해 노력할 거야.</td>\n",
              "      <td>자신이 하고 싶은 일을 목표로 하기로 하셨군요.</td>\n",
              "      <td>NaN</td>\n",
              "      <td>NaN</td>\n",
              "    </tr>\n",
              "    <tr>\n",
              "      <th>1</th>\n",
              "      <td>32848</td>\n",
              "      <td>청소년</td>\n",
              "      <td>남성</td>\n",
              "      <td>가족관계</td>\n",
              "      <td>해당없음</td>\n",
              "      <td>슬픔</td>\n",
              "      <td>비통한</td>\n",
              "      <td>엄마가 결국 집을 나갔어. 너무 너무 슬퍼.</td>\n",
              "      <td>어머니께서 집을 나가셨다니 정말 슬프셨겠어요. 좀 더 자세히 얘기해주시겠어요?</td>\n",
              "      <td>엄마도 엄마만의 인생이 있을 테니 가지 말라고 할 수가 없었어. 그래서 더 마음이 ...</td>\n",
              "      <td>정말 많이 답답하셨겠어요. 어떻게 하는 게 기분이 좀 풀릴까요?</td>\n",
              "      <td>일단 좀 자야겠어.</td>\n",
              "      <td>일단 휴식을 가질 생각이시군요.</td>\n",
              "      <td>NaN</td>\n",
              "      <td>NaN</td>\n",
              "    </tr>\n",
              "    <tr>\n",
              "      <th>2</th>\n",
              "      <td>35590</td>\n",
              "      <td>청소년</td>\n",
              "      <td>남성</td>\n",
              "      <td>학교폭력/따돌림</td>\n",
              "      <td>해당없음</td>\n",
              "      <td>불안</td>\n",
              "      <td>조심스러운</td>\n",
              "      <td>학교에서 한 친구를 괴롭히는 무리에게 그만하라고 했어.</td>\n",
              "      <td>용기 있는 행동을 하셨네요. 마음이 어떠셨나요?</td>\n",
              "      <td>그런데 말을 하고 난 후 나도 괴롭힐까 봐 불안했어.</td>\n",
              "      <td>그랬군요. 지금 기분에서 벗어나기 위해 할 수 있는 일에는 무엇이 있을까요?</td>\n",
              "      <td>나는 옳은 일을 한 거라고 생각해. 나까지 괴롭힌다면 신고할 거야.</td>\n",
              "      <td>지금의 상황이 나의 방식으로써 잘 해결될 수 있기를 바라요.</td>\n",
              "      <td>NaN</td>\n",
              "      <td>NaN</td>\n",
              "    </tr>\n",
              "  </tbody>\n",
              "</table>\n",
              "</div>\n",
              "      <button class=\"colab-df-convert\" onclick=\"convertToInteractive('df-45065c9b-9a0c-4e23-bf9f-ba800f7c37f0')\"\n",
              "              title=\"Convert this dataframe to an interactive table.\"\n",
              "              style=\"display:none;\">\n",
              "        \n",
              "  <svg xmlns=\"http://www.w3.org/2000/svg\" height=\"24px\"viewBox=\"0 0 24 24\"\n",
              "       width=\"24px\">\n",
              "    <path d=\"M0 0h24v24H0V0z\" fill=\"none\"/>\n",
              "    <path d=\"M18.56 5.44l.94 2.06.94-2.06 2.06-.94-2.06-.94-.94-2.06-.94 2.06-2.06.94zm-11 1L8.5 8.5l.94-2.06 2.06-.94-2.06-.94L8.5 2.5l-.94 2.06-2.06.94zm10 10l.94 2.06.94-2.06 2.06-.94-2.06-.94-.94-2.06-.94 2.06-2.06.94z\"/><path d=\"M17.41 7.96l-1.37-1.37c-.4-.4-.92-.59-1.43-.59-.52 0-1.04.2-1.43.59L10.3 9.45l-7.72 7.72c-.78.78-.78 2.05 0 2.83L4 21.41c.39.39.9.59 1.41.59.51 0 1.02-.2 1.41-.59l7.78-7.78 2.81-2.81c.8-.78.8-2.07 0-2.86zM5.41 20L4 18.59l7.72-7.72 1.47 1.35L5.41 20z\"/>\n",
              "  </svg>\n",
              "      </button>\n",
              "      \n",
              "  <style>\n",
              "    .colab-df-container {\n",
              "      display:flex;\n",
              "      flex-wrap:wrap;\n",
              "      gap: 12px;\n",
              "    }\n",
              "\n",
              "    .colab-df-convert {\n",
              "      background-color: #E8F0FE;\n",
              "      border: none;\n",
              "      border-radius: 50%;\n",
              "      cursor: pointer;\n",
              "      display: none;\n",
              "      fill: #1967D2;\n",
              "      height: 32px;\n",
              "      padding: 0 0 0 0;\n",
              "      width: 32px;\n",
              "    }\n",
              "\n",
              "    .colab-df-convert:hover {\n",
              "      background-color: #E2EBFA;\n",
              "      box-shadow: 0px 1px 2px rgba(60, 64, 67, 0.3), 0px 1px 3px 1px rgba(60, 64, 67, 0.15);\n",
              "      fill: #174EA6;\n",
              "    }\n",
              "\n",
              "    [theme=dark] .colab-df-convert {\n",
              "      background-color: #3B4455;\n",
              "      fill: #D2E3FC;\n",
              "    }\n",
              "\n",
              "    [theme=dark] .colab-df-convert:hover {\n",
              "      background-color: #434B5C;\n",
              "      box-shadow: 0px 1px 3px 1px rgba(0, 0, 0, 0.15);\n",
              "      filter: drop-shadow(0px 1px 2px rgba(0, 0, 0, 0.3));\n",
              "      fill: #FFFFFF;\n",
              "    }\n",
              "  </style>\n",
              "\n",
              "      <script>\n",
              "        const buttonEl =\n",
              "          document.querySelector('#df-45065c9b-9a0c-4e23-bf9f-ba800f7c37f0 button.colab-df-convert');\n",
              "        buttonEl.style.display =\n",
              "          google.colab.kernel.accessAllowed ? 'block' : 'none';\n",
              "\n",
              "        async function convertToInteractive(key) {\n",
              "          const element = document.querySelector('#df-45065c9b-9a0c-4e23-bf9f-ba800f7c37f0');\n",
              "          const dataTable =\n",
              "            await google.colab.kernel.invokeFunction('convertToInteractive',\n",
              "                                                     [key], {});\n",
              "          if (!dataTable) return;\n",
              "\n",
              "          const docLinkHtml = 'Like what you see? Visit the ' +\n",
              "            '<a target=\"_blank\" href=https://colab.research.google.com/notebooks/data_table.ipynb>data table notebook</a>'\n",
              "            + ' to learn more about interactive tables.';\n",
              "          element.innerHTML = '';\n",
              "          dataTable['output_type'] = 'display_data';\n",
              "          await google.colab.output.renderOutput(dataTable, element);\n",
              "          const docLink = document.createElement('div');\n",
              "          docLink.innerHTML = docLinkHtml;\n",
              "          element.appendChild(docLink);\n",
              "        }\n",
              "      </script>\n",
              "    </div>\n",
              "  </div>\n",
              "  "
            ],
            "text/plain": [
              "      번호   연령  성별  ...                             시스템응답3 사람문장4 시스템응답4\n",
              "0  23093   청년  여성  ...         자신이 하고 싶은 일을 목표로 하기로 하셨군요.   NaN    NaN\n",
              "1  32848  청소년  남성  ...                  일단 휴식을 가질 생각이시군요.   NaN    NaN\n",
              "2  35590  청소년  남성  ...  지금의 상황이 나의 방식으로써 잘 해결될 수 있기를 바라요.   NaN    NaN\n",
              "\n",
              "[3 rows x 15 columns]"
            ]
          },
          "metadata": {},
          "execution_count": 21
        }
      ]
    },
    {
      "cell_type": "code",
      "source": [
        "# train셋과 val셋 비교\n",
        "print('총 감정_대분류의 개수 : {}'.format(len(val_data['감정_대분류'].unique())))\n",
        "set(val_data['감정_대분류'].unique()) == set(train_data['감정_대분류'].unique())"
      ],
      "metadata": {
        "colab": {
          "base_uri": "https://localhost:8080/"
        },
        "id": "6k-MNBYC1qhZ",
        "outputId": "cba95cbc-8824-45f9-8b59-fca1dd2b8170"
      },
      "execution_count": null,
      "outputs": [
        {
          "output_type": "stream",
          "name": "stdout",
          "text": [
            "총 감정_대분류의 개수 : 6\n"
          ]
        },
        {
          "output_type": "execute_result",
          "data": {
            "text/plain": [
              "True"
            ]
          },
          "metadata": {},
          "execution_count": 25
        }
      ]
    },
    {
      "cell_type": "code",
      "source": [
        "set(val_data['감정_소분류'].unique()) == set(train_data['감정_소분류'].unique())"
      ],
      "metadata": {
        "colab": {
          "base_uri": "https://localhost:8080/"
        },
        "outputId": "c62e255b-4537-4275-dca1-2af3cc5dbeed",
        "id": "rbBKkhSH26dg"
      },
      "execution_count": null,
      "outputs": [
        {
          "output_type": "execute_result",
          "data": {
            "text/plain": [
              "True"
            ]
          },
          "metadata": {},
          "execution_count": 71
        }
      ]
    },
    {
      "cell_type": "code",
      "source": [
        "val_label = []\n",
        "for feel in val_data['감정_소분류']:\n",
        "    val_label.append(feel_dic[feel])\n",
        "pd.Series(val_label)"
      ],
      "metadata": {
        "colab": {
          "base_uri": "https://localhost:8080/"
        },
        "id": "etH2Zoxl3fmj",
        "outputId": "c33c7988-73ab-4be0-c853-e089f2040c8c"
      },
      "execution_count": 22,
      "outputs": [
        {
          "output_type": "execute_result",
          "data": {
            "text/plain": [
              "0       52\n",
              "1       32\n",
              "2       24\n",
              "3       11\n",
              "4       28\n",
              "        ..\n",
              "5125    56\n",
              "5126    16\n",
              "5127     7\n",
              "5128    22\n",
              "5129    30\n",
              "Length: 5130, dtype: int64"
            ]
          },
          "metadata": {},
          "execution_count": 22
        }
      ]
    },
    {
      "cell_type": "code",
      "source": [
        "train_label = []\n",
        "for feel in train_data['감정_소분류']:\n",
        "    train_label.append(feel_dic[feel])\n",
        "np.array(train_label)"
      ],
      "metadata": {
        "colab": {
          "base_uri": "https://localhost:8080/"
        },
        "id": "mzJGWG0l9eXs",
        "outputId": "a952638f-e6c3-4c4b-9a0d-032dbe663a20"
      },
      "execution_count": 23,
      "outputs": [
        {
          "output_type": "execute_result",
          "data": {
            "text/plain": [
              "array([ 0,  1,  2, ...,  5, 45,  1])"
            ]
          },
          "metadata": {},
          "execution_count": 23
        }
      ]
    },
    {
      "cell_type": "markdown",
      "source": [
        "#### 대분류로 다시"
      ],
      "metadata": {
        "id": "xh2UWb2kTTaZ"
      }
    },
    {
      "cell_type": "code",
      "source": [
        "val_label = []\n",
        "for feel in val_data['감정_대분류']:\n",
        "    val_label.append(feel_bic_dic[feel])\n",
        "pd.Series(val_label)"
      ],
      "metadata": {
        "colab": {
          "base_uri": "https://localhost:8080/"
        },
        "outputId": "6f667731-e2de-4995-fb4d-432cb5b245e3",
        "id": "gVwk-HK5TTrR"
      },
      "execution_count": 24,
      "outputs": [
        {
          "output_type": "execute_result",
          "data": {
            "text/plain": [
              "0       4\n",
              "1       3\n",
              "2       1\n",
              "3       2\n",
              "4       4\n",
              "       ..\n",
              "5125    0\n",
              "5126    1\n",
              "5127    4\n",
              "5128    4\n",
              "5129    4\n",
              "Length: 5130, dtype: int64"
            ]
          },
          "metadata": {},
          "execution_count": 24
        }
      ]
    },
    {
      "cell_type": "code",
      "source": [
        "train_label = []\n",
        "for feel in train_data['감정_대분류']:\n",
        "    train_label.append(feel_bic_dic[feel])\n",
        "np.array(train_label)"
      ],
      "metadata": {
        "colab": {
          "base_uri": "https://localhost:8080/"
        },
        "outputId": "b956f6df-0104-420e-f54f-408f81d56564",
        "id": "zC2hVPQUTTrR"
      },
      "execution_count": 25,
      "outputs": [
        {
          "output_type": "execute_result",
          "data": {
            "text/plain": [
              "array([0, 1, 2, ..., 3, 0, 1])"
            ]
          },
          "metadata": {},
          "execution_count": 25
        }
      ]
    },
    {
      "cell_type": "markdown",
      "source": [
        "## konlpy 의 Okt를 이용한 텍스트전처리"
      ],
      "metadata": {
        "id": "1IFggYiMVmxC"
      }
    },
    {
      "cell_type": "markdown",
      "source": [
        "### 토큰화"
      ],
      "metadata": {
        "id": "nFRZ-8YLYI1X"
      }
    },
    {
      "cell_type": "code",
      "source": [
        "from konlpy.tag import Okt\n",
        "from konlpy.tag import Kkma\n",
        "import re"
      ],
      "metadata": {
        "id": "bIn1KqKnWAcG"
      },
      "execution_count": 26,
      "outputs": []
    },
    {
      "cell_type": "code",
      "source": [
        "okt=Okt()\n",
        "X_train = []\n",
        "for sentence in train_data['사람문장1']:\n",
        "    tokenized_sentence = okt.morphs(sentence, stem=True) # 토큰화\n",
        "    stopwords_removed_sentence = [word for word in tokenized_sentence if not word in stop_words] # 불용어 제거\n",
        "    X_train.append(stopwords_removed_sentence)\n",
        "print(X_train[:3])"
      ],
      "metadata": {
        "colab": {
          "base_uri": "https://localhost:8080/"
        },
        "id": "MaRXng4IWj2T",
        "outputId": "3f6586c4-4fb4-4b74-8589-a96b0e8cf7e8"
      },
      "execution_count": 27,
      "outputs": [
        {
          "output_type": "stream",
          "name": "stdout",
          "text": [
            "[['아내', '드디어', '출산', '하다', '되어다', '정말', '신'], ['당뇨', '랑', '합병증', '먹다', '하다', '약', '열', '넘어가다', '스트레스'], ['고등학교', '올라오다', '중학교', '보다', '수업', '갑자기', '어려워지다', '당황', '스럽다']]\n"
          ]
        }
      ]
    },
    {
      "cell_type": "code",
      "source": [
        "X_test = []\n",
        "for sentence in val_data['사람문장1']:\n",
        "    tokenized_sentence = okt.morphs(sentence, stem=True) # 토큰화\n",
        "    stopwords_removed_sentence = [word for word in tokenized_sentence if not word in stop_words] # 불용어 제거\n",
        "    X_test.append(stopwords_removed_sentence)"
      ],
      "metadata": {
        "id": "hGcwEmyfXAuD"
      },
      "execution_count": 28,
      "outputs": []
    },
    {
      "cell_type": "markdown",
      "source": [
        "### 정수인코딩\n",
        "\n",
        "- 기계가 텍스트를 숫자로 처리할 수 있도록 훈련 데이터와 테스트 데이터에 정수 인코딩을 수행해야 합니다. 우선, 훈련 데이터에 대해서 단어 집합(vocaburary)을 만들어봅시다."
      ],
      "metadata": {
        "id": "U-f8OUolYaaS"
      }
    },
    {
      "cell_type": "code",
      "source": [
        "tokenizer = Tokenizer()\n",
        "tokenizer.fit_on_texts(X_train)"
      ],
      "metadata": {
        "id": "i9wKiiByYj57"
      },
      "execution_count": 29,
      "outputs": []
    },
    {
      "cell_type": "code",
      "source": [
        "word_index = tokenizer.word_index\n",
        "print(tokenizer.word_index)   # 여기서 oov는 어떻게 되는거지?\n",
        "\n",
        "# 0은 패딩을 위해 비워둠"
      ],
      "metadata": {
        "colab": {
          "base_uri": "https://localhost:8080/"
        },
        "id": "FwOyBpf7YnOW",
        "outputId": "e0472e68-fc1e-4945-f1e6-da3c91049ad8"
      },
      "execution_count": 30,
      "outputs": [
        {
          "output_type": "stream",
          "name": "stdout",
          "text": [
            "{'하다': 1, '너무': 2, '친구': 3, '는': 4, '도': 5, '없다': 6, '보다': 7, '않다': 8, '은': 9, '좋다': 10, '못': 11, '받다': 12, '이야': 13, '되다': 14, '만': 15, '들다': 16, '돼다': 17, '회사': 18, '오늘': 19, '요즘': 20, '돈': 21, '정말': 22, '게': 23, '나르다': 24, '아내': 25, '싶다': 26, '걱정': 27, '스럽다': 28, '한테': 29, '가다': 30, '남편': 31, '하고': 32, '힘들다': 33, '?': 34, '모르다': 35, '결혼': 36, '나다': 37, '고': 38, '슬프다': 39, '자다': 40, '화가': 41, '다': 42, '많이': 43, '직장': 44, '오다': 45, '기분': 46, '아프다': 47, '!': 48, '마음': 49, '거': 50, '아들': 51, '나오다': 52, '되어다': 53, '당황': 54, '엄마': 55, '준비': 56, '많다': 57, '불안하다': 58, '당하다': 59, '건강': 60, '나이': 61, '해': 62, '랑': 63, '먹다': 64, '병원': 65, '어떻다': 66, '자식': 67, '가족': 68, '이제': 69, '학교': 70, '취업': 71, '부모님': 72, '기쁘다': 73, '인데': 74, '일이': 75, '자꾸': 76, '난': 77, '날': 78, '주다': 79, '속상하다': 80, '딸': 81, '걸': 82, '노후': 83, '짜증': 84, '은퇴': 85, '다니다': 86, '그렇다': 87, '아무': 88, '내다': 89, '어제': 90, '아니다': 91, '공부': 92, '라고': 93, '갑자기': 94, '몸': 95, '인': 96, '아빠': 97, '만나다': 98, '알다': 99, '스트레스': 100, '싫다': 101, '상사': 102, '애': 103, '살다': 104, '버리다': 105, '해주다': 106, '남자친구': 107, '보고': 108, '생기다': 109, '서': 110, '성적': 111, '연락': 112, '업무': 113, '친하다': 114, '우울하다': 115, '계속': 116, '시험': 117, '떨어지다': 118, '선생님': 119, '크다': 120, '죽다': 121, '비': 122, '이다': 123, '싸우다': 124, '줄': 125, '열심히': 126, '님': 127, '거야': 128, '후': 129, '걸리다': 130, '직원': 131, '나가다': 132, '고민': 133, '괴롭히다': 134, '믿다': 135, '이랑': 136, '혼란': 137, '동료': 138, '마다': 139, '아직': 140, '건강하다': 141, '따돌림': 142, '동생': 143, '항상': 144, '없이': 145, '한심하다': 146, '차다': 147, '이렇게': 148, '두렵다': 149, '새롭다': 150, '면접': 151, '좋아하다': 152, '얘기': 153, '맞다': 154, '괴롭다': 155, '상처': 156, '여자친구': 157, '억울하다': 158, '어렵다': 159, '반': 160, '대학': 161, '다행': 162, '매일': 163, '생활': 164, '남자': 165, '대해': 166, '팀': 167, '술': 168, '부끄럽다': 169, '후회': 170, '충격': 171, '나서다': 172, '모으다': 173, '수술': 174, '위해': 175, '감': 176, '에는': 177, '연애': 178, '두다': 179, '주변': 180, '뭐': 181, '눈물': 182, '께': 183, '보내다': 184, '병': 185, '곳': 186, '결과': 187, '세상': 188, '걸다': 189, '무섭다': 190, '운동': 191, '이야기': 192, '드디어': 193, '빌리다': 194, '의사': 195, '치료': 196, '암': 197, '지내다': 198, '달라': 199, '에도': 200, '느끼다': 201, '원하다': 202, '수가': 203, '언니': 204, '지다': 205, '보이다': 206, '쓰다': 207, '달': 208, '이렇다': 209, '외로워': 210, '합격': 211, '노인': 212, '이라': 213, '배신': 214, '챙기다': 215, '시작': 216, '코로나': 217, '진로': 218, '신경': 219, '무시': 220, '실수': 221, '느낌': 222, '미안하다': 223, '아주': 224, '진짜': 225, '여행': 226, '느껴지다': 227, '들어서다': 228, '승진': 229, '내일': 230, '들어오다': 231, '이나': 232, '들어가다': 233, '프로젝트': 234, '점점': 235, '힘드다': 236, '벌써': 237, '동기': 238, '젊다': 239, '행복하다': 240, '사다': 241, '사이': 242, '대화': 243, '잘못': 244, '이라고': 245, '입원': 246, '화': 247, '약': 248, '놀다': 249, '라': 250, '할머니': 251, '어리다': 252, '오랜': 253, '좋아지다': 254, '모임': 255, '떠나다': 256, '귀찮다': 257, '답답하다': 258, '건강검진': 259, '모습': 260, '빨리': 261, '심하다': 262, '남다': 263, '해도': 264, '관리': 265, '요새': 266, '건': 267, '갈다': 268, '나쁘다': 269, '감사하다': 270, '상황': 271, '실망': 272, '듣다': 273, '쉬다': 274, '처음': 275, '그만두다': 276, '출산': 277, '편하다': 278, '뒤': 279, '사업': 280, '오래': 281, '아직도': 282, '투자': 283, '초조하다': 284, '성가시다': 285, '도와주다': 286, '자금': 287, '퇴직': 288, '남': 289, '노': 290, '예전': 291, '물어보다': 292, '자주': 293, '질투': 294, '가기': 295, '김': 296, '질환': 297, '조심스럽다': 298, '짜증나다': 299, '전화': 300, '가게': 301, '재정': 302, '부장': 303, '따돌리다': 304, '주식': 305, '옆집': 306, '인정': 307, '께서': 308, '바람': 309, '이혼': 310, '써다': 311, '처럼': 312, '간': 313, '편안하다': 314, '늦다': 315, '생일': 316, '관계': 317, '당혹스럽다': 318, '먼저': 319, '사귀다': 320, '최근': 321, '고생': 322, '관심': 323, '이유': 324, '취직': 325, '사장': 326, '놓다': 327, '말다': 328, '사고': 329, '학교폭력': 330, '별로': 331, '밥': 332, '헤어지다': 333, '부서': 334, '몰래': 335, '형': 336, '면': 337, '선물': 338, '하니': 339, '당뇨': 340, '약속': 341, '출근': 342, '늙다': 343, '구역질': 344, '꿈': 345, '임신': 346, '회의': 347, '입사': 348, '꼭': 349, '젠': 350, '제대로': 351, '이상하다': 352, '도움': 353, '니까': 354, '용돈': 355, '바쁘다': 356, '온': 357, '어떡하다': 358, '제일': 359, '척': 360, '상태': 361, '며칠': 362, '그냥': 363, '지원': 364, '성': 365, '애가': 366, '사랑': 367, '다녀오다': 368, '노력': 369, '건지다': 370, '퇴근': 371, '그동안': 372, '실망하다': 373, '크게': 374, '라는': 375, '피우다': 376, '화나다': 377, '야근': 378, '불편하다': 379, '검진': 380, '낳다': 381, '모든': 382, '부족하다': 383, '가난하다': 384, '머리': 385, '넘다': 386, '벌다': 387, '인지': 388, '부부': 389, '자리': 390, '필요하다': 391, '눈치': 392, '고맙다': 393, '갚다': 394, '끝나다': 395, '볼': 396, '아침': 397, '엔': 398, '대다': 399, '대': 400, '선배': 401, '밖에': 402, '결혼식': 403, '치다': 404, '소식': 405, '돌아가다': 406, '옆': 407, '가장': 408, '담배': 409, '잔소리': 410, '손자': 411, '키우다': 412, '부럽다': 413, '발표': 414, '애인': 415, '그렇게': 416, '외롭다': 417, '인생': 418, '보험': 419, '보기': 420, '빠지다': 421, '준': 422, '음식': 423, '때리다': 424, '늘': 425, '주말': 426, '폭력': 427, '평소': 428, '당': 429, '찾다': 430, '감정': 431, '끊다': 432, '째': 433, '여서': 434, '맡다': 435, '거짓말': 436, '찾아오다': 437, '해고': 438, '고립': 439, '대학교': 440, '하루': 441, '얼굴': 442, '해보다': 443, '큰일': 444, '재산': 445, '평생': 446, '가해자': 447, '방': 448, '싫어하다': 449, '올해': 450, '혐오': 451, '사기': 452, '기다리다': 453, '뭘': 454, '길': 455, '빼다': 456, '죄책감': 457, '자녀': 458, '혼나다': 459, '환멸': 460, '매우': 461, '누나': 462, '막막하다': 463, '만들다': 464, '경제': 465, '눈': 466, '삶': 467, '비교': 468, '중이': 469, '만족스럽다': 470, '다가오다': 471, '손': 472, '잠': 473, '마비': 474, '좌절': 475, '상담': 476, '욕': 477, '장님': 478, '대로': 479, '대한': 480, '기': 481, '옷': 482, '다투다': 483, '퇴사': 484, '비싸다': 485, '월급': 486, '에만': 487, '치매': 488, '심해지다': 489, '힘': 490, '졸업': 491, '걱정스럽다': 492, '대인관계': 493, '이해': 494, '후배': 495, '엄청': 496, '학원': 497, '에서는': 498, '과장': 499, '중요하다': 500, '하라': 501, '신나다': 502, '미치다': 503, '성공하다': 504, '쓰러지다': 505, '지치다': 506, '계획': 507, '따르다': 508, '이르다': 509, '울다': 510, '처리': 511, '차': 512, '늘다': 513, '인사': 514, '잃다': 515, '연금': 516, '동네': 517, '오지': 518, '괴롭힘': 519, '높다': 520, '빚': 521, '아기': 522, '아버지': 523, '많아지다': 524, '행동': 525, '없어지다': 526, '다치다': 527, '자랑': 528, '서로': 529, '오빠': 530, '전혀': 531, '고등학교': 532, '신입': 533, '점수': 534, '거절': 535, '고혈압': 536, '죽음': 537, '박': 538, '입다': 539, '허리': 540, '덕분': 541, '이네': 542, '검사': 543, '고백': 544, '쓰이다': 545, '회식': 546, '물건': 547, '아무리': 548, '분': 549, '주지': 550, '정년': 551, '이후': 552, '이직': 553, '이라는': 554, '십': 555, '집안': 556, '급하다': 557, '서다': 558, '우울증': 559, '퇴원': 560, '여유': 561, '괜찮다': 562, '진단': 563, '수업': 564, '배': 565, '포기': 566, '맨날': 567, '가야': 568, '이사': 569, '버려진': 570, '지인': 571, '살이': 572, '교통사고': 573, '피곤하다': 574, '대출': 575, '퇴직금': 576, '오랫동안': 577, '불다': 578, '이고': 579, '텐데': 580, '일찍': 581, '끼리': 582, '왕따': 583, '열': 584, '비통하다': 585, '괜히': 586, '뜨다': 587, '신': 588, '소문': 589, '서운하다': 590, '일도': 591, '만날': 592, '한다는': 593, '위': 594, '갖다': 595, '가끔': 596, '생활비': 597, '반대': 598, '세': 599, '부하': 600, '성격': 601, '칭찬': 602, '나니': 603, '근데': 604, '인하다': 605, '해오다': 606, '진행': 607, '뿐': 608, '첫': 609, '적다': 610, '열등감': 611, '밤': 612, '별': 613, '아끼다': 614, '서럽다': 615, '느긋하다': 616, '희생': 617, '시선': 618, '다리': 619, '휴가': 620, '등산': 621, '가지다': 622, '죽': 623, '나빠지다': 624, '가면': 625, '사정': 626, '넣다': 627, '사과': 628, '미리': 629, '후회되다': 630, '스스로': 631, '의견': 632, '장': 633, '대신': 634, '형편': 635, '실패하다': 636, '\\xa0': 637, '작다': 638, '쓸다': 639, '멀어지다': 640, '사주다': 641, '드리다': 642, '저축': 643, '들이다': 644, '망하다': 645, '뭐라다': 646, '일어나다': 647, '남지': 648, '게임': 649, '통보': 650, '씩': 651, '며느리': 652, '신뢰': 653, '비다': 654, '산': 655, '그게': 656, '꾸준하다': 657, '병문안': 658, '해결': 659, '인가': 660, '가입': 661, '안달': 662, '명절': 663, '태어나다': 664, '마련': 665, '스러운': 666, '주위': 667, '기대': 668, '과의': 669, '자고': 670, '여러': 671, '공무원': 672, '오해': 673, '뻔하다': 674, '손주': 675, '서류': 676, '소개': 677, '잡다': 678, '낮다': 679, '험담': 680, '탈락': 681, '정신': 682, '들키다': 683, '사람과': 684, '부탁': 685, '예쁘다': 686, '떨리다': 687, '부르다': 688, '동창': 689, '앞두다': 690, '라도': 691, '즐겁다': 692, '만난': 693, '어울리다': 694, '축하': 695, '라서': 696, '분위기': 697, '능력': 698, '양제': 699, '저번': 700, '무릎': 701, '당첨': 702, '과제': 703, '알아보다': 704, '배우다': 705, '집안일': 706, '친해지다': 707, '선택': 708, '일부러': 709, '갱년기': 710, '저녁': 711, '미루다': 712, '계약': 713, '숙제': 714, '력': 715, '직업': 716, '문': 717, '결정': 718, '끝': 719, '아무렇다': 720, '신고': 721, '쓸쓸하다': 722, '친척': 723, '기억': 724, '수학': 725, '판정': 726, '지나다': 727, '어머니': 728, '거리': 729, '돌아오다': 730, '새': 731, '은행': 732, '아무래도': 733, '들어주다': 734, '요양원': 735, '실적': 736, '취소': 737, '근무': 738, '부담': 739, '일로': 740, '망치다': 741, '밖': 742, '정리': 743, '살아오다': 744, '지키다': 745, '놀리다': 746, '미래': 747, '통장': 748, '이지': 749, '올리다': 750, '전학': 751, '외': 752, '돌보다': 753, '통': 754, '적금': 755, '어쩌지': 756, '붙다': 757, '와이프': 758, '바꾸다': 759, '잃어버리다': 760, '나누다': 761, '진학': 762, '긴장': 763, '장례식': 764, '안심': 765, '부동산': 766, '창피하다': 767, '일자리': 768, '롭고': 769, '대기업': 770, '놈': 771, '요구': 772, '건데': 773, '마시다': 774, '소개팅': 775, '수치': 776, '동호회': 777, '탓': 778, '집중': 779, '강요': 780, '조': 781, '내년': 782, '앓다': 783, '드': 784, '발령': 785, '하자': 786, '겪다': 787, '래': 788, '편': 789, '부리다': 790, '무척': 791, '인간관계': 792, '연봉': 793, '노년': 794, '얻다': 795, '찌다': 796, '그걸': 797, '속이다': 798, '다르다': 799, '만성': 800, '딸아이': 801, '밀리다': 802, '아르바이트': 803, '대리': 804, '피해': 805, '그만': 806, '필요': 807, '도대체': 808, '일주일': 809, '다행하다': 810, '털다': 811, '사원': 812, '가슴': 813, '일만': 814, '살아가다': 815, '최종': 816, '넘기다': 817, '체력': 818, '집다': 819, '뭔가': 820, '기간': 821, '바라다': 822, '항': 823, '암치료': 824, '순간': 825, '만에': 826, '시기': 827, '녀석': 828, '돌리다': 829, '거지': 830, '정': 831, '으로는': 832, '살기': 833, '신입사원': 834, '드니': 835, '청소': 836, '기도': 837, '줄다': 838, '간다': 839, '사라지다': 840, '혈압': 841, '사춘기': 842, '맡기다': 843, '끝내다': 844, '기업': 845, '참다': 846, '지르다': 847, '이라서': 848, '말씀': 849, '제출': 850, '관절염': 851, '관': 852, '솔직하다': 853, '걔': 854, '나중': 855, '황당하다': 856, '넘어지다': 857, '누가': 858, '중년': 859, '가정': 860, '꺼내다': 861, '물리다': 862, '뿌듯하다': 863, '폐암': 864, '악화': 865, '올라서다': 866, '이십': 867, '유산': 868, '미우다': 869, '유학': 870, '효과': 871, '상': 872, '장이': 873, '섭섭하다': 874, '앉다': 875, '끄다': 876, '일등': 877, '의심': 878, '바뀌다': 879, '종일': 880, '지긋지긋하다': 881, '풀다': 882, '지각': 883, '쳐다보다': 884, '지방': 885, '갈수록': 886, '월세': 887, '가버리다': 888, '즐기다': 889, '취약': 890, '눕다': 891, '에서도': 892, '땅': 893, '영감': 894, '며': 895, '시': 896, '의식': 897, '추천': 898, '완치': 899, '계시다': 900, '삼십': 901, '흥분': 902, '당한': 903, '작년': 904, '화장실': 905, '간암': 906, '전공': 907, '수도': 908, '보험금': 909, '취급': 910, '이기다': 911, '데이트': 912, '피하': 913, '굉장하다': 914, '발견': 915, '훔치다': 916, '에게는': 917, '학생': 918, '혼내다': 919, '시어머니': 920, '부모': 921, '대비': 922, '너무나': 923, '비밀': 924, '관련': 925, '채용': 926, '수능': 927, '아파트': 928, '값': 929, '안좋다': 930, '스럽게': 931, '숨기다': 932, '옮기다': 933, '은근': 934, '거래처': 935, '분명': 936, '웃다': 937, '충분하다': 938, '날다': 939, '엄청나다': 940, '자꾸만': 941, '태도': 942, '우연히': 943, '안도': 944, '위암': 945, '뉴스': 946, '출장': 947, '히': 948, '와의': 949, '잦다': 950, '편이': 951, '확인': 952, '가져가다': 953, '쉬': 954, '여기저기': 955, '쌓이다': 956, '의지': 957, '담임': 958, '생기': 959, '가방': 960, '화해': 961, '프러포즈': 962, '본인': 963, '이면': 964, '점심': 965, '비참하다': 966, '이라니': 967, '대답': 968, '권유': 969, '마을': 970, '천식': 971, '마지막': 972, '육십': 973, '똑같다': 974, '막상': 975, '문자': 976, '집사람': 977, '냐': 978, '성과': 979, '완전하다': 980, '이라도': 981, '어쩔': 982, '잘리다': 983, '어려워지다': 984, '이제야': 985, '손해': 986, '채': 987, '안정': 988, '지갑': 989, '장난': 990, '응원': 991, '아깝다': 992, '환자': 993, '듯': 994, '뺏다': 995, '일해': 996, '할아버지': 997, '팀원': 998, '깨다': 999, '오십': 1000, '에게만': 1001, '자격증': 1002, '합병증': 1003, '내주다': 1004, '시골': 1005, '잊다': 1006, '멀리': 1007, '간호사': 1008, '틀리다': 1009, '맞추다': 1010, '버스': 1011, '이름': 1012, '비웃다': 1013, '사무실': 1014, '낼': 1015, '혼': 1016, '날아가다': 1017, '창피해': 1018, '전화하다': 1019, '따로': 1020, '산책': 1021, '난리': 1022, '려고': 1023, '장사': 1024, '기회': 1025, '직': 1026, '맘': 1027, '완전': 1028, '비용': 1029, '아이디어': 1030, '요': 1031, '허락': 1032, '감기': 1033, '컴퓨터': 1034, '신청': 1035, '어이없다': 1036, '소외': 1037, '갑작스럽다': 1038, '위로': 1039, '싸움': 1040, '현실': 1041, '안되다': 1042, '영어': 1043, '열다': 1044, '반장': 1045, '허무하다': 1046, '대회': 1047, '개월': 1048, '시절': 1049, '모이다': 1050, '말고': 1051, '디스크': 1052, '원래': 1053, '해외': 1054, '건가': 1055, '절대': 1056, '나름': 1057, '책': 1058, '해봤다': 1059, '방법': 1060, '약하다': 1061, '지시': 1062, '자료': 1063, '이력서': 1064, '평가': 1065, '외식': 1066, '막히다': 1067, '시댁': 1068, '말기': 1069, '조절': 1070, '손녀': 1071, '길이': 1072, '넉넉하다': 1073, '초라하다': 1074, '부분': 1075, '니': 1076, '반응': 1077, '경로당': 1078, '지난': 1079, '식단': 1080, '말다툼': 1081, '헤어지자': 1082, '악의': 1083, '심해': 1084, '줄어들다': 1085, '유지': 1086, '마무리': 1087, '통해': 1088, '하루하루': 1089, '믿음': 1090, '성적표': 1091, '보고서': 1092, '살리다': 1093, '멀다': 1094, '금': 1095, '싫어지다': 1096, '겁': 1097, '아쉽다': 1098, '핸드폰': 1099, '대서': 1100, '대표': 1101, '조급하다': 1102, '분노': 1103, '꼴': 1104, '당뇨병': 1105, '지난주': 1106, '냄새': 1107, '죄송하다': 1108, '강아지': 1109, '식품': 1110, '치고': 1111, '운영': 1112, '깜짝': 1113, '지겹다': 1114, '묻다': 1115, '성공': 1116, '예민하다': 1117, '든든하다': 1118, '심장': 1119, '땐': 1120, '뒷바라지': 1121, '친절하다': 1122, '맛있다': 1123, '감당': 1124, '달이': 1125, '교수': 1126, '대체': 1127, '거래': 1128, '재미': 1129, '백': 1130, '라니': 1131, '사용': 1132, '병실': 1133, '보태': 1134, '사진': 1135, '기침': 1136, '자살': 1137, '질문': 1138, '꽤': 1139, '나아지다': 1140, '관절': 1141, '분명하다': 1142, '경력': 1143, '방금': 1144, '내려가다': 1145, '차별': 1146, '마주치다': 1147, '실': 1148, '차리다': 1149, '워': 1150, '잘나다': 1151, '교육': 1152, '육아': 1153, '걷다': 1154, '카드': 1155, '무조건': 1156, '외출': 1157, '고지혈증': 1158, '지병': 1159, '이미': 1160, '치밀다': 1161, '곁': 1162, '매달': 1163, '뽑다': 1164, '불쌍하다': 1165, '달라지다': 1166, '낙담하다': 1167, '최고': 1168, '가보다': 1169, '정상': 1170, '명예퇴직': 1171, '취미': 1172, '작성': 1173, '하래': 1174, '막': 1175, '체육': 1176, '소홀하다': 1177, '몹시': 1178, '착하다': 1179, '상대': 1180, '가깝다': 1181, '자신감': 1182, '넘어가다': 1183, '날리다': 1184, '해내다': 1185, '적성': 1186, '제안': 1187, '확실하다': 1188, '이루다': 1189, '왠지': 1190, '개인': 1191, '최': 1192, '발': 1193, '지나가다': 1194, '누군가': 1195, '확신': 1196, '투병': 1197, '주가': 1198, '되게': 1199, '데려오다': 1200, '커서': 1201, '탈모': 1202, '에게도': 1203, '수입': 1204, '부담스럽다': 1205, '든': 1206, '끊기다': 1207, '체중': 1208, '맛': 1209, '지하철': 1210, '도저히': 1211, '마흔': 1212, '동창회': 1213, '활동': 1214, '식사': 1215, '피': 1216, '울': 1217, '정작': 1218, '큰아들': 1219, '내내': 1220, '증상': 1221, '옛날': 1222, '환갑': 1223, '지난번': 1224, '한번': 1225, '도망가다': 1226, '독립': 1227, '따다': 1228, '식': 1229, '일인': 1230, '복지': 1231, '방어': 1232, '역겹다': 1233, '담당': 1234, '상의': 1235, '이란': 1236, '예정': 1237, '그대로': 1238, '군대': 1239, '달리': 1240, '타': 1241, '정기': 1242, '기대하다': 1243, '궁금하다': 1244, '막내': 1245, '데리': 1246, '차이': 1247, '학기': 1248, '찍다': 1249, '온종일': 1250, '절망': 1251, '사수': 1252, '역시': 1253, '회': 1254, '이동': 1255, '추석': 1256, '물': 1257, '다이어트': 1258, '만족하다': 1259, '심': 1260, '가격': 1261, '센터': 1262, '런가': 1263, '생각나다': 1264, '남아': 1265, '서글프다': 1266, '지적': 1267, '폭행': 1268, '어색하다': 1269, '간섭': 1270, '사소하다': 1271, '타고': 1272, '시끄럽다': 1273, '백수': 1274, '부정': 1275, '보여주다': 1276, '펀드': 1277, '압박': 1278, '이용': 1279, '조용하다': 1280, '어깨': 1281, '내용': 1282, '간호': 1283, '회장': 1284, '복권': 1285, '헬스장': 1286, '달다': 1287, '표정': 1288, '내지': 1289, '노래': 1290, '보다는': 1291, '와도': 1292, '굳다': 1293, '학업': 1294, '재': 1295, '불합격': 1296, '보지': 1297, '동아리': 1298, '노트': 1299, '심부름': 1300, '버': 1301, '날짜': 1302, '신랑': 1303, '기다': 1304, '자시다': 1305, '짝': 1306, '짐': 1307, '민망하다': 1308, '요청': 1309, '항암': 1310, '벗어나다': 1311, '고기': 1312, '버티다': 1313, '공': 1314, '글쎄': 1315, '엉망': 1316, '재미있다': 1317, '움직이다': 1318, '중학교': 1319, '숨': 1320, '의미': 1321, '소용': 1322, '양': 1323, '변하다': 1324, '늘어나다': 1325, '존재': 1326, '슬슬': 1327, '지출': 1328, '어차피': 1329, '고등학생': 1330, '당연하다': 1331, '온몸': 1332, '불만': 1333, '벌': 1334, '초기': 1335, '채다': 1336, '직접': 1337, '치우다': 1338, '또래': 1339, '이별': 1340, '설레다': 1341, '영화': 1342, '마감': 1343, '장기': 1344, '파다': 1345, '무리': 1346, '학과': 1347, '지경': 1348, '한참': 1349, '커피': 1350, '주사': 1351, '답': 1352, '잘해주다': 1353, '풀리다': 1354, '재촉': 1355, '신경질': 1356, '닫다': 1357, '오래되다': 1358, '입학': 1359, '목표': 1360, '말씀드리다': 1361, '식당': 1362, '무사하다': 1363, '정보': 1364, '자랑스럽다': 1365, '입시': 1366, '에겐': 1367, '저지르다': 1368, '용기': 1369, '중간고사': 1370, '청년': 1371, '잡히다': 1372, '어쩌면': 1373, '대가': 1374, '놓이다': 1375, '기사': 1376, '새벽': 1377, '조심': 1378, '알아주다': 1379, '쪽': 1380, '출금': 1381, '불우하다': 1382, '직무': 1383, '무기': 1384, '손님': 1385, '올라오다': 1386, '부인': 1387, '여름': 1388, '치': 1389, '시대': 1390, '집주인': 1391, '가볍다': 1392, '경찰': 1393, '등급': 1394, '견디다': 1395, '멈추다': 1396, '종종': 1397, '명품': 1398, '외모': 1399, '통화': 1400, '만기': 1401, '희망': 1402, '정해': 1403, '안타깝다': 1404, '따라가다': 1405, '끼다': 1406, '여태': 1407, '친정': 1408, '기획': 1409, '함부로': 1410, '밉다': 1411, '덥다': 1412, '재발': 1413, '원금': 1414, '습관': 1415, '신세': 1416, '동': 1417, '차갑다': 1418, '어른': 1419, '안다': 1420, '로또': 1421, '과는': 1422, '텔레비전': 1423, '얼른': 1424, '보너스': 1425, '가라': 1426, '고장': 1427, '운전': 1428, '떠오르다': 1429, '여기다': 1430, '짓': 1431, '금방': 1432, '계산': 1433, '으로도': 1434, '다가가다': 1435, '보증': 1436, '통증': 1437, '무리하다': 1438, '어서': 1439, '산부인과': 1440, '터지다': 1441, '내시경': 1442, '짜다': 1443, '취해': 1444, '기말고사': 1445, '진급': 1446, '도박': 1447, '금액': 1448, '주어': 1449, '인정받다': 1450, '고향': 1451, '영업': 1452, '책임': 1453, '고객': 1454, '필기': 1455, '귀': 1456, '기대다': 1457, '친': 1458, '언제나': 1459, '업': 1460, '무량': 1461, '참여': 1462, '시장': 1463, '가져오다': 1464, '배려': 1465, '심정': 1466, '사회생활': 1467, '차려': 1468, '화목': 1469, '덕': 1470, '내리다': 1471, '가능하다': 1472, '지나치다': 1473, '과외': 1474, '학년': 1475, '유방암': 1476, '터': 1477, '기한': 1478, '토': 1479, '기운': 1480, '파혼': 1481, '중간': 1482, '뻔': 1483, '지도': 1484, '쯤': 1485, '시달리다': 1486, '파티': 1487, '이웃': 1488, '바보': 1489, '참석': 1490, '방학': 1491, '접다': 1492, '라면': 1493, '자전거': 1494, '경험': 1495, '지켜보다': 1496, '그리다': 1497, '이식': 1498, '급식': 1499, '과거': 1500, '학폭위': 1501, '세우다': 1502, '점심시간': 1503, '빼': 1504, '명도': 1505, '권고사직': 1506, '외국': 1507, '인간': 1508, '인원': 1509, '여유롭다': 1510, '부다': 1511, '사내': 1512, '시도': 1513, '물다': 1514, '오라': 1515, '목격': 1516, '기르다': 1517, '여직원': 1518, '재테크': 1519, '줄이다': 1520, '질병': 1521, '내버리다': 1522, '입': 1523, '먹기': 1524, '산다': 1525, '조건': 1526, '원서': 1527, '바라보다': 1528, '보라': 1529, '처벌': 1530, '흘리다': 1531, '적응하다': 1532, '신장': 1533, '재혼': 1534, '연': 1535, '고치다': 1536, '받아들이다': 1537, '지속': 1538, '반갑다': 1539, '한잔': 1540, '내기': 1541, '낫다': 1542, '재수': 1543, '한숨': 1544, '신체': 1545, '백내장': 1546, '서른': 1547, '방문': 1548, '죄': 1549, '권': 1550, '잔뜩': 1551, '해외여행': 1552, '부쩍': 1553, '어찌나': 1554, '금연': 1555, '존경': 1556, '무너지다': 1557, '체': 1558, '경기': 1559, '복잡하다': 1560, '아줌마': 1561, '반복': 1562, '독감': 1563, '술자리': 1564, '대상': 1565, '커닝': 1566, '심각하다': 1567, '까먹다': 1568, '책임지다': 1569, '원망': 1570, '약해지다': 1571, '시력': 1572, '보이지': 1573, '로는': 1574, '이자': 1575, '가도': 1576, '모자라다': 1577, '꺼리다': 1578, '길어지다': 1579, '이민': 1580, '동성애자': 1581, '의욕': 1582, '다시다': 1583, '단체': 1584, '구매': 1585, '안쓰럽다': 1586, '하늘': 1587, '사람인': 1588, '청혼': 1589, '소': 1590, '도전': 1591, '창업': 1592, '에선': 1593, '처지다': 1594, '처지': 1595, '둘째': 1596, '실패': 1597, '중학생': 1598, '상대방': 1599, '한결': 1600, '이리': 1601, '마스크': 1602, '시비': 1603, '업체': 1604, '거들다': 1605, '뛰다': 1606, '맞벌이': 1607, '짝사랑': 1608, '잠도': 1609, '식구': 1610, '부도': 1611, '예약': 1612, '시부모': 1613, '이대로': 1614, '자산': 1615, '적응': 1616, '데리다': 1617, '전교': 1618, '귀가': 1619, '복수': 1620, '조언': 1621, '수학여행': 1622, '양보': 1623, '쓸모없다': 1624, '마누라': 1625, '중인': 1626, '자퇴': 1627, '현장': 1628, '징계': 1629, '도착': 1630, '자라다': 1631, '반찬': 1632, '매출': 1633, '편지': 1634, '뒤지다': 1635, '느리다': 1636, '가르치다': 1637, '얘': 1638, '욕심': 1639, '요양': 1640, '억지로': 1641, '멀쩡하다': 1642, '현재': 1643, '씁쓸하다': 1644, '덜': 1645, '커지다': 1646, '니깐': 1647, '진료': 1648, '써주다': 1649, '자르다': 1650, '요리': 1651, '신발': 1652, '심란하다': 1653, '백만': 1654, '급여': 1655, '젊은이': 1656, '만이': 1657, '에게서': 1658, '핀잔': 1659, '조심하다': 1660, '야하다': 1661, '달래': 1662, '에서만': 1663, '세다': 1664, '서울': 1665, '해달라다': 1666, '중소기업': 1667, '대놓고': 1668, '구박': 1669, '내야': 1670, '소용없다': 1671, '퇴학': 1672, '기계': 1673, '숨기': 1674, '이러다가': 1675, '명의': 1676, '바르다': 1677, '초대': 1678, '피해자': 1679, '어젯밤': 1680, '과도': 1681, '불행하다': 1682, '실력': 1683, '제주도': 1684, '근처': 1685, '구해': 1686, '윗': 1687, '공원': 1688, '정부': 1689, '놀림': 1690, '빠르다': 1691, '쇼핑': 1692, '쏟다': 1693, '내려오다': 1694, '깨어나다': 1695, '가로': 1696, '참고': 1697, '인슐린': 1698, '교실': 1699, '완벽하다': 1700, '푼': 1701, '정리해고': 1702, '뇌졸중': 1703, '인상': 1704, '걷기': 1705, '뭔': 1706, '우리나라': 1707, '나타나다': 1708, '생': 1709, '곳도': 1710, '룸메이트': 1711, '방송': 1712, '결혼기념일': 1713, '진심': 1714, '병들다': 1715, '열리다': 1716, '선': 1717, '군데': 1718, '어려움': 1719, '닮다': 1720, '말리다': 1721, '깎다': 1722, '똑같이': 1723, '사망': 1724, '골프': 1725, '기술': 1726, '끼': 1727, '요실금': 1728, '진지하다': 1729, '도둑': 1730, '너무하다': 1731, '정이': 1732, '틈': 1733, '절교': 1734, '잊어버리다': 1735, '대인': 1736, '대학생': 1737, '처방': 1738, '임원': 1739, '안마': 1740, '깊다': 1741, '티브이': 1742, '위험하다': 1743, '치가': 1744, '세대': 1745, '여전하다': 1746, '등록금': 1747, '복지관': 1748, '너무나도': 1749, '곤란하다': 1750, '외톨이': 1751, '면서': 1752, '툴툴대': 1753, '인턴': 1754, '조금씩': 1755, '수군거리다': 1756, '이전': 1757, '방해': 1758, '자존심': 1759, '전염병': 1760, '깨': 1761, '가다가': 1762, '더욱': 1763, '환경': 1764, '전환': 1765, '중반': 1766, '잔치': 1767, '잠적': 1768, '기적': 1769, '키': 1770, '실기': 1771, '자취': 1772, '홀로': 1773, '치르다': 1774, '집도': 1775, '오니': 1776, '인터넷': 1777, '골다공증': 1778, '남기다': 1779, '불': 1780, '읽다': 1781, '떨다': 1782, '소통': 1783, '일구다': 1784, '감동': 1785, '소중하다': 1786, '음식점': 1787, '금융': 1788, '메시지': 1789, '꾸다': 1790, '미워하다': 1791, '자부': 1792, '움직': 1793, '초등학교': 1794, '지난달': 1795, '도중': 1796, '부자': 1797, '작업': 1798, '줍다': 1799, '학교생활': 1800, '날씨': 1801, '대충': 1802, '연예인': 1803, '병상': 1804, '정규직': 1805, '한두': 1806, '특별하다': 1807, '당분간': 1808, '가난': 1809, '수익': 1810, '가만히': 1811, '핑계': 1812, '지역': 1813, '간질': 1814, '숨다': 1815, '든지': 1816, '고집': 1817, '주택': 1818, '무능하다': 1819, '성실하다': 1820, '부러지다': 1821, '신혼': 1822, '노트북': 1823, '일상': 1824, '전세': 1825, '코': 1826, '가까워지다': 1827, '아예': 1828, '예상': 1829, '간병': 1830, '남겨지다': 1831, '목돈': 1832, '국어': 1833, '배우자': 1834, '최선': 1835, '댁': 1836, '부양': 1837, '으로만': 1838, '바닥': 1839, '보람': 1840, '표현': 1841, '위원회': 1842, '징그럽다': 1843, '거기': 1844, '천천히': 1845, '경쟁': 1846, '코앞': 1847, '주인': 1848, '불쾌하다': 1849, '병간호': 1850, '멋지다': 1851, '일정': 1852, '그림': 1853, '실직': 1854, '다가': 1855, '카페': 1856, '펴다': 1857, '그립다': 1858, '꿈꾸다': 1859, '라네': 1860, '끔찍하다': 1861, '비상': 1862, '차이다': 1863, '단절': 1864, '퇴': 1865, '버려지다': 1866, '얄밉다': 1867, '먹이다': 1868, '성희롱': 1869, '마치다': 1870, '겉': 1871, '목소리': 1872, '생계': 1873, '몰다': 1874, '총각': 1875, '연차': 1876, '보장': 1877, '회복': 1878, '답안': 1879, '대단하다': 1880, '모의고사': 1881, '깜빡': 1882, '사표': 1883, '거부': 1884, '매년': 1885, '요즈음': 1886, '비난': 1887, '내신': 1888, '설명': 1889, '종양': 1890, '축구': 1891, '마라톤': 1892, '동반': 1893, '이성': 1894, '계': 1895, '유일하다': 1896, '상해': 1897, '쉽다': 1898, '밤새': 1899, '티': 1900, '오늘이': 1901, '아저씨': 1902, '낳을': 1903, '관해': 1904, '뜻대로': 1905, '에서의': 1906, '조마조마하다': 1907, '후임': 1908, '고통스럽다': 1909, '잔': 1910, '저러다': 1911, '부': 1912, '초': 1913, '상견례': 1914, '주문': 1915, '와는': 1916, '집값': 1917, '소문나다': 1918, '폐': 1919, '풀': 1920, '음악': 1921, '대학원': 1922, '이건': 1923, '처': 1924, '지기': 1925, '소심하다': 1926, '사건': 1927, '피다': 1928, '어머님': 1929, '무겁다': 1930, '벌리다': 1931, '세월': 1932, '세금': 1933, '회비': 1934, '정말로': 1935, '회복하다': 1936, '허전하다': 1937, '금전': 1938, '공감': 1939, '데도': 1940, '이만': 1941, '칠십': 1942, '인기': 1943, '설계': 1944, '교육비': 1945, '더러': 1946, '살림': 1947, '정체': 1948, '상품': 1949, '자괴': 1950, '막내딸': 1951, '과목': 1952, '난감하다': 1953, '다툼': 1954, '발생': 1955, '째다': 1956, '말로': 1957, '예정일': 1958, '잔고': 1959, '후련하다': 1960, '비도': 1961, '한편': 1962, '겁나다': 1963, '까지만': 1964, '제때': 1965, '치료받다': 1966, '망설이다': 1967, '몸살': 1968, '더니': 1969, '성화': 1970, '순': 1971, '명단': 1972, '사촌': 1973, '버릇': 1974, '증': 1975, '도통': 1976, '만의': 1977, '연인': 1978, '국민연금': 1979, '심장마비': 1980, '치킨': 1981, '풀이': 1982, '모양': 1983, '앞날': 1984, '위축': 1985, '전체': 1986, '감사': 1987, '착잡하다': 1988, '무언가': 1989, '듯이': 1990, '올려주다': 1991, '주의': 1992, '답장': 1993, '부당하다': 1994, '눈앞': 1995, '구조조정': 1996, '만으로': 1997, '뛰어나다': 1998, '뚱뚱하다': 1999, '분야': 2000, '별거': 2001, '건물': 2002, '대장암': 2003, '황': 2004, '주민': 2005, '녹내장': 2006, '차도': 2007, '예의': 2008, '만큼은': 2009, '공고': 2010, '던지다': 2011, '물어': 2012, '단': 2013, '부질없다': 2014, '낮': 2015, '독촉': 2016, '폐지': 2017, '돌다': 2018, '말실수': 2019, '선고': 2020, '휴대폰': 2021, '나라': 2022, '한지': 2023, '일방': 2024, '카톡': 2025, '장가': 2026, '예비': 2027, '동갑': 2028, '스터디': 2029, '뱃살': 2030, '오래전': 2031, '잘살다': 2032, '전이': 2033, '까지는': 2034, '높아지다': 2035, '정시': 2036, '막다': 2037, '통과': 2038, '자존감': 2039, '아이돌': 2040, '기부': 2041, '재활': 2042, '찾아보다': 2043, '떠나가다': 2044, '피부': 2045, '상상': 2046, '알려지다': 2047, '군': 2048, '늦잠': 2049, '대접': 2050, '라며': 2051, '낫': 2052, '책상': 2053, '애쓰다': 2054, '비만': 2055, '장애': 2056, '염려': 2057, '망가지다': 2058, '벌이': 2059, '형제': 2060, '몰리다': 2061, '어쩜': 2062, '단짝': 2063, '마트': 2064, '테': 2065, '분해': 2066, '경찰서': 2067, '과로': 2068, '심심하다': 2069, '사사건건': 2070, '면목': 2071, '주기': 2072, '제한': 2073, '오해해': 2074, '고과': 2075, '여동생': 2076, '밝다': 2077, '출신': 2078, '짓다': 2079, '휴직': 2080, '영향': 2081, '미팅': 2082, '언': 2083, '더럽다': 2084, '변화': 2085, '어느새다': 2086, '시집': 2087, '외박': 2088, '번째': 2089, '못마땅하다': 2090, '올라가다': 2091, '불황': 2092, '전형': 2093, '어지럽다': 2094, '사서': 2095, '맞이': 2096, '구입': 2097, '지지': 2098, '안부': 2099, '프레': 2100, '테이': 2101, '션': 2102, '조만간': 2103, '미술': 2104, '권하다': 2105, '확': 2106, '참견': 2107, '그만하다': 2108, '쓸데없다': 2109, '의도': 2110, '고르다': 2111, '무산': 2112, '수시': 2113, '기특하다': 2114, '사오다': 2115, '결제': 2116, '구직': 2117, '이장': 2118, '늦어지다': 2119, '돌아다니다': 2120, '빼놓다': 2121, '인연': 2122, '철': 2123, '내놓다': 2124, '돌려주다': 2125, '반말': 2126, '소변': 2127, '재밌다': 2128, '지목': 2129, '오전': 2130, '처분': 2131, '업자': 2132, '공모전': 2133, '장면': 2134, '새다': 2135, '고독': 2136, '학점': 2137, '넘어서다': 2138, '판매': 2139, '부딪히다': 2140, '주시': 2141, '뒷': 2142, '지급': 2143, '외로움': 2144, '울면': 2145, '만으로도': 2146, '거울': 2147, '농사': 2148, '남동생': 2149, '위기': 2150, '비리': 2151, '사르다': 2152, '거려': 2153, '목': 2154, '돌': 2155, '학비': 2156, '깨지다': 2157, '발목': 2158, '배드민턴': 2159, '아마': 2160, '뼈': 2161, '겠다': 2162, '고양이': 2163, '내면': 2164, '듣기': 2165, '불륜': 2166, '후반': 2167, '컨디션': 2168, '장소': 2169, '수정': 2170, '거실': 2171, '불구': 2172, '두통': 2173, '선거': 2174, '근': 2175, '찾아가다': 2176, '계단': 2177, '심근경색': 2178, '이끌다': 2179, '베': 2180, '교무': 2181, '폐렴': 2182, '조사': 2183, '성인': 2184, '망치': 2185, '깨우다': 2186, '해지': 2187, '큰딸': 2188, '주신': 2189, '시한': 2190, '수행평가': 2191, '집착': 2192, '잡고': 2193, '떠들다': 2194, '결심': 2195, '제외': 2196, '쑤시다': 2197, '흥분하다': 2198, '장례': 2199, '씌우다': 2200, '봉사': 2201, '무료': 2202, '팔다': 2203, '낯': 2204, '첫날': 2205, '금리': 2206, '잠들다': 2207, '들리다': 2208, '미혼': 2209, '쫓기다': 2210, '유행': 2211, '랑은': 2212, '뇌': 2213, '서툴다': 2214, '트집': 2215, '흡연': 2216, '반항': 2217, '펑펑': 2218, '격려': 2219, '내외': 2220, '유독': 2221, '달리기': 2222, '택시': 2223, '저렇게': 2224, '나가야': 2225, '치과': 2226, '폭락': 2227, '빨갛다': 2228, '뽑히다': 2229, '대책': 2230, '주어지다': 2231, '지금껏': 2232, '여간': 2233, '석': 2234, '간식': 2235, '옳다': 2236, '쓸모': 2237, '씻다': 2238, '직할': 2239, '여성': 2240, '스펙': 2241, '존중': 2242, '미국': 2243, '둘이서': 2244, '용서': 2245, '면담': 2246, '모욕': 2247, '익숙하다': 2248, '처가': 2249, '께서는': 2250, '당당하다': 2251, '말르다': 2252, '체육대회': 2253, '낙담': 2254, '이든': 2255, '놓치다': 2256, '마냥': 2257, '고용': 2258, '조르다': 2259, '한국': 2260, '짧다': 2261, '염세': 2262, '깜깜': 2263, '하필': 2264, '버겁다': 2265, '의자': 2266, '전과': 2267, '불평': 2268, '당하': 2269, '기미': 2270, '이틀': 2271, '만지다': 2272, '납부': 2273, '광고': 2274, '전원주택': 2275, '걔네': 2276, '애교': 2277, '매사': 2278, '보조': 2279, '원인': 2280, '경': 2281, '놀이': 2282, '거나': 2283, '무거워': 2284, '인공': 2285, '임': 2286, '담보': 2287, '어딜': 2288, '대들다': 2289, '범인': 2290, '과정': 2291, '웃음': 2292, '침대': 2293, '형님': 2294, '뇌출혈': 2295, '방관': 2296, '사별': 2297, '이벤트': 2298, '제자리': 2299, '기력': 2300, '일어나서': 2301, '아등바등': 2302, '바': 2303, '헷갈리다': 2304, '재능': 2305, '육십이': 2306, '보살피다': 2307, '소원': 2308, '턱': 2309, '도망': 2310, '빈': 2311, '조기': 2312, '늘어서다': 2313, '배고프다': 2314, '연습': 2315, '법': 2316, '데려가다': 2317, '쓰기': 2318, '행사': 2319, '불가능하다': 2320, '전해': 2321, '평균': 2322, '툭하면': 2323, '특히': 2324, '도망치다': 2325, '맺다': 2326, '흉': 2327, '코로나바이러스': 2328, '휠체어': 2329, '알리': 2330, '불공평하다': 2331, '귀엽다': 2332, '일부': 2333, '공기': 2334, '신문': 2335, '입양': 2336, '하고는': 2337, '예방': 2338, '전달': 2339, '쓰리다': 2340, '문과': 2341, '기복': 2342, '상하': 2343, '온대': 2344, '다단계': 2345, '손실': 2346, '내심': 2347, '심각해지다': 2348, '캠핑': 2349, '보약': 2350, '한동안': 2351, '척도': 2352, '낙': 2353, '찬': 2354, '청': 2355, '감축': 2356, '문서': 2357, '프로그램': 2358, '어디서': 2359, '성사': 2360, '거두다': 2361, '기념': 2362, '급격하다': 2363, '팔이': 2364, '방귀': 2365, '수영': 2366, '먹고살다': 2367, '허탈하다': 2368, '식탁': 2369, '넘치다': 2370, '차서': 2371, '아부': 2372, '자유롭다': 2373, '귀농': 2374, '수익률': 2375, '맘대로': 2376, '협박': 2377, '시험지': 2378, '교회': 2379, '로서': 2380, '늘어놓다': 2381, '생기지': 2382, '꼴다': 2383, '절대로': 2384, '휴일': 2385, '쌀쌀': 2386, '유명하다': 2387, '고통': 2388, '불면증': 2389, '완성': 2390, '요통': 2391, '조카': 2392, '차례': 2393, '다정하다': 2394, '괘씸하다': 2395, '부러워하다': 2396, '좀처럼': 2397, '편애': 2398, '드라마': 2399, '기초': 2400, '나하': 2401, '직속': 2402, '한순간': 2403, '동업': 2404, '우유': 2405, '보이스피싱': 2406, '진': 2407, '슬픔': 2408, '재택근무': 2409, '청약': 2410, '으론': 2411, '어버이날': 2412, '직전': 2413, '기념일': 2414, '외근': 2415, '양가': 2416, '동시': 2417, '꼬이다': 2418, '온갖': 2419, '일과': 2420, '상관없다': 2421, '싸': 2422, '공채': 2423, '보험료': 2424, '강제': 2425, '연말': 2426, '홈쇼핑': 2427, '정책': 2428, '알리다': 2429, '화장품': 2430, '채팅': 2431, '신혼여행': 2432, '수행': 2433, '뒤늦다': 2434, '강의': 2435, '노름': 2436, '방이': 2437, '비염': 2438, '학자금': 2439, '쓰레기': 2440, '바닥나다': 2441, '서비스': 2442, '바치다': 2443, '가수': 2444, '란': 2445, '변기': 2446, '찢어지다': 2447, '흐르다': 2448, '머리카락': 2449, '기계로': 2450, '발언': 2451, '망': 2452, '물가': 2453, '의료': 2454, '생리': 2455, '포함': 2456, '내미다': 2457, '마음먹다': 2458, '감다': 2459, '놔두다': 2460, '병동': 2461, '별것': 2462, '길거리': 2463, '따뜻하다': 2464, '브랜드': 2465, '비혼': 2466, '실장': 2467, '자체': 2468, '실제': 2469, '비아': 2470, '냥': 2471, '생명': 2472, '익숙해지다': 2473, '떡': 2474, '이냐': 2475, '조직': 2476, '뜸': 2477, '으로의': 2478, '국가': 2479, '시술': 2480, '종합': 2481, '영상': 2482, '보시': 2483, '협상': 2484, '길다': 2485, '밝히다': 2486, '하소연': 2487, '정확하다': 2488, '불친절하다': 2489, '지저분하다': 2490, '기만': 2491, '인제': 2492, '일거리': 2493, '간절하다': 2494, '방향': 2495, '대박': 2496, '보상': 2497, '쫓겨나다': 2498, '모시다': 2499, '몸무게': 2500, '노망': 2501, '이기': 2502, '통지': 2503, '지는': 2504, '의문': 2505, '끓이다': 2506, '장만': 2507, '투석': 2508, '변경': 2509, '배달': 2510, '상위': 2511, '신규': 2512, '주눅': 2513, '화도': 2514, '주고받다': 2515, '돌아보다': 2516, '로만': 2517, '응급실': 2518, '공장': 2519, '진작': 2520, '번거롭다': 2521, '방식': 2522, '문득': 2523, '출퇴근': 2524, '탈': 2525, '현금': 2526, '등록': 2527, '닦달': 2528, '파일': 2529, '학창': 2530, '질': 2531, '희망이': 2532, '끼치다': 2533, '걱정거리': 2534, '단둘': 2535, '인들': 2536, '하루아침': 2537, '층': 2538, '작': 2539, '영원하다': 2540, '호전': 2541, '좁다': 2542, '평온하다': 2543, '착각': 2544, '곗돈': 2545, '놀': 2546, '제발': 2547, '매주': 2548, '성과급': 2549, '살짝': 2550, '회원': 2551, '타지': 2552, '운': 2553, '외면': 2554, '배치': 2555, '당선': 2556, '선임': 2557, '허망': 2558, '차장': 2559, '의심스럽다': 2560, '학부모': 2561, '부턴': 2562, '저금': 2563, '대장': 2564, '교제': 2565, '로운': 2566, '콜레스테롤': 2567, '혈당': 2568, '백화점': 2569, '커플': 2570, '독서실': 2571, '거슬리다': 2572, '발전': 2573, '노약': 2574, '재미없다': 2575, '하고도': 2576, '은사': 2577, '온통': 2578, '무니': 2579, '모자라': 2580, '큰소리': 2581, '사기꾼': 2582, '스마트폰': 2583, '입대': 2584, '가까이': 2585, '서먹해지다': 2586, '불안감': 2587, '후유증': 2588, '조원': 2589, '공허하다': 2590, '틀니': 2591, '지불': 2592, '치질': 2593, '선뜻': 2594, '안해': 2595, '지고': 2596, '간단하다': 2597, '켜다': 2598, '문화': 2599, '공기업': 2600, '술집': 2601, '여생': 2602, '진상': 2603, '꼴등': 2604, '하찮다': 2605, '에이': 2606, '야단': 2607, '건망증': 2608, '혹': 2609, '꾸짖다': 2610, '푹': 2611, '처남': 2612, '비우다': 2613, '그랬는데': 2614, '늦둥이': 2615, '간의': 2616, '얘길': 2617, '비행기': 2618, '난처하다': 2619, '수험생': 2620, '약점': 2621, '추다': 2622, '그건': 2623, '한시름': 2624, '복용': 2625, '병세': 2626, '등수': 2627, '행복': 2628, '이를': 2629, '사돈': 2630, '사지': 2631, '뇌종양': 2632, '지루하다': 2633, '추가': 2634, '진정하다': 2635, '졸업식': 2636, '성별': 2637, '꾸리다': 2638, '갈등': 2639, '한쪽': 2640, '미련': 2641, '살날': 2642, '채우다': 2643, '유부': 2644, '매달리다': 2645, '정산': 2646, '리지': 2647, '슈퍼': 2648, '육아휴직': 2649, '학벌': 2650, '직급': 2651, '벅차다': 2652, '누르다': 2653, '혼수': 2654, '몽땅': 2655, '부작용': 2656, '꼼짝': 2657, '이니까': 2658, '이런저런': 2659, '장학금': 2660, '승인': 2661, '잘생기다': 2662, '투정': 2663, '천만': 2664, '예금': 2665, '화려하다': 2666, '죽겠네': 2667, '이모': 2668, '가리다': 2669, '명문': 2670, '지향': 2671, '에스': 2672, '인맥': 2673, '분담': 2674, '가을': 2675, '달성': 2676, '절친': 2677, '차질': 2678, '뒷담화': 2679, '거짓': 2680, '뒤통수': 2681, '덮다': 2682, '전보': 2683, '목적': 2684, '완주': 2685, '게임기': 2686, '성질': 2687, '화장': 2688, '폭': 2689, '서울대': 2690, '상당하다': 2691, '울적하다': 2692, '부리고': 2693, '는커녕': 2694, '헛소문': 2695, '래서': 2696, '구속': 2697, '교과서': 2698, '뵈다': 2699, '분하다': 2700, '임금': 2701, '편의점': 2702, '가출': 2703, '서서': 2704, '애정': 2705, '상치': 2706, '제시': 2707, '살라': 2708, '결혼식장': 2709, '이제껏': 2710, '도시락': 2711, '감시': 2712, '고프다': 2713, '기준': 2714, '톡': 2715, '분들': 2716, '사직서': 2717, '굳이': 2718, '꼼꼼하다': 2719, '합격자': 2720, '늘리다': 2721, '모처럼': 2722, '단어': 2723, '케이크': 2724, '퍼지다': 2725, '철수': 2726, '비타민': 2727, '장난감': 2728, '마음껏': 2729, '진절머리': 2730, '빵': 2731, '접근': 2732, '설거지': 2733, '자석': 2734, '허약하다': 2735, '번호': 2736, '게으르다': 2737, '누명': 2738, '인수': 2739, '속마음': 2740, '동자': 2741, '가발': 2742, '건드리다': 2743, '겨울': 2744, '입장': 2745, '장래희망': 2746, '결재': 2747, '도무지': 2748, '도시': 2749, '장모님': 2750, '최신': 2751, '홍삼': 2752, '최대한': 2753, '빼앗다': 2754, '렸': 2755, '삼다': 2756, '증거': 2757, '모이': 2758, '후원': 2759, '실감': 2760, '취하': 2761, '청첩장': 2762, '낚시': 2763, '적극': 2764, '표': 2765, '아버님': 2766, '태풍': 2767, '집의': 2768, '첫째': 2769, '떼': 2770, '본가': 2771, '외도': 2772, '일구': 2773, '수면': 2774, '폐업': 2775, '시누이': 2776, '두려움': 2777, '알코올': 2778, '어휴': 2779, '근육': 2780, '넘겨주다': 2781, '이익': 2782, '말투': 2783, '가보': 2784, '가능성': 2785, '부유하다': 2786, '참담하다': 2787, '침': 2788, '사적': 2789, '뒷말': 2790, '부지런하다': 2791, '학급': 2792, '만들기': 2793, '연속': 2794, '세계': 2795, '일억': 2796, '거동': 2797, '충돌': 2798, '소리치다': 2799, '팔고': 2800, '반려': 2801, '난동': 2802, '권고': 2803, '진정': 2804, '저리다': 2805, '채소': 2806, '찢다': 2807, '퍼센트': 2808, '다루다': 2809, '이쁘다': 2810, '다짜고짜': 2811, '성추행': 2812, '트라우마': 2813, '일흔': 2814, '접촉': 2815, '적도': 2816, '중풍': 2817, '졸라': 2818, '굶다': 2819, '별일': 2820, '혜택': 2821, '폭언': 2822, '낙하산': 2823, '주네': 2824, '틀어지다': 2825, '환멸감': 2826, '자동차': 2827, '단순': 2828, '화분': 2829, '기증': 2830, '연기': 2831, '늙은이': 2832, '멋있다': 2833, '퍼트': 2834, '붉다': 2835, '는걸': 2836, '모레': 2837, '단순하다': 2838, '끝내': 2839, '학습': 2840, '오십이': 2841, '살갑': 2842, '어르신': 2843, '끼니': 2844, '액수': 2845, '반기다': 2846, '휘두르다': 2847, '마땅하다': 2848, '일일이': 2849, '워크숍': 2850, '고작': 2851, '간병인': 2852, '심사': 2853, '빠듯한데': 2854, '폭발': 2855, '한창': 2856, '축': 2857, '냉장고': 2858, '주더': 2859, '적지': 2860, '헌신': 2861, '중단': 2862, '제의': 2863, '방치': 2864, '보험사': 2865, '목숨': 2866, '출근길': 2867, '기관지염': 2868, '기능': 2869, '골': 2870, '옷차림': 2871, '시국': 2872, '불량': 2873, '의대': 2874, '정직': 2875, '수령': 2876, '보증금': 2877, '이상은': 2878, '지은': 2879, '보통': 2880, '엊그제': 2881, '성형': 2882, '바다': 2883, '화만': 2884, '잡': 2885, '하교': 2886, '차로': 2887, '홀가분하다': 2888, '고치': 2889, '역할': 2890, '물리치료': 2891, '과일': 2892, '계주': 2893, '한약': 2894, '순위': 2895, '투': 2896, '만만하다': 2897, '리': 2898, '사채': 2899, '빈혈': 2900, '곤': 2901, '잘나가다': 2902, '빌다': 2903, '결핵': 2904, '까다롭다': 2905, '오토바이': 2906, '농담': 2907, '새우다': 2908, '최악': 2909, '충당': 2910, '복학': 2911, '교사': 2912, '온라인': 2913, '과자': 2914, '강하다': 2915, '문병': 2916, '안경': 2917, '대처': 2918, '불안정하다': 2919, '대고': 2920, '깨끗하다': 2921, '빼앗기다': 2922, '오백만': 2923, '물러나다': 2924, '달래다': 2925, '이과': 2926, '채택': 2927, '억': 2928, '음주운전': 2929, '피로': 2930, '배정': 2931, '호스피스': 2932, '아래': 2933, '철저하다': 2934, '굽다': 2935, '고발': 2936, '판': 2937, '식이': 2938, '입자': 2939, '시스템': 2940, '아주머니': 2941, '소화': 2942, '신기하다': 2943, '가신': 2944, '친정엄마': 2945, '간경변증': 2946, '가르다': 2947, '등교': 2948, '하늘나라': 2949, '부족': 2950, '예식장': 2951, '이따금': 2952, '사려': 2953, '임용고시': 2954, '헬스': 2955, '달려오다': 2956, '보호자': 2957, '연루': 2958, '섞이다': 2959, '야간': 2960, '직장인': 2961, '머릿속': 2962, '하든': 2963, '여태껏': 2964, '노릇': 2965, '사위': 2966, '필라테스': 2967, '약국': 2968, '증후군': 2969, '감격': 2970, '질책': 2971, '정답': 2972, '함': 2973, '사항': 2974, '적자': 2975, '예물': 2976, '손가락': 2977, '전날': 2978, '퇴임': 2979, '으로부터': 2980, '백혈병': 2981, '동거': 2982, '물이': 2983, '시세': 2984, '꾀병': 2985, '저혈압': 2986, '부터는': 2987, '붙잡다': 2988, '주머니': 2989, '기본': 2990, '담': 2991, '그날': 2992, '저렇다': 2993, '그토록': 2994, '교류': 2995, '끌다': 2996, '과중': 2997, '나은': 2998, '적당하다': 2999, '무심하다': 3000, '수준': 3001, '우승': 3002, '췌장암': 3003, '휴학': 3004, '취': 3005, '가망': 3006, '쏙': 3007, '수당': 3008, '새엄마': 3009, '작품': 3010, '부리': 3011, '수중': 3012, '조롱': 3013, '합의': 3014, '제도': 3015, '지나': 3016, '깔다': 3017, '분노하다': 3018, '서랍': 3019, '십년지기': 3020, '쓰레기통': 3021, '삼촌': 3022, '그만큼': 3023, '우린': 3024, '가득하다': 3025, '십대': 3026, '뜯다': 3027, '막내아들': 3028, '기구': 3029, '만사': 3030, '사랑받다': 3031, '수급': 3032, '효율': 3033, '투성이': 3034, '몸매': 3035, '기숙사': 3036, '졸다': 3037, '결근': 3038, '증세': 3039, '제자': 3040, '소음': 3041, '무단': 3042, '끊임없다': 3043, '미세먼지': 3044, '학생회장': 3045, '돌아서다': 3046, '개선': 3047, '셔': 3048, '돕다': 3049, '조퇴': 3050, '굽': 3051, '에다': 3052, '카카오': 3053, '메신저': 3054, '콘서트': 3055, '품': 3056, '미움': 3057, '신용': 3058, '동의': 3059, '톡방': 3060, '꾸중': 3061, '규칙': 3062, '낮아지다': 3063, '성장하다': 3064, '검토': 3065, '부상': 3066, '위급하다': 3067, '관계도': 3068, '비키다': 3069, '대부분': 3070, '몰려오다': 3071, '유튜브': 3072, '교내': 3073, '보단': 3074, '경비': 3075, '경매': 3076, '감각': 3077, '돼지': 3078, '장수': 3079, '실리다': 3080, '쑥스럽다': 3081, '벌레': 3082, '배다': 3083, '외제': 3084, '활': 3085, '위험': 3086, '상담사': 3087, '뵙다': 3088, '대기': 3089, '깁스': 3090, '침침하다': 3091, '꼬투리': 3092, '택배': 3093, '텅': 3094, '싸다': 3095, '일어나지': 3096, '극적': 3097, '횡령': 3098, '인계': 3099, '죄송스럽다': 3100, '밀리': 3101, '복도': 3102, '말썽': 3103, '일으키다': 3104, '상가': 3105, '흥미': 3106, '멍청하다': 3107, '만을': 3108, '어둡다': 3109, '자서': 3110, '공개': 3111, '천': 3112, '그렇다고': 3113, '목욕탕': 3114, '알바': 3115, '직종': 3116, '범위': 3117, '독서': 3118, '발작': 3119, '임플란트': 3120, '서먹하다': 3121, '후의': 3122, '벗다': 3123, '섞다': 3124, '걸어오다': 3125, '전화번호': 3126, '개발': 3127, '졸': 3128, '음성': 3129, '향': 3130, '꾸지람': 3131, '주임': 3132, '체육복': 3133, '끼어들다': 3134, '삶다': 3135, '마주': 3136, '임종': 3137, '모시': 3138, '네트워크': 3139, '변': 3140, '밀치다': 3141, '건네다': 3142, '과를': 3143, '알레르기': 3144, '옛말': 3145, '틀림없다': 3146, '삭감': 3147, '대중교통': 3148, '던': 3149, '믿어지다': 3150, '중독': 3151, '치레': 3152, '가식': 3153, '소견': 3154, '가사': 3155, '화재': 3156, '겉도': 3157, '주장': 3158, '조직검사': 3159, '쌍둥이': 3160, '소비': 3161, '호텔': 3162, '옛': 3163, '폐경': 3164, '잘만': 3165, '풍족하다': 3166, '접수': 3167, '날씬하다': 3168, '위층': 3169, '다해': 3170, '이해해': 3171, '주저앉다': 3172, '쌀': 3173, '산더미': 3174, '입덧': 3175, '안이': 3176, '서도': 3177, '의료기기': 3178, '유출': 3179, '흔쾌하다': 3180, '절약': 3181, '원만하다': 3182, '상여금': 3183, '시합': 3184, '남성': 3185, '누락': 3186, '생산': 3187, '워낙': 3188, '라고는': 3189, '수상하다': 3190, '서서히': 3191, '엄살': 3192, '보다도': 3193, '설': 3194, '유튜버': 3195, '강도': 3196, '식장': 3197, '딸내미': 3198, '무': 3199, '긁다': 3200, '휴식': 3201, '지식': 3202, '끌': 3203, '앞집': 3204, '들통': 3205, '경제력': 3206, '절반': 3207, '정정': 3208, '여력': 3209, '따라다니다': 3210, '유능하다': 3211, '언성': 3212, '시계': 3213, '가담': 3214, '만치': 3215, '스무': 3216, '겸': 3217, '인걸': 3218, '운명': 3219, '학대': 3220, '손목': 3221, '맛없다': 3222, '치기': 3223, '승낙': 3224, '보호': 3225, '재무': 3226, '장래': 3227, '삐지다': 3228, '보더': 3229, '기러기': 3230, '즙': 3231, '낭비': 3232, '노안': 3233, '대형': 3234, '더듬다': 3235, '가계부': 3236, '평판': 3237, '간이': 3238, '쏘다': 3239, '불합리': 3240, '최저': 3241, '담당자': 3242, '민간요법': 3243, '딸도': 3244, '이라고는': 3245, '하나같이': 3246, '푸다': 3247, '독거': 3248, '마이너스': 3249, '인력': 3250, '충': 3251, '범죄': 3252, '근속': 3253, '월요일': 3254, '단골': 3255, '동년배': 3256, '명예': 3257, '라니까': 3258, '끼우다': 3259, '상무': 3260, '웃기다': 3261, '남인': 3262, '기저귀': 3263, '체육관': 3264, '우승하다': 3265, '뺨': 3266, '코지': 3267, '예순': 3268, '만으로는': 3269, '만은': 3270, '구역': 3271, '연장': 3272, '욕설': 3273, '당일': 3274, '어쩌다': 3275, '손잡다': 3276, '강사': 3277, '놀이동산': 3278, '염': 3279, '주사기': 3280, '대출받다': 3281, '소득': 3282, '액': 3283, '텃세': 3284, '일진': 3285, '신사': 3286, '정신과': 3287, '문화센터': 3288, '만점': 3289, '뮤지컬': 3290, '가계': 3291, '수발': 3292, '빈털터리': 3293, '압류': 3294, '와중': 3295, '방역': 3296, '부부싸움': 3297, '현관': 3298, '주부': 3299, '안보': 3300, '빨르다': 3301, '근력': 3302, '노리': 3303, '떠올리다': 3304, '주차': 3305, '기기': 3306, '오류': 3307, '라지': 3308, '구조': 3309, '았': 3310, '만남': 3311, '스타일': 3312, '부잣집': 3313, '바깥': 3314, '조치': 3315, '동성': 3316, '달려가다': 3317, '만족': 3318, '쏟아지다': 3319, '불필요하다': 3320, '내쫓다': 3321, '부어': 3322, '스킨십': 3323, '정치': 3324, '드릴': 3325, '속도': 3326, '말대꾸': 3327, '무관심하다': 3328, '은커녕': 3329, '유명': 3330, '가라앉다': 3331, '작고': 3332, '권태기': 3333, '도리어': 3334, '정성껏': 3335, '심장병': 3336, '전역': 3337, '위염': 3338, '괜': 3339, '이중': 3340, '훌륭하다': 3341, '극': 3342, '순이': 3343, '편찮다': 3344, '캄캄하다': 3345, '대우': 3346, '연수': 3347, '부치다': 3348, '걸음': 3349, '출발': 3350, '들여다보다': 3351, '아가씨': 3352, '체질': 3353, '호감': 3354, '슬쩍': 3355, '마시기': 3356, '극복': 3357, '배우': 3358, '수월하다': 3359, '쉰': 3360, '죄다': 3361, '나잇': 3362, '비서': 3363, '타박': 3364, '희귀': 3365, '오후': 3366, '납품': 3367, '계모임': 3368, '스카우트': 3369, '망신': 3370, '촬영': 3371, '약사': 3372, '외우다': 3373, '통쾌하다': 3374, '반려견': 3375, '명확하다': 3376, '상냥하다': 3377, '무급': 3378, '과실': 3379, '틀어박히다': 3380, '대수롭다': 3381, '심다': 3382, '밟다': 3383, '빼먹다': 3384, '피아노': 3385, '암울하다': 3386, '주름': 3387, '보양식': 3388, '무인도': 3389, '신부전증': 3390, '언행': 3391, '허세': 3392, '낯설다': 3393, '응대': 3394, '해주': 3395, '볼펜': 3396, '신혼집': 3397, '피우지': 3398, '년도': 3399, '박히다': 3400, '악한': 3401, '애도': 3402, '감염': 3403, '외부': 3404, '위자료': 3405, '잘해야': 3406, '찌': 3407, '져서': 3408, '문신': 3409, '밝혀지다': 3410, '주니': 3411, '낙방': 3412, '채점': 3413, '협심증': 3414, '자율학습': 3415, '사라': 3416, '물혹': 3417, '동영상': 3418, '자연': 3419, '꼬박꼬박': 3420, '견제': 3421, '뱉다': 3422, '이러니까': 3423, '이던': 3424, '구석': 3425, '인스타그램': 3426, '벌이다': 3427, '극단': 3428, '그거': 3429, '돈벌이': 3430, '총무': 3431, '틀다': 3432, '치마': 3433, '정장': 3434, '유급': 3435, '자유': 3436, '반영': 3437, '실내': 3438, '구두': 3439, '정직하다': 3440, '안주': 3441, '쥐다': 3442, '뒷전': 3443, '사신': 3444, '뿌리다': 3445, '이루어지다': 3446, '흔들리다': 3447, '재료': 3448, '긍정': 3449, '해방': 3450, '턱걸이': 3451, '기립': 3452, '정해지다': 3453, '위태': 3454, '아랫': 3455, '경과': 3456, '기세': 3457, '미처': 3458, '한텐': 3459, '기어': 3460, '퍼뜨리': 3461, '마디': 3462, '투명인간': 3463, '선수': 3464, '별다르다': 3465, '캐': 3466, '금요일': 3467, '해치다': 3468, '퇴근길': 3469, '공격': 3470, '수십': 3471, '담다': 3472, '부서장': 3473, '야구': 3474, '그랬더니': 3475, '덜다': 3476, '공유': 3477, '급': 3478, '교복': 3479, '형수': 3480, '만원': 3481, '유난': 3482, '보복': 3483, '매력': 3484, '덩달아': 3485, '차지': 3486, '툴툴댔어': 3487, '접': 3488, '원수': 3489, '꾸미다': 3490, '꽃다발': 3491, '당구': 3492, '살아나다': 3493, '대꾸': 3494, '밀다': 3495, '놀이터': 3496, '싱겁다': 3497, '거란': 3498, '부터라도': 3499, '누군지': 3500, '반년': 3501, '인스턴트': 3502, '잔병치레': 3503, '저항': 3504, '디자인': 3505, '올': 3506, '자로': 3507, '산후조리원': 3508, '지연': 3509, '넓다': 3510, '이대': 3511, '자궁': 3512, '무뚝뚝하다': 3513, '드라이브': 3514, '정학': 3515, '정지': 3516, '운동장': 3517, '골절': 3518, '사가': 3519, '예고': 3520, '인거': 3521, '오진': 3522, '증언': 3523, '음': 3524, '역': 3525, '하객': 3526, '공간': 3527, '지난해': 3528, '딱하다': 3529, '서두르다': 3530, '근심': 3531, '갑갑하다': 3532, '불안': 3533, '대상자': 3534, '부사': 3535, '공경': 3536, '따지다': 3537, '중환자실': 3538, '악성': 3539, '영영': 3540, '대학병원': 3541, '이신': 3542, '쟤': 3543, '과금': 3544, '찌르다': 3545, '자세하다': 3546, '영희': 3547, '수술실': 3548, '완쾌': 3549, '중도': 3550, '투덜거리다': 3551, '매월': 3552, '친목': 3553, '곧바로': 3554, '적적하다': 3555, '엘리베이터': 3556, '버튼': 3557, '꽃': 3558, '호흡기': 3559, '탕': 3560, '메일': 3561, '복귀': 3562, '께선': 3563, '종목': 3564, '지게': 3565, '볼일': 3566, '비위': 3567, '간만': 3568, '단벌': 3569, '체크': 3570, '도우': 3571, '겨': 3572, '되찾다': 3573, '한계': 3574, '고독사': 3575, '업다': 3576, '끌리다': 3577, '방지': 3578, '수습': 3579, '예산': 3580, '유치원': 3581, '단칸': 3582, '주도하다': 3583, '올바르다': 3584, '크리스마스': 3585, '부린다': 3586, '구급차': 3587, '생색': 3588, '제거': 3589, '장거리': 3590, '안과': 3591, '분만': 3592, '쪽지': 3593, '전문가': 3594, '떼다': 3595, '박해': 3596, '이기도': 3597, '가나': 3598, '힘쓰다': 3599, '남자에게': 3600, '주제': 3601, '여자애': 3602, '저런': 3603, '임대': 3604, '어느덧다': 3605, '밤새우다': 3606, '때로는': 3607, '놀래다': 3608, '토막': 3609, '클럽': 3610, '선정': 3611, '번다': 3612, '토익': 3613, '개다': 3614, '낯선': 3615, '아흔': 3616, '퍼붓다': 3617, '빠듯해': 3618, '상속': 3619, '입히다': 3620, '난청': 3621, '성하다': 3622, '쫓아내다': 3623, '꿇다': 3624, '요가': 3625, '가만두다': 3626, '동서': 3627, '자도': 3628, '고소하다': 3629, '제멋대로': 3630, '내색': 3631, '심부전증': 3632, '오기': 3633, '엠티': 3634, '벽': 3635, '예단': 3636, '체계': 3637, '사치': 3638, '살찌다': 3639, '출가': 3640, '주선': 3641, '절제': 3642, '미대': 3643, '작가': 3644, '겹': 3645, '구토': 3646, '관리사': 3647, '리기': 3648, '오디션': 3649, '참으로': 3650, '지끈': 3651, '능률': 3652, '허가': 3653, '권위': 3654, '안면': 3655, '오줌': 3656, '정의': 3657, '외국인': 3658, '이어지다': 3659, '상쾌하다': 3660, '률': 3661, '솜씨': 3662, '도우미': 3663, '노크': 3664, '정성': 3665, '착실하다': 3666, '돌이키다': 3667, '활발하다': 3668, '해약': 3669, '부위': 3670, '처량하다': 3671, '가벼워지다': 3672, '소셜': 3673, '주방': 3674, '소파': 3675, '무난': 3676, '부딪치다': 3677, '모자': 3678, '대입': 3679, '밥상': 3680, '준비물': 3681, '판단': 3682, '이웃집': 3683, '사나': 3684, '몇몇': 3685, '폐가': 3686, '흉하다': 3687, '마취': 3688, '경향': 3689, '평일': 3690, '시험관': 3691, '엉뚱하다': 3692, '합의금': 3693, '실험': 3694, '동떨어지다': 3695, '기쁨': 3696, '확정': 3697, '동결': 3698, '소아': 3699, '가두다': 3700, '조정': 3701, '제대': 3702, '공휴일': 3703, '고시': 3704, '땀': 3705, '샤워': 3706, '마찰': 3707, '전문': 3708, '양말': 3709, '수리': 3710, '트러블': 3711, '한평생': 3712, '피고': 3713, '사교성': 3714, '찍히다': 3715, '붙이다': 3716, '난대': 3717, '바람나다': 3718, '축복': 3719, '제약': 3720, '썩': 3721, '방광염': 3722, '원망하다': 3723, '안내': 3724, '체험': 3725, '길가': 3726, '창고': 3727, '꽁초': 3728, '매정하다': 3729, '위협': 3730, '각방': 3731, '걸치다': 3732, '식욕': 3733, '채널': 3734, '텃밭': 3735, '백세': 3736, '멸시': 3737, '실컷': 3738, '오른': 3739, '종업원': 3740, '밑': 3741, '멍하다': 3742, '땅값': 3743, '베풀다': 3744, '언짢다': 3745, '감옥': 3746, '통금': 3747, '프로게이머': 3748, '영양': 3749, '잠그다': 3750, '테스트': 3751, '모델': 3752, '까진': 3753, '수년': 3754, '장염': 3755, '경비원': 3756, '이미지': 3757, '볶다': 3758, '휘': 3759, '피로하다': 3760, '먹이': 3761, '젊음': 3762, '닿다': 3763, '게이트볼': 3764, '주목': 3765, '살걸': 3766, '필통': 3767, '만년': 3768, '천만다행': 3769, '낡다': 3770, '자지': 3771, '열정': 3772, '해산물': 3773, '음주': 3774, '노래방': 3775, '불임': 3776, '건네주다': 3777, '재판': 3778, '병마': 3779, '그나마': 3780, '별문제': 3781, '정밀검사': 3782, '신다': 3783, '안절부절': 3784, '불량하다': 3785, '사이좋다': 3786, '모집': 3787, '연극': 3788, '데뷔': 3789, '흐리다': 3790, '뻐근하다': 3791, '미역국': 3792, '자세': 3793, '한국사': 3794, '달도': 3795, '파산': 3796, '선글라스': 3797, '몫': 3798, '그린': 3799, '몇십': 3800, '침체': 3801, '미흡하다': 3802, '띄다': 3803, '안남다': 3804, '누굴': 3805, '그땐': 3806, '기절': 3807, '주간': 3808, '정색': 3809, '진자': 3810, '탁구': 3811, '툭툭': 3812, '전쟁': 3813, '류머티즘': 3814, '유전': 3815, '부족함': 3816, '헛살았': 3817, '뇌수막염': 3818, '편두통': 3819, '열사병': 3820, '들뜨다': 3821, '어보': 3822, '혈변': 3823, '분배': 3824, '복': 3825, '장도': 3826, '미끄러지다': 3827, '마르다': 3828, '무의미하다': 3829, '판이': 3830, '기관지': 3831, '흥청망청': 3832, '위아래': 3833, '하반기': 3834, '유럽': 3835, '빈곤': 3836, '숨쉬기': 3837, '입상': 3838, '손찌검': 3839, '심리': 3840, '경조사': 3841, '종교': 3842, '수다': 3843, '밀려오다': 3844, '반지': 3845, '바늘': 3846, '못자다': 3847, '초등학생': 3848, '산업': 3849, '국내': 3850, '뽀뽀': 3851, '피드백': 3852, '식은땀': 3853, '손바닥': 3854, '소송': 3855, '똥': 3856, '고소': 3857, '측정': 3858, '경치': 3859, '내려지다': 3860, '변호사': 3861, '뜻': 3862, '따라잡다': 3863, '진찰': 3864, '아토피': 3865, '자극': 3866, '급성': 3867, '어쩌나': 3868, '갇히다': 3869, '걸어가다': 3870, '전망': 3871, '보도': 3872, '증오': 3873, '아마도': 3874, '승승장구': 3875, '야유회': 3876, '잡기': 3877, '유부녀': 3878, '골치': 3879, '가정폭력': 3880, '야식': 3881, '쓴소리': 3882, '여든': 3883, '말수': 3884, '매점': 3885, '골다': 3886, '바지': 3887, '작은아들': 3888, '감싸다': 3889, '밤늦다': 3890, '등하교': 3891, '성향': 3892, '낯가림': 3893, '시원하다': 3894, '희다': 3895, '얻어먹다': 3896, '실습': 3897, '필수': 3898, '뚜렷하다': 3899, '솟다': 3900, '논': 3901, '비실': 3902, '깜빡깜빡': 3903, '안나': 3904, '축가': 3905, '참가': 3906, '머물다': 3907, '들르다': 3908, '팀워크': 3909, '격리': 3910, '밤새다': 3911, '정당하다': 3912, '공사': 3913, '리더': 3914, '화낼': 3915, '버는데': 3916, '둘러보다': 3917, '고지식하다': 3918, '눈빛': 3919, '신약': 3920, '고급': 3921, '승무원': 3922, '원한': 3923, '차림': 3924, '은퇴식': 3925, '쓴다': 3926, '해대': 3927, '시아버지': 3928, '생인': 3929, '모로': 3930, '신혼부부': 3931, '찝찝하다': 3932, '불화': 3933, '자제': 3934, '잡아먹다': 3935, '트림': 3936, '불어': 3937, '충고': 3938, '기밀': 3939, '차마': 3940, '흉보다': 3941, '벗': 3942, '해드리다': 3943, '지방간': 3944, '향상': 3945, '처참하다': 3946, '소질': 3947, '두절': 3948, '노년기': 3949, '허다': 3950, '쪽방': 3951, '이상형': 3952, '상한': 3953, '복부': 3954, '상관': 3955, '불법': 3956, '손가락질': 3957, '간염': 3958, '빨래': 3959, '량': 3960, '중식': 3961, '노고': 3962, '점검': 3963, '미용실': 3964, '건성': 3965, '번듯하다': 3966, '조가': 3967, '전담': 3968, '밀': 3969, '불리하다': 3970, '간경화': 3971, '교통': 3972, '보청기': 3973, '마자': 3974, '청춘': 3975, '연락처': 3976, '결': 3977, '나무라다': 3978, '연령': 3979, '물품': 3980, '약물': 3981, '주먹': 3982, '국': 3983, '산후': 3984, '사오': 3985, '회계사': 3986, '뜨겁다': 3987, '노동': 3988, '착취': 3989, '두서': 3990, '짝꿍': 3991, '유전자': 3992, '식다': 3993, '수고': 3994, '소풍': 3995, '점원': 3996, '십만': 3997, '방과': 3998, '파킨슨병': 3999, '방안': 4000, '외국어': 4001, '귀촌': 4002, '홧김': 4003, '그랬다고': 4004, '묻히다': 4005, '어쩐지': 4006, '면박': 4007, '혼수상태': 4008, '앞서다': 4009, '깔끔하다': 4010, '보채다': 4011, '극도': 4012, '대견하다': 4013, '멍': 4014, '자국': 4015, '유난히': 4016, '가뜩이나': 4017, '유세': 4018, '화내': 4019, '유치하다': 4020, '용품': 4021, '쫓다': 4022, '호흡': 4023, '커플링': 4024, '알아듣다': 4025, '어떠하다': 4026, '흐뭇하다': 4027, '고도': 4028, '전셋집': 4029, '말리': 4030, '나기': 4031, '믿음직하다': 4032, '외제차': 4033, '패혈증': 4034, '재계약': 4035, '가짜': 4036, '맥주': 4037, '찜질방': 4038, '구석구석': 4039, '병가': 4040, '깜박': 4041, '나나': 4042, '진도': 4043, '실태': 4044, '창문': 4045, '살맛': 4046, '독신': 4047, '고사하고': 4048, '닥치다': 4049, '규모': 4050, '안중': 4051, '무례하다': 4052, '중개인': 4053, '대뜸': 4054, '취한': 4055, '키스': 4056, '어딘가': 4057, '촌스럽다': 4058, '공식': 4059, '일지': 4060, '반납': 4061, '양다리': 4062, '앞서': 4063, '운전면허': 4064, '이래도': 4065, '만두': 4066, '가정부': 4067, '정거장': 4068, '홍수': 4069, '말문': 4070, '숱': 4071, '힘없다': 4072, '죽이다': 4073, '위선': 4074, '소릴': 4075, '설득': 4076, '경영': 4077, '래야': 4078, '관리자': 4079, '주거': 4080, '이래서': 4081, '크기': 4082, '모금': 4083, '일기': 4084, '계곡': 4085, '온화하다': 4086, '움큼': 4087, '정반대': 4088, '또다시': 4089, '폐결핵': 4090, '썩다': 4091, '중심': 4092, '딱지': 4093, '순식간': 4094, '모욕감': 4095, '녀': 4096, '잡일': 4097, '기존': 4098, '휴지': 4099, '피피티': 4100, '연구': 4101, '주제가': 4102, '대학가': 4103, '닫히다': 4104, '연휴': 4105, '짠하다': 4106, '근사하다': 4107, '어기다': 4108, '보내오다': 4109, '타령': 4110, '의하다': 4111, '재개발': 4112, '그릇': 4113, '반의': 4114, '한의원': 4115, '주의자': 4116, '입맛': 4117, '거꾸로': 4118, '아름답다': 4119, '만료': 4120, '각오': 4121, '구한': 4122, '보신': 4123, '부축': 4124, '덤벼': 4125, '구십': 4126, '옥상': 4127, '정신건강': 4128, '트렸': 4129, '내조': 4130, '찍기': 4131, '완료': 4132, '가시': 4133, '춤': 4134, '인신공격': 4135, '이도': 4136, '구질구질하다': 4137, '뇌경색': 4138, '그려지다': 4139, '십년': 4140, '햄버거': 4141, '적어지다': 4142, '불치': 4143, '똑똑하다': 4144, '영정': 4145, '설정': 4146, '버럭': 4147, '응급': 4148, '펀드매니저': 4149, '결과물': 4150, '부정맥': 4151, '칸': 4152, '일기장': 4153, '개운하다': 4154, '이주': 4155, '취득': 4156, '잔액': 4157, '아시': 4158, '펼치다': 4159, '수석': 4160, '성인병': 4161, '낙오': 4162, '선언': 4163, '뒷이야기': 4164, '실명': 4165, '어머님께': 4166, '기일': 4167, '꽉': 4168, '추억': 4169, '어쩌다가': 4170, '나라고': 4171, '호들갑': 4172, '정밀': 4173, '대사': 4174, '무능력하다': 4175, '벌어지다': 4176, '신체검사': 4177, '뜬금없이': 4178, '낙심': 4179, '식이요법': 4180, '임산부': 4181, '언쟁': 4182, '만드': 4183, '핵심': 4184, '유쾌하다': 4185, '환불': 4186, '경고': 4187, '무자식': 4188, '트레이너': 4189, '인색하다': 4190, '엄격하다': 4191, '팔리다': 4192, '일급': 4193, '두기': 4194, '강화': 4195, '맴돌다': 4196, '학창시절': 4197, '차고': 4198, '팔지': 4199, '모질다': 4200, '무력하다': 4201, '갑상선': 4202, '역사': 4203, '담그다': 4204, '김치': 4205, '한탄': 4206, '원피스': 4207, '황혼': 4208, '부고': 4209, '샘': 4210, '전기': 4211, '나아': 4212, '그룹': 4213, '성소수자': 4214, '학력': 4215, '지능': 4216, '메뉴': 4217, '족구': 4218, '중국': 4219, '캐나다': 4220, '오가다': 4221, '서슴없이': 4222, '인지도': 4223, '답변': 4224, '멋대로': 4225, '사생활': 4226, '힘내다': 4227, '치이다': 4228, '에어컨': 4229, '틀': 4230, '제품': 4231, '극심하다': 4232, '커녕': 4233, '뒹굴': 4234, '영정사진': 4235, '시설': 4236, '만하': 4237, '고달프다': 4238, '꿀': 4239, '전하': 4240, '높이다': 4241, '서글퍼지다': 4242, '자라': 4243, '프랜차이즈': 4244, '골골': 4245, '이니': 4246, '냉전': 4247, '먹어주다': 4248, '엎어지다': 4249, '납골당': 4250, '부산': 4251, '조깅': 4252, '주년': 4253, '막말': 4254, '경화': 4255, '기획서': 4256, '의논': 4257, '일상생활': 4258, '입사시험': 4259, '손대다': 4260, '양복': 4261, '석류': 4262, '취향': 4263, '씀씀이': 4264, '신입생': 4265, '환영': 4266, '호': 4267, '뇌수술': 4268, '마구': 4269, '음료수': 4270, '고정': 4271, '축제': 4272, '로라': 4273, '오락가락': 4274, '소름': 4275, '억이': 4276, '의치': 4277, '실종': 4278, '해당': 4279, '어처구니없다': 4280, '뺑소니': 4281, '고대': 4282, '비추다': 4283, '헛': 4284, '앞당기다': 4285, '양육비': 4286, '행운': 4287, '야호': 4288, '추워지다': 4289, '민폐': 4290, '복습': 4291, '어쩌려': 4292, '캠프': 4293, '보수': 4294, '욱해': 4295, '뚝': 4296, '툴툴거려': 4297, '필름': 4298, '보답': 4299, '뱃속': 4300, '교대': 4301, '혀': 4302, '박람회': 4303, '당직': 4304, '악취': 4305, '지장': 4306, '매형': 4307, '숙취': 4308, '실례': 4309, '용': 4310, '되레': 4311, '재력': 4312, '삼수': 4313, '적막하다': 4314, '튼튼하다': 4315, '건의': 4316, '교차': 4317, '되돌리다': 4318, '거짓말쟁이': 4319, '파악': 4320, '젠데': 4321, '발휘': 4322, '본부장': 4323, '산소': 4324, '밭': 4325, '독차지': 4326, '태산': 4327, '살펴보다': 4328, '종이': 4329, '라야': 4330, '가습기': 4331, '웬': 4332, '밥맛': 4333, '찬성': 4334, '공동': 4335, '영심': 4336, '헬스클럽': 4337, '품다': 4338, '위장': 4339, '야뇨증': 4340, '웨딩': 4341, '과로사': 4342, '씹다': 4343, '편입': 4344, '그이': 4345, '안일하다': 4346, '없애다': 4347, '탄탄하다': 4348, '신제품': 4349, '짚다': 4350, '잠자다': 4351, '수많다': 4352, '고령': 4353, '잠수': 4354, '트': 4355, '잇몸': 4356, '재검': 4357, '지망': 4358, '품절': 4359, '공지': 4360, '호르몬': 4361, '시원찮다': 4362, '닦다': 4363, '먹고다': 4364, '수영장': 4365, '할멈': 4366, '오천만': 4367, '선명하다': 4368, '유전병': 4369, '기울이다': 4370, '골목': 4371, '노여움': 4372, '속물': 4373, '행성': 4374, '아쉬움': 4375, '치아': 4376, '어디가': 4377, '특별': 4378, '출전': 4379, '일일': 4380, '에서야': 4381, '시즌': 4382, '거치다': 4383, '연금복권': 4384, '사먹다': 4385, '병행': 4386, '무덤': 4387, '사태': 4388, '음식물': 4389, '양치질': 4390, '파산하다': 4391, '안고': 4392, '수험': 4393, '인복': 4394, '탕진': 4395, '신용카드': 4396, '이명': 4397, '박탈': 4398, '연배': 4399, '양로원': 4400, '봄': 4401, '항해': 4402, '채식': 4403, '사도': 4404, '비정상': 4405, '괜스레': 4406, '안전하다': 4407, '죽마고우': 4408, '들려오다': 4409, '던데': 4410, '화병': 4411, '배경': 4412, '쌓이네': 4413, '두둑': 4414, '설립': 4415, '악착같이': 4416, '넘어오다': 4417, '하락': 4418, '묘': 4419, '경쟁자': 4420, '빵집': 4421, '만큼의': 4422, '추태': 4423, '생신': 4424, '장기로': 4425, '버느': 4426, '정신없이': 4427, '트로트': 4428, '아침밥': 4429, '대감': 4430, '소설': 4431, '낙서': 4432, '피임': 4433, '재직': 4434, '여럿': 4435, '후기': 4436, '수능시험': 4437, '구분': 4438, '특정': 4439, '따갑다': 4440, '간수치': 4441, '과식': 4442, '점차': 4443, '복지사': 4444, '비대': 4445, '립스틱': 4446, '글': 4447, '보유': 4448, '김씨': 4449, '재단': 4450, '언급': 4451, '우시': 4452, '연고': 4453, '마늘': 4454, '고해': 4455, '수록': 4456, '으로가': 4457, '다양하다': 4458, '도난': 4459, '지우다': 4460, '자격지심': 4461, '종류': 4462, '연세': 4463, '문턱': 4464, '험하다': 4465, '눈시울': 4466, '파견': 4467, '절차': 4468, '승진도': 4469, '시집가다': 4470, '리가': 4471, '까봐': 4472, '구경': 4473, '꼬박': 4474, '암담하다': 4475, '힐': 4476, '엎드리다': 4477, '고만': 4478, '넥타이': 4479, '돋보기': 4480, '만취': 4481, '상식': 4482, '원룸': 4483, '돈독하다': 4484, '극구': 4485, '입금': 4486, '고모': 4487, '연도': 4488, '갖은': 4489, '갑작스레': 4490, '고구마': 4491, '대판': 4492, '붙임성': 4493, '비어': 4494, '언론': 4495, '프로포즈': 4496, '회화': 4497, '태블릿': 4498, '고가': 4499, '덩어리': 4500, '높이': 4501, '말동무': 4502, '투기': 4503, '딴': 4504, '확대': 4505, '낫질': 4506, '다짐': 4507, '그간': 4508, '진액': 4509, '순산': 4510, '동물': 4511, '항의': 4512, '얼어붙다': 4513, '조각': 4514, '경사': 4515, '맞춤법': 4516, '대응': 4517, '어금니': 4518, '급전': 4519, '낭비하다': 4520, '말고는': 4521, '나날이': 4522, '짧아지다': 4523, '마음속': 4524, '주치의': 4525, '놀란': 4526, '외할머니': 4527, '헤프': 4528, '민원': 4529, '무턱': 4530, '바이러스': 4531, '퍼뜨렸어': 4532, '산모': 4533, '아두': 4534, '영수증': 4535, '효자': 4536, '뒷모습': 4537, '일차': 4538, '두근거리다': 4539, '해명': 4540, '툴툴': 4541, '이러니': 4542, '엄두': 4543, '코피': 4544, '둔하다': 4545, '현기증': 4546, '공항': 4547, '구월': 4548, '패스트푸드': 4549, '부끄럼': 4550, '관념': 4551, '전념': 4552, '훈계': 4553, '마중': 4554, '애통하다': 4555, '임시': 4556, '유리': 4557, '교체': 4558, '특강': 4559, '너무도': 4560, '회삿돈': 4561, '횡단보도': 4562, '떠내려가다': 4563, '아픔': 4564, '조바심': 4565, '아낌없이': 4566, '답시고': 4567, '면허': 4568, '자원봉사': 4569, '살길': 4570, '에나': 4571, '속인': 4572, '오래오래': 4573, '나머지': 4574, '웨딩드레스': 4575, '책임감': 4576, '중요성': 4577, '실업': 4578, '질리다': 4579, '변비': 4580, '입지': 4581, '싸늘하다': 4582, '쌓다': 4583, '달리다': 4584, '상반기': 4585, '외상': 4586, '개념': 4587, '섬': 4588, '우유부단하다': 4589, '단점': 4590, '과잉': 4591, '에세이': 4592, '시더': 4593, '튀어나오다': 4594, '꾸리': 4595, '빈손': 4596, '연하': 4597, '구걸': 4598, '하고만': 4599, '꼬리': 4600, '말걸': 4601, '안락사': 4602, '이외': 4603, '심근경색증': 4604, '찜찜하다': 4605, '시원': 4606, '헛산': 4607, '공짜': 4608, '금일': 4609, '내부': 4610, '볼품': 4611, '마킹': 4612, '에서나': 4613, '갖추다': 4614, '치사하다': 4615, '마케팅': 4616, '단계': 4617, '부진': 4618, '건너다': 4619, '완벽': 4620, '왜냐면': 4621, '경영학': 4622, '사진관': 4623, '위치': 4624, '산악': 4625, '지향성': 4626, '늘어지다': 4627, '위독하다': 4628, '몸조리': 4629, '지팡이': 4630, '칼': 4631, '눈물나다': 4632, '주도': 4633, '자부심': 4634, '알파벳': 4635, '깨닫다': 4636, '회의실': 4637, '폰': 4638, '따라오다': 4639, '오만': 4640, '프리랜서': 4641, '쥐구멍': 4642, '코스': 4643, '어긋나다': 4644, '행색': 4645, '기억나다': 4646, '버티고': 4647, '지수': 4648, '기피': 4649, '엑스레이': 4650, '겉모습': 4651, '알아차리다': 4652, '초반': 4653, '아무튼': 4654, '결리다': 4655, '사우나': 4656, '사칭': 4657, '수수료': 4658, '돌이': 4659, '치부': 4660, '쥐': 4661, '기껏': 4662, '보류': 4663, '에너지': 4664, '재수술': 4665, '돌잔치': 4666, '파탄': 4667, '업계': 4668, '두운': 4669, '시행': 4670, '공로': 4671, '삐뚤어지다': 4672, '두르다': 4673, '민첩하다': 4674, '이군': 4675, '전의': 4676, '생일도': 4677, '다그치다': 4678, '매몰': 4679, '주관': 4680, '가뿐하다': 4681, '골인': 4682, '시큰거리다': 4683, '잖다': 4684, '상팔자': 4685, '양수': 4686, '대지': 4687, '슈퍼마켓': 4688, '애기': 4689, '지점': 4690, '서술': 4691, '안지': 4692, '술병': 4693, '에서조차': 4694, '난폭하다': 4695, '원장': 4696, '나약하다': 4697, '촉박하다': 4698, '운동화': 4699, '허우적거리다': 4700, '자리다': 4701, '초년': 4702, '토요일': 4703, '삭제': 4704, '전액': 4705, '감독': 4706, '현': 4707, '덜컥': 4708, '모호하다': 4709, '입양아': 4710, '미납': 4711, '성심': 4712, '성의껏': 4713, '유언': 4714, '이성애자': 4715, '구먼': 4716, '율': 4717, '투덜대다': 4718, '고령자': 4719, '시기하다': 4720, '금도': 4721, '향수': 4722, '따름': 4723, '찜질': 4724, '금식': 4725, '제압': 4726, '장기간': 4727, '채도': 4728, '매수': 4729, '죽지': 4730, '풍': 4731, '웬일': 4732, '여행지': 4733, '학예회': 4734, '도자기': 4735, '정신병': 4736, '비관': 4737, '아들내미': 4738, '진실': 4739, '상조': 4740, '범죄자': 4741, '친화력': 4742, '가누다': 4743, '더럽히다': 4744, '성전환수술': 4745, '미경': 4746, '미용': 4747, '대학입시': 4748, '떤다': 4749, '찾기': 4750, '분통': 4751, '길고양이': 4752, '신용등급': 4753, '여겨지다': 4754, '막무가내': 4755, '모범생': 4756, '가구': 4757, '뱀술': 4758, '매입': 4759, '무대': 4760, '치면': 4761, '한시': 4762, '파업': 4763, '맞선': 4764, '수저': 4765, '플레이': 4766, '고깃집': 4767, '동참': 4768, '독하다': 4769, '계약서': 4770, '진술': 4771, '장마': 4772, '척추': 4773, '달마': 4774, '새내기': 4775, '게시판': 4776, '익명': 4777, '짜증스럽다': 4778, '노인성': 4779, '재정난': 4780, '아려': 4781, '만들어지다': 4782, '분주하다': 4783, '양육': 4784, '의외로': 4785, '야채': 4786, '교묘하다': 4787, '날카롭다': 4788, '신분': 4789, '상승': 4790, '힘겹다': 4791, '윗사람': 4792, '부조': 4793, '얹혀살다': 4794, '회관': 4795, '만끽': 4796, '독단': 4797, '천하태평': 4798, '사이트': 4799, '일요일': 4800, '곱': 4801, '타일러': 4802, '선천': 4803, '빛': 4804, '모진': 4805, '시내': 4806, '연로': 4807, '의학': 4808, '잉여': 4809, '빈약하다': 4810, '늦': 4811, '대도': 4812, '허위': 4813, '검증': 4814, '한창때': 4815, '양반': 4816, '트랜스젠더': 4817, '친자': 4818, '복직': 4819, '가든': 4820, '삭막하다': 4821, '기안': 4822, '질색': 4823, '피크': 4824, '늦추다': 4825, '도서관': 4826, '희생양': 4827, '곧장': 4828, '바이어': 4829, '기재': 4830, '앞가림': 4831, '재수생': 4832, '큰소리치다': 4833, '원통': 4834, '어쩌': 4835, '다달이': 4836, '고개': 4837, '밥값': 4838, '말고도': 4839, '뒤치다꺼리': 4840, '만류': 4841, '목걸이': 4842, '동문': 4843, '얕다': 4844, '아르바이트생': 4845, '달라붙다': 4846, '빙판': 4847, '잉꼬': 4848, '비밀번호': 4849, '웬만하다': 4850, '궁리': 4851, '출세': 4852, '예방주사': 4853, '오시': 4854, '요점': 4855, '패키지': 4856, '라곤': 4857, '가래': 4858, '일어난다': 4859, '눈초리': 4860, '오리엔테이션': 4861, '노화': 4862, '기형': 4863, '돌변': 4864, '취약점': 4865, '패턴': 4866, '고약하다': 4867, '어처구니': 4868, '하얘지다': 4869, '담기다': 4870, '깊이': 4871, '게이': 4872, '훈수': 4873, '팽': 4874, '제만': 4875, '측': 4876, '회피': 4877, '피시방': 4878, '지난날': 4879, '뇌척수막': 4880, '발음': 4881, '전만': 4882, '승급': 4883, '검소': 4884, '주변인': 4885, '붓다': 4886, '수명': 4887, '장점': 4888, '사경': 4889, '헤매다': 4890, '양심': 4891, '본': 4892, '통지서': 4893, '계층': 4894, '어기': 4895, '수단': 4896, '불투명하다': 4897, '사느랗다': 4898, '구심': 4899, '들러붙다': 4900, '인터뷰': 4901, '주번': 4902, '툴툴거렸어': 4903, '풍경': 4904, '이뤄지다': 4905, '내보내다': 4906, '성장': 4907, '썩이다': 4908, '저렴하다': 4909, '형식': 4910, '노숙자': 4911, '맛집': 4912, '알츠하이머': 4913, '지체': 4914, '정착': 4915, '십견': 4916, '염치': 4917, '혈액암': 4918, '우기다': 4919, '심장질환': 4920, '작업복': 4921, '요리사': 4922, '설치다': 4923, '실행': 4924, '이나마': 4925, '단정': 4926, '싱글': 4927, '머뭇거리다': 4928, '에서부터': 4929, '증진': 4930, '전립선': 4931, '우울': 4932, '험악하다': 4933, '입상하다': 4934, '나다니다': 4935, '밖에도': 4936, '올케': 4937, '우려': 4938, '금지': 4939, '협력': 4940, '챙': 4941, '대리점': 4942, '난이': 4943, '철렁': 4944, '칠판': 4945, '부진하다': 4946, '충실하다': 4947, '한국어': 4948, '비웃음': 4949, '단속': 4950, '가중': 4951, '체념하다': 4952, '인문': 4953, '합병': 4954, '태우다': 4955, '계란': 4956, '끊어지다': 4957, '워킹맘': 4958, '병중': 4959, '현황': 4960, '박대': 4961, '살피다': 4962, '무좀': 4963, '말년': 4964, '노부': 4965, '부가': 4966, '필요성': 4967, '부드럽다': 4968, '환상': 4969, '가증': 4970, '장인': 4971, '막대': 4972, '금제': 4973, '착오': 4974, '밤낮없이': 4975, '실무': 4976, '감상': 4977, '분장': 4978, '일박': 4979, '팍팍하다': 4980, '출석': 4981, '실손': 4982, '찍': 4983, '약초': 4984, '사보다': 4985, '인센티브': 4986, '수시로': 4987, '결산': 4988, '서방': 4989, '때우다': 4990, '구멍': 4991, '얇다': 4992, '인재': 4993, '청력': 4994, '불쑥': 4995, '팔자': 4996, '귀지': 4997, '우산': 4998, '빠져나가다': 4999, '뒷받침': 5000, '나인': 5001, '교환': 5002, '백일': 5003, '움': 5004, '변명': 5005, '특기': 5006, '이력': 5007, '덤벙대다': 5008, '어가': 5009, '뛰어가다': 5010, '쭉': 5011, '박사': 5012, '축의금': 5013, '미식': 5014, '타고나다': 5015, '어수선하다': 5016, '석차': 5017, '가하다': 5018, '과체중': 5019, '헐뜯다': 5020, '인적': 5021, '낙인': 5022, '러더': 5023, '어리석다': 5024, '결혼반지': 5025, '처우': 5026, '휴대전화': 5027, '나이라': 5028, '운동회': 5029, '꼴찌': 5030, '산재': 5031, '봉사활동': 5032, '수군대다': 5033, '매니저': 5034, '효도': 5035, '추구': 5036, '김부': 5037, '호통': 5038, '숭숭': 5039, '떨어뜨리다': 5040, '화기': 5041, '헛살': 5042, '꾼': 5043, '결석': 5044, '퉁': 5045, '피아니스트': 5046, '산악회': 5047, '적령': 5048, '에라도': 5049, '상실': 5050, '감흥': 5051, '삐': 5052, '주무르다': 5053, '대인기피증': 5054, '기승': 5055, '접대': 5056, '스치다': 5057, '수련': 5058, '선산': 5059, '울컥': 5060, '적절하다': 5061, '십억': 5062, '번번이': 5063, '산후조리': 5064, '성폭행': 5065, '수감': 5066, '갑상샘': 5067, '공책': 5068, '진땀': 5069, '파손': 5070, '중요': 5071, '음반': 5072, '남용': 5073, '에야': 5074, '세미나': 5075, '간경변': 5076, '대의': 5077, '글씨': 5078, '트릴': 5079, '일정하다': 5080, '수집': 5081, '키도': 5082, '자상하다': 5083, '두드리다': 5084, '환갑잔치': 5085, '초췌하다': 5086, '반성': 5087, '후두': 5088, '염증': 5089, '조상': 5090, '반도': 5091, '도달': 5092, '넓어지다': 5093, '곳곳': 5094, '술김': 5095, '증인': 5096, '팔팔하다': 5097, '기반': 5098, '개학': 5099, '통째': 5100, '엄하': 5101, '버섯': 5102, '체형': 5103, '한턱': 5104, '배제': 5105, '가스': 5106, '둥': 5107, '메': 5108, '본의': 5109, '과학': 5110, '성품': 5111, '형성': 5112, '구단': 5113, '두드러기': 5114, '무작정': 5115, '번만': 5116, '외톨': 5117, '돋다': 5118, '양쪽': 5119, '만해': 5120, '오르내리다': 5121, '생활고': 5122, '합리': 5123, '감수': 5124, '소꿉친구': 5125, '문의': 5126, '삼십만': 5127, '연체': 5128, '구인': 5129, '그제야': 5130, '서면': 5131, '야속하다': 5132, '식후': 5133, '출산율': 5134, '유통': 5135, '갑질': 5136, '앞당겨지다': 5137, '혈액형': 5138, '감추다': 5139, '행패': 5140, '유복하다': 5141, '흔들다': 5142, '검다': 5143, '사두': 5144, '귀로': 5145, '헛웃음': 5146, '잔인하다': 5147, '다운': 5148, '갓난아기': 5149, '번은': 5150, '설문지': 5151, '회사원': 5152, '신음': 5153, '궤양': 5154, '여가': 5155, '킬로그램': 5156, '추진': 5157, '예감': 5158, '모함': 5159, '화끈': 5160, '전근': 5161, '첫사랑': 5162, '셈': 5163, '앱': 5164, '무안하다': 5165, '비속어': 5166, '혈육': 5167, '피시': 5168, '계발': 5169, '억지': 5170, '섹스': 5171, '쓸데없이': 5172, '쫄쫄': 5173, '삿': 5174, '복학생': 5175, '시가': 5176, '정신병원': 5177, '주정': 5178, '빈자리': 5179, '술잔': 5180, '신부': 5181, '직후': 5182, '대중': 5183, '부녀': 5184, '올려놓다': 5185, '돌연사': 5186, '공금': 5187, '예체능': 5188, '너그럽다': 5189, '다지': 5190, '분리': 5191, '가라앉히다': 5192, '테이블': 5193, '강남': 5194, '반지하': 5195, '신부전': 5196, '적용': 5197, '시점': 5198, '계정': 5199, '위안': 5200, '선호': 5201, '패딩': 5202, '남매': 5203, '공공': 5204, '수평': 5205, '의사소통': 5206, '일어서다': 5207, '비정규직': 5208, '외톨이야': 5209, '진통': 5210, '파트너': 5211, '싱숭생숭하다': 5212, '건축': 5213, '속옷': 5214, '끝내기': 5215, '숙이다': 5216, '투자가': 5217, '알선': 5218, '북받치다': 5219, '일본': 5220, '하굣길': 5221, '쌩쌩하다': 5222, '스럽지': 5223, '행실': 5224, '대립': 5225, '진창': 5226, '덕이': 5227, '아무나': 5228, '여행가': 5229, '명예롭': 5230, '가정사': 5231, '세뱃돈': 5232, '빨다': 5233, '나대다': 5234, '이며': 5235, '약재': 5236, '싱글벙글': 5237, '빠져나오다': 5238, '산골': 5239, '노조': 5240, '도르다': 5241, '묵살': 5242, '별도': 5243, '당기다': 5244, '엎': 5245, '애매하다': 5246, '이랑은': 5247, '고스': 5248, '부풀다': 5249, '옮': 5250, '신가': 5251, '춤추다': 5252, '춥다': 5253, '로비': 5254, '고혈압약': 5255, '복통': 5256, '애사': 5257, '뀌었어': 5258, '동조': 5259, '갈아입다': 5260, '오십만': 5261, '기록': 5262, '우대': 5263, '려': 5264, '귀국': 5265, '직위': 5266, '불경기': 5267, '숫자': 5268, '백신': 5269, '컵라면': 5270, '연기자': 5271, '이마': 5272, '양호': 5273, '월급쟁이': 5274, '흑자': 5275, '좌천': 5276, '지표': 5277, '빌라': 5278, '계좌': 5279, '상환': 5280, '염좌': 5281, '야구장': 5282, '질타': 5283, '사십': 5284, '병인': 5285, '이서': 5286, '명과': 5287, '그저께': 5288, '파리': 5289, '넋': 5290, '스승': 5291, '사진작가': 5292, '물놀이': 5293, '나날': 5294, '살찐': 5295, '둘걸': 5296, '먹듯': 5297, '상대로': 5298, '집들이': 5299, '따끔하다': 5300, '약도': 5301, '지원이': 5302, '부품': 5303, '문구점': 5304, '졸이다': 5305, '증권사': 5306, '낮추다': 5307, '점잖다': 5308, '가해': 5309, '관광': 5310, '운동선수': 5311, '부적': 5312, '빠듯': 5313, '취할': 5314, '곤두박질': 5315, '창작': 5316, '주로': 5317, '조문': 5318, '신물': 5319, '장인어른': 5320, '혈관': 5321, '신호': 5322, '환절기': 5323, '호실': 5324, '허덕이다': 5325, '치솟다': 5326, '변변찮': 5327, '하반신': 5328, '가가': 5329, '가치관': 5330, '바가지': 5331, '왕래': 5332, '용도': 5333, '텅텅': 5334, '자네': 5335, '지진': 5336, '파스': 5337, '할인': 5338, '매너': 5339, '활기차다': 5340, '흔적': 5341, '서운해하다': 5342, '매장': 5343, '한소리': 5344, '팔씨름': 5345, '영화배우': 5346, '제사': 5347, '제법': 5348, '외딴': 5349, '절단': 5350, '팬': 5351, '악성종양': 5352, '소속': 5353, '열두': 5354, '경제활동': 5355, '숙소': 5356, '일반': 5357, '평화롭다': 5358, '어지르다': 5359, '회식비': 5360, '문학': 5361, '가장이': 5362, '토라': 5363, '사주지': 5364, '캐비닛': 5365, '뒷돈': 5366, '예습': 5367, '면회': 5368, '잘되지': 5369, '어저께': 5370, '놀랍다': 5371, '골프장': 5372, '에스컬레이터': 5373, '곤혹': 5374, '불확실하다': 5375, '참고서': 5376, '일어': 5377, '단호': 5378, '다독이다': 5379, '소수자': 5380, '팔목': 5381, '시청': 5382, '뇌리': 5383, '거뜬하다': 5384, '스': 5385, '치매증': 5386, '청각': 5387, '우물쭈물': 5388, '고비': 5389, '글렀어': 5390, '원만': 5391, '순서': 5392, '띵하다': 5393, '소주': 5394, '세트': 5395, '틱장애': 5396, '임용': 5397, '활짝': 5398, '웃': 5399, '눈뜨다': 5400, '티격태격': 5401, '예방접종': 5402, '증가': 5403, '싹': 5404, '매다': 5405, '사법고시': 5406, '실효': 5407, '살얼음': 5408, '다크서클': 5409, '버냐': 5410, '스트레칭': 5411, '사이클': 5412, '측은하다': 5413, '핑': 5414, '저리': 5415, '냉정하다': 5416, '변심': 5417, '전생': 5418, '마녀사냥': 5419, '최고다': 5420, '상대평가': 5421, '대야': 5422, '어도': 5423, '관문': 5424, '꼴등일': 5425, '변치': 5426, '이메일': 5427, '발송': 5428, '떨떠름하다': 5429, '가정은': 5430, '올림피아드': 5431, '헛되': 5432, '구로': 5433, '최대': 5434, '리모컨': 5435, '작전': 5436, '수지': 5437, '특이하다': 5438, '벌칙': 5439, '현미': 5440, '만행': 5441, '연일': 5442, '일용직': 5443, '장터': 5444, '으쓱': 5445, '부숴': 5446, '싸구려': 5447, '대학교수': 5448, '활기': 5449, '스카이': 5450, '발등': 5451, '급사': 5452, '드물다': 5453, '금수': 5454, '무지': 5455, '홀': 5456, '실물': 5457, '해변': 5458, '피부색': 5459, '지름길': 5460, '예시': 5461, '모유': 5462, '똑바로': 5463, '주책': 5464, '식판': 5465, '새총': 5466, '눈가': 5467, '들들': 5468, '진영': 5469, '한없이': 5470, '숫기': 5471, '대성공': 5472, '꼬치꼬치': 5473, '시말서': 5474, '리포트': 5475, '합창': 5476, '둘리': 5477, '특목고': 5478, '층간소음': 5479, '휴게소': 5480, '골탕': 5481, '친언니': 5482, '확률': 5483, '취객': 5484, '육체': 5485, '볶음': 5486, '아비': 5487, '삼백': 5488, '정황': 5489, '재학': 5490, '골프채': 5491, '비겁하다': 5492, '괴팍하다': 5493, '플': 5494, '샌드위치': 5495, '기독교': 5496, '포교': 5497, '근교': 5498, '옹알': 5499, '잡혀가다': 5500, '뀌': 5501, '대머리': 5502, '도장': 5503, '생애': 5504, '부임': 5505, '사하다': 5506, '모범': 5507, '금반지': 5508, '앙상하다': 5509, '양일': 5510, '멎다': 5511, '비꼬다': 5512, '호소': 5513, '상금': 5514, '노출': 5515, '본사': 5516, '중요시': 5517, '오피스텔': 5518, '관리인': 5519, '여한': 5520, '보일러': 5521, '검정': 5522, '소집': 5523, '정수기': 5524, '발주': 5525, '도덕': 5526, '떠밀다': 5527, '하기는': 5528, '법원': 5529, '프로야구': 5530, '수백': 5531, '아랑곳': 5532, '시급하다': 5533, '바라지': 5534, '달팽이관': 5535, '수빈': 5536, '지안': 5537, '명상': 5538, '생존': 5539, '공평하다': 5540, '우승팀': 5541, '등지': 5542, '클레': 5543, '맑다': 5544, '힐끔힐끔': 5545, '뱀': 5546, '옆구리': 5547, '용지': 5548, '기선': 5549, '사내연애': 5550, '스물': 5551, '터뜨리다': 5552, '툴툴거린': 5553, '여유도': 5554, '막심': 5555, '서먹서먹하다': 5556, '거렸더': 5557, '제공': 5558, '감원': 5559, '고용주': 5560, '햇살': 5561, '회수': 5562, '빨': 5563, '로움': 5564, '작업장': 5565, '대로는': 5566, '성전환': 5567, '뜻밖': 5568, '자처': 5569, '삐끗': 5570, '우애': 5571, '일가': 5572, '분기': 5573, '편집장': 5574, '대부': 5575, '엑셀': 5576, '토지': 5577, '도구로': 5578, '뇌사': 5579, '한껏': 5580, '컨설팅': 5581, '흉측하다': 5582, '주연': 5583, '오락': 5584, '혈액': 5585, '손발': 5586, '축축하다': 5587, '토로': 5588, '본받다': 5589, '실버': 5590, '타운': 5591, '빠뜨리다': 5592, '오죽하다': 5593, '정식': 5594, '도주': 5595, '쇠퇴하다': 5596, '마당': 5597, '몰골': 5598, '과묵': 5599, '내뱉다': 5600, '뽐내다': 5601, '옷맵시': 5602, '자반': 5603, '세라': 5604, '딸리다': 5605, '칭얼대다': 5606, '불리다': 5607, '중증': 5608, '개도': 5609, '허구': 5610, '종료': 5611, '출처': 5612, '성분': 5613, '오백': 5614, '평': 5615, '대화방': 5616, '저염식': 5617, '괴물': 5618, '곤경': 5619, '빠트렸어': 5620, '재킷': 5621, '맥': 5622, '더치페이': 5623, '직성': 5624, '강조': 5625, '수술대': 5626, '노심초사': 5627, '번복': 5628, '대우받다': 5629, '시니어': 5630, '안전': 5631, '골짜기': 5632, '사면': 5633, '돈다': 5634, '사후': 5635, '무효': 5636, '해둘걸': 5637, '음란물': 5638, '운영자': 5639, '평화': 5640, '체지방': 5641, '조처': 5642, '대치': 5643, '시피': 5644, '접종': 5645, '발달': 5646, '혐의': 5647, '사납다': 5648, '청년회': 5649, '여물': 5650, '어중간하다': 5651, '들락날락': 5652, '경기도': 5653, '특근': 5654, '근로': 5655, '장학생': 5656, '동고동락': 5657, '학우': 5658, '녹즙': 5659, '시샘': 5660, '용이': 5661, '인기척': 5662, '제보': 5663, '욕먹다': 5664, '지코': 5665, '임원진': 5666, '아인': 5667, '살인': 5668, '프린터': 5669, '출력': 5670, '공로상': 5671, '화면': 5672, '애꿎': 5673, '예절': 5674, '이루': 5675, '도로': 5676, '보조금': 5677, '모회사': 5678, '사연': 5679, '창': 5680, '생선': 5681, '자원': 5682, '온천': 5683, '결핍': 5684, '사직': 5685, '상습': 5686, '엄한데': 5687, '주체': 5688, '도용': 5689, '민지': 5690, '팔십': 5691, '헛된': 5692, '일학년': 5693, '과음': 5694, '순인': 5695, '무릎관절': 5696, '저주': 5697, '사물함': 5698, '아랫사람': 5699, '극진하다': 5700, '붕대': 5701, '척해': 5702, '개천': 5703, '자각': 5704, '지옥': 5705, '할당': 5706, '해마다': 5707, '선선해지다': 5708, '박스': 5709, '교외': 5710, '타격': 5711, '누런': 5712, '비율': 5713, '종': 5714, '쿵쿵': 5715, '골목길': 5716, '갈라지다': 5717, '나물': 5718, '빈곤층': 5719, '멈칫': 5720, '대졸': 5721, '유물': 5722, '짐짝': 5723, '어지럼증': 5724, '지네': 5725, '매진': 5726, '한글': 5727, '깨우치다': 5728, '즘': 5729, '팔다리': 5730, '인큐베이터': 5731, '흡족하다': 5732, '라인': 5733, '생전': 5734, '부적절하다': 5735, '싹싹하다': 5736, '자가': 5737, '사인': 5738, '되돌아보다': 5739, '낙찰': 5740, '한단': 5741, '어눌하다': 5742, '나들이': 5743, '안정감': 5744, '사이만': 5745, '한바탕': 5746, '성찬': 5747, '패': 5748, '피부병': 5749, '드러내다': 5750, '꾹': 5751, '빈곤하다': 5752, '이사해': 5753, '신중하다': 5754, '도덕성': 5755, '눈곱': 5756, '만큼도': 5757, '거처': 5758, '헛구역질': 5759, '실업자': 5760, '타깃': 5761, '근육통': 5762, '탑승': 5763, '입술': 5764, '본격': 5765, '쏟아내다': 5766, '총': 5767, '만화책': 5768, '조종사': 5769, '항공': 5770, '반토막': 5771, '자사고': 5772, '어젠': 5773, '외동딸': 5774, '프로도': 5775, '비결': 5776, '원도': 5777, '갈수': 5778, '진솔하다': 5779, '마마': 5780, '왜인': 5781, '놨는': 5782, '입김': 5783, '추악하다': 5784, '알콩달콩': 5785, '댄스': 5786, '고단': 5787, '섣불리': 5788, '슬그머니': 5789, '보건소': 5790, '벌떡': 5791, '지하': 5792, '울음소리': 5793, '사탕': 5794, '가격표': 5795, '창밖': 5796, '동행': 5797, '밴드': 5798, '어마어마하다': 5799, '부추기다': 5800, '쏠리다': 5801, '저녁식사': 5802, '휴게실': 5803, '비명': 5804, '역류성': 5805, '식도염': 5806, '철회': 5807, '병명': 5808, '일절': 5809, '디자이너': 5810, '설날': 5811, '도둑질': 5812, '품질': 5813, '앤': 5814, '현상': 5815, '딱딱하다': 5816, '서프라이즈': 5817, '정규': 5818, '스포츠': 5819, '풍요': 5820, '소방관': 5821, '약과': 5822, '멘토': 5823, '페이': 5824, '부질': 5825, '세대차이': 5826, '정당방위': 5827, '교우': 5828, '일주년': 5829, '우리엄마': 5830, '전화기': 5831, '남루하다': 5832, '실업계': 5833, '중퇴': 5834, '공연': 5835, '스팸': 5836, '쾌적하다': 5837, '랍시고': 5838, '피부염': 5839, '내다보다': 5840, '탁': 5841, '전시': 5842, '지독하다': 5843, '역정': 5844, '가엾다': 5845, '울화통': 5846, '흥이': 5847, '아이폰': 5848, '떡볶이': 5849, '트렌드': 5850, '까지의': 5851, '간지': 5852, '볼걸': 5853, '급작': 5854, '옮을까': 5855, '보나': 5856, '훌쩍': 5857, '고역': 5858, '선약': 5859, '이에요': 5860, '위도': 5861, '히터': 5862, '글자': 5863, '엿': 5864, '차라': 5865, '뒷골목': 5866, '이일': 5867, '궁상맞다': 5868, '반쪽': 5869, '구시대': 5870, '혼인신고': 5871, '격해지다': 5872, '이의': 5873, '예외': 5874, '잡곡': 5875, '분가': 5876, '자격': 5877, '제목': 5878, '게이머': 5879, '허비하다': 5880, '차오르다': 5881, '농사일': 5882, '돌연': 5883, '이용만': 5884, '얼떨떨하다': 5885, '간부': 5886, '자동화': 5887, '여러가지': 5888, '주요': 5889, '조작': 5890, '프로': 5891, '성교육': 5892, '웃기': 5893, '이해력': 5894, '교장': 5895, '친밀하다': 5896, '고갈': 5897, '넘어뜨리다': 5898, '찬밥': 5899, '집요하다': 5900, '침묵': 5901, '흙': 5902, '대학원생': 5903, '초래': 5904, '레스토랑': 5905, '인테리어': 5906, '짖다': 5907, '튀다': 5908, '규제': 5909, '편일': 5910, '친근하다': 5911, '용법': 5912, '구타': 5913, '금메달': 5914, '응모': 5915, '구제': 5916, '불능': 5917, '큰아버지': 5918, '일치': 5919, '이장님': 5920, '왕성': 5921, '질서': 5922, '개봉': 5923, '입찰': 5924, '한강': 5925, '이득': 5926, '옷가게': 5927, '두껍다': 5928, '주재': 5929, '이동해': 5930, '주최': 5931, '내달': 5932, '어지러움': 5933, '모조리': 5934, '화상': 5935, '놨어': 5936, '화난': 5937, '캠퍼스': 5938, '위조': 5939, '나돌다': 5940, '고삼': 5941, '봉양': 5942, '줄줄이': 5943, '장모': 5944, '월말': 5945, '죗값': 5946, '가주': 5947, '태희': 5948, '천재': 5949, '코웃음': 5950, '엄': 5951, '목욕': 5952, '헤드헌터': 5953, '논리': 5954, '애애': 5955, '조울증': 5956, '연명': 5957, '단독': 5958, '걸레': 5959, '베이비': 5960, '뛰어오다': 5961, '어째': 5962, '의존': 5963, '공과': 5964, '옆방': 5965, '갈비': 5966, '헤어': 5967, '부여': 5968, '배역': 5969, '환호': 5970, '쫄딱': 5971, '맨': 5972, '자매': 5973, '사시': 5974, '만만': 5975, '지소': 5976, '커뮤니티': 5977, '옥': 5978, '평상시': 5979, '소금': 5980, '빅히트': 5981, '방탄': 5982, '소년단': 5983, '투명': 5984, '지정': 5985, '와이셔츠': 5986, '서슴지': 5987, '칠하다': 5988, '짓궂다': 5989, '서기': 5990, '연주': 5991, '야자': 5992, '메꿀': 5993, '굴지': 5994, '마찬가지': 5995, '경품': 5996, '불완전': 5997, '쌈짓돈': 5998, '뛰어놀다': 5999, '치수': 6000, '달랑': 6001, '발리': 6002, '여보': 6003, '선생': 6004, '얌전하다': 6005, '자립하다': 6006, '여건': 6007, '미숙': 6008, '덧': 6009, '근래': 6010, '새삼': 6011, '누더기': 6012, '격식': 6013, '주인공': 6014, '인구': 6015, '첫인상': 6016, '개미': 6017, '남고': 6018, '코치': 6019, '이빨': 6020, '해나': 6021, '분란': 6022, '유동': 6023, '해달': 6024, '소매치기': 6025, '까칠하다': 6026, '굳기': 6027, '파토': 6028, '오신': 6029, '이차': 6030, '발걸음': 6031, '밝아지다': 6032, '사고방식': 6033, '말벗': 6034, '경영인': 6035, '별걱정': 6036, '신선하다': 6037, '꽂다': 6038, '효능': 6039, '재산세': 6040, '먼지': 6041, '민감하다': 6042, '마르고': 6043, '대면': 6044, '블로그': 6045, '참신하다': 6046, '플러스': 6047, '더위': 6048, '물속': 6049, '향후': 6050, '끈질기다': 6051, '공황장애': 6052, '늘그막': 6053, '거액': 6054, '꺼지다': 6055, '재작년': 6056, '식도암': 6057, '꾀다': 6058, '부패': 6059, '고기만': 6060, '쪼들리다': 6061, '당해': 6062, '얽매': 6063, '음악가': 6064, '면역': 6065, '사주면': 6066, '허벅지': 6067, '뜨개질': 6068, '일억이': 6069, '털': 6070, '앞장서다': 6071, '인물': 6072, '오피스': 6073, '소아마비': 6074, '쩔뚝': 6075, '부풀리다': 6076, '가득': 6077, '활용': 6078, '문중': 6079, '제기': 6080, '일거수일투족': 6081, '관람': 6082, '시급': 6083, '불이익': 6084, '아웃': 6085, '시리다': 6086, '쏠쏠하다': 6087, '아우': 6088, '코골': 6089, '운용': 6090, '부하라': 6091, '팔찌': 6092, '착용': 6093, '수만': 6094, '열사': 6095, '인감도장': 6096, '화환': 6097, '감사패': 6098, '캄캄해지다': 6099, '실천': 6100, '운동복': 6101, '답지': 6102, '곱다': 6103, '분투': 6104, '공통': 6105, '장담': 6106, '상향': 6107, '미심': 6108, '쩍': 6109, '시원섭섭하다': 6110, '강인하다': 6111, '명인': 6112, '공백기': 6113, '단풍': 6114, '영웅': 6115, '감돌다': 6116, '사나워지다': 6117, '조로': 6118, '졸리다': 6119, '청소부': 6120, '끙끙대다': 6121, '누리다': 6122, '소속사': 6123, '셋째': 6124, '마려워': 6125, '정전': 6126, '소화도': 6127, '즐거움': 6128, '위장병': 6129, '얼': 6130, '술값': 6131, '폐경기': 6132, '혼전': 6133, '년차': 6134, '무서움': 6135, '의무': 6136, '댓글': 6137, '조짐': 6138, '따오다': 6139, '방광암': 6140, '제아': 6141, '빵점': 6142, '자판기': 6143, '잠자리': 6144, '빠져들다': 6145, '네로': 6146, '세운': 6147, '협조': 6148, '랄': 6149, '손재주': 6150, '무식하다': 6151, '전원': 6152, '우쭐대다': 6153, '속지': 6154, '드레스': 6155, '이래저래': 6156, '자율': 6157, '엇': 6158, '성의': 6159, '발가락': 6160, '궁': 6161, '습득': 6162, '한국말': 6163, '피자': 6164, '곤욕': 6165, '하루빨리': 6166, '해둘': 6167, '앞길': 6168, '전교생': 6169, '자연스럽다': 6170, '찌들다': 6171, '수용': 6172, '저절로': 6173, '피라미드': 6174, '유입': 6175, '복장': 6176, '에서까지': 6177, '팔짱': 6178, '궁핍하다': 6179, '히스테리': 6180, '페이퍼': 6181, '대외': 6182, '명퇴': 6183, '협회': 6184, '연결': 6185, '실속': 6186, '미영': 6187, '이바지': 6188, '밀가루': 6189, '오늘내일': 6190, '잊혀지다': 6191, '사래': 6192, '아비규환': 6193, '재롱': 6194, '장애인': 6195, '푼돈': 6196, '공단': 6197, '호언': 6198, '담하다': 6199, '냉담하다': 6200, '가족사진': 6201, '비직': 6202, '고함': 6203, '생일상': 6204, '표창장': 6205, '봉사자': 6206, '동일하다': 6207, '떼이다': 6208, '상습범': 6209, '물리': 6210, '솔로인': 6211, '심술': 6212, '헤치다': 6213, '잡무': 6214, '모멸': 6215, '정형외과': 6216, '통합': 6217, '식비': 6218, '석사': 6219, '녹초': 6220, '지퍼': 6221, '진저리': 6222, '초음파': 6223, '사전': 6224, '가만': 6225, '시신': 6226, '견': 6227, '계시': 6228, '설교': 6229, '붙들다': 6230, '근소': 6231, '생으로': 6232, '여자아이': 6233, '정해진': 6234, '등진': 6235, '승소': 6236, '홍보': 6237, '임대료': 6238, '인사말': 6239, '틀어놓다': 6240, '명목': 6241, '처녀': 6242, '경제권': 6243, '달걀': 6244, '컵': 6245, '관심사': 6246, '편협': 6247, '탈퇴': 6248, '판사': 6249, '막차': 6250, '고려': 6251, '두근두근': 6252, '왕': 6253, '시금': 6254, '소서': 6255, '잠기다': 6256, '불참': 6257, '커리어': 6258, '위생': 6259, '전무': 6260, '일터': 6261, '포토샵': 6262, '복사기': 6263, '약혼': 6264, '전선': 6265, '뛰어들다': 6266, '현수막': 6267, '그중': 6268, '한구석': 6269, '용종': 6270, '생소하다': 6271, '천성': 6272, '약관': 6273, '리도': 6274, '산만하다': 6275, '편안함': 6276, '익사': 6277, '노예': 6278, '금주': 6279, '피나': 6280, '무얼': 6281, '국물': 6282, '뷔페': 6283, '중이염': 6284, '위주': 6285, '어린이집': 6286, '풍기다': 6287, '공직': 6288, '약혼자': 6289, '탁하다': 6290, '장치': 6291, '갈구다': 6292, '매매': 6293, '개수': 6294, '비뇨기': 6295, '무지하다': 6296, '태권도': 6297, '우스꽝스럽다': 6298, '벌벌': 6299, '막연하다': 6300, '삼백만': 6301, '집세': 6302, '주차장': 6303, '점도': 6304, '유': 6305, '행위': 6306, '자금난': 6307, '현관문': 6308, '진통제': 6309, '발병': 6310, '균': 6311, '아찔하다': 6312, '공문': 6313, '내후년': 6314, '실현': 6315, '폴더': 6316, '주스': 6317, '낮잠': 6318, '독박': 6319, '징징대다': 6320, '김장': 6321, '찾아다니다': 6322, '뎌': 6323, '환경미화원': 6324, '내정자': 6325, '왼쪽': 6326, '러닝머신': 6327, '맞은편': 6328, '독자': 6329, '한일': 6330, '계열': 6331, '까마득하다': 6332, '박살': 6333, '문고': 6334, '소지품': 6335, '경쟁률': 6336, '캐스팅': 6337, '수건': 6338, '노산': 6339, '협업': 6340, '무전': 6341, '노랗다': 6342, '가물가물': 6343, '최씨': 6344, '올린다': 6345, '주무시다': 6346, '가정불화': 6347, '패션': 6348, '자질': 6349, '메뚜기': 6350, '사흘': 6351, '붙이': 6352, '에어로빅': 6353, '왈칵': 6354, '덤덤하다': 6355, '스크린': 6356, '열기': 6357, '심리상담': 6358, '욕실': 6359, '현명하다': 6360, '재건축': 6361, '사모님': 6362, '친분': 6363, '필': 6364, '범': 6365, '하차': 6366, '혈당량': 6367, '퍼뜨려': 6368, '들먹이다': 6369, '수나': 6370, '삼겹살': 6371, '하향': 6372, '안기다': 6373, '숙연': 6374, '축농증': 6375, '간밤': 6376, '덩이': 6377, '자해': 6378, '움직임': 6379, '두텁다': 6380, '생생하다': 6381, '구성': 6382, '짝짝이': 6383, '못지않다': 6384, '통계': 6385, '해오': 6386, '우연이': 6387, '신지': 6388, '도울': 6389, '결항': 6390, '확산': 6391, '특성': 6392, '칠십이': 6393, '맹세코': 6394, '무직': 6395, '절': 6396, '가차': 6397, '성대': 6398, '혹사': 6399, '시큰둥하다': 6400, '다음주': 6401, '흩어지다': 6402, '곰팡이': 6403, '타입': 6404, '금산사': 6405, '도태': 6406, '세고': 6407, '즉석식품': 6408, '엇갈리다': 6409, '아프리카': 6410, '인형': 6411, '고아원': 6412, '오래간만': 6413, '콜센터': 6414, '근무시간': 6415, '고심': 6416, '사비': 6417, '줄넘기': 6418, '으름장': 6419, '건조하다': 6420, '생리대': 6421, '외투': 6422, '여지': 6423, '건전지': 6424, '파': 6425, '액정': 6426, '신종': 6427, '잘나오다': 6428, '합류': 6429, '시집살이': 6430, '과장하다': 6431, '사방': 6432, '기원': 6433, '가져다주다': 6434, '피지': 6435, '부정행위': 6436, '민수': 6437, '당번': 6438, '한문': 6439, '흉터': 6440, '환승': 6441, '다솜': 6442, '굴': 6443, '여윳돈': 6444, '욱하': 6445, '한층': 6446, '고자질': 6447, '땡볕': 6448, '튀어': 6449, '치인': 6450, '사체': 6451, '작정': 6452, '남녀': 6453, '부실하다': 6454, '내장': 6455, '달이다': 6456, '밤중': 6457, '오류로': 6458, '윗몸일으키기': 6459, '패가망신': 6460, '맛보다': 6461, '쪼잔하': 6462, '헛디디다': 6463, '호강': 6464, '중천': 6465, '밥상머리': 6466, '엎었': 6467, '왕인': 6468, '하녀': 6469, '발끝': 6470, '연골': 6471, '물질': 6472, '차기': 6473, '켜': 6474, '전문성': 6475, '독일': 6476, '유연하다': 6477, '대상포진': 6478, '저택': 6479, '여사': 6480, '유서': 6481, '등반': 6482, '무관심': 6483, '남친': 6484, '하직': 6485, '우정': 6486, '세탁': 6487, '상심': 6488, '날인': 6489, '법률': 6490, '치명': 6491, '적립': 6492, '타오': 6493, '정액': 6494, '발버둥': 6495, '유형': 6496, '해먹': 6497, '옥자': 6498, '쩝쩝': 6499, '팔로': 6500, '일수록': 6501, '나아가다': 6502, '적어도': 6503, '명성': 6504, '혜인': 6505, '필요없다': 6506, '목발': 6507, '폭탄': 6508, '정돈': 6509, '자락': 6510, '변덕': 6511, '지사': 6512, '호출': 6513, '구실': 6514, '강박': 6515, '발표회': 6516, '깨뜨리다': 6517, '눈병': 6518, '남부럽다': 6519, '멀뚱하다': 6520, '오천': 6521, '부러': 6522, '무리다': 6523, '모발': 6524, '속도위반': 6525, '개교': 6526, '보육원': 6527, '반기': 6528, '비치다': 6529, '멤버': 6530, '배탈': 6531, '비운': 6532, '일부분': 6533, '밥풀': 6534, '내려앉다': 6535, '날카로워지다': 6536, '뒷산': 6537, '하란': 6538, '조리': 6539, '주랑': 6540, '광택': 6541, '청렴': 6542, '이불': 6543, '퍼뜨렸': 6544, '백두산': 6545, '침착하다': 6546, '확진': 6547, '그대': 6548, '근거': 6549, '교활하다': 6550, '순진하다': 6551, '아사코': 6552, '별장': 6553, '스럽지도': 6554, '관성': 6555, '스페인': 6556, '사후세계': 6557, '전염': 6558, '데이터': 6559, '친형': 6560, '협착증': 6561, '경미하다': 6562, '별세': 6563, '문책': 6564, '인기투표': 6565, '집단': 6566, '기관': 6567, '음료': 6568, '내력': 6569, '사주': 6570, '입력': 6571, '러시': 6572, '우수': 6573, '관대하다': 6574, '둘러대다': 6575, '평범하다': 6576, '놨는데': 6577, '치욕스럽다': 6578, '깨트렸어': 6579, '삼천만': 6580, '이구나': 6581, '투여': 6582, '퍼뜨린': 6583, '왕년': 6584, '따분하다': 6585, '융통성': 6586, '중매': 6587, '자영': 6588, '소형차': 6589, '잔기침': 6590, '더러워지다': 6591, '전전': 6592, '섣부르다': 6593, '자동': 6594, '경로': 6595, '여운': 6596, '순수하다': 6597, '무게': 6598, '닳다': 6599, '농촌': 6600, '염색': 6601, '애프터': 6602, '울리다': 6603, '아첨': 6604, '순조': 6605, '출시': 6606, '수칙': 6607, '순은': 6608, '난데없이': 6609, '철석': 6610, '뇌혈관': 6611, '열중': 6612, '말끝': 6613, '오만원': 6614, '대기발령': 6615, '랬': 6616, '디지털': 6617, '조율': 6618, '질린다': 6619, '열악하다': 6620, '밭일': 6621, '상종': 6622, '감량': 6623, '스타': 6624, '병환': 6625, '건방지다': 6626, '스킬': 6627, '상주': 6628, '퍼': 6629, '클래스': 6630, '엠알아': 6631, '외적인': 6632, '육십오': 6633, '기지개': 6634, '외할아버지': 6635, '감회': 6636, '꼬락서니': 6637, '자소': 6638, '콩알': 6639, '섭취': 6640, '분량': 6641, '마침': 6642, '소소하다': 6643, '덩': 6644, '구체': 6645, '무마': 6646, '스페인어': 6647, '해롭다': 6648, '토악질': 6649, '무심코': 6650, '생명보험': 6651, '녹용': 6652, '털모자': 6653, '차단': 6654, '사의': 6655, '한가하다': 6656, '과격하다': 6657, '어지간하다': 6658, '갑상선암': 6659, '책임자': 6660, '젖': 6661, '유언비어': 6662, '인식': 6663, '업주': 6664, '유흥': 6665, '운동신경': 6666, '으로나': 6667, '작아지다': 6668, '까맣다': 6669, '고교': 6670, '벌금': 6671, '일꾼': 6672, '마인드': 6673, '떳떳하다': 6674, '딸애': 6675, '불의': 6676, '수포': 6677, '배구': 6678, '꼬르륵': 6679, '카네이션': 6680, '적정': 6681, '애완견': 6682, '둘러싸이다': 6683, '한결같이': 6684, '어버이': 6685, '칠십팔이': 6686, '변동': 6687, '찬스': 6688, '얽히다': 6689, '학연': 6690, '떠돌다': 6691, '적합하다': 6692, '티끌': 6693, '사슴벌레': 6694, '새해': 6695, '케이': 6696, '짜릿하다': 6697, '진동': 6698, '소고기': 6699, '액세서리': 6700, '띄엄띄엄': 6701, '체험학습': 6702, '그런대로': 6703, '산책로': 6704, '휘트니': 6705, '입도': 6706, '클라우드': 6707, '줄어드': 6708, '예술': 6709, '보직변경': 6710, '상이': 6711, '새아버지': 6712, '그치다': 6713, '한자리': 6714, '짊어지': 6715, '따로따로': 6716, '주소': 6717, '앓아눕다': 6718, '참혹하다': 6719, '울상': 6720, '여우': 6721, '유도': 6722, '공황': 6723, '야무지다': 6724, '멋': 6725, '아래층': 6726, '연신': 6727, '털털': 6728, '호프': 6729, '영업정지': 6730, '본대': 6731, '어울림': 6732, '일이구': 6733, '모피': 6734, '매니아': 6735, '쪽팔리다': 6736, '티켓': 6737, '생태계': 6738, '파괴': 6739, '몰아치다': 6740, '신호등': 6741, '스마트': 6742, '올가미': 6743, '점집': 6744, '한주': 6745, '영업직': 6746, '들러리': 6747, '워드': 6748, '중고': 6749, '쓰시': 6750, '친숙하다': 6751, '세력': 6752, '생활기록부': 6753, '어김없이': 6754, '귀감': 6755, '성찰': 6756, '함흥차사': 6757, '뀌어': 6758, '백미': 6759, '사그라지다': 6760, '침울하다': 6761, '능숙하다': 6762, '납입': 6763, '등하굣길': 6764, '틈틈이': 6765, '노환': 6766, '킥': 6767, '보드': 6768, '마침내': 6769, '항심': 6770, '경지': 6771, '이르렀다': 6772, '사택': 6773, '이송': 6774, '강점': 6775, '볕': 6776, '합석': 6777, '반딧불': 6778, '대드': 6779, '자유분방하다': 6780, '여야': 6781, '무자비하다': 6782, '바래다주다': 6783, '게임중독': 6784, '나란하다': 6785, '롤': 6786, '객': 6787, '진즉': 6788, '환장하다': 6789, '나누기': 6790, '송두리째': 6791, '잠잠하다': 6792, '정신장애': 6793, '수유': 6794, '시끌시끌하다': 6795, '입학식': 6796, '수천만': 6797, '치장': 6798, '??': 6799, '뭉클하다': 6800, '몸집': 6801, '주가지수': 6802, '여름방학': 6803, '몽': 6804, '과시': 6805, '그래그래': 6806, '선망': 6807, '플루': 6808, '대표이사': 6809, '위조품': 6810, '관철': 6811, '무감각': 6812, '은행업': 6813, '무도': 6814, '영역': 6815, '모바일': 6816, '독학': 6817, '이정': 6818, '응시': 6819, '압도': 6820, '산불': 6821, '활약': 6822, '징징거리다': 6823, '유용하다': 6824, '날아다니다': 6825, '법석': 6826, '과만': 6827, '손위': 6828, '화이트': 6829, '천년': 6830, '체격': 6831, '재활용': 6832, '수거': 6833, '당사자': 6834, '관여': 6835, '추슬러': 6836, '맑은': 6837, '신자': 6838, '무종교': 6839, '용납': 6840, '완벽주의자': 6841, '머무르다': 6842, '풀어지다': 6843, '옹호': 6844, '머': 6845, '고요함': 6846, '갈아': 6847, '미화': 6848, '장어': 6849, '씻기다': 6850, '굽히다': 6851, '제각각': 6852, '적당': 6853, '솔루션': 6854, '주리': 6855, '경위': 6856, '증원': 6857, '휩싸이다': 6858, '미역': 6859, '완도': 6860, '바꿔치다': 6861, '얼음': 6862, '부득이': 6863, '오타': 6864, '재산상속': 6865, '수학과': 6866, '울분': 6867, '영양사': 6868, '심화': 6869, '일수': 6870, '삼총사': 6871, '스케이트': 6872, '체결': 6873, '사들이다': 6874, '세방': 6875, '상대편': 6876, '낙상': 6877, '뿌리치다': 6878, '엉': 6879, '성해': 6880, '요로결석': 6881, '헉헉거리다': 6882, '혼담': 6883, '프린트': 6884, '추모': 6885, '바닷가': 6886, '조르지': 6887, '정오': 6888, '일찍이': 6889, '치켜세우다': 6890, '똑': 6891, '작은딸': 6892, '백만원': 6893, '재난': 6894, '탐방': 6895, '취조': 6896, '광주': 6897, '혼잣말': 6898, '여자도': 6899, '푹신하다': 6900, '기필코': 6901, '메우다': 6902, '나오니': 6903, '온돌': 6904, '대패': 6905, '부케': 6906, '중계': 6907, '사량': 6908, '쬐다': 6909, '나마': 6910, '테니스': 6911, '온라인과': 6912, '오프라인': 6913, '나일': 6914, '욱했던': 6915, '어쩐': 6916, '고지': 6917, '아이스크림': 6918, '장일': 6919, '더미': 6920, '꼽아보': 6921, '언어': 6922, '메이커': 6923, '피트니스': 6924, '출판': 6925, '공인': 6926, '중개사': 6927, '중개': 6928, '답례': 6929, '벼슬도': 6930, '빗다': 6931, '사레': 6932, '성전환자': 6933, '정신질환': 6934, '자빠지다': 6935, '물르다': 6936, '세차': 6937, '익': 6938, '거창하다': 6939, '바다로': 6940, '폭풍우': 6941, '순환': 6942, '찌릿찌릿하다': 6943, '헐다': 6944, '배송': 6945, '베개': 6946, '유리하다': 6947, '국가고시': 6948, '안치': 6949, '약수터': 6950, '으슬으슬': 6951, '방사선': 6952, '왕복': 6953, '위함': 6954, '리스크': 6955, '전립선암': 6956, '교정': 6957, '배움터': 6958, '제보자': 6959, '거덜': 6960, '고요하다': 6961, '콘테스트': 6962, '개최': 6963, '서성거리다': 6964, '비축': 6965, '건설업': 6966, '가만있다': 6967, '유무': 6968, '좌석': 6969, '시트': 6970, '지면': 6971, '꿰': 6972, '궂은일': 6973, '층집': 6974, '사랑스럽다': 6975, '세지': 6976, '우등상': 6977, '네일아트': 6978, '루테인': 6979, '서바이벌': 6980, '멘붕': 6981, '상상임신': 6982, '빈틈': 6983, '천사처럼': 6984, '연구실': 6985, '벌겋다': 6986, '중책': 6987, '지킴': 6988, '놨겠다': 6989, '형호': 6990, '제하': 6991, '잡지': 6992, '퇴소': 6993, '학': 6994, '처치': 6995, '갈리다': 6996, '넘겨받다': 6997, '한살이': 6998, '킬로': 6999, '질해': 7000, '지방함량': 7001, '편견': 7002, '유니세프': 7003, '이세': 7004, '구년': 7005, '방면': 7006, '이중성': 7007, '마': 7008, '불로소득': 7009, '리다': 7010, '방조': 7011, '아사': 7012, '기침약': 7013, '과학고': 7014, '빼기': 7015, '은연중': 7016, '취업률': 7017, '역대': 7018, '수없이': 7019, '스테이크': 7020, '재해': 7021, '대론': 7022, '골고루': 7023, '국수': 7024, '먹여주다': 7025, '철인': 7026, '플래카드': 7027, '외딴섬': 7028, '지로': 7029, '위절제술': 7030, '환기': 7031, '배낭여행': 7032, '생일케이크': 7033, '콱': 7034, '명세서': 7035, '전산': 7036, '헛소리': 7037, '으로서는': 7038, '시렁': 7039, '삐쩍': 7040, '소모품': 7041, '매스컴': 7042, '친족': 7043, '상일': 7044, '이사도': 7045, '연세대': 7046, '증권': 7047, '암산': 7048, '띄우다': 7049, '성당': 7050, '위험수위': 7051, '대수': 7052, '파스타': 7053, '알람': 7054, '섬유': 7055, '용접': 7056, '서적': 7057, '툴툴댔더': 7058, '정류장': 7059, '새치기': 7060, '항암제': 7061, '미네': 7062, '권력': 7063, '쳇바퀴': 7064, '다람쥐': 7065, '안위': 7066, '민정': 7067, '돌리지': 7068, '명령': 7069, '의예': 7070, '커피믹스': 7071, '돌발': 7072, '어쩌자': 7073, '잡음': 7074, '라식수술': 7075, '개강': 7076, '꼿꼿하다': 7077, '묵묵': 7078, '낄낄': 7079, '부자간': 7080, '티격태격해': 7081, '빗자루': 7082, '매니지먼트': 7083, '제로': 7084, '시리': 7085, '스카웃': 7086, '주전': 7087, '결함': 7088, '양파': 7089, '타자': 7090, '이로': 7091, '한해': 7092, '차량': 7093, '택해': 7094, '겁쟁이': 7095, '장의': 7096, '랜덤': 7097, '피기': 7098, '무려': 7099, '예비신부': 7100, '자기계발': 7101, '금고': 7102, '닥달': 7103, '단장': 7104, '기여': 7105, '비틀': 7106, '나진': 7107, '다발': 7108, '유령': 7109, '급락': 7110, '마그네슘': 7111, '슬며시': 7112, '한눈팔다': 7113, '의과대학': 7114, '육군사관학교': 7115, '추기': 7116, '조장': 7117, '리더십': 7118, '앞뒤': 7119, '세균': 7120, '번식': 7121, '옥탑방': 7122, '매니큐어': 7123, '차근차근하다': 7124, '유치장': 7125, '난건': 7126, '치민': 7127, '목적지': 7128, '수출': 7129, '드세지다': 7130, '투찰': 7131, '세포': 7132, '번창': 7133, '선후배': 7134, '관객': 7135, '사백': 7136, '팔십이': 7137, '이상신': 7138, '호가': 7139, '땜': 7140, '어안': 7141, '벙벙하다': 7142, '통역사': 7143, '원활하다': 7144, '묵묵하다': 7145, '베테': 7146, '태평하다': 7147, '투약': 7148, '증여': 7149, '고의': 7150, '장애우': 7151, '질도': 7152, '구순': 7153, '태교': 7154, '일확천금': 7155, '입실': 7156, '사고뭉치': 7157, '쇠약하다': 7158, '억압받다': 7159, '차비': 7160, '자본주의': 7161, '카레': 7162, '윤': 7163, '바퀴벌레': 7164, '흘겨보다': 7165, '반신': 7166, '움츠리다': 7167, '사이비': 7168, '오목': 7169, '욕구': 7170, '요추': 7171, '협착': 7172, '오백만원': 7173, '다한': 7174, '변성기': 7175, '유기농': 7176, '곡물': 7177, '검색': 7178, '꿀꿀하다': 7179, '짓궃': 7180, '이자율': 7181, '대니': 7182, '기둥': 7183, '저장': 7184, '부둥켜안다': 7185, '증명사진': 7186, '?.': 7187, '쇼': 7188, '윈도': 7189, '일삼': 7190, '원가': 7191, '재건': 7192, '잔소릴': 7193, '꼬마': 7194, '핼쑥': 7195, '해지니': 7196, '체지방률': 7197, '3년': 7198, '뻘쭘해': 7199, '빈둥대던': 7200, '불장난': 7201, '권투': 7202, '래미': 7203, '하룻밤': 7204, '심성': 7205, '부터가': 7206, '군상': 7207, '정나미': 7208, '전업': 7209, '흥미롭다': 7210, '청결': 7211, '감사히': 7212, '치주염': 7213, '판단력': 7214, '냉소': 7215, '본능': 7216, '천장': 7217, '자칫': 7218, '엎었어': 7219, '어우': 7220, '안식처': 7221, '비대증': 7222, '회서': 7223, '개고기': 7224, '들보': 7225, '환호성': 7226, '합심': 7227, '처절하다': 7228, '이맘때': 7229, '혈중': 7230, '시라': 7231, '자기개발': 7232, '가부장': 7233, '통제': 7234, '가르침': 7235, '백팔이': 7236, '뽀삐': 7237, '견주': 7238, '쌍방': 7239, '귓속말': 7240, '삼십육': 7241, '앞서서': 7242, '재활용품': 7243, '독수공방': 7244, '원천': 7245, '교통비': 7246, '삭히다': 7247, '전교꼴등': 7248, '짤렸어': 7249, '약혼녀': 7250, '하얗다': 7251, '몰두하다': 7252, '생필품': 7253, '오른쪽': 7254, '비문증': 7255, '가불': 7256, '혼사': 7257, '십수': 7258, '반등': 7259, '맞대다': 7260, '순직': 7261, '전신': 7262, '수로': 7263, '복무': 7264, '진도면': 7265, '더치': 7266, '가로등': 7267, '가정법원': 7268, '괴리감': 7269, '대피': 7270, '고스톱': 7271, '학자금대출': 7272, '발짝': 7273, '정리정돈': 7274, '사례금': 7275, '수락': 7276, '어나': 7277, '풋살': 7278, '이드': 7279, '판촉': 7280, '차출': 7281, '숙면': 7282, '코드': 7283, '아파해': 7284, '꺼림칙하다': 7285, '국채': 7286, '시전': 7287, '창자': 7288, '어린이': 7289, '편의': 7290, '어그러지다': 7291, '곽': 7292, '까닥': 7293, '카풀': 7294, '보안': 7295, '영진': 7296, '해석': 7297, '문전': 7298, '깨나': 7299, '귀중하다': 7300, '콜로라도주': 7301, '자연스레': 7302, '입학시험': 7303, '발톱': 7304, '장년': 7305, '사교육': 7306, '조례': 7307, '밑바닥': 7308, '천원': 7309, '가군': 7310, '남남': 7311, '강압': 7312, '콜록콜록': 7313, '재물': 7314, '학폭': 7315, '맞서다': 7316, '난방': 7317, '억대': 7318, '다양해지다': 7319, '까탈': 7320, '최소': 7321, '덜하다': 7322, '밑었던': 7323, '파란': 7324, '대문': 7325, '조이다': 7326, '가품': 7327, '옥살이': 7328, '체제': 7329, '돌입': 7330, '돌려막기': 7331, '기성세대': 7332, '곰곰': 7333, '행각': 7334, '인격': 7335, '동물원': 7336, '침해': 7337, '후룸라이드': 7338, '오르락내리락': 7339, '파격': 7340, '얻어맞다': 7341, '낙태': 7342, '근절': 7343, '끌어내리다': 7344, '솟구치다': 7345, '물정': 7346, '네이버': 7347, '크릴': 7348, '오일': 7349, '중금속': 7350, '안하무인': 7351, '해고자': 7352, '학회': 7353, '도련님': 7354, '거더': 7355, '몸뚱어리': 7356, '개방': 7357, '얹히다': 7358, '고산': 7359, '지대': 7360, '병적': 7361, '최상': 7362, '은혜': 7363, '먹구름': 7364, '화창하다': 7365, '조폭': 7366, '팔도': 7367, '주야장천': 7368, '영화관': 7369, '들여놓다': 7370, '녹차': 7371, '차사': 7372, '꼰대': 7373, '처방전': 7374, '퇴로': 7375, '꺾다': 7376, '핸드백': 7377, '예치': 7378, '동성애': 7379, '위스키': 7380, '기와': 7381, '환우': 7382, '난장판': 7383, '해킹': 7384, '약용식물': 7385, '난이도': 7386, '기금': 7387, '원기준': 7388, '분할': 7389, '건재': 7390, '남한': 7391, '하청': 7392, '중점': 7393, '난후': 7394, '관둘': 7395, '멍하니': 7396, '욕구불만': 7397, '문헌정보': 7398, '아보': 7399, '종합병원': 7400, '수위': 7401, '헛딛는': 7402, '월간지': 7403, '산걸': 7404, '전동': 7405, '올림픽': 7406, '로되': 7407, '대만': 7408, '혈기': 7409, '몸뚱아리': 7410, '도사': 7411, '이러하다': 7412, '외양': 7413, '따내다': 7414, '껍데기': 7415, '며늘': 7416, '겨울철': 7417, '신경증': 7418, '비중': 7419, '경직': 7420, '만큼이나': 7421, '일손': 7422, '괄시': 7423, '미천하다': 7424, '막냇동생': 7425, '익다': 7426, '열한': 7427, '제약회사': 7428, '공중화장실': 7429, '뚜껑': 7430, '아이템': 7431, '장례비용': 7432, '고래': 7433, '새우등': 7434, '도리': 7435, '토박이': 7436, '애정도': 7437, '염두': 7438, '출근시간': 7439, '불성': 7440, '백오십': 7441, '휴무': 7442, '물병': 7443, '는가': 7444, '평안하다': 7445, '셰계': 7446, '폐병': 7447, '영지': 7448, '상철': 7449, '영점': 7450, '음감': 7451, '조그마하다': 7452, '처자': 7453, '반도체': 7454, '행세': 7455, '산물': 7456, '붐': 7457, '미투': 7458, '인수합병': 7459, '박수': 7460, '줏대': 7461, '바르게': 7462, '정심': 7463, '안건': 7464, '잔반': 7465, '축소': 7466, '코코아': 7467, '음미': 7468, '연극배우': 7469, '재택': 7470, '특수부대': 7471, '경운기': 7472, '로나': 7473, '더부룩하다': 7474, '들려주다': 7475, '일관': 7476, '작심삼일': 7477, '사철': 7478, '거둬들이다': 7479, '내자': 7480, '뻗다': 7481, '궁색하다': 7482, '제작': 7483, '알아맞히다': 7484, '기역': 7485, '자만': 7486, '설탕': 7487, '충동': 7488, '가죽': 7489, '남일': 7490, '사죄': 7491, '핑곗거리': 7492, '어두우': 7493, '중압감': 7494, '설문조사': 7495, '냉혹하다': 7496, '연달': 7497, '페인트': 7498, '유력': 7499, '유라': 7500, '잔쯕': 7501, '떵떵': 7502, '드러나다': 7503, '오르간': 7504, '주자': 7505, '패거리': 7506, '쫄면': 7507, '신어': 7508, '창립': 7509, '무가': 7510, '배당': 7511, '꿋꿋하다': 7512, '베트남': 7513, '입국': 7514, '송년회': 7515, '날씨예보': 7516, '인파': 7517, '일명': 7518, '창창하다': 7519, '날밤': 7520, '재항암': 7521, '닥치고': 7522, '툴툴거리': 7523, '반신불수': 7524, '젤': 7525, '국비': 7526, '치료법': 7527, '헤드셋': 7528, '콩쿠르': 7529, '거북하다': 7530, '결코': 7531, '학용품': 7532, '황천': 7533, '컨설턴트': 7534, '용의자': 7535, '설렁설렁': 7536, '자자하다': 7537, '진탕': 7538, '목격자': 7539, '곯다': 7540, '냉랭하다': 7541, '티나': 7542, '명함': 7543, '덕담': 7544, '수요일': 7545, '치근덕거리다': 7546, '농구': 7547, '조직개편': 7548, '신생': 7549, '대각선': 7550, '가줄': 7551, '동락': 7552, '빈칸': 7553, '목구멍': 7554, '수치심': 7555, '버럭대다': 7556, '지칭': 7557, '용어': 7558, '고수': 7559, '금세': 7560, '유리창': 7561, '칫솔': 7562, '에게서도': 7563, '생겨나다': 7564, '깜짝깜짝': 7565, '나로': 7566, '취했다': 7567, '지민': 7568, '한눈': 7569, '불완전하다': 7570, '가꾸다': 7571, '일주': 7572, '식상하다': 7573, '놨더': 7574, '백팔십팔': 7575, '센티미터': 7576, '강인': 7577, '페이스': 7578, '예견': 7579, '유튜버로': 7580, '악플': 7581, '이기심': 7582, '충만': 7583, '부로': 7584, '공포증': 7585, '감안': 7586, '면제': 7587, '취준생': 7588, '총괄': 7589, '구성원': 7590, '일억만': 7591, '하와이': 7592, '엄연하다': 7593, '유골': 7594, '소실': 7595, '차키': 7596, '머쓱하다': 7597, '방출': 7598, '보탬': 7599, '여름날': 7600, '십여': 7601, '스톡옵션': 7602, '우러러': 7603, '괴로움': 7604, '장마철': 7605, '장대': 7606, '전교회장': 7607, '전가': 7608, '습도': 7609, '순대': 7610, '명예훼손': 7611, '탑골': 7612, '한판': 7613, '가족계획': 7614, '에까지': 7615, '짱': 7616, '웅덩이': 7617, '곤충': 7618, '숨찬': 7619, '애틋하다': 7620, '갈팡질팡': 7621, '굴레': 7622, '승률': 7623, '막둥': 7624, '눈길': 7625, '예사롭다': 7626, '전자레인지': 7627, '관련성': 7628, '국제': 7629, '재결합': 7630, '생물학자': 7631, '만병통치약': 7632, '어치': 7633, '들추다': 7634, '알콜': 7635, '스토커': 7636, '오번': 7637, '사족': 7638, '이인삼각': 7639, '대범하다': 7640, '푸대접': 7641, '군무원': 7642, '표시': 7643, '상도': 7644, '천국': 7645, '알코올중독': 7646, '일일구': 7647, '넌': 7648, '감상문': 7649, '보미': 7650, '아웃백': 7651, '경희대': 7652, '이심': 7653, '걷히다': 7654, '확답': 7655, '담담하다': 7656, '소규모': 7657, '동창생': 7658, '도래': 7659, '수완': 7660, '초소': 7661, '카메라': 7662, '년전': 7663, '고하': 7664, '술버릇': 7665, '늘씬하다': 7666, '집안사람': 7667, '영화제': 7668, '영향력': 7669, '피곤': 7670, '토론': 7671, '새하얘지다': 7672, '차원': 7673, '보상금': 7674, '수립': 7675, '벤처기업': 7676, '신변': 7677, '해몽': 7678, '알림': 7679, '봉지': 7680, '귀하다': 7681, '냉면': 7682, '어리광': 7683, '노궁': 7684, '전조': 7685, '유흥주점': 7686, '급증': 7687, '적격하다': 7688, '부금': 7689, '도입': 7690, '고학력자': 7691, '애달프다': 7692, '유치': 7693, '에프': 7694, '눈독': 7695, '미션': 7696, '무언': 7697, '배분': 7698, '가스레인지': 7699, '끈': 7700, '민철': 7701, '착착': 7702, '화제': 7703, '건다': 7704, '다이아': 7705, '글짓기': 7706, '자궁암': 7707, '목록': 7708, '보도자료': 7709, '가운데': 7710, '홍': 7711, '머릿결': 7712, '심신': 7713, '선보다': 7714, '쇠': 7715, '대거': 7716, '반수': 7717, '항적': 7718, '제라': 7719, '망정': 7720, '멱살': 7721, '평수': 7722, '고모부': 7723, '티격태격하': 7724, '시체': 7725, '오묘하다': 7726, '사유': 7727, '명시': 7728, '목사': 7729, '설경': 7730, '산행': 7731, '래서야': 7732, '에게나': 7733, '부녀회': 7734, '맛탕': 7735, '이뿌다': 7736, '차안': 7737, '말벌': 7738, '레인': 7739, '홍콩': 7740, '청소기': 7741, '귓등': 7742, '머리띠': 7743, '에게로': 7744, '컨닝': 7745, '중재': 7746, '부들부들': 7747, '백조': 7748, '식충이': 7749, '재수없다': 7750, '반면': 7751, '납작하다': 7752, '도질': 7753, '수강': 7754, '췌장': 7755, '보육': 7756, '바람직하다': 7757, '미터': 7758, '쾅': 7759, '리스': 7760, '여드름': 7761, '합동': 7762, '얼렁뚱땅': 7763, '무역': 7764, '물회': 7765, '미세하다': 7766, '전남편': 7767, '거역': 7768, '비롯': 7769, '일본어': 7770, '세제': 7771, '갈망': 7772, '행시': 7773, '펜션': 7774, '만족감': 7775, '육류': 7776, '법안': 7777, '샤프': 7778, '얼버무리다': 7779, '알츠하이머병': 7780, '독점': 7781, '장차': 7782, '유망': 7783, '맹장': 7784, '부간': 7785, '비법': 7786, '에피소드': 7787, '전립선비대증': 7788, '경제학자': 7789, '크루즈': 7790, '유방': 7791, '바비큐': 7792, '텃새': 7793, '공업고등학교': 7794, '올려다보다': 7795, '박하': 7796, '이복': 7797, '선천성': 7798, '황새': 7799, '뱁새': 7800, '못버는데': 7801, '연대': 7802, '떠보다': 7803, '울렁증': 7804, '수백만': 7805, '총애': 7806, '발레': 7807, '감퇴': 7808, '성형수술': 7809, '승객': 7810, '파마': 7811, '괴씸': 7812, '저하': 7813, '블라인드': 7814, '다문화': 7815, '고지서': 7816, '갈아엎다': 7817, '금실': 7818, '구리다': 7819, '야생': 7820, '대한민국': 7821, '집밖': 7822, '미숙아': 7823, '호기심': 7824, '웅': 7825, '얼다': 7826, '밀도': 7827, '피디': 7828, '조산': 7829, '고시원': 7830, '다녀가다': 7831, '소독': 7832, '철썩': 7833, '막바지': 7834, '한도': 7835, '에서만큼은': 7836, '코트': 7837, '저녁밥': 7838, '동요': 7839, '까막눈': 7840, '보드게임': 7841, '경찰관': 7842, '도모': 7843, '밑천': 7844, '표기': 7845, '제자리걸음': 7846, '개입': 7847, '서류철': 7848, '입소': 7849, '뒤척': 7850, '자궁경부암': 7851, '경청': 7852, '억압': 7853, '파도': 7854, '휩쓸다': 7855, '상투': 7856, '어딨다': 7857, '뜻일': 7858, '하나님': 7859, '필리핀': 7860, '두뇌': 7861, '쉬쉬': 7862, '폐기': 7863, '역무': 7864, '콘돔': 7865, '바란': 7866, '지리산': 7867, '다재': 7868, '능': 7869, '다정': 7870, '삼차': 7871, '배움': 7872, '작동': 7873, '담소': 7874, '지도력': 7875, '버킷리스트': 7876, '복합': 7877, '주식시장': 7878, '꼰대들': 7879, '메세지': 7880, '색안경': 7881, '틀림없이': 7882, '맞장구': 7883, '해진': 7884, '집문서': 7885, '발끈': 7886, '살수': 7887, '록': 7888, '이해도': 7889, '발길': 7890, '아치': 7891, '터치': 7892, '아니꼽다': 7893, '천직': 7894, '별명': 7895, '찰': 7896, '골병': 7897, '뭐기': 7898, '바람둥이': 7899, '벽돌': 7900, '이끼': 7901, '골도': 7902, '쫓아오다': 7903, '마리': 7904, '뚫어지다': 7905, '육촌': 7906, '한턱내다': 7907, '점장님': 7908, '이겠다': 7909, '수동': 7910, '친철': 7911, '보직': 7912, '방탄소년단': 7913, '강화하다': 7914, '성능': 7915, '대관절': 7916, '상대자': 7917, '오징어': 7918, '고전': 7919, '위원장': 7920, '전전긍긍': 7921, '호기롭': 7922, '공적': 7923, '들고나다': 7924, '불명예': 7925, '갑상샘암': 7926, '영양가': 7927, '안색': 7928, '한고비': 7929, '넷플릭스': 7930, '획득': 7931, '문해': 7932, '스트레': 7933, '조미료': 7934, '잉크': 7935, '베란다': 7936, '가전제품': 7937, '특유': 7938, '마땅': 7939, '비자': 7940, '부인과': 7941, '박씨': 7942, '가동': 7943, '방송사': 7944, '추잡': 7945, '살더': 7946, '악기': 7947, '다혈질': 7948, '바른': 7949, '한적하다': 7950, '가계약': 7951, '성정체성': 7952, '종용': 7953, '주택연금': 7954, '외진': 7955, '포트폴리오': 7956, '좌지우지': 7957, '롯데': 7958, '월드': 7959, '벨': 7960, '연애편지': 7961, '출결': 7962, '첨부': 7963, '초밥': 7964, '마땅치': 7965, '주병': 7966, '정자': 7967, '판별': 7968, '인공수정': 7969, '주입': 7970, '절뚝': 7971, '다큐': 7972, '흐릿해': 7973, '백해무익': 7974, '물난리': 7975, '살살': 7976, '자랑거리': 7977, '찾아내다': 7978, '사안': 7979, '홀어머니': 7980, '가로막다': 7981, '지리다': 7982, '선행': 7983, '려면': 7984, '둥지': 7985, '참새': 7986, '계산서': 7987, '발행': 7988, '잔디': 7989, '돗자리': 7990, '순하다': 7991, '대주': 7992, '산길': 7993, '식약청': 7994, '검문': 7995, '분도': 7996, '앓이': 7997, '절대음감': 7998, '경멸': 7999, '다년': 8000, '유머러스하다': 8001, '넋두리': 8002, '휘청': 8003, '몇번': 8004, '오월': 8005, '영구': 8006, '서예': 8007, '호적': 8008, '취했더': 8009, '뭣': 8010, '뉴저지': 8011, '은행원': 8012, '궂': 8013, '밤사이': 8014, '봉투': 8015, '째째하다': 8016, '텐트': 8017, '삽입': 8018, '앞진': 8019, '죄인': 8020, '격투기': 8021, '구두쇠': 8022, '얼추': 8023, '쇼크': 8024, '깔보다': 8025, '헤르페스': 8026, '유흥업소': 8027, '다그': 8028, '홈': 8029, '트레이닝': 8030, '파선': 8031, '아나운서': 8032, '호우': 8033, '캠핑카': 8034, '스카프': 8035, '면치': 8036, '관두': 8037, '하원': 8038, '포근하다': 8039, '일원': 8040, '족': 8041, '인솔': 8042, '피부암': 8043, '척척': 8044, '로봇': 8045, '성취': 8046, '혼미하다': 8047, '오래도록': 8048, '연연하다': 8049, '흠': 8050, '불운': 8051, '아이콘': 8052, '봉': 8053, '껄끄러워': 8054, '식기세척기': 8055, '친한친구': 8056, '작당': 8057, '최저임금': 8058, '뛰어다니다': 8059, '돌침대': 8060, '크나크다': 8061, '전략': 8062, '쟁이': 8063, '강원랜드': 8064, '구십이': 8065, '요약': 8066, '마는': 8067, '물불': 8068, '열두시': 8069, '권장': 8070, '어리석음': 8071, '제빵': 8072, '깜깜무소식': 8073, '망언': 8074, '재다': 8075, '삿대질': 8076, '저조하다': 8077, '혁신': 8078, '팔로우': 8079, '투표': 8080, '붙잡히다': 8081, '사실관계': 8082, '거렸': 8083, '무표정': 8084, '유발': 8085, '망태': 8086, '식지': 8087, '방향성': 8088, '업그레이드': 8089, '리스트': 8090, '민낯': 8091, '교습': 8092, '진전': 8093, '모의': 8094, '삼고': 8095, '무인': 8096, '한때': 8097, '공모': 8098, '다나': 8099, '현역': 8100, '소유권': 8101, '으로서의': 8102, '후송': 8103, '성문': 8104, '뉘우치다': 8105, '정원': 8106, '노선': 8107, '구가': 8108, '편파': 8109, '저승사자': 8110, '맹세': 8111, '쟁겨주': 8112, '치유': 8113, '비행청소년': 8114, '상사면': 8115, '지위': 8116, '훨훨': 8117, '사무소': 8118, '갈비뼈': 8119, '브로마이드': 8120, '잇속': 8121, '종말': 8122, '일환': 8123, '웃옷': 8124, '상복': 8125, '긴급하다': 8126, '애원': 8127, '양성애자': 8128, '파마머리': 8129, '소가': 8130, '생명과학': 8131, '사십이': 8132, '중병': 8133, '박동수': 8134, '아역': 8135, '인내심': 8136, '기독교도': 8137, '레고': 8138, '처갓집': 8139, '짓누르다': 8140, '여념': 8141, '화투': 8142, '빡빡': 8143, '지배': 8144, '상장': 8145, '얼싸안다': 8146, '순순하다': 8147, '공백': 8148, '땅문서': 8149, '다세대': 8150, '모니터': 8151, '포옹': 8152, '폭삭': 8153, '행정': 8154, '다시금': 8155, '삔': 8156, '통풍': 8157, '막걸리': 8158, '자네도': 8159, '택할': 8160, '고마움': 8161, '정성스럽다': 8162, '중추': 8163, '신장암': 8164, '무료함': 8165, '개국': 8166, '부끄러움': 8167, '음악회': 8168, '쥐어박다': 8169, '메모': 8170, '애정결핍': 8171, '삼일장': 8172, '안방': 8173, '다라': 8174, '관리직': 8175, '돈대': 8176, '적반하장': 8177, '사과문': 8178, '병균': 8179, '몸싸움': 8180, '표절': 8181, '이인': 8182, '일조': 8183, '널': 8184, '불규칙하다': 8185, '아부해': 8186, '짜장면': 8187, '이석': 8188, '애니메이션': 8189, '만삭': 8190, '카바레': 8191, '땡기다': 8192, '구축': 8193, '로더': 8194, '군기': 8195, '우회': 8196, '통원': 8197, '미세': 8198, '중일': 8199, '간판': 8200, '알라': 8201, '피부관리': 8202, '세척': 8203, '신한': 8204, '나가떨어지다': 8205, '복약': 8206, '부닥치다': 8207, '바람기': 8208, '체면': 8209, '배상금': 8210, '험준하다': 8211, '소름끼치다': 8212, '융통': 8213, '완고하다': 8214, '겁박': 8215, '직렬': 8216, '전세계약': 8217, '중지': 8218, '대적': 8219, '친우': 8220, '밤하늘': 8221, '무관': 8222, '집어넣다': 8223, '결백': 8224, '홀수': 8225, '비거': 8226, '살균제': 8227, '만큼이야': 8228, '점포': 8229, '좌': 8230, '산책길': 8231, '퇴행': 8232, '엎어': 8233, '선입견': 8234, '서질': 8235, '직분': 8236, '심정지': 8237, '이탈': 8238, '우기': 8239, '결판': 8240, '친자검사': 8241, '위약금': 8242, '뻣뻣하다': 8243, '친아빠': 8244, '민해지니': 8245, '줄기세포': 8246, '서점': 8247, '메뉴얼': 8248, '남탕': 8249, '정비': 8250, '차남': 8251, '날아오다': 8252, '목장': 8253, '피티': 8254, '돌부리': 8255, '알차다': 8256, '쭈글쭈글하다': 8257, '헤아리다': 8258, '패싸움': 8259, '주름살': 8260, '말론': 8261, '천하': 8262, '몹쓸': 8263, '밸런스': 8264, '게으름': 8265, '삼계탕': 8266, '하고의': 8267, '횡재': 8268, '교생': 8269, '구애': 8270, '건너편': 8271, '명일': 8272, '민회': 8273, '주민등록': 8274, '오한': 8275, '유명인': 8276, '이른바': 8277, '물밀': 8278, '이상야릇하다': 8279, '순서대로': 8280, '프라푸치노': 8281, '인심': 8282, '월차': 8283, '밤샘': 8284, '직속상관': 8285, '집밥': 8286, '배지': 8287, '벼슬': 8288, '복부비만': 8289, '단합': 8290, '애해': 8291, '통행': 8292, '콜라': 8293, '애착': 8294, '나른하다': 8295, '하루살이': 8296, '뒤로': 8297, '어림': 8298, '불문': 8299, '백이십': 8300, '장비': 8301, '헛일': 8302, '집회': 8303, '빵빵': 8304, '간도': 8305, '가축': 8306, '뒷덜미': 8307, '교': 8308, '세태': 8309, '밤낮': 8310, '예요': 8311, '끈기': 8312, '튀김': 8313, '느': 8314, '메달': 8315, '오거': 8316, '호칭': 8317, '억제': 8318, '껏': 8319, '방전': 8320, '떨구다': 8321, '제나': 8322, '잔업': 8323, '어미': 8324, '잠꼬대': 8325, '강탈': 8326, '우러러보': 8327, '케어': 8328, '브리핑': 8329, '중복': 8330, '정문': 8331, '자치': 8332, '결론': 8333, '자작': 8334, '곧잘': 8335, '친오빠': 8336, '바로잡다': 8337, '안취': 8338, '헛걸음': 8339, '존대': 8340, '젋었': 8341, '초콜릿': 8342, '지니': 8343, '휴양': 8344, '그럴듯하다': 8345, '연습생': 8346, '어린이날': 8347, '표준': 8348, '벼락치기': 8349, '백도': 8350, '군것질': 8351, '구내식당': 8352, '재우다': 8353, '스레': 8354, '눕혔는데': 8355, '옛날이야기': 8356, '잡아가다': 8357, '출연': 8358, '그다지': 8359, '불순': 8360, '무임': 8361, '승차': 8362, '다야': 8363, '졸지': 8364, '공복': 8365, '음으로': 8366, '연관': 8367, '일쑤': 8368, '운전대': 8369, '고현': 8370, '번의': 8371, '개통': 8372, '다급해지다': 8373, '가상': 8374, '화폐': 8375, '애초': 8376, '인증': 8377, '유혹': 8378, '성관계': 8379, '휴양지': 8380, '밥투': 8381, '서양화': 8382, '교양': 8383, '십년감수': 8384, '빈둥거리': 8385, '적기': 8386, '수금': 8387, '카트': 8388, '프로그래머': 8389, '천근': 8390, '정성은': 8391, '포': 8392, '미관': 8393, '라미': 8394, '태생': 8395, '액자': 8396, '어머': 8397, '소희': 8398, '예상외': 8399, '색시': 8400, '탄산음료': 8401, '열시': 8402, '신인': 8403, '영어실력': 8404, '사례': 8405, '할멈들': 8406, '떄문': 8407, '폐활량': 8408, '동맥경화': 8409, '라식': 8410, '허리띠': 8411, '일보': 8412, '운전자': 8413, '무신': 8414, '사양': 8415, '범주': 8416, '괴팍': 8417, '선출': 8418, '사촌동생': 8419, '흐릿하': 8420, '마음가짐': 8421, '마땅찮다': 8422, '당부': 8423, '넌지시': 8424, '라는데': 8425, '스런': 8426, '장성': 8427, '셀': 8428, '외동': 8429, '성비': 8430, '금지법': 8431, '젊은것': 8432, '까불다': 8433, '중과세': 8434, '공시가격': 8435, '급등': 8436, '화학': 8437, '반대편': 8438, '전송': 8439, '참내': 8440, '무분별': 8441, '십이': 8442, '생사': 8443, '불분명': 8444, '설움': 8445, '호응': 8446, '정치가': 8447, '내과': 8448, '자식새끼': 8449, '경시': 8450, '응답': 8451, '대성통곡': 8452, '무소식': 8453, '꼴불견': 8454, '폐수': 8455, '방류': 8456, '물고기': 8457, '훈련소': 8458, '갈비찜': 8459, '남김없이': 8460, '폐해': 8461, '믹스': 8462, '경계': 8463, '멘트': 8464, '룰루랄라': 8465, '공세': 8466, '프라모델': 8467, '손수': 8468, '손수건': 8469, '이보': 8470, '최소한': 8471, '바람둥': 8472, '뛰어오르다': 8473, '콕': 8474, '친한척': 8475, '하혈': 8476, '시시콜콜': 8477, '다락방': 8478, '쌍꺼풀': 8479, '락': 8480, '어설프다': 8481, '명동': 8482, '시보': 8483, '장시간': 8484, '맨발': 8485, '기곈': 8486, '차감': 8487, '가이드': 8488, '시디': 8489, '성화니': 8490, '자재': 8491, '가설': 8492, '몰입': 8493, '관광지': 8494, '북': 8495, '부스럭': 8496, '병약하다': 8497, '식물인간': 8498, '허례': 8499, '허식': 8500, '생략': 8501, '치도': 8502, '나앉다': 8503, '애완동물': 8504, '기혼': 8505, '녹음': 8506, '친밀': 8507, '저주받다': 8508, '번갈아': 8509, '영민': 8510, '몰래카메라': 8511, '여론': 8512, '들쑥날쑥하다': 8513, '놀이기구': 8514, '단단하다': 8515, '슥': 8516, '증서': 8517, '조교': 8518, '월액': 8519, '최저생계비': 8520, '해물탕': 8521, '한라산': 8522, '분양': 8523, '악화시키다': 8524, '묶음': 8525, '때마': 8526, '무상': 8527, '시름시름': 8528, '주일': 8529, '적히다': 8530, '관장': 8531, '분풀이': 8532, '피구': 8533, '익스트림': 8534, '풀칠': 8535, '거참': 8536, '쑥떡': 8537, '바짓가랑이': 8538, '멘탈': 8539, '붕괴': 8540, '줌바': 8541, '치근덕대다': 8542, '외무': 8543, '외교관': 8544, '자연과학': 8545, '학문': 8546, '부침개': 8547, '만회': 8548, '런닝맨': 8549, '토닥이다': 8550, '산산조각': 8551, '대리출석': 8552, '구강': 8553, '아가': 8554, '쩔쩔매다': 8555, '부친상': 8556, '내비게이션': 8557, '건너가다': 8558, '조의': 8559, '큰집': 8560, '전자기기': 8561, '사투리': 8562, '표준어': 8563, '모여들다': 8564, '면도': 8565, '난소': 8566, '에서만이': 8567, '고려장': 8568, '십오': 8569, '오매불망': 8570, '그러기에': 8571, '증조': 8572, '치열하다': 8573, '해선': 8574, '직책': 8575, '비책': 8576, '묏': 8577, '오에이': 8578, '탁월하다': 8579, '서든': 8580, '떨기': 8581, '요강': 8582, '맞닥뜨렸었어': 8583, '알더': 8584, '나주': 8585, '퀴즈쇼': 8586, '작물': 8587, '수확': 8588, '분업': 8589, '목덜미': 8590, '다인': 8591, '동문회': 8592, '철민': 8593, '시들하다': 8594, '실체': 8595, '한약재': 8596, '숨가쁘다': 8597, '가물치': 8598, '공존': 8599, '할껄': 8600, '심기': 8601, '살피': 8602, '시리얼': 8603, '렀': 8604, '부류': 8605, '함정': 8606, '이혼소송': 8607, '오냐': 8608, '시련': 8609, '휘감다': 8610, '업적': 8611, '코딩': 8612, '산업혁명': 8613, '향기': 8614, '식겁하다': 8615, '암투': 8616, '기울어지다': 8617, '컴': 8618, '플레인': 8619, '지우개': 8620, '장식': 8621, '트로피': 8622, '제조': 8623, '제빵사': 8624, '골증': 8625, '간소': 8626, '스몰': 8627, '오픈': 8628, '전면': 8629, '교도소': 8630, '계서': 8631, '부조리': 8632, '빈도': 8633, '외다': 8634, '백칠십이': 8635, '같잖다': 8636, '판명': 8637, '에다가': 8638, '해체': 8639, '분실': 8640, '열차': 8641, '탈선': 8642, '간장게장': 8643, '부업': 8644, '이사장': 8645, '금괴': 8646, '모성애': 8647, '굽실': 8648, '신념': 8649, '와전': 8650, '실용음악': 8651, '성대결절': 8652, '해임': 8653, '허름': 8654, '순탄': 8655, '새치': 8656, '탯줄': 8657, '알뜰하다': 8658, '금융투자': 8659, '관점': 8660, '풍요롭': 8661, '광부': 8662, '질리': 8663, '터널': 8664, '굴착': 8665, '벼르': 8666, '악': 8667, '권한': 8668, '공과금': 8669, '벌렁벌렁': 8670, '엉덩이': 8671, '재니': 8672, '아드님': 8673, '앉히다': 8674, '빠트려': 8675, '여중생': 8676, '부당': 8677, '횟감': 8678, '커밍아웃': 8679, '다름없다': 8680, '초혼': 8681, '부리면': 8682, '비치': 8683, '헬기': 8684, '땅콩': 8685, '끔뻑이': 8686, '방황': 8687, '보아': 8688, '공통점': 8689, '롤모델': 8690, '자수': 8691, '백여': 8692, '섬기다': 8693, '눌리': 8694, '쪼그라들다': 8695, '로고': 8696, '체불': 8697, '어물쩍': 8698, '구지': 8699, '축구선수': 8700, '불리': 8701, '유지비': 8702, '개성': 8703, '때론': 8704, '코로': 8705, '측면': 8706, '경연': 8707, '바퀴': 8708, '과부': 8709, '닌': 8710, '흐름': 8711, '노하우': 8712, '스케줄': 8713, '말주변': 8714, '줌': 8715, '매부': 8716, '속보': 8717, '심심': 8718, '스위스': 8719, '양도': 8720, '수줍다': 8721, '부재': 8722, '위중하다': 8723, '다냬': 8724, '연희': 8725, '삼포': 8726, '칭하': 8727, '다정다감하다': 8728, '치네다': 8729, '라이딩': 8730, '스무살': 8731, '탄탄': 8732, '십상': 8733, '대원': 8734, '기숙': 8735, '초초해': 8736, '슬리퍼': 8737, '모기지론': 8738, '퉁퉁': 8739, '사이즈': 8740, '횟수': 8741, '노리다': 8742, '살로': 8743, '구려': 8744, '악명': 8745, '으레': 8746, '위경련': 8747, '재고': 8748, '정석': 8749, '정통': 8750, '호구': 8751, '병과': 8752, '오십오': 8753, '전등': 8754, '어수룩하다': 8755, '하인': 8756, '학식': 8757, '일자': 8758, '허수아비': 8759, '해주시': 8760, '우두커니': 8761, '일그러지다': 8762, '외손': 8763, '울화': 8764, '할머님': 8765, '개장': 8766, '호주': 8767, '에게까지': 8768, '교환학생': 8769, '딴지': 8770, '위임장': 8771, '아이스': 8772, '이삿짐': 8773, '굿': 8774, '즈': 8775, '서인': 8776, '워크넷': 8777, '기저': 8778, '진수': 8779, '흑': 8780, '남학생': 8781, '개별': 8782, '원고': 8783, '고속': 8784, '굴릴': 8785, '애칭': 8786, '열세': 8787, '돈자': 8788, '위계': 8789, '휴업': 8790, '금슬': 8791, '편리하다': 8792, '공양': 8793, '충치': 8794, '만복': 8795, '근원': 8796, '하지정맥류': 8797, '나무': 8798, '부주의': 8799, '은둔': 8800, '불고기': 8801, '천지': 8802, '이레': 8803, '동전': 8804, '깡통': 8805, '이기주의': 8806, '노령': 8807, '영란': 8808, '환': 8809, '장근이': 8810, '특별대우': 8811, '경황': 8812, '미나': 8813, '물컵': 8814, '경신': 8815, '민우': 8816, '손길': 8817, '다이아몬드': 8818, '그른': 8819, '남다르다': 8820, '빈둥대': 8821, '사상': 8822, '식약처': 8823, '바이크': 8824, '임종은': 8825, '꾸물거리다': 8826, '버셨어': 8827, '말귀': 8828, '형제자매': 8829, '무책임하다': 8830, '미묘하다': 8831, '뭉치다': 8832, '종친회': 8833, '착상': 8834, '선남선녀': 8835, '업소': 8836, '렌스': 8837, '젠더': 8838, '내려놓다': 8839, '그림자': 8840, '구조대': 8841, '박봉': 8842, '인공호흡': 8843, '부착': 8844, '부주의하다': 8845, '요지경': 8846, '소방': 8847, '타부': 8848, '구나': 8849, '노인도': 8850, '요금소': 8851, '기자': 8852, '이적': 8853, '러브콜': 8854, '개시': 8855, '개업': 8856, '킬로나': 8857, '밀고': 8858, '무르': 8859, '삭신': 8860, '사무직': 8861, '받치다': 8862, '것일': 8863, '건너': 8864, '그따위': 8865, '은인': 8866, '벌렁': 8867, '농작물': 8868, '의외': 8869, '부전': 8870, '골수암': 8871, '미비하다': 8872, '거뭇거뭇': 8873, '베스트': 8874, '프': 8875, '랜드': 8876, '동정': 8877, '차분해지다': 8878, '게걸': 8879, '안녕': 8880, '독극물': 8881, '씨름': 8882, '노동부': 8883, '부속품': 8884, '서지': 8885, '댄서': 8886, '스킨': 8887, '하프마라톤': 8888, '보충수업': 8889, '바른길': 8890, '간혹': 8891, '버럭버럭': 8892, '투입': 8893, '토록': 8894, '호화': 8895, '유람선': 8896, '드림': 8897, '카를': 8898, '수업료': 8899, '허무맹랑': 8900, '야위다': 8901, '천만원': 8902, '월경': 8903, '맞춤': 8904, '분윳값': 8905, '분과': 8906, '멋쟁이': 8907, '효': 8908, '맥박': 8909, '한의사': 8910, '허니문': 8911, '정기적금': 8912, '박카스': 8913, '베다': 8914, '손버릇': 8915, '웠': 8916, '포대': 8917, '탕수육': 8918, '반주': 8919, '책장': 8920, '숟가락': 8921, '커버': 8922, '린': 8923, '무력': 8924, '어리바리하다': 8925, '간신히': 8926, '동맥': 8927, '류': 8928, '방석집': 8929, '쓰레기봉투': 8930, '경위서': 8931, '몸조심': 8932, '봉급': 8933, '요구르트': 8934, '근로계약서': 8935, '처신': 8936, '칙': 8937, '훤': 8938, '칠해': 8939, '감염병': 8940, '아날로그': 8941, '우울함': 8942, '고물': 8943, '가시다': 8944, '로란': 8945, '차곡하다': 8946, '사촌오빠': 8947, '와우': 8948, '추근거리다': 8949, '올가을': 8950, '화요일': 8951, '주례': 8952, '추하다': 8953, '롭': 8954, '작은아버지': 8955, '항생제': 8956, '초경': 8957, '방심하다': 8958, '웨어': 8959, '부탁드리다': 8960, '명쾌하다': 8961, '유머': 8962, '대물리다': 8963, '산지': 8964, '치맥': 8965, '배신감드': 8966, '따윈': 8967, '거고': 8968, '친부모': 8969, '새기다': 8970, '센티': 8971, '브': 8972, '비굴하다': 8973, '혼하': 8974, '익히다': 8975, '뻘쭘했어': 8976, '기색': 8977, '영혼': 8978, '통학': 8979, '덤비다': 8980, '준비운동': 8981, '론': 8982, '디저트': 8983, '소수': 8984, '엄습': 8985, '여행기': 8986, '학번': 8987, '병시': 8988, '유행병': 8989, '진담': 8990, '구별': 8991, '차일': 8992, '비판': 8993, '탐색': 8994, '이어진': 8995, '자업자득': 8996, '꼿꼿이': 8997, '무병장수': 8998, '훈육': 8999, '자그마하다': 9000, '복인': 9001, '오억이': 9002, '상실하다': 9003, '신세대': 9004, '국장': 9005, '빠듯하': 9006, '골반': 9007, '현식': 9008, '느슨하다': 9009, '잔잔하다': 9010, '콩나물': 9011, '덤': 9012, '얼떨결': 9013, '편집자': 9014, '빗': 9015, '도세': 9016, '파서': 9017, '우수하다': 9018, '문학소녀': 9019, '앨범': 9020, '씌었던': 9021, '속임수': 9022, '마크': 9023, '강의실': 9024, '금값': 9025, '논밭': 9026, '소인배': 9027, '절실': 9028, '햄스터': 9029, '확실': 9030, '이견': 9031, '좁히다': 9032, '환전': 9033, '고서': 9034, '이쯤': 9035, '통치': 9036, '김치찌개': 9037, '가치': 9038, '간담': 9039, '답문': 9040, '격렬하다': 9041, '복판': 9042, '동물병원': 9043, '우아하다': 9044, '참관': 9045, '하여간': 9046, '차일피일': 9047, '논의': 9048, '문건': 9049, '어긋나게': 9050, '번뜩': 9051, '순이익': 9052, '종신': 9053, '껄': 9054, '빠듯할': 9055, '전철역': 9056, '전단지': 9057, '이십팔': 9058, '경제학': 9059, '소액': 9060, '요금': 9061, '지지도': 9062, '투잡': 9063, '낙도': 9064, '툴툴대더': 9065, '공신': 9066, '인스턴트식품': 9067, '실언': 9068, '희소': 9069, '한심헤': 9070, '담요': 9071, '얼룩': 9072, '회계': 9073, '사담': 9074, '난리치다': 9075, '부의': 9076, '신장결석': 9077, '격차': 9078, '감소': 9079, '토익시험': 9080, '파릇파릇하다': 9081, '환송': 9082, '현직': 9083, '앞세우다': 9084, '쪼': 9085, '트리': 9086, '복날': 9087, '술술': 9088, '경제사': 9089, '군림': 9090, '회신': 9091, '정서': 9092, '한식': 9093, '조리사': 9094, '냉동': 9095, '박아': 9096, '교과': 9097, '더디다': 9098, '팬클럽': 9099, '유가족': 9100, '오살': 9101, '다다르다': 9102, '비행': 9103, '청소년': 9104, '말재': 9105, '화이트데이': 9106, '단위': 9107, '타이': 9108, '마사지': 9109, '홱': 9110, '이억': 9111, '다기': 9112, '불만족': 9113, '초인종': 9114, '첨': 9115, '삭': 9116, '사위다': 9117, '끝없다': 9118, '앰뷸런스': 9119, '난산': 9120, '무궁무진': 9121, '학술': 9122, '졸업생': 9123, '흐': 9124, '로거': 9125, '이율': 9126, '지우': 9127, '까치': 9128, '삼지': 9129, '어영부영': 9130, '안경점': 9131, '찬물': 9132, '따끈하다': 9133, '분별': 9134, '절절': 9135, '무지막지': 9136, '여자라서': 9137, '인대': 9138, '목도': 9139, '핀': 9140, '김치전': 9141, '부스스': 9142, '호명': 9143, '쫓아가다': 9144, '백발': 9145, '돌기': 9146, '악습': 9147, '쾌변': 9148, '벼룩': 9149, '무기한': 9150, '문외한': 9151, '기수': 9152, '삼일': 9153, '굴걸': 9154, '퍼부어': 9155, '끝일': 9156, '악순환': 9157, '브런치': 9158, '임자': 9159, '!!': 9160, '료': 9161, '잉어': 9162, '응급구조대': 9163, '무릅쓰': 9164, '기합': 9165, '기물': 9166, '끝장': 9167, '시동생': 9168, '동원': 9169, '짤릴까': 9170, '아슬아슬하다': 9171, '라디오': 9172, '고리타분하다': 9173, '이라곤': 9174, '어학': 9175, '볼껄': 9176, '회한': 9177, '대시': 9178, '검수': 9179, '동심': 9180, '아물다': 9181, '구독': 9182, '깨달': 9183, '모나': 9184, '수상': 9185, '출동': 9186, '멍청이': 9187, '의리': 9188, '홈페이지': 9189, '게재': 9190, '뭉치': 9191, '축구공': 9192, '어렵사리': 9193, '꼬셔': 9194, '눈코': 9195, '뜰': 9196, '듬직하다': 9197, '다지다': 9198, '쌀밥': 9199, '나요': 9200, '밖에는': 9201, '동사무소': 9202, '체감': 9203, '산악자전거': 9204, '문제점': 9205, '뻑뻑': 9206, '심경': 9207, '폐쇄되어': 9208, '자택': 9209, '총명하다': 9210, '거름': 9211, '의젓하다': 9212, '체력장': 9213, '불상': 9214, '건실': 9215, '펄펄': 9216, '초보': 9217, '이십만': 9218, '암흑': 9219, '일면': 9220, '식도': 9221, '줄줄': 9222, '술취해': 9223, '설치': 9224, '굳은살': 9225, '갑': 9226, '애나': 9227, '세지면': 9228, '검버섯': 9229, '직하다': 9230, '도서실': 9231, '년제': 9232, '작용': 9233, '눈감다': 9234, '전립선염': 9235, '셀프': 9236, '바득바득': 9237, '금은': 9238, '항복': 9239, '햇빛': 9240, '특채': 9241, '뇌물': 9242, '가스요금': 9243, '컴컴하다': 9244, '썰렁하다': 9245, '처럼만': 9246, '금지옥엽': 9247, '채근': 9248, '팀별': 9249, '웹툰': 9250, '마르지': 9251, '영문': 9252, '개조': 9253, '한정판': 9254, '손익': 9255, '화려': 9256, '틈타다': 9257, '천대': 9258, '두창': 9259, '노려보다': 9260, '정력': 9261, '광경': 9262, '그로': 9263, '농기': 9264, '신분증': 9265, '덴': 9266, '질질': 9267, '뜨끔하다': 9268, '하위': 9269, '원산지': 9270, '둔갑': 9271, '장사꾼': 9272, '입버릇': 9273, '뜬금': 9274, '군소리': 9275, '그러하다': 9276, '짐일': 9277, '놨': 9278, '거도': 9279, '통탄': 9280, '알바생': 9281, '외숙모': 9282, '켜지다': 9283, '배꼽': 9284, '마치니': 9285, '입어보다': 9286, '사기죄': 9287, '단식': 9288, '과민': 9289, '두통약': 9290, '왼': 9291, '입수': 9292, '본전': 9293, '호상': 9294, '가압류': 9295, '북새통': 9296, '살인마': 9297, '식중독': 9298, '농구부': 9299, '갓': 9300, '노부모': 9301, '틱': 9302, '바램': 9303, '만화': 9304, '시안': 9305, '레슨': 9306, '이씨': 9307, '하염없이': 9308, '신통': 9309, '우편물': 9310, '남성만': 9311, '포상': 9312, '손수레': 9313, '손상': 9314, '팸플릿': 9315, '복구': 9316, '부라': 9317, '만구천': 9318, '스토킹': 9319, '역서': 9320, '휜다': 9321, '계약금': 9322, '러시아': 9323, '달아나다': 9324, '결원': 9325, '정신차리다': 9326, '실실': 9327, '부아': 9328, '기량': 9329, '출품': 9330, '도비': 9331, '감고': 9332, '잡티': 9333, '여권': 9334, '물배': 9335, '스포츠댄스': 9336, '맘껏': 9337, '종식': 9338, '장려상': 9339, '분홍색': 9340, '애석하다': 9341, '일위': 9342, '흘러가다': 9343, '신비': 9344, '현금인출기': 9345, '귀금속': 9346, '멍멍하다': 9347, '피진': 9348, '맹구': 9349, '현지': 9350, '추수': 9351, '이백사십만': 9352, '백팔십만': 9353, '비보': 9354, '대금': 9355, '달인': 9356, '역다': 9357, '합치': 9358, '미로': 9359, '허약': 9360, '단기간': 9361, '자문': 9362, '장롱': 9363, '커트라인': 9364, '제이': 9365, '대여': 9366, '대폭': 9367, '사무': 9368, '부터의': 9369, '먹잇감': 9370, '창구': 9371, '업종': 9372, '팬티': 9373, '쿠키': 9374, '나변': 9375, '소도': 9376, '끈끈': 9377, '혹평': 9378, '헛헛해': 9379, '최우수상': 9380, '오성': 9381, '톤': 9382, '트럭': 9383, '형부': 9384, '항공기': 9385, '싸고돌다': 9386, '단정하다': 9387, '불공정': 9388, '못정': 9389, '프렌': 9390, '이즈': 9391, '외주': 9392, '판다': 9393, '맴도': 9394, '약인': 9395, '무심': 9396, '쓰다듬다': 9397, '외아들': 9398, '굴다': 9399, '과신': 9400, '근엄하다': 9401, '상임': 9402, '제과제빵': 9403, '위험성': 9404, '존재도': 9405, '콤플렉스': 9406, '감지': 9407, '싯': 9408, '널다': 9409, '막노동': 9410, '욱': 9411, '수속': 9412, '아유': 9413, '전국': 9414, '하트': 9415, '당근': 9416, '울타리': 9417, '음담패설': 9418, '선지': 9419, '확충': 9420, '알아채다': 9421, '부수': 9422, '성황리': 9423, '끼리끼리': 9424, '모형': 9425, '가사도': 9426, '말라가': 9427, '긴축': 9428, '복사': 9429, '구도': 9430, '막강': 9431, '고배': 9432, '고속도로': 9433, '뚫리다': 9434, '헛먹': 9435, '몰두': 9436, '현성': 9437, '나본': 9438, '중성': 9439, '요사이': 9440, '볼링': 9441, '두피': 9442, '폐교': 9443, '파가': 9444, '나누어지다': 9445, '경리': 9446, '하우스': 9447, '탐욕': 9448, '내막': 9449, '인삼': 9450, '얽매이다': 9451, '명순': 9452, '장신구': 9453, '실시': 9454, '이단': 9455, '령액': 9456, '과업': 9457, '부글부글': 9458, '끓다': 9459, '저녁때': 9460, '굵다': 9461, '뀌었는데': 9462, '시야': 9463, '흐릿': 9464, '불우': 9465, '돕기': 9466, '미수': 9467, '납': 9468, '페스티벌': 9469, '술잔치': 9470, '수목장': 9471, '한량': 9472, '담합': 9473, '유비': 9474, '무환': 9475, '사자': 9476, '성어': 9477, '불균형': 9478, '수납': 9479, '국회의원': 9480, '숨소리': 9481, '희미하다': 9482, '연구원': 9483, '경악': 9484, '금치': 9485, '급변': 9486, '황달': 9487, '시르다': 9488, '염소': 9489, '다운증후군': 9490, '검정고시': 9491, '얌체': 9492, '주주': 9493, '요법': 9494, '법인': 9495, '공용': 9496, '점퍼': 9497, '불길': 9498, '외침': 9499, '상여': 9500, '면전': 9501, '체조': 9502, '우릴': 9503, '풍년': 9504, '수확량': 9505, '결벽증': 9506, '두시': 9507, '의탁': 9508, '인정이': 9509, '냉기': 9510, '싫증': 9511, '양옆': 9512, '품위': 9513, '숙지': 9514, '문상': 9515, '체류': 9516, '데스크': 9517, '특성화고': 9518, '혈연': 9519, '김숙': 9520, '반값': 9521, '인명': 9522, '재천': 9523, '순리': 9524, '주군': 9525, '본적': 9526, '친부': 9527, '캥거루': 9528, '성용': 9529, '환승역': 9530, '단층': 9531, '무당': 9532, '격': 9533, '누님': 9534, '인의': 9535, '기울다': 9536, '강력': 9537, '계비': 9538, '대대로': 9539, '벽지': 9540, '차이점': 9541, '영재': 9542, '균형': 9543, '어두워지다': 9544, '삐었어': 9545, '뿌옇다': 9546, '서러워지다': 9547, '부결': 9548, '해만': 9549, '허겁지겁': 9550, '열심': 9551, '모녀': 9552, '투고': 9553, '법정': 9554, '슬럼프': 9555, '눈살': 9556, '찌푸리다': 9557, '마약': 9558, '간직': 9559, '패물': 9560, '악감': 9561, '차가워지다': 9562, '비키': 9563, '북한': 9564, '커뮤니케이션': 9565, '자장면': 9566, '콜': 9567, '길길이': 9568, '날뛰다': 9569, '효심': 9570, '지극': 9571, '일당': 9572, '구청': 9573, '월드컵': 9574, '강': 9575, '클래식': 9576, '초연': 9577, '구장': 9578, '고위': 9579, '공직자': 9580, '십분': 9581, '느닷없다': 9582, '어쩌겠다': 9583, '툴툴거렸더': 9584, '차하': 9585, '벼랑': 9586, '낯빛': 9587, '연쇄': 9588, '손등': 9589, '서빙': 9590}\n"
          ]
        }
      ]
    },
    {
      "cell_type": "code",
      "source": [
        "vocab_size = len(tokenizer.word_index) +1     # 단어집합의 크기"
      ],
      "metadata": {
        "id": "UEIOpBDUyMWq"
      },
      "execution_count": 31,
      "outputs": []
    },
    {
      "cell_type": "code",
      "source": [
        "X_train = tokenizer.texts_to_sequences(X_train)\n",
        "X_test = tokenizer.texts_to_sequences(X_test)"
      ],
      "metadata": {
        "id": "ms2gzokoY3Eh"
      },
      "execution_count": 32,
      "outputs": []
    },
    {
      "cell_type": "code",
      "source": [
        "print(X_train[:3])\n",
        "\n",
        "# 각 샘플 내의 단어들은 각 단어에 대한 정수로 변환된 것을 확인할 수 있습니다."
      ],
      "metadata": {
        "colab": {
          "base_uri": "https://localhost:8080/"
        },
        "id": "Q4a81hNCZEzu",
        "outputId": "6b4c3b92-d8ab-44af-e9b5-e202146029d9"
      },
      "execution_count": 33,
      "outputs": [
        {
          "output_type": "stream",
          "name": "stdout",
          "text": [
            "[[25, 193, 277, 1, 53, 22, 588], [340, 63, 1003, 64, 1, 248, 584, 1183, 100], [532, 1386, 1319, 7, 564, 94, 984, 54, 28]]\n"
          ]
        }
      ]
    },
    {
      "cell_type": "code",
      "source": [
        "# 훈련 데이터와 테스트 데이터의 문장과 레이블을 각각 저장합니다.\n",
        "y_train = np.array(train_label)\n",
        "y_test = np.array(val_label)"
      ],
      "metadata": {
        "id": "YxZfgXwG3VQN"
      },
      "execution_count": 34,
      "outputs": []
    },
    {
      "cell_type": "markdown",
      "source": [
        "### 패딩"
      ],
      "metadata": {
        "id": "L3TxoaaBvZWq"
      }
    },
    {
      "cell_type": "code",
      "source": [
        "print('문장의 최대 길이 :',max(len(text) for text in X_train))\n",
        "print('문장의 평균 길이 :',sum(map(len, X_train))/len(X_train))\n",
        "plt.hist([len(text) for text in X_train], bins=50)\n",
        "plt.xlabel('length of samples')\n",
        "plt.ylabel('number of samples')\n",
        "plt.show()\n",
        "\n",
        "# 전체 데이터의 길이 분포는 대체적으로 약 9내외의 길이를 가지는 것을 볼 수 있습니다. "
      ],
      "metadata": {
        "colab": {
          "base_uri": "https://localhost:8080/",
          "height": 316
        },
        "id": "s-9HR1zpvbFp",
        "outputId": "515ec990-3fd4-46e2-840b-da89ffc1cb0d"
      },
      "execution_count": null,
      "outputs": [
        {
          "output_type": "stream",
          "name": "stdout",
          "text": [
            "텍스트 최대 길이 : 42\n",
            "텍스트 평균 길이 : 8.9839771031581\n"
          ]
        },
        {
          "output_type": "display_data",
          "data": {
            "image/png": "[encoded data removed]",
            "text/plain": [
              "<Figure size 432x288 with 1 Axes>"
            ]
          },
          "metadata": {
            "needs_background": "light"
          }
        }
      ]
    },
    {
      "cell_type": "code",
      "source": [
        "# 모델이 처리할 수 있도록 X_train과 X_test의 모든 샘플의 길이를 특정 길이로 동일하게 맞춰줄 필요가 있습니다. 특정 길이 변수를 max_len으로 정합니다. 대부분의 리뷰가 내용이 잘리지 않도록 할 수 있는 최적의 max_len의 값은 몇일까요? 전체 샘플 중 길이가 max_len 이하인 샘플의 비율이 몇 %인지 확인하는 함수를 만듭니다.\n",
        "def below_threshold_len(max_len, nested_list):\n",
        "  count = 0\n",
        "  for sentence in nested_list:\n",
        "    if(len(sentence) <= max_len):\n",
        "        count = count + 1\n",
        "  print('전체 샘플 중 길이가 %s 이하인 샘플의 비율: %s'%(max_len, (count / len(nested_list))*100))\n"
      ],
      "metadata": {
        "id": "VpJJeG1PwJU_"
      },
      "execution_count": 35,
      "outputs": []
    },
    {
      "cell_type": "code",
      "source": [
        "# 위의 분포 그래프를 봤을 때, max_len = 20이 적당할 것 같습니다. 이 값이 얼마나 많은 리뷰 길이를 커버하는지 확인해봅시다. 채팅 특성상 엄청 긴 문장이 포함되지 않으므로, 최대길이로 모든 데이터를 패딩하면 됨. --> 그러나 별 차이 없었다고 한다.\n",
        "max_len =  18          # 18 에서 99%\n",
        "below_threshold_len(max_len, X_train)"
      ],
      "metadata": {
        "colab": {
          "base_uri": "https://localhost:8080/"
        },
        "id": "vyAN-qO_wWPl",
        "outputId": "bf597b2b-0ac3-4bc4-baee-9ad026bd2cb6"
      },
      "execution_count": 36,
      "outputs": [
        {
          "output_type": "stream",
          "name": "stdout",
          "text": [
            "전체 샘플 중 길이가 18 이하인 샘플의 비율: 99.24166442427652\n"
          ]
        }
      ]
    },
    {
      "cell_type": "code",
      "source": [
        "# 전체 훈련 데이터 중 약 99%의 리뷰가 18이하의 길이를 가지는 것을 확인했습니다. 모든 샘플의 길이를 18으로 맞추겠습니다.\n",
        "X_train = pad_sequences(X_train, maxlen=max_len)\n",
        "X_test = pad_sequences(X_test, maxlen=max_len)"
      ],
      "metadata": {
        "id": "cgm-5dtzwyYC"
      },
      "execution_count": 37,
      "outputs": []
    },
    {
      "cell_type": "code",
      "source": [
        "# 훈련용, 테스트용 뉴스 기사 데이터의 레이블에 원-핫 인코딩을 합니다.\n",
        "y_train = to_categorical(y_train)\n",
        "y_test = to_categorical(y_test)"
      ],
      "metadata": {
        "id": "GzjFC0-F5Zi9"
      },
      "execution_count": 38,
      "outputs": []
    },
    {
      "cell_type": "code",
      "source": [
        "y_train"
      ],
      "metadata": {
        "colab": {
          "base_uri": "https://localhost:8080/"
        },
        "id": "FvDqgNR5IGG_",
        "outputId": "88eb532d-8b2f-4bfd-9e14-57eee37a29af"
      },
      "execution_count": null,
      "outputs": [
        {
          "output_type": "execute_result",
          "data": {
            "text/plain": [
              "array([[1., 0., 0., 0., 0., 0.],\n",
              "       [0., 1., 0., 0., 0., 0.],\n",
              "       [0., 0., 1., 0., 0., 0.],\n",
              "       ...,\n",
              "       [0., 0., 0., 1., 0., 0.],\n",
              "       [1., 0., 0., 0., 0., 0.],\n",
              "       [0., 1., 0., 0., 0., 0.]], dtype=float32)"
            ]
          },
          "metadata": {},
          "execution_count": 154
        }
      ]
    },
    {
      "cell_type": "code",
      "source": [
        "print('전체 데이터의 크기(shape):', X_train.shape)\n",
        "print('레이블 데이터의 크기(shape):', y_train.shape)"
      ],
      "metadata": {
        "colab": {
          "base_uri": "https://localhost:8080/"
        },
        "id": "7lBI4zLJZL16",
        "outputId": "a24c780b-2c89-4116-d47c-213fb6e32ee5"
      },
      "execution_count": null,
      "outputs": [
        {
          "output_type": "stream",
          "name": "stdout",
          "text": [
            "전체 데이터의 크기(shape): (40879, 18)\n",
            "레이블 데이터의 크기(shape): (40879, 6)\n"
          ]
        }
      ]
    },
    {
      "cell_type": "code",
      "source": [
        "print(X_train[0])\n",
        "print(y_train[0])"
      ],
      "metadata": {
        "colab": {
          "base_uri": "https://localhost:8080/"
        },
        "id": "TGI29vNfZSSL",
        "outputId": "44286f69-55ed-461d-fadd-d611acb3739c"
      },
      "execution_count": null,
      "outputs": [
        {
          "output_type": "stream",
          "name": "stdout",
          "text": [
            "[  0   0   0   0   0   0   0   0   0   0   0  25 193 277   1  53  22 588]\n",
            "[1. 0. 0. 0. 0. 0.]\n"
          ]
        }
      ]
    },
    {
      "cell_type": "markdown",
      "source": [
        "### 다층퍼셉트론으로 감성분류"
      ],
      "metadata": {
        "id": "W7xlBM3bxYb4"
      }
    },
    {
      "cell_type": "code",
      "source": [
        "# 모델링은 메모리를 엄청 차지하는 sparse한 형태의 one-hot-encoding 방법이 아니라, 주변 단어들이 나타날 확률을 나타내는 word embedding 방식을 적용한 후에 수행시킨다. word embedding에 대해서는 인터넷 찾아보면 되는데, word2vec, fasttext, glove 등의 방법\n",
        "\n",
        "\n",
        "from sklearn.model_selection import train_test_split\n",
        "from tensorflow.keras.models import Sequential\n",
        "from tensorflow.keras.layers import Flatten, Dense, Embedding, Conv1D\n",
        "from tensorflow.keras.layers import Dense, Dropout\n",
        "\n",
        "embedding_dim = 100\n",
        "num_classes =  6  #58\n",
        "\n",
        "\n",
        "model = Sequential()\n",
        "model.add(Embedding(vocab_size, embedding_dim, input_length=max_len))\n",
        "model.add(Flatten())\n",
        "\n",
        "\n",
        "# model.add(Dropout(0.5))\n",
        "model.add(Dense(128, activation='relu'))\n",
        "model.add(Dropout(0.5))\n",
        "model.add(Dense(num_classes, activation='softmax'))\n",
        "\n",
        "\n",
        "es = EarlyStopping(monitor='val_loss', mode='min', verbose=1, patience=10)\n",
        "mc = ModelCheckpoint('best_model.h5', monitor='val_acc', mode='max', verbose=1, save_best_only=True)\n",
        "\n",
        "# 검증 데이터 손실(val_loss)이 증가하면, 과적합 징후므로 검증 데이터 손실이 4회 증가하면 학습을 조기 종료(Early Stopping)합니다. 또한, ModelCheckpoint를 사용하여 검증 데이터의 정확도(val_acc)가 이전보다 좋아질 경우에만 모델을 저장합니다.\n",
        "\n",
        "model.compile(optimizer='adam', loss='categorical_crossentropy', metrics=['acc'])\n",
        "\n",
        "history = model.fit(X_train, y_train, epochs=50, callbacks=[es, mc], batch_size=64, validation_split=0.2)\n",
        "\n",
        "\n",
        "loaded_model = load_model('best_model.h5')\n",
        "print(\"\\n 테스트 정확도: %.4f\" % (loaded_model.evaluate(X_test, y_test)[1]))"
      ],
      "metadata": {
        "colab": {
          "base_uri": "https://localhost:8080/"
        },
        "id": "ZtHYoJjXYx7l",
        "outputId": "7d6a43ac-4540-4dc0-8889-8da6bcad6b76"
      },
      "execution_count": null,
      "outputs": [
        {
          "output_type": "stream",
          "name": "stdout",
          "text": [
            "Epoch 1/50\n",
            "509/511 [============================>.] - ETA: 0s - loss: 1.3881 - acc: 0.4740\n",
            "Epoch 00001: val_acc improved from -inf to 0.60091, saving model to best_model.h5\n",
            "511/511 [==============================] - 13s 23ms/step - loss: 1.3871 - acc: 0.4746 - val_loss: 1.0982 - val_acc: 0.6009\n",
            "Epoch 2/50\n",
            "510/511 [============================>.] - ETA: 0s - loss: 0.9628 - acc: 0.6660\n",
            "Epoch 00002: val_acc improved from 0.60091 to 0.61118, saving model to best_model.h5\n",
            "511/511 [==============================] - 14s 27ms/step - loss: 0.9630 - acc: 0.6659 - val_loss: 1.0758 - val_acc: 0.6112\n",
            "Epoch 3/50\n",
            "509/511 [============================>.] - ETA: 0s - loss: 0.6957 - acc: 0.7698\n",
            "Epoch 00003: val_acc did not improve from 0.61118\n",
            "511/511 [==============================] - 16s 32ms/step - loss: 0.6954 - acc: 0.7699 - val_loss: 1.1706 - val_acc: 0.6018\n",
            "Epoch 4/50\n",
            "510/511 [============================>.] - ETA: 0s - loss: 0.4873 - acc: 0.8419\n",
            "Epoch 00004: val_acc did not improve from 0.61118\n",
            "511/511 [==============================] - 16s 30ms/step - loss: 0.4874 - acc: 0.8419 - val_loss: 1.3044 - val_acc: 0.5960\n",
            "Epoch 5/50\n",
            "511/511 [==============================] - ETA: 0s - loss: 0.3618 - acc: 0.8864\n",
            "Epoch 00005: val_acc did not improve from 0.61118\n",
            "511/511 [==============================] - 13s 24ms/step - loss: 0.3618 - acc: 0.8864 - val_loss: 1.4632 - val_acc: 0.5843\n",
            "Epoch 6/50\n",
            "510/511 [============================>.] - ETA: 0s - loss: 0.2845 - acc: 0.9106\n",
            "Epoch 00006: val_acc did not improve from 0.61118\n",
            "511/511 [==============================] - 12s 23ms/step - loss: 0.2845 - acc: 0.9106 - val_loss: 1.7351 - val_acc: 0.5720\n",
            "Epoch 7/50\n",
            "510/511 [============================>.] - ETA: 0s - loss: 0.2389 - acc: 0.9247\n",
            "Epoch 00007: val_acc did not improve from 0.61118\n",
            "511/511 [==============================] - 12s 24ms/step - loss: 0.2391 - acc: 0.9247 - val_loss: 1.8399 - val_acc: 0.5700\n",
            "Epoch 8/50\n",
            "509/511 [============================>.] - ETA: 0s - loss: 0.2024 - acc: 0.9368\n",
            "Epoch 00008: val_acc did not improve from 0.61118\n",
            "511/511 [==============================] - 12s 24ms/step - loss: 0.2027 - acc: 0.9367 - val_loss: 2.0450 - val_acc: 0.5696\n",
            "Epoch 9/50\n",
            "510/511 [============================>.] - ETA: 0s - loss: 0.1855 - acc: 0.9419\n",
            "Epoch 00009: val_acc did not improve from 0.61118\n",
            "511/511 [==============================] - 12s 23ms/step - loss: 0.1854 - acc: 0.9419 - val_loss: 2.1406 - val_acc: 0.5619\n",
            "Epoch 10/50\n",
            "511/511 [==============================] - ETA: 0s - loss: 0.1662 - acc: 0.9455\n",
            "Epoch 00010: val_acc did not improve from 0.61118\n",
            "511/511 [==============================] - 14s 27ms/step - loss: 0.1662 - acc: 0.9455 - val_loss: 2.3838 - val_acc: 0.5587\n",
            "Epoch 11/50\n",
            "510/511 [============================>.] - ETA: 0s - loss: 0.1521 - acc: 0.9501\n",
            "Epoch 00011: val_acc did not improve from 0.61118\n",
            "511/511 [==============================] - 12s 24ms/step - loss: 0.1522 - acc: 0.9501 - val_loss: 2.5546 - val_acc: 0.5571\n",
            "Epoch 12/50\n",
            "510/511 [============================>.] - ETA: 0s - loss: 0.1396 - acc: 0.9541\n",
            "Epoch 00012: val_acc did not improve from 0.61118\n",
            "511/511 [==============================] - 17s 32ms/step - loss: 0.1396 - acc: 0.9541 - val_loss: 2.7366 - val_acc: 0.5509\n",
            "Epoch 00012: early stopping\n",
            "161/161 [==============================] - 1s 3ms/step - loss: 1.0970 - acc: 0.5981\n",
            "\n",
            " 테스트 정확도: 0.5981\n"
          ]
        }
      ]
    },
    {
      "cell_type": "code",
      "source": [
        "epochs = range(1, len(history.history['acc']) + 1)\n",
        "plt.plot(epochs, history.history['loss'])\n",
        "plt.plot(epochs, history.history['val_loss'])\n",
        "plt.title('model loss')\n",
        "plt.ylabel('loss')\n",
        "plt.xlabel('epoch')\n",
        "plt.legend(['train', 'test'], loc='upper left')\n",
        "plt.show()"
      ],
      "metadata": {
        "colab": {
          "base_uri": "https://localhost:8080/",
          "height": 295
        },
        "id": "ETD74j4DFlIt",
        "outputId": "bad6397a-e0e2-4ffb-8706-66bad9329b9d"
      },
      "execution_count": null,
      "outputs": [
        {
          "output_type": "display_data",
          "data": {
            "image/png": "[encoded data removed]",
            "text/plain": [
              "<Figure size 432x288 with 1 Axes>"
            ]
          },
          "metadata": {
            "needs_background": "light"
          }
        }
      ]
    },
    {
      "cell_type": "code",
      "source": [
        "# 예측해보기\n",
        "def sentiment_predict(new_sentence):\n",
        "  new_sentence = re.sub(r'[^ㄱ-ㅎㅏ-ㅣ가-힣 ]','', new_sentence)\n",
        "  new_sentence = okt.morphs(new_sentence, stem=True) # 토큰화\n",
        "  new_sentence = [word for word in new_sentence if not word in stop_words] # 불용어 제거\n",
        "  encoded = tokenizer.texts_to_sequences([new_sentence]) # 정수 인코딩\n",
        "  pad_new = pad_sequences(encoded, maxlen = max_len) # 패딩\n",
        "  score = loaded_model.predict(pad_new) # 예측\n",
        "#   print(score[0, score.argmax()])\n",
        "  return feel_bic_dic_reverse[score.argmax()]"
      ],
      "metadata": {
        "id": "Mi6KBQuuFoHI"
      },
      "execution_count": null,
      "outputs": []
    },
    {
      "cell_type": "code",
      "source": [
        "sentiment_predict('사랑해')"
      ],
      "metadata": {
        "colab": {
          "base_uri": "https://localhost:8080/",
          "height": 35
        },
        "id": "kCVsAdzQFrhK",
        "outputId": "115eba66-2f7f-4070-920f-a0c3a6b02b6b"
      },
      "execution_count": null,
      "outputs": [
        {
          "output_type": "execute_result",
          "data": {
            "application/vnd.google.colaboratory.intrinsic+json": {
              "type": "string"
            },
            "text/plain": [
              "'기쁨'"
            ]
          },
          "metadata": {},
          "execution_count": 161
        }
      ]
    },
    {
      "cell_type": "markdown",
      "source": [
        "### LSTM으로 감성분류"
      ],
      "metadata": {
        "id": "c1JbvrcnxVP3"
      }
    },
    {
      "cell_type": "code",
      "source": [
        "from tensorflow.keras.layers import Embedding, Dense, LSTM\n",
        "from tensorflow.keras.models import Sequential\n",
        "from tensorflow.keras.models import load_model\n",
        "from tensorflow.keras.callbacks import EarlyStopping, ModelCheckpoint"
      ],
      "metadata": {
        "id": "BZvwL6BDxXrS"
      },
      "execution_count": null,
      "outputs": []
    },
    {
      "cell_type": "code",
      "source": [
        "# 임베딩 벡터의 차원은 100으로 정했고, 리뷰 분류를 위해서 은닉 상태의 크기가 128인 LSTM을 사용\n",
        "embedding_dim = 100\n",
        "hidden_units = 128\n",
        "num_classes =  6  # 58\n",
        "\n",
        "model = Sequential()\n",
        "model.add(Embedding(vocab_size, embedding_dim))\n",
        "model.add(LSTM(hidden_units))\n",
        "model.add(Dense(num_classes, activation='softmax'))"
      ],
      "metadata": {
        "id": "KKb3IeMIxms9"
      },
      "execution_count": null,
      "outputs": []
    },
    {
      "cell_type": "code",
      "source": [
        "es = EarlyStopping(monitor='val_loss', mode='min', verbose=1, patience=10)\n",
        "mc = ModelCheckpoint('best_model.h5', monitor='val_acc', mode='max', verbose=1, save_best_only=True)\n",
        "\n",
        "# 검증 데이터 손실(val_loss)이 증가하면, 과적합 징후므로 검증 데이터 손실이 4회 증가하면 학습을 조기 종료(Early Stopping)합니다. 또한, ModelCheckpoint를 사용하여 검증 데이터의 정확도(val_acc)가 이전보다 좋아질 경우에만 모델을 저장합니다.\n",
        "\n",
        "model.compile(optimizer='adam', loss='categorical_crossentropy', metrics=['acc'])"
      ],
      "metadata": {
        "id": "rzuehBG-1Y6N"
      },
      "execution_count": null,
      "outputs": []
    },
    {
      "cell_type": "code",
      "source": [
        "history = model.fit(X_train, y_train, epochs=50, callbacks=[es, mc], batch_size=64, validation_split=0.2)\n",
        "\n",
        "# 에포크는 총 15번을 수행하겠습니다. 또한 훈련 데이터 중 20%를 검증 데이터로 사용하면서 정확도를 확인합니다."
      ],
      "metadata": {
        "colab": {
          "base_uri": "https://localhost:8080/"
        },
        "id": "8iWaWS5s2IED",
        "outputId": "c181b39e-5eb3-4b28-a28d-81f946267166"
      },
      "execution_count": null,
      "outputs": [
        {
          "output_type": "stream",
          "name": "stdout",
          "text": [
            "Epoch 1/50\n",
            "511/511 [==============================] - ETA: 0s - loss: 1.2416 - acc: 0.5432\n",
            "Epoch 00001: val_acc improved from -inf to 0.60665, saving model to best_model.h5\n",
            "511/511 [==============================] - 44s 80ms/step - loss: 1.2416 - acc: 0.5432 - val_loss: 1.0723 - val_acc: 0.6067\n",
            "Epoch 2/50\n",
            "511/511 [==============================] - ETA: 0s - loss: 0.9584 - acc: 0.6552\n",
            "Epoch 00002: val_acc did not improve from 0.60665\n",
            "511/511 [==============================] - 42s 82ms/step - loss: 0.9584 - acc: 0.6552 - val_loss: 1.0959 - val_acc: 0.6042\n",
            "Epoch 3/50\n",
            "511/511 [==============================] - ETA: 0s - loss: 0.8533 - acc: 0.6969\n",
            "Epoch 00003: val_acc did not improve from 0.60665\n",
            "511/511 [==============================] - 38s 75ms/step - loss: 0.8533 - acc: 0.6969 - val_loss: 1.1225 - val_acc: 0.6024\n",
            "Epoch 4/50\n",
            "511/511 [==============================] - ETA: 0s - loss: 0.7740 - acc: 0.7237\n",
            "Epoch 00004: val_acc did not improve from 0.60665\n",
            "511/511 [==============================] - 39s 76ms/step - loss: 0.7740 - acc: 0.7237 - val_loss: 1.1756 - val_acc: 0.5991\n",
            "Epoch 5/50\n",
            "511/511 [==============================] - ETA: 0s - loss: 0.7114 - acc: 0.7446\n",
            "Epoch 00005: val_acc did not improve from 0.60665\n",
            "511/511 [==============================] - 38s 74ms/step - loss: 0.7114 - acc: 0.7446 - val_loss: 1.2674 - val_acc: 0.5956\n",
            "Epoch 6/50\n",
            "511/511 [==============================] - ETA: 0s - loss: 0.6530 - acc: 0.7650\n",
            "Epoch 00006: val_acc did not improve from 0.60665\n",
            "511/511 [==============================] - 46s 90ms/step - loss: 0.6530 - acc: 0.7650 - val_loss: 1.3550 - val_acc: 0.5911\n",
            "Epoch 7/50\n",
            "511/511 [==============================] - ETA: 0s - loss: 0.6029 - acc: 0.7804\n",
            "Epoch 00007: val_acc did not improve from 0.60665\n",
            "511/511 [==============================] - 37s 73ms/step - loss: 0.6029 - acc: 0.7804 - val_loss: 1.4292 - val_acc: 0.5782\n",
            "Epoch 8/50\n",
            "511/511 [==============================] - ETA: 0s - loss: 0.5566 - acc: 0.7984\n",
            "Epoch 00008: val_acc did not improve from 0.60665\n",
            "511/511 [==============================] - 37s 72ms/step - loss: 0.5566 - acc: 0.7984 - val_loss: 1.6004 - val_acc: 0.5772\n",
            "Epoch 9/50\n",
            "511/511 [==============================] - ETA: 0s - loss: 0.5149 - acc: 0.8104\n",
            "Epoch 00009: val_acc did not improve from 0.60665\n",
            "511/511 [==============================] - 37s 72ms/step - loss: 0.5149 - acc: 0.8104 - val_loss: 1.7224 - val_acc: 0.5702\n",
            "Epoch 10/50\n",
            "511/511 [==============================] - ETA: 0s - loss: 0.4810 - acc: 0.8222\n",
            "Epoch 00010: val_acc did not improve from 0.60665\n",
            "511/511 [==============================] - 43s 85ms/step - loss: 0.4810 - acc: 0.8222 - val_loss: 1.8270 - val_acc: 0.5687\n",
            "Epoch 11/50\n",
            "511/511 [==============================] - ETA: 0s - loss: 0.4477 - acc: 0.8334\n",
            "Epoch 00011: val_acc did not improve from 0.60665\n",
            "511/511 [==============================] - 42s 82ms/step - loss: 0.4477 - acc: 0.8334 - val_loss: 1.9332 - val_acc: 0.5693\n",
            "Epoch 00011: early stopping\n"
          ]
        }
      ]
    },
    {
      "cell_type": "code",
      "source": [
        "loaded_model = load_model('best_model.h5')\n",
        "print(\"\\n 테스트 정확도: %.4f\" % (loaded_model.evaluate(X_test, y_test)[1]))"
      ],
      "metadata": {
        "colab": {
          "base_uri": "https://localhost:8080/"
        },
        "id": "VzGZS1of7XWQ",
        "outputId": "ac4f5208-fc60-47f2-eaa2-500c134af3b2"
      },
      "execution_count": null,
      "outputs": [
        {
          "output_type": "stream",
          "name": "stdout",
          "text": [
            "161/161 [==============================] - 2s 10ms/step - loss: 1.0948 - acc: 0.6019\n",
            "\n",
            " 테스트 정확도: 0.6019\n"
          ]
        }
      ]
    },
    {
      "cell_type": "code",
      "source": [
        "epochs = range(1, len(history.history['acc']) + 1)\n",
        "plt.plot(epochs, history.history['loss'])\n",
        "plt.plot(epochs, history.history['val_loss'])\n",
        "plt.title('model loss')\n",
        "plt.ylabel('loss')\n",
        "plt.xlabel('epoch')\n",
        "plt.legend(['train', 'test'], loc='upper left')\n",
        "plt.show()"
      ],
      "metadata": {
        "colab": {
          "base_uri": "https://localhost:8080/",
          "height": 295
        },
        "id": "7hd0GvWT675a",
        "outputId": "c96271b2-9d19-45c9-c2ae-d5c3b6a146cf"
      },
      "execution_count": null,
      "outputs": [
        {
          "output_type": "display_data",
          "data": {
            "image/png": "[encoded data removed]",
            "text/plain": [
              "<Figure size 432x288 with 1 Axes>"
            ]
          },
          "metadata": {
            "needs_background": "light"
          }
        }
      ]
    },
    {
      "cell_type": "code",
      "source": [
        "# 예측해보기\n",
        "def sentiment_predict(new_sentence):\n",
        "  new_sentence = re.sub(r'[^ㄱ-ㅎㅏ-ㅣ가-힣 ]','', new_sentence)\n",
        "  new_sentence = okt.morphs(new_sentence, stem=True) # 토큰화\n",
        "  new_sentence = [word for word in new_sentence if not word in stop_words] # 불용어 제거\n",
        "  encoded = tokenizer.texts_to_sequences([new_sentence]) # 정수 인코딩\n",
        "  pad_new = pad_sequences(encoded, maxlen = max_len) # 패딩\n",
        "  score = loaded_model.predict(pad_new) # 예측\n",
        "#   print(score[0, score.argmax()])\n",
        "  return feel_bic_dic_reverse[score.argmax()]"
      ],
      "metadata": {
        "id": "U66ud_E08nOb"
      },
      "execution_count": null,
      "outputs": []
    },
    {
      "cell_type": "code",
      "source": [
        "sentiment_predict('사랑해')"
      ],
      "metadata": {
        "colab": {
          "base_uri": "https://localhost:8080/",
          "height": 602
        },
        "id": "KwK5RO3G9JBr",
        "outputId": "420c8ad1-dc43-458b-8877-53d95c0a23dd"
      },
      "execution_count": null,
      "outputs": [
        {
          "output_type": "error",
          "ename": "ValueError",
          "evalue": "ignored",
          "traceback": [
            "\u001b[0;31m---------------------------------------------------------------------------\u001b[0m",
            "\u001b[0;31mValueError\u001b[0m                                Traceback (most recent call last)",
            "\u001b[0;32m<ipython-input-192-2752a3ed8f50>\u001b[0m in \u001b[0;36m<module>\u001b[0;34m()\u001b[0m\n\u001b[0;32m----> 1\u001b[0;31m \u001b[0msentiment_predict\u001b[0m\u001b[0;34m(\u001b[0m\u001b[0;34m'사랑해'\u001b[0m\u001b[0;34m)\u001b[0m\u001b[0;34m\u001b[0m\u001b[0;34m\u001b[0m\u001b[0m\n\u001b[0m",
            "\u001b[0;32m<ipython-input-191-bb3d21bca91d>\u001b[0m in \u001b[0;36msentiment_predict\u001b[0;34m(new_sentence)\u001b[0m\n\u001b[1;32m      6\u001b[0m   \u001b[0mencoded\u001b[0m \u001b[0;34m=\u001b[0m \u001b[0mtokenizer\u001b[0m\u001b[0;34m.\u001b[0m\u001b[0mtexts_to_sequences\u001b[0m\u001b[0;34m(\u001b[0m\u001b[0;34m[\u001b[0m\u001b[0mnew_sentence\u001b[0m\u001b[0;34m]\u001b[0m\u001b[0;34m)\u001b[0m \u001b[0;31m# 정수 인코딩\u001b[0m\u001b[0;34m\u001b[0m\u001b[0;34m\u001b[0m\u001b[0m\n\u001b[1;32m      7\u001b[0m   \u001b[0mpad_new\u001b[0m \u001b[0;34m=\u001b[0m \u001b[0mpad_sequences\u001b[0m\u001b[0;34m(\u001b[0m\u001b[0mencoded\u001b[0m\u001b[0;34m,\u001b[0m \u001b[0mmaxlen\u001b[0m \u001b[0;34m=\u001b[0m \u001b[0mmax_len\u001b[0m\u001b[0;34m)\u001b[0m \u001b[0;31m# 패딩\u001b[0m\u001b[0;34m\u001b[0m\u001b[0;34m\u001b[0m\u001b[0m\n\u001b[0;32m----> 8\u001b[0;31m   \u001b[0mscore\u001b[0m \u001b[0;34m=\u001b[0m \u001b[0mloaded_model\u001b[0m\u001b[0;34m.\u001b[0m\u001b[0mpredict\u001b[0m\u001b[0;34m(\u001b[0m\u001b[0mpad_new\u001b[0m\u001b[0;34m)\u001b[0m \u001b[0;31m# 예측\u001b[0m\u001b[0;34m\u001b[0m\u001b[0;34m\u001b[0m\u001b[0m\n\u001b[0m\u001b[1;32m      9\u001b[0m \u001b[0;31m#   print(score[0, score.argmax()])\u001b[0m\u001b[0;34m\u001b[0m\u001b[0;34m\u001b[0m\u001b[0;34m\u001b[0m\u001b[0m\n\u001b[1;32m     10\u001b[0m   \u001b[0;32mreturn\u001b[0m \u001b[0mfeel_bic_dic_reverse\u001b[0m\u001b[0;34m[\u001b[0m\u001b[0mscore\u001b[0m\u001b[0;34m.\u001b[0m\u001b[0margmax\u001b[0m\u001b[0;34m(\u001b[0m\u001b[0;34m)\u001b[0m\u001b[0;34m]\u001b[0m\u001b[0;34m\u001b[0m\u001b[0;34m\u001b[0m\u001b[0m\n",
            "\u001b[0;32m/usr/local/lib/python3.7/dist-packages/keras/utils/traceback_utils.py\u001b[0m in \u001b[0;36merror_handler\u001b[0;34m(*args, **kwargs)\u001b[0m\n\u001b[1;32m     65\u001b[0m     \u001b[0;32mexcept\u001b[0m \u001b[0mException\u001b[0m \u001b[0;32mas\u001b[0m \u001b[0me\u001b[0m\u001b[0;34m:\u001b[0m  \u001b[0;31m# pylint: disable=broad-except\u001b[0m\u001b[0;34m\u001b[0m\u001b[0;34m\u001b[0m\u001b[0m\n\u001b[1;32m     66\u001b[0m       \u001b[0mfiltered_tb\u001b[0m \u001b[0;34m=\u001b[0m \u001b[0m_process_traceback_frames\u001b[0m\u001b[0;34m(\u001b[0m\u001b[0me\u001b[0m\u001b[0;34m.\u001b[0m\u001b[0m__traceback__\u001b[0m\u001b[0;34m)\u001b[0m\u001b[0;34m\u001b[0m\u001b[0;34m\u001b[0m\u001b[0m\n\u001b[0;32m---> 67\u001b[0;31m       \u001b[0;32mraise\u001b[0m \u001b[0me\u001b[0m\u001b[0;34m.\u001b[0m\u001b[0mwith_traceback\u001b[0m\u001b[0;34m(\u001b[0m\u001b[0mfiltered_tb\u001b[0m\u001b[0;34m)\u001b[0m \u001b[0;32mfrom\u001b[0m \u001b[0;32mNone\u001b[0m\u001b[0;34m\u001b[0m\u001b[0;34m\u001b[0m\u001b[0m\n\u001b[0m\u001b[1;32m     68\u001b[0m     \u001b[0;32mfinally\u001b[0m\u001b[0;34m:\u001b[0m\u001b[0;34m\u001b[0m\u001b[0;34m\u001b[0m\u001b[0m\n\u001b[1;32m     69\u001b[0m       \u001b[0;32mdel\u001b[0m \u001b[0mfiltered_tb\u001b[0m\u001b[0;34m\u001b[0m\u001b[0;34m\u001b[0m\u001b[0m\n",
            "\u001b[0;32m/usr/local/lib/python3.7/dist-packages/tensorflow/python/framework/func_graph.py\u001b[0m in \u001b[0;36mautograph_handler\u001b[0;34m(*args, **kwargs)\u001b[0m\n\u001b[1;32m   1127\u001b[0m           \u001b[0;32mexcept\u001b[0m \u001b[0mException\u001b[0m \u001b[0;32mas\u001b[0m \u001b[0me\u001b[0m\u001b[0;34m:\u001b[0m  \u001b[0;31m# pylint:disable=broad-except\u001b[0m\u001b[0;34m\u001b[0m\u001b[0;34m\u001b[0m\u001b[0m\n\u001b[1;32m   1128\u001b[0m             \u001b[0;32mif\u001b[0m \u001b[0mhasattr\u001b[0m\u001b[0;34m(\u001b[0m\u001b[0me\u001b[0m\u001b[0;34m,\u001b[0m \u001b[0;34m\"ag_error_metadata\"\u001b[0m\u001b[0;34m)\u001b[0m\u001b[0;34m:\u001b[0m\u001b[0;34m\u001b[0m\u001b[0;34m\u001b[0m\u001b[0m\n\u001b[0;32m-> 1129\u001b[0;31m               \u001b[0;32mraise\u001b[0m \u001b[0me\u001b[0m\u001b[0;34m.\u001b[0m\u001b[0mag_error_metadata\u001b[0m\u001b[0;34m.\u001b[0m\u001b[0mto_exception\u001b[0m\u001b[0;34m(\u001b[0m\u001b[0me\u001b[0m\u001b[0;34m)\u001b[0m\u001b[0;34m\u001b[0m\u001b[0;34m\u001b[0m\u001b[0m\n\u001b[0m\u001b[1;32m   1130\u001b[0m             \u001b[0;32melse\u001b[0m\u001b[0;34m:\u001b[0m\u001b[0;34m\u001b[0m\u001b[0;34m\u001b[0m\u001b[0m\n\u001b[1;32m   1131\u001b[0m               \u001b[0;32mraise\u001b[0m\u001b[0;34m\u001b[0m\u001b[0;34m\u001b[0m\u001b[0m\n",
            "\u001b[0;31mValueError\u001b[0m: in user code:\n\n    File \"/usr/local/lib/python3.7/dist-packages/keras/engine/training.py\", line 1621, in predict_function  *\n        return step_function(self, iterator)\n    File \"/usr/local/lib/python3.7/dist-packages/keras/engine/training.py\", line 1611, in step_function  **\n        outputs = model.distribute_strategy.run(run_step, args=(data,))\n    File \"/usr/local/lib/python3.7/dist-packages/keras/engine/training.py\", line 1604, in run_step  **\n        outputs = model.predict_step(data)\n    File \"/usr/local/lib/python3.7/dist-packages/keras/engine/training.py\", line 1572, in predict_step\n        return self(x, training=False)\n    File \"/usr/local/lib/python3.7/dist-packages/keras/utils/traceback_utils.py\", line 67, in error_handler\n        raise e.with_traceback(filtered_tb) from None\n    File \"/usr/local/lib/python3.7/dist-packages/keras/engine/input_spec.py\", line 263, in assert_input_compatibility\n        raise ValueError(f'Input {input_index} of layer \"{layer_name}\" is '\n\n    ValueError: Input 0 of layer \"sequential_17\" is incompatible with the layer: expected shape=(None, 42), found shape=(None, 18)\n"
          ]
        }
      ]
    },
    {
      "cell_type": "markdown",
      "source": [
        "### 사전학습된 워드임베딩을 통한 감성분류\n",
        "- 사전훈련된 워드임베딩 사용하기.(스탠포드 대학교에서 제공하는 사전 훈련된 GloVe 임베딩을 사용)\n",
        "- 자연어 처리 작업을 할때, 케라스의 Embedding()를 사용하여 갖고 있는 훈련 데이터로부터 처음부터 임베딩 벡터를 훈련시키기도 하지만, 위키피디아 등의 방대한 데이터로 사전에 훈련된 워드 임베딩(pre-trained word embedding vector)를 가지고 와서 해당 벡터들의 값을 원하는 작업에 사용 할 수도 있습니다.\n",
        "- 예를 들어서 감성 분류 작업을 하는데 훈련 데이터의 양이 부족한 상황이라면, 다른 방대한 데이터를 Word2Vec이나 GloVe 등으로 사전에 학습시켜놓은 임베딩 벡터들을 가지고 와서 모델의 입력으로 사용하는 것이 때로는 더 좋은 성능을 얻을 수 있습니다.\n",
        "\n",
        "< 사전훈련된 word2vec를 만든 사람>\n",
        "- https://github.com/Kyubyong/wordvectors\n",
        "- 소개: https://omicro03.medium.com/%EC%9E%90%EC%97%B0%EC%96%B4%EC%B2%98%EB%A6%AC-nlp-14%EC%9D%BC%EC%B0%A8-word2vec-%EC%8B%A4%EC%8A%B52-8e518a358b6c\n",
        "\n",
        "\n",
        "<페이스북에서 만든 사전훈련된 fasttext>\n",
        "- 소개 : https://inahjeon.github.io/fasttext/\n",
        "- 사전훈련된 fasttext를 불러올 때 gensim을 이용하는 게 잘 안돼서 : https://datascience.stackexchange.com/questions/20071/how-do-i-load-fasttext-pretrained-model-with-gensim\n",
        "\n",
        "- 결국 https://fasttext.cc/docs/en/crawl-vectors.html 의 방법대로 직접 불러오고,\n",
        "\n",
        "- 임베딩 벡터를 추가하는 방법은 공식문서에 이렇게 표현되지만 --> https://www.tensorflow.org/api_docs/python/tf/keras/layers/Embedding\n",
        "\n",
        "- 케라스 블로그에서 fasttext의 사전훈련된 워드임베딩을 어떻게 임베딩레이어에 추가하는지 확인할 수 있다. https://blog.keras.io/using-pre-trained-word-embeddings-in-a-keras-model.html\n",
        "\n",
        "- fasttext 깃허브 : https://github.com/facebookresearch/fastText/#building-fasttext-for-python\n",
        "\n",
        "\n",
        "https://github.com/naver/claf/issues/25 이건 또 뭐지.\n",
        "\n",
        "\n",
        "http://doc.mindscale.kr/km/unstructured/11.html 한국어 워드투벡터 사전학습\n",
        "\n",
        "\n",
        "https://fasttext.cc/docs/en/python-module.html fasttext 메서드 모음\n",
        "\n",
        "\n",
        "함수 형 api https://www.codeonweb.com/entry/f0dba923-2630-49b6-9af3-ceb0b67dd70a\n",
        "\n",
        "https://keras.io/ko/getting-started/functional-api-guide/\n",
        "\n",
        "임베딩 모델과 통합하는 방법.https://velog.io/@jaehyeong/Multi-input-%EB%AA%A8%EB%8D%B8-%EA%B5%AC%EC%B6%95%ED%95%98%EA%B8%B0-by-Keras-Functional-API\n",
        "\n",
        "다양한 사례 ;https://hwiyong.tistory.com/100\n",
        "\n",
        "함수형 api의 사례에 대해서 좀 더 다양하게 보고싶다..!! 임베딩 모델을 따로 만들고 이를 합하는 방법이 있는데..? 성능좋은 임베딩 모델을 만든 다음 이걸 다양한 챗봇에 활용하고 싶다는 생각을 해보았다. \n",
        "\n",
        "어렵고 어지러워서 자꾸 중간중간 집중력을 잃게되지만,\n",
        "하나하나 이해할 수 있는 말이 늘어갈 수록 느껴지는 희열...!"
      ],
      "metadata": {
        "id": "kyfMu9pzW1S1"
      }
    },
    {
      "cell_type": "code",
      "source": [
        "import os\n",
        "import pandas as pd\n",
        "import numpy as np\n",
        "import matplotlib.pyplot as plt\n",
        "from sklearn import preprocessing\n",
        "from tensorflow.keras.preprocessing.text import Tokenizer\n",
        "from tensorflow.keras.preprocessing.sequence import pad_sequences\n",
        "from tensorflow.keras.utils import to_categorical\n",
        "from sklearn.metrics import classification_report"
      ],
      "metadata": {
        "id": "LFW5_-cOa_xw"
      },
      "execution_count": 45,
      "outputs": []
    },
    {
      "cell_type": "code",
      "source": [
        "# fasttext파이썬 모듈 빌드 : https://fasttext.cc/docs/en/support.html#building-fasttext-python-module"
      ],
      "metadata": {
        "id": "Cyva8MdTlipE"
      },
      "execution_count": null,
      "outputs": []
    },
    {
      "cell_type": "code",
      "source": [
        "# 다음으로 사전 훈련된 임베딩의 데이터 덤프를 구문 분석하여 알려진 임베딩에 대한 인덱스 매핑 단어를 계산합니다.  # fasttext의 사전 훈련된 단어 벡터의 차원은 300.\n",
        "embeddings_index = {}\n",
        "FASTTEXT_DIR = '/content/drive/MyDrive/프로젝트1'\n",
        "f = open(os.path.join(FASTTEXT_DIR, 'cc.ko.300.txt'), encoding='utf-8', errors='ignore')\n",
        "for line in f:\n",
        "    values = line.split()\n",
        "    word = values[0]\n",
        "    coefs = np.asarray(values[1:], dtype='float32')\n",
        "    embeddings_index[word] = coefs\n",
        "f.close()\n",
        "\n",
        "print('Found %s word vectors.' % len(embeddings_index))"
      ],
      "metadata": {
        "id": "W13eCydoKYop"
      },
      "execution_count": null,
      "outputs": []
    },
    {
      "cell_type": "code",
      "source": [
        "# 이 시점에서 embedding_index사전과 우리 word_index를 활용 하여 임베딩 행렬을 계산할 수 있습니다 .\n",
        "EMBEDDING_DIM = 300\n",
        "embedding_matrix = np.zeros((len(word_index) + 1, EMBEDDING_DIM))\n",
        "for word, i in word_index.items():\n",
        "    embedding_vector = embeddings_index.get(word)\n",
        "    if embedding_vector is not None:\n",
        "        # words not found in embedding index will be all-zeros.\n",
        "        embedding_matrix[i] = embedding_vector"
      ],
      "metadata": {
        "id": "mpQanr_9Kop_"
      },
      "execution_count": null,
      "outputs": []
    },
    {
      "cell_type": "markdown",
      "source": [
        "# 트랜스포머 구현"
      ],
      "metadata": {
        "id": "vzBhfFkQ4f0N"
      }
    },
    {
      "cell_type": "code",
      "execution_count": null,
      "metadata": {
        "colab": {
          "base_uri": "https://localhost:8080/"
        },
        "id": "sSrEYALNOX9D",
        "outputId": "41dc24c2-7796-4162-e9d5-9da8738e7486"
      },
      "outputs": [
        {
          "output_type": "stream",
          "name": "stdout",
          "text": [
            "Collecting sentence_transformers\n",
            "  Downloading sentence-transformers-2.1.0.tar.gz (78 kB)\n",
            "\u001b[K     |████████████████████████████████| 78 kB 3.0 MB/s \n",
            "\u001b[?25hCollecting transformers<5.0.0,>=4.6.0\n",
            "  Downloading transformers-4.14.1-py3-none-any.whl (3.4 MB)\n",
            "\u001b[K     |████████████████████████████████| 3.4 MB 7.0 MB/s \n",
            "\u001b[?25hCollecting tokenizers>=0.10.3\n",
            "  Downloading tokenizers-0.10.3-cp37-cp37m-manylinux_2_5_x86_64.manylinux1_x86_64.manylinux_2_12_x86_64.manylinux2010_x86_64.whl (3.3 MB)\n",
            "\u001b[K     |████████████████████████████████| 3.3 MB 14.6 MB/s \n",
            "\u001b[?25hRequirement already satisfied: tqdm in /usr/local/lib/python3.7/dist-packages (from sentence_transformers) (4.62.3)\n",
            "Requirement already satisfied: torch>=1.6.0 in /usr/local/lib/python3.7/dist-packages (from sentence_transformers) (1.10.0+cu111)\n",
            "Requirement already satisfied: torchvision in /usr/local/lib/python3.7/dist-packages (from sentence_transformers) (0.11.1+cu111)\n",
            "Requirement already satisfied: numpy in /usr/local/lib/python3.7/dist-packages (from sentence_transformers) (1.19.5)\n",
            "Requirement already satisfied: scikit-learn in /usr/local/lib/python3.7/dist-packages (from sentence_transformers) (1.0.1)\n",
            "Requirement already satisfied: scipy in /usr/local/lib/python3.7/dist-packages (from sentence_transformers) (1.4.1)\n",
            "Requirement already satisfied: nltk in /usr/local/lib/python3.7/dist-packages (from sentence_transformers) (3.2.5)\n",
            "Collecting sentencepiece\n",
            "  Downloading sentencepiece-0.1.96-cp37-cp37m-manylinux_2_17_x86_64.manylinux2014_x86_64.whl (1.2 MB)\n",
            "\u001b[K     |████████████████████████████████| 1.2 MB 24.9 MB/s \n",
            "\u001b[?25hCollecting huggingface-hub\n",
            "  Downloading huggingface_hub-0.2.1-py3-none-any.whl (61 kB)\n",
            "\u001b[K     |████████████████████████████████| 61 kB 186 kB/s \n",
            "\u001b[?25hRequirement already satisfied: typing-extensions in /usr/local/lib/python3.7/dist-packages (from torch>=1.6.0->sentence_transformers) (3.10.0.2)\n",
            "Requirement already satisfied: filelock in /usr/local/lib/python3.7/dist-packages (from transformers<5.0.0,>=4.6.0->sentence_transformers) (3.4.0)\n",
            "Requirement already satisfied: importlib-metadata in /usr/local/lib/python3.7/dist-packages (from transformers<5.0.0,>=4.6.0->sentence_transformers) (4.8.2)\n",
            "Requirement already satisfied: packaging>=20.0 in /usr/local/lib/python3.7/dist-packages (from transformers<5.0.0,>=4.6.0->sentence_transformers) (21.3)\n",
            "Requirement already satisfied: requests in /usr/local/lib/python3.7/dist-packages (from transformers<5.0.0,>=4.6.0->sentence_transformers) (2.23.0)\n",
            "Collecting pyyaml>=5.1\n",
            "  Downloading PyYAML-6.0-cp37-cp37m-manylinux_2_5_x86_64.manylinux1_x86_64.manylinux_2_12_x86_64.manylinux2010_x86_64.whl (596 kB)\n",
            "\u001b[K     |████████████████████████████████| 596 kB 34.6 MB/s \n",
            "\u001b[?25hRequirement already satisfied: regex!=2019.12.17 in /usr/local/lib/python3.7/dist-packages (from transformers<5.0.0,>=4.6.0->sentence_transformers) (2019.12.20)\n",
            "Collecting sacremoses\n",
            "  Downloading sacremoses-0.0.46-py3-none-any.whl (895 kB)\n",
            "\u001b[K     |████████████████████████████████| 895 kB 21.3 MB/s \n",
            "\u001b[?25hRequirement already satisfied: pyparsing!=3.0.5,>=2.0.2 in /usr/local/lib/python3.7/dist-packages (from packaging>=20.0->transformers<5.0.0,>=4.6.0->sentence_transformers) (3.0.6)\n",
            "Requirement already satisfied: zipp>=0.5 in /usr/local/lib/python3.7/dist-packages (from importlib-metadata->transformers<5.0.0,>=4.6.0->sentence_transformers) (3.6.0)\n",
            "Requirement already satisfied: six in /usr/local/lib/python3.7/dist-packages (from nltk->sentence_transformers) (1.15.0)\n",
            "Requirement already satisfied: chardet<4,>=3.0.2 in /usr/local/lib/python3.7/dist-packages (from requests->transformers<5.0.0,>=4.6.0->sentence_transformers) (3.0.4)\n",
            "Requirement already satisfied: urllib3!=1.25.0,!=1.25.1,<1.26,>=1.21.1 in /usr/local/lib/python3.7/dist-packages (from requests->transformers<5.0.0,>=4.6.0->sentence_transformers) (1.24.3)\n",
            "Requirement already satisfied: idna<3,>=2.5 in /usr/local/lib/python3.7/dist-packages (from requests->transformers<5.0.0,>=4.6.0->sentence_transformers) (2.10)\n",
            "Requirement already satisfied: certifi>=2017.4.17 in /usr/local/lib/python3.7/dist-packages (from requests->transformers<5.0.0,>=4.6.0->sentence_transformers) (2021.10.8)\n",
            "Requirement already satisfied: joblib in /usr/local/lib/python3.7/dist-packages (from sacremoses->transformers<5.0.0,>=4.6.0->sentence_transformers) (1.1.0)\n",
            "Requirement already satisfied: click in /usr/local/lib/python3.7/dist-packages (from sacremoses->transformers<5.0.0,>=4.6.0->sentence_transformers) (7.1.2)\n",
            "Requirement already satisfied: threadpoolctl>=2.0.0 in /usr/local/lib/python3.7/dist-packages (from scikit-learn->sentence_transformers) (3.0.0)\n",
            "Requirement already satisfied: pillow!=8.3.0,>=5.3.0 in /usr/local/lib/python3.7/dist-packages (from torchvision->sentence_transformers) (7.1.2)\n",
            "Building wheels for collected packages: sentence-transformers\n",
            "  Building wheel for sentence-transformers (setup.py) ... \u001b[?25l\u001b[?25hdone\n",
            "  Created wheel for sentence-transformers: filename=sentence_transformers-2.1.0-py3-none-any.whl size=121000 sha256=0146707f88b192dbb66f2c3a37f8c0ae76b0de4cff4e22c16b67c680c9253021\n",
            "  Stored in directory: /root/.cache/pip/wheels/90/f0/bb/ed1add84da70092ea526466eadc2bfb197c4bcb8d4fa5f7bad\n",
            "Successfully built sentence-transformers\n",
            "Installing collected packages: pyyaml, tokenizers, sacremoses, huggingface-hub, transformers, sentencepiece, sentence-transformers\n",
            "  Attempting uninstall: pyyaml\n",
            "    Found existing installation: PyYAML 3.13\n",
            "    Uninstalling PyYAML-3.13:\n",
            "      Successfully uninstalled PyYAML-3.13\n",
            "Successfully installed huggingface-hub-0.2.1 pyyaml-6.0 sacremoses-0.0.46 sentence-transformers-2.1.0 sentencepiece-0.1.96 tokenizers-0.10.3 transformers-4.14.1\n"
          ]
        }
      ],
      "source": [
        "pip install sentence_transformers"
      ]
    },
    {
      "cell_type": "code",
      "source": [
        "# 문장 임베딩을 얻기 위해서 사전 훈련된 BERT를 로드\n",
        "model = SentenceTransformer('sentence-transformers/xlm-r-100langs-bert-base-nli-stsb-mean-tokens')"
      ],
      "metadata": {
        "colab": {
          "base_uri": "https://localhost:8080/",
          "height": 401,
          "referenced_widgets": [
            "6018536a65824e3d9eecb5849e257816",
            "0f92cd48f0734849823d7cc5336dddb8",
            "7c55ec070cfe4787933aec748441b83f",
            "3136e620ccea414abd462546179534a2",
            "41d37ac8330e46cfa890d420ff8355f5",
            "67299386206b4a5c89cd7bb143b5d9a3",
            "3e08c50e4aea47bcb49c55b8defdbe85",
            "4401d54245ac4e9b9f495f1b76334c54",
            "70d7cdedc1ce41fbbf38bd07d5845bd7",
            "04e5fa99fd07434c9aa5249d2844e5f4",
            "98ddb48444ec4a159b8adeeb7461c646",
            "10ce6b5d1eee484c944521617032f7d3",
            "03095ddae2ff4e0f9d9472f8abace1b3",
            "8d37010a902b4f11bc9a1f5c6b343907",
            "d981d77e14984991b1ce395118e461fd",
            "1b88d00af6ee403ea39d799452f79bef",
            "aedea526cf53424790fd43154e4bbea1",
            "c315fb80e75a44df9113f1ad9e759417",
            "889d09ac5bfa4e9fa4829430f988f1ec",
            "d9f6b88fa7cb477d8d5556b857d38590",
            "36e72353398c46ad8df269a9a37b9f90",
            "698a298e30894fecb22c0794faf042b0",
            "b89893e7f7824684980572d0329c841a",
            "99dce1d5fd6f4dadbb5e8d081b7037f3",
            "7c9c69686b7f4070a64329a60362e1d4",
            "5b7e88f8b0ec44fd9c84133d90798200",
            "b102293c08e444a68e1c03d060b8a6e3",
            "ca08691a48464483aa50147e08b5bf2f",
            "6b03c093f49e45b1802fe57ee2b6a4a3",
            "b4a01821745a45f3b819c412050892e2",
            "7d201f6c773b498d9caaf8345e5e5119",
            "b0f4cac843c747f584e8daaefa018f60",
            "63a22390436b473999ca71a100f6ad14",
            "8957c72cc5d54689b0587906eaff3f22",
            "881f7ce372db4548a58701960608ef13",
            "31f9109bbe954658b05da2a4ebf9a79a",
            "a30856514f1449678a513b077a4e7995",
            "d1e413e8a316435286876d431082b375",
            "cb4d921d486e44839734122b76a06f90",
            "d6e05f63dffd4fcc856d07fed0c6fbde",
            "bc0acfece6284bf282b4851dc64840cd",
            "996097d9224a4dd790cc80506caba81a",
            "54fa87e4d51f498497f4aaac994a9ecc",
            "745e782f291f4daf9c67f1455ddadb82",
            "382e1a720414443599c28e0c2b45fd4c",
            "17f7beea21bd43f5a8b2a01d2676da00",
            "4b809d0e4401409a92adf7db54b38b98",
            "39d081c6bd92429e90c716a65a725595",
            "f574d29d76c04efcbe32d040bd3198ea",
            "6332f753068f45d182457b53cdad8943",
            "5d25b500d5564fbab48b90f79f3e8590",
            "9bfa946684634f41b8e7a0fde8b597ed",
            "f4d061a004b4495c9584e2640e199c63",
            "c4279ec7a53a4e0cbec6925870ed3609",
            "e001c588dd9449e680c9b07d7974084a",
            "e6ec56bce4754156a2badae347839be7",
            "760a6a695c8249e89361ce3b4d3a4094",
            "4142ee1f4d88420b8ad0ff2e19183ef2",
            "449e7a3894d041d1ad16cad9486f3e11",
            "e9d7a3731f75426bbda182c0190434e8",
            "77ed8ca0b3534620921bddbd1d160bf7",
            "fb8a4e977d7549c498d578f615da66c6",
            "17ae35e1178146e8a084cc7348a587c0",
            "418d5be5fed748d982ba8723ecc0be92",
            "02b1d74c84c14b3d85d1ec53e5518a14",
            "7c9d044b728543a482ea3ee511e6b2f0",
            "3d44eba4a9234768bdbd220a0cf8630a",
            "5030854572c84a5b81c4e01af89b8d2a",
            "06e8bdb1fe7a4294aafb8e151127f9ad",
            "9638e2ed8d0f49c1a5bebc259f8e63da",
            "2e5ac61c57f84ccab3ecab5aaa1dd696",
            "f656547699c34a1e85a0be910802c325",
            "f096dab126d4401d9e7eb33bc8e8ff74",
            "106a65f31e7649c2a6137f5b9aee5c6f",
            "06e01d53380640b988b34c3a84e9eda4",
            "4d2483d6f2e5409cabc9ec413b55c0f8",
            "174161f2583c43389557295dc1f9f7a9",
            "14d96e1f933249d4beec0a411ba353ec",
            "1af92ae8d2a940cea92f1cad22fe6142",
            "1e5a806b48e445db9557a62f418abcc5",
            "f8593b12d3e243e2b198e5c7a5e0932a",
            "94058457043e488f88df0307b674e280",
            "8ff4647b93044d96984dc55458b8ca66",
            "efbb5932db3146769c1a4bf809f5dac6",
            "51519941945943d28af13f444481cc34",
            "401dd844e2d84080ab84a2f592c927f8",
            "880df103494b49c9a4e9dc271cc1a7c9",
            "a59c06ed95f34b0d90ba447f7ad6e732",
            "aa4233439e6b460283caa3c0c6b82fa8",
            "b15f30283a5b431cbef810945cca9291",
            "a381df8d83264152b7ce5bca197a7dc7",
            "e6bf6aadc82f4e16af16ff6f239cff82",
            "1adf208d26d34c8e970e41854184edc8",
            "e2a5f60d57794cda956f9981850d3285",
            "a85136e8fb4740279753b4347fdc7b89",
            "973561f53ea747aab0a6ad47ea8de7f2",
            "8e6f5439c38c4103b54df56758ab9762",
            "1c0de0f558f1410f8a8d36e499c6a0cc",
            "f355c5aa1c154aa8bdc0b42eb64896a8",
            "3cef909f42664392a27f9a48f5c44e03",
            "2f44c12ee3ca4c199fe8585028a79c38",
            "96aa490de491477ba585beacebb5fdbd",
            "9f0bdb904e80488390598022bd6dad78",
            "95d7c417e9864ad2bd44576b540bdb62",
            "74d9ee62bb8649f1888f55a2dcbbd52b",
            "389f799c2dff4e82a661237639da76f8",
            "364c6dbf509e42a4b5322afcbe15f97b",
            "64933c58e9ab471abdbea07e9db04489",
            "28efc1ef355a426690b65a8e4db946c6",
            "733a89d18c564343bb996e49fd768fc9",
            "875efa0057df4536bddee3cabfe9389a",
            "270c101479c94079b1d84ae976151bc4",
            "6cfecb70abea44ac87edcc2ad4a39f23",
            "dbfce732614b42709da856e1050eaf0f",
            "34f186f618f84f1698b25fb455d1bb6b",
            "332981c0253840aeb2c84a58dc9d09dc",
            "81d3f39e00d84de18800d9f32196c0df",
            "46c49fb800924c86a76100f840df0c85",
            "b3b01973380c4e28befab5347b5996da",
            "586d7f13dc4745d8a920f60e43ae58aa",
            "c88bfc222ace43d7af2723b92526f80e",
            "b38e3bcb52ff497b8f1d61270f4d9f57",
            "4ffe9640b64243438fee2ea108442aa8",
            "34b419ec80c342878a742a11efc8e944",
            "da68c2810c604cdeafd1a786377260c1",
            "0b7cc785eb5440a192f0005d1cba05c0",
            "de92ff4a7af34469a33c21a0ad2f547b",
            "2d246368c1bd496c8e7ee8f13be4b65f",
            "ac65ed921d854485ba4606c026e21152",
            "4b4e69c2a9344197b79c07c20159eb2e",
            "d7f88338b85047d5b38b1bd2d00e7769",
            "0e569b1bc80346eb8aabf279d32fe6c9"
          ]
        },
        "id": "_vd_-8SrPLDP",
        "outputId": "889d4a7c-0073-44e2-cf3c-ea6ff53248fd"
      },
      "execution_count": null,
      "outputs": [
        {
          "output_type": "display_data",
          "data": {
            "application/vnd.jupyter.widget-view+json": {
              "model_id": "6018536a65824e3d9eecb5849e257816",
              "version_minor": 0,
              "version_major": 2
            },
            "text/plain": [
              "Downloading:   0%|          | 0.00/574 [00:00<?, ?B/s]"
            ]
          },
          "metadata": {}
        },
        {
          "output_type": "display_data",
          "data": {
            "application/vnd.jupyter.widget-view+json": {
              "model_id": "10ce6b5d1eee484c944521617032f7d3",
              "version_minor": 0,
              "version_major": 2
            },
            "text/plain": [
              "Downloading:   0%|          | 0.00/4.06k [00:00<?, ?B/s]"
            ]
          },
          "metadata": {}
        },
        {
          "output_type": "display_data",
          "data": {
            "application/vnd.jupyter.widget-view+json": {
              "model_id": "b89893e7f7824684980572d0329c841a",
              "version_minor": 0,
              "version_major": 2
            },
            "text/plain": [
              "Downloading:   0%|          | 0.00/731 [00:00<?, ?B/s]"
            ]
          },
          "metadata": {}
        },
        {
          "output_type": "display_data",
          "data": {
            "application/vnd.jupyter.widget-view+json": {
              "model_id": "8957c72cc5d54689b0587906eaff3f22",
              "version_minor": 0,
              "version_major": 2
            },
            "text/plain": [
              "Downloading:   0%|          | 0.00/122 [00:00<?, ?B/s]"
            ]
          },
          "metadata": {}
        },
        {
          "output_type": "display_data",
          "data": {
            "application/vnd.jupyter.widget-view+json": {
              "model_id": "382e1a720414443599c28e0c2b45fd4c",
              "version_minor": 0,
              "version_major": 2
            },
            "text/plain": [
              "Downloading:   0%|          | 0.00/229 [00:00<?, ?B/s]"
            ]
          },
          "metadata": {}
        },
        {
          "output_type": "display_data",
          "data": {
            "application/vnd.jupyter.widget-view+json": {
              "model_id": "e6ec56bce4754156a2badae347839be7",
              "version_minor": 0,
              "version_major": 2
            },
            "text/plain": [
              "Downloading:   0%|          | 0.00/1.11G [00:00<?, ?B/s]"
            ]
          },
          "metadata": {}
        },
        {
          "output_type": "display_data",
          "data": {
            "application/vnd.jupyter.widget-view+json": {
              "model_id": "3d44eba4a9234768bdbd220a0cf8630a",
              "version_minor": 0,
              "version_major": 2
            },
            "text/plain": [
              "Downloading:   0%|          | 0.00/53.0 [00:00<?, ?B/s]"
            ]
          },
          "metadata": {}
        },
        {
          "output_type": "display_data",
          "data": {
            "application/vnd.jupyter.widget-view+json": {
              "model_id": "14d96e1f933249d4beec0a411ba353ec",
              "version_minor": 0,
              "version_major": 2
            },
            "text/plain": [
              "Downloading:   0%|          | 0.00/5.07M [00:00<?, ?B/s]"
            ]
          },
          "metadata": {}
        },
        {
          "output_type": "display_data",
          "data": {
            "application/vnd.jupyter.widget-view+json": {
              "model_id": "aa4233439e6b460283caa3c0c6b82fa8",
              "version_minor": 0,
              "version_major": 2
            },
            "text/plain": [
              "Downloading:   0%|          | 0.00/150 [00:00<?, ?B/s]"
            ]
          },
          "metadata": {}
        },
        {
          "output_type": "display_data",
          "data": {
            "application/vnd.jupyter.widget-view+json": {
              "model_id": "3cef909f42664392a27f9a48f5c44e03",
              "version_minor": 0,
              "version_major": 2
            },
            "text/plain": [
              "Downloading:   0%|          | 0.00/9.10M [00:00<?, ?B/s]"
            ]
          },
          "metadata": {}
        },
        {
          "output_type": "display_data",
          "data": {
            "application/vnd.jupyter.widget-view+json": {
              "model_id": "875efa0057df4536bddee3cabfe9389a",
              "version_minor": 0,
              "version_major": 2
            },
            "text/plain": [
              "Downloading:   0%|          | 0.00/527 [00:00<?, ?B/s]"
            ]
          },
          "metadata": {}
        },
        {
          "output_type": "display_data",
          "data": {
            "application/vnd.jupyter.widget-view+json": {
              "model_id": "b38e3bcb52ff497b8f1d61270f4d9f57",
              "version_minor": 0,
              "version_major": 2
            },
            "text/plain": [
              "Downloading:   0%|          | 0.00/190 [00:00<?, ?B/s]"
            ]
          },
          "metadata": {}
        }
      ]
    },
    {
      "cell_type": "markdown",
      "source": [
        "# 트랜스포머를 이용한 한국어 챗봇"
      ],
      "metadata": {
        "id": "7FeE_intWSOi"
      }
    },
    {
      "cell_type": "code",
      "source": [
        "import numpy as np\n",
        "import matplotlib.pyplot as plt\n",
        "import tensorflow as tf"
      ],
      "metadata": {
        "id": "gzCSvQ0tUQnT"
      },
      "execution_count": null,
      "outputs": []
    },
    {
      "cell_type": "code",
      "source": [
        "import numpy as np\n",
        "import pandas as pd\n",
        "from numpy import dot\n",
        "from numpy.linalg import norm\n",
        "import urllib.request\n",
        "from sentence_transformers import SentenceTransformer"
      ],
      "metadata": {
        "id": "wOzveUAvOiQF"
      },
      "execution_count": null,
      "outputs": []
    },
    {
      "cell_type": "code",
      "source": [
        ""
      ],
      "metadata": {
        "id": "Muap_ioUWYpz"
      },
      "execution_count": null,
      "outputs": []
    }
  ]
}