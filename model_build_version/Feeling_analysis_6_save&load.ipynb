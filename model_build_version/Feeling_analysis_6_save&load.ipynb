{
  "nbformat": 4,
  "nbformat_minor": 0,
  "metadata": {
    "colab": {
      "name": "감성분석_대분류.ipynb",
      "provenance": []
    },
    "kernelspec": {
      "name": "python3",
      "display_name": "Python 3"
    },
    "language_info": {
      "name": "python"
    }
  },
  "cells": [
    {
      "cell_type": "code",
      "execution_count": null,
      "metadata": {
        "id": "sLpO8ZqtSAWk"
      },
      "outputs": [],
      "source": [
        "pip install konlpy"
      ]
    },
    {
      "cell_type": "code",
      "source": [
        "from google.colab import drive\n",
        "drive.mount('/content/drive')"
      ],
      "metadata": {
        "colab": {
          "base_uri": "https://localhost:8080/"
        },
        "id": "RFDddc_C_7zs",
        "outputId": "c3601de3-6e42-4dc1-f360-2fcbd59cd149"
      },
      "execution_count": 45,
      "outputs": [
        {
          "output_type": "stream",
          "name": "stdout",
          "text": [
            "Drive already mounted at /content/drive; to attempt to forcibly remount, call drive.mount(\"/content/drive\", force_remount=True).\n"
          ]
        }
      ]
    },
    {
      "cell_type": "code",
      "source": [
        "import numpy as np\n",
        "import matplotlib.pyplot as plt\n",
        "import tensorflow as tf\n",
        "import pandas as pd\n",
        "\n",
        "import re\n",
        "from konlpy.tag import Okt\n",
        "from tqdm import tqdm  #상태진행률 표시\n",
        "from tensorflow.keras.preprocessing.text import Tokenizer\n",
        "from tensorflow.keras.preprocessing.sequence import pad_sequences"
      ],
      "metadata": {
        "id": "zuCdUSm6SFh8"
      },
      "execution_count": 46,
      "outputs": []
    },
    {
      "cell_type": "code",
      "source": [
        "train_data = pd.read_excel('/content/drive/MyDrive/프로젝트1/감성대화말뭉치(최종데이터)_Training.xlsx')  # 코랩에 올리고 실행되기까지 시간이 좀 걸림.\n",
        "train_data.head(3)"
      ],
      "metadata": {
        "colab": {
          "base_uri": "https://localhost:8080/",
          "height": 465
        },
        "id": "8nwFsCG3SF8W",
        "outputId": "5d35093d-fe16-4604-9760-ca24be350502"
      },
      "execution_count": 47,
      "outputs": [
        {
          "output_type": "execute_result",
          "data": {
            "text/html": [
              "\n",
              "  <div id=\"df-f125c655-5f74-4698-89fb-fe05b485845b\">\n",
              "    <div class=\"colab-df-container\">\n",
              "      <div>\n",
              "<style scoped>\n",
              "    .dataframe tbody tr th:only-of-type {\n",
              "        vertical-align: middle;\n",
              "    }\n",
              "\n",
              "    .dataframe tbody tr th {\n",
              "        vertical-align: top;\n",
              "    }\n",
              "\n",
              "    .dataframe thead th {\n",
              "        text-align: right;\n",
              "    }\n",
              "</style>\n",
              "<table border=\"1\" class=\"dataframe\">\n",
              "  <thead>\n",
              "    <tr style=\"text-align: right;\">\n",
              "      <th></th>\n",
              "      <th>번호</th>\n",
              "      <th>연령</th>\n",
              "      <th>성별</th>\n",
              "      <th>상황키워드</th>\n",
              "      <th>신체질환</th>\n",
              "      <th>감정_대분류</th>\n",
              "      <th>감정_소분류</th>\n",
              "      <th>사람문장1</th>\n",
              "      <th>시스템응답1</th>\n",
              "      <th>사람문장2</th>\n",
              "      <th>시스템응답2</th>\n",
              "      <th>사람문장3</th>\n",
              "      <th>시스템응답3</th>\n",
              "      <th>사람문장4</th>\n",
              "      <th>시스템응답4</th>\n",
              "    </tr>\n",
              "  </thead>\n",
              "  <tbody>\n",
              "    <tr>\n",
              "      <th>0</th>\n",
              "      <td>44164</td>\n",
              "      <td>청년</td>\n",
              "      <td>남성</td>\n",
              "      <td>연애, 결혼, 출산</td>\n",
              "      <td>해당없음</td>\n",
              "      <td>기쁨</td>\n",
              "      <td>신이 난</td>\n",
              "      <td>아내가 드디어 출산하게 되어서 정말 신이 나.</td>\n",
              "      <td>아내분이 출산을 하시는군요. 정말 축하드려요.</td>\n",
              "      <td>아 지금 정말 신이 나.</td>\n",
              "      <td>잘 된 일이네요.</td>\n",
              "      <td>아기가 점점 클게 벌써 기대가 되네. 내가 많이 놀아줘야지.</td>\n",
              "      <td>좋은 아빠가 되실 거 같아요. 진심으로 축하드려요.</td>\n",
              "      <td>NaN</td>\n",
              "      <td>NaN</td>\n",
              "    </tr>\n",
              "    <tr>\n",
              "      <th>1</th>\n",
              "      <td>3926</td>\n",
              "      <td>노년</td>\n",
              "      <td>남성</td>\n",
              "      <td>건강, 죽음</td>\n",
              "      <td>만성질환 유</td>\n",
              "      <td>불안</td>\n",
              "      <td>스트레스 받는</td>\n",
              "      <td>당뇨랑 합병증 때문에 먹어야 할 약이 열 가지가 넘어가니까 스트레스야.</td>\n",
              "      <td>약 종류가 많아 번거로우시겠어요.</td>\n",
              "      <td>건강할 때 관리 좀 잘할걸 하는 생각이 들더라고.</td>\n",
              "      <td>현재 상황에서 변화를 주기 위해 어떻게 하면 될까요?</td>\n",
              "      <td>약을 잘 챙겨 먹고 나을 수 있도록 노력해야지.</td>\n",
              "      <td>약을 잘 챙겨 먹어 건강해지시길 바랄게요.</td>\n",
              "      <td>NaN</td>\n",
              "      <td>NaN</td>\n",
              "    </tr>\n",
              "    <tr>\n",
              "      <th>2</th>\n",
              "      <td>50882</td>\n",
              "      <td>청소년</td>\n",
              "      <td>여성</td>\n",
              "      <td>학업 및 진로</td>\n",
              "      <td>해당없음</td>\n",
              "      <td>당황</td>\n",
              "      <td>당황</td>\n",
              "      <td>고등학교에 올라오니 중학교 때보다 수업이 갑자기 어려워져서 당황스러워.</td>\n",
              "      <td>고등학교 수업이 중학교 때와는 다르게 갑자기 어려워서 당황스러우시군요.</td>\n",
              "      <td>아직 학기 초인데 내가 수업에 잘 따라갈 수 있을지 걱정돼.</td>\n",
              "      <td>이 상황에서 할 수 있는 게 어떤 것이 있을까요?</td>\n",
              "      <td>중학교 수업을 들을 때보다 훨씬 더 열심히 할 거야.</td>\n",
              "      <td>수업을 어떤 방식으로 열심히 듣는게 좋을까요?</td>\n",
              "      <td>선생님이 강조하신 부분을 필기하고 집에서 매일 수업 내용을 복습하려고 해.</td>\n",
              "      <td>열심히 해서 좋은 결과가 있었으면 좋겠어요.</td>\n",
              "    </tr>\n",
              "  </tbody>\n",
              "</table>\n",
              "</div>\n",
              "      <button class=\"colab-df-convert\" onclick=\"convertToInteractive('df-f125c655-5f74-4698-89fb-fe05b485845b')\"\n",
              "              title=\"Convert this dataframe to an interactive table.\"\n",
              "              style=\"display:none;\">\n",
              "        \n",
              "  <svg xmlns=\"http://www.w3.org/2000/svg\" height=\"24px\"viewBox=\"0 0 24 24\"\n",
              "       width=\"24px\">\n",
              "    <path d=\"M0 0h24v24H0V0z\" fill=\"none\"/>\n",
              "    <path d=\"M18.56 5.44l.94 2.06.94-2.06 2.06-.94-2.06-.94-.94-2.06-.94 2.06-2.06.94zm-11 1L8.5 8.5l.94-2.06 2.06-.94-2.06-.94L8.5 2.5l-.94 2.06-2.06.94zm10 10l.94 2.06.94-2.06 2.06-.94-2.06-.94-.94-2.06-.94 2.06-2.06.94z\"/><path d=\"M17.41 7.96l-1.37-1.37c-.4-.4-.92-.59-1.43-.59-.52 0-1.04.2-1.43.59L10.3 9.45l-7.72 7.72c-.78.78-.78 2.05 0 2.83L4 21.41c.39.39.9.59 1.41.59.51 0 1.02-.2 1.41-.59l7.78-7.78 2.81-2.81c.8-.78.8-2.07 0-2.86zM5.41 20L4 18.59l7.72-7.72 1.47 1.35L5.41 20z\"/>\n",
              "  </svg>\n",
              "      </button>\n",
              "      \n",
              "  <style>\n",
              "    .colab-df-container {\n",
              "      display:flex;\n",
              "      flex-wrap:wrap;\n",
              "      gap: 12px;\n",
              "    }\n",
              "\n",
              "    .colab-df-convert {\n",
              "      background-color: #E8F0FE;\n",
              "      border: none;\n",
              "      border-radius: 50%;\n",
              "      cursor: pointer;\n",
              "      display: none;\n",
              "      fill: #1967D2;\n",
              "      height: 32px;\n",
              "      padding: 0 0 0 0;\n",
              "      width: 32px;\n",
              "    }\n",
              "\n",
              "    .colab-df-convert:hover {\n",
              "      background-color: #E2EBFA;\n",
              "      box-shadow: 0px 1px 2px rgba(60, 64, 67, 0.3), 0px 1px 3px 1px rgba(60, 64, 67, 0.15);\n",
              "      fill: #174EA6;\n",
              "    }\n",
              "\n",
              "    [theme=dark] .colab-df-convert {\n",
              "      background-color: #3B4455;\n",
              "      fill: #D2E3FC;\n",
              "    }\n",
              "\n",
              "    [theme=dark] .colab-df-convert:hover {\n",
              "      background-color: #434B5C;\n",
              "      box-shadow: 0px 1px 3px 1px rgba(0, 0, 0, 0.15);\n",
              "      filter: drop-shadow(0px 1px 2px rgba(0, 0, 0, 0.3));\n",
              "      fill: #FFFFFF;\n",
              "    }\n",
              "  </style>\n",
              "\n",
              "      <script>\n",
              "        const buttonEl =\n",
              "          document.querySelector('#df-f125c655-5f74-4698-89fb-fe05b485845b button.colab-df-convert');\n",
              "        buttonEl.style.display =\n",
              "          google.colab.kernel.accessAllowed ? 'block' : 'none';\n",
              "\n",
              "        async function convertToInteractive(key) {\n",
              "          const element = document.querySelector('#df-f125c655-5f74-4698-89fb-fe05b485845b');\n",
              "          const dataTable =\n",
              "            await google.colab.kernel.invokeFunction('convertToInteractive',\n",
              "                                                     [key], {});\n",
              "          if (!dataTable) return;\n",
              "\n",
              "          const docLinkHtml = 'Like what you see? Visit the ' +\n",
              "            '<a target=\"_blank\" href=https://colab.research.google.com/notebooks/data_table.ipynb>data table notebook</a>'\n",
              "            + ' to learn more about interactive tables.';\n",
              "          element.innerHTML = '';\n",
              "          dataTable['output_type'] = 'display_data';\n",
              "          await google.colab.output.renderOutput(dataTable, element);\n",
              "          const docLink = document.createElement('div');\n",
              "          docLink.innerHTML = docLinkHtml;\n",
              "          element.appendChild(docLink);\n",
              "        }\n",
              "      </script>\n",
              "    </div>\n",
              "  </div>\n",
              "  "
            ],
            "text/plain": [
              "      번호  ...                    시스템응답4\n",
              "0  44164  ...                       NaN\n",
              "1   3926  ...                       NaN\n",
              "2  50882  ...  열심히 해서 좋은 결과가 있었으면 좋겠어요.\n",
              "\n",
              "[3 rows x 15 columns]"
            ]
          },
          "metadata": {},
          "execution_count": 47
        }
      ]
    },
    {
      "cell_type": "code",
      "source": [
        "val_data = pd.read_excel('/content/drive/MyDrive/프로젝트1/감성대화말뭉치(최종데이터)_Validation.xlsx')  # 코랩에 올리고 실행되기까지 시간이 좀 걸림.\n",
        "val_data.head(3)"
      ],
      "metadata": {
        "colab": {
          "base_uri": "https://localhost:8080/",
          "height": 430
        },
        "id": "zZckiPHISICq",
        "outputId": "4fb665d4-931c-40a9-cf79-bb8f3a5ad7a9"
      },
      "execution_count": 48,
      "outputs": [
        {
          "output_type": "execute_result",
          "data": {
            "text/html": [
              "\n",
              "  <div id=\"df-fe733a95-0fb3-4a4b-86a2-88e5d4e9a84c\">\n",
              "    <div class=\"colab-df-container\">\n",
              "      <div>\n",
              "<style scoped>\n",
              "    .dataframe tbody tr th:only-of-type {\n",
              "        vertical-align: middle;\n",
              "    }\n",
              "\n",
              "    .dataframe tbody tr th {\n",
              "        vertical-align: top;\n",
              "    }\n",
              "\n",
              "    .dataframe thead th {\n",
              "        text-align: right;\n",
              "    }\n",
              "</style>\n",
              "<table border=\"1\" class=\"dataframe\">\n",
              "  <thead>\n",
              "    <tr style=\"text-align: right;\">\n",
              "      <th></th>\n",
              "      <th>번호</th>\n",
              "      <th>연령</th>\n",
              "      <th>성별</th>\n",
              "      <th>상황키워드</th>\n",
              "      <th>신체질환</th>\n",
              "      <th>감정_대분류</th>\n",
              "      <th>감정_소분류</th>\n",
              "      <th>사람문장1</th>\n",
              "      <th>시스템응답1</th>\n",
              "      <th>사람문장2</th>\n",
              "      <th>시스템응답2</th>\n",
              "      <th>사람문장3</th>\n",
              "      <th>시스템응답3</th>\n",
              "      <th>사람문장4</th>\n",
              "      <th>시스템응답4</th>\n",
              "    </tr>\n",
              "  </thead>\n",
              "  <tbody>\n",
              "    <tr>\n",
              "      <th>0</th>\n",
              "      <td>23093</td>\n",
              "      <td>청년</td>\n",
              "      <td>여성</td>\n",
              "      <td>진로, 취업, 직장</td>\n",
              "      <td>해당없음</td>\n",
              "      <td>분노</td>\n",
              "      <td>툴툴대는</td>\n",
              "      <td>요즘 부모님과 많이 부딪혀.</td>\n",
              "      <td>어떤 일로 부딪히시나요?</td>\n",
              "      <td>난 하고 싶은 일이 있는데 부모님은 안정적인 일만 하라고 하셔. 내 마음대로 하지도...</td>\n",
              "      <td>부모님과의 충돌로 힘드시겠군요.</td>\n",
              "      <td>응. 그래도 난 내가 하고 싶은 일을 위해 노력할 거야.</td>\n",
              "      <td>자신이 하고 싶은 일을 목표로 하기로 하셨군요.</td>\n",
              "      <td>NaN</td>\n",
              "      <td>NaN</td>\n",
              "    </tr>\n",
              "    <tr>\n",
              "      <th>1</th>\n",
              "      <td>32848</td>\n",
              "      <td>청소년</td>\n",
              "      <td>남성</td>\n",
              "      <td>가족관계</td>\n",
              "      <td>해당없음</td>\n",
              "      <td>슬픔</td>\n",
              "      <td>비통한</td>\n",
              "      <td>엄마가 결국 집을 나갔어. 너무 너무 슬퍼.</td>\n",
              "      <td>어머니께서 집을 나가셨다니 정말 슬프셨겠어요. 좀 더 자세히 얘기해주시겠어요?</td>\n",
              "      <td>엄마도 엄마만의 인생이 있을 테니 가지 말라고 할 수가 없었어. 그래서 더 마음이 ...</td>\n",
              "      <td>정말 많이 답답하셨겠어요. 어떻게 하는 게 기분이 좀 풀릴까요?</td>\n",
              "      <td>일단 좀 자야겠어.</td>\n",
              "      <td>일단 휴식을 가질 생각이시군요.</td>\n",
              "      <td>NaN</td>\n",
              "      <td>NaN</td>\n",
              "    </tr>\n",
              "    <tr>\n",
              "      <th>2</th>\n",
              "      <td>35590</td>\n",
              "      <td>청소년</td>\n",
              "      <td>남성</td>\n",
              "      <td>학교폭력/따돌림</td>\n",
              "      <td>해당없음</td>\n",
              "      <td>불안</td>\n",
              "      <td>조심스러운</td>\n",
              "      <td>학교에서 한 친구를 괴롭히는 무리에게 그만하라고 했어.</td>\n",
              "      <td>용기 있는 행동을 하셨네요. 마음이 어떠셨나요?</td>\n",
              "      <td>그런데 말을 하고 난 후 나도 괴롭힐까 봐 불안했어.</td>\n",
              "      <td>그랬군요. 지금 기분에서 벗어나기 위해 할 수 있는 일에는 무엇이 있을까요?</td>\n",
              "      <td>나는 옳은 일을 한 거라고 생각해. 나까지 괴롭힌다면 신고할 거야.</td>\n",
              "      <td>지금의 상황이 나의 방식으로써 잘 해결될 수 있기를 바라요.</td>\n",
              "      <td>NaN</td>\n",
              "      <td>NaN</td>\n",
              "    </tr>\n",
              "  </tbody>\n",
              "</table>\n",
              "</div>\n",
              "      <button class=\"colab-df-convert\" onclick=\"convertToInteractive('df-fe733a95-0fb3-4a4b-86a2-88e5d4e9a84c')\"\n",
              "              title=\"Convert this dataframe to an interactive table.\"\n",
              "              style=\"display:none;\">\n",
              "        \n",
              "  <svg xmlns=\"http://www.w3.org/2000/svg\" height=\"24px\"viewBox=\"0 0 24 24\"\n",
              "       width=\"24px\">\n",
              "    <path d=\"M0 0h24v24H0V0z\" fill=\"none\"/>\n",
              "    <path d=\"M18.56 5.44l.94 2.06.94-2.06 2.06-.94-2.06-.94-.94-2.06-.94 2.06-2.06.94zm-11 1L8.5 8.5l.94-2.06 2.06-.94-2.06-.94L8.5 2.5l-.94 2.06-2.06.94zm10 10l.94 2.06.94-2.06 2.06-.94-2.06-.94-.94-2.06-.94 2.06-2.06.94z\"/><path d=\"M17.41 7.96l-1.37-1.37c-.4-.4-.92-.59-1.43-.59-.52 0-1.04.2-1.43.59L10.3 9.45l-7.72 7.72c-.78.78-.78 2.05 0 2.83L4 21.41c.39.39.9.59 1.41.59.51 0 1.02-.2 1.41-.59l7.78-7.78 2.81-2.81c.8-.78.8-2.07 0-2.86zM5.41 20L4 18.59l7.72-7.72 1.47 1.35L5.41 20z\"/>\n",
              "  </svg>\n",
              "      </button>\n",
              "      \n",
              "  <style>\n",
              "    .colab-df-container {\n",
              "      display:flex;\n",
              "      flex-wrap:wrap;\n",
              "      gap: 12px;\n",
              "    }\n",
              "\n",
              "    .colab-df-convert {\n",
              "      background-color: #E8F0FE;\n",
              "      border: none;\n",
              "      border-radius: 50%;\n",
              "      cursor: pointer;\n",
              "      display: none;\n",
              "      fill: #1967D2;\n",
              "      height: 32px;\n",
              "      padding: 0 0 0 0;\n",
              "      width: 32px;\n",
              "    }\n",
              "\n",
              "    .colab-df-convert:hover {\n",
              "      background-color: #E2EBFA;\n",
              "      box-shadow: 0px 1px 2px rgba(60, 64, 67, 0.3), 0px 1px 3px 1px rgba(60, 64, 67, 0.15);\n",
              "      fill: #174EA6;\n",
              "    }\n",
              "\n",
              "    [theme=dark] .colab-df-convert {\n",
              "      background-color: #3B4455;\n",
              "      fill: #D2E3FC;\n",
              "    }\n",
              "\n",
              "    [theme=dark] .colab-df-convert:hover {\n",
              "      background-color: #434B5C;\n",
              "      box-shadow: 0px 1px 3px 1px rgba(0, 0, 0, 0.15);\n",
              "      filter: drop-shadow(0px 1px 2px rgba(0, 0, 0, 0.3));\n",
              "      fill: #FFFFFF;\n",
              "    }\n",
              "  </style>\n",
              "\n",
              "      <script>\n",
              "        const buttonEl =\n",
              "          document.querySelector('#df-fe733a95-0fb3-4a4b-86a2-88e5d4e9a84c button.colab-df-convert');\n",
              "        buttonEl.style.display =\n",
              "          google.colab.kernel.accessAllowed ? 'block' : 'none';\n",
              "\n",
              "        async function convertToInteractive(key) {\n",
              "          const element = document.querySelector('#df-fe733a95-0fb3-4a4b-86a2-88e5d4e9a84c');\n",
              "          const dataTable =\n",
              "            await google.colab.kernel.invokeFunction('convertToInteractive',\n",
              "                                                     [key], {});\n",
              "          if (!dataTable) return;\n",
              "\n",
              "          const docLinkHtml = 'Like what you see? Visit the ' +\n",
              "            '<a target=\"_blank\" href=https://colab.research.google.com/notebooks/data_table.ipynb>data table notebook</a>'\n",
              "            + ' to learn more about interactive tables.';\n",
              "          element.innerHTML = '';\n",
              "          dataTable['output_type'] = 'display_data';\n",
              "          await google.colab.output.renderOutput(dataTable, element);\n",
              "          const docLink = document.createElement('div');\n",
              "          docLink.innerHTML = docLinkHtml;\n",
              "          element.appendChild(docLink);\n",
              "        }\n",
              "      </script>\n",
              "    </div>\n",
              "  </div>\n",
              "  "
            ],
            "text/plain": [
              "      번호   연령  성별  ...                             시스템응답3 사람문장4 시스템응답4\n",
              "0  23093   청년  여성  ...         자신이 하고 싶은 일을 목표로 하기로 하셨군요.   NaN    NaN\n",
              "1  32848  청소년  남성  ...                  일단 휴식을 가질 생각이시군요.   NaN    NaN\n",
              "2  35590  청소년  남성  ...  지금의 상황이 나의 방식으로써 잘 해결될 수 있기를 바라요.   NaN    NaN\n",
              "\n",
              "[3 rows x 15 columns]"
            ]
          },
          "metadata": {},
          "execution_count": 48
        }
      ]
    },
    {
      "cell_type": "code",
      "source": [
        "stop_words = pd.read_excel('/content/drive/MyDrive/프로젝트1/stop_words.xlsx',header=None) "
      ],
      "metadata": {
        "id": "J66SVrMaSKMd"
      },
      "execution_count": 72,
      "outputs": []
    },
    {
      "cell_type": "code",
      "source": [
        "stop_words = set(stop_words.iloc[:,0])"
      ],
      "metadata": {
        "id": "TYAbfnzdj3NW"
      },
      "execution_count": 73,
      "outputs": []
    },
    {
      "cell_type": "code",
      "source": [
        "stop_words"
      ],
      "metadata": {
        "colab": {
          "base_uri": "https://localhost:8080/"
        },
        "id": "3GPARkpxkEZf",
        "outputId": "16380dbc-9b3e-4321-f844-9871bf3cd9cd"
      },
      "execution_count": 74,
      "outputs": [
        {
          "output_type": "execute_result",
          "data": {
            "text/plain": [
              "{',',\n",
              " '.',\n",
              " '가',\n",
              " '가지',\n",
              " '같',\n",
              " '개',\n",
              " '것',\n",
              " '경우',\n",
              " '그',\n",
              " '그것',\n",
              " '그녀',\n",
              " '그러',\n",
              " '그러나',\n",
              " '그런',\n",
              " '그렇',\n",
              " '그리고',\n",
              " '나',\n",
              " '나오',\n",
              " '내',\n",
              " '년',\n",
              " '놓',\n",
              " '다른',\n",
              " '다시',\n",
              " '대하',\n",
              " '더',\n",
              " '데',\n",
              " '되',\n",
              " '두',\n",
              " '들',\n",
              " '등',\n",
              " '따르',\n",
              " '때',\n",
              " '때문',\n",
              " '또',\n",
              " '만들',\n",
              " '많',\n",
              " '말',\n",
              " '말하',\n",
              " '명',\n",
              " '모르',\n",
              " '못하',\n",
              " '문제',\n",
              " '받',\n",
              " '번',\n",
              " '보',\n",
              " '보이',\n",
              " '사람',\n",
              " '사실',\n",
              " '사회',\n",
              " '살',\n",
              " '생각',\n",
              " '생각하',\n",
              " '소리',\n",
              " '속',\n",
              " '수',\n",
              " '시간',\n",
              " '시키',\n",
              " '싶',\n",
              " '씨',\n",
              " '아니',\n",
              " '안',\n",
              " '않',\n",
              " '알',\n",
              " '앞',\n",
              " '어떤',\n",
              " '어떻',\n",
              " '없',\n",
              " '여자',\n",
              " '오',\n",
              " '우리',\n",
              " '원',\n",
              " '월',\n",
              " '위하',\n",
              " '이',\n",
              " '이런',\n",
              " '이렇',\n",
              " '일',\n",
              " '있',\n",
              " '자신',\n",
              " '잘',\n",
              " '적',\n",
              " '전',\n",
              " '점',\n",
              " '정도',\n",
              " '좀',\n",
              " '좋',\n",
              " '주',\n",
              " '중',\n",
              " '지',\n",
              " '지금',\n",
              " '집',\n",
              " '크',\n",
              " '통하',\n",
              " '하',\n",
              " '하나',\n",
              " '한'}"
            ]
          },
          "metadata": {},
          "execution_count": 74
        }
      ]
    },
    {
      "cell_type": "markdown",
      "source": [
        "# 데이터에 대한 이해"
      ],
      "metadata": {
        "id": "neh4w8PyScw0"
      }
    },
    {
      "cell_type": "code",
      "source": [
        "import pandas as pd\n",
        "import numpy as np\n",
        "import matplotlib.pyplot as plt\n",
        "from tensorflow.keras.preprocessing.text import Tokenizer\n",
        "from tensorflow.keras.utils import to_categorical"
      ],
      "metadata": {
        "id": "kI31AhjdSYMo"
      },
      "execution_count": 50,
      "outputs": []
    },
    {
      "cell_type": "code",
      "source": [
        "train_data['번호']=train_data['번호'].astype('str')\n",
        "\n",
        "# 앞뒤 공백 처리.\n",
        "train_data =train_data.apply(lambda x: x.str.strip() , axis = 1)  #https://www.delftstack.com/ko/howto/python-pandas/difference-between-pandas-apply-map-and-applymap/\n",
        "train_data.head(3)"
      ],
      "metadata": {
        "colab": {
          "base_uri": "https://localhost:8080/",
          "height": 465
        },
        "id": "EISFJkw5SmkN",
        "outputId": "522339b8-2b6c-41e0-cdb5-7260a2f83d68"
      },
      "execution_count": 51,
      "outputs": [
        {
          "output_type": "execute_result",
          "data": {
            "text/html": [
              "\n",
              "  <div id=\"df-d9328da3-c331-4f96-9ca5-32029bae70b9\">\n",
              "    <div class=\"colab-df-container\">\n",
              "      <div>\n",
              "<style scoped>\n",
              "    .dataframe tbody tr th:only-of-type {\n",
              "        vertical-align: middle;\n",
              "    }\n",
              "\n",
              "    .dataframe tbody tr th {\n",
              "        vertical-align: top;\n",
              "    }\n",
              "\n",
              "    .dataframe thead th {\n",
              "        text-align: right;\n",
              "    }\n",
              "</style>\n",
              "<table border=\"1\" class=\"dataframe\">\n",
              "  <thead>\n",
              "    <tr style=\"text-align: right;\">\n",
              "      <th></th>\n",
              "      <th>번호</th>\n",
              "      <th>연령</th>\n",
              "      <th>성별</th>\n",
              "      <th>상황키워드</th>\n",
              "      <th>신체질환</th>\n",
              "      <th>감정_대분류</th>\n",
              "      <th>감정_소분류</th>\n",
              "      <th>사람문장1</th>\n",
              "      <th>시스템응답1</th>\n",
              "      <th>사람문장2</th>\n",
              "      <th>시스템응답2</th>\n",
              "      <th>사람문장3</th>\n",
              "      <th>시스템응답3</th>\n",
              "      <th>사람문장4</th>\n",
              "      <th>시스템응답4</th>\n",
              "    </tr>\n",
              "  </thead>\n",
              "  <tbody>\n",
              "    <tr>\n",
              "      <th>0</th>\n",
              "      <td>44164</td>\n",
              "      <td>청년</td>\n",
              "      <td>남성</td>\n",
              "      <td>연애, 결혼, 출산</td>\n",
              "      <td>해당없음</td>\n",
              "      <td>기쁨</td>\n",
              "      <td>신이 난</td>\n",
              "      <td>아내가 드디어 출산하게 되어서 정말 신이 나.</td>\n",
              "      <td>아내분이 출산을 하시는군요. 정말 축하드려요.</td>\n",
              "      <td>아 지금 정말 신이 나.</td>\n",
              "      <td>잘 된 일이네요.</td>\n",
              "      <td>아기가 점점 클게 벌써 기대가 되네. 내가 많이 놀아줘야지.</td>\n",
              "      <td>좋은 아빠가 되실 거 같아요. 진심으로 축하드려요.</td>\n",
              "      <td>NaN</td>\n",
              "      <td>NaN</td>\n",
              "    </tr>\n",
              "    <tr>\n",
              "      <th>1</th>\n",
              "      <td>3926</td>\n",
              "      <td>노년</td>\n",
              "      <td>남성</td>\n",
              "      <td>건강, 죽음</td>\n",
              "      <td>만성질환 유</td>\n",
              "      <td>불안</td>\n",
              "      <td>스트레스 받는</td>\n",
              "      <td>당뇨랑 합병증 때문에 먹어야 할 약이 열 가지가 넘어가니까 스트레스야.</td>\n",
              "      <td>약 종류가 많아 번거로우시겠어요.</td>\n",
              "      <td>건강할 때 관리 좀 잘할걸 하는 생각이 들더라고.</td>\n",
              "      <td>현재 상황에서 변화를 주기 위해 어떻게 하면 될까요?</td>\n",
              "      <td>약을 잘 챙겨 먹고 나을 수 있도록 노력해야지.</td>\n",
              "      <td>약을 잘 챙겨 먹어 건강해지시길 바랄게요.</td>\n",
              "      <td>NaN</td>\n",
              "      <td>NaN</td>\n",
              "    </tr>\n",
              "    <tr>\n",
              "      <th>2</th>\n",
              "      <td>50882</td>\n",
              "      <td>청소년</td>\n",
              "      <td>여성</td>\n",
              "      <td>학업 및 진로</td>\n",
              "      <td>해당없음</td>\n",
              "      <td>당황</td>\n",
              "      <td>당황</td>\n",
              "      <td>고등학교에 올라오니 중학교 때보다 수업이 갑자기 어려워져서 당황스러워.</td>\n",
              "      <td>고등학교 수업이 중학교 때와는 다르게 갑자기 어려워서 당황스러우시군요.</td>\n",
              "      <td>아직 학기 초인데 내가 수업에 잘 따라갈 수 있을지 걱정돼.</td>\n",
              "      <td>이 상황에서 할 수 있는 게 어떤 것이 있을까요?</td>\n",
              "      <td>중학교 수업을 들을 때보다 훨씬 더 열심히 할 거야.</td>\n",
              "      <td>수업을 어떤 방식으로 열심히 듣는게 좋을까요?</td>\n",
              "      <td>선생님이 강조하신 부분을 필기하고 집에서 매일 수업 내용을 복습하려고 해.</td>\n",
              "      <td>열심히 해서 좋은 결과가 있었으면 좋겠어요.</td>\n",
              "    </tr>\n",
              "  </tbody>\n",
              "</table>\n",
              "</div>\n",
              "      <button class=\"colab-df-convert\" onclick=\"convertToInteractive('df-d9328da3-c331-4f96-9ca5-32029bae70b9')\"\n",
              "              title=\"Convert this dataframe to an interactive table.\"\n",
              "              style=\"display:none;\">\n",
              "        \n",
              "  <svg xmlns=\"http://www.w3.org/2000/svg\" height=\"24px\"viewBox=\"0 0 24 24\"\n",
              "       width=\"24px\">\n",
              "    <path d=\"M0 0h24v24H0V0z\" fill=\"none\"/>\n",
              "    <path d=\"M18.56 5.44l.94 2.06.94-2.06 2.06-.94-2.06-.94-.94-2.06-.94 2.06-2.06.94zm-11 1L8.5 8.5l.94-2.06 2.06-.94-2.06-.94L8.5 2.5l-.94 2.06-2.06.94zm10 10l.94 2.06.94-2.06 2.06-.94-2.06-.94-.94-2.06-.94 2.06-2.06.94z\"/><path d=\"M17.41 7.96l-1.37-1.37c-.4-.4-.92-.59-1.43-.59-.52 0-1.04.2-1.43.59L10.3 9.45l-7.72 7.72c-.78.78-.78 2.05 0 2.83L4 21.41c.39.39.9.59 1.41.59.51 0 1.02-.2 1.41-.59l7.78-7.78 2.81-2.81c.8-.78.8-2.07 0-2.86zM5.41 20L4 18.59l7.72-7.72 1.47 1.35L5.41 20z\"/>\n",
              "  </svg>\n",
              "      </button>\n",
              "      \n",
              "  <style>\n",
              "    .colab-df-container {\n",
              "      display:flex;\n",
              "      flex-wrap:wrap;\n",
              "      gap: 12px;\n",
              "    }\n",
              "\n",
              "    .colab-df-convert {\n",
              "      background-color: #E8F0FE;\n",
              "      border: none;\n",
              "      border-radius: 50%;\n",
              "      cursor: pointer;\n",
              "      display: none;\n",
              "      fill: #1967D2;\n",
              "      height: 32px;\n",
              "      padding: 0 0 0 0;\n",
              "      width: 32px;\n",
              "    }\n",
              "\n",
              "    .colab-df-convert:hover {\n",
              "      background-color: #E2EBFA;\n",
              "      box-shadow: 0px 1px 2px rgba(60, 64, 67, 0.3), 0px 1px 3px 1px rgba(60, 64, 67, 0.15);\n",
              "      fill: #174EA6;\n",
              "    }\n",
              "\n",
              "    [theme=dark] .colab-df-convert {\n",
              "      background-color: #3B4455;\n",
              "      fill: #D2E3FC;\n",
              "    }\n",
              "\n",
              "    [theme=dark] .colab-df-convert:hover {\n",
              "      background-color: #434B5C;\n",
              "      box-shadow: 0px 1px 3px 1px rgba(0, 0, 0, 0.15);\n",
              "      filter: drop-shadow(0px 1px 2px rgba(0, 0, 0, 0.3));\n",
              "      fill: #FFFFFF;\n",
              "    }\n",
              "  </style>\n",
              "\n",
              "      <script>\n",
              "        const buttonEl =\n",
              "          document.querySelector('#df-d9328da3-c331-4f96-9ca5-32029bae70b9 button.colab-df-convert');\n",
              "        buttonEl.style.display =\n",
              "          google.colab.kernel.accessAllowed ? 'block' : 'none';\n",
              "\n",
              "        async function convertToInteractive(key) {\n",
              "          const element = document.querySelector('#df-d9328da3-c331-4f96-9ca5-32029bae70b9');\n",
              "          const dataTable =\n",
              "            await google.colab.kernel.invokeFunction('convertToInteractive',\n",
              "                                                     [key], {});\n",
              "          if (!dataTable) return;\n",
              "\n",
              "          const docLinkHtml = 'Like what you see? Visit the ' +\n",
              "            '<a target=\"_blank\" href=https://colab.research.google.com/notebooks/data_table.ipynb>data table notebook</a>'\n",
              "            + ' to learn more about interactive tables.';\n",
              "          element.innerHTML = '';\n",
              "          dataTable['output_type'] = 'display_data';\n",
              "          await google.colab.output.renderOutput(dataTable, element);\n",
              "          const docLink = document.createElement('div');\n",
              "          docLink.innerHTML = docLinkHtml;\n",
              "          element.appendChild(docLink);\n",
              "        }\n",
              "      </script>\n",
              "    </div>\n",
              "  </div>\n",
              "  "
            ],
            "text/plain": [
              "      번호  ...                    시스템응답4\n",
              "0  44164  ...                       NaN\n",
              "1   3926  ...                       NaN\n",
              "2  50882  ...  열심히 해서 좋은 결과가 있었으면 좋겠어요.\n",
              "\n",
              "[3 rows x 15 columns]"
            ]
          },
          "metadata": {},
          "execution_count": 51
        }
      ]
    },
    {
      "cell_type": "code",
      "source": [
        "# 공백제거\n",
        "val_data['번호']=val_data['번호'].astype('str')\n",
        "val_data =val_data.apply(lambda x: x.str.strip() , axis = 1)"
      ],
      "metadata": {
        "id": "fw03bhliN__G"
      },
      "execution_count": 52,
      "outputs": []
    },
    {
      "cell_type": "code",
      "source": [
        "print('총 감정_대분류의 개수 : {}'.format(len(train_data['감정_대분류'].unique())))\n",
        "print(train_data['감정_대분류'].unique())"
      ],
      "metadata": {
        "colab": {
          "base_uri": "https://localhost:8080/"
        },
        "id": "z-1of6bKTVKy",
        "outputId": "96ea8112-a4c5-4130-b743-4fab9585068e"
      },
      "execution_count": 53,
      "outputs": [
        {
          "output_type": "stream",
          "name": "stdout",
          "text": [
            "총 감정_대분류의 개수 : 6\n",
            "['기쁨' '불안' '당황' '슬픔' '분노' '상처']\n"
          ]
        }
      ]
    },
    {
      "cell_type": "code",
      "source": [
        "print('총 감정_소분류의 개수 : {}'.format(len(train_data['감정_소분류'].unique())))\n",
        "print(train_data['감정_소분류'].unique())"
      ],
      "metadata": {
        "colab": {
          "base_uri": "https://localhost:8080/"
        },
        "id": "dVexfZl-TW__",
        "outputId": "14e4d399-59d0-4bed-dbeb-b74c252eeef2"
      },
      "execution_count": 54,
      "outputs": [
        {
          "output_type": "stream",
          "name": "stdout",
          "text": [
            "총 감정_소분류의 개수 : 58\n",
            "['신이 난' '스트레스 받는' '당황' '안도' '취약한' '우울한' '구역질 나는' '좌절한' '눈물이 나는' '배신당한'\n",
            " '남의 시선을 의식하는' '죄책감의' '당혹스러운' '분노' '두려운' '낙담한' '회의적인' '마비된' '혼란스러운' '흥분'\n",
            " '한심한' '염세적인' '안달하는' '걱정스러운' '조심스러운' '충격 받은' '상처' '불안' '노여워하는' '기쁨' '짜증내는'\n",
            " '환멸을 느끼는' '비통한' '혐오스러운' '억울한' '만족스러운' '부끄러운' '버려진' '고립된' '괴로워하는' '자신하는'\n",
            " '외로운' '방어적인' '편안한' '질투하는' '감사하는' '초조한' '실망한' '슬픔' '신뢰하는' '가난한, 불우한'\n",
            " '후회되는' '툴툴대는' '성가신' '열등감' '희생된' '느긋' '악의적인']\n"
          ]
        }
      ]
    },
    {
      "cell_type": "markdown",
      "source": [
        "# 감성 레이블 만들기(숫자로 매핑)"
      ],
      "metadata": {
        "id": "EiazGyCbS0CJ"
      }
    },
    {
      "cell_type": "code",
      "source": [
        "#감정 대분류와 소분류를 키값쌍으로 정렬.\n",
        "dic = {}\n",
        "for uni_class in train_data['감정_대분류'].unique():\n",
        "    uni = train_data[train_data['감정_대분류'] == uni_class]['감정_소분류'].unique()\n",
        "    dic[uni_class] = list(uni)\n",
        "print(dic['기쁨'])"
      ],
      "metadata": {
        "colab": {
          "base_uri": "https://localhost:8080/"
        },
        "id": "f6DYxvjqSsB5",
        "outputId": "e44fbf5e-3092-4fe5-9dee-ebd035d1a6e4"
      },
      "execution_count": 55,
      "outputs": [
        {
          "output_type": "stream",
          "name": "stdout",
          "text": [
            "['신이 난', '안도', '흥분', '기쁨', '만족스러운', '자신하는', '편안한', '감사하는', '신뢰하는', '느긋']\n"
          ]
        }
      ]
    },
    {
      "cell_type": "code",
      "source": [
        "# 감정소분류주제 58개를 숫자레이블 딕셔너리로 변경\n",
        "feel_class = train_data['감정_소분류'].unique()\n",
        "\n",
        "i = 0\n",
        "feel_dic = {}\n",
        "for feel in feel_class:\n",
        "    feel_dic[feel] = i\n",
        "    i+=1\n",
        "# feel_dic  #key:value = 감정소분류:숫자"
      ],
      "metadata": {
        "id": "HjZXS0bkTBiP"
      },
      "execution_count": 56,
      "outputs": []
    },
    {
      "cell_type": "code",
      "source": [
        "# 숫자로 감정을 찾을 수 있도록 reverse\n",
        "feel_dic_reverse = {}\n",
        "for key, value in feel_dic.items():\n",
        "    feel_dic_reverse[value] = key\n",
        "feel_dic_reverse"
      ],
      "metadata": {
        "colab": {
          "base_uri": "https://localhost:8080/"
        },
        "id": "TG7xTAt-TB2s",
        "outputId": "ea614172-73fe-4ce6-c055-f44ff5b36599"
      },
      "execution_count": 57,
      "outputs": [
        {
          "output_type": "execute_result",
          "data": {
            "text/plain": [
              "{0: '신이 난',\n",
              " 1: '스트레스 받는',\n",
              " 2: '당황',\n",
              " 3: '안도',\n",
              " 4: '취약한',\n",
              " 5: '우울한',\n",
              " 6: '구역질 나는',\n",
              " 7: '좌절한',\n",
              " 8: '눈물이 나는',\n",
              " 9: '배신당한',\n",
              " 10: '남의 시선을 의식하는',\n",
              " 11: '죄책감의',\n",
              " 12: '당혹스러운',\n",
              " 13: '분노',\n",
              " 14: '두려운',\n",
              " 15: '낙담한',\n",
              " 16: '회의적인',\n",
              " 17: '마비된',\n",
              " 18: '혼란스러운',\n",
              " 19: '흥분',\n",
              " 20: '한심한',\n",
              " 21: '염세적인',\n",
              " 22: '안달하는',\n",
              " 23: '걱정스러운',\n",
              " 24: '조심스러운',\n",
              " 25: '충격 받은',\n",
              " 26: '상처',\n",
              " 27: '불안',\n",
              " 28: '노여워하는',\n",
              " 29: '기쁨',\n",
              " 30: '짜증내는',\n",
              " 31: '환멸을 느끼는',\n",
              " 32: '비통한',\n",
              " 33: '혐오스러운',\n",
              " 34: '억울한',\n",
              " 35: '만족스러운',\n",
              " 36: '부끄러운',\n",
              " 37: '버려진',\n",
              " 38: '고립된',\n",
              " 39: '괴로워하는',\n",
              " 40: '자신하는',\n",
              " 41: '외로운',\n",
              " 42: '방어적인',\n",
              " 43: '편안한',\n",
              " 44: '질투하는',\n",
              " 45: '감사하는',\n",
              " 46: '초조한',\n",
              " 47: '실망한',\n",
              " 48: '슬픔',\n",
              " 49: '신뢰하는',\n",
              " 50: '가난한, 불우한',\n",
              " 51: '후회되는',\n",
              " 52: '툴툴대는',\n",
              " 53: '성가신',\n",
              " 54: '열등감',\n",
              " 55: '희생된',\n",
              " 56: '느긋',\n",
              " 57: '악의적인'}"
            ]
          },
          "metadata": {},
          "execution_count": 57
        }
      ]
    },
    {
      "cell_type": "code",
      "source": [
        "feel_bic_class = train_data['감정_대분류'].unique()\n",
        "\n",
        "i = 0\n",
        "feel_bic_dic= {}\n",
        "for feel in feel_bic_class:\n",
        "    feel_bic_dic[feel] = i\n",
        "    i+=1"
      ],
      "metadata": {
        "id": "4uRAOxRWUCBM"
      },
      "execution_count": 58,
      "outputs": []
    },
    {
      "cell_type": "code",
      "source": [
        "# 숫자로 감정을 찾을 수 있도록 reverse\n",
        "feel_bic_dic_reverse = {}\n",
        "for key, value in feel_bic_dic.items():\n",
        "    feel_bic_dic_reverse[value] = key\n",
        "feel_bic_dic_reverse"
      ],
      "metadata": {
        "colab": {
          "base_uri": "https://localhost:8080/"
        },
        "id": "mPpMJ5iGUCWh",
        "outputId": "b549eb71-bb60-4fbf-ce83-4117d2c16618"
      },
      "execution_count": 59,
      "outputs": [
        {
          "output_type": "execute_result",
          "data": {
            "text/plain": [
              "{0: '기쁨', 1: '불안', 2: '당황', 3: '슬픔', 4: '분노', 5: '상처'}"
            ]
          },
          "metadata": {},
          "execution_count": 59
        }
      ]
    },
    {
      "cell_type": "code",
      "source": [
        "feel_bic_df = train_data[['감정_대분류','사람문장1']]\n",
        "feel_bic_df"
      ],
      "metadata": {
        "colab": {
          "base_uri": "https://localhost:8080/",
          "height": 423
        },
        "id": "DIg8ZjHyUKHo",
        "outputId": "645b0de9-cf87-407b-beb3-32d4e6d484a3"
      },
      "execution_count": 60,
      "outputs": [
        {
          "output_type": "execute_result",
          "data": {
            "text/html": [
              "\n",
              "  <div id=\"df-0643f570-cc40-4aea-afb8-87c3ed2a1ad5\">\n",
              "    <div class=\"colab-df-container\">\n",
              "      <div>\n",
              "<style scoped>\n",
              "    .dataframe tbody tr th:only-of-type {\n",
              "        vertical-align: middle;\n",
              "    }\n",
              "\n",
              "    .dataframe tbody tr th {\n",
              "        vertical-align: top;\n",
              "    }\n",
              "\n",
              "    .dataframe thead th {\n",
              "        text-align: right;\n",
              "    }\n",
              "</style>\n",
              "<table border=\"1\" class=\"dataframe\">\n",
              "  <thead>\n",
              "    <tr style=\"text-align: right;\">\n",
              "      <th></th>\n",
              "      <th>감정_대분류</th>\n",
              "      <th>사람문장1</th>\n",
              "    </tr>\n",
              "  </thead>\n",
              "  <tbody>\n",
              "    <tr>\n",
              "      <th>0</th>\n",
              "      <td>기쁨</td>\n",
              "      <td>아내가 드디어 출산하게 되어서 정말 신이 나.</td>\n",
              "    </tr>\n",
              "    <tr>\n",
              "      <th>1</th>\n",
              "      <td>불안</td>\n",
              "      <td>당뇨랑 합병증 때문에 먹어야 할 약이 열 가지가 넘어가니까 스트레스야.</td>\n",
              "    </tr>\n",
              "    <tr>\n",
              "      <th>2</th>\n",
              "      <td>당황</td>\n",
              "      <td>고등학교에 올라오니 중학교 때보다 수업이 갑자기 어려워져서 당황스러워.</td>\n",
              "    </tr>\n",
              "    <tr>\n",
              "      <th>3</th>\n",
              "      <td>기쁨</td>\n",
              "      <td>재취업이 돼서 받게 된 첫 월급으로 온 가족이 외식을 할 예정이야. 너무 행복해.</td>\n",
              "    </tr>\n",
              "    <tr>\n",
              "      <th>4</th>\n",
              "      <td>기쁨</td>\n",
              "      <td>빚을 드디어 다 갚게 되어서 이제야 안도감이 들어.</td>\n",
              "    </tr>\n",
              "    <tr>\n",
              "      <th>...</th>\n",
              "      <td>...</td>\n",
              "      <td>...</td>\n",
              "    </tr>\n",
              "    <tr>\n",
              "      <th>40874</th>\n",
              "      <td>불안</td>\n",
              "      <td>같이 사는 친구가 애완견을 데려왔는데 대부분 내가 돌보고 있어. 내가 주인인가 혼란...</td>\n",
              "    </tr>\n",
              "    <tr>\n",
              "      <th>40875</th>\n",
              "      <td>기쁨</td>\n",
              "      <td>지난주에 건강검진 결과가 나왔는데 정상이라고 결과가 나왔어.</td>\n",
              "    </tr>\n",
              "    <tr>\n",
              "      <th>40876</th>\n",
              "      <td>슬픔</td>\n",
              "      <td>엄마는 내 꿈인 작가를 응원해 주고는 했는데 지금은 안 그래. 너무 슬퍼.</td>\n",
              "    </tr>\n",
              "    <tr>\n",
              "      <th>40877</th>\n",
              "      <td>기쁨</td>\n",
              "      <td>이렇게 좋은 운동 시설에서 경로 우대로 운동할 수 있다니 참 행운이야.</td>\n",
              "    </tr>\n",
              "    <tr>\n",
              "      <th>40878</th>\n",
              "      <td>불안</td>\n",
              "      <td>친구 관계가 너무 힘들어. 베푸는 만큼 돌아오지 않는 것 같아.</td>\n",
              "    </tr>\n",
              "  </tbody>\n",
              "</table>\n",
              "<p>40879 rows × 2 columns</p>\n",
              "</div>\n",
              "      <button class=\"colab-df-convert\" onclick=\"convertToInteractive('df-0643f570-cc40-4aea-afb8-87c3ed2a1ad5')\"\n",
              "              title=\"Convert this dataframe to an interactive table.\"\n",
              "              style=\"display:none;\">\n",
              "        \n",
              "  <svg xmlns=\"http://www.w3.org/2000/svg\" height=\"24px\"viewBox=\"0 0 24 24\"\n",
              "       width=\"24px\">\n",
              "    <path d=\"M0 0h24v24H0V0z\" fill=\"none\"/>\n",
              "    <path d=\"M18.56 5.44l.94 2.06.94-2.06 2.06-.94-2.06-.94-.94-2.06-.94 2.06-2.06.94zm-11 1L8.5 8.5l.94-2.06 2.06-.94-2.06-.94L8.5 2.5l-.94 2.06-2.06.94zm10 10l.94 2.06.94-2.06 2.06-.94-2.06-.94-.94-2.06-.94 2.06-2.06.94z\"/><path d=\"M17.41 7.96l-1.37-1.37c-.4-.4-.92-.59-1.43-.59-.52 0-1.04.2-1.43.59L10.3 9.45l-7.72 7.72c-.78.78-.78 2.05 0 2.83L4 21.41c.39.39.9.59 1.41.59.51 0 1.02-.2 1.41-.59l7.78-7.78 2.81-2.81c.8-.78.8-2.07 0-2.86zM5.41 20L4 18.59l7.72-7.72 1.47 1.35L5.41 20z\"/>\n",
              "  </svg>\n",
              "      </button>\n",
              "      \n",
              "  <style>\n",
              "    .colab-df-container {\n",
              "      display:flex;\n",
              "      flex-wrap:wrap;\n",
              "      gap: 12px;\n",
              "    }\n",
              "\n",
              "    .colab-df-convert {\n",
              "      background-color: #E8F0FE;\n",
              "      border: none;\n",
              "      border-radius: 50%;\n",
              "      cursor: pointer;\n",
              "      display: none;\n",
              "      fill: #1967D2;\n",
              "      height: 32px;\n",
              "      padding: 0 0 0 0;\n",
              "      width: 32px;\n",
              "    }\n",
              "\n",
              "    .colab-df-convert:hover {\n",
              "      background-color: #E2EBFA;\n",
              "      box-shadow: 0px 1px 2px rgba(60, 64, 67, 0.3), 0px 1px 3px 1px rgba(60, 64, 67, 0.15);\n",
              "      fill: #174EA6;\n",
              "    }\n",
              "\n",
              "    [theme=dark] .colab-df-convert {\n",
              "      background-color: #3B4455;\n",
              "      fill: #D2E3FC;\n",
              "    }\n",
              "\n",
              "    [theme=dark] .colab-df-convert:hover {\n",
              "      background-color: #434B5C;\n",
              "      box-shadow: 0px 1px 3px 1px rgba(0, 0, 0, 0.15);\n",
              "      filter: drop-shadow(0px 1px 2px rgba(0, 0, 0, 0.3));\n",
              "      fill: #FFFFFF;\n",
              "    }\n",
              "  </style>\n",
              "\n",
              "      <script>\n",
              "        const buttonEl =\n",
              "          document.querySelector('#df-0643f570-cc40-4aea-afb8-87c3ed2a1ad5 button.colab-df-convert');\n",
              "        buttonEl.style.display =\n",
              "          google.colab.kernel.accessAllowed ? 'block' : 'none';\n",
              "\n",
              "        async function convertToInteractive(key) {\n",
              "          const element = document.querySelector('#df-0643f570-cc40-4aea-afb8-87c3ed2a1ad5');\n",
              "          const dataTable =\n",
              "            await google.colab.kernel.invokeFunction('convertToInteractive',\n",
              "                                                     [key], {});\n",
              "          if (!dataTable) return;\n",
              "\n",
              "          const docLinkHtml = 'Like what you see? Visit the ' +\n",
              "            '<a target=\"_blank\" href=https://colab.research.google.com/notebooks/data_table.ipynb>data table notebook</a>'\n",
              "            + ' to learn more about interactive tables.';\n",
              "          element.innerHTML = '';\n",
              "          dataTable['output_type'] = 'display_data';\n",
              "          await google.colab.output.renderOutput(dataTable, element);\n",
              "          const docLink = document.createElement('div');\n",
              "          docLink.innerHTML = docLinkHtml;\n",
              "          element.appendChild(docLink);\n",
              "        }\n",
              "      </script>\n",
              "    </div>\n",
              "  </div>\n",
              "  "
            ],
            "text/plain": [
              "      감정_대분류                                              사람문장1\n",
              "0         기쁨                          아내가 드디어 출산하게 되어서 정말 신이 나.\n",
              "1         불안            당뇨랑 합병증 때문에 먹어야 할 약이 열 가지가 넘어가니까 스트레스야.\n",
              "2         당황            고등학교에 올라오니 중학교 때보다 수업이 갑자기 어려워져서 당황스러워.\n",
              "3         기쁨      재취업이 돼서 받게 된 첫 월급으로 온 가족이 외식을 할 예정이야. 너무 행복해.\n",
              "4         기쁨                       빚을 드디어 다 갚게 되어서 이제야 안도감이 들어.\n",
              "...      ...                                                ...\n",
              "40874     불안  같이 사는 친구가 애완견을 데려왔는데 대부분 내가 돌보고 있어. 내가 주인인가 혼란...\n",
              "40875     기쁨                  지난주에 건강검진 결과가 나왔는데 정상이라고 결과가 나왔어.\n",
              "40876     슬픔          엄마는 내 꿈인 작가를 응원해 주고는 했는데 지금은 안 그래. 너무 슬퍼.\n",
              "40877     기쁨            이렇게 좋은 운동 시설에서 경로 우대로 운동할 수 있다니 참 행운이야.\n",
              "40878     불안                친구 관계가 너무 힘들어. 베푸는 만큼 돌아오지 않는 것 같아.\n",
              "\n",
              "[40879 rows x 2 columns]"
            ]
          },
          "metadata": {},
          "execution_count": 60
        }
      ]
    },
    {
      "cell_type": "code",
      "source": [
        "li = []\n",
        "for feel in feel_bic_df['감정_대분류']:\n",
        "    li.append(feel_bic_dic[feel])\n",
        "feel_bic_df['대분류_num'] = li\n",
        "feel_bic_df"
      ],
      "metadata": {
        "colab": {
          "base_uri": "https://localhost:8080/",
          "height": 534
        },
        "id": "WZnlw4apUKRu",
        "outputId": "2b75c60c-2846-4229-b9a2-9cd57c60f8bd"
      },
      "execution_count": null,
      "outputs": [
        {
          "output_type": "stream",
          "name": "stderr",
          "text": [
            "/usr/local/lib/python3.7/dist-packages/ipykernel_launcher.py:4: SettingWithCopyWarning: \n",
            "A value is trying to be set on a copy of a slice from a DataFrame.\n",
            "Try using .loc[row_indexer,col_indexer] = value instead\n",
            "\n",
            "See the caveats in the documentation: https://pandas.pydata.org/pandas-docs/stable/user_guide/indexing.html#returning-a-view-versus-a-copy\n",
            "  after removing the cwd from sys.path.\n"
          ]
        },
        {
          "output_type": "execute_result",
          "data": {
            "text/html": [
              "\n",
              "  <div id=\"df-a56f5c64-8581-402b-90d9-573d86321e84\">\n",
              "    <div class=\"colab-df-container\">\n",
              "      <div>\n",
              "<style scoped>\n",
              "    .dataframe tbody tr th:only-of-type {\n",
              "        vertical-align: middle;\n",
              "    }\n",
              "\n",
              "    .dataframe tbody tr th {\n",
              "        vertical-align: top;\n",
              "    }\n",
              "\n",
              "    .dataframe thead th {\n",
              "        text-align: right;\n",
              "    }\n",
              "</style>\n",
              "<table border=\"1\" class=\"dataframe\">\n",
              "  <thead>\n",
              "    <tr style=\"text-align: right;\">\n",
              "      <th></th>\n",
              "      <th>감정_대분류</th>\n",
              "      <th>사람문장1</th>\n",
              "      <th>대분류_num</th>\n",
              "    </tr>\n",
              "  </thead>\n",
              "  <tbody>\n",
              "    <tr>\n",
              "      <th>0</th>\n",
              "      <td>기쁨</td>\n",
              "      <td>아내가 드디어 출산하게 되어서 정말 신이 나.</td>\n",
              "      <td>0</td>\n",
              "    </tr>\n",
              "    <tr>\n",
              "      <th>1</th>\n",
              "      <td>불안</td>\n",
              "      <td>당뇨랑 합병증 때문에 먹어야 할 약이 열 가지가 넘어가니까 스트레스야.</td>\n",
              "      <td>1</td>\n",
              "    </tr>\n",
              "    <tr>\n",
              "      <th>2</th>\n",
              "      <td>당황</td>\n",
              "      <td>고등학교에 올라오니 중학교 때보다 수업이 갑자기 어려워져서 당황스러워.</td>\n",
              "      <td>2</td>\n",
              "    </tr>\n",
              "    <tr>\n",
              "      <th>3</th>\n",
              "      <td>기쁨</td>\n",
              "      <td>재취업이 돼서 받게 된 첫 월급으로 온 가족이 외식을 할 예정이야. 너무 행복해.</td>\n",
              "      <td>0</td>\n",
              "    </tr>\n",
              "    <tr>\n",
              "      <th>4</th>\n",
              "      <td>기쁨</td>\n",
              "      <td>빚을 드디어 다 갚게 되어서 이제야 안도감이 들어.</td>\n",
              "      <td>0</td>\n",
              "    </tr>\n",
              "    <tr>\n",
              "      <th>...</th>\n",
              "      <td>...</td>\n",
              "      <td>...</td>\n",
              "      <td>...</td>\n",
              "    </tr>\n",
              "    <tr>\n",
              "      <th>40874</th>\n",
              "      <td>불안</td>\n",
              "      <td>같이 사는 친구가 애완견을 데려왔는데 대부분 내가 돌보고 있어. 내가 주인인가 혼란...</td>\n",
              "      <td>1</td>\n",
              "    </tr>\n",
              "    <tr>\n",
              "      <th>40875</th>\n",
              "      <td>기쁨</td>\n",
              "      <td>지난주에 건강검진 결과가 나왔는데 정상이라고 결과가 나왔어.</td>\n",
              "      <td>0</td>\n",
              "    </tr>\n",
              "    <tr>\n",
              "      <th>40876</th>\n",
              "      <td>슬픔</td>\n",
              "      <td>엄마는 내 꿈인 작가를 응원해 주고는 했는데 지금은 안 그래. 너무 슬퍼.</td>\n",
              "      <td>3</td>\n",
              "    </tr>\n",
              "    <tr>\n",
              "      <th>40877</th>\n",
              "      <td>기쁨</td>\n",
              "      <td>이렇게 좋은 운동 시설에서 경로 우대로 운동할 수 있다니 참 행운이야.</td>\n",
              "      <td>0</td>\n",
              "    </tr>\n",
              "    <tr>\n",
              "      <th>40878</th>\n",
              "      <td>불안</td>\n",
              "      <td>친구 관계가 너무 힘들어. 베푸는 만큼 돌아오지 않는 것 같아.</td>\n",
              "      <td>1</td>\n",
              "    </tr>\n",
              "  </tbody>\n",
              "</table>\n",
              "<p>40879 rows × 3 columns</p>\n",
              "</div>\n",
              "      <button class=\"colab-df-convert\" onclick=\"convertToInteractive('df-a56f5c64-8581-402b-90d9-573d86321e84')\"\n",
              "              title=\"Convert this dataframe to an interactive table.\"\n",
              "              style=\"display:none;\">\n",
              "        \n",
              "  <svg xmlns=\"http://www.w3.org/2000/svg\" height=\"24px\"viewBox=\"0 0 24 24\"\n",
              "       width=\"24px\">\n",
              "    <path d=\"M0 0h24v24H0V0z\" fill=\"none\"/>\n",
              "    <path d=\"M18.56 5.44l.94 2.06.94-2.06 2.06-.94-2.06-.94-.94-2.06-.94 2.06-2.06.94zm-11 1L8.5 8.5l.94-2.06 2.06-.94-2.06-.94L8.5 2.5l-.94 2.06-2.06.94zm10 10l.94 2.06.94-2.06 2.06-.94-2.06-.94-.94-2.06-.94 2.06-2.06.94z\"/><path d=\"M17.41 7.96l-1.37-1.37c-.4-.4-.92-.59-1.43-.59-.52 0-1.04.2-1.43.59L10.3 9.45l-7.72 7.72c-.78.78-.78 2.05 0 2.83L4 21.41c.39.39.9.59 1.41.59.51 0 1.02-.2 1.41-.59l7.78-7.78 2.81-2.81c.8-.78.8-2.07 0-2.86zM5.41 20L4 18.59l7.72-7.72 1.47 1.35L5.41 20z\"/>\n",
              "  </svg>\n",
              "      </button>\n",
              "      \n",
              "  <style>\n",
              "    .colab-df-container {\n",
              "      display:flex;\n",
              "      flex-wrap:wrap;\n",
              "      gap: 12px;\n",
              "    }\n",
              "\n",
              "    .colab-df-convert {\n",
              "      background-color: #E8F0FE;\n",
              "      border: none;\n",
              "      border-radius: 50%;\n",
              "      cursor: pointer;\n",
              "      display: none;\n",
              "      fill: #1967D2;\n",
              "      height: 32px;\n",
              "      padding: 0 0 0 0;\n",
              "      width: 32px;\n",
              "    }\n",
              "\n",
              "    .colab-df-convert:hover {\n",
              "      background-color: #E2EBFA;\n",
              "      box-shadow: 0px 1px 2px rgba(60, 64, 67, 0.3), 0px 1px 3px 1px rgba(60, 64, 67, 0.15);\n",
              "      fill: #174EA6;\n",
              "    }\n",
              "\n",
              "    [theme=dark] .colab-df-convert {\n",
              "      background-color: #3B4455;\n",
              "      fill: #D2E3FC;\n",
              "    }\n",
              "\n",
              "    [theme=dark] .colab-df-convert:hover {\n",
              "      background-color: #434B5C;\n",
              "      box-shadow: 0px 1px 3px 1px rgba(0, 0, 0, 0.15);\n",
              "      filter: drop-shadow(0px 1px 2px rgba(0, 0, 0, 0.3));\n",
              "      fill: #FFFFFF;\n",
              "    }\n",
              "  </style>\n",
              "\n",
              "      <script>\n",
              "        const buttonEl =\n",
              "          document.querySelector('#df-a56f5c64-8581-402b-90d9-573d86321e84 button.colab-df-convert');\n",
              "        buttonEl.style.display =\n",
              "          google.colab.kernel.accessAllowed ? 'block' : 'none';\n",
              "\n",
              "        async function convertToInteractive(key) {\n",
              "          const element = document.querySelector('#df-a56f5c64-8581-402b-90d9-573d86321e84');\n",
              "          const dataTable =\n",
              "            await google.colab.kernel.invokeFunction('convertToInteractive',\n",
              "                                                     [key], {});\n",
              "          if (!dataTable) return;\n",
              "\n",
              "          const docLinkHtml = 'Like what you see? Visit the ' +\n",
              "            '<a target=\"_blank\" href=https://colab.research.google.com/notebooks/data_table.ipynb>data table notebook</a>'\n",
              "            + ' to learn more about interactive tables.';\n",
              "          element.innerHTML = '';\n",
              "          dataTable['output_type'] = 'display_data';\n",
              "          await google.colab.output.renderOutput(dataTable, element);\n",
              "          const docLink = document.createElement('div');\n",
              "          docLink.innerHTML = docLinkHtml;\n",
              "          element.appendChild(docLink);\n",
              "        }\n",
              "      </script>\n",
              "    </div>\n",
              "  </div>\n",
              "  "
            ],
            "text/plain": [
              "      감정_대분류                                              사람문장1  대분류_num\n",
              "0         기쁨                          아내가 드디어 출산하게 되어서 정말 신이 나.        0\n",
              "1         불안            당뇨랑 합병증 때문에 먹어야 할 약이 열 가지가 넘어가니까 스트레스야.        1\n",
              "2         당황            고등학교에 올라오니 중학교 때보다 수업이 갑자기 어려워져서 당황스러워.        2\n",
              "3         기쁨      재취업이 돼서 받게 된 첫 월급으로 온 가족이 외식을 할 예정이야. 너무 행복해.        0\n",
              "4         기쁨                       빚을 드디어 다 갚게 되어서 이제야 안도감이 들어.        0\n",
              "...      ...                                                ...      ...\n",
              "40874     불안  같이 사는 친구가 애완견을 데려왔는데 대부분 내가 돌보고 있어. 내가 주인인가 혼란...        1\n",
              "40875     기쁨                  지난주에 건강검진 결과가 나왔는데 정상이라고 결과가 나왔어.        0\n",
              "40876     슬픔          엄마는 내 꿈인 작가를 응원해 주고는 했는데 지금은 안 그래. 너무 슬퍼.        3\n",
              "40877     기쁨            이렇게 좋은 운동 시설에서 경로 우대로 운동할 수 있다니 참 행운이야.        0\n",
              "40878     불안                친구 관계가 너무 힘들어. 베푸는 만큼 돌아오지 않는 것 같아.        1\n",
              "\n",
              "[40879 rows x 3 columns]"
            ]
          },
          "metadata": {},
          "execution_count": 19
        }
      ]
    },
    {
      "cell_type": "code",
      "source": [
        "# 레이블 값의 분포 시각화\n",
        "plt.figure(figsize=(6, 4))\n",
        "feel_bic_df['대분류_num'].value_counts().plot(kind='bar');"
      ],
      "metadata": {
        "colab": {
          "base_uri": "https://localhost:8080/",
          "height": 262
        },
        "id": "GwKES3Y-UNkj",
        "outputId": "582777cc-a57d-4e06-d2d1-f911280a74a2"
      },
      "execution_count": null,
      "outputs": [
        {
          "output_type": "display_data",
          "data": {
            "image/png": "[encoded data removed]",
            "text/plain": [
              "<Figure size 432x288 with 1 Axes>"
            ]
          },
          "metadata": {
            "needs_background": "light"
          }
        }
      ]
    },
    {
      "cell_type": "code",
      "source": [
        "print('가장많은 분포의 감정: ', feel_bic_dic_reverse[1])\n",
        "print('감정분포 2위: ', feel_bic_dic_reverse[4])\n",
        "print('감정분포 3위: ',feel_bic_dic_reverse[3])\n",
        "print('감정분포 가장적은: ',feel_bic_dic_reverse[2])"
      ],
      "metadata": {
        "colab": {
          "base_uri": "https://localhost:8080/"
        },
        "id": "85jkniRnUOGu",
        "outputId": "6374ad5b-aa3e-47cd-fb2a-8357402869ee"
      },
      "execution_count": null,
      "outputs": [
        {
          "output_type": "stream",
          "name": "stdout",
          "text": [
            "가장많은 분포의 감정:  불안\n",
            "감정분포 2위:  분노\n",
            "감정분포 3위:  슬픔\n",
            "감정분포 가장적은:  당황\n"
          ]
        }
      ]
    },
    {
      "cell_type": "code",
      "source": [
        "# 각 레이블이 몇개인가\n",
        "print(feel_bic_df.groupby('대분류_num').size().reset_index(name='count')) "
      ],
      "metadata": {
        "colab": {
          "base_uri": "https://localhost:8080/"
        },
        "id": "PhpbvlZRUVHR",
        "outputId": "4305cde7-2eb9-4b9f-945e-eda6c49d1ba2"
      },
      "execution_count": null,
      "outputs": [
        {
          "output_type": "stream",
          "name": "stdout",
          "text": [
            "   대분류_num  count\n",
            "0        0   6731\n",
            "1        1   7329\n",
            "2        2   6360\n",
            "3        3   6915\n",
            "4        4   6920\n",
            "5        5   6624\n"
          ]
        }
      ]
    },
    {
      "cell_type": "markdown",
      "source": [
        "# train, val 전처리 완료 및 레이블 만들기"
      ],
      "metadata": {
        "id": "R_peywZhUb79"
      }
    },
    {
      "cell_type": "code",
      "source": [
        "# 확인\n",
        "val_data.head(3)"
      ],
      "metadata": {
        "colab": {
          "base_uri": "https://localhost:8080/",
          "height": 430
        },
        "id": "HUnCTAy91iWr",
        "outputId": "ccfc59eb-0d79-4cdb-83fb-7565d0aa7990"
      },
      "execution_count": 13,
      "outputs": [
        {
          "output_type": "execute_result",
          "data": {
            "text/html": [
              "\n",
              "  <div id=\"df-eda010f6-cd35-4707-9865-aa2be122a37d\">\n",
              "    <div class=\"colab-df-container\">\n",
              "      <div>\n",
              "<style scoped>\n",
              "    .dataframe tbody tr th:only-of-type {\n",
              "        vertical-align: middle;\n",
              "    }\n",
              "\n",
              "    .dataframe tbody tr th {\n",
              "        vertical-align: top;\n",
              "    }\n",
              "\n",
              "    .dataframe thead th {\n",
              "        text-align: right;\n",
              "    }\n",
              "</style>\n",
              "<table border=\"1\" class=\"dataframe\">\n",
              "  <thead>\n",
              "    <tr style=\"text-align: right;\">\n",
              "      <th></th>\n",
              "      <th>번호</th>\n",
              "      <th>연령</th>\n",
              "      <th>성별</th>\n",
              "      <th>상황키워드</th>\n",
              "      <th>신체질환</th>\n",
              "      <th>감정_대분류</th>\n",
              "      <th>감정_소분류</th>\n",
              "      <th>사람문장1</th>\n",
              "      <th>시스템응답1</th>\n",
              "      <th>사람문장2</th>\n",
              "      <th>시스템응답2</th>\n",
              "      <th>사람문장3</th>\n",
              "      <th>시스템응답3</th>\n",
              "      <th>사람문장4</th>\n",
              "      <th>시스템응답4</th>\n",
              "    </tr>\n",
              "  </thead>\n",
              "  <tbody>\n",
              "    <tr>\n",
              "      <th>0</th>\n",
              "      <td>23093</td>\n",
              "      <td>청년</td>\n",
              "      <td>여성</td>\n",
              "      <td>진로, 취업, 직장</td>\n",
              "      <td>해당없음</td>\n",
              "      <td>분노</td>\n",
              "      <td>툴툴대는</td>\n",
              "      <td>요즘 부모님과 많이 부딪혀.</td>\n",
              "      <td>어떤 일로 부딪히시나요?</td>\n",
              "      <td>난 하고 싶은 일이 있는데 부모님은 안정적인 일만 하라고 하셔. 내 마음대로 하지도...</td>\n",
              "      <td>부모님과의 충돌로 힘드시겠군요.</td>\n",
              "      <td>응. 그래도 난 내가 하고 싶은 일을 위해 노력할 거야.</td>\n",
              "      <td>자신이 하고 싶은 일을 목표로 하기로 하셨군요.</td>\n",
              "      <td>NaN</td>\n",
              "      <td>NaN</td>\n",
              "    </tr>\n",
              "    <tr>\n",
              "      <th>1</th>\n",
              "      <td>32848</td>\n",
              "      <td>청소년</td>\n",
              "      <td>남성</td>\n",
              "      <td>가족관계</td>\n",
              "      <td>해당없음</td>\n",
              "      <td>슬픔</td>\n",
              "      <td>비통한</td>\n",
              "      <td>엄마가 결국 집을 나갔어. 너무 너무 슬퍼.</td>\n",
              "      <td>어머니께서 집을 나가셨다니 정말 슬프셨겠어요. 좀 더 자세히 얘기해주시겠어요?</td>\n",
              "      <td>엄마도 엄마만의 인생이 있을 테니 가지 말라고 할 수가 없었어. 그래서 더 마음이 ...</td>\n",
              "      <td>정말 많이 답답하셨겠어요. 어떻게 하는 게 기분이 좀 풀릴까요?</td>\n",
              "      <td>일단 좀 자야겠어.</td>\n",
              "      <td>일단 휴식을 가질 생각이시군요.</td>\n",
              "      <td>NaN</td>\n",
              "      <td>NaN</td>\n",
              "    </tr>\n",
              "    <tr>\n",
              "      <th>2</th>\n",
              "      <td>35590</td>\n",
              "      <td>청소년</td>\n",
              "      <td>남성</td>\n",
              "      <td>학교폭력/따돌림</td>\n",
              "      <td>해당없음</td>\n",
              "      <td>불안</td>\n",
              "      <td>조심스러운</td>\n",
              "      <td>학교에서 한 친구를 괴롭히는 무리에게 그만하라고 했어.</td>\n",
              "      <td>용기 있는 행동을 하셨네요. 마음이 어떠셨나요?</td>\n",
              "      <td>그런데 말을 하고 난 후 나도 괴롭힐까 봐 불안했어.</td>\n",
              "      <td>그랬군요. 지금 기분에서 벗어나기 위해 할 수 있는 일에는 무엇이 있을까요?</td>\n",
              "      <td>나는 옳은 일을 한 거라고 생각해. 나까지 괴롭힌다면 신고할 거야.</td>\n",
              "      <td>지금의 상황이 나의 방식으로써 잘 해결될 수 있기를 바라요.</td>\n",
              "      <td>NaN</td>\n",
              "      <td>NaN</td>\n",
              "    </tr>\n",
              "  </tbody>\n",
              "</table>\n",
              "</div>\n",
              "      <button class=\"colab-df-convert\" onclick=\"convertToInteractive('df-eda010f6-cd35-4707-9865-aa2be122a37d')\"\n",
              "              title=\"Convert this dataframe to an interactive table.\"\n",
              "              style=\"display:none;\">\n",
              "        \n",
              "  <svg xmlns=\"http://www.w3.org/2000/svg\" height=\"24px\"viewBox=\"0 0 24 24\"\n",
              "       width=\"24px\">\n",
              "    <path d=\"M0 0h24v24H0V0z\" fill=\"none\"/>\n",
              "    <path d=\"M18.56 5.44l.94 2.06.94-2.06 2.06-.94-2.06-.94-.94-2.06-.94 2.06-2.06.94zm-11 1L8.5 8.5l.94-2.06 2.06-.94-2.06-.94L8.5 2.5l-.94 2.06-2.06.94zm10 10l.94 2.06.94-2.06 2.06-.94-2.06-.94-.94-2.06-.94 2.06-2.06.94z\"/><path d=\"M17.41 7.96l-1.37-1.37c-.4-.4-.92-.59-1.43-.59-.52 0-1.04.2-1.43.59L10.3 9.45l-7.72 7.72c-.78.78-.78 2.05 0 2.83L4 21.41c.39.39.9.59 1.41.59.51 0 1.02-.2 1.41-.59l7.78-7.78 2.81-2.81c.8-.78.8-2.07 0-2.86zM5.41 20L4 18.59l7.72-7.72 1.47 1.35L5.41 20z\"/>\n",
              "  </svg>\n",
              "      </button>\n",
              "      \n",
              "  <style>\n",
              "    .colab-df-container {\n",
              "      display:flex;\n",
              "      flex-wrap:wrap;\n",
              "      gap: 12px;\n",
              "    }\n",
              "\n",
              "    .colab-df-convert {\n",
              "      background-color: #E8F0FE;\n",
              "      border: none;\n",
              "      border-radius: 50%;\n",
              "      cursor: pointer;\n",
              "      display: none;\n",
              "      fill: #1967D2;\n",
              "      height: 32px;\n",
              "      padding: 0 0 0 0;\n",
              "      width: 32px;\n",
              "    }\n",
              "\n",
              "    .colab-df-convert:hover {\n",
              "      background-color: #E2EBFA;\n",
              "      box-shadow: 0px 1px 2px rgba(60, 64, 67, 0.3), 0px 1px 3px 1px rgba(60, 64, 67, 0.15);\n",
              "      fill: #174EA6;\n",
              "    }\n",
              "\n",
              "    [theme=dark] .colab-df-convert {\n",
              "      background-color: #3B4455;\n",
              "      fill: #D2E3FC;\n",
              "    }\n",
              "\n",
              "    [theme=dark] .colab-df-convert:hover {\n",
              "      background-color: #434B5C;\n",
              "      box-shadow: 0px 1px 3px 1px rgba(0, 0, 0, 0.15);\n",
              "      filter: drop-shadow(0px 1px 2px rgba(0, 0, 0, 0.3));\n",
              "      fill: #FFFFFF;\n",
              "    }\n",
              "  </style>\n",
              "\n",
              "      <script>\n",
              "        const buttonEl =\n",
              "          document.querySelector('#df-eda010f6-cd35-4707-9865-aa2be122a37d button.colab-df-convert');\n",
              "        buttonEl.style.display =\n",
              "          google.colab.kernel.accessAllowed ? 'block' : 'none';\n",
              "\n",
              "        async function convertToInteractive(key) {\n",
              "          const element = document.querySelector('#df-eda010f6-cd35-4707-9865-aa2be122a37d');\n",
              "          const dataTable =\n",
              "            await google.colab.kernel.invokeFunction('convertToInteractive',\n",
              "                                                     [key], {});\n",
              "          if (!dataTable) return;\n",
              "\n",
              "          const docLinkHtml = 'Like what you see? Visit the ' +\n",
              "            '<a target=\"_blank\" href=https://colab.research.google.com/notebooks/data_table.ipynb>data table notebook</a>'\n",
              "            + ' to learn more about interactive tables.';\n",
              "          element.innerHTML = '';\n",
              "          dataTable['output_type'] = 'display_data';\n",
              "          await google.colab.output.renderOutput(dataTable, element);\n",
              "          const docLink = document.createElement('div');\n",
              "          docLink.innerHTML = docLinkHtml;\n",
              "          element.appendChild(docLink);\n",
              "        }\n",
              "      </script>\n",
              "    </div>\n",
              "  </div>\n",
              "  "
            ],
            "text/plain": [
              "      번호   연령  성별  ...                             시스템응답3 사람문장4 시스템응답4\n",
              "0  23093   청년  여성  ...         자신이 하고 싶은 일을 목표로 하기로 하셨군요.   NaN    NaN\n",
              "1  32848  청소년  남성  ...                  일단 휴식을 가질 생각이시군요.   NaN    NaN\n",
              "2  35590  청소년  남성  ...  지금의 상황이 나의 방식으로써 잘 해결될 수 있기를 바라요.   NaN    NaN\n",
              "\n",
              "[3 rows x 15 columns]"
            ]
          },
          "metadata": {},
          "execution_count": 13
        }
      ]
    },
    {
      "cell_type": "code",
      "source": [
        "# train셋과 val셋 비교\n",
        "print('총 감정_대분류의 개수 : {}'.format(len(val_data['감정_대분류'].unique())))\n",
        "set(val_data['감정_대분류'].unique()) == set(train_data['감정_대분류'].unique())"
      ],
      "metadata": {
        "colab": {
          "base_uri": "https://localhost:8080/"
        },
        "id": "6k-MNBYC1qhZ",
        "outputId": "c0606157-fcb6-4f50-dce2-f7419b572653"
      },
      "execution_count": 61,
      "outputs": [
        {
          "output_type": "stream",
          "name": "stdout",
          "text": [
            "총 감정_대분류의 개수 : 6\n"
          ]
        },
        {
          "output_type": "execute_result",
          "data": {
            "text/plain": [
              "True"
            ]
          },
          "metadata": {},
          "execution_count": 61
        }
      ]
    },
    {
      "cell_type": "code",
      "source": [
        "set(val_data['감정_소분류'].unique()) == set(train_data['감정_소분류'].unique())"
      ],
      "metadata": {
        "colab": {
          "base_uri": "https://localhost:8080/"
        },
        "outputId": "934fe508-941d-4352-ecb5-bd132ca37c9d",
        "id": "rbBKkhSH26dg"
      },
      "execution_count": 62,
      "outputs": [
        {
          "output_type": "execute_result",
          "data": {
            "text/plain": [
              "True"
            ]
          },
          "metadata": {},
          "execution_count": 62
        }
      ]
    },
    {
      "cell_type": "code",
      "source": [
        "train_label = []\n",
        "for feel in train_data['감정_대분류']:\n",
        "    train_label.append(feel_bic_dic[feel])\n",
        "np.array(train_label)"
      ],
      "metadata": {
        "colab": {
          "base_uri": "https://localhost:8080/"
        },
        "outputId": "dfe42e7b-3b28-42e0-9c6a-ff2d19626d3f",
        "id": "zC2hVPQUTTrR"
      },
      "execution_count": 63,
      "outputs": [
        {
          "output_type": "execute_result",
          "data": {
            "text/plain": [
              "array([0, 1, 2, ..., 3, 0, 1])"
            ]
          },
          "metadata": {},
          "execution_count": 63
        }
      ]
    },
    {
      "cell_type": "code",
      "source": [
        "val_label = []\n",
        "for feel in val_data['감정_대분류']:\n",
        "    val_label.append(feel_bic_dic[feel])\n",
        "pd.Series(val_label)"
      ],
      "metadata": {
        "colab": {
          "base_uri": "https://localhost:8080/"
        },
        "outputId": "c8e1d57b-044f-46a4-8a16-dc11b95a83b8",
        "id": "gVwk-HK5TTrR"
      },
      "execution_count": 64,
      "outputs": [
        {
          "output_type": "execute_result",
          "data": {
            "text/plain": [
              "0       4\n",
              "1       3\n",
              "2       1\n",
              "3       2\n",
              "4       4\n",
              "       ..\n",
              "5125    0\n",
              "5126    1\n",
              "5127    4\n",
              "5128    4\n",
              "5129    4\n",
              "Length: 5130, dtype: int64"
            ]
          },
          "metadata": {},
          "execution_count": 64
        }
      ]
    },
    {
      "cell_type": "markdown",
      "source": [
        "# 토큰화"
      ],
      "metadata": {
        "id": "KWZNfYUaU5pA"
      }
    },
    {
      "cell_type": "code",
      "source": [
        "from konlpy.tag import Okt\n",
        "import re"
      ],
      "metadata": {
        "id": "bIn1KqKnWAcG"
      },
      "execution_count": 65,
      "outputs": []
    },
    {
      "cell_type": "code",
      "source": [
        "okt=Okt()\n",
        "X_train = []\n",
        "for sentence in train_data['사람문장1']:\n",
        "    tokenized_sentence = okt.morphs(sentence, stem=True) # 토큰화\n",
        "    stopwords_removed_sentence = [word for word in tokenized_sentence if not word in stop_words] # 불용어 제거\n",
        "    X_train.append(stopwords_removed_sentence)\n",
        "print(X_train[:3])"
      ],
      "metadata": {
        "colab": {
          "base_uri": "https://localhost:8080/"
        },
        "id": "MaRXng4IWj2T",
        "outputId": "abb6c167-12ae-4de3-dbe1-0f25f9418cc2"
      },
      "execution_count": 75,
      "outputs": [
        {
          "output_type": "stream",
          "name": "stdout",
          "text": [
            "[['아내', '드디어', '출산', '하다', '되어다', '정말', '신'], ['당뇨', '랑', '합병증', '에', '먹다', '하다', '약', '열', '넘어가다', '스트레스', '야'], ['고등학교', '에', '올라오다', '중학교', '보다', '수업', '갑자기', '어려워지다', '당황', '스럽다']]\n"
          ]
        }
      ]
    },
    {
      "cell_type": "code",
      "source": [
        "X_test = []\n",
        "for sentence in val_data['사람문장1']:\n",
        "    tokenized_sentence = okt.morphs(sentence, stem=True) # 토큰화\n",
        "    stopwords_removed_sentence = [word for word in tokenized_sentence if not word in stop_words] # 불용어 제거\n",
        "    X_test.append(stopwords_removed_sentence)"
      ],
      "metadata": {
        "id": "hGcwEmyfXAuD"
      },
      "execution_count": 76,
      "outputs": []
    },
    {
      "cell_type": "markdown",
      "source": [
        "### 정수인코딩\n",
        "\n",
        "- 기계가 텍스트를 숫자로 처리할 수 있도록 훈련 데이터와 테스트 데이터에 정수 인코딩을 수행해야 합니다. 우선, 훈련 데이터에 대해서 단어 집합(vocaburary)을 만들어봅시다."
      ],
      "metadata": {
        "id": "U-f8OUolYaaS"
      }
    },
    {
      "cell_type": "code",
      "source": [
        "tokenizer = Tokenizer()\n",
        "tokenizer.fit_on_texts(X_train)"
      ],
      "metadata": {
        "id": "i9wKiiByYj57"
      },
      "execution_count": 77,
      "outputs": []
    },
    {
      "cell_type": "code",
      "source": [
        "word_index = tokenizer.word_index\n",
        "print(tokenizer.word_index)   # 여기서 oov는 어떻게 되는거지?\n",
        "\n",
        "# 0은 패딩을 위해 비워둠"
      ],
      "metadata": {
        "colab": {
          "base_uri": "https://localhost:8080/"
        },
        "id": "FwOyBpf7YnOW",
        "outputId": "b89b164d-038c-4661-8932-d75b50613636"
      },
      "execution_count": 78,
      "outputs": [
        {
          "output_type": "stream",
          "name": "stdout",
          "text": [
            "{'하다': 1, '을': 2, '에': 3, '를': 4, '너무': 5, '친구': 6, '있다': 7, '같다': 8, '는': 9, '에서': 10, '도': 11, '없다': 12, '보다': 13, '않다': 14, '은': 15, '좋다': 16, '못': 17, '받다': 18, '이야': 19, '되다': 20, '만': 21, '들다': 22, '에게': 23, '돼다': 24, '회사': 25, '오늘': 26, '요즘': 27, '으로': 28, '돈': 29, '정말': 30, '게': 31, '로': 32, '의': 33, '나르다': 34, '아내': 35, '싶다': 36, '걱정': 37, '스럽다': 38, '한테': 39, '가다': 40, '남편': 41, '이번': 42, '하고': 43, '힘들다': 44, '?': 45, '모르다': 46, '결혼': 47, '나다': 48, '고': 49, '슬프다': 50, '자다': 51, '화가': 52, '다': 53, '많이': 54, '직장': 55, '오다': 56, '과': 57, '기분': 58, '아프다': 59, '!': 60, '마음': 61, '거': 62, '아들': 63, '나오다': 64, '되어다': 65, '당황': 66, '엄마': 67, '준비': 68, '많다': 69, '불안하다': 70, '당하다': 71, '건강': 72, '나이': 73, '해': 74, '랑': 75, '먹다': 76, '병원': 77, '어떻다': 78, '자식': 79, '가족': 80, '와': 81, '이제': 82, '학교': 83, '취업': 84, '부모님': 85, '기쁘다': 86, '인데': 87, '일이': 88, '자꾸': 89, '난': 90, '야': 91, '날': 92, '주다': 93, '아이': 94, '속상하다': 95, '딸': 96, '걸': 97, '노후': 98, '혼자': 99, '짜증': 100, '은퇴': 101, '다니다': 102, '그렇다': 103, '왜': 104, '아무': 105, '내다': 106, '어제': 107, '아니다': 108, '공부': 109, '라고': 110, '갑자기': 111, '몸': 112, '인': 113, '까지': 114, '아빠': 115, '만나다': 116, '알다': 117, '스트레스': 118, '싫다': 119, '상사': 120, '애': 121, '살다': 122, '버리다': 123, '해주다': 124, '남자친구': 125, '보고': 126, '생기다': 127, '서': 128, '같이': 129, '성적': 130, '연락': 131, '업무': 132, '친하다': 133, '우울하다': 134, '계속': 135, '시험': 136, '떨어지다': 137, '선생님': 138, '크다': 139, '죽다': 140, '비': 141, '이다': 142, '싸우다': 143, '줄': 144, '열심히': 145, '님': 146, '거야': 147, '얼마': 148, '후': 149, '걸리다': 150, '직원': 151, '나가다': 152, '고민': 153, '괴롭히다': 154, '믿다': 155, '이랑': 156, '혼란': 157, '동료': 158, '부터': 159, '마다': 160, '아직': 161, '건강하다': 162, '따돌림': 163, '동생': 164, '항상': 165, '없이': 166, '한심하다': 167, '차다': 168, '이렇게': 169, '두렵다': 170, '새롭다': 171, '면접': 172, '좋아하다': 173, '얘기': 174, '맞다': 175, '괴롭다': 176, '상처': 177, '여자친구': 178, '억울하다': 179, '어렵다': 180, '반': 181, '대학': 182, '다행': 183, '매일': 184, '생활': 185, '남자': 186, '대해': 187, '팀': 188, '술': 189, '부끄럽다': 190, '후회': 191, '모두': 192, '충격': 193, '나서다': 194, '모으다': 195, '수술': 196, '위해': 197, '감': 198, '에는': 199, '연애': 200, '두다': 201, '시키다': 202, '주변': 203, '뭐': 204, '눈물': 205, '께': 206, '보내다': 207, '병': 208, '곳': 209, '결과': 210, '세상': 211, '자기': 212, '걸다': 213, '무섭다': 214, '운동': 215, '이야기': 216, '드디어': 217, '빌리다': 218, '의사': 219, '치료': 220, '암': 221, '지내다': 222, '달라': 223, '에도': 224, '느끼다': 225, '원하다': 226, '그래서': 227, '수가': 228, '언니': 229, '지다': 230, '보이다': 231, '쓰다': 232, '달': 233, '이렇다': 234, '외로워': 235, '합격': 236, '노인': 237, '이라': 238, '배신': 239, '챙기다': 240, '시작': 241, '코로나': 242, '진로': 243, '신경': 244, '무시': 245, '실수': 246, '느낌': 247, '미안하다': 248, '아주': 249, '진짜': 250, '여행': 251, '네': 252, '몇': 253, '느껴지다': 254, '들어서다': 255, '승진': 256, '내일': 257, '들어오다': 258, '이나': 259, '들어가다': 260, '프로젝트': 261, '점점': 262, '힘드다': 263, '함께': 264, '벌써': 265, '동기': 266, '젊다': 267, '행복하다': 268, '곧': 269, '사다': 270, '사이': 271, '대화': 272, '잘못': 273, '이라고': 274, '입원': 275, '화': 276, '약': 277, '놀다': 278, '라': 279, '할머니': 280, '어리다': 281, '오랜': 282, '좋아지다': 283, '모임': 284, '떠나다': 285, '귀찮다': 286, '답답하다': 287, '건강검진': 288, '모습': 289, '빨리': 290, '심하다': 291, '남다': 292, '해도': 293, '관리': 294, '요새': 295, '건': 296, '갈다': 297, '나쁘다': 298, '감사하다': 299, '상황': 300, '실망': 301, '듣다': 302, '쉬다': 303, '처음': 304, '그만두다': 305, '출산': 306, '편하다': 307, '뒤': 308, '사업': 309, '오래': 310, '아직도': 311, '투자': 312, '초조하다': 313, '성가시다': 314, '도와주다': 315, '조금': 316, '자금': 317, '퇴직': 318, '남': 319, '노': 320, '예전': 321, '물어보다': 322, '자주': 323, '질투': 324, '가기': 325, '김': 326, '질환': 327, '조심스럽다': 328, '짜증나다': 329, '전화': 330, '이상': 331, '가게': 332, '재정': 333, '부장': 334, '따돌리다': 335, '주식': 336, '옆집': 337, '인정': 338, '께서': 339, '바람': 340, '이혼': 341, '써다': 342, '처럼': 343, '간': 344, '편안하다': 345, '늦다': 346, '생일': 347, '무슨': 348, '관계': 349, '당혹스럽다': 350, '먼저': 351, '사귀다': 352, '최근': 353, '고생': 354, '오르다': 355, '관심': 356, '이유': 357, '취직': 358, '사장': 359, '놓다': 360, '말다': 361, '사고': 362, '학교폭력': 363, '별로': 364, '밥': 365, '헤어지다': 366, '부서': 367, '몰래': 368, '언제': 369, '형': 370, '면': 371, '선물': 372, '하니': 373, '당뇨': 374, '약속': 375, '출근': 376, '늙다': 377, '구역질': 378, '꿈': 379, '아': 380, '임신': 381, '회의': 382, '입사': 383, '꼭': 384, '젠': 385, '그런데': 386, '제대로': 387, '이상하다': 388, '도움': 389, '니까': 390, '용돈': 391, '바쁘다': 392, '온': 393, '어떡하다': 394, '제일': 395, '척': 396, '사': 397, '동안': 398, '상태': 399, '며칠': 400, '그냥': 401, '지원': 402, '성': 403, '애가': 404, '사랑': 405, '다녀오다': 406, '노력': 407, '건지다': 408, '퇴근': 409, '그동안': 410, '실망하다': 411, '크게': 412, '라는': 413, '피우다': 414, '화나다': 415, '야근': 416, '불편하다': 417, '검진': 418, '낳다': 419, '모든': 420, '부족하다': 421, '가난하다': 422, '머리': 423, '넘다': 424, '벌다': 425, '인지': 426, '부부': 427, '자리': 428, '필요하다': 429, '눈치': 430, '고맙다': 431, '놀라다': 432, '갚다': 433, '끝나다': 434, '볼': 435, '아침': 436, '엔': 437, '대다': 438, '대': 439, '선배': 440, '밖에': 441, '결혼식': 442, '치다': 443, '소식': 444, '돌아가다': 445, '옆': 446, '가장': 447, '담배': 448, '잔소리': 449, '손자': 450, '키우다': 451, '부럽다': 452, '발표': 453, '애인': 454, '그렇게': 455, '외롭다': 456, '인생': 457, '보험': 458, '보기': 459, '빠지다': 460, '준': 461, '음식': 462, '때리다': 463, '늘': 464, '주말': 465, '폭력': 466, '평소': 467, '당': 468, '찾다': 469, '감정': 470, '끊다': 471, '째': 472, '결국': 473, '여서': 474, '맡다': 475, '거짓말': 476, '찾아오다': 477, '해고': 478, '고립': 479, '대학교': 480, '하루': 481, '얼굴': 482, '해보다': 483, '큰일': 484, '재산': 485, '평생': 486, '가해자': 487, '방': 488, '다음': 489, '싫어하다': 490, '올해': 491, '혐오': 492, '사기': 493, '기다리다': 494, '뭘': 495, '길': 496, '빼다': 497, '죄책감': 498, '자녀': 499, '혼나다': 500, '환멸': 501, '매우': 502, '누나': 503, '막막하다': 504, '만들다': 505, '경제': 506, '눈': 507, '삶': 508, '비교': 509, '저': 510, '중이': 511, '구': 512, '만족스럽다': 513, '다가오다': 514, '손': 515, '잠': 516, '마비': 517, '좌절': 518, '상담': 519, '욕': 520, '둘': 521, '장님': 522, '대로': 523, '대한': 524, '기': 525, '옷': 526, '다투다': 527, '퇴사': 528, '영': 529, '비싸다': 530, '매번': 531, '얼마나': 532, '월급': 533, '에만': 534, '삼': 535, '치매': 536, '심해지다': 537, '힘': 538, '졸업': 539, '걱정스럽다': 540, '대인관계': 541, '이해': 542, '후배': 543, '엄청': 544, '학원': 545, '에서는': 546, '과장': 547, '중요하다': 548, '하라': 549, '신나다': 550, '미치다': 551, '성공하다': 552, '쓰러지다': 553, '지치다': 554, '계획': 555, '따르다': 556, '이르다': 557, '울다': 558, '처리': 559, '차': 560, '늘다': 561, '인사': 562, '잃다': 563, '연금': 564, '동네': 565, '오지': 566, '괴롭힘': 567, '높다': 568, '빚': 569, '아기': 570, '아버지': 571, '많아지다': 572, '행동': 573, '없어지다': 574, '다치다': 575, '자랑': 576, '서로': 577, '오빠': 578, '전혀': 579, '고등학교': 580, '신입': 581, '점수': 582, '거절': 583, '고혈압': 584, '죽음': 585, '박': 586, '입다': 587, '허리': 588, '덕분': 589, '이네': 590, '검사': 591, '고백': 592, '쓰이다': 593, '회식': 594, '물건': 595, '아무리': 596, '분': 597, '주지': 598, '정년': 599, '이후': 600, '이직': 601, '이라는': 602, '십': 603, '집안': 604, '급하다': 605, '서다': 606, '우울증': 607, '만큼': 608, '퇴원': 609, '여유': 610, '괜찮다': 611, '진단': 612, '수업': 613, '배': 614, '포기': 615, '맨날': 616, '가야': 617, '이사': 618, '버려진': 619, '지인': 620, '살이': 621, '교통사고': 622, '피곤하다': 623, '대출': 624, '퇴직금': 625, '자': 626, '오랫동안': 627, '불다': 628, '이고': 629, '텐데': 630, '일찍': 631, '끼리': 632, '왕따': 633, '열': 634, '비통하다': 635, '괜히': 636, '뜨다': 637, '신': 638, '소문': 639, '서운하다': 640, '일도': 641, '만날': 642, '한다는': 643, '위': 644, '갖다': 645, '가끔': 646, '생활비': 647, '어디': 648, '반대': 649, '세': 650, '부하': 651, '성격': 652, '칭찬': 653, '나니': 654, '근데': 655, '인하다': 656, '해오다': 657, '진행': 658, '뿐': 659, '첫': 660, '적다': 661, '열등감': 662, '밤': 663, '이래': 664, '별': 665, '아끼다': 666, '서럽다': 667, '느긋하다': 668, '희생': 669, '시선': 670, '다리': 671, '휴가': 672, '등산': 673, '가지다': 674, '죽': 675, '나빠지다': 676, '가면': 677, '사정': 678, '넣다': 679, '누구': 680, '사과': 681, '미리': 682, '후회되다': 683, '스스로': 684, '의견': 685, '장': 686, '대신': 687, '형편': 688, '실패하다': 689, '\\xa0': 690, '작다': 691, '쓸다': 692, '멀어지다': 693, '사주다': 694, '드리다': 695, '저축': 696, '무엇': 697, '들이다': 698, '망하다': 699, '뭐라다': 700, '일어나다': 701, '남지': 702, '게임': 703, '통보': 704, '씩': 705, '며느리': 706, '신뢰': 707, '비다': 708, '산': 709, '그게': 710, '꾸준하다': 711, '혹시': 712, '병문안': 713, '해결': 714, '인가': 715, '가입': 716, '안달': 717, '명절': 718, '태어나다': 719, '마련': 720, '스러운': 721, '주위': 722, '기대': 723, '과의': 724, '자고': 725, '여러': 726, '타다': 727, '공무원': 728, '오해': 729, '뻔하다': 730, '손주': 731, '서류': 732, '소개': 733, '잡다': 734, '낮다': 735, '험담': 736, '탈락': 737, '정신': 738, '들키다': 739, '사람과': 740, '부탁': 741, '예쁘다': 742, '떨리다': 743, '부르다': 744, '동창': 745, '앞두다': 746, '라도': 747, '즐겁다': 748, '만난': 749, '어울리다': 750, '축하': 751, '라서': 752, '분위기': 753, '하지만': 754, '능력': 755, '양제': 756, '저번': 757, '무릎': 758, '당첨': 759, '과제': 760, '알아보다': 761, '배우다': 762, '집안일': 763, '친해지다': 764, '선택': 765, '일부러': 766, '갱년기': 767, '저녁': 768, '미루다': 769, '계약': 770, '숙제': 771, '력': 772, '직업': 773, '문': 774, '결정': 775, '끝': 776, '아무렇다': 777, '신고': 778, '바로': 779, '쓸쓸하다': 780, '친척': 781, '기억': 782, '수학': 783, '판정': 784, '지나다': 785, '어머니': 786, '거리': 787, '돌아오다': 788, '새': 789, '은행': 790, '제': 791, '아무래도': 792, '들어주다': 793, '요양원': 794, '실적': 795, '취소': 796, '근무': 797, '부담': 798, '일로': 799, '망치다': 800, '밖': 801, '정리': 802, '살아오다': 803, '지키다': 804, '놀리다': 805, '미래': 806, '통장': 807, '이지': 808, '올리다': 809, '전학': 810, '외': 811, '돌보다': 812, '통': 813, '적금': 814, '어쩌지': 815, '붙다': 816, '와이프': 817, '바꾸다': 818, '잃어버리다': 819, '나누다': 820, '진학': 821, '긴장': 822, '장례식': 823, '안심': 824, '부동산': 825, '창피하다': 826, '일자리': 827, '롭고': 828, '대기업': 829, '놈': 830, '당장': 831, '요구': 832, '건데': 833, '마시다': 834, '소개팅': 835, '수치': 836, '동호회': 837, '탓': 838, '집중': 839, '강요': 840, '조': 841, '내년': 842, '앓다': 843, '드': 844, '발령': 845, '하자': 846, '겪다': 847, '래': 848, '전부': 849, '편': 850, '부리다': 851, '무척': 852, '인간관계': 853, '연봉': 854, '노년': 855, '얻다': 856, '찌다': 857, '그걸': 858, '속이다': 859, '다르다': 860, '만성': 861, '딸아이': 862, '밀리다': 863, '아르바이트': 864, '대리': 865, '피해': 866, '그만': 867, '필요': 868, '도대체': 869, '일주일': 870, '다행하다': 871, '털다': 872, '그래도': 873, '사원': 874, '가슴': 875, '일만': 876, '살아가다': 877, '최종': 878, '넘기다': 879, '체력': 880, '집다': 881, '뭔가': 882, '기간': 883, '바라다': 884, '항': 885, '암치료': 886, '순간': 887, '만에': 888, '시기': 889, '녀석': 890, '돌리다': 891, '거지': 892, '정': 893, '으로는': 894, '살기': 895, '신입사원': 896, '드니': 897, '청소': 898, '기도': 899, '줄다': 900, '간다': 901, '사라지다': 902, '혈압': 903, '사춘기': 904, '맡기다': 905, '끝내다': 906, '기업': 907, '참다': 908, '지르다': 909, '이라서': 910, '말씀': 911, '제출': 912, '관절염': 913, '관': 914, '솔직하다': 915, '걔': 916, '나중': 917, '황당하다': 918, '넘어지다': 919, '누가': 920, '중년': 921, '가정': 922, '꺼내다': 923, '물리다': 924, '뿌듯하다': 925, '폐암': 926, '악화': 927, '올라서다': 928, '이십': 929, '유산': 930, '미우다': 931, '유학': 932, '어이': 933, '효과': 934, '상': 935, '장이': 936, '섭섭하다': 937, '앉다': 938, '끄다': 939, '일등': 940, '의심': 941, '바뀌다': 942, '종일': 943, '지긋지긋하다': 944, '풀다': 945, '오히려': 946, '지각': 947, '쳐다보다': 948, '지방': 949, '갈수록': 950, '월세': 951, '가버리다': 952, '즐기다': 953, '취약': 954, '눕다': 955, '에서도': 956, '땅': 957, '영감': 958, '며': 959, '시': 960, '어느': 961, '의식': 962, '추천': 963, '거의': 964, '완치': 965, '계시다': 966, '삼십': 967, '흥분': 968, '당한': 969, '작년': 970, '화장실': 971, '간암': 972, '전공': 973, '수도': 974, '보험금': 975, '취급': 976, '이기다': 977, '데이트': 978, '피하': 979, '굉장하다': 980, '발견': 981, '훔치다': 982, '에게는': 983, '학생': 984, '혼내다': 985, '시어머니': 986, '부모': 987, '대비': 988, '너무나': 989, '비밀': 990, '관련': 991, '채용': 992, '수능': 993, '아파트': 994, '값': 995, '안좋다': 996, '훨씬': 997, '스럽게': 998, '숨기다': 999, '옮기다': 1000, '은근': 1001, '거래처': 1002, '분명': 1003, '웃다': 1004, '충분하다': 1005, '날다': 1006, '엄청나다': 1007, '자꾸만': 1008, '태도': 1009, '우연히': 1010, '안도': 1011, '위암': 1012, '뉴스': 1013, '출장': 1014, '히': 1015, '와의': 1016, '잦다': 1017, '편이': 1018, '확인': 1019, '가져가다': 1020, '쉬': 1021, '여기저기': 1022, '쌓이다': 1023, '의지': 1024, '담임': 1025, '생기': 1026, '가방': 1027, '화해': 1028, '프러포즈': 1029, '본인': 1030, '이면': 1031, '점심': 1032, '비참하다': 1033, '이라니': 1034, '대답': 1035, '권유': 1036, '마을': 1037, '천식': 1038, '마지막': 1039, '육십': 1040, '똑같다': 1041, '막상': 1042, '문자': 1043, '집사람': 1044, '냐': 1045, '성과': 1046, '완전하다': 1047, '이라도': 1048, '어쩔': 1049, '잘리다': 1050, '어려워지다': 1051, '이제야': 1052, '손해': 1053, '채': 1054, '안정': 1055, '지갑': 1056, '장난': 1057, '응원': 1058, '아깝다': 1059, '환자': 1060, '듯': 1061, '뺏다': 1062, '일해': 1063, '할아버지': 1064, '팀원': 1065, '깨다': 1066, '오십': 1067, '에게만': 1068, '자격증': 1069, '합병증': 1070, '내주다': 1071, '시골': 1072, '팔': 1073, '잊다': 1074, '멀리': 1075, '간호사': 1076, '틀리다': 1077, '맞추다': 1078, '버스': 1079, '이름': 1080, '비웃다': 1081, '사무실': 1082, '낼': 1083, '혼': 1084, '날아가다': 1085, '창피해': 1086, '전화하다': 1087, '따로': 1088, '조차': 1089, '산책': 1090, '난리': 1091, '려고': 1092, '장사': 1093, '기회': 1094, '직': 1095, '맘': 1096, '완전': 1097, '비용': 1098, '아이디어': 1099, '요': 1100, '허락': 1101, '감기': 1102, '컴퓨터': 1103, '신청': 1104, '어이없다': 1105, '소외': 1106, '갑작스럽다': 1107, '위로': 1108, '겨우': 1109, '싸움': 1110, '현실': 1111, '안되다': 1112, '영어': 1113, '열다': 1114, '로부터': 1115, '반장': 1116, '허무하다': 1117, '대회': 1118, '개월': 1119, '시절': 1120, '모이다': 1121, '말고': 1122, '디스크': 1123, '원래': 1124, '해외': 1125, '건가': 1126, '지만': 1127, '절대': 1128, '나름': 1129, '책': 1130, '해봤다': 1131, '방법': 1132, '약하다': 1133, '지시': 1134, '자료': 1135, '이력서': 1136, '평가': 1137, '외식': 1138, '막히다': 1139, '시댁': 1140, '말기': 1141, '조절': 1142, '손녀': 1143, '길이': 1144, '넉넉하다': 1145, '초라하다': 1146, '부분': 1147, '니': 1148, '반응': 1149, '경로당': 1150, '지난': 1151, '이어서': 1152, '식단': 1153, '말다툼': 1154, '헤어지자': 1155, '악의': 1156, '심해': 1157, '줄어들다': 1158, '유지': 1159, '마무리': 1160, '통해': 1161, '하루하루': 1162, '믿음': 1163, '성적표': 1164, '보고서': 1165, '살리다': 1166, '멀다': 1167, '금': 1168, '싫어지다': 1169, '겁': 1170, '아쉽다': 1171, '핸드폰': 1172, '대서': 1173, '대표': 1174, '조급하다': 1175, '분노': 1176, '꼴': 1177, '당뇨병': 1178, '지난주': 1179, '냄새': 1180, '죄송하다': 1181, '강아지': 1182, '식품': 1183, '치고': 1184, '운영': 1185, '깜짝': 1186, '지겹다': 1187, '묻다': 1188, '성공': 1189, '예민하다': 1190, '든든하다': 1191, '심장': 1192, '땐': 1193, '뒷바라지': 1194, '친절하다': 1195, '맛있다': 1196, '감당': 1197, '달이': 1198, '교수': 1199, '대체': 1200, '거래': 1201, '재미': 1202, '백': 1203, '라니': 1204, '사용': 1205, '병실': 1206, '보태': 1207, '사진': 1208, '기침': 1209, '자살': 1210, '질문': 1211, '꽤': 1212, '나아지다': 1213, '관절': 1214, '분명하다': 1215, '경력': 1216, '방금': 1217, '내려가다': 1218, '차별': 1219, '마주치다': 1220, '실': 1221, '한마디': 1222, '차리다': 1223, '이지만': 1224, '워': 1225, '여': 1226, '잘나다': 1227, '교육': 1228, '육아': 1229, '걷다': 1230, '카드': 1231, '무조건': 1232, '외출': 1233, '고지혈증': 1234, '지병': 1235, '이미': 1236, '치밀다': 1237, '곁': 1238, '매달': 1239, '뽑다': 1240, '불쌍하다': 1241, '달라지다': 1242, '낙담하다': 1243, '최고': 1244, '가보다': 1245, '정상': 1246, '명예퇴직': 1247, '취미': 1248, '작성': 1249, '하래': 1250, '막': 1251, '체육': 1252, '소홀하다': 1253, '몹시': 1254, '착하다': 1255, '상대': 1256, '가깝다': 1257, '자신감': 1258, '넘어가다': 1259, '날리다': 1260, '해내다': 1261, '적성': 1262, '제안': 1263, '확실하다': 1264, '이루다': 1265, '왠지': 1266, '개인': 1267, '최': 1268, '마음대로': 1269, '발': 1270, '지나가다': 1271, '누군가': 1272, '확신': 1273, '투병': 1274, '어찌': 1275, '주가': 1276, '되게': 1277, '데려오다': 1278, '커서': 1279, '탈모': 1280, '에게도': 1281, '수입': 1282, '부담스럽다': 1283, '든': 1284, '끊기다': 1285, '체중': 1286, '맛': 1287, '지하철': 1288, '도저히': 1289, '마흔': 1290, '동창회': 1291, '활동': 1292, '식사': 1293, '그때': 1294, '피': 1295, '울': 1296, '정작': 1297, '큰아들': 1298, '내내': 1299, '증상': 1300, '옛날': 1301, '환갑': 1302, '지난번': 1303, '한번': 1304, '도망가다': 1305, '독립': 1306, '따다': 1307, '식': 1308, '일인': 1309, '복지': 1310, '방어': 1311, '역겹다': 1312, '담당': 1313, '상의': 1314, '이란': 1315, '예정': 1316, '그대로': 1317, '군대': 1318, '달리': 1319, '타': 1320, '정기': 1321, '기대하다': 1322, '궁금하다': 1323, '막내': 1324, '데리': 1325, '차이': 1326, '학기': 1327, '찍다': 1328, '온종일': 1329, '절망': 1330, '사수': 1331, '역시': 1332, '회': 1333, '이동': 1334, '언젠가': 1335, '추석': 1336, '여기': 1337, '물': 1338, '육': 1339, '다이어트': 1340, '만족하다': 1341, '심': 1342, '가격': 1343, '센터': 1344, '런가': 1345, '생각나다': 1346, '남아': 1347, '서글프다': 1348, '지적': 1349, '폭행': 1350, '어색하다': 1351, '간섭': 1352, '사소하다': 1353, '과연': 1354, '타고': 1355, '시끄럽다': 1356, '백수': 1357, '부정': 1358, '보여주다': 1359, '펀드': 1360, '압박': 1361, '이용': 1362, '조용하다': 1363, '어깨': 1364, '내용': 1365, '간호': 1366, '회장': 1367, '복권': 1368, '헬스장': 1369, '마치': 1370, '달다': 1371, '표정': 1372, '내지': 1373, '노래': 1374, '보다는': 1375, '와도': 1376, '굳다': 1377, '학업': 1378, '재': 1379, '불합격': 1380, '보지': 1381, '동아리': 1382, '노트': 1383, '심부름': 1384, '버': 1385, '날짜': 1386, '신랑': 1387, '기다': 1388, '자시다': 1389, '짝': 1390, '짐': 1391, '민망하다': 1392, '요청': 1393, '항암': 1394, '벗어나다': 1395, '고기': 1396, '버티다': 1397, '공': 1398, '글쎄': 1399, '엉망': 1400, '재미있다': 1401, '움직이다': 1402, '중학교': 1403, '숨': 1404, '의미': 1405, '소용': 1406, '양': 1407, '변하다': 1408, '늘어나다': 1409, '존재': 1410, '슬슬': 1411, '지출': 1412, '어': 1413, '어차피': 1414, '고등학생': 1415, '당연하다': 1416, '온몸': 1417, '불만': 1418, '벌': 1419, '초기': 1420, '채다': 1421, '직접': 1422, '치우다': 1423, '또래': 1424, '이별': 1425, '설레다': 1426, '영화': 1427, '마감': 1428, '장기': 1429, '파다': 1430, '무리': 1431, '학과': 1432, '지경': 1433, '한참': 1434, '커피': 1435, '주사': 1436, '답': 1437, '잘해주다': 1438, '풀리다': 1439, '재촉': 1440, '신경질': 1441, '닫다': 1442, '오래되다': 1443, '입학': 1444, '목표': 1445, '말씀드리다': 1446, '식당': 1447, '무사하다': 1448, '정보': 1449, '자랑스럽다': 1450, '입시': 1451, '에겐': 1452, '저지르다': 1453, '용기': 1454, '중간고사': 1455, '청년': 1456, '잡히다': 1457, '어쩌면': 1458, '대가': 1459, '놓이다': 1460, '기사': 1461, '새벽': 1462, '조심': 1463, '비슷하다': 1464, '알아주다': 1465, '쪽': 1466, '출금': 1467, '불우하다': 1468, '직무': 1469, '무기': 1470, '손님': 1471, '올라오다': 1472, '부인': 1473, '여름': 1474, '치': 1475, '시대': 1476, '집주인': 1477, '가볍다': 1478, '경찰': 1479, '등급': 1480, '견디다': 1481, '멈추다': 1482, '종종': 1483, '명품': 1484, '외모': 1485, '통화': 1486, '만기': 1487, '희망': 1488, '정해': 1489, '안타깝다': 1490, '따라가다': 1491, '끼다': 1492, '여태': 1493, '친정': 1494, '기획': 1495, '함부로': 1496, '밉다': 1497, '덥다': 1498, '재발': 1499, '원금': 1500, '습관': 1501, '신세': 1502, '동': 1503, '차갑다': 1504, '어른': 1505, '안다': 1506, '로또': 1507, '과는': 1508, '텔레비전': 1509, '얼른': 1510, '보너스': 1511, '가라': 1512, '고장': 1513, '운전': 1514, '떠오르다': 1515, '여기다': 1516, '짓': 1517, '금방': 1518, '계산': 1519, '으로도': 1520, '다가가다': 1521, '보증': 1522, '통증': 1523, '무리하다': 1524, '어서': 1525, '산부인과': 1526, '터지다': 1527, '내시경': 1528, '짜다': 1529, '취해': 1530, '기말고사': 1531, '진급': 1532, '도박': 1533, '금액': 1534, '주어': 1535, '인정받다': 1536, '고향': 1537, '영업': 1538, '책임': 1539, '고객': 1540, '필기': 1541, '귀': 1542, '기대다': 1543, '친': 1544, '언제나': 1545, '업': 1546, '무량': 1547, '참여': 1548, '시장': 1549, '가져오다': 1550, '배려': 1551, '심정': 1552, '사회생활': 1553, '차려': 1554, '화목': 1555, '덕': 1556, '내리다': 1557, '가능하다': 1558, '지나치다': 1559, '마저': 1560, '과외': 1561, '학년': 1562, '유방암': 1563, '터': 1564, '기한': 1565, '토': 1566, '기운': 1567, '파혼': 1568, '중간': 1569, '뻔': 1570, '지도': 1571, '쯤': 1572, '시달리다': 1573, '파티': 1574, '이웃': 1575, '바보': 1576, '참석': 1577, '방학': 1578, '접다': 1579, '라면': 1580, '자전거': 1581, '경험': 1582, '지켜보다': 1583, '그리다': 1584, '이식': 1585, '급식': 1586, '과거': 1587, '학폭위': 1588, '세우다': 1589, '점심시간': 1590, '빼': 1591, '명도': 1592, '권고사직': 1593, '외국': 1594, '인간': 1595, '인원': 1596, '여유롭다': 1597, '부다': 1598, '잠깐': 1599, '사내': 1600, '시도': 1601, '물다': 1602, '오라': 1603, '목격': 1604, '기르다': 1605, '모': 1606, '여직원': 1607, '재테크': 1608, '줄이다': 1609, '질병': 1610, '내버리다': 1611, '입': 1612, '먹기': 1613, '산다': 1614, '조건': 1615, '원서': 1616, '바라보다': 1617, '보라': 1618, '처벌': 1619, '흘리다': 1620, '적응하다': 1621, '신장': 1622, '재혼': 1623, '연': 1624, '고치다': 1625, '받아들이다': 1626, '지속': 1627, '반갑다': 1628, '한잔': 1629, '내기': 1630, '낫다': 1631, '재수': 1632, '한숨': 1633, '신체': 1634, '백내장': 1635, '서른': 1636, '방문': 1637, '죄': 1638, '권': 1639, '잔뜩': 1640, '해외여행': 1641, '부쩍': 1642, '어찌나': 1643, '금연': 1644, '존경': 1645, '무너지다': 1646, '체': 1647, '경기': 1648, '복잡하다': 1649, '아줌마': 1650, '반복': 1651, '독감': 1652, '술자리': 1653, '대상': 1654, '커닝': 1655, '심각하다': 1656, '까먹다': 1657, '책임지다': 1658, '원망': 1659, '약해지다': 1660, '시력': 1661, '보이지': 1662, '로는': 1663, '이자': 1664, '가도': 1665, '모자라다': 1666, '꺼리다': 1667, '길어지다': 1668, '이민': 1669, '동성애자': 1670, '의욕': 1671, '다시다': 1672, '단체': 1673, '구매': 1674, '안쓰럽다': 1675, '하늘': 1676, '사람인': 1677, '청혼': 1678, '소': 1679, '도전': 1680, '창업': 1681, '에선': 1682, '처지다': 1683, '처지': 1684, '둘째': 1685, '실패': 1686, '중학생': 1687, '상대방': 1688, '한결': 1689, '이리': 1690, '마스크': 1691, '시비': 1692, '업체': 1693, '거들다': 1694, '뛰다': 1695, '맞벌이': 1696, '짝사랑': 1697, '잠도': 1698, '식구': 1699, '부도': 1700, '예약': 1701, '시부모': 1702, '이대로': 1703, '자산': 1704, '적응': 1705, '데리다': 1706, '전교': 1707, '귀가': 1708, '복수': 1709, '조언': 1710, '수학여행': 1711, '양보': 1712, '쓸모없다': 1713, '칠': 1714, '마누라': 1715, '중인': 1716, '자퇴': 1717, '현장': 1718, '징계': 1719, '도착': 1720, '자라다': 1721, '반찬': 1722, '매출': 1723, '편지': 1724, '뒤지다': 1725, '느리다': 1726, '가르치다': 1727, '얘': 1728, '욕심': 1729, '요양': 1730, '억지로': 1731, '멀쩡하다': 1732, '현재': 1733, '씁쓸하다': 1734, '덜': 1735, '커지다': 1736, '니깐': 1737, '진료': 1738, '써주다': 1739, '자르다': 1740, '요리': 1741, '신발': 1742, '심란하다': 1743, '백만': 1744, '급여': 1745, '젊은이': 1746, '만이': 1747, '에게서': 1748, '핀잔': 1749, '조심하다': 1750, '야하다': 1751, '달래': 1752, '에서만': 1753, '세다': 1754, '서울': 1755, '해달라다': 1756, '중소기업': 1757, '대놓고': 1758, '구박': 1759, '내야': 1760, '소용없다': 1761, '퇴학': 1762, '기계': 1763, '매': 1764, '숨기': 1765, '이러다가': 1766, '명의': 1767, '바르다': 1768, '초대': 1769, '피해자': 1770, '어젯밤': 1771, '과도': 1772, '불행하다': 1773, '실력': 1774, '제주도': 1775, '근처': 1776, '구해': 1777, '윗': 1778, '공원': 1779, '정부': 1780, '놀림': 1781, '빠르다': 1782, '쇼핑': 1783, '쏟다': 1784, '내려오다': 1785, '깨어나다': 1786, '가로': 1787, '참고': 1788, '인슐린': 1789, '교실': 1790, '완벽하다': 1791, '푼': 1792, '정리해고': 1793, '뇌졸중': 1794, '인상': 1795, '걷기': 1796, '뭔': 1797, '우리나라': 1798, '나타나다': 1799, '생': 1800, '곳도': 1801, '룸메이트': 1802, '방송': 1803, '결혼기념일': 1804, '진심': 1805, '병들다': 1806, '열리다': 1807, '선': 1808, '군데': 1809, '어려움': 1810, '닮다': 1811, '말리다': 1812, '깎다': 1813, '똑같이': 1814, '사망': 1815, '골프': 1816, '기술': 1817, '끼': 1818, '요실금': 1819, '진지하다': 1820, '도둑': 1821, '너무하다': 1822, '정이': 1823, '틈': 1824, '절교': 1825, '잊어버리다': 1826, '대인': 1827, '대학생': 1828, '처방': 1829, '임원': 1830, '안마': 1831, '깊다': 1832, '티브이': 1833, '위험하다': 1834, '치가': 1835, '세대': 1836, '여전하다': 1837, '등록금': 1838, '복지관': 1839, '너무나도': 1840, '곤란하다': 1841, '외톨이': 1842, '차라리': 1843, '면서': 1844, '툴툴대': 1845, '인턴': 1846, '조금씩': 1847, '수군거리다': 1848, '이전': 1849, '방해': 1850, '자존심': 1851, '전염병': 1852, '깨': 1853, '약간': 1854, '가다가': 1855, '더욱': 1856, '환경': 1857, '전환': 1858, '중반': 1859, '잔치': 1860, '잠적': 1861, '기적': 1862, '키': 1863, '실기': 1864, '자취': 1865, '홀로': 1866, '치르다': 1867, '집도': 1868, '오니': 1869, '인터넷': 1870, '골다공증': 1871, '남기다': 1872, '불': 1873, '읽다': 1874, '떨다': 1875, '소통': 1876, '일구다': 1877, '감동': 1878, '소중하다': 1879, '음식점': 1880, '금융': 1881, '메시지': 1882, '꾸다': 1883, '미워하다': 1884, '자부': 1885, '움직': 1886, '초등학교': 1887, '지난달': 1888, '도중': 1889, '부자': 1890, '작업': 1891, '줍다': 1892, '학교생활': 1893, '날씨': 1894, '대충': 1895, '연예인': 1896, '병상': 1897, '정규직': 1898, '한두': 1899, '특별하다': 1900, '당분간': 1901, '가난': 1902, '수익': 1903, '가만히': 1904, '핑계': 1905, '지역': 1906, '간질': 1907, '숨다': 1908, '든지': 1909, '고집': 1910, '주택': 1911, '무능하다': 1912, '성실하다': 1913, '부러지다': 1914, '신혼': 1915, '노트북': 1916, '일상': 1917, '전세': 1918, '코': 1919, '가까워지다': 1920, '아예': 1921, '예상': 1922, '간병': 1923, '남겨지다': 1924, '목돈': 1925, '국어': 1926, '배우자': 1927, '최선': 1928, '댁': 1929, '부양': 1930, '으로만': 1931, '바닥': 1932, '보람': 1933, '표현': 1934, '위원회': 1935, '징그럽다': 1936, '거기': 1937, '천천히': 1938, '경쟁': 1939, '코앞': 1940, '주인': 1941, '불쾌하다': 1942, '병간호': 1943, '멋지다': 1944, '일정': 1945, '그림': 1946, '실직': 1947, '다가': 1948, '카페': 1949, '펴다': 1950, '그립다': 1951, '꿈꾸다': 1952, '라네': 1953, '끔찍하다': 1954, '비상': 1955, '차이다': 1956, '단절': 1957, '퇴': 1958, '버려지다': 1959, '얄밉다': 1960, '먹이다': 1961, '성희롱': 1962, '마치다': 1963, '겉': 1964, '목소리': 1965, '생계': 1966, '몰다': 1967, '총각': 1968, '연차': 1969, '보장': 1970, '회복': 1971, '답안': 1972, '대단하다': 1973, '모의고사': 1974, '깜빡': 1975, '사표': 1976, '거부': 1977, '매년': 1978, '요즈음': 1979, '비난': 1980, '내신': 1981, '설명': 1982, '종양': 1983, '축구': 1984, '마라톤': 1985, '동반': 1986, '이성': 1987, '계': 1988, '유일하다': 1989, '상해': 1990, '쉽다': 1991, '밤새': 1992, '티': 1993, '오늘이': 1994, '아저씨': 1995, '낳을': 1996, '관해': 1997, '뜻대로': 1998, '에서의': 1999, '조마조마하다': 2000, '후임': 2001, '고통스럽다': 2002, '잔': 2003, '저러다': 2004, '부': 2005, '초': 2006, '상견례': 2007, '주문': 2008, '와는': 2009, '집값': 2010, '소문나다': 2011, '폐': 2012, '풀': 2013, '음악': 2014, '대학원': 2015, '이건': 2016, '처': 2017, '지기': 2018, '소심하다': 2019, '사건': 2020, '피다': 2021, '어머님': 2022, '무겁다': 2023, '벌리다': 2024, '세월': 2025, '세금': 2026, '회비': 2027, '정말로': 2028, '회복하다': 2029, '허전하다': 2030, '금전': 2031, '공감': 2032, '데도': 2033, '이만': 2034, '칠십': 2035, '인기': 2036, '설계': 2037, '교육비': 2038, '더러': 2039, '살림': 2040, '정체': 2041, '상품': 2042, '자괴': 2043, '막내딸': 2044, '과목': 2045, '난감하다': 2046, '다툼': 2047, '발생': 2048, '째다': 2049, '말로': 2050, '예정일': 2051, '잔고': 2052, '후련하다': 2053, '비도': 2054, '자마자': 2055, '한편': 2056, '겁나다': 2057, '까지만': 2058, '제때': 2059, '치료받다': 2060, '망설이다': 2061, '몸살': 2062, '더니': 2063, '성화': 2064, '순': 2065, '명단': 2066, '사촌': 2067, '버릇': 2068, '증': 2069, '도통': 2070, '만의': 2071, '연인': 2072, '국민연금': 2073, '심장마비': 2074, '치킨': 2075, '풀이': 2076, '모양': 2077, '앞날': 2078, '위축': 2079, '전체': 2080, '감사': 2081, '착잡하다': 2082, '무언가': 2083, '듯이': 2084, '올려주다': 2085, '주의': 2086, '답장': 2087, '부당하다': 2088, '눈앞': 2089, '까지도': 2090, '잠시': 2091, '구조조정': 2092, '만으로': 2093, '뛰어나다': 2094, '뚱뚱하다': 2095, '분야': 2096, '별거': 2097, '건물': 2098, '대장암': 2099, '황': 2100, '주민': 2101, '녹내장': 2102, '차도': 2103, '예의': 2104, '만큼은': 2105, '공고': 2106, '던지다': 2107, '물어': 2108, '단': 2109, '부질없다': 2110, '낮': 2111, '독촉': 2112, '폐지': 2113, '돌다': 2114, '말실수': 2115, '선고': 2116, '휴대폰': 2117, '나라': 2118, '한지': 2119, '일방': 2120, '카톡': 2121, '장가': 2122, '예비': 2123, '동갑': 2124, '스터디': 2125, '뱃살': 2126, '오래전': 2127, '잘살다': 2128, '전이': 2129, '까지는': 2130, '높아지다': 2131, '정시': 2132, '막다': 2133, '통과': 2134, '자존감': 2135, '아이돌': 2136, '기부': 2137, '재활': 2138, '찾아보다': 2139, '떠나가다': 2140, '피부': 2141, '상상': 2142, '알려지다': 2143, '군': 2144, '늦잠': 2145, '대접': 2146, '라며': 2147, '낫': 2148, '책상': 2149, '애쓰다': 2150, '비만': 2151, '장애': 2152, '염려': 2153, '망가지다': 2154, '벌이': 2155, '형제': 2156, '몰리다': 2157, '어쩜': 2158, '단짝': 2159, '마트': 2160, '테': 2161, '분해': 2162, '경찰서': 2163, '과로': 2164, '심심하다': 2165, '사사건건': 2166, '면목': 2167, '주기': 2168, '제한': 2169, '오해해': 2170, '고과': 2171, '여동생': 2172, '다섯': 2173, '밝다': 2174, '출신': 2175, '짓다': 2176, '휴직': 2177, '영향': 2178, '미팅': 2179, '언': 2180, '더럽다': 2181, '변화': 2182, '어느새다': 2183, '시집': 2184, '외박': 2185, '번째': 2186, '못마땅하다': 2187, '올라가다': 2188, '불황': 2189, '전형': 2190, '어지럽다': 2191, '사서': 2192, '맞이': 2193, '구입': 2194, '지지': 2195, '안부': 2196, '프레': 2197, '테이': 2198, '션': 2199, '조만간': 2200, '미술': 2201, '권하다': 2202, '확': 2203, '각자': 2204, '참견': 2205, '그만하다': 2206, '쓸데없다': 2207, '의도': 2208, '고르다': 2209, '무산': 2210, '수시': 2211, '기특하다': 2212, '사오다': 2213, '결제': 2214, '구직': 2215, '이장': 2216, '늦어지다': 2217, '돌아다니다': 2218, '빼놓다': 2219, '인연': 2220, '철': 2221, '내놓다': 2222, '돌려주다': 2223, '그저': 2224, '반말': 2225, '소변': 2226, '재밌다': 2227, '지목': 2228, '오전': 2229, '처분': 2230, '업자': 2231, '공모전': 2232, '장면': 2233, '새다': 2234, '고독': 2235, '학점': 2236, '넘어서다': 2237, '판매': 2238, '부딪히다': 2239, '주시': 2240, '뒷': 2241, '지급': 2242, '외로움': 2243, '울면': 2244, '만으로도': 2245, '거울': 2246, '농사': 2247, '남동생': 2248, '위기': 2249, '비리': 2250, '사르다': 2251, '거려': 2252, '목': 2253, '돌': 2254, '학비': 2255, '깨지다': 2256, '발목': 2257, '배드민턴': 2258, '아마': 2259, '뼈': 2260, '겠다': 2261, '고양이': 2262, '내면': 2263, '듣기': 2264, '불륜': 2265, '딱': 2266, '후반': 2267, '컨디션': 2268, '장소': 2269, '수정': 2270, '거실': 2271, '불구': 2272, '두통': 2273, '선거': 2274, '근': 2275, '찾아가다': 2276, '계단': 2277, '심근경색': 2278, '이끌다': 2279, '베': 2280, '교무': 2281, '폐렴': 2282, '조사': 2283, '성인': 2284, '망치': 2285, '깨우다': 2286, '해지': 2287, '큰딸': 2288, '주신': 2289, '시한': 2290, '수행평가': 2291, '집착': 2292, '잡고': 2293, '떠들다': 2294, '결심': 2295, '제외': 2296, '쑤시다': 2297, '흥분하다': 2298, '장례': 2299, '씌우다': 2300, '한데': 2301, '봉사': 2302, '무료': 2303, '팔다': 2304, '낯': 2305, '첫날': 2306, '우선': 2307, '금리': 2308, '잠들다': 2309, '들리다': 2310, '미혼': 2311, '쫓기다': 2312, '유행': 2313, '랑은': 2314, '뇌': 2315, '서툴다': 2316, '트집': 2317, '흡연': 2318, '반항': 2319, '펑펑': 2320, '격려': 2321, '내외': 2322, '유독': 2323, '달리기': 2324, '택시': 2325, '저렇게': 2326, '나가야': 2327, '치과': 2328, '폭락': 2329, '빨갛다': 2330, '뽑히다': 2331, '대책': 2332, '주어지다': 2333, '지금껏': 2334, '여간': 2335, '석': 2336, '간식': 2337, '옳다': 2338, '쓸모': 2339, '씻다': 2340, '직할': 2341, '여성': 2342, '스펙': 2343, '존중': 2344, '미국': 2345, '둘이서': 2346, '용서': 2347, '면담': 2348, '모욕': 2349, '익숙하다': 2350, '처가': 2351, '께서는': 2352, '당당하다': 2353, '말르다': 2354, '체육대회': 2355, '낙담': 2356, '이든': 2357, '놓치다': 2358, '마냥': 2359, '고용': 2360, '조르다': 2361, '한국': 2362, '짧다': 2363, '염세': 2364, '깜깜': 2365, '하필': 2366, '버겁다': 2367, '의자': 2368, '전과': 2369, '불평': 2370, '당하': 2371, '기미': 2372, '이틀': 2373, '만지다': 2374, '납부': 2375, '광고': 2376, '전원주택': 2377, '걔네': 2378, '애교': 2379, '매사': 2380, '보조': 2381, '원인': 2382, '경': 2383, '놀이': 2384, '거나': 2385, '무거워': 2386, '인공': 2387, '임': 2388, '담보': 2389, '어딜': 2390, '대들다': 2391, '범인': 2392, '과정': 2393, '웃음': 2394, '침대': 2395, '형님': 2396, '뇌출혈': 2397, '방관': 2398, '사별': 2399, '이벤트': 2400, '제자리': 2401, '기력': 2402, '일어나서': 2403, '아등바등': 2404, '바': 2405, '헷갈리다': 2406, '재능': 2407, '육십이': 2408, '보살피다': 2409, '소원': 2410, '턱': 2411, '도망': 2412, '빈': 2413, '조기': 2414, '늘어서다': 2415, '배고프다': 2416, '연습': 2417, '법': 2418, '데려가다': 2419, '쓰기': 2420, '행사': 2421, '불가능하다': 2422, '전해': 2423, '평균': 2424, '툭하면': 2425, '특히': 2426, '도망치다': 2427, '맺다': 2428, '흉': 2429, '코로나바이러스': 2430, '휠체어': 2431, '알리': 2432, '불공평하다': 2433, '귀엽다': 2434, '일부': 2435, '공기': 2436, '신문': 2437, '입양': 2438, '하고는': 2439, '예방': 2440, '전달': 2441, '쓰리다': 2442, '문과': 2443, '기복': 2444, '상하': 2445, '온대': 2446, '다단계': 2447, '손실': 2448, '내심': 2449, '심각해지다': 2450, '캠핑': 2451, '보약': 2452, '한동안': 2453, '척도': 2454, '낙': 2455, '찬': 2456, '청': 2457, '감축': 2458, '문서': 2459, '프로그램': 2460, '어디서': 2461, '성사': 2462, '거두다': 2463, '기념': 2464, '급격하다': 2465, '팔이': 2466, '방귀': 2467, '수영': 2468, '먹고살다': 2469, '허탈하다': 2470, '식탁': 2471, '넘치다': 2472, '차서': 2473, '아부': 2474, '자유롭다': 2475, '귀농': 2476, '수익률': 2477, '맘대로': 2478, '예': 2479, '협박': 2480, '시험지': 2481, '교회': 2482, '로서': 2483, '늘어놓다': 2484, '생기지': 2485, '꼴다': 2486, '절대로': 2487, '휴일': 2488, '쌀쌀': 2489, '유명하다': 2490, '고통': 2491, '불면증': 2492, '완성': 2493, '요통': 2494, '조카': 2495, '차례': 2496, '다정하다': 2497, '괘씸하다': 2498, '부러워하다': 2499, '좀처럼': 2500, '편애': 2501, '드라마': 2502, '기초': 2503, '나하': 2504, '직속': 2505, '한순간': 2506, '동업': 2507, '우유': 2508, '보이스피싱': 2509, '진': 2510, '슬픔': 2511, '재택근무': 2512, '청약': 2513, '으론': 2514, '어버이날': 2515, '직전': 2516, '기념일': 2517, '외근': 2518, '양가': 2519, '동시': 2520, '꼬이다': 2521, '온갖': 2522, '일과': 2523, '상관없다': 2524, '싸': 2525, '공채': 2526, '보험료': 2527, '강제': 2528, '연말': 2529, '홈쇼핑': 2530, '정책': 2531, '알리다': 2532, '화장품': 2533, '채팅': 2534, '신혼여행': 2535, '수행': 2536, '뒤늦다': 2537, '강의': 2538, '노름': 2539, '방이': 2540, '비염': 2541, '학자금': 2542, '쓰레기': 2543, '바닥나다': 2544, '서비스': 2545, '바치다': 2546, '가수': 2547, '란': 2548, '변기': 2549, '찢어지다': 2550, '흐르다': 2551, '그러면': 2552, '머리카락': 2553, '기계로': 2554, '발언': 2555, '망': 2556, '물가': 2557, '의료': 2558, '생리': 2559, '포함': 2560, '내미다': 2561, '마음먹다': 2562, '감다': 2563, '놔두다': 2564, '병동': 2565, '별것': 2566, '길거리': 2567, '따뜻하다': 2568, '브랜드': 2569, '비혼': 2570, '실장': 2571, '자체': 2572, '실제': 2573, '비아': 2574, '냥': 2575, '생명': 2576, '익숙해지다': 2577, '떡': 2578, '이냐': 2579, '조직': 2580, '뜸': 2581, '으로의': 2582, '국가': 2583, '시술': 2584, '종합': 2585, '영상': 2586, '보시': 2587, '협상': 2588, '길다': 2589, '밝히다': 2590, '하소연': 2591, '정확하다': 2592, '불친절하다': 2593, '지저분하다': 2594, '기만': 2595, '인제': 2596, '일거리': 2597, '간절하다': 2598, '방향': 2599, '대박': 2600, '보상': 2601, '쫓겨나다': 2602, '모시다': 2603, '너': 2604, '몸무게': 2605, '노망': 2606, '이기': 2607, '통지': 2608, '지는': 2609, '의문': 2610, '끓이다': 2611, '장만': 2612, '투석': 2613, '변경': 2614, '배달': 2615, '상위': 2616, '신규': 2617, '주눅': 2618, '화도': 2619, '주고받다': 2620, '돌아보다': 2621, '로만': 2622, '응급실': 2623, '공장': 2624, '진작': 2625, '번거롭다': 2626, '방식': 2627, '문득': 2628, '출퇴근': 2629, '탈': 2630, '현금': 2631, '등록': 2632, '닦달': 2633, '파일': 2634, '학창': 2635, '질': 2636, '희망이': 2637, '끼치다': 2638, '걱정거리': 2639, '단둘': 2640, '인들': 2641, '하루아침': 2642, '층': 2643, '작': 2644, '영원하다': 2645, '호전': 2646, '좁다': 2647, '평온하다': 2648, '착각': 2649, '곗돈': 2650, '놀': 2651, '제발': 2652, '매주': 2653, '성과급': 2654, '살짝': 2655, '회원': 2656, '타지': 2657, '운': 2658, '외면': 2659, '배치': 2660, '당선': 2661, '선임': 2662, '허망': 2663, '차장': 2664, '의심스럽다': 2665, '학부모': 2666, '부턴': 2667, '저금': 2668, '대장': 2669, '교제': 2670, '로운': 2671, '콜레스테롤': 2672, '혈당': 2673, '백화점': 2674, '커플': 2675, '독서실': 2676, '거슬리다': 2677, '발전': 2678, '노약': 2679, '재미없다': 2680, '하고도': 2681, '은사': 2682, '온통': 2683, '무니': 2684, '모자라': 2685, '큰소리': 2686, '사기꾼': 2687, '스마트폰': 2688, '입대': 2689, '가까이': 2690, '서먹해지다': 2691, '불안감': 2692, '후유증': 2693, '조원': 2694, '공허하다': 2695, '틀니': 2696, '지불': 2697, '치질': 2698, '아야': 2699, '선뜻': 2700, '안해': 2701, '지고': 2702, '간단하다': 2703, '켜다': 2704, '문화': 2705, '공기업': 2706, '술집': 2707, '여생': 2708, '진상': 2709, '꼴등': 2710, '하찮다': 2711, '에이': 2712, '야단': 2713, '건망증': 2714, '혹': 2715, '꾸짖다': 2716, '푹': 2717, '처남': 2718, '비우다': 2719, '그랬는데': 2720, '늦둥이': 2721, '간의': 2722, '얘길': 2723, '비행기': 2724, '난처하다': 2725, '수험생': 2726, '약점': 2727, '추다': 2728, '그건': 2729, '한시름': 2730, '복용': 2731, '병세': 2732, '등수': 2733, '행복': 2734, '이를': 2735, '사돈': 2736, '사지': 2737, '뇌종양': 2738, '지루하다': 2739, '추가': 2740, '진정하다': 2741, '졸업식': 2742, '성별': 2743, '꾸리다': 2744, '갈등': 2745, '한쪽': 2746, '미련': 2747, '살날': 2748, '채우다': 2749, '휴': 2750, '유부': 2751, '매달리다': 2752, '정산': 2753, '리지': 2754, '슈퍼': 2755, '육아휴직': 2756, '학벌': 2757, '직급': 2758, '벅차다': 2759, '누르다': 2760, '혼수': 2761, '몽땅': 2762, '부작용': 2763, '꼼짝': 2764, '이니까': 2765, '이런저런': 2766, '장학금': 2767, '승인': 2768, '잘생기다': 2769, '투정': 2770, '천만': 2771, '예금': 2772, '화려하다': 2773, '죽겠네': 2774, '이모': 2775, '가리다': 2776, '명문': 2777, '지향': 2778, '에스': 2779, '인맥': 2780, '분담': 2781, '가을': 2782, '달성': 2783, '절친': 2784, '차질': 2785, '뒷담화': 2786, '만약': 2787, '거짓': 2788, '뒤통수': 2789, '덮다': 2790, '전보': 2791, '목적': 2792, '완주': 2793, '게임기': 2794, '성질': 2795, '화장': 2796, '폭': 2797, '서울대': 2798, '상당하다': 2799, '울적하다': 2800, '부리고': 2801, '는커녕': 2802, '헛소문': 2803, '래서': 2804, '구속': 2805, '교과서': 2806, '뵈다': 2807, '분하다': 2808, '임금': 2809, '편의점': 2810, '가출': 2811, '서서': 2812, '애정': 2813, '상치': 2814, '제시': 2815, '살라': 2816, '결혼식장': 2817, '이제껏': 2818, '도시락': 2819, '감시': 2820, '고프다': 2821, '기준': 2822, '톡': 2823, '분들': 2824, '사직서': 2825, '굳이': 2826, '꼼꼼하다': 2827, '합격자': 2828, '늘리다': 2829, '모처럼': 2830, '단어': 2831, '케이크': 2832, '퍼지다': 2833, '철수': 2834, '비타민': 2835, '장난감': 2836, '마음껏': 2837, '진절머리': 2838, '빵': 2839, '접근': 2840, '설거지': 2841, '자석': 2842, '허약하다': 2843, '번호': 2844, '게으르다': 2845, '누명': 2846, '인수': 2847, '속마음': 2848, '동자': 2849, '가발': 2850, '건드리다': 2851, '겨울': 2852, '입장': 2853, '장래희망': 2854, '결재': 2855, '도무지': 2856, '도시': 2857, '장모님': 2858, '최신': 2859, '홍삼': 2860, '최대한': 2861, '빼앗다': 2862, '렸': 2863, '삼다': 2864, '증거': 2865, '모이': 2866, '후원': 2867, '실감': 2868, '취하': 2869, '청첩장': 2870, '낚시': 2871, '적극': 2872, '표': 2873, '아버님': 2874, '태풍': 2875, '집의': 2876, '첫째': 2877, '떼': 2878, '본가': 2879, '외도': 2880, '일구': 2881, '수면': 2882, '폐업': 2883, '시누이': 2884, '두려움': 2885, '알코올': 2886, '어휴': 2887, '근육': 2888, '넘겨주다': 2889, '이익': 2890, '말투': 2891, '가보': 2892, '가능성': 2893, '부유하다': 2894, '참담하다': 2895, '침': 2896, '사적': 2897, '뒷말': 2898, '부지런하다': 2899, '학급': 2900, '만들기': 2901, '연속': 2902, '세계': 2903, '일억': 2904, '거동': 2905, '충돌': 2906, '소리치다': 2907, '팔고': 2908, '반려': 2909, '난동': 2910, '권고': 2911, '진정': 2912, '저리다': 2913, '채소': 2914, '찢다': 2915, '퍼센트': 2916, '다루다': 2917, '이쁘다': 2918, '다짜고짜': 2919, '성추행': 2920, '트라우마': 2921, '일흔': 2922, '접촉': 2923, '적도': 2924, '중풍': 2925, '졸라': 2926, '굶다': 2927, '별일': 2928, '혜택': 2929, '폭언': 2930, '낙하산': 2931, '주네': 2932, '틀어지다': 2933, '환멸감': 2934, '자동차': 2935, '단순': 2936, '화분': 2937, '기증': 2938, '연기': 2939, '늙은이': 2940, '멋있다': 2941, '퍼트': 2942, '붉다': 2943, '는걸': 2944, '모레': 2945, '단순하다': 2946, '끝내': 2947, '학습': 2948, '오십이': 2949, '살갑': 2950, '어르신': 2951, '끼니': 2952, '액수': 2953, '반기다': 2954, '휘두르다': 2955, '마땅하다': 2956, '일일이': 2957, '워크숍': 2958, '고작': 2959, '간병인': 2960, '심사': 2961, '빠듯한데': 2962, '폭발': 2963, '한창': 2964, '축': 2965, '냉장고': 2966, '주더': 2967, '적지': 2968, '헌신': 2969, '중단': 2970, '제의': 2971, '방치': 2972, '보험사': 2973, '목숨': 2974, '출근길': 2975, '기관지염': 2976, '기능': 2977, '골': 2978, '옷차림': 2979, '시국': 2980, '불량': 2981, '의대': 2982, '정직': 2983, '수령': 2984, '보증금': 2985, '이상은': 2986, '지은': 2987, '보통': 2988, '엊그제': 2989, '성형': 2990, '바다': 2991, '화만': 2992, '잡': 2993, '하교': 2994, '차로': 2995, '홀가분하다': 2996, '고치': 2997, '역할': 2998, '물리치료': 2999, '과일': 3000, '계주': 3001, '한약': 3002, '순위': 3003, '투': 3004, '만만하다': 3005, '리': 3006, '사채': 3007, '빈혈': 3008, '곤': 3009, '잘나가다': 3010, '빌다': 3011, '결핵': 3012, '까다롭다': 3013, '오토바이': 3014, '농담': 3015, '새우다': 3016, '최악': 3017, '충당': 3018, '복학': 3019, '교사': 3020, '온라인': 3021, '과자': 3022, '강하다': 3023, '문병': 3024, '안경': 3025, '대처': 3026, '불안정하다': 3027, '대고': 3028, '깨끗하다': 3029, '빼앗기다': 3030, '오백만': 3031, '물러나다': 3032, '달래다': 3033, '이과': 3034, '채택': 3035, '억': 3036, '음주운전': 3037, '피로': 3038, '배정': 3039, '호스피스': 3040, '아래': 3041, '철저하다': 3042, '굽다': 3043, '고발': 3044, '판': 3045, '식이': 3046, '입자': 3047, '시스템': 3048, '아주머니': 3049, '소화': 3050, '신기하다': 3051, '가신': 3052, '친정엄마': 3053, '간경변증': 3054, '가르다': 3055, '등교': 3056, '하늘나라': 3057, '부족': 3058, '예식장': 3059, '이따금': 3060, '사려': 3061, '임용고시': 3062, '헬스': 3063, '달려오다': 3064, '보호자': 3065, '연루': 3066, '섞이다': 3067, '야간': 3068, '직장인': 3069, '머릿속': 3070, '하든': 3071, '여태껏': 3072, '노릇': 3073, '사위': 3074, '필라테스': 3075, '약국': 3076, '증후군': 3077, '감격': 3078, '질책': 3079, '정답': 3080, '함': 3081, '사항': 3082, '적자': 3083, '예물': 3084, '손가락': 3085, '전날': 3086, '퇴임': 3087, '으로부터': 3088, '백혈병': 3089, '동거': 3090, '물이': 3091, '시세': 3092, '꾀병': 3093, '저혈압': 3094, '부터는': 3095, '붙잡다': 3096, '주머니': 3097, '기본': 3098, '담': 3099, '그날': 3100, '저렇다': 3101, '그토록': 3102, '교류': 3103, '끌다': 3104, '과중': 3105, '나은': 3106, '적당하다': 3107, '무심하다': 3108, '수준': 3109, '여섯': 3110, '우승': 3111, '췌장암': 3112, '휴학': 3113, '취': 3114, '가망': 3115, '쏙': 3116, '수당': 3117, '새엄마': 3118, '작품': 3119, '부리': 3120, '수중': 3121, '조롱': 3122, '합의': 3123, '제도': 3124, '지나': 3125, '깔다': 3126, '분노하다': 3127, '서랍': 3128, '십년지기': 3129, '쓰레기통': 3130, '삼촌': 3131, '그만큼': 3132, '우린': 3133, '가득하다': 3134, '십대': 3135, '뜯다': 3136, '막내아들': 3137, '기구': 3138, '만사': 3139, '사랑받다': 3140, '수급': 3141, '효율': 3142, '투성이': 3143, '몸매': 3144, '기숙사': 3145, '졸다': 3146, '결근': 3147, '증세': 3148, '제자': 3149, '소음': 3150, '무단': 3151, '끊임없다': 3152, '미세먼지': 3153, '학생회장': 3154, '돌아서다': 3155, '개선': 3156, '셔': 3157, '돕다': 3158, '조퇴': 3159, '굽': 3160, '에다': 3161, '카카오': 3162, '메신저': 3163, '콘서트': 3164, '품': 3165, '미움': 3166, '신용': 3167, '동의': 3168, '톡방': 3169, '꾸중': 3170, '규칙': 3171, '낮아지다': 3172, '성장하다': 3173, '검토': 3174, '부상': 3175, '위급하다': 3176, '관계도': 3177, '비키다': 3178, '대부분': 3179, '몰려오다': 3180, '유튜브': 3181, '교내': 3182, '보단': 3183, '경비': 3184, '경매': 3185, '감각': 3186, '돼지': 3187, '장수': 3188, '실리다': 3189, '쑥스럽다': 3190, '벌레': 3191, '배다': 3192, '외제': 3193, '활': 3194, '위험': 3195, '상담사': 3196, '뵙다': 3197, '대기': 3198, '깁스': 3199, '침침하다': 3200, '꼬투리': 3201, '택배': 3202, '텅': 3203, '싸다': 3204, '일어나지': 3205, '극적': 3206, '횡령': 3207, '인계': 3208, '죄송스럽다': 3209, '밀리': 3210, '복도': 3211, '말썽': 3212, '일으키다': 3213, '상가': 3214, '흥미': 3215, '멍청하다': 3216, '만을': 3217, '어둡다': 3218, '자서': 3219, '공개': 3220, '천': 3221, '그렇다고': 3222, '목욕탕': 3223, '알바': 3224, '직종': 3225, '범위': 3226, '독서': 3227, '발작': 3228, '임플란트': 3229, '서먹하다': 3230, '후의': 3231, '벗다': 3232, '섞다': 3233, '걸어오다': 3234, '전화번호': 3235, '개발': 3236, '졸': 3237, '음성': 3238, '향': 3239, '꾸지람': 3240, '주임': 3241, '체육복': 3242, '끼어들다': 3243, '삶다': 3244, '마주': 3245, '임종': 3246, '모시': 3247, '네트워크': 3248, '변': 3249, '밀치다': 3250, '건네다': 3251, '심지어': 3252, '과를': 3253, '알레르기': 3254, '옛말': 3255, '틀림없다': 3256, '삭감': 3257, '대중교통': 3258, '던': 3259, '믿어지다': 3260, '중독': 3261, '치레': 3262, '가식': 3263, '소견': 3264, '가사': 3265, '화재': 3266, '겉도': 3267, '주장': 3268, '조직검사': 3269, '쌍둥이': 3270, '소비': 3271, '호텔': 3272, '옛': 3273, '폐경': 3274, '잘만': 3275, '풍족하다': 3276, '접수': 3277, '날씬하다': 3278, '위층': 3279, '다해': 3280, '이해해': 3281, '주저앉다': 3282, '쌀': 3283, '산더미': 3284, '입덧': 3285, '안이': 3286, '서도': 3287, '의료기기': 3288, '유출': 3289, '흔쾌하다': 3290, '절약': 3291, '원만하다': 3292, '상여금': 3293, '시합': 3294, '남성': 3295, '누락': 3296, '생산': 3297, '워낙': 3298, '라고는': 3299, '수상하다': 3300, '서서히': 3301, '엄살': 3302, '보다도': 3303, '설': 3304, '유튜버': 3305, '강도': 3306, '식장': 3307, '딸내미': 3308, '무': 3309, '긁다': 3310, '휴식': 3311, '지식': 3312, '끌': 3313, '앞집': 3314, '들통': 3315, '경제력': 3316, '절반': 3317, '정정': 3318, '여력': 3319, '따라다니다': 3320, '유능하다': 3321, '언성': 3322, '시계': 3323, '가담': 3324, '만치': 3325, '스무': 3326, '겸': 3327, '인걸': 3328, '운명': 3329, '학대': 3330, '손목': 3331, '맛없다': 3332, '치기': 3333, '승낙': 3334, '보호': 3335, '재무': 3336, '장래': 3337, '삐지다': 3338, '보더': 3339, '기러기': 3340, '즙': 3341, '낭비': 3342, '노안': 3343, '대형': 3344, '더듬다': 3345, '가계부': 3346, '평판': 3347, '간이': 3348, '쏘다': 3349, '불합리': 3350, '최저': 3351, '담당자': 3352, '민간요법': 3353, '딸도': 3354, '이라고는': 3355, '하나같이': 3356, '푸다': 3357, '독거': 3358, '마이너스': 3359, '인력': 3360, '충': 3361, '물론': 3362, '범죄': 3363, '근속': 3364, '월요일': 3365, '단골': 3366, '동년배': 3367, '명예': 3368, '라니까': 3369, '끼우다': 3370, '상무': 3371, '웃기다': 3372, '남인': 3373, '기저귀': 3374, '체육관': 3375, '우승하다': 3376, '뺨': 3377, '코지': 3378, '예순': 3379, '만으로는': 3380, '만은': 3381, '구역': 3382, '연장': 3383, '욕설': 3384, '당일': 3385, '어쩌다': 3386, '손잡다': 3387, '강사': 3388, '놀이동산': 3389, '염': 3390, '주사기': 3391, '대출받다': 3392, '소득': 3393, '액': 3394, '텃세': 3395, '일진': 3396, '신사': 3397, '정신과': 3398, '문화센터': 3399, '만점': 3400, '뮤지컬': 3401, '가계': 3402, '수발': 3403, '빈털터리': 3404, '압류': 3405, '와중': 3406, '방역': 3407, '부부싸움': 3408, '현관': 3409, '주부': 3410, '안보': 3411, '빨르다': 3412, '근력': 3413, '노리': 3414, '떠올리다': 3415, '주차': 3416, '기기': 3417, '오류': 3418, '라지': 3419, '구조': 3420, '그렇지만': 3421, '았': 3422, '만남': 3423, '스타일': 3424, '부잣집': 3425, '바깥': 3426, '조치': 3427, '동성': 3428, '달려가다': 3429, '만족': 3430, '쏟아지다': 3431, '불필요하다': 3432, '내쫓다': 3433, '부어': 3434, '스킨십': 3435, '정치': 3436, '드릴': 3437, '하마터면': 3438, '속도': 3439, '말대꾸': 3440, '무관심하다': 3441, '은커녕': 3442, '유명': 3443, '가라앉다': 3444, '작고': 3445, '권태기': 3446, '도리어': 3447, '정성껏': 3448, '심장병': 3449, '전역': 3450, '위염': 3451, '괜': 3452, '이중': 3453, '훌륭하다': 3454, '극': 3455, '순이': 3456, '편찮다': 3457, '캄캄하다': 3458, '대우': 3459, '연수': 3460, '부치다': 3461, '걸음': 3462, '출발': 3463, '들여다보다': 3464, '아가씨': 3465, '체질': 3466, '호감': 3467, '슬쩍': 3468, '마시기': 3469, '극복': 3470, '배우': 3471, '수월하다': 3472, '쉰': 3473, '죄다': 3474, '나잇': 3475, '비서': 3476, '타박': 3477, '희귀': 3478, '오후': 3479, '납품': 3480, '계모임': 3481, '스카우트': 3482, '망신': 3483, '촬영': 3484, '약사': 3485, '외우다': 3486, '통쾌하다': 3487, '반려견': 3488, '명확하다': 3489, '상냥하다': 3490, '무급': 3491, '과실': 3492, '틀어박히다': 3493, '대수롭다': 3494, '심다': 3495, '밟다': 3496, '빼먹다': 3497, '시각': 3498, '피아노': 3499, '암울하다': 3500, '주름': 3501, '보양식': 3502, '무인도': 3503, '신부전증': 3504, '언행': 3505, '허세': 3506, '낯설다': 3507, '응대': 3508, '비록': 3509, '해주': 3510, '볼펜': 3511, '신혼집': 3512, '피우지': 3513, '년도': 3514, '박히다': 3515, '악한': 3516, '애도': 3517, '감염': 3518, '외부': 3519, '위자료': 3520, '잘해야': 3521, '찌': 3522, '져서': 3523, '문신': 3524, '밝혀지다': 3525, '주니': 3526, '낙방': 3527, '채점': 3528, '협심증': 3529, '자율학습': 3530, '각종': 3531, '사라': 3532, '물혹': 3533, '동영상': 3534, '자연': 3535, '꼬박꼬박': 3536, '견제': 3537, '뱉다': 3538, '이러니까': 3539, '이던': 3540, '구석': 3541, '인스타그램': 3542, '벌이다': 3543, '극단': 3544, '그거': 3545, '돈벌이': 3546, '총무': 3547, '틀다': 3548, '치마': 3549, '정장': 3550, '유급': 3551, '자유': 3552, '반영': 3553, '실내': 3554, '구두': 3555, '정직하다': 3556, '안주': 3557, '쥐다': 3558, '뒷전': 3559, '사신': 3560, '뿌리다': 3561, '이루어지다': 3562, '흔들리다': 3563, '재료': 3564, '긍정': 3565, '해방': 3566, '턱걸이': 3567, '기립': 3568, '정해지다': 3569, '위태': 3570, '아랫': 3571, '경과': 3572, '기세': 3573, '미처': 3574, '한텐': 3575, '기어': 3576, '퍼뜨리': 3577, '마디': 3578, '투명인간': 3579, '선수': 3580, '별다르다': 3581, '캐': 3582, '금요일': 3583, '해치다': 3584, '퇴근길': 3585, '공격': 3586, '수십': 3587, '담다': 3588, '부서장': 3589, '야구': 3590, '그랬더니': 3591, '덜다': 3592, '공유': 3593, '급': 3594, '교복': 3595, '따라서': 3596, '형수': 3597, '만원': 3598, '유난': 3599, '보복': 3600, '매력': 3601, '덩달아': 3602, '차지': 3603, '툴툴댔어': 3604, '접': 3605, '원수': 3606, '꾸미다': 3607, '꽃다발': 3608, '당구': 3609, '살아나다': 3610, '대꾸': 3611, '밀다': 3612, '놀이터': 3613, '싱겁다': 3614, '거란': 3615, '부터라도': 3616, '누군지': 3617, '반년': 3618, '인스턴트': 3619, '잔병치레': 3620, '저항': 3621, '디자인': 3622, '올': 3623, '자로': 3624, '산후조리원': 3625, '지연': 3626, '넓다': 3627, '이대': 3628, '자궁': 3629, '무뚝뚝하다': 3630, '드라이브': 3631, '정학': 3632, '정지': 3633, '운동장': 3634, '골절': 3635, '사가': 3636, '예고': 3637, '인거': 3638, '오진': 3639, '증언': 3640, '음': 3641, '역': 3642, '하객': 3643, '공간': 3644, '지난해': 3645, '딱하다': 3646, '서두르다': 3647, '근심': 3648, '갑갑하다': 3649, '불안': 3650, '대상자': 3651, '부사': 3652, '공경': 3653, '따지다': 3654, '중환자실': 3655, '악성': 3656, '영영': 3657, '대학병원': 3658, '이신': 3659, '쟤': 3660, '과금': 3661, '찌르다': 3662, '자세하다': 3663, '영희': 3664, '수술실': 3665, '완쾌': 3666, '중도': 3667, '투덜거리다': 3668, '매월': 3669, '친목': 3670, '곧바로': 3671, '적적하다': 3672, '엘리베이터': 3673, '버튼': 3674, '꽃': 3675, '호흡기': 3676, '탕': 3677, '메일': 3678, '복귀': 3679, '께선': 3680, '종목': 3681, '지게': 3682, '볼일': 3683, '비위': 3684, '간만': 3685, '단벌': 3686, '체크': 3687, '도우': 3688, '겨': 3689, '되찾다': 3690, '한계': 3691, '고독사': 3692, '업다': 3693, '끌리다': 3694, '방지': 3695, '수습': 3696, '예산': 3697, '유치원': 3698, '단칸': 3699, '주도하다': 3700, '올바르다': 3701, '크리스마스': 3702, '부린다': 3703, '구급차': 3704, '생색': 3705, '제거': 3706, '장거리': 3707, '안과': 3708, '분만': 3709, '쪽지': 3710, '전문가': 3711, '떼다': 3712, '박해': 3713, '이기도': 3714, '가나': 3715, '힘쓰다': 3716, '남자에게': 3717, '주제': 3718, '여자애': 3719, '저런': 3720, '임대': 3721, '어느덧다': 3722, '밤새우다': 3723, '때로는': 3724, '놀래다': 3725, '토막': 3726, '클럽': 3727, '선정': 3728, '번다': 3729, '토익': 3730, '개다': 3731, '낯선': 3732, '아흔': 3733, '퍼붓다': 3734, '빠듯해': 3735, '상속': 3736, '입히다': 3737, '난청': 3738, '성하다': 3739, '쫓아내다': 3740, '꿇다': 3741, '요가': 3742, '가만두다': 3743, '동서': 3744, '자도': 3745, '고소하다': 3746, '제멋대로': 3747, '내색': 3748, '심부전증': 3749, '오기': 3750, '엠티': 3751, '벽': 3752, '예단': 3753, '체계': 3754, '사치': 3755, '살찌다': 3756, '출가': 3757, '주선': 3758, '절제': 3759, '미대': 3760, '작가': 3761, '겹': 3762, '구토': 3763, '관리사': 3764, '리기': 3765, '오디션': 3766, '참으로': 3767, '지끈': 3768, '능률': 3769, '허가': 3770, '권위': 3771, '안면': 3772, '오줌': 3773, '정의': 3774, '외국인': 3775, '이어지다': 3776, '상쾌하다': 3777, '률': 3778, '솜씨': 3779, '도우미': 3780, '노크': 3781, '정성': 3782, '착실하다': 3783, '돌이키다': 3784, '활발하다': 3785, '해약': 3786, '부위': 3787, '처량하다': 3788, '가벼워지다': 3789, '소셜': 3790, '주방': 3791, '소파': 3792, '무난': 3793, '부딪치다': 3794, '모자': 3795, '대입': 3796, '밥상': 3797, '준비물': 3798, '판단': 3799, '이웃집': 3800, '사나': 3801, '몇몇': 3802, '폐가': 3803, '흉하다': 3804, '마취': 3805, '경향': 3806, '평일': 3807, '시험관': 3808, '엉뚱하다': 3809, '합의금': 3810, '실험': 3811, '동떨어지다': 3812, '기쁨': 3813, '확정': 3814, '동결': 3815, '소아': 3816, '가두다': 3817, '조정': 3818, '제대': 3819, '공휴일': 3820, '고시': 3821, '땀': 3822, '샤워': 3823, '마찰': 3824, '전문': 3825, '양말': 3826, '수리': 3827, '트러블': 3828, '한평생': 3829, '피고': 3830, '사교성': 3831, '찍히다': 3832, '붙이다': 3833, '난대': 3834, '바람나다': 3835, '축복': 3836, '제약': 3837, '썩': 3838, '방광염': 3839, '원망하다': 3840, '안내': 3841, '체험': 3842, '길가': 3843, '창고': 3844, '꽁초': 3845, '조차도': 3846, '매정하다': 3847, '위협': 3848, '각방': 3849, '걸치다': 3850, '식욕': 3851, '채널': 3852, '텃밭': 3853, '백세': 3854, '멸시': 3855, '실컷': 3856, '오른': 3857, '종업원': 3858, '밑': 3859, '멍하다': 3860, '땅값': 3861, '베풀다': 3862, '언짢다': 3863, '감옥': 3864, '통금': 3865, '프로게이머': 3866, '영양': 3867, '잠그다': 3868, '테스트': 3869, '모델': 3870, '까진': 3871, '수년': 3872, '장염': 3873, '경비원': 3874, '이미지': 3875, '볶다': 3876, '휘': 3877, '피로하다': 3878, '먹이': 3879, '젊음': 3880, '닿다': 3881, '게이트볼': 3882, '주목': 3883, '살걸': 3884, '필통': 3885, '만년': 3886, '천만다행': 3887, '낡다': 3888, '자지': 3889, '열정': 3890, '해산물': 3891, '음주': 3892, '노래방': 3893, '불임': 3894, '건네주다': 3895, '재판': 3896, '병마': 3897, '그나마': 3898, '별문제': 3899, '정밀검사': 3900, '신다': 3901, '안절부절': 3902, '불량하다': 3903, '사이좋다': 3904, '모집': 3905, '연극': 3906, '데뷔': 3907, '흐리다': 3908, '뻐근하다': 3909, '미역국': 3910, '자세': 3911, '한국사': 3912, '달도': 3913, '파산': 3914, '선글라스': 3915, '몫': 3916, '그린': 3917, '몇십': 3918, '침체': 3919, '미흡하다': 3920, '띄다': 3921, '안남다': 3922, '누굴': 3923, '그땐': 3924, '기절': 3925, '주간': 3926, '정색': 3927, '진자': 3928, '탁구': 3929, '툭툭': 3930, '전쟁': 3931, '류머티즘': 3932, '유전': 3933, '부족함': 3934, '헛살았': 3935, '뇌수막염': 3936, '편두통': 3937, '열사병': 3938, '들뜨다': 3939, '어보': 3940, '혈변': 3941, '분배': 3942, '복': 3943, '장도': 3944, '미끄러지다': 3945, '마르다': 3946, '무의미하다': 3947, '판이': 3948, '기관지': 3949, '흥청망청': 3950, '위아래': 3951, '하반기': 3952, '유럽': 3953, '빈곤': 3954, '숨쉬기': 3955, '입상': 3956, '손찌검': 3957, '심리': 3958, '경조사': 3959, '종교': 3960, '수다': 3961, '밀려오다': 3962, '반지': 3963, '바늘': 3964, '못자다': 3965, '초등학생': 3966, '산업': 3967, '국내': 3968, '뽀뽀': 3969, '피드백': 3970, '식은땀': 3971, '손바닥': 3972, '소송': 3973, '똥': 3974, '고소': 3975, '측정': 3976, '경치': 3977, '내려지다': 3978, '변호사': 3979, '뜻': 3980, '따라잡다': 3981, '진찰': 3982, '아토피': 3983, '자극': 3984, '급성': 3985, '어쩌나': 3986, '갇히다': 3987, '걸어가다': 3988, '전망': 3989, '보도': 3990, '증오': 3991, '아마도': 3992, '승승장구': 3993, '야유회': 3994, '잡기': 3995, '유부녀': 3996, '골치': 3997, '가정폭력': 3998, '야식': 3999, '쓴소리': 4000, '여든': 4001, '말수': 4002, '매점': 4003, '골다': 4004, '바지': 4005, '작은아들': 4006, '감싸다': 4007, '밤늦다': 4008, '등하교': 4009, '성향': 4010, '낯가림': 4011, '시원하다': 4012, '희다': 4013, '얻어먹다': 4014, '실습': 4015, '필수': 4016, '뚜렷하다': 4017, '솟다': 4018, '논': 4019, '비실': 4020, '깜빡깜빡': 4021, '안나': 4022, '축가': 4023, '참가': 4024, '머물다': 4025, '들르다': 4026, '팀워크': 4027, '격리': 4028, '밤새다': 4029, '정당하다': 4030, '공사': 4031, '리더': 4032, '화낼': 4033, '버는데': 4034, '둘러보다': 4035, '고지식하다': 4036, '눈빛': 4037, '신약': 4038, '고급': 4039, '승무원': 4040, '원한': 4041, '차림': 4042, '은퇴식': 4043, '쓴다': 4044, '해대': 4045, '시아버지': 4046, '생인': 4047, '모로': 4048, '신혼부부': 4049, '찝찝하다': 4050, '불화': 4051, '자제': 4052, '잡아먹다': 4053, '트림': 4054, '불어': 4055, '충고': 4056, '기밀': 4057, '차마': 4058, '흉보다': 4059, '벗': 4060, '해드리다': 4061, '지방간': 4062, '향상': 4063, '처참하다': 4064, '소질': 4065, '두절': 4066, '노년기': 4067, '허다': 4068, '쪽방': 4069, '이상형': 4070, '상한': 4071, '복부': 4072, '상관': 4073, '불법': 4074, '손가락질': 4075, '간염': 4076, '빨래': 4077, '량': 4078, '중식': 4079, '노고': 4080, '점검': 4081, '미용실': 4082, '건성': 4083, '번듯하다': 4084, '조가': 4085, '전담': 4086, '밀': 4087, '불리하다': 4088, '간경화': 4089, '교통': 4090, '보청기': 4091, '마자': 4092, '청춘': 4093, '연락처': 4094, '결': 4095, '나무라다': 4096, '연령': 4097, '물품': 4098, '약물': 4099, '주먹': 4100, '국': 4101, '산후': 4102, '사오': 4103, '회계사': 4104, '뿐이다': 4105, '뜨겁다': 4106, '노동': 4107, '착취': 4108, '두서': 4109, '짝꿍': 4110, '유전자': 4111, '식다': 4112, '수고': 4113, '소풍': 4114, '점원': 4115, '실로': 4116, '십만': 4117, '방과': 4118, '파킨슨병': 4119, '방안': 4120, '외국어': 4121, '귀촌': 4122, '홧김': 4123, '그랬다고': 4124, '묻히다': 4125, '어쩐지': 4126, '면박': 4127, '혼수상태': 4128, '앞서다': 4129, '깔끔하다': 4130, '보채다': 4131, '극도': 4132, '대견하다': 4133, '멍': 4134, '자국': 4135, '유난히': 4136, '가뜩이나': 4137, '유세': 4138, '화내': 4139, '유치하다': 4140, '용품': 4141, '쫓다': 4142, '호흡': 4143, '커플링': 4144, '알아듣다': 4145, '어떠하다': 4146, '흐뭇하다': 4147, '고도': 4148, '전셋집': 4149, '말리': 4150, '나기': 4151, '믿음직하다': 4152, '외제차': 4153, '설사': 4154, '패혈증': 4155, '재계약': 4156, '가짜': 4157, '맥주': 4158, '찜질방': 4159, '구석구석': 4160, '병가': 4161, '깜박': 4162, '나나': 4163, '진도': 4164, '실태': 4165, '창문': 4166, '살맛': 4167, '독신': 4168, '고사하고': 4169, '닥치다': 4170, '규모': 4171, '안중': 4172, '무례하다': 4173, '중개인': 4174, '대뜸': 4175, '취한': 4176, '키스': 4177, '어딘가': 4178, '촌스럽다': 4179, '공식': 4180, '일지': 4181, '반납': 4182, '양다리': 4183, '앞서': 4184, '운전면허': 4185, '이래도': 4186, '만두': 4187, '가정부': 4188, '정거장': 4189, '홍수': 4190, '말문': 4191, '숱': 4192, '힘없다': 4193, '죽이다': 4194, '위선': 4195, '소릴': 4196, '설득': 4197, '경영': 4198, '래야': 4199, '관리자': 4200, '주거': 4201, '이래서': 4202, '크기': 4203, '모금': 4204, '일기': 4205, '계곡': 4206, '온화하다': 4207, '움큼': 4208, '정반대': 4209, '또다시': 4210, '폐결핵': 4211, '썩다': 4212, '중심': 4213, '딱지': 4214, '순식간': 4215, '모욕감': 4216, '녀': 4217, '잡일': 4218, '기존': 4219, '휴지': 4220, '피피티': 4221, '연구': 4222, '주제가': 4223, '대학가': 4224, '닫히다': 4225, '연휴': 4226, '짠하다': 4227, '근사하다': 4228, '어기다': 4229, '보내오다': 4230, '타령': 4231, '의하다': 4232, '재개발': 4233, '그릇': 4234, '반의': 4235, '한의원': 4236, '주의자': 4237, '입맛': 4238, '거꾸로': 4239, '아름답다': 4240, '만료': 4241, '각오': 4242, '구한': 4243, '아이고': 4244, '보신': 4245, '부축': 4246, '덤벼': 4247, '구십': 4248, '옥상': 4249, '정신건강': 4250, '트렸': 4251, '내조': 4252, '찍기': 4253, '완료': 4254, '가시': 4255, '춤': 4256, '인신공격': 4257, '이도': 4258, '구질구질하다': 4259, '뇌경색': 4260, '그려지다': 4261, '십년': 4262, '햄버거': 4263, '적어지다': 4264, '불치': 4265, '똑똑하다': 4266, '영정': 4267, '설정': 4268, '버럭': 4269, '응급': 4270, '펀드매니저': 4271, '결과물': 4272, '부정맥': 4273, '칸': 4274, '일기장': 4275, '개운하다': 4276, '이주': 4277, '취득': 4278, '잔액': 4279, '아시': 4280, '펼치다': 4281, '수석': 4282, '성인병': 4283, '낙오': 4284, '선언': 4285, '뒷이야기': 4286, '실명': 4287, '어머님께': 4288, '기일': 4289, '꽉': 4290, '추억': 4291, '어쩌다가': 4292, '나라고': 4293, '호들갑': 4294, '정밀': 4295, '대사': 4296, '무능력하다': 4297, '벌어지다': 4298, '신체검사': 4299, '뜬금없이': 4300, '낙심': 4301, '식이요법': 4302, '임산부': 4303, '언쟁': 4304, '만드': 4305, '핵심': 4306, '유쾌하다': 4307, '환불': 4308, '경고': 4309, '무자식': 4310, '트레이너': 4311, '인색하다': 4312, '엄격하다': 4313, '팔리다': 4314, '일급': 4315, '두기': 4316, '강화': 4317, '맴돌다': 4318, '학창시절': 4319, '차고': 4320, '팔지': 4321, '모질다': 4322, '무력하다': 4323, '갑상선': 4324, '역사': 4325, '담그다': 4326, '김치': 4327, '한탄': 4328, '원피스': 4329, '황혼': 4330, '부고': 4331, '샘': 4332, '전기': 4333, '나아': 4334, '그룹': 4335, '성소수자': 4336, '학력': 4337, '지능': 4338, '메뉴': 4339, '족구': 4340, '중국': 4341, '캐나다': 4342, '아홉': 4343, '오가다': 4344, '서슴없이': 4345, '인지도': 4346, '답변': 4347, '멋대로': 4348, '사생활': 4349, '힘내다': 4350, '치이다': 4351, '에어컨': 4352, '틀': 4353, '제품': 4354, '극심하다': 4355, '커녕': 4356, '뒹굴': 4357, '영정사진': 4358, '시설': 4359, '만하': 4360, '고달프다': 4361, '꿀': 4362, '전하': 4363, '높이다': 4364, '서글퍼지다': 4365, '자라': 4366, '프랜차이즈': 4367, '골골': 4368, '이니': 4369, '냉전': 4370, '먹어주다': 4371, '엎어지다': 4372, '납골당': 4373, '부산': 4374, '조깅': 4375, '주년': 4376, '막말': 4377, '경화': 4378, '기획서': 4379, '의논': 4380, '일상생활': 4381, '입사시험': 4382, '손대다': 4383, '양복': 4384, '석류': 4385, '취향': 4386, '씀씀이': 4387, '신입생': 4388, '환영': 4389, '호': 4390, '뇌수술': 4391, '마구': 4392, '음료수': 4393, '고정': 4394, '축제': 4395, '로라': 4396, '오락가락': 4397, '소름': 4398, '억이': 4399, '의치': 4400, '실종': 4401, '해당': 4402, '어처구니없다': 4403, '뺑소니': 4404, '고대': 4405, '비추다': 4406, '헛': 4407, '앞당기다': 4408, '양육비': 4409, '저기': 4410, '행운': 4411, '야호': 4412, '추워지다': 4413, '민폐': 4414, '복습': 4415, '어쩌려': 4416, '캠프': 4417, '보수': 4418, '욱해': 4419, '뚝': 4420, '툴툴거려': 4421, '필름': 4422, '보답': 4423, '뱃속': 4424, '교대': 4425, '혀': 4426, '박람회': 4427, '셋': 4428, '당직': 4429, '악취': 4430, '지장': 4431, '매형': 4432, '숙취': 4433, '실례': 4434, '용': 4435, '되레': 4436, '재력': 4437, '삼수': 4438, '적막하다': 4439, '튼튼하다': 4440, '건의': 4441, '교차': 4442, '되돌리다': 4443, '거짓말쟁이': 4444, '파악': 4445, '젠데': 4446, '발휘': 4447, '본부장': 4448, '산소': 4449, '밭': 4450, '독차지': 4451, '태산': 4452, '살펴보다': 4453, '종이': 4454, '라야': 4455, '가습기': 4456, '웬': 4457, '밥맛': 4458, '찬성': 4459, '공동': 4460, '영심': 4461, '헬스클럽': 4462, '품다': 4463, '위장': 4464, '야뇨증': 4465, '웨딩': 4466, '과로사': 4467, '씹다': 4468, '편입': 4469, '그이': 4470, '안일하다': 4471, '없애다': 4472, '탄탄하다': 4473, '신제품': 4474, '짚다': 4475, '잠자다': 4476, '수많다': 4477, '고령': 4478, '잠수': 4479, '트': 4480, '잇몸': 4481, '재검': 4482, '지망': 4483, '품절': 4484, '공지': 4485, '호르몬': 4486, '시원찮다': 4487, '닦다': 4488, '먹고다': 4489, '수영장': 4490, '할멈': 4491, '오천만': 4492, '선명하다': 4493, '유전병': 4494, '기울이다': 4495, '골목': 4496, '노여움': 4497, '속물': 4498, '행성': 4499, '아쉬움': 4500, '치아': 4501, '어디가': 4502, '특별': 4503, '출전': 4504, '일일': 4505, '에서야': 4506, '시즌': 4507, '거치다': 4508, '연금복권': 4509, '사먹다': 4510, '또한': 4511, '병행': 4512, '무덤': 4513, '사태': 4514, '음식물': 4515, '양치질': 4516, '파산하다': 4517, '안고': 4518, '수험': 4519, '인복': 4520, '탕진': 4521, '신용카드': 4522, '이명': 4523, '박탈': 4524, '연배': 4525, '양로원': 4526, '봄': 4527, '항해': 4528, '채식': 4529, '사도': 4530, '비정상': 4531, '괜스레': 4532, '안전하다': 4533, '죽마고우': 4534, '들려오다': 4535, '던데': 4536, '화병': 4537, '배경': 4538, '쌓이네': 4539, '두둑': 4540, '설립': 4541, '악착같이': 4542, '넘어오다': 4543, '하락': 4544, '묘': 4545, '경쟁자': 4546, '빵집': 4547, '만큼의': 4548, '추태': 4549, '생신': 4550, '장기로': 4551, '버느': 4552, '정신없이': 4553, '트로트': 4554, '아침밥': 4555, '대감': 4556, '소설': 4557, '낙서': 4558, '피임': 4559, '재직': 4560, '여럿': 4561, '후기': 4562, '수능시험': 4563, '구분': 4564, '특정': 4565, '따갑다': 4566, '간수치': 4567, '과식': 4568, '점차': 4569, '복지사': 4570, '비대': 4571, '립스틱': 4572, '글': 4573, '보유': 4574, '김씨': 4575, '재단': 4576, '언급': 4577, '우시': 4578, '연고': 4579, '마늘': 4580, '고해': 4581, '수록': 4582, '으로가': 4583, '다양하다': 4584, '도난': 4585, '지우다': 4586, '자격지심': 4587, '반드시': 4588, '종류': 4589, '연세': 4590, '문턱': 4591, '험하다': 4592, '눈시울': 4593, '파견': 4594, '절차': 4595, '승진도': 4596, '시집가다': 4597, '리가': 4598, '까봐': 4599, '구경': 4600, '꼬박': 4601, '암담하다': 4602, '힐': 4603, '엎드리다': 4604, '설마': 4605, '고만': 4606, '넥타이': 4607, '돋보기': 4608, '만취': 4609, '상식': 4610, '원룸': 4611, '돈독하다': 4612, '극구': 4613, '입금': 4614, '고모': 4615, '연도': 4616, '갖은': 4617, '갑작스레': 4618, '고구마': 4619, '대판': 4620, '붙임성': 4621, '비어': 4622, '언론': 4623, '프로포즈': 4624, '회화': 4625, '태블릿': 4626, '고가': 4627, '덩어리': 4628, '높이': 4629, '말동무': 4630, '투기': 4631, '딴': 4632, '확대': 4633, '여부': 4634, '낫질': 4635, '다짐': 4636, '그간': 4637, '진액': 4638, '순산': 4639, '동물': 4640, '항의': 4641, '얼어붙다': 4642, '조각': 4643, '경사': 4644, '맞춤법': 4645, '대응': 4646, '어금니': 4647, '급전': 4648, '낭비하다': 4649, '말고는': 4650, '나날이': 4651, '짧아지다': 4652, '마음속': 4653, '주치의': 4654, '놀란': 4655, '외할머니': 4656, '헤프': 4657, '민원': 4658, '무턱': 4659, '바이러스': 4660, '퍼뜨렸어': 4661, '산모': 4662, '아두': 4663, '영수증': 4664, '타인': 4665, '효자': 4666, '뒷모습': 4667, '일차': 4668, '두근거리다': 4669, '해명': 4670, '툴툴': 4671, '이러니': 4672, '엄두': 4673, '코피': 4674, '둔하다': 4675, '현기증': 4676, '공항': 4677, '구월': 4678, '패스트푸드': 4679, '부끄럼': 4680, '관념': 4681, '전념': 4682, '훈계': 4683, '마중': 4684, '애통하다': 4685, '임시': 4686, '유리': 4687, '교체': 4688, '특강': 4689, '너무도': 4690, '회삿돈': 4691, '횡단보도': 4692, '떠내려가다': 4693, '아픔': 4694, '조바심': 4695, '아낌없이': 4696, '답시고': 4697, '면허': 4698, '자원봉사': 4699, '살길': 4700, '에나': 4701, '속인': 4702, '오래오래': 4703, '나머지': 4704, '웨딩드레스': 4705, '책임감': 4706, '중요성': 4707, '실업': 4708, '질리다': 4709, '변비': 4710, '입지': 4711, '싸늘하다': 4712, '쌓다': 4713, '달리다': 4714, '상반기': 4715, '외상': 4716, '개념': 4717, '섬': 4718, '우유부단하다': 4719, '단점': 4720, '과잉': 4721, '에세이': 4722, '시더': 4723, '튀어나오다': 4724, '꾸리': 4725, '빈손': 4726, '연하': 4727, '구걸': 4728, '하고만': 4729, '꼬리': 4730, '말걸': 4731, '안락사': 4732, '이외': 4733, '심근경색증': 4734, '찜찜하다': 4735, '시원': 4736, '헛산': 4737, '공짜': 4738, '금일': 4739, '내부': 4740, '볼품': 4741, '마킹': 4742, '에서나': 4743, '갖추다': 4744, '치사하다': 4745, '마케팅': 4746, '단계': 4747, '부진': 4748, '건너다': 4749, '완벽': 4750, '왜냐면': 4751, '경영학': 4752, '사진관': 4753, '위치': 4754, '산악': 4755, '지향성': 4756, '늘어지다': 4757, '위독하다': 4758, '몸조리': 4759, '지팡이': 4760, '칼': 4761, '눈물나다': 4762, '주도': 4763, '자부심': 4764, '알파벳': 4765, '깨닫다': 4766, '회의실': 4767, '폰': 4768, '따라오다': 4769, '오만': 4770, '프리랜서': 4771, '쥐구멍': 4772, '코스': 4773, '어긋나다': 4774, '행색': 4775, '기억나다': 4776, '버티고': 4777, '지수': 4778, '기피': 4779, '엑스레이': 4780, '겉모습': 4781, '알아차리다': 4782, '초반': 4783, '아무튼': 4784, '결리다': 4785, '사우나': 4786, '사칭': 4787, '수수료': 4788, '돌이': 4789, '치부': 4790, '쥐': 4791, '기껏': 4792, '보류': 4793, '에너지': 4794, '재수술': 4795, '돌잔치': 4796, '파탄': 4797, '업계': 4798, '두운': 4799, '시행': 4800, '공로': 4801, '삐뚤어지다': 4802, '두르다': 4803, '민첩하다': 4804, '이군': 4805, '전의': 4806, '생일도': 4807, '다그치다': 4808, '매몰': 4809, '주관': 4810, '가뿐하다': 4811, '골인': 4812, '시큰거리다': 4813, '잖다': 4814, '상팔자': 4815, '양수': 4816, '대지': 4817, '슈퍼마켓': 4818, '애기': 4819, '지점': 4820, '서술': 4821, '안지': 4822, '술병': 4823, '에서조차': 4824, '난폭하다': 4825, '원장': 4826, '나약하다': 4827, '촉박하다': 4828, '운동화': 4829, '허우적거리다': 4830, '자리다': 4831, '초년': 4832, '토요일': 4833, '삭제': 4834, '전액': 4835, '감독': 4836, '현': 4837, '덜컥': 4838, '모호하다': 4839, '입양아': 4840, '미납': 4841, '성심': 4842, '성의껏': 4843, '유언': 4844, '이성애자': 4845, '구먼': 4846, '율': 4847, '투덜대다': 4848, '고령자': 4849, '시기하다': 4850, '금도': 4851, '향수': 4852, '따름': 4853, '찜질': 4854, '금식': 4855, '제압': 4856, '장기간': 4857, '채도': 4858, '매수': 4859, '죽지': 4860, '풍': 4861, '웬일': 4862, '여행지': 4863, '학예회': 4864, '도자기': 4865, '정신병': 4866, '비관': 4867, '아들내미': 4868, '진실': 4869, '상조': 4870, '범죄자': 4871, '친화력': 4872, '가누다': 4873, '더럽히다': 4874, '성전환수술': 4875, '미경': 4876, '미용': 4877, '대학입시': 4878, '떤다': 4879, '찾기': 4880, '분통': 4881, '길고양이': 4882, '신용등급': 4883, '여겨지다': 4884, '막무가내': 4885, '모범생': 4886, '가구': 4887, '게다가': 4888, '뱀술': 4889, '매입': 4890, '무대': 4891, '치면': 4892, '한시': 4893, '파업': 4894, '맞선': 4895, '수저': 4896, '플레이': 4897, '고깃집': 4898, '동참': 4899, '독하다': 4900, '계약서': 4901, '진술': 4902, '장마': 4903, '척추': 4904, '달마': 4905, '새내기': 4906, '게시판': 4907, '익명': 4908, '짜증스럽다': 4909, '노인성': 4910, '재정난': 4911, '아려': 4912, '만들어지다': 4913, '분주하다': 4914, '양육': 4915, '의외로': 4916, '야채': 4917, '교묘하다': 4918, '날카롭다': 4919, '신분': 4920, '상승': 4921, '힘겹다': 4922, '윗사람': 4923, '부조': 4924, '얹혀살다': 4925, '회관': 4926, '만끽': 4927, '독단': 4928, '천하태평': 4929, '사이트': 4930, '일요일': 4931, '곱': 4932, '타일러': 4933, '선천': 4934, '빛': 4935, '모진': 4936, '시내': 4937, '연로': 4938, '의학': 4939, '잉여': 4940, '빈약하다': 4941, '늦': 4942, '대도': 4943, '허위': 4944, '검증': 4945, '한창때': 4946, '양반': 4947, '트랜스젠더': 4948, '친자': 4949, '복직': 4950, '가든': 4951, '삭막하다': 4952, '기안': 4953, '질색': 4954, '피크': 4955, '늦추다': 4956, '도서관': 4957, '희생양': 4958, '곧장': 4959, '바이어': 4960, '기재': 4961, '앞가림': 4962, '재수생': 4963, '큰소리치다': 4964, '원통': 4965, '어쩌': 4966, '다달이': 4967, '고개': 4968, '밥값': 4969, '말고도': 4970, '뒤치다꺼리': 4971, '만류': 4972, '목걸이': 4973, '동문': 4974, '얕다': 4975, '아르바이트생': 4976, '달라붙다': 4977, '빙판': 4978, '으로서': 4979, '잉꼬': 4980, '비밀번호': 4981, '웬만하다': 4982, '궁리': 4983, '출세': 4984, '예방주사': 4985, '오시': 4986, '요점': 4987, '패키지': 4988, '라곤': 4989, '가래': 4990, '일어난다': 4991, '눈초리': 4992, '오리엔테이션': 4993, '노화': 4994, '기형': 4995, '돌변': 4996, '취약점': 4997, '패턴': 4998, '고약하다': 4999, '어처구니': 5000, '여덟': 5001, '하얘지다': 5002, '담기다': 5003, '깊이': 5004, '게이': 5005, '훈수': 5006, '팽': 5007, '제만': 5008, '측': 5009, '회피': 5010, '피시방': 5011, '지난날': 5012, '뇌척수막': 5013, '발음': 5014, '전만': 5015, '승급': 5016, '검소': 5017, '주변인': 5018, '붓다': 5019, '수명': 5020, '장점': 5021, '사경': 5022, '헤매다': 5023, '양심': 5024, '본': 5025, '통지서': 5026, '계층': 5027, '어기': 5028, '수단': 5029, '불투명하다': 5030, '사느랗다': 5031, '구심': 5032, '들러붙다': 5033, '인터뷰': 5034, '주번': 5035, '툴툴거렸어': 5036, '풍경': 5037, '이뤄지다': 5038, '내보내다': 5039, '성장': 5040, '썩이다': 5041, '저렴하다': 5042, '형식': 5043, '노숙자': 5044, '맛집': 5045, '알츠하이머': 5046, '지체': 5047, '정착': 5048, '십견': 5049, '염치': 5050, '혈액암': 5051, '우기다': 5052, '심장질환': 5053, '작업복': 5054, '요리사': 5055, '설치다': 5056, '실행': 5057, '이나마': 5058, '단정': 5059, '싱글': 5060, '머뭇거리다': 5061, '에서부터': 5062, '증진': 5063, '전립선': 5064, '우울': 5065, '험악하다': 5066, '입상하다': 5067, '나다니다': 5068, '밖에도': 5069, '올케': 5070, '우려': 5071, '금지': 5072, '협력': 5073, '챙': 5074, '대리점': 5075, '난이': 5076, '철렁': 5077, '칠판': 5078, '부진하다': 5079, '충실하다': 5080, '한국어': 5081, '비웃음': 5082, '단속': 5083, '가중': 5084, '체념하다': 5085, '인문': 5086, '합병': 5087, '태우다': 5088, '계란': 5089, '끊어지다': 5090, '워킹맘': 5091, '병중': 5092, '현황': 5093, '박대': 5094, '살피다': 5095, '무좀': 5096, '말년': 5097, '노부': 5098, '부가': 5099, '필요성': 5100, '부드럽다': 5101, '환상': 5102, '가증': 5103, '장인': 5104, '막대': 5105, '금제': 5106, '착오': 5107, '밤낮없이': 5108, '실무': 5109, '감상': 5110, '분장': 5111, '일박': 5112, '팍팍하다': 5113, '출석': 5114, '실손': 5115, '찍': 5116, '약초': 5117, '사보다': 5118, '인센티브': 5119, '수시로': 5120, '결산': 5121, '서방': 5122, '때우다': 5123, '구멍': 5124, '얇다': 5125, '인재': 5126, '청력': 5127, '불쑥': 5128, '팔자': 5129, '귀지': 5130, '우산': 5131, '빠져나가다': 5132, '뒷받침': 5133, '나인': 5134, '교환': 5135, '백일': 5136, '움': 5137, '변명': 5138, '특기': 5139, '이력': 5140, '덤벙대다': 5141, '어가': 5142, '뛰어가다': 5143, '쭉': 5144, '박사': 5145, '축의금': 5146, '미식': 5147, '타고나다': 5148, '어수선하다': 5149, '석차': 5150, '가하다': 5151, '과체중': 5152, '헐뜯다': 5153, '인적': 5154, '낙인': 5155, '러더': 5156, '어리석다': 5157, '결혼반지': 5158, '처우': 5159, '휴대전화': 5160, '나이라': 5161, '운동회': 5162, '꼴찌': 5163, '산재': 5164, '봉사활동': 5165, '수군대다': 5166, '매니저': 5167, '효도': 5168, '추구': 5169, '김부': 5170, '호통': 5171, '숭숭': 5172, '떨어뜨리다': 5173, '화기': 5174, '헛살': 5175, '꾼': 5176, '결석': 5177, '퉁': 5178, '피아니스트': 5179, '산악회': 5180, '적령': 5181, '에라도': 5182, '상실': 5183, '감흥': 5184, '삐': 5185, '주무르다': 5186, '대인기피증': 5187, '기승': 5188, '접대': 5189, '스치다': 5190, '수련': 5191, '선산': 5192, '울컥': 5193, '적절하다': 5194, '십억': 5195, '번번이': 5196, '산후조리': 5197, '성폭행': 5198, '수감': 5199, '갑상샘': 5200, '공책': 5201, '진땀': 5202, '파손': 5203, '중요': 5204, '음반': 5205, '남용': 5206, '에야': 5207, '세미나': 5208, '간경변': 5209, '대의': 5210, '글씨': 5211, '트릴': 5212, '일정하다': 5213, '수집': 5214, '키도': 5215, '자상하다': 5216, '두드리다': 5217, '환갑잔치': 5218, '초췌하다': 5219, '반성': 5220, '후두': 5221, '염증': 5222, '조상': 5223, '반도': 5224, '도달': 5225, '넓어지다': 5226, '곳곳': 5227, '술김': 5228, '증인': 5229, '팔팔하다': 5230, '기반': 5231, '개학': 5232, '통째': 5233, '엄하': 5234, '버섯': 5235, '체형': 5236, '한턱': 5237, '배제': 5238, '가스': 5239, '둥': 5240, '메': 5241, '본의': 5242, '과학': 5243, '그러니까': 5244, '성품': 5245, '형성': 5246, '구단': 5247, '두드러기': 5248, '무작정': 5249, '번만': 5250, '외톨': 5251, '돋다': 5252, '양쪽': 5253, '만해': 5254, '오르내리다': 5255, '생활고': 5256, '합리': 5257, '감수': 5258, '소꿉친구': 5259, '문의': 5260, '삼십만': 5261, '연체': 5262, '구인': 5263, '그제야': 5264, '서면': 5265, '야속하다': 5266, '식후': 5267, '출산율': 5268, '유통': 5269, '갑질': 5270, '앞당겨지다': 5271, '혈액형': 5272, '감추다': 5273, '행패': 5274, '유복하다': 5275, '흔들다': 5276, '검다': 5277, '사두': 5278, '귀로': 5279, '헛웃음': 5280, '잔인하다': 5281, '다운': 5282, '갓난아기': 5283, '번은': 5284, '설문지': 5285, '회사원': 5286, '신음': 5287, '궤양': 5288, '여가': 5289, '킬로그램': 5290, '추진': 5291, '예감': 5292, '모함': 5293, '화끈': 5294, '전근': 5295, '첫사랑': 5296, '셈': 5297, '앱': 5298, '무안하다': 5299, '비속어': 5300, '혈육': 5301, '피시': 5302, '계발': 5303, '억지': 5304, '섹스': 5305, '쓸데없이': 5306, '쫄쫄': 5307, '삿': 5308, '복학생': 5309, '시가': 5310, '정신병원': 5311, '주정': 5312, '빈자리': 5313, '술잔': 5314, '신부': 5315, '직후': 5316, '대중': 5317, '부녀': 5318, '올려놓다': 5319, '돌연사': 5320, '공금': 5321, '예체능': 5322, '너그럽다': 5323, '다지': 5324, '분리': 5325, '가라앉히다': 5326, '테이블': 5327, '강남': 5328, '반지하': 5329, '신부전': 5330, '적용': 5331, '시점': 5332, '계정': 5333, '위안': 5334, '선호': 5335, '패딩': 5336, '남매': 5337, '공공': 5338, '수평': 5339, '의사소통': 5340, '일어서다': 5341, '비정규직': 5342, '외톨이야': 5343, '진통': 5344, '파트너': 5345, '싱숭생숭하다': 5346, '건축': 5347, '속옷': 5348, '끝내기': 5349, '숙이다': 5350, '투자가': 5351, '알선': 5352, '북받치다': 5353, '일본': 5354, '하굣길': 5355, '쌩쌩하다': 5356, '스럽지': 5357, '행실': 5358, '대립': 5359, '진창': 5360, '덕이': 5361, '아무나': 5362, '여행가': 5363, '명예롭': 5364, '가정사': 5365, '세뱃돈': 5366, '빨다': 5367, '나대다': 5368, '이며': 5369, '약재': 5370, '싱글벙글': 5371, '빠져나오다': 5372, '산골': 5373, '노조': 5374, '도르다': 5375, '묵살': 5376, '별도': 5377, '당기다': 5378, '엎': 5379, '애매하다': 5380, '이랑은': 5381, '고스': 5382, '부풀다': 5383, '옮': 5384, '신가': 5385, '춤추다': 5386, '춥다': 5387, '로비': 5388, '고혈압약': 5389, '복통': 5390, '애사': 5391, '뀌었어': 5392, '동조': 5393, '갈아입다': 5394, '오십만': 5395, '기록': 5396, '우대': 5397, '려': 5398, '귀국': 5399, '직위': 5400, '불경기': 5401, '숫자': 5402, '백신': 5403, '컵라면': 5404, '연기자': 5405, '이마': 5406, '양호': 5407, '월급쟁이': 5408, '흑자': 5409, '좌천': 5410, '지표': 5411, '빌라': 5412, '계좌': 5413, '상환': 5414, '염좌': 5415, '야구장': 5416, '질타': 5417, '사십': 5418, '병인': 5419, '이서': 5420, '명과': 5421, '그저께': 5422, '파리': 5423, '넋': 5424, '스승': 5425, '사진작가': 5426, '물놀이': 5427, '나날': 5428, '살찐': 5429, '둘걸': 5430, '먹듯': 5431, '상대로': 5432, '집들이': 5433, '따끔하다': 5434, '약도': 5435, '지원이': 5436, '부품': 5437, '문구점': 5438, '졸이다': 5439, '증권사': 5440, '낮추다': 5441, '점잖다': 5442, '가해': 5443, '관광': 5444, '운동선수': 5445, '부적': 5446, '빠듯': 5447, '취할': 5448, '곤두박질': 5449, '창작': 5450, '주로': 5451, '조문': 5452, '신물': 5453, '장인어른': 5454, '혈관': 5455, '신호': 5456, '환절기': 5457, '호실': 5458, '허덕이다': 5459, '치솟다': 5460, '변변찮': 5461, '하반신': 5462, '가가': 5463, '가치관': 5464, '바가지': 5465, '왕래': 5466, '용도': 5467, '텅텅': 5468, '자네': 5469, '지진': 5470, '파스': 5471, '할인': 5472, '매너': 5473, '활기차다': 5474, '흔적': 5475, '서운해하다': 5476, '매장': 5477, '한소리': 5478, '팔씨름': 5479, '영화배우': 5480, '제사': 5481, '제법': 5482, '외딴': 5483, '절단': 5484, '팬': 5485, '악성종양': 5486, '소속': 5487, '열두': 5488, '경제활동': 5489, '숙소': 5490, '일반': 5491, '평화롭다': 5492, '어지르다': 5493, '마저도': 5494, '회식비': 5495, '문학': 5496, '가장이': 5497, '토라': 5498, '사주지': 5499, '캐비닛': 5500, '뒷돈': 5501, '예습': 5502, '면회': 5503, '잘되지': 5504, '어저께': 5505, '놀랍다': 5506, '골프장': 5507, '에스컬레이터': 5508, '곤혹': 5509, '불확실하다': 5510, '참고서': 5511, '일어': 5512, '단호': 5513, '다독이다': 5514, '소수자': 5515, '팔목': 5516, '시청': 5517, '뇌리': 5518, '거뜬하다': 5519, '스': 5520, '치매증': 5521, '청각': 5522, '우물쭈물': 5523, '고비': 5524, '글렀어': 5525, '원만': 5526, '순서': 5527, '띵하다': 5528, '소주': 5529, '세트': 5530, '틱장애': 5531, '임용': 5532, '활짝': 5533, '웃': 5534, '눈뜨다': 5535, '티격태격': 5536, '예방접종': 5537, '증가': 5538, '싹': 5539, '매다': 5540, '사법고시': 5541, '실효': 5542, '살얼음': 5543, '다크서클': 5544, '버냐': 5545, '스트레칭': 5546, '사이클': 5547, '측은하다': 5548, '핑': 5549, '저리': 5550, '냉정하다': 5551, '변심': 5552, '전생': 5553, '마녀사냥': 5554, '최고다': 5555, '상대평가': 5556, '대야': 5557, '어도': 5558, '관문': 5559, '꼴등일': 5560, '변치': 5561, '이메일': 5562, '발송': 5563, '떨떠름하다': 5564, '가정은': 5565, '올림피아드': 5566, '헛되': 5567, '구로': 5568, '최대': 5569, '리모컨': 5570, '작전': 5571, '수지': 5572, '특이하다': 5573, '벌칙': 5574, '현미': 5575, '만행': 5576, '연일': 5577, '일용직': 5578, '장터': 5579, '으쓱': 5580, '부숴': 5581, '싸구려': 5582, '대학교수': 5583, '활기': 5584, '스카이': 5585, '발등': 5586, '급사': 5587, '드물다': 5588, '금수': 5589, '무지': 5590, '홀': 5591, '실물': 5592, '해변': 5593, '피부색': 5594, '지름길': 5595, '예시': 5596, '모유': 5597, '똑바로': 5598, '주책': 5599, '식판': 5600, '새총': 5601, '눈가': 5602, '들들': 5603, '진영': 5604, '한없이': 5605, '숫기': 5606, '대성공': 5607, '꼬치꼬치': 5608, '시말서': 5609, '리포트': 5610, '다소': 5611, '합창': 5612, '둘리': 5613, '특목고': 5614, '층간소음': 5615, '휴게소': 5616, '골탕': 5617, '친언니': 5618, '확률': 5619, '취객': 5620, '육체': 5621, '볶음': 5622, '아비': 5623, '삼백': 5624, '정황': 5625, '재학': 5626, '골프채': 5627, '비겁하다': 5628, '괴팍하다': 5629, '플': 5630, '샌드위치': 5631, '기독교': 5632, '포교': 5633, '근교': 5634, '옹알': 5635, '잡혀가다': 5636, '뀌': 5637, '대머리': 5638, '도장': 5639, '생애': 5640, '부임': 5641, '사하다': 5642, '모범': 5643, '금반지': 5644, '앙상하다': 5645, '양일': 5646, '멎다': 5647, '비꼬다': 5648, '호소': 5649, '상금': 5650, '노출': 5651, '본사': 5652, '중요시': 5653, '오피스텔': 5654, '관리인': 5655, '여한': 5656, '보일러': 5657, '검정': 5658, '소집': 5659, '정수기': 5660, '발주': 5661, '도덕': 5662, '떠밀다': 5663, '하기는': 5664, '법원': 5665, '프로야구': 5666, '수백': 5667, '아랑곳': 5668, '시급하다': 5669, '바라지': 5670, '달팽이관': 5671, '수빈': 5672, '지안': 5673, '명상': 5674, '생존': 5675, '공평하다': 5676, '우승팀': 5677, '등지': 5678, '클레': 5679, '맑다': 5680, '힐끔힐끔': 5681, '뱀': 5682, '옆구리': 5683, '용지': 5684, '기선': 5685, '사내연애': 5686, '스물': 5687, '터뜨리다': 5688, '툴툴거린': 5689, '여유도': 5690, '막심': 5691, '서먹서먹하다': 5692, '거렸더': 5693, '제공': 5694, '감원': 5695, '고용주': 5696, '햇살': 5697, '회수': 5698, '빨': 5699, '로움': 5700, '작업장': 5701, '대로는': 5702, '성전환': 5703, '뜻밖': 5704, '자처': 5705, '삐끗': 5706, '우애': 5707, '일가': 5708, '분기': 5709, '편집장': 5710, '대부': 5711, '엑셀': 5712, '토지': 5713, '도구로': 5714, '뇌사': 5715, '한껏': 5716, '컨설팅': 5717, '흉측하다': 5718, '주연': 5719, '오락': 5720, '혈액': 5721, '손발': 5722, '축축하다': 5723, '토로': 5724, '본받다': 5725, '실버': 5726, '타운': 5727, '빠뜨리다': 5728, '오죽하다': 5729, '정식': 5730, '도주': 5731, '쇠퇴하다': 5732, '마당': 5733, '몰골': 5734, '과묵': 5735, '내뱉다': 5736, '뽐내다': 5737, '옷맵시': 5738, '자반': 5739, '세라': 5740, '딸리다': 5741, '칭얼대다': 5742, '불리다': 5743, '중증': 5744, '개도': 5745, '허구': 5746, '종료': 5747, '출처': 5748, '성분': 5749, '오백': 5750, '평': 5751, '대화방': 5752, '저염식': 5753, '괴물': 5754, '곤경': 5755, '빠트렸어': 5756, '재킷': 5757, '맥': 5758, '더치페이': 5759, '직성': 5760, '강조': 5761, '수술대': 5762, '노심초사': 5763, '번복': 5764, '대우받다': 5765, '시니어': 5766, '안전': 5767, '골짜기': 5768, '사면': 5769, '돈다': 5770, '사후': 5771, '무효': 5772, '해둘걸': 5773, '음란물': 5774, '운영자': 5775, '평화': 5776, '체지방': 5777, '조처': 5778, '대치': 5779, '시피': 5780, '접종': 5781, '발달': 5782, '혐의': 5783, '사납다': 5784, '청년회': 5785, '여물': 5786, '어중간하다': 5787, '들락날락': 5788, '경기도': 5789, '특근': 5790, '근로': 5791, '장학생': 5792, '동고동락': 5793, '학우': 5794, '녹즙': 5795, '시샘': 5796, '용이': 5797, '인기척': 5798, '제보': 5799, '욕먹다': 5800, '지코': 5801, '임원진': 5802, '아인': 5803, '살인': 5804, '프린터': 5805, '출력': 5806, '공로상': 5807, '화면': 5808, '애꿎': 5809, '예절': 5810, '이루': 5811, '도로': 5812, '보조금': 5813, '모회사': 5814, '사연': 5815, '창': 5816, '생선': 5817, '자원': 5818, '온천': 5819, '결핍': 5820, '사직': 5821, '상습': 5822, '엄한데': 5823, '주체': 5824, '도용': 5825, '민지': 5826, '팔십': 5827, '헛된': 5828, '일학년': 5829, '과음': 5830, '순인': 5831, '무릎관절': 5832, '저주': 5833, '사물함': 5834, '아랫사람': 5835, '극진하다': 5836, '붕대': 5837, '척해': 5838, '개천': 5839, '자각': 5840, '지옥': 5841, '할당': 5842, '해마다': 5843, '선선해지다': 5844, '박스': 5845, '교외': 5846, '타격': 5847, '누런': 5848, '비율': 5849, '종': 5850, '쿵쿵': 5851, '골목길': 5852, '갈라지다': 5853, '나물': 5854, '빈곤층': 5855, '멈칫': 5856, '대졸': 5857, '유물': 5858, '짐짝': 5859, '어지럼증': 5860, '지네': 5861, '매진': 5862, '한글': 5863, '깨우치다': 5864, '즘': 5865, '팔다리': 5866, '인큐베이터': 5867, '흡족하다': 5868, '라인': 5869, '생전': 5870, '부적절하다': 5871, '싹싹하다': 5872, '자가': 5873, '사인': 5874, '되돌아보다': 5875, '낙찰': 5876, '한단': 5877, '어눌하다': 5878, '각각': 5879, '나들이': 5880, '안정감': 5881, '사이만': 5882, '한바탕': 5883, '성찬': 5884, '패': 5885, '피부병': 5886, '드러내다': 5887, '꾹': 5888, '빈곤하다': 5889, '이사해': 5890, '신중하다': 5891, '도덕성': 5892, '눈곱': 5893, '만큼도': 5894, '거처': 5895, '헛구역질': 5896, '실업자': 5897, '타깃': 5898, '근육통': 5899, '탑승': 5900, '입술': 5901, '본격': 5902, '쏟아내다': 5903, '총': 5904, '만화책': 5905, '조종사': 5906, '항공': 5907, '반토막': 5908, '자사고': 5909, '어젠': 5910, '외동딸': 5911, '프로도': 5912, '비결': 5913, '원도': 5914, '갈수': 5915, '진솔하다': 5916, '마마': 5917, '왜인': 5918, '놨는': 5919, '입김': 5920, '추악하다': 5921, '알콩달콩': 5922, '댄스': 5923, '고단': 5924, '섣불리': 5925, '슬그머니': 5926, '보건소': 5927, '벌떡': 5928, '지하': 5929, '울음소리': 5930, '사탕': 5931, '가격표': 5932, '창밖': 5933, '동행': 5934, '밴드': 5935, '어마어마하다': 5936, '비로소': 5937, '부추기다': 5938, '쏠리다': 5939, '저녁식사': 5940, '휴게실': 5941, '비명': 5942, '역류성': 5943, '식도염': 5944, '철회': 5945, '병명': 5946, '일절': 5947, '디자이너': 5948, '설날': 5949, '도둑질': 5950, '품질': 5951, '앤': 5952, '현상': 5953, '딱딱하다': 5954, '서프라이즈': 5955, '정규': 5956, '스포츠': 5957, '풍요': 5958, '소방관': 5959, '약과': 5960, '멘토': 5961, '페이': 5962, '부질': 5963, '세대차이': 5964, '정당방위': 5965, '교우': 5966, '일주년': 5967, '우리엄마': 5968, '전화기': 5969, '남루하다': 5970, '실업계': 5971, '중퇴': 5972, '공연': 5973, '스팸': 5974, '쾌적하다': 5975, '랍시고': 5976, '피부염': 5977, '내다보다': 5978, '탁': 5979, '전시': 5980, '지독하다': 5981, '역정': 5982, '가엾다': 5983, '울화통': 5984, '흥이': 5985, '아이폰': 5986, '떡볶이': 5987, '트렌드': 5988, '까지의': 5989, '간지': 5990, '볼걸': 5991, '급작': 5992, '옮을까': 5993, '보나': 5994, '훌쩍': 5995, '고역': 5996, '선약': 5997, '이에요': 5998, '위도': 5999, '히터': 6000, '글자': 6001, '엿': 6002, '차라': 6003, '뒷골목': 6004, '이일': 6005, '궁상맞다': 6006, '반쪽': 6007, '구시대': 6008, '혼인신고': 6009, '격해지다': 6010, '이의': 6011, '예외': 6012, '잡곡': 6013, '분가': 6014, '자격': 6015, '제목': 6016, '게이머': 6017, '허비하다': 6018, '차오르다': 6019, '농사일': 6020, '돌연': 6021, '이용만': 6022, '얼떨떨하다': 6023, '간부': 6024, '자동화': 6025, '여러가지': 6026, '주요': 6027, '조작': 6028, '프로': 6029, '성교육': 6030, '웃기': 6031, '이해력': 6032, '교장': 6033, '친밀하다': 6034, '고갈': 6035, '넘어뜨리다': 6036, '찬밥': 6037, '집요하다': 6038, '침묵': 6039, '흙': 6040, '대학원생': 6041, '초래': 6042, '레스토랑': 6043, '인테리어': 6044, '짖다': 6045, '튀다': 6046, '규제': 6047, '편일': 6048, '친근하다': 6049, '용법': 6050, '구타': 6051, '금메달': 6052, '응모': 6053, '구제': 6054, '불능': 6055, '큰아버지': 6056, '일치': 6057, '이장님': 6058, '왕성': 6059, '질서': 6060, '개봉': 6061, '입찰': 6062, '한강': 6063, '이득': 6064, '옷가게': 6065, '두껍다': 6066, '주재': 6067, '이동해': 6068, '주최': 6069, '내달': 6070, '어지러움': 6071, '모조리': 6072, '화상': 6073, '놨어': 6074, '화난': 6075, '캠퍼스': 6076, '응': 6077, '위조': 6078, '나돌다': 6079, '일곱': 6080, '고삼': 6081, '봉양': 6082, '줄줄이': 6083, '장모': 6084, '월말': 6085, '죗값': 6086, '가주': 6087, '태희': 6088, '천재': 6089, '코웃음': 6090, '엄': 6091, '목욕': 6092, '헤드헌터': 6093, '논리': 6094, '애애': 6095, '조울증': 6096, '연명': 6097, '단독': 6098, '걸레': 6099, '베이비': 6100, '뛰어오다': 6101, '어째': 6102, '의존': 6103, '공과': 6104, '옆방': 6105, '갈비': 6106, '헤어': 6107, '부여': 6108, '배역': 6109, '환호': 6110, '쫄딱': 6111, '맨': 6112, '자매': 6113, '사시': 6114, '만만': 6115, '지소': 6116, '커뮤니티': 6117, '옥': 6118, '평상시': 6119, '소금': 6120, '빅히트': 6121, '방탄': 6122, '소년단': 6123, '투명': 6124, '지정': 6125, '와이셔츠': 6126, '서슴지': 6127, '칠하다': 6128, '짓궂다': 6129, '서기': 6130, '연주': 6131, '야자': 6132, '메꿀': 6133, '굴지': 6134, '마찬가지': 6135, '다수': 6136, '경품': 6137, '불완전': 6138, '쌈짓돈': 6139, '뛰어놀다': 6140, '치수': 6141, '달랑': 6142, '발리': 6143, '여보': 6144, '선생': 6145, '얌전하다': 6146, '자립하다': 6147, '여건': 6148, '미숙': 6149, '덧': 6150, '근래': 6151, '새삼': 6152, '누더기': 6153, '격식': 6154, '주인공': 6155, '인구': 6156, '첫인상': 6157, '개미': 6158, '남고': 6159, '코치': 6160, '이빨': 6161, '해나': 6162, '분란': 6163, '유동': 6164, '해달': 6165, '소매치기': 6166, '까칠하다': 6167, '굳기': 6168, '파토': 6169, '오신': 6170, '이차': 6171, '발걸음': 6172, '밝아지다': 6173, '사고방식': 6174, '말벗': 6175, '경영인': 6176, '별걱정': 6177, '신선하다': 6178, '꽂다': 6179, '효능': 6180, '재산세': 6181, '먼지': 6182, '민감하다': 6183, '마르고': 6184, '대면': 6185, '블로그': 6186, '참신하다': 6187, '플러스': 6188, '더위': 6189, '물속': 6190, '향후': 6191, '끈질기다': 6192, '공황장애': 6193, '늘그막': 6194, '거액': 6195, '꺼지다': 6196, '재작년': 6197, '식도암': 6198, '꾀다': 6199, '부패': 6200, '고기만': 6201, '쪼들리다': 6202, '당해': 6203, '얽매': 6204, '음악가': 6205, '면역': 6206, '사주면': 6207, '허벅지': 6208, '뜨개질': 6209, '일억이': 6210, '털': 6211, '앞장서다': 6212, '인물': 6213, '오피스': 6214, '소아마비': 6215, '쩔뚝': 6216, '부풀리다': 6217, '가득': 6218, '활용': 6219, '문중': 6220, '제기': 6221, '일거수일투족': 6222, '관람': 6223, '시급': 6224, '불이익': 6225, '아웃': 6226, '시리다': 6227, '쏠쏠하다': 6228, '아우': 6229, '코골': 6230, '운용': 6231, '부하라': 6232, '및': 6233, '팔찌': 6234, '착용': 6235, '수만': 6236, '열사': 6237, '인감도장': 6238, '화환': 6239, '감사패': 6240, '캄캄해지다': 6241, '실천': 6242, '운동복': 6243, '답지': 6244, '곱다': 6245, '분투': 6246, '공통': 6247, '장담': 6248, '상향': 6249, '미심': 6250, '쩍': 6251, '시원섭섭하다': 6252, '강인하다': 6253, '명인': 6254, '공백기': 6255, '단풍': 6256, '영웅': 6257, '감돌다': 6258, '사나워지다': 6259, '조로': 6260, '졸리다': 6261, '청소부': 6262, '끙끙대다': 6263, '누리다': 6264, '소속사': 6265, '셋째': 6266, '마려워': 6267, '정전': 6268, '소화도': 6269, '즐거움': 6270, '위장병': 6271, '얼': 6272, '술값': 6273, '폐경기': 6274, '혼전': 6275, '년차': 6276, '무서움': 6277, '의무': 6278, '댓글': 6279, '조짐': 6280, '따오다': 6281, '방광암': 6282, '제아': 6283, '빵점': 6284, '자판기': 6285, '잠자리': 6286, '빠져들다': 6287, '네로': 6288, '세운': 6289, '협조': 6290, '랄': 6291, '손재주': 6292, '무식하다': 6293, '전원': 6294, '우쭐대다': 6295, '속지': 6296, '드레스': 6297, '이래저래': 6298, '자율': 6299, '엇': 6300, '성의': 6301, '발가락': 6302, '궁': 6303, '습득': 6304, '한국말': 6305, '피자': 6306, '곤욕': 6307, '하루빨리': 6308, '해둘': 6309, '앞길': 6310, '전교생': 6311, '자연스럽다': 6312, '찌들다': 6313, '수용': 6314, '저절로': 6315, '피라미드': 6316, '유입': 6317, '복장': 6318, '에서까지': 6319, '팔짱': 6320, '궁핍하다': 6321, '히스테리': 6322, '페이퍼': 6323, '단지': 6324, '대외': 6325, '명퇴': 6326, '협회': 6327, '연결': 6328, '실속': 6329, '미영': 6330, '이바지': 6331, '밀가루': 6332, '오늘내일': 6333, '잊혀지다': 6334, '사래': 6335, '아비규환': 6336, '재롱': 6337, '장애인': 6338, '푼돈': 6339, '공단': 6340, '호언': 6341, '담하다': 6342, '냉담하다': 6343, '가족사진': 6344, '비직': 6345, '고함': 6346, '생일상': 6347, '표창장': 6348, '봉사자': 6349, '동일하다': 6350, '떼이다': 6351, '상습범': 6352, '물리': 6353, '솔로인': 6354, '심술': 6355, '헤치다': 6356, '잡무': 6357, '모멸': 6358, '정형외과': 6359, '통합': 6360, '식비': 6361, '석사': 6362, '녹초': 6363, '지퍼': 6364, '진저리': 6365, '초음파': 6366, '사전': 6367, '가만': 6368, '시신': 6369, '견': 6370, '계시': 6371, '설교': 6372, '붙들다': 6373, '근소': 6374, '생으로': 6375, '여자아이': 6376, '정해진': 6377, '등진': 6378, '승소': 6379, '홍보': 6380, '임대료': 6381, '인사말': 6382, '틀어놓다': 6383, '명목': 6384, '처녀': 6385, '경제권': 6386, '달걀': 6387, '컵': 6388, '관심사': 6389, '편협': 6390, '탈퇴': 6391, '판사': 6392, '막차': 6393, '고려': 6394, '두근두근': 6395, '왕': 6396, '시금': 6397, '소서': 6398, '잠기다': 6399, '불참': 6400, '커리어': 6401, '위생': 6402, '전무': 6403, '일터': 6404, '포토샵': 6405, '복사기': 6406, '약혼': 6407, '전선': 6408, '뛰어들다': 6409, '현수막': 6410, '그중': 6411, '한구석': 6412, '용종': 6413, '생소하다': 6414, '천성': 6415, '약관': 6416, '리도': 6417, '산만하다': 6418, '편안함': 6419, '익사': 6420, '노예': 6421, '금주': 6422, '피나': 6423, '무얼': 6424, '국물': 6425, '뷔페': 6426, '중이염': 6427, '위주': 6428, '어린이집': 6429, '풍기다': 6430, '공직': 6431, '약혼자': 6432, '탁하다': 6433, '장치': 6434, '갈구다': 6435, '매매': 6436, '개수': 6437, '비뇨기': 6438, '무지하다': 6439, '태권도': 6440, '우스꽝스럽다': 6441, '벌벌': 6442, '막연하다': 6443, '삼백만': 6444, '집세': 6445, '주차장': 6446, '점도': 6447, '유': 6448, '행위': 6449, '자금난': 6450, '현관문': 6451, '진통제': 6452, '발병': 6453, '균': 6454, '아찔하다': 6455, '공문': 6456, '내후년': 6457, '실현': 6458, '폴더': 6459, '주스': 6460, '낮잠': 6461, '독박': 6462, '징징대다': 6463, '김장': 6464, '찾아다니다': 6465, '뎌': 6466, '환경미화원': 6467, '내정자': 6468, '왼쪽': 6469, '러닝머신': 6470, '맞은편': 6471, '오로지': 6472, '독자': 6473, '한일': 6474, '계열': 6475, '까마득하다': 6476, '박살': 6477, '문고': 6478, '소지품': 6479, '경쟁률': 6480, '캐스팅': 6481, '수건': 6482, '노산': 6483, '협업': 6484, '무전': 6485, '노랗다': 6486, '가물가물': 6487, '최씨': 6488, '올린다': 6489, '주무시다': 6490, '가정불화': 6491, '패션': 6492, '자질': 6493, '메뚜기': 6494, '사흘': 6495, '붙이': 6496, '에어로빅': 6497, '왈칵': 6498, '덤덤하다': 6499, '스크린': 6500, '열기': 6501, '심리상담': 6502, '욕실': 6503, '현명하다': 6504, '재건축': 6505, '사모님': 6506, '친분': 6507, '필': 6508, '범': 6509, '하차': 6510, '혈당량': 6511, '퍼뜨려': 6512, '들먹이다': 6513, '수나': 6514, '삼겹살': 6515, '하향': 6516, '안기다': 6517, '숙연': 6518, '축농증': 6519, '간밤': 6520, '덩이': 6521, '자해': 6522, '움직임': 6523, '두텁다': 6524, '생생하다': 6525, '구성': 6526, '짝짝이': 6527, '못지않다': 6528, '통계': 6529, '해오': 6530, '우연이': 6531, '신지': 6532, '도울': 6533, '결항': 6534, '확산': 6535, '특성': 6536, '칠십이': 6537, '맹세코': 6538, '무직': 6539, '절': 6540, '가차': 6541, '따위': 6542, '성대': 6543, '혹사': 6544, '시큰둥하다': 6545, '다음주': 6546, '흩어지다': 6547, '곰팡이': 6548, '타입': 6549, '금산사': 6550, '도태': 6551, '세고': 6552, '즉석식품': 6553, '엇갈리다': 6554, '아프리카': 6555, '인형': 6556, '고아원': 6557, '오래간만': 6558, '콜센터': 6559, '근무시간': 6560, '고심': 6561, '사비': 6562, '줄넘기': 6563, '으름장': 6564, '건조하다': 6565, '생리대': 6566, '외투': 6567, '여지': 6568, '건전지': 6569, '파': 6570, '액정': 6571, '신종': 6572, '잘나오다': 6573, '합류': 6574, '시집살이': 6575, '과장하다': 6576, '사방': 6577, '기원': 6578, '가져다주다': 6579, '피지': 6580, '부정행위': 6581, '민수': 6582, '당번': 6583, '한문': 6584, '흉터': 6585, '환승': 6586, '다솜': 6587, '굴': 6588, '여윳돈': 6589, '욱하': 6590, '한층': 6591, '고자질': 6592, '땡볕': 6593, '튀어': 6594, '치인': 6595, '사체': 6596, '작정': 6597, '남녀': 6598, '부실하다': 6599, '내장': 6600, '달이다': 6601, '밤중': 6602, '오류로': 6603, '윗몸일으키기': 6604, '패가망신': 6605, '맛보다': 6606, '쪼잔하': 6607, '헛디디다': 6608, '호강': 6609, '중천': 6610, '밥상머리': 6611, '엎었': 6612, '왕인': 6613, '하녀': 6614, '발끝': 6615, '연골': 6616, '물질': 6617, '차기': 6618, '켜': 6619, '전문성': 6620, '독일': 6621, '유연하다': 6622, '대상포진': 6623, '저택': 6624, '관계없이': 6625, '여사': 6626, '유서': 6627, '등반': 6628, '무관심': 6629, '남친': 6630, '로써': 6631, '하직': 6632, '우정': 6633, '세탁': 6634, '상심': 6635, '날인': 6636, '법률': 6637, '치명': 6638, '적립': 6639, '타오': 6640, '정액': 6641, '발버둥': 6642, '유형': 6643, '해먹': 6644, '옥자': 6645, '쩝쩝': 6646, '팔로': 6647, '일수록': 6648, '나아가다': 6649, '적어도': 6650, '명성': 6651, '혜인': 6652, '필요없다': 6653, '목발': 6654, '폭탄': 6655, '정돈': 6656, '자락': 6657, '변덕': 6658, '지사': 6659, '호출': 6660, '구실': 6661, '강박': 6662, '발표회': 6663, '깨뜨리다': 6664, '눈병': 6665, '남부럽다': 6666, '멀뚱하다': 6667, '오천': 6668, '부러': 6669, '무리다': 6670, '모발': 6671, '속도위반': 6672, '개교': 6673, '보육원': 6674, '반기': 6675, '비치다': 6676, '멤버': 6677, '배탈': 6678, '비운': 6679, '일부분': 6680, '밥풀': 6681, '내려앉다': 6682, '날카로워지다': 6683, '뒷산': 6684, '하란': 6685, '조리': 6686, '주랑': 6687, '광택': 6688, '청렴': 6689, '이불': 6690, '퍼뜨렸': 6691, '일단': 6692, '백두산': 6693, '침착하다': 6694, '확진': 6695, '그대': 6696, '근거': 6697, '교활하다': 6698, '순진하다': 6699, '아사코': 6700, '별장': 6701, '스럽지도': 6702, '관성': 6703, '스페인': 6704, '사후세계': 6705, '전염': 6706, '데이터': 6707, '친형': 6708, '협착증': 6709, '경미하다': 6710, '별세': 6711, '문책': 6712, '인기투표': 6713, '집단': 6714, '기관': 6715, '음료': 6716, '내력': 6717, '사주': 6718, '입력': 6719, '러시': 6720, '우수': 6721, '관대하다': 6722, '둘러대다': 6723, '평범하다': 6724, '놨는데': 6725, '치욕스럽다': 6726, '깨트렸어': 6727, '삼천만': 6728, '이구나': 6729, '투여': 6730, '퍼뜨린': 6731, '왕년': 6732, '따분하다': 6733, '융통성': 6734, '중매': 6735, '자영': 6736, '소형차': 6737, '잔기침': 6738, '더러워지다': 6739, '전전': 6740, '섣부르다': 6741, '자동': 6742, '경로': 6743, '여운': 6744, '순수하다': 6745, '무게': 6746, '닳다': 6747, '농촌': 6748, '염색': 6749, '애프터': 6750, '울리다': 6751, '아첨': 6752, '순조': 6753, '출시': 6754, '수칙': 6755, '순은': 6756, '난데없이': 6757, '철석': 6758, '뇌혈관': 6759, '열중': 6760, '말끝': 6761, '오만원': 6762, '대기발령': 6763, '랬': 6764, '디지털': 6765, '조율': 6766, '질린다': 6767, '열악하다': 6768, '밭일': 6769, '상종': 6770, '감량': 6771, '스타': 6772, '병환': 6773, '건방지다': 6774, '스킬': 6775, '상주': 6776, '퍼': 6777, '클래스': 6778, '엠알아': 6779, '외적인': 6780, '육십오': 6781, '기지개': 6782, '외할아버지': 6783, '감회': 6784, '꼬락서니': 6785, '자소': 6786, '콩알': 6787, '섭취': 6788, '분량': 6789, '마침': 6790, '소소하다': 6791, '덩': 6792, '구체': 6793, '무마': 6794, '스페인어': 6795, '해롭다': 6796, '토악질': 6797, '무심코': 6798, '생명보험': 6799, '녹용': 6800, '털모자': 6801, '차단': 6802, '사의': 6803, '한가하다': 6804, '과격하다': 6805, '어지간하다': 6806, '갑상선암': 6807, '책임자': 6808, '젖': 6809, '유언비어': 6810, '인식': 6811, '업주': 6812, '유흥': 6813, '운동신경': 6814, '으로나': 6815, '작아지다': 6816, '까맣다': 6817, '고교': 6818, '벌금': 6819, '일꾼': 6820, '마인드': 6821, '떳떳하다': 6822, '딸애': 6823, '불의': 6824, '수포': 6825, '배구': 6826, '꼬르륵': 6827, '카네이션': 6828, '적정': 6829, '애완견': 6830, '둘러싸이다': 6831, '한결같이': 6832, '어버이': 6833, '칠십팔이': 6834, '변동': 6835, '찬스': 6836, '얽히다': 6837, '학연': 6838, '떠돌다': 6839, '적합하다': 6840, '티끌': 6841, '사슴벌레': 6842, '새해': 6843, '케이': 6844, '짜릿하다': 6845, '진동': 6846, '소고기': 6847, '액세서리': 6848, '띄엄띄엄': 6849, '체험학습': 6850, '그런대로': 6851, '산책로': 6852, '휘트니': 6853, '입도': 6854, '클라우드': 6855, '줄어드': 6856, '예술': 6857, '보직변경': 6858, '상이': 6859, '새아버지': 6860, '그치다': 6861, '한자리': 6862, '짊어지': 6863, '따로따로': 6864, '주소': 6865, '앓아눕다': 6866, '우르르': 6867, '참혹하다': 6868, '울상': 6869, '여우': 6870, '유도': 6871, '공황': 6872, '야무지다': 6873, '멋': 6874, '아래층': 6875, '연신': 6876, '털털': 6877, '호프': 6878, '영업정지': 6879, '본대': 6880, '어울림': 6881, '일이구': 6882, '모피': 6883, '매니아': 6884, '쪽팔리다': 6885, '티켓': 6886, '생태계': 6887, '파괴': 6888, '몰아치다': 6889, '신호등': 6890, '스마트': 6891, '올가미': 6892, '점집': 6893, '한주': 6894, '영업직': 6895, '들러리': 6896, '워드': 6897, '중고': 6898, '쓰시': 6899, '친숙하다': 6900, '세력': 6901, '생활기록부': 6902, '어김없이': 6903, '귀감': 6904, '성찰': 6905, '함흥차사': 6906, '뀌어': 6907, '백미': 6908, '사그라지다': 6909, '침울하다': 6910, '능숙하다': 6911, '납입': 6912, '등하굣길': 6913, '틈틈이': 6914, '노환': 6915, '킥': 6916, '보드': 6917, '마침내': 6918, '항심': 6919, '경지': 6920, '이르렀다': 6921, '사택': 6922, '이송': 6923, '강점': 6924, '볕': 6925, '합석': 6926, '반딧불': 6927, '대드': 6928, '자유분방하다': 6929, '여야': 6930, '무자비하다': 6931, '바래다주다': 6932, '게임중독': 6933, '나란하다': 6934, '롤': 6935, '객': 6936, '진즉': 6937, '환장하다': 6938, '나누기': 6939, '송두리째': 6940, '잠잠하다': 6941, '정신장애': 6942, '수유': 6943, '시끌시끌하다': 6944, '입학식': 6945, '수천만': 6946, '치장': 6947, '??': 6948, '뭉클하다': 6949, '몸집': 6950, '주가지수': 6951, '여름방학': 6952, '몽': 6953, '과시': 6954, '그래그래': 6955, '선망': 6956, '플루': 6957, '대표이사': 6958, '위조품': 6959, '관철': 6960, '무감각': 6961, '은행업': 6962, '무도': 6963, '영역': 6964, '모바일': 6965, '독학': 6966, '이정': 6967, '응시': 6968, '압도': 6969, '산불': 6970, '활약': 6971, '징징거리다': 6972, '유용하다': 6973, '날아다니다': 6974, '법석': 6975, '과만': 6976, '손위': 6977, '화이트': 6978, '천년': 6979, '체격': 6980, '재활용': 6981, '수거': 6982, '당사자': 6983, '관여': 6984, '추슬러': 6985, '맑은': 6986, '신자': 6987, '무종교': 6988, '용납': 6989, '완벽주의자': 6990, '머무르다': 6991, '풀어지다': 6992, '옹호': 6993, '머': 6994, '고요함': 6995, '갈아': 6996, '미화': 6997, '장어': 6998, '씻기다': 6999, '굽히다': 7000, '제각각': 7001, '적당': 7002, '솔루션': 7003, '주리': 7004, '경위': 7005, '증원': 7006, '휩싸이다': 7007, '미역': 7008, '완도': 7009, '바꿔치다': 7010, '얼음': 7011, '부득이': 7012, '더군다나': 7013, '오타': 7014, '재산상속': 7015, '수학과': 7016, '울분': 7017, '영양사': 7018, '심화': 7019, '일수': 7020, '삼총사': 7021, '스케이트': 7022, '체결': 7023, '사들이다': 7024, '세방': 7025, '상대편': 7026, '낙상': 7027, '뿌리치다': 7028, '엉': 7029, '성해': 7030, '요로결석': 7031, '헉헉거리다': 7032, '혼담': 7033, '프린트': 7034, '추모': 7035, '바닷가': 7036, '조르지': 7037, '정오': 7038, '일찍이': 7039, '치켜세우다': 7040, '똑': 7041, '작은딸': 7042, '백만원': 7043, '재난': 7044, '탐방': 7045, '취조': 7046, '광주': 7047, '혼잣말': 7048, '여자도': 7049, '푹신하다': 7050, '기필코': 7051, '메우다': 7052, '나오니': 7053, '온돌': 7054, '대패': 7055, '부케': 7056, '중계': 7057, '더구나': 7058, '사량': 7059, '쬐다': 7060, '나마': 7061, '테니스': 7062, '온라인과': 7063, '오프라인': 7064, '나일': 7065, '욱했던': 7066, '어쩐': 7067, '고지': 7068, '아이스크림': 7069, '장일': 7070, '더미': 7071, '꼽아보': 7072, '언어': 7073, '메이커': 7074, '피트니스': 7075, '출판': 7076, '공인': 7077, '중개사': 7078, '중개': 7079, '답례': 7080, '벼슬도': 7081, '빗다': 7082, '사레': 7083, '성전환자': 7084, '정신질환': 7085, '자빠지다': 7086, '물르다': 7087, '세차': 7088, '익': 7089, '거창하다': 7090, '바다로': 7091, '폭풍우': 7092, '순환': 7093, '찌릿찌릿하다': 7094, '헐다': 7095, '배송': 7096, '베개': 7097, '유리하다': 7098, '국가고시': 7099, '안치': 7100, '약수터': 7101, '으슬으슬': 7102, '방사선': 7103, '왕복': 7104, '위함': 7105, '리스크': 7106, '전립선암': 7107, '교정': 7108, '배움터': 7109, '제보자': 7110, '거덜': 7111, '고요하다': 7112, '콘테스트': 7113, '개최': 7114, '서성거리다': 7115, '비축': 7116, '건설업': 7117, '가만있다': 7118, '유무': 7119, '좌석': 7120, '시트': 7121, '지면': 7122, '꿰': 7123, '궂은일': 7124, '층집': 7125, '사랑스럽다': 7126, '세지': 7127, '우등상': 7128, '네일아트': 7129, '루테인': 7130, '서바이벌': 7131, '멘붕': 7132, '상상임신': 7133, '빈틈': 7134, '천사처럼': 7135, '연구실': 7136, '벌겋다': 7137, '중책': 7138, '지킴': 7139, '놨겠다': 7140, '형호': 7141, '제하': 7142, '잡지': 7143, '퇴소': 7144, '학': 7145, '처치': 7146, '갈리다': 7147, '넘겨받다': 7148, '한살이': 7149, '킬로': 7150, '질해': 7151, '지방함량': 7152, '편견': 7153, '유니세프': 7154, '이세': 7155, '구년': 7156, '방면': 7157, '이중성': 7158, '마': 7159, '불로소득': 7160, '리다': 7161, '방조': 7162, '아사': 7163, '기침약': 7164, '과학고': 7165, '빼기': 7166, '은연중': 7167, '취업률': 7168, '역대': 7169, '수없이': 7170, '스테이크': 7171, '재해': 7172, '대론': 7173, '골고루': 7174, '국수': 7175, '먹여주다': 7176, '철인': 7177, '령': 7178, '플래카드': 7179, '외딴섬': 7180, '지로': 7181, '위절제술': 7182, '환기': 7183, '배낭여행': 7184, '생일케이크': 7185, '콱': 7186, '명세서': 7187, '전산': 7188, '헛소리': 7189, '으로서는': 7190, '시렁': 7191, '삐쩍': 7192, '소모품': 7193, '매스컴': 7194, '친족': 7195, '상일': 7196, '이사도': 7197, '연세대': 7198, '증권': 7199, '암산': 7200, '띄우다': 7201, '성당': 7202, '위험수위': 7203, '대수': 7204, '파스타': 7205, '알람': 7206, '섬유': 7207, '용접': 7208, '서적': 7209, '툴툴댔더': 7210, '정류장': 7211, '새치기': 7212, '항암제': 7213, '미네': 7214, '권력': 7215, '쳇바퀴': 7216, '다람쥐': 7217, '안위': 7218, '민정': 7219, '돌리지': 7220, '명령': 7221, '의예': 7222, '커피믹스': 7223, '돌발': 7224, '어쩌자': 7225, '잡음': 7226, '라식수술': 7227, '개강': 7228, '꼿꼿하다': 7229, '묵묵': 7230, '낄낄': 7231, '부자간': 7232, '티격태격해': 7233, '빗자루': 7234, '매니지먼트': 7235, '제로': 7236, '시리': 7237, '스카웃': 7238, '주전': 7239, '결함': 7240, '양파': 7241, '타자': 7242, '이로': 7243, '한해': 7244, '차량': 7245, '더욱더': 7246, '택해': 7247, '겁쟁이': 7248, '장의': 7249, '랜덤': 7250, '피기': 7251, '무려': 7252, '예비신부': 7253, '자기계발': 7254, '금고': 7255, '닥달': 7256, '단장': 7257, '기여': 7258, '비틀': 7259, '나진': 7260, '다발': 7261, '유령': 7262, '급락': 7263, '마그네슘': 7264, '슬며시': 7265, '한눈팔다': 7266, '의과대학': 7267, '육군사관학교': 7268, '추기': 7269, '조장': 7270, '리더십': 7271, '앞뒤': 7272, '세균': 7273, '번식': 7274, '옥탑방': 7275, '매니큐어': 7276, '차근차근하다': 7277, '유치장': 7278, '난건': 7279, '치민': 7280, '목적지': 7281, '수출': 7282, '드세지다': 7283, '투찰': 7284, '세포': 7285, '번창': 7286, '선후배': 7287, '관객': 7288, '사백': 7289, '팔십이': 7290, '이상신': 7291, '호가': 7292, '땜': 7293, '어안': 7294, '벙벙하다': 7295, '통역사': 7296, '원활하다': 7297, '묵묵하다': 7298, '베테': 7299, '태평하다': 7300, '투약': 7301, '증여': 7302, '고의': 7303, '장애우': 7304, '질도': 7305, '구순': 7306, '태교': 7307, '일확천금': 7308, '입실': 7309, '사고뭉치': 7310, '쇠약하다': 7311, '억압받다': 7312, '차비': 7313, '자본주의': 7314, '카레': 7315, '윤': 7316, '바퀴벌레': 7317, '흘겨보다': 7318, '반신': 7319, '움츠리다': 7320, '사이비': 7321, '오목': 7322, '욕구': 7323, '요추': 7324, '협착': 7325, '오백만원': 7326, '다한': 7327, '변성기': 7328, '유기농': 7329, '곡물': 7330, '검색': 7331, '꿀꿀하다': 7332, '짓궃': 7333, '이자율': 7334, '대니': 7335, '기둥': 7336, '저장': 7337, '부둥켜안다': 7338, '증명사진': 7339, '?.': 7340, '쇼': 7341, '윈도': 7342, '일삼': 7343, '원가': 7344, '재건': 7345, '잔소릴': 7346, '꼬마': 7347, '핼쑥': 7348, '해지니': 7349, '체지방률': 7350, '3년': 7351, '뻘쭘해': 7352, '빈둥대던': 7353, '불장난': 7354, '권투': 7355, '래미': 7356, '하룻밤': 7357, '심성': 7358, '부터가': 7359, '군상': 7360, '정나미': 7361, '전업': 7362, '흥미롭다': 7363, '청결': 7364, '감사히': 7365, '치주염': 7366, '판단력': 7367, '냉소': 7368, '본능': 7369, '천장': 7370, '자칫': 7371, '엎었어': 7372, '어우': 7373, '안식처': 7374, '비대증': 7375, '회서': 7376, '개고기': 7377, '들보': 7378, '환호성': 7379, '합심': 7380, '처절하다': 7381, '이맘때': 7382, '혈중': 7383, '시라': 7384, '자기개발': 7385, '가부장': 7386, '통제': 7387, '가르침': 7388, '백팔이': 7389, '뽀삐': 7390, '견주': 7391, '쌍방': 7392, '귓속말': 7393, '삼십육': 7394, '앞서서': 7395, '재활용품': 7396, '독수공방': 7397, '원천': 7398, '교통비': 7399, '삭히다': 7400, '전교꼴등': 7401, '짤렸어': 7402, '약혼녀': 7403, '하얗다': 7404, '몰두하다': 7405, '생필품': 7406, '오른쪽': 7407, '비문증': 7408, '가불': 7409, '혼사': 7410, '십수': 7411, '반등': 7412, '맞대다': 7413, '당신': 7414, '순직': 7415, '전신': 7416, '수로': 7417, '복무': 7418, '진도면': 7419, '더치': 7420, '가로등': 7421, '가정법원': 7422, '괴리감': 7423, '대피': 7424, '고스톱': 7425, '학자금대출': 7426, '발짝': 7427, '정리정돈': 7428, '사례금': 7429, '수락': 7430, '어나': 7431, '풋살': 7432, '이드': 7433, '판촉': 7434, '차출': 7435, '숙면': 7436, '코드': 7437, '아파해': 7438, '꺼림칙하다': 7439, '국채': 7440, '시전': 7441, '창자': 7442, '어린이': 7443, '편의': 7444, '어그러지다': 7445, '곽': 7446, '까닥': 7447, '카풀': 7448, '보안': 7449, '영진': 7450, '해석': 7451, '문전': 7452, '깨나': 7453, '귀중하다': 7454, '콜로라도주': 7455, '자연스레': 7456, '입학시험': 7457, '발톱': 7458, '장년': 7459, '사교육': 7460, '조례': 7461, '밑바닥': 7462, '천원': 7463, '가군': 7464, '남남': 7465, '강압': 7466, '콜록콜록': 7467, '재물': 7468, '학폭': 7469, '맞서다': 7470, '난방': 7471, '억대': 7472, '다양해지다': 7473, '까탈': 7474, '최소': 7475, '덜하다': 7476, '밑었던': 7477, '파란': 7478, '대문': 7479, '조이다': 7480, '가품': 7481, '옥살이': 7482, '체제': 7483, '돌입': 7484, '돌려막기': 7485, '기성세대': 7486, '곰곰': 7487, '행각': 7488, '인격': 7489, '동물원': 7490, '침해': 7491, '후룸라이드': 7492, '오르락내리락': 7493, '파격': 7494, '얻어맞다': 7495, '낙태': 7496, '근절': 7497, '끌어내리다': 7498, '솟구치다': 7499, '물정': 7500, '네이버': 7501, '크릴': 7502, '오일': 7503, '중금속': 7504, '안하무인': 7505, '해고자': 7506, '학회': 7507, '도련님': 7508, '거더': 7509, '몸뚱어리': 7510, '개방': 7511, '얹히다': 7512, '고산': 7513, '지대': 7514, '병적': 7515, '최상': 7516, '은혜': 7517, '먹구름': 7518, '화창하다': 7519, '조폭': 7520, '팔도': 7521, '주야장천': 7522, '영화관': 7523, '들여놓다': 7524, '녹차': 7525, '차사': 7526, '꼰대': 7527, '처방전': 7528, '퇴로': 7529, '꺾다': 7530, '핸드백': 7531, '예치': 7532, '동성애': 7533, '위스키': 7534, '기와': 7535, '환우': 7536, '난장판': 7537, '해킹': 7538, '약용식물': 7539, '난이도': 7540, '기금': 7541, '원기준': 7542, '분할': 7543, '건재': 7544, '남한': 7545, '하청': 7546, '중점': 7547, '난후': 7548, '관둘': 7549, '멍하니': 7550, '욕구불만': 7551, '문헌정보': 7552, '아보': 7553, '종합병원': 7554, '수위': 7555, '헛딛는': 7556, '월간지': 7557, '산걸': 7558, '전동': 7559, '올림픽': 7560, '로되': 7561, '대만': 7562, '혈기': 7563, '몸뚱아리': 7564, '도사': 7565, '이러하다': 7566, '외양': 7567, '따내다': 7568, '껍데기': 7569, '며늘': 7570, '겨울철': 7571, '신경증': 7572, '비중': 7573, '경직': 7574, '만큼이나': 7575, '일손': 7576, '괄시': 7577, '미천하다': 7578, '막냇동생': 7579, '익다': 7580, '열한': 7581, '제약회사': 7582, '공중화장실': 7583, '뚜껑': 7584, '아이템': 7585, '장례비용': 7586, '고래': 7587, '새우등': 7588, '도리': 7589, '토박이': 7590, '애정도': 7591, '염두': 7592, '출근시간': 7593, '불성': 7594, '더라도': 7595, '백오십': 7596, '휴무': 7597, '물병': 7598, '는가': 7599, '평안하다': 7600, '셰계': 7601, '폐병': 7602, '영지': 7603, '상철': 7604, '영점': 7605, '음감': 7606, '조그마하다': 7607, '처자': 7608, '반도체': 7609, '행세': 7610, '산물': 7611, '붐': 7612, '미투': 7613, '인수합병': 7614, '박수': 7615, '줏대': 7616, '바르게': 7617, '정심': 7618, '안건': 7619, '잔반': 7620, '축소': 7621, '코코아': 7622, '음미': 7623, '연극배우': 7624, '재택': 7625, '특수부대': 7626, '경운기': 7627, '로나': 7628, '더부룩하다': 7629, '들려주다': 7630, '일관': 7631, '작심삼일': 7632, '사철': 7633, '거둬들이다': 7634, '내자': 7635, '뻗다': 7636, '궁색하다': 7637, '제작': 7638, '알아맞히다': 7639, '기역': 7640, '자만': 7641, '설탕': 7642, '충동': 7643, '가죽': 7644, '남일': 7645, '사죄': 7646, '핑곗거리': 7647, '어두우': 7648, '중압감': 7649, '설문조사': 7650, '냉혹하다': 7651, '연달': 7652, '페인트': 7653, '유력': 7654, '유라': 7655, '잔쯕': 7656, '떵떵': 7657, '드러나다': 7658, '오르간': 7659, '주자': 7660, '패거리': 7661, '쫄면': 7662, '신어': 7663, '창립': 7664, '무가': 7665, '배당': 7666, '꿋꿋하다': 7667, '베트남': 7668, '입국': 7669, '송년회': 7670, '날씨예보': 7671, '인파': 7672, '일명': 7673, '창창하다': 7674, '날밤': 7675, '재항암': 7676, '닥치고': 7677, '툴툴거리': 7678, '반신불수': 7679, '젤': 7680, '국비': 7681, '치료법': 7682, '헤드셋': 7683, '콩쿠르': 7684, '거북하다': 7685, '결코': 7686, '학용품': 7687, '황천': 7688, '컨설턴트': 7689, '용의자': 7690, '설렁설렁': 7691, '자자하다': 7692, '진탕': 7693, '목격자': 7694, '곯다': 7695, '냉랭하다': 7696, '티나': 7697, '명함': 7698, '덕담': 7699, '수요일': 7700, '치근덕거리다': 7701, '농구': 7702, '조직개편': 7703, '신생': 7704, '대각선': 7705, '가줄': 7706, '동락': 7707, '빈칸': 7708, '목구멍': 7709, '수치심': 7710, '버럭대다': 7711, '지칭': 7712, '용어': 7713, '고수': 7714, '금세': 7715, '유리창': 7716, '칫솔': 7717, '에게서도': 7718, '생겨나다': 7719, '깜짝깜짝': 7720, '나로': 7721, '취했다': 7722, '지민': 7723, '한눈': 7724, '불완전하다': 7725, '가꾸다': 7726, '일주': 7727, '식상하다': 7728, '놨더': 7729, '백팔십팔': 7730, '센티미터': 7731, '강인': 7732, '페이스': 7733, '예견': 7734, '유튜버로': 7735, '악플': 7736, '이기심': 7737, '충만': 7738, '부로': 7739, '공포증': 7740, '감안': 7741, '면제': 7742, '취준생': 7743, '총괄': 7744, '구성원': 7745, '일억만': 7746, '하와이': 7747, '엄연하다': 7748, '유골': 7749, '소실': 7750, '차키': 7751, '머쓱하다': 7752, '방출': 7753, '보탬': 7754, '여름날': 7755, '십여': 7756, '스톡옵션': 7757, '우러러': 7758, '괴로움': 7759, '장마철': 7760, '장대': 7761, '전교회장': 7762, '전가': 7763, '습도': 7764, '순대': 7765, '명예훼손': 7766, '탑골': 7767, '한판': 7768, '가족계획': 7769, '에까지': 7770, '짱': 7771, '웅덩이': 7772, '곤충': 7773, '숨찬': 7774, '등등': 7775, '애틋하다': 7776, '갈팡질팡': 7777, '굴레': 7778, '승률': 7779, '막둥': 7780, '눈길': 7781, '예사롭다': 7782, '전자레인지': 7783, '관련성': 7784, '국제': 7785, '재결합': 7786, '생물학자': 7787, '만병통치약': 7788, '어치': 7789, '들추다': 7790, '알콜': 7791, '스토커': 7792, '오번': 7793, '사족': 7794, '이인삼각': 7795, '대범하다': 7796, '푸대접': 7797, '군무원': 7798, '표시': 7799, '상도': 7800, '천국': 7801, '알코올중독': 7802, '일일구': 7803, '넌': 7804, '감상문': 7805, '보미': 7806, '아웃백': 7807, '경희대': 7808, '이심': 7809, '걷히다': 7810, '확답': 7811, '담담하다': 7812, '소규모': 7813, '동창생': 7814, '도래': 7815, '수완': 7816, '초소': 7817, '카메라': 7818, '년전': 7819, '고하': 7820, '술버릇': 7821, '늘씬하다': 7822, '집안사람': 7823, '영화제': 7824, '영향력': 7825, '피곤': 7826, '토론': 7827, '새하얘지다': 7828, '차원': 7829, '보상금': 7830, '수립': 7831, '벤처기업': 7832, '신변': 7833, '해몽': 7834, '알림': 7835, '봉지': 7836, '귀하다': 7837, '냉면': 7838, '어리광': 7839, '노궁': 7840, '전조': 7841, '유흥주점': 7842, '급증': 7843, '적격하다': 7844, '부금': 7845, '도입': 7846, '고학력자': 7847, '애달프다': 7848, '유치': 7849, '에프': 7850, '눈독': 7851, '미션': 7852, '무언': 7853, '배분': 7854, '가스레인지': 7855, '끈': 7856, '민철': 7857, '착착': 7858, '화제': 7859, '건다': 7860, '다이아': 7861, '글짓기': 7862, '자궁암': 7863, '목록': 7864, '보도자료': 7865, '가운데': 7866, '홍': 7867, '머릿결': 7868, '심신': 7869, '선보다': 7870, '쇠': 7871, '대거': 7872, '반수': 7873, '항적': 7874, '제라': 7875, '망정': 7876, '멱살': 7877, '평수': 7878, '고모부': 7879, '티격태격하': 7880, '시체': 7881, '오묘하다': 7882, '사유': 7883, '명시': 7884, '목사': 7885, '설경': 7886, '산행': 7887, '래서야': 7888, '에게나': 7889, '부녀회': 7890, '맛탕': 7891, '이뿌다': 7892, '차안': 7893, '말벌': 7894, '레인': 7895, '홍콩': 7896, '청소기': 7897, '귓등': 7898, '머리띠': 7899, '에게로': 7900, '컨닝': 7901, '중재': 7902, '부들부들': 7903, '백조': 7904, '식충이': 7905, '재수없다': 7906, '반면': 7907, '납작하다': 7908, '도질': 7909, '수강': 7910, '췌장': 7911, '보육': 7912, '바람직하다': 7913, '미터': 7914, '쾅': 7915, '리스': 7916, '여드름': 7917, '합동': 7918, '얼렁뚱땅': 7919, '무역': 7920, '물회': 7921, '미세하다': 7922, '전남편': 7923, '거역': 7924, '비롯': 7925, '일본어': 7926, '세제': 7927, '갈망': 7928, '행시': 7929, '펜션': 7930, '만족감': 7931, '육류': 7932, '법안': 7933, '샤프': 7934, '얼버무리다': 7935, '알츠하이머병': 7936, '독점': 7937, '장차': 7938, '유망': 7939, '맹장': 7940, '부간': 7941, '비법': 7942, '에피소드': 7943, '전립선비대증': 7944, '경제학자': 7945, '크루즈': 7946, '유방': 7947, '바비큐': 7948, '텃새': 7949, '공업고등학교': 7950, '올려다보다': 7951, '박하': 7952, '이복': 7953, '선천성': 7954, '황새': 7955, '뱁새': 7956, '못버는데': 7957, '연대': 7958, '떠보다': 7959, '울렁증': 7960, '수백만': 7961, '총애': 7962, '발레': 7963, '감퇴': 7964, '성형수술': 7965, '승객': 7966, '파마': 7967, '괴씸': 7968, '저하': 7969, '블라인드': 7970, '다문화': 7971, '고지서': 7972, '갈아엎다': 7973, '금실': 7974, '구리다': 7975, '야생': 7976, '대한민국': 7977, '집밖': 7978, '미숙아': 7979, '호기심': 7980, '웅': 7981, '얼다': 7982, '밀도': 7983, '피디': 7984, '조산': 7985, '고시원': 7986, '다녀가다': 7987, '소독': 7988, '철썩': 7989, '막바지': 7990, '한도': 7991, '에서만큼은': 7992, '코트': 7993, '저녁밥': 7994, '동요': 7995, '까막눈': 7996, '보드게임': 7997, '경찰관': 7998, '도모': 7999, '밑천': 8000, '기타': 8001, '표기': 8002, '제자리걸음': 8003, '개입': 8004, '서류철': 8005, '입소': 8006, '뒤척': 8007, '자궁경부암': 8008, '경청': 8009, '억압': 8010, '파도': 8011, '휩쓸다': 8012, '상투': 8013, '어딨다': 8014, '뜻일': 8015, '하나님': 8016, '필리핀': 8017, '두뇌': 8018, '쉬쉬': 8019, '폐기': 8020, '역무': 8021, '콘돔': 8022, '바란': 8023, '지리산': 8024, '다재': 8025, '능': 8026, '다정': 8027, '삼차': 8028, '배움': 8029, '작동': 8030, '담소': 8031, '지도력': 8032, '버킷리스트': 8033, '복합': 8034, '주식시장': 8035, '꼰대들': 8036, '메세지': 8037, '색안경': 8038, '틀림없이': 8039, '맞장구': 8040, '해진': 8041, '집문서': 8042, '발끈': 8043, '살수': 8044, '록': 8045, '다만': 8046, '이해도': 8047, '발길': 8048, '아치': 8049, '터치': 8050, '아니꼽다': 8051, '천직': 8052, '별명': 8053, '찰': 8054, '골병': 8055, '뭐기': 8056, '바람둥이': 8057, '벽돌': 8058, '이끼': 8059, '골도': 8060, '쫓아오다': 8061, '마리': 8062, '뚫어지다': 8063, '육촌': 8064, '한턱내다': 8065, '점장님': 8066, '이겠다': 8067, '수동': 8068, '친철': 8069, '보직': 8070, '방탄소년단': 8071, '강화하다': 8072, '성능': 8073, '대관절': 8074, '상대자': 8075, '오징어': 8076, '고전': 8077, '위원장': 8078, '전전긍긍': 8079, '호기롭': 8080, '공적': 8081, '들고나다': 8082, '불명예': 8083, '갑상샘암': 8084, '영양가': 8085, '안색': 8086, '한고비': 8087, '넷플릭스': 8088, '획득': 8089, '문해': 8090, '스트레': 8091, '조미료': 8092, '잉크': 8093, '베란다': 8094, '가전제품': 8095, '특유': 8096, '마땅': 8097, '비자': 8098, '부인과': 8099, '박씨': 8100, '가동': 8101, '방송사': 8102, '추잡': 8103, '살더': 8104, '악기': 8105, '다혈질': 8106, '바른': 8107, '한적하다': 8108, '가계약': 8109, '성정체성': 8110, '종용': 8111, '주택연금': 8112, '외진': 8113, '포트폴리오': 8114, '좌지우지': 8115, '롯데': 8116, '월드': 8117, '벨': 8118, '연애편지': 8119, '출결': 8120, '첨부': 8121, '초밥': 8122, '마땅치': 8123, '주병': 8124, '정자': 8125, '판별': 8126, '인공수정': 8127, '주입': 8128, '절뚝': 8129, '다큐': 8130, '흐릿해': 8131, '백해무익': 8132, '물난리': 8133, '살살': 8134, '자랑거리': 8135, '찾아내다': 8136, '사안': 8137, '홀어머니': 8138, '가로막다': 8139, '지리다': 8140, '선행': 8141, '려면': 8142, '둥지': 8143, '참새': 8144, '계산서': 8145, '발행': 8146, '잔디': 8147, '돗자리': 8148, '순하다': 8149, '대주': 8150, '산길': 8151, '식약청': 8152, '검문': 8153, '분도': 8154, '앓이': 8155, '절대음감': 8156, '경멸': 8157, '다년': 8158, '유머러스하다': 8159, '넋두리': 8160, '휘청': 8161, '몇번': 8162, '오월': 8163, '영구': 8164, '서예': 8165, '호적': 8166, '취했더': 8167, '뭣': 8168, '뉴저지': 8169, '은행원': 8170, '궂': 8171, '밤사이': 8172, '봉투': 8173, '째째하다': 8174, '텐트': 8175, '삽입': 8176, '앞진': 8177, '죄인': 8178, '격투기': 8179, '구두쇠': 8180, '얼추': 8181, '쇼크': 8182, '깔보다': 8183, '헤르페스': 8184, '유흥업소': 8185, '다그': 8186, '홈': 8187, '트레이닝': 8188, '파선': 8189, '삐걱': 8190, '아나운서': 8191, '호우': 8192, '캠핑카': 8193, '스카프': 8194, '면치': 8195, '관두': 8196, '하원': 8197, '포근하다': 8198, '일원': 8199, '족': 8200, '인솔': 8201, '피부암': 8202, '척척': 8203, '로봇': 8204, '성취': 8205, '혼미하다': 8206, '오래도록': 8207, '연연하다': 8208, '흠': 8209, '불운': 8210, '아이콘': 8211, '봉': 8212, '껄끄러워': 8213, '식기세척기': 8214, '친한친구': 8215, '작당': 8216, '최저임금': 8217, '뛰어다니다': 8218, '돌침대': 8219, '크나크다': 8220, '전략': 8221, '쟁이': 8222, '강원랜드': 8223, '구십이': 8224, '요약': 8225, '마는': 8226, '물불': 8227, '열두시': 8228, '권장': 8229, '어리석음': 8230, '제빵': 8231, '깜깜무소식': 8232, '망언': 8233, '재다': 8234, '삿대질': 8235, '저조하다': 8236, '혁신': 8237, '팔로우': 8238, '투표': 8239, '붙잡히다': 8240, '사실관계': 8241, '거렸': 8242, '무표정': 8243, '유발': 8244, '망태': 8245, '식지': 8246, '방향성': 8247, '업그레이드': 8248, '리스트': 8249, '민낯': 8250, '교습': 8251, '진전': 8252, '모의': 8253, '삼고': 8254, '무인': 8255, '한때': 8256, '공모': 8257, '다나': 8258, '현역': 8259, '소유권': 8260, '으로서의': 8261, '후송': 8262, '성문': 8263, '뉘우치다': 8264, '정원': 8265, '노선': 8266, '구가': 8267, '편파': 8268, '저승사자': 8269, '맹세': 8270, '쟁겨주': 8271, '치유': 8272, '비행청소년': 8273, '상사면': 8274, '지위': 8275, '훨훨': 8276, '사무소': 8277, '갈비뼈': 8278, '브로마이드': 8279, '잇속': 8280, '종말': 8281, '일환': 8282, '웃옷': 8283, '상복': 8284, '긴급하다': 8285, '애원': 8286, '양성애자': 8287, '파마머리': 8288, '소가': 8289, '생명과학': 8290, '사십이': 8291, '중병': 8292, '박동수': 8293, '아역': 8294, '인내심': 8295, '기독교도': 8296, '레고': 8297, '처갓집': 8298, '짓누르다': 8299, '여념': 8300, '화투': 8301, '빡빡': 8302, '지배': 8303, '상장': 8304, '얼싸안다': 8305, '순순하다': 8306, '공백': 8307, '땅문서': 8308, '다세대': 8309, '모니터': 8310, '포옹': 8311, '폭삭': 8312, '행정': 8313, '다시금': 8314, '삔': 8315, '통풍': 8316, '막걸리': 8317, '자네도': 8318, '택할': 8319, '고마움': 8320, '정성스럽다': 8321, '중추': 8322, '신장암': 8323, '무료함': 8324, '개국': 8325, '부끄러움': 8326, '음악회': 8327, '쥐어박다': 8328, '메모': 8329, '애정결핍': 8330, '삼일장': 8331, '안방': 8332, '다라': 8333, '관리직': 8334, '돈대': 8335, '적반하장': 8336, '사과문': 8337, '병균': 8338, '몸싸움': 8339, '표절': 8340, '이인': 8341, '일조': 8342, '널': 8343, '불규칙하다': 8344, '아부해': 8345, '짜장면': 8346, '이석': 8347, '애니메이션': 8348, '만삭': 8349, '카바레': 8350, '땡기다': 8351, '구축': 8352, '로더': 8353, '군기': 8354, '우회': 8355, '통원': 8356, '미세': 8357, '중일': 8358, '으로써': 8359, '간판': 8360, '알라': 8361, '피부관리': 8362, '세척': 8363, '신한': 8364, '나가떨어지다': 8365, '복약': 8366, '부닥치다': 8367, '바람기': 8368, '체면': 8369, '배상금': 8370, '험준하다': 8371, '소름끼치다': 8372, '융통': 8373, '완고하다': 8374, '겁박': 8375, '직렬': 8376, '전세계약': 8377, '중지': 8378, '대적': 8379, '친우': 8380, '밤하늘': 8381, '무관': 8382, '집어넣다': 8383, '결백': 8384, '홀수': 8385, '비거': 8386, '살균제': 8387, '만큼이야': 8388, '점포': 8389, '좌': 8390, '산책길': 8391, '퇴행': 8392, '엎어': 8393, '선입견': 8394, '서질': 8395, '직분': 8396, '심정지': 8397, '이탈': 8398, '우기': 8399, '결판': 8400, '친자검사': 8401, '위약금': 8402, '뻣뻣하다': 8403, '친아빠': 8404, '민해지니': 8405, '줄기세포': 8406, '서점': 8407, '메뉴얼': 8408, '남탕': 8409, '정비': 8410, '차남': 8411, '날아오다': 8412, '목장': 8413, '피티': 8414, '돌부리': 8415, '알차다': 8416, '쭈글쭈글하다': 8417, '헤아리다': 8418, '패싸움': 8419, '주름살': 8420, '말론': 8421, '천하': 8422, '몹쓸': 8423, '밸런스': 8424, '게으름': 8425, '삼계탕': 8426, '하고의': 8427, '횡재': 8428, '교생': 8429, '구애': 8430, '건너편': 8431, '명일': 8432, '민회': 8433, '주민등록': 8434, '오한': 8435, '유명인': 8436, '이른바': 8437, '물밀': 8438, '이상야릇하다': 8439, '순서대로': 8440, '프라푸치노': 8441, '인심': 8442, '월차': 8443, '밤샘': 8444, '직속상관': 8445, '집밥': 8446, '배지': 8447, '벼슬': 8448, '복부비만': 8449, '단합': 8450, '애해': 8451, '통행': 8452, '콜라': 8453, '애착': 8454, '나른하다': 8455, '하루살이': 8456, '뒤로': 8457, '어림': 8458, '불문': 8459, '백이십': 8460, '장비': 8461, '헛일': 8462, '집회': 8463, '빵빵': 8464, '간도': 8465, '가축': 8466, '뒷덜미': 8467, '교': 8468, '세태': 8469, '밤낮': 8470, '예요': 8471, '끈기': 8472, '튀김': 8473, '느': 8474, '메달': 8475, '오거': 8476, '호칭': 8477, '억제': 8478, '껏': 8479, '방전': 8480, '떨구다': 8481, '제나': 8482, '잔업': 8483, '어미': 8484, '잠꼬대': 8485, '강탈': 8486, '우러러보': 8487, '케어': 8488, '브리핑': 8489, '중복': 8490, '정문': 8491, '자치': 8492, '결론': 8493, '자작': 8494, '곧잘': 8495, '친오빠': 8496, '바로잡다': 8497, '안취': 8498, '헛걸음': 8499, '존대': 8500, '젋었': 8501, '초콜릿': 8502, '지니': 8503, '휴양': 8504, '그럴듯하다': 8505, '연습생': 8506, '어린이날': 8507, '표준': 8508, '벼락치기': 8509, '백도': 8510, '군것질': 8511, '구내식당': 8512, '재우다': 8513, '스레': 8514, '눕혔는데': 8515, '옛날이야기': 8516, '잡아가다': 8517, '출연': 8518, '그다지': 8519, '불순': 8520, '무임': 8521, '승차': 8522, '다야': 8523, '졸지': 8524, '공복': 8525, '음으로': 8526, '연관': 8527, '일쑤': 8528, '운전대': 8529, '고현': 8530, '번의': 8531, '개통': 8532, '다급해지다': 8533, '가상': 8534, '화폐': 8535, '애초': 8536, '인증': 8537, '유혹': 8538, '성관계': 8539, '휴양지': 8540, '밥투': 8541, '서양화': 8542, '허허': 8543, '교양': 8544, '십년감수': 8545, '빈둥거리': 8546, '적기': 8547, '수금': 8548, '카트': 8549, '프로그래머': 8550, '천근': 8551, '정성은': 8552, '포': 8553, '미관': 8554, '라미': 8555, '태생': 8556, '액자': 8557, '어머': 8558, '소희': 8559, '예상외': 8560, '색시': 8561, '저희': 8562, '탄산음료': 8563, '열시': 8564, '신인': 8565, '영어실력': 8566, '사례': 8567, '할멈들': 8568, '떄문': 8569, '폐활량': 8570, '동맥경화': 8571, '라식': 8572, '허리띠': 8573, '일보': 8574, '운전자': 8575, '무신': 8576, '사양': 8577, '범주': 8578, '괴팍': 8579, '선출': 8580, '사촌동생': 8581, '흐릿하': 8582, '마음가짐': 8583, '마땅찮다': 8584, '당부': 8585, '넌지시': 8586, '라는데': 8587, '스런': 8588, '장성': 8589, '셀': 8590, '외동': 8591, '성비': 8592, '금지법': 8593, '젊은것': 8594, '까불다': 8595, '중과세': 8596, '공시가격': 8597, '급등': 8598, '화학': 8599, '반대편': 8600, '전송': 8601, '참내': 8602, '무분별': 8603, '십이': 8604, '생사': 8605, '불분명': 8606, '설움': 8607, '호응': 8608, '정치가': 8609, '내과': 8610, '자식새끼': 8611, '경시': 8612, '응답': 8613, '대성통곡': 8614, '무소식': 8615, '꼴불견': 8616, '폐수': 8617, '방류': 8618, '물고기': 8619, '훈련소': 8620, '갈비찜': 8621, '남김없이': 8622, '폐해': 8623, '믹스': 8624, '경계': 8625, '멘트': 8626, '룰루랄라': 8627, '공세': 8628, '프라모델': 8629, '손수': 8630, '손수건': 8631, '이보': 8632, '최소한': 8633, '바람둥': 8634, '뛰어오르다': 8635, '콕': 8636, '친한척': 8637, '하혈': 8638, '시시콜콜': 8639, '다락방': 8640, '쌍꺼풀': 8641, '락': 8642, '어설프다': 8643, '명동': 8644, '시보': 8645, '장시간': 8646, '맨발': 8647, '기곈': 8648, '차감': 8649, '가이드': 8650, '시디': 8651, '성화니': 8652, '자재': 8653, '가설': 8654, '몰입': 8655, '관광지': 8656, '북': 8657, '부스럭': 8658, '병약하다': 8659, '식물인간': 8660, '허례': 8661, '허식': 8662, '생략': 8663, '치도': 8664, '나앉다': 8665, '애완동물': 8666, '기혼': 8667, '녹음': 8668, '친밀': 8669, '저주받다': 8670, '번갈아': 8671, '영민': 8672, '몰래카메라': 8673, '여론': 8674, '들쑥날쑥하다': 8675, '놀이기구': 8676, '단단하다': 8677, '슥': 8678, '증서': 8679, '조교': 8680, '월액': 8681, '최저생계비': 8682, '해물탕': 8683, '한라산': 8684, '분양': 8685, '악화시키다': 8686, '묶음': 8687, '때마': 8688, '무상': 8689, '시름시름': 8690, '주일': 8691, '전자': 8692, '적히다': 8693, '관장': 8694, '분풀이': 8695, '피구': 8696, '익스트림': 8697, '풀칠': 8698, '거참': 8699, '쑥떡': 8700, '바짓가랑이': 8701, '멘탈': 8702, '붕괴': 8703, '줌바': 8704, '치근덕대다': 8705, '외무': 8706, '외교관': 8707, '자연과학': 8708, '학문': 8709, '부침개': 8710, '만회': 8711, '런닝맨': 8712, '토닥이다': 8713, '산산조각': 8714, '대리출석': 8715, '구강': 8716, '아가': 8717, '쩔쩔매다': 8718, '부친상': 8719, '내비게이션': 8720, '건너가다': 8721, '조의': 8722, '큰집': 8723, '전자기기': 8724, '사투리': 8725, '표준어': 8726, '모여들다': 8727, '면도': 8728, '난소': 8729, '에서만이': 8730, '고려장': 8731, '십오': 8732, '오매불망': 8733, '그러기에': 8734, '증조': 8735, '치열하다': 8736, '해선': 8737, '직책': 8738, '비책': 8739, '묏': 8740, '오에이': 8741, '탁월하다': 8742, '서든': 8743, '떨기': 8744, '요강': 8745, '맞닥뜨렸었어': 8746, '알더': 8747, '나주': 8748, '퀴즈쇼': 8749, '작물': 8750, '수확': 8751, '분업': 8752, '목덜미': 8753, '다인': 8754, '동문회': 8755, '철민': 8756, '시들하다': 8757, '실체': 8758, '한약재': 8759, '숨가쁘다': 8760, '가물치': 8761, '공존': 8762, '할껄': 8763, '심기': 8764, '살피': 8765, '시리얼': 8766, '렀': 8767, '부류': 8768, '함정': 8769, '이혼소송': 8770, '오냐': 8771, '시련': 8772, '휘감다': 8773, '업적': 8774, '코딩': 8775, '산업혁명': 8776, '향기': 8777, '식겁하다': 8778, '암투': 8779, '기울어지다': 8780, '컴': 8781, '플레인': 8782, '지우개': 8783, '장식': 8784, '트로피': 8785, '제조': 8786, '제빵사': 8787, '골증': 8788, '간소': 8789, '스몰': 8790, '오픈': 8791, '전면': 8792, '교도소': 8793, '계서': 8794, '부조리': 8795, '빈도': 8796, '외다': 8797, '백칠십이': 8798, '같잖다': 8799, '판명': 8800, '에다가': 8801, '해체': 8802, '분실': 8803, '열차': 8804, '탈선': 8805, '간장게장': 8806, '부업': 8807, '이사장': 8808, '금괴': 8809, '모성애': 8810, '굽실': 8811, '신념': 8812, '와전': 8813, '실용음악': 8814, '성대결절': 8815, '해임': 8816, '허름': 8817, '순탄': 8818, '새치': 8819, '탯줄': 8820, '알뜰하다': 8821, '금융투자': 8822, '관점': 8823, '풍요롭': 8824, '광부': 8825, '질리': 8826, '터널': 8827, '굴착': 8828, '벼르': 8829, '악': 8830, '권한': 8831, '공과금': 8832, '벌렁벌렁': 8833, '엉덩이': 8834, '재니': 8835, '아드님': 8836, '앉히다': 8837, '빠트려': 8838, '여중생': 8839, '부당': 8840, '횟감': 8841, '커밍아웃': 8842, '다름없다': 8843, '초혼': 8844, '부리면': 8845, '비치': 8846, '헬기': 8847, '땅콩': 8848, '끔뻑이': 8849, '방황': 8850, '보아': 8851, '공통점': 8852, '롤모델': 8853, '자수': 8854, '백여': 8855, '섬기다': 8856, '눌리': 8857, '쪼그라들다': 8858, '로고': 8859, '체불': 8860, '어물쩍': 8861, '구지': 8862, '축구선수': 8863, '불리': 8864, '유지비': 8865, '개성': 8866, '때론': 8867, '코로': 8868, '측면': 8869, '경연': 8870, '바퀴': 8871, '과부': 8872, '닌': 8873, '흐름': 8874, '노하우': 8875, '스케줄': 8876, '말주변': 8877, '줌': 8878, '매부': 8879, '속보': 8880, '심심': 8881, '스위스': 8882, '양도': 8883, '수줍다': 8884, '부재': 8885, '위중하다': 8886, '다냬': 8887, '연희': 8888, '삼포': 8889, '칭하': 8890, '다정다감하다': 8891, '치네다': 8892, '라이딩': 8893, '스무살': 8894, '탄탄': 8895, '십상': 8896, '대원': 8897, '기숙': 8898, '초초해': 8899, '슬리퍼': 8900, '모기지론': 8901, '퉁퉁': 8902, '사이즈': 8903, '횟수': 8904, '노리다': 8905, '살로': 8906, '구려': 8907, '악명': 8908, '으레': 8909, '위경련': 8910, '재고': 8911, '정석': 8912, '정통': 8913, '호구': 8914, '병과': 8915, '오십오': 8916, '전등': 8917, '어수룩하다': 8918, '참나': 8919, '하인': 8920, '학식': 8921, '일자': 8922, '허수아비': 8923, '해주시': 8924, '우두커니': 8925, '일그러지다': 8926, '외손': 8927, '울화': 8928, '할머님': 8929, '개장': 8930, '호주': 8931, '에게까지': 8932, '교환학생': 8933, '딴지': 8934, '위임장': 8935, '아이스': 8936, '이삿짐': 8937, '굿': 8938, '즈': 8939, '서인': 8940, '워크넷': 8941, '기저': 8942, '진수': 8943, '흑': 8944, '남학생': 8945, '개별': 8946, '원고': 8947, '고속': 8948, '굴릴': 8949, '애칭': 8950, '열세': 8951, '돈자': 8952, '위계': 8953, '졸졸': 8954, '휴업': 8955, '금슬': 8956, '편리하다': 8957, '공양': 8958, '충치': 8959, '만복': 8960, '근원': 8961, '하지정맥류': 8962, '나무': 8963, '부주의': 8964, '은둔': 8965, '불고기': 8966, '천지': 8967, '이레': 8968, '동전': 8969, '깡통': 8970, '이기주의': 8971, '노령': 8972, '영란': 8973, '환': 8974, '장근이': 8975, '특별대우': 8976, '경황': 8977, '미나': 8978, '물컵': 8979, '경신': 8980, '민우': 8981, '손길': 8982, '다이아몬드': 8983, '그른': 8984, '남다르다': 8985, '빈둥대': 8986, '사상': 8987, '식약처': 8988, '바이크': 8989, '임종은': 8990, '꾸물거리다': 8991, '버셨어': 8992, '아이야': 8993, '말귀': 8994, '형제자매': 8995, '무책임하다': 8996, '미묘하다': 8997, '뭉치다': 8998, '종친회': 8999, '착상': 9000, '선남선녀': 9001, '업소': 9002, '렌스': 9003, '젠더': 9004, '내려놓다': 9005, '그림자': 9006, '구조대': 9007, '박봉': 9008, '인공호흡': 9009, '부착': 9010, '부주의하다': 9011, '요지경': 9012, '소방': 9013, '타부': 9014, '구나': 9015, '노인도': 9016, '요금소': 9017, '기자': 9018, '이적': 9019, '러브콜': 9020, '개시': 9021, '개업': 9022, '킬로나': 9023, '밀고': 9024, '무르': 9025, '삭신': 9026, '사무직': 9027, '받치다': 9028, '것일': 9029, '건너': 9030, '그따위': 9031, '은인': 9032, '벌렁': 9033, '농작물': 9034, '의외': 9035, '부전': 9036, '골수암': 9037, '미비하다': 9038, '거뭇거뭇': 9039, '베스트': 9040, '프': 9041, '랜드': 9042, '동정': 9043, '차분해지다': 9044, '게걸': 9045, '안녕': 9046, '독극물': 9047, '씨름': 9048, '노동부': 9049, '부속품': 9050, '서지': 9051, '댄서': 9052, '스킨': 9053, '하프마라톤': 9054, '보충수업': 9055, '바른길': 9056, '간혹': 9057, '버럭버럭': 9058, '투입': 9059, '토록': 9060, '호화': 9061, '유람선': 9062, '드림': 9063, '카를': 9064, '수업료': 9065, '허무맹랑': 9066, '야위다': 9067, '천만원': 9068, '월경': 9069, '맞춤': 9070, '분윳값': 9071, '분과': 9072, '멋쟁이': 9073, '효': 9074, '맥박': 9075, '한의사': 9076, '허니문': 9077, '정기적금': 9078, '박카스': 9079, '베다': 9080, '손버릇': 9081, '웠': 9082, '포대': 9083, '탕수육': 9084, '반주': 9085, '책장': 9086, '숟가락': 9087, '커버': 9088, '린': 9089, '무력': 9090, '어리바리하다': 9091, '간신히': 9092, '동맥': 9093, '류': 9094, '방석집': 9095, '쓰레기봉투': 9096, '경위서': 9097, '몸조심': 9098, '봉급': 9099, '요구르트': 9100, '근로계약서': 9101, '처신': 9102, '칙': 9103, '훤': 9104, '칠해': 9105, '감염병': 9106, '아날로그': 9107, '우울함': 9108, '고물': 9109, '가시다': 9110, '로란': 9111, '차곡하다': 9112, '사촌오빠': 9113, '와우': 9114, '추근거리다': 9115, '올가을': 9116, '화요일': 9117, '주례': 9118, '추하다': 9119, '롭': 9120, '작은아버지': 9121, '항생제': 9122, '초경': 9123, '방심하다': 9124, '웨어': 9125, '부탁드리다': 9126, '명쾌하다': 9127, '유머': 9128, '대물리다': 9129, '산지': 9130, '치맥': 9131, '엉엉': 9132, '배신감드': 9133, '따윈': 9134, '거고': 9135, '친부모': 9136, '오직': 9137, '새기다': 9138, '센티': 9139, '브': 9140, '비굴하다': 9141, '혼하': 9142, '익히다': 9143, '뻘쭘했어': 9144, '기색': 9145, '영혼': 9146, '통학': 9147, '덤비다': 9148, '준비운동': 9149, '론': 9150, '디저트': 9151, '소수': 9152, '엄습': 9153, '여행기': 9154, '학번': 9155, '병시': 9156, '유행병': 9157, '진담': 9158, '구별': 9159, '차일': 9160, '비판': 9161, '탐색': 9162, '이어진': 9163, '자업자득': 9164, '꼿꼿이': 9165, '무병장수': 9166, '훈육': 9167, '자그마하다': 9168, '복인': 9169, '오억이': 9170, '상실하다': 9171, '신세대': 9172, '국장': 9173, '빠듯하': 9174, '골반': 9175, '현식': 9176, '느슨하다': 9177, '잔잔하다': 9178, '콩나물': 9179, '덤': 9180, '얼떨결': 9181, '편집자': 9182, '빗': 9183, '도세': 9184, '파서': 9185, '우수하다': 9186, '문학소녀': 9187, '앨범': 9188, '씌었던': 9189, '속임수': 9190, '마크': 9191, '강의실': 9192, '금값': 9193, '논밭': 9194, '소인배': 9195, '절실': 9196, '햄스터': 9197, '확실': 9198, '이견': 9199, '좁히다': 9200, '환전': 9201, '고서': 9202, '이쯤': 9203, '통치': 9204, '김치찌개': 9205, '가치': 9206, '간담': 9207, '답문': 9208, '격렬하다': 9209, '복판': 9210, '동물병원': 9211, '우아하다': 9212, '참관': 9213, '하여간': 9214, '차일피일': 9215, '논의': 9216, '문건': 9217, '어긋나게': 9218, '번뜩': 9219, '순이익': 9220, '종신': 9221, '껄': 9222, '빠듯할': 9223, '전철역': 9224, '전단지': 9225, '이십팔': 9226, '경제학': 9227, '소액': 9228, '요금': 9229, '지지도': 9230, '투잡': 9231, '낙도': 9232, '툴툴대더': 9233, '공신': 9234, '인스턴트식품': 9235, '실언': 9236, '희소': 9237, '한심헤': 9238, '담요': 9239, '얼룩': 9240, '가까스로': 9241, '회계': 9242, '사담': 9243, '난리치다': 9244, '부의': 9245, '신장결석': 9246, '격차': 9247, '감소': 9248, '토익시험': 9249, '파릇파릇하다': 9250, '환송': 9251, '현직': 9252, '앞세우다': 9253, '쪼': 9254, '트리': 9255, '복날': 9256, '술술': 9257, '경제사': 9258, '군림': 9259, '회신': 9260, '정서': 9261, '한식': 9262, '조리사': 9263, '냉동': 9264, '박아': 9265, '교과': 9266, '더디다': 9267, '팬클럽': 9268, '유가족': 9269, '오살': 9270, '다다르다': 9271, '비행': 9272, '청소년': 9273, '말재': 9274, '화이트데이': 9275, '단위': 9276, '타이': 9277, '마사지': 9278, '홱': 9279, '이억': 9280, '다기': 9281, '불만족': 9282, '초인종': 9283, '첨': 9284, '삭': 9285, '사위다': 9286, '끝없다': 9287, '앰뷸런스': 9288, '난산': 9289, '무궁무진': 9290, '학술': 9291, '졸업생': 9292, '흐': 9293, '로거': 9294, '이율': 9295, '지우': 9296, '까치': 9297, '삼지': 9298, '어영부영': 9299, '안경점': 9300, '찬물': 9301, '따끈하다': 9302, '분별': 9303, '절절': 9304, '무지막지': 9305, '여자라서': 9306, '인대': 9307, '목도': 9308, '핀': 9309, '김치전': 9310, '부스스': 9311, '호명': 9312, '쫓아가다': 9313, '백발': 9314, '돌기': 9315, '악습': 9316, '쾌변': 9317, '벼룩': 9318, '무기한': 9319, '문외한': 9320, '기수': 9321, '삼일': 9322, '굴걸': 9323, '퍼부어': 9324, '끝일': 9325, '악순환': 9326, '브런치': 9327, '임자': 9328, '!!': 9329, '료': 9330, '잉어': 9331, '응급구조대': 9332, '무릅쓰': 9333, '기합': 9334, '기물': 9335, '끝장': 9336, '시동생': 9337, '동원': 9338, '짤릴까': 9339, '아슬아슬하다': 9340, '라디오': 9341, '고리타분하다': 9342, '이라곤': 9343, '어학': 9344, '볼껄': 9345, '회한': 9346, '대시': 9347, '검수': 9348, '동심': 9349, '아물다': 9350, '구독': 9351, '깨달': 9352, '모나': 9353, '수상': 9354, '출동': 9355, '멍청이': 9356, '의리': 9357, '홈페이지': 9358, '게재': 9359, '뭉치': 9360, '축구공': 9361, '어렵사리': 9362, '꼬셔': 9363, '눈코': 9364, '뜰': 9365, '듬직하다': 9366, '다지다': 9367, '쌀밥': 9368, '나요': 9369, '밖에는': 9370, '동사무소': 9371, '체감': 9372, '산악자전거': 9373, '문제점': 9374, '뻑뻑': 9375, '심경': 9376, '폐쇄되어': 9377, '자택': 9378, '총명하다': 9379, '거름': 9380, '의젓하다': 9381, '체력장': 9382, '불상': 9383, '건실': 9384, '펄펄': 9385, '초보': 9386, '이십만': 9387, '암흑': 9388, '일면': 9389, '식도': 9390, '줄줄': 9391, '술취해': 9392, '설치': 9393, '굳은살': 9394, '갑': 9395, '애나': 9396, '세지면': 9397, '검버섯': 9398, '직하다': 9399, '도서실': 9400, '년제': 9401, '작용': 9402, '눈감다': 9403, '전립선염': 9404, '셀프': 9405, '바득바득': 9406, '금은': 9407, '항복': 9408, '햇빛': 9409, '특채': 9410, '뇌물': 9411, '가스요금': 9412, '컴컴하다': 9413, '썰렁하다': 9414, '처럼만': 9415, '금지옥엽': 9416, '채근': 9417, '팀별': 9418, '웹툰': 9419, '마르지': 9420, '영문': 9421, '개조': 9422, '한정판': 9423, '손익': 9424, '화려': 9425, '틈타다': 9426, '천대': 9427, '두창': 9428, '노려보다': 9429, '정력': 9430, '광경': 9431, '그로': 9432, '농기': 9433, '신분증': 9434, '덴': 9435, '질질': 9436, '뜨끔하다': 9437, '하위': 9438, '원산지': 9439, '둔갑': 9440, '장사꾼': 9441, '입버릇': 9442, '뜬금': 9443, '군소리': 9444, '그러하다': 9445, '짐일': 9446, '놨': 9447, '거도': 9448, '통탄': 9449, '알바생': 9450, '외숙모': 9451, '켜지다': 9452, '배꼽': 9453, '마치니': 9454, '입어보다': 9455, '사기죄': 9456, '단식': 9457, '과민': 9458, '두통약': 9459, '왼': 9460, '입수': 9461, '본전': 9462, '호상': 9463, '가압류': 9464, '북새통': 9465, '살인마': 9466, '식중독': 9467, '농구부': 9468, '갓': 9469, '노부모': 9470, '틱': 9471, '바램': 9472, '만화': 9473, '시안': 9474, '레슨': 9475, '이씨': 9476, '하염없이': 9477, '신통': 9478, '우편물': 9479, '남성만': 9480, '포상': 9481, '손수레': 9482, '손상': 9483, '팸플릿': 9484, '복구': 9485, '부라': 9486, '만구천': 9487, '스토킹': 9488, '역서': 9489, '휜다': 9490, '계약금': 9491, '러시아': 9492, '달아나다': 9493, '결원': 9494, '정신차리다': 9495, '실실': 9496, '부아': 9497, '기량': 9498, '출품': 9499, '도비': 9500, '감고': 9501, '잡티': 9502, '여권': 9503, '물배': 9504, '스포츠댄스': 9505, '맘껏': 9506, '종식': 9507, '장려상': 9508, '분홍색': 9509, '애석하다': 9510, '일위': 9511, '흘러가다': 9512, '신비': 9513, '현금인출기': 9514, '귀금속': 9515, '멍멍하다': 9516, '피진': 9517, '맹구': 9518, '현지': 9519, '추수': 9520, '이백사십만': 9521, '백팔십만': 9522, '비보': 9523, '대금': 9524, '달인': 9525, '역다': 9526, '합치': 9527, '미로': 9528, '허약': 9529, '단기간': 9530, '자문': 9531, '장롱': 9532, '커트라인': 9533, '제이': 9534, '대여': 9535, '대폭': 9536, '사무': 9537, '부터의': 9538, '먹잇감': 9539, '창구': 9540, '업종': 9541, '팬티': 9542, '쿠키': 9543, '나변': 9544, '소도': 9545, '끈끈': 9546, '혹평': 9547, '헛헛해': 9548, '최우수상': 9549, '오성': 9550, '톤': 9551, '트럭': 9552, '형부': 9553, '항공기': 9554, '싸고돌다': 9555, '단정하다': 9556, '불공정': 9557, '못정': 9558, '프렌': 9559, '이즈': 9560, '외주': 9561, '판다': 9562, '맴도': 9563, '약인': 9564, '무심': 9565, '쓰다듬다': 9566, '외아들': 9567, '굴다': 9568, '과신': 9569, '근엄하다': 9570, '상임': 9571, '제과제빵': 9572, '위험성': 9573, '존재도': 9574, '콤플렉스': 9575, '감지': 9576, '싯': 9577, '널다': 9578, '막노동': 9579, '욱': 9580, '수속': 9581, '아유': 9582, '전국': 9583, '하트': 9584, '당근': 9585, '울타리': 9586, '음담패설': 9587, '선지': 9588, '확충': 9589, '알아채다': 9590, '부수': 9591, '성황리': 9592, '끼리끼리': 9593, '모형': 9594, '가사도': 9595, '말라가': 9596, '긴축': 9597, '복사': 9598, '구도': 9599, '막강': 9600, '고배': 9601, '고속도로': 9602, '뚫리다': 9603, '헛먹': 9604, '몰두': 9605, '현성': 9606, '나본': 9607, '중성': 9608, '요사이': 9609, '볼링': 9610, '두피': 9611, '폐교': 9612, '파가': 9613, '나누어지다': 9614, '경리': 9615, '하우스': 9616, '탐욕': 9617, '내막': 9618, '인삼': 9619, '얽매이다': 9620, '명순': 9621, '장신구': 9622, '실시': 9623, '이단': 9624, '령액': 9625, '과업': 9626, '부글부글': 9627, '끓다': 9628, '저녁때': 9629, '굵다': 9630, '뀌었는데': 9631, '시야': 9632, '흐릿': 9633, '불우': 9634, '돕기': 9635, '미수': 9636, '납': 9637, '페스티벌': 9638, '술잔치': 9639, '수목장': 9640, '한량': 9641, '담합': 9642, '유비': 9643, '무환': 9644, '사자': 9645, '성어': 9646, '불균형': 9647, '수납': 9648, '국회의원': 9649, '숨소리': 9650, '희미하다': 9651, '연구원': 9652, '경악': 9653, '금치': 9654, '급변': 9655, '황달': 9656, '시르다': 9657, '염소': 9658, '다운증후군': 9659, '검정고시': 9660, '얌체': 9661, '주주': 9662, '요법': 9663, '법인': 9664, '공용': 9665, '점퍼': 9666, '불길': 9667, '외침': 9668, '상여': 9669, '면전': 9670, '체조': 9671, '우릴': 9672, '풍년': 9673, '수확량': 9674, '결벽증': 9675, '두시': 9676, '의탁': 9677, '인정이': 9678, '냉기': 9679, '싫증': 9680, '양옆': 9681, '품위': 9682, '숙지': 9683, '문상': 9684, '체류': 9685, '데스크': 9686, '특성화고': 9687, '혈연': 9688, '김숙': 9689, '반값': 9690, '인명': 9691, '재천': 9692, '순리': 9693, '주군': 9694, '본적': 9695, '친부': 9696, '캥거루': 9697, '성용': 9698, '환승역': 9699, '단층': 9700, '무당': 9701, '격': 9702, '누님': 9703, '인의': 9704, '기울다': 9705, '강력': 9706, '계비': 9707, '대대로': 9708, '벽지': 9709, '차이점': 9710, '영재': 9711, '균형': 9712, '어두워지다': 9713, '삐었어': 9714, '뿌옇다': 9715, '서러워지다': 9716, '부결': 9717, '해만': 9718, '허겁지겁': 9719, '열심': 9720, '모녀': 9721, '투고': 9722, '법정': 9723, '슬럼프': 9724, '눈살': 9725, '찌푸리다': 9726, '마약': 9727, '간직': 9728, '패물': 9729, '악감': 9730, '차가워지다': 9731, '비키': 9732, '북한': 9733, '커뮤니케이션': 9734, '자장면': 9735, '콜': 9736, '길길이': 9737, '날뛰다': 9738, '효심': 9739, '지극': 9740, '일당': 9741, '구청': 9742, '월드컵': 9743, '강': 9744, '클래식': 9745, '초연': 9746, '구장': 9747, '고위': 9748, '공직자': 9749, '십분': 9750, '느닷없다': 9751, '어쩌겠다': 9752, '툴툴거렸더': 9753, '차하': 9754, '벼랑': 9755, '낯빛': 9756, '연쇄': 9757, '손등': 9758, '서빙': 9759}\n"
          ]
        }
      ]
    },
    {
      "cell_type": "code",
      "source": [
        "vocab_size = len(tokenizer.word_index) +1     # 단어집합의 크기"
      ],
      "metadata": {
        "id": "UEIOpBDUyMWq"
      },
      "execution_count": 79,
      "outputs": []
    },
    {
      "cell_type": "code",
      "source": [
        "vocab_size"
      ],
      "metadata": {
        "colab": {
          "base_uri": "https://localhost:8080/"
        },
        "id": "CSw5rP7c7m7G",
        "outputId": "3c844fdb-a9d9-4220-9979-0c2814aaba1a"
      },
      "execution_count": 126,
      "outputs": [
        {
          "output_type": "execute_result",
          "data": {
            "text/plain": [
              "9760"
            ]
          },
          "metadata": {},
          "execution_count": 126
        }
      ]
    },
    {
      "cell_type": "code",
      "source": [
        "max_len"
      ],
      "metadata": {
        "colab": {
          "base_uri": "https://localhost:8080/"
        },
        "id": "V8M9CEpX7sp0",
        "outputId": "8676c9bc-e73f-4b5f-deff-6f6a993c12b3"
      },
      "execution_count": 128,
      "outputs": [
        {
          "output_type": "execute_result",
          "data": {
            "text/plain": [
              "25"
            ]
          },
          "metadata": {},
          "execution_count": 128
        }
      ]
    },
    {
      "cell_type": "code",
      "source": [
        "X_train = tokenizer.texts_to_sequences(X_train)\n",
        "X_test = tokenizer.texts_to_sequences(X_test)"
      ],
      "metadata": {
        "id": "ms2gzokoY3Eh"
      },
      "execution_count": 80,
      "outputs": []
    },
    {
      "cell_type": "code",
      "source": [
        "# 훈련 데이터와 테스트 데이터의 문장과 레이블을 각각 저장합니다.\n",
        "y_train = np.array(train_label)\n",
        "y_test = np.array(val_label)"
      ],
      "metadata": {
        "id": "YxZfgXwG3VQN"
      },
      "execution_count": 81,
      "outputs": []
    },
    {
      "cell_type": "code",
      "source": [
        "print(X_train[:3])\n",
        "print(y_train)\n",
        "# 각 샘플 내의 단어들은 각 단어에 대한 정수로 변환된 것을 확인할 수 있습니다."
      ],
      "metadata": {
        "colab": {
          "base_uri": "https://localhost:8080/"
        },
        "id": "Q4a81hNCZEzu",
        "outputId": "5c783b21-396b-48bd-e7e5-267bffec7a37"
      },
      "execution_count": 82,
      "outputs": [
        {
          "output_type": "stream",
          "name": "stdout",
          "text": [
            "[[35, 217, 306, 1, 65, 30, 638], [374, 75, 1070, 3, 76, 1, 277, 634, 1259, 118, 91], [580, 3, 1472, 1403, 13, 613, 111, 1051, 66, 38]]\n",
            "[0 1 2 ... 3 0 1]\n"
          ]
        }
      ]
    },
    {
      "cell_type": "markdown",
      "source": [
        "### 패딩"
      ],
      "metadata": {
        "id": "L3TxoaaBvZWq"
      }
    },
    {
      "cell_type": "code",
      "source": [
        "print('문장의 최대 길이 :',max(len(text) for text in X_train))\n",
        "print('문장의 평균 길이 :',sum(map(len, X_train))/len(X_train))\n",
        "plt.hist([len(text) for text in X_train], bins=50)\n",
        "plt.xlabel('length of samples')\n",
        "plt.ylabel('number of samples')\n",
        "plt.show()\n",
        "\n",
        "# 전체 데이터의 길이 분포는 대체적으로 약 9내외의 길이를 가지는 것을 볼 수 있습니다. "
      ],
      "metadata": {
        "colab": {
          "base_uri": "https://localhost:8080/",
          "height": 315
        },
        "id": "s-9HR1zpvbFp",
        "outputId": "4226b3df-21ac-4533-b3a5-393a492bf30b"
      },
      "execution_count": 83,
      "outputs": [
        {
          "output_type": "stream",
          "name": "stdout",
          "text": [
            "문장의 최대 길이 : 49\n",
            "문장의 평균 길이 : 10.844051958218156\n"
          ]
        },
        {
          "output_type": "display_data",
          "data": {
            "image/png": "[encoded data removed]",
            "text/plain": [
              "<Figure size 432x288 with 1 Axes>"
            ]
          },
          "metadata": {
            "needs_background": "light"
          }
        }
      ]
    },
    {
      "cell_type": "code",
      "source": [
        "# 모델이 처리할 수 있도록 X_train과 X_test의 모든 샘플의 길이를 특정 길이로 동일하게 맞춰줄 필요가 있습니다. 특정 길이 변수를 max_len으로 정합니다. 대부분의 리뷰가 내용이 잘리지 않도록 할 수 있는 최적의 max_len의 값은 몇일까요? 전체 샘플 중 길이가 max_len 이하인 샘플의 비율이 몇 %인지 확인하는 함수를 만듭니다.\n",
        "def below_threshold_len(max_len, nested_list):\n",
        "  count = 0\n",
        "  for sentence in nested_list:\n",
        "    if(len(sentence) <= max_len):\n",
        "        count = count + 1\n",
        "  print('전체 샘플 중 길이가 %s 이하인 샘플의 비율: %s'%(max_len, (count / len(nested_list))*100))\n"
      ],
      "metadata": {
        "id": "VpJJeG1PwJU_"
      },
      "execution_count": 84,
      "outputs": []
    },
    {
      "cell_type": "code",
      "source": [
        "# 위의 분포 그래프를 봤을 때, max_len = 20이 적당할 것 같습니다. 이 값이 얼마나 많은 리뷰 길이를 커버하는지 확인해봅시다. 채팅 특성상 엄청 긴 문장이 포함되지 않으므로, 최대길이로 모든 데이터를 패딩하면 됨. --> 그러나 별 차이 없었다고 한다.\n",
        "max_len =  25          # 18 에서 99%\n",
        "below_threshold_len(max_len, X_train)"
      ],
      "metadata": {
        "colab": {
          "base_uri": "https://localhost:8080/"
        },
        "id": "vyAN-qO_wWPl",
        "outputId": "a90e50b6-63b0-4d4f-d53a-ae41c0ce7fd4"
      },
      "execution_count": 86,
      "outputs": [
        {
          "output_type": "stream",
          "name": "stdout",
          "text": [
            "전체 샘플 중 길이가 25 이하인 샘플의 비율: 99.71623572005186\n"
          ]
        }
      ]
    },
    {
      "cell_type": "code",
      "source": [
        "# 전체 훈련 데이터 중 약 99%의 리뷰가 18이하의 길이를 가지는 것을 확인했습니다. 모든 샘플의 길이를 18으로 맞추겠습니다.\n",
        "X_train = pad_sequences(X_train, maxlen=max_len)\n",
        "X_test = pad_sequences(X_test, maxlen=max_len)"
      ],
      "metadata": {
        "id": "cgm-5dtzwyYC"
      },
      "execution_count": 87,
      "outputs": []
    },
    {
      "cell_type": "code",
      "source": [
        "# 훈련용, 테스트용 뉴스 기사 데이터의 레이블에 원-핫 인코딩을 합니다.\n",
        "y_train = to_categorical(y_train)\n",
        "y_test = to_categorical(y_test)"
      ],
      "metadata": {
        "id": "GzjFC0-F5Zi9"
      },
      "execution_count": 88,
      "outputs": []
    },
    {
      "cell_type": "code",
      "source": [
        "y_train"
      ],
      "metadata": {
        "colab": {
          "base_uri": "https://localhost:8080/"
        },
        "id": "FvDqgNR5IGG_",
        "outputId": "f0177d33-c2f1-49b9-bf8a-c6eaa9c1d63d"
      },
      "execution_count": 89,
      "outputs": [
        {
          "output_type": "execute_result",
          "data": {
            "text/plain": [
              "array([[1., 0., 0., 0., 0., 0.],\n",
              "       [0., 1., 0., 0., 0., 0.],\n",
              "       [0., 0., 1., 0., 0., 0.],\n",
              "       ...,\n",
              "       [0., 0., 0., 1., 0., 0.],\n",
              "       [1., 0., 0., 0., 0., 0.],\n",
              "       [0., 1., 0., 0., 0., 0.]], dtype=float32)"
            ]
          },
          "metadata": {},
          "execution_count": 89
        }
      ]
    },
    {
      "cell_type": "code",
      "source": [
        "print('전체 데이터의 크기(shape):', X_train.shape)\n",
        "print('레이블 데이터의 크기(shape):', y_train.shape)"
      ],
      "metadata": {
        "colab": {
          "base_uri": "https://localhost:8080/"
        },
        "id": "7lBI4zLJZL16",
        "outputId": "a2276e12-339e-498b-e67d-6867809df3ec"
      },
      "execution_count": 90,
      "outputs": [
        {
          "output_type": "stream",
          "name": "stdout",
          "text": [
            "전체 데이터의 크기(shape): (40879, 25)\n",
            "레이블 데이터의 크기(shape): (40879, 6)\n"
          ]
        }
      ]
    },
    {
      "cell_type": "code",
      "source": [
        "print(X_train[0])\n",
        "print(y_train[0])"
      ],
      "metadata": {
        "colab": {
          "base_uri": "https://localhost:8080/"
        },
        "id": "TGI29vNfZSSL",
        "outputId": "129f0b9b-29c7-4d6c-f8f7-7bb6d1c7c941"
      },
      "execution_count": 91,
      "outputs": [
        {
          "output_type": "stream",
          "name": "stdout",
          "text": [
            "[  0   0   0   0   0   0   0   0   0   0   0   0   0   0   0   0   0   0\n",
            "  35 217 306   1  65  30 638]\n",
            "[1. 0. 0. 0. 0. 0.]\n"
          ]
        }
      ]
    },
    {
      "cell_type": "markdown",
      "source": [
        "#다층퍼셉트론으로 감성분류"
      ],
      "metadata": {
        "id": "W7xlBM3bxYb4"
      }
    },
    {
      "cell_type": "code",
      "source": [
        "# 모델링은 메모리를 엄청 차지하는 sparse한 형태의 one-hot-encoding 방법이 아니라, 주변 단어들이 나타날 확률을 나타내는 word embedding 방식을 적용한 후에 수행시킨다. word embedding에 대해서는 인터넷 찾아보면 되는데, word2vec, fasttext, glove 등의 방법\n",
        "\n",
        "\n",
        "from sklearn.model_selection import train_test_split\n",
        "from tensorflow.keras.models import Sequential\n",
        "from tensorflow.keras.layers import Flatten, Dense, Embedding, Conv1D\n",
        "from tensorflow.keras.layers import Dense, Dropout\n",
        "from tensorflow.keras.layers import Embedding, Dense, LSTM\n",
        "from tensorflow.keras.models import Sequential\n",
        "from tensorflow.keras.models import load_model\n",
        "from tensorflow.keras.callbacks import EarlyStopping, ModelCheckpoint\n",
        "\n",
        "embedding_dim = 100\n",
        "num_classes =  6  #58\n",
        "\n",
        "\n",
        "model = Sequential()\n",
        "model.add(Embedding(vocab_size, embedding_dim, input_length=max_len))\n",
        "model.add(Flatten())\n",
        "\n",
        "\n",
        "# model.add(Dropout(0.5))\n",
        "model.add(Dense(128, activation='relu'))\n",
        "model.add(Dropout(0.5))\n",
        "model.add(Dense(num_classes, activation='softmax'))\n",
        "\n",
        "\n",
        "es = EarlyStopping(monitor='val_loss', mode='min', verbose=1, patience=10)\n",
        "mc = ModelCheckpoint('best_model.h5', monitor='val_acc', mode='max', verbose=1, save_best_only=True)\n",
        "\n",
        "# 검증 데이터 손실(val_loss)이 증가하면, 과적합 징후므로 검증 데이터 손실이 4회 증가하면 학습을 조기 종료(Early Stopping)합니다. 또한, ModelCheckpoint를 사용하여 검증 데이터의 정확도(val_acc)가 이전보다 좋아질 경우에만 모델을 저장합니다.\n",
        "\n",
        "model.compile(optimizer='adam', loss='categorical_crossentropy', metrics=['acc'])\n",
        "\n",
        "history = model.fit(X_train, y_train, epochs=50, callbacks=[es, mc], batch_size=64, validation_split=0.2)\n"
      ],
      "metadata": {
        "colab": {
          "base_uri": "https://localhost:8080/"
        },
        "id": "ZtHYoJjXYx7l",
        "outputId": "bdc5e9c8-6c7a-47a6-f410-3987c2c4297d"
      },
      "execution_count": 129,
      "outputs": [
        {
          "output_type": "stream",
          "name": "stdout",
          "text": [
            "Epoch 1/50\n",
            "508/511 [============================>.] - ETA: 0s - loss: 1.3293 - acc: 0.4979\n",
            "Epoch 00001: val_acc improved from -inf to 0.59944, saving model to best_model.h5\n",
            "511/511 [==============================] - 8s 15ms/step - loss: 1.3280 - acc: 0.4986 - val_loss: 1.0876 - val_acc: 0.5994\n",
            "Epoch 2/50\n",
            "508/511 [============================>.] - ETA: 0s - loss: 0.9220 - acc: 0.6806\n",
            "Epoch 00002: val_acc improved from 0.59944 to 0.61167, saving model to best_model.h5\n",
            "511/511 [==============================] - 10s 20ms/step - loss: 0.9220 - acc: 0.6806 - val_loss: 1.0889 - val_acc: 0.6117\n",
            "Epoch 3/50\n",
            "510/511 [============================>.] - ETA: 0s - loss: 0.6381 - acc: 0.7917\n",
            "Epoch 00003: val_acc did not improve from 0.61167\n",
            "511/511 [==============================] - 7s 14ms/step - loss: 0.6383 - acc: 0.7916 - val_loss: 1.2238 - val_acc: 0.5965\n",
            "Epoch 4/50\n",
            "511/511 [==============================] - ETA: 0s - loss: 0.4281 - acc: 0.8644\n",
            "Epoch 00004: val_acc did not improve from 0.61167\n",
            "511/511 [==============================] - 7s 14ms/step - loss: 0.4281 - acc: 0.8644 - val_loss: 1.3283 - val_acc: 0.5865\n",
            "Epoch 5/50\n",
            "508/511 [============================>.] - ETA: 0s - loss: 0.3110 - acc: 0.9019\n",
            "Epoch 00005: val_acc did not improve from 0.61167\n",
            "511/511 [==============================] - 7s 14ms/step - loss: 0.3116 - acc: 0.9017 - val_loss: 1.5876 - val_acc: 0.5752\n",
            "Epoch 6/50\n",
            "508/511 [============================>.] - ETA: 0s - loss: 0.2427 - acc: 0.9241\n",
            "Epoch 00006: val_acc did not improve from 0.61167\n",
            "511/511 [==============================] - 7s 14ms/step - loss: 0.2432 - acc: 0.9240 - val_loss: 1.7710 - val_acc: 0.5686\n",
            "Epoch 7/50\n",
            "509/511 [============================>.] - ETA: 0s - loss: 0.2009 - acc: 0.9369\n",
            "Epoch 00007: val_acc did not improve from 0.61167\n",
            "511/511 [==============================] - 7s 14ms/step - loss: 0.2013 - acc: 0.9367 - val_loss: 2.0247 - val_acc: 0.5691\n",
            "Epoch 8/50\n",
            "510/511 [============================>.] - ETA: 0s - loss: 0.1720 - acc: 0.9450\n",
            "Epoch 00008: val_acc did not improve from 0.61167\n",
            "511/511 [==============================] - 10s 19ms/step - loss: 0.1720 - acc: 0.9450 - val_loss: 2.0869 - val_acc: 0.5610\n",
            "Epoch 9/50\n",
            "508/511 [============================>.] - ETA: 0s - loss: 0.1509 - acc: 0.9526\n",
            "Epoch 00009: val_acc did not improve from 0.61167\n",
            "511/511 [==============================] - 8s 16ms/step - loss: 0.1509 - acc: 0.9525 - val_loss: 2.3197 - val_acc: 0.5593\n",
            "Epoch 10/50\n",
            "508/511 [============================>.] - ETA: 0s - loss: 0.1331 - acc: 0.9579\n",
            "Epoch 00010: val_acc did not improve from 0.61167\n",
            "511/511 [==============================] - 7s 14ms/step - loss: 0.1335 - acc: 0.9576 - val_loss: 2.5188 - val_acc: 0.5564\n",
            "Epoch 11/50\n",
            "508/511 [============================>.] - ETA: 0s - loss: 0.1218 - acc: 0.9607\n",
            "Epoch 00011: val_acc did not improve from 0.61167\n",
            "511/511 [==============================] - 7s 14ms/step - loss: 0.1224 - acc: 0.9605 - val_loss: 2.6652 - val_acc: 0.5520\n",
            "Epoch 00011: early stopping\n"
          ]
        }
      ]
    },
    {
      "cell_type": "code",
      "source": [
        "model.load_weights(checkpoint_path)"
      ],
      "metadata": {
        "id": "rkig6S8-9Fim"
      },
      "execution_count": null,
      "outputs": []
    },
    {
      "cell_type": "code",
      "source": [
        "loaded_model = load_model('best_model.h5')\n",
        "print(\"\\n 테스트 정확도: %.4f\" % (loaded_model.evaluate(X_test, y_test)[1]))"
      ],
      "metadata": {
        "colab": {
          "base_uri": "https://localhost:8080/"
        },
        "id": "5RHUmuvbJELP",
        "outputId": "aebf1899-524b-4eb0-fe89-8aebfb443b12"
      },
      "execution_count": 130,
      "outputs": [
        {
          "output_type": "stream",
          "name": "stdout",
          "text": [
            "161/161 [==============================] - 0s 2ms/step - loss: 1.1186 - acc: 0.5969\n",
            "\n",
            " 테스트 정확도: 0.5969\n"
          ]
        }
      ]
    },
    {
      "cell_type": "code",
      "source": [
        "# pip install pyyaml h5py "
      ],
      "metadata": {
        "colab": {
          "base_uri": "https://localhost:8080/"
        },
        "id": "3miJ3bLC0h1n",
        "outputId": "991de348-1532-44b5-9e71-bc2989be18af"
      },
      "execution_count": 117,
      "outputs": [
        {
          "output_type": "stream",
          "name": "stdout",
          "text": [
            "Requirement already satisfied: pyyaml in /usr/local/lib/python3.7/dist-packages (3.13)\n",
            "Requirement already satisfied: h5py in /usr/local/lib/python3.7/dist-packages (3.1.0)\n",
            "Requirement already satisfied: cached-property in /usr/local/lib/python3.7/dist-packages (from h5py) (1.5.2)\n",
            "Requirement already satisfied: numpy>=1.14.5 in /usr/local/lib/python3.7/dist-packages (from h5py) (1.19.5)\n"
          ]
        }
      ]
    },
    {
      "cell_type": "code",
      "source": [
        "# 이건 가중치만 저장하는거. 모델을 빌드한 다음 가중치를 불러와야 한다.\n",
        "model.save('best_model_ss.h5')"
      ],
      "metadata": {
        "id": "66vTljDcyb0w"
      },
      "execution_count": 116,
      "outputs": []
    },
    {
      "cell_type": "code",
      "source": [
        "# 이건 모델 통째로 저장하는 거.https://www.tensorflow.org/tutorials/keras/save_and_load?hl=ko\n",
        "# !mkdir -p saved_model\n",
        "model.save('my_model')\n",
        "\n",
        "# 아래의 명령으로 zip파일로 다운로드 가능.  https://aigong.tistory.com/201   "
      ],
      "metadata": {
        "colab": {
          "base_uri": "https://localhost:8080/"
        },
        "id": "UMAQu6co1RRU",
        "outputId": "a90284ad-a8d5-4edf-aaf1-31263c2dabf8"
      },
      "execution_count": 120,
      "outputs": [
        {
          "output_type": "stream",
          "name": "stdout",
          "text": [
            "INFO:tensorflow:Assets written to: saved_model/my_model2/assets\n"
          ]
        }
      ]
    },
    {
      "cell_type": "code",
      "source": [
        "!zip -r /content/my_model.zip /content/my_model"
      ],
      "metadata": {
        "colab": {
          "base_uri": "https://localhost:8080/"
        },
        "id": "YTSZVzwa2cVO",
        "outputId": "1422ee9e-2378-489b-dbac-169f90b7ca66"
      },
      "execution_count": 125,
      "outputs": [
        {
          "output_type": "stream",
          "name": "stdout",
          "text": [
            "  adding: content/my_model/ (stored 0%)\n",
            "  adding: content/my_model/variables/ (stored 0%)\n",
            "  adding: content/my_model/variables/variables.data-00000-of-00001 (deflated 10%)\n",
            "  adding: content/my_model/variables/variables.index (deflated 60%)\n",
            "  adding: content/my_model/saved_model.pb (deflated 87%)\n",
            "  adding: content/my_model/assets/ (stored 0%)\n",
            "  adding: content/my_model/keras_metadata.pb (deflated 86%)\n"
          ]
        }
      ]
    },
    {
      "cell_type": "code",
      "source": [
        "epochs = range(1, len(history.history['acc']) + 1)\n",
        "plt.plot(epochs, history.history['loss'])\n",
        "plt.plot(epochs, history.history['val_loss'])\n",
        "plt.title('model loss')\n",
        "plt.ylabel('loss')\n",
        "plt.xlabel('epoch')\n",
        "plt.legend(['train', 'test'], loc='upper left')\n",
        "plt.show()"
      ],
      "metadata": {
        "colab": {
          "base_uri": "https://localhost:8080/",
          "height": 295
        },
        "id": "ETD74j4DFlIt",
        "outputId": "a03f7a60-fc92-4f4d-c719-8c87e2693787"
      },
      "execution_count": 35,
      "outputs": [
        {
          "output_type": "display_data",
          "data": {
            "image/png": "[encoded data removed]",
            "text/plain": [
              "<Figure size 432x288 with 1 Axes>"
            ]
          },
          "metadata": {
            "needs_background": "light"
          }
        }
      ]
    },
    {
      "cell_type": "code",
      "source": [
        "pip install git+https://github.com/ssut/py-hanspell.git"
      ],
      "metadata": {
        "colab": {
          "base_uri": "https://localhost:8080/"
        },
        "id": "987OnjCpD0xd",
        "outputId": "0c1a5f59-c875-4cc7-88d7-734f26854137"
      },
      "execution_count": 94,
      "outputs": [
        {
          "output_type": "stream",
          "name": "stdout",
          "text": [
            "Collecting git+https://github.com/ssut/py-hanspell.git\n",
            "  Cloning https://github.com/ssut/py-hanspell.git to /tmp/pip-req-build-9d93dwj1\n",
            "  Running command git clone -q https://github.com/ssut/py-hanspell.git /tmp/pip-req-build-9d93dwj1\n",
            "Requirement already satisfied: requests in /usr/local/lib/python3.7/dist-packages (from py-hanspell==1.1) (2.23.0)\n",
            "Requirement already satisfied: idna<3,>=2.5 in /usr/local/lib/python3.7/dist-packages (from requests->py-hanspell==1.1) (2.10)\n",
            "Requirement already satisfied: urllib3!=1.25.0,!=1.25.1,<1.26,>=1.21.1 in /usr/local/lib/python3.7/dist-packages (from requests->py-hanspell==1.1) (1.24.3)\n",
            "Requirement already satisfied: certifi>=2017.4.17 in /usr/local/lib/python3.7/dist-packages (from requests->py-hanspell==1.1) (2021.10.8)\n",
            "Requirement already satisfied: chardet<4,>=3.0.2 in /usr/local/lib/python3.7/dist-packages (from requests->py-hanspell==1.1) (3.0.4)\n"
          ]
        }
      ]
    },
    {
      "cell_type": "code",
      "source": [
        "# 예측해보기\n",
        "def sentiment_predict(new_sentence):\n",
        "  new_sentence = re.sub(r'[^ㄱ-ㅎㅏ-ㅣ가-힣 ]','', new_sentence)\n",
        "  new_sentence = okt.morphs(new_sentence, stem=True) # 토큰화\n",
        "  new_sentence = [word for word in new_sentence if not word in stop_words] # 불용어 제거\n",
        "  encoded = tokenizer.texts_to_sequences([new_sentence]) # 정수 인코딩\n",
        "  pad_new = pad_sequences(encoded, maxlen = max_len) # 패딩\n",
        "  score = loaded_model.predict(pad_new) # 예측\n",
        "  print(score)\n",
        "  print(score[0, score.argmax()])\n",
        "  print(feel_bic_dic_reverse[score.argmax()])\n",
        "  return feel_bic_dic_reverse[score.argmax()]"
      ],
      "metadata": {
        "id": "Mi6KBQuuFoHI"
      },
      "execution_count": 101,
      "outputs": []
    },
    {
      "cell_type": "code",
      "source": [
        "feel_bic_dic_reverse"
      ],
      "metadata": {
        "colab": {
          "base_uri": "https://localhost:8080/"
        },
        "id": "6VQiRG7mmaLw",
        "outputId": "e0e73c80-ac06-448d-bbbd-bd3d044cdab7"
      },
      "execution_count": 103,
      "outputs": [
        {
          "output_type": "execute_result",
          "data": {
            "text/plain": [
              "{0: '기쁨', 1: '불안', 2: '당황', 3: '슬픔', 4: '분노', 5: '상처'}"
            ]
          },
          "metadata": {},
          "execution_count": 103
        }
      ]
    },
    {
      "cell_type": "code",
      "source": [
        "sentiment_predict('돈 많이 벌어서 너무 기분이 좋다')"
      ],
      "metadata": {
        "colab": {
          "base_uri": "https://localhost:8080/",
          "height": 90
        },
        "id": "F53pM5dIM37X",
        "outputId": "9647169c-402b-49a7-b53d-f701074ce6fa"
      },
      "execution_count": 107,
      "outputs": [
        {
          "output_type": "stream",
          "name": "stdout",
          "text": [
            "[[0.750174   0.02107298 0.06019552 0.03032859 0.05010248 0.08812647]]\n",
            "0.750174\n",
            "기쁨\n"
          ]
        },
        {
          "output_type": "execute_result",
          "data": {
            "application/vnd.google.colaboratory.intrinsic+json": {
              "type": "string"
            },
            "text/plain": [
              "'기쁨'"
            ]
          },
          "metadata": {},
          "execution_count": 107
        }
      ]
    },
    {
      "cell_type": "code",
      "source": [
        "sentiment_predict('바람이 분다')"
      ],
      "metadata": {
        "colab": {
          "base_uri": "https://localhost:8080/",
          "height": 90
        },
        "id": "S-u-GpeSpWJs",
        "outputId": "0ed347d3-066f-4fd3-9861-5a851bab0cc2"
      },
      "execution_count": 108,
      "outputs": [
        {
          "output_type": "stream",
          "name": "stdout",
          "text": [
            "[[0.17318666 0.06323577 0.16011293 0.14135563 0.09511683 0.36699224]]\n",
            "0.36699224\n",
            "상처\n"
          ]
        },
        {
          "output_type": "execute_result",
          "data": {
            "application/vnd.google.colaboratory.intrinsic+json": {
              "type": "string"
            },
            "text/plain": [
              "'상처'"
            ]
          },
          "metadata": {},
          "execution_count": 108
        }
      ]
    },
    {
      "cell_type": "code",
      "source": [
        "sentiment_predict('남자친구가 바람났어')"
      ],
      "metadata": {
        "colab": {
          "base_uri": "https://localhost:8080/",
          "height": 90
        },
        "id": "WHOi4HhYpY9S",
        "outputId": "9797fdfb-aaeb-4d01-cc00-8a31d0f41791"
      },
      "execution_count": 109,
      "outputs": [
        {
          "output_type": "stream",
          "name": "stdout",
          "text": [
            "[[0.08336584 0.0687705  0.11138539 0.12375039 0.4420524  0.17067555]]\n",
            "0.4420524\n",
            "분노\n"
          ]
        },
        {
          "output_type": "execute_result",
          "data": {
            "application/vnd.google.colaboratory.intrinsic+json": {
              "type": "string"
            },
            "text/plain": [
              "'분노'"
            ]
          },
          "metadata": {},
          "execution_count": 109
        }
      ]
    },
    {
      "cell_type": "code",
      "source": [
        "sentiment_predict('엄마랑 쇼핑을 하고왔다')"
      ],
      "metadata": {
        "colab": {
          "base_uri": "https://localhost:8080/",
          "height": 90
        },
        "id": "th1_QJMdpbvT",
        "outputId": "c76ce422-b106-4e99-8e94-339cd5ad9bc9"
      },
      "execution_count": 114,
      "outputs": [
        {
          "output_type": "stream",
          "name": "stdout",
          "text": [
            "[[0.2291509  0.17889    0.09517009 0.17864458 0.15245771 0.16568671]]\n",
            "0.2291509\n",
            "기쁨\n"
          ]
        },
        {
          "output_type": "execute_result",
          "data": {
            "application/vnd.google.colaboratory.intrinsic+json": {
              "type": "string"
            },
            "text/plain": [
              "'기쁨'"
            ]
          },
          "metadata": {},
          "execution_count": 114
        }
      ]
    },
    {
      "cell_type": "code",
      "source": [
        "from hanspell import spell_checker\n",
        "okt=Okt() \n",
        "tokenizer = Tokenizer()\n",
        "def sentiment_predict(new_sentence):\n",
        "    # spelled_sent = spell_checker.check(new_sentence)    # 챗봇에 단어를 입력할 때는 비문법이 많으므로 문법을 맞춰주고 띄어쓰기를 시켜준다. 이걸 추가하니까 성능이 훨씬 좋아졌다.\n",
        "    # hanspell_sent = spelled_sent.checked\n",
        "    new_sentence = re.sub(r'[^ㄱ-ㅎㅏ-ㅣ가-힣 ]','',new_sentence)\n",
        "    new_sentence = okt.morphs(new_sentence, stem=True) # 토큰화\n",
        "    new_sentence = [word for word in new_sentence if not word in stop_words] # 불용어 제거\n",
        "    encoded = tokenizer.texts_to_sequences([new_sentence]) # 정수 인코딩\n",
        "    pad_new = pad_sequences(encoded, maxlen = 18) # 패딩\n",
        "    score = model.predict(pad_new) # 예측\n",
        "    #   print(score[0, score.argmax()])\n",
        "\n",
        "    return feel_bic_dic_reverse[score.argmax()]"
      ],
      "metadata": {
        "id": "lEZAU2xlDY2F"
      },
      "execution_count": 39,
      "outputs": []
    },
    {
      "cell_type": "code",
      "source": [
        "sentiment_predict('행복해')"
      ],
      "metadata": {
        "colab": {
          "base_uri": "https://localhost:8080/",
          "height": 35
        },
        "id": "kCVsAdzQFrhK",
        "outputId": "6b6dcb94-7bbf-4865-d53f-3e6d5e83e521"
      },
      "execution_count": 40,
      "outputs": [
        {
          "output_type": "execute_result",
          "data": {
            "application/vnd.google.colaboratory.intrinsic+json": {
              "type": "string"
            },
            "text/plain": [
              "'슬픔'"
            ]
          },
          "metadata": {},
          "execution_count": 40
        }
      ]
    },
    {
      "cell_type": "markdown",
      "source": [
        "# LSTM으로 감성분류"
      ],
      "metadata": {
        "id": "c1JbvrcnxVP3"
      }
    },
    {
      "cell_type": "code",
      "source": [
        "from tensorflow.keras.layers import Embedding, Dense, LSTM\n",
        "from tensorflow.keras.models import Sequential\n",
        "from tensorflow.keras.models import load_model\n",
        "from tensorflow.keras.callbacks import EarlyStopping, ModelCheckpoint"
      ],
      "metadata": {
        "id": "BZvwL6BDxXrS"
      },
      "execution_count": null,
      "outputs": []
    },
    {
      "cell_type": "code",
      "source": [
        "# 임베딩 벡터의 차원은 100으로 정했고, 리뷰 분류를 위해서 은닉 상태의 크기가 128인 LSTM을 사용\n",
        "embedding_dim = 100\n",
        "hidden_units = 128\n",
        "num_classes =  6  # 58\n",
        "\n",
        "model = Sequential()\n",
        "model.add(Embedding(vocab_size, embedding_dim))\n",
        "model.add(LSTM(hidden_units))\n",
        "model.add(Dense(num_classes, activation='softmax'))"
      ],
      "metadata": {
        "id": "KKb3IeMIxms9"
      },
      "execution_count": null,
      "outputs": []
    },
    {
      "cell_type": "code",
      "source": [
        "es = EarlyStopping(monitor='val_loss', mode='min', verbose=1, patience=10)\n",
        "mc = ModelCheckpoint('best_model.h5', monitor='val_acc', mode='max', verbose=1, save_best_only=True)\n",
        "\n",
        "# 검증 데이터 손실(val_loss)이 증가하면, 과적합 징후므로 검증 데이터 손실이 4회 증가하면 학습을 조기 종료(Early Stopping)합니다. 또한, ModelCheckpoint를 사용하여 검증 데이터의 정확도(val_acc)가 이전보다 좋아질 경우에만 모델을 저장합니다.\n",
        "\n",
        "model.compile(optimizer='adam', loss='categorical_crossentropy', metrics=['acc'])"
      ],
      "metadata": {
        "id": "rzuehBG-1Y6N"
      },
      "execution_count": null,
      "outputs": []
    },
    {
      "cell_type": "code",
      "source": [
        "history = model.fit(X_train, y_train, epochs=50, callbacks=[es, mc], batch_size=64, validation_split=0.2)\n",
        "\n",
        "# 에포크는 총 15번을 수행하겠습니다. 또한 훈련 데이터 중 20%를 검증 데이터로 사용하면서 정확도를 확인합니다."
      ],
      "metadata": {
        "colab": {
          "base_uri": "https://localhost:8080/"
        },
        "id": "8iWaWS5s2IED",
        "outputId": "92f65510-011c-4050-a2dd-25e0774eb40e"
      },
      "execution_count": null,
      "outputs": [
        {
          "output_type": "stream",
          "name": "stdout",
          "text": [
            "Epoch 1/50\n",
            "511/511 [==============================] - ETA: 0s - loss: 1.2402 - acc: 0.5432\n",
            "Epoch 00001: val_acc improved from -inf to 0.60641, saving model to best_model.h5\n",
            "511/511 [==============================] - 47s 83ms/step - loss: 1.2402 - acc: 0.5432 - val_loss: 1.0808 - val_acc: 0.6064\n",
            "Epoch 2/50\n",
            "511/511 [==============================] - ETA: 0s - loss: 0.9602 - acc: 0.6554\n",
            "Epoch 00002: val_acc improved from 0.60641 to 0.61057, saving model to best_model.h5\n",
            "511/511 [==============================] - 31s 61ms/step - loss: 0.9602 - acc: 0.6554 - val_loss: 1.0878 - val_acc: 0.6106\n",
            "Epoch 3/50\n",
            "511/511 [==============================] - ETA: 0s - loss: 0.8559 - acc: 0.6960\n",
            "Epoch 00003: val_acc did not improve from 0.61057\n",
            "511/511 [==============================] - 31s 60ms/step - loss: 0.8559 - acc: 0.6960 - val_loss: 1.1326 - val_acc: 0.6035\n",
            "Epoch 4/50\n",
            "511/511 [==============================] - ETA: 0s - loss: 0.7762 - acc: 0.7218\n",
            "Epoch 00004: val_acc did not improve from 0.61057\n",
            "511/511 [==============================] - 31s 60ms/step - loss: 0.7762 - acc: 0.7218 - val_loss: 1.1784 - val_acc: 0.6016\n",
            "Epoch 5/50\n",
            "511/511 [==============================] - ETA: 0s - loss: 0.7101 - acc: 0.7448\n",
            "Epoch 00005: val_acc did not improve from 0.61057\n",
            "511/511 [==============================] - 45s 87ms/step - loss: 0.7101 - acc: 0.7448 - val_loss: 1.2649 - val_acc: 0.5905\n",
            "Epoch 6/50\n",
            "511/511 [==============================] - ETA: 0s - loss: 0.6550 - acc: 0.7614\n",
            "Epoch 00006: val_acc did not improve from 0.61057\n",
            "511/511 [==============================] - 37s 73ms/step - loss: 0.6550 - acc: 0.7614 - val_loss: 1.3221 - val_acc: 0.5867\n",
            "Epoch 7/50\n",
            "511/511 [==============================] - ETA: 0s - loss: 0.6055 - acc: 0.7781\n",
            "Epoch 00007: val_acc did not improve from 0.61057\n",
            "511/511 [==============================] - 47s 92ms/step - loss: 0.6055 - acc: 0.7781 - val_loss: 1.4402 - val_acc: 0.5822\n",
            "Epoch 8/50\n",
            "511/511 [==============================] - ETA: 0s - loss: 0.5589 - acc: 0.7970\n",
            "Epoch 00008: val_acc did not improve from 0.61057\n",
            "511/511 [==============================] - 35s 68ms/step - loss: 0.5589 - acc: 0.7970 - val_loss: 1.5367 - val_acc: 0.5801\n",
            "Epoch 9/50\n",
            "511/511 [==============================] - ETA: 0s - loss: 0.5218 - acc: 0.8082\n",
            "Epoch 00009: val_acc did not improve from 0.61057\n",
            "511/511 [==============================] - 31s 61ms/step - loss: 0.5218 - acc: 0.8082 - val_loss: 1.6310 - val_acc: 0.5779\n",
            "Epoch 10/50\n",
            "511/511 [==============================] - ETA: 0s - loss: 0.4853 - acc: 0.8217\n",
            "Epoch 00010: val_acc did not improve from 0.61057\n",
            "511/511 [==============================] - 31s 61ms/step - loss: 0.4853 - acc: 0.8217 - val_loss: 1.8018 - val_acc: 0.5664\n",
            "Epoch 11/50\n",
            "511/511 [==============================] - ETA: 0s - loss: 0.4475 - acc: 0.8341\n",
            "Epoch 00011: val_acc did not improve from 0.61057\n",
            "511/511 [==============================] - 32s 63ms/step - loss: 0.4475 - acc: 0.8341 - val_loss: 1.9159 - val_acc: 0.5686\n",
            "Epoch 00011: early stopping\n"
          ]
        }
      ]
    },
    {
      "cell_type": "code",
      "source": [
        "loaded_model = load_model('best_model.h5')\n",
        "print(\"\\n 테스트 정확도: %.4f\" % (loaded_model.evaluate(X_test, y_test)[1]))"
      ],
      "metadata": {
        "colab": {
          "base_uri": "https://localhost:8080/"
        },
        "id": "VzGZS1of7XWQ",
        "outputId": "d8daa0bc-3a09-4e90-c0bc-882a4b787b20"
      },
      "execution_count": null,
      "outputs": [
        {
          "output_type": "stream",
          "name": "stdout",
          "text": [
            "161/161 [==============================] - 2s 9ms/step - loss: 1.1138 - acc: 0.5953\n",
            "\n",
            " 테스트 정확도: 0.5953\n"
          ]
        }
      ]
    },
    {
      "cell_type": "code",
      "source": [
        "epochs = range(1, len(history.history['acc']) + 1)\n",
        "plt.plot(epochs, history.history['loss'])\n",
        "plt.plot(epochs, history.history['val_loss'])\n",
        "plt.title('model loss')\n",
        "plt.ylabel('loss')\n",
        "plt.xlabel('epoch')\n",
        "plt.legend(['train', 'test'], loc='upper left')\n",
        "plt.show()"
      ],
      "metadata": {
        "colab": {
          "base_uri": "https://localhost:8080/",
          "height": 295
        },
        "id": "7hd0GvWT675a",
        "outputId": "4c255968-3f5e-414a-cb46-0656637001ee"
      },
      "execution_count": null,
      "outputs": [
        {
          "output_type": "display_data",
          "data": {
            "image/png": "[encoded data removed]",
            "text/plain": [
              "<Figure size 432x288 with 1 Axes>"
            ]
          },
          "metadata": {
            "needs_background": "light"
          }
        }
      ]
    },
    {
      "cell_type": "code",
      "source": [
        "# 예측해보기\n",
        "def sentiment_predict(new_sentence):\n",
        "  new_sentence = re.sub(r'[^ㄱ-ㅎㅏ-ㅣ가-힣 ]','', new_sentence)\n",
        "  new_sentence = okt.morphs(new_sentence, stem=True) # 토큰화\n",
        "  new_sentence = [word for word in new_sentence if not word in stop_words] # 불용어 제거\n",
        "  encoded = tokenizer.texts_to_sequences([new_sentence]) # 정수 인코딩\n",
        "  pad_new = pad_sequences(encoded, maxlen = max_len) # 패딩\n",
        "  score = loaded_model.predict(pad_new) # 예측\n",
        "#   print(score[0, score.argmax()])\n",
        "  return feel_bic_dic_reverse[score.argmax()]"
      ],
      "metadata": {
        "id": "U66ud_E08nOb"
      },
      "execution_count": null,
      "outputs": []
    },
    {
      "cell_type": "code",
      "source": [
        "sentiment_predict('사랑해')"
      ],
      "metadata": {
        "colab": {
          "base_uri": "https://localhost:8080/",
          "height": 35
        },
        "id": "KwK5RO3G9JBr",
        "outputId": "372f7c13-c449-42e2-b97a-19f7f0e77f4f"
      },
      "execution_count": null,
      "outputs": [
        {
          "output_type": "execute_result",
          "data": {
            "application/vnd.google.colaboratory.intrinsic+json": {
              "type": "string"
            },
            "text/plain": [
              "'기쁨'"
            ]
          },
          "metadata": {},
          "execution_count": 57
        }
      ]
    },
    {
      "cell_type": "code",
      "source": [
        "sentiment_predict('사랑해')"
      ],
      "metadata": {
        "id": "nn-V413wpT3p"
      },
      "execution_count": null,
      "outputs": []
    },
    {
      "cell_type": "markdown",
      "source": [
        "# 사전학습된 워드임베딩을 통한 감성분류"
      ],
      "metadata": {
        "id": "HVbVZ2cKVuA1"
      }
    },
    {
      "cell_type": "code",
      "source": [
        "import os\n",
        "import pandas as pd\n",
        "import numpy as np\n",
        "import matplotlib.pyplot as plt\n",
        "from sklearn import preprocessing\n",
        "from tensorflow.keras.preprocessing.text import Tokenizer\n",
        "from tensorflow.keras.preprocessing.sequence import pad_sequences\n",
        "from tensorflow.keras.utils import to_categorical\n",
        "from sklearn.metrics import classification_report"
      ],
      "metadata": {
        "id": "O-cvxDa2Vwkz"
      },
      "execution_count": null,
      "outputs": []
    },
    {
      "cell_type": "code",
      "source": [
        "# 다음으로 사전 훈련된 임베딩의 데이터 덤프를 구문 분석하여 알려진 임베딩에 대한 인덱스 매핑 단어를 계산합니다.  # fasttext의 사전 훈련된 단어 벡터의 차원은 300.\n",
        "embeddings_index = {}\n",
        "FASTTEXT_DIR = '/content/drive/MyDrive/프로젝트1'\n",
        "f = open(os.path.join(FASTTEXT_DIR, 'cc.ko.300.txt'), encoding='utf-8', errors='ignore')\n",
        "for line in f:\n",
        "    values = line.split()\n",
        "    word = values[0]\n",
        "    coefs = np.asarray(values[1:], dtype='float32')\n",
        "    embeddings_index[word] = coefs\n",
        "f.close()\n",
        "\n",
        "print('Found %s word vectors.' % len(embeddings_index))"
      ],
      "metadata": {
        "colab": {
          "base_uri": "https://localhost:8080/"
        },
        "id": "4tpL84tGaFgz",
        "outputId": "7a92ce2f-52ce-4f1a-d6b5-ab7fcc701bba"
      },
      "execution_count": null,
      "outputs": [
        {
          "output_type": "stream",
          "name": "stdout",
          "text": [
            "Found 2000000 word vectors.\n"
          ]
        }
      ]
    },
    {
      "cell_type": "code",
      "source": [
        "# 이 시점에서 embedding_index사전과 우리 word_index를 활용 하여 임베딩 행렬을 계산할 수 있습니다 .\n",
        "embedding_dim = 300\n",
        "\n",
        "embedding_matrix = np.zeros((len(word_index) + 1, embedding_dim))\n",
        "for word, i in word_index.items():\n",
        "    embedding_vector = embeddings_index.get(word)\n",
        "    if embedding_vector is not None:\n",
        "        # words not found in embedding index will be all-zeros.\n",
        "        embedding_matrix[i] = embedding_vector"
      ],
      "metadata": {
        "id": "rBgLqWuNaFtL"
      },
      "execution_count": null,
      "outputs": []
    },
    {
      "cell_type": "code",
      "source": [
        "from keras.layers import Embedding\n",
        "\n",
        "embedding_layer = Embedding(vocab_size,\n",
        "                            embedding_dim,\n",
        "                            weights=[embedding_matrix],\n",
        "                            input_length=max_len,\n",
        "                            trainable=False)"
      ],
      "metadata": {
        "id": "xaUNVEHhbzzl"
      },
      "execution_count": null,
      "outputs": []
    },
    {
      "cell_type": "code",
      "source": [
        "# 과연 사전학습된 벡터가 효과를 보일것인가!!!\n",
        "\n",
        "from tensorflow.keras.models import Model\n",
        "from tensorflow.keras.layers import Embedding, Dropout,Dense, Input, Flatten, Concatenate\n",
        "\n",
        "embedding_dim = 300\n",
        "hidden_units = 128\n",
        "num_classes = 6\n",
        "\n",
        "\n",
        "sequence_input = Input(shape=(max_len,), dtype='int32')\n",
        "embedded_sequences = embedding_layer(sequence_input)\n",
        "lstm_layer = LSTM(hidden_units, dropout=0.2, recurrent_dropout=0.3)(embedded_sequences)\n",
        "x = Dense(64, activation='relu')(lstm_layer)\n",
        "output = Dense(num_classes, activation='softmax')(x)\n",
        "model = Model(inputs=sequence_input, outputs=output)\n",
        "\n",
        "es = EarlyStopping(monitor='val_loss', mode='min', verbose=1, patience=10)\n",
        "mc = ModelCheckpoint('best_model.h5', monitor='val_acc', mode='max', verbose=1, save_best_only=True)\n",
        "\n",
        "\n",
        "model.compile(loss='categorical_crossentropy',\n",
        "              optimizer='adam',\n",
        "              metrics=['acc'])\n",
        "\n",
        "\n",
        "# happy learning!\n",
        "history = model.fit(X_train, y_train, epochs=50, callbacks=[es, mc], batch_size=128, validation_split=0.2)"
      ],
      "metadata": {
        "colab": {
          "base_uri": "https://localhost:8080/"
        },
        "id": "bkcfD8IjcxqB",
        "outputId": "802810a3-6d93-4508-de54-482f15cee2d5"
      },
      "execution_count": null,
      "outputs": [
        {
          "output_type": "stream",
          "name": "stdout",
          "text": [
            "Epoch 1/50\n",
            "256/256 [==============================] - ETA: 0s - loss: 1.4486 - acc: 0.4441\n",
            "Epoch 00001: val_acc improved from -inf to 0.52263, saving model to best_model.h5\n",
            "256/256 [==============================] - 46s 163ms/step - loss: 1.4486 - acc: 0.4441 - val_loss: 1.2939 - val_acc: 0.5226\n",
            "Epoch 2/50\n",
            "256/256 [==============================] - ETA: 0s - loss: 1.2683 - acc: 0.5259\n",
            "Epoch 00002: val_acc improved from 0.52263 to 0.54574, saving model to best_model.h5\n",
            "256/256 [==============================] - 41s 160ms/step - loss: 1.2683 - acc: 0.5259 - val_loss: 1.2273 - val_acc: 0.5457\n",
            "Epoch 3/50\n",
            "256/256 [==============================] - ETA: 0s - loss: 1.2169 - acc: 0.5448\n",
            "Epoch 00003: val_acc improved from 0.54574 to 0.55455, saving model to best_model.h5\n",
            "256/256 [==============================] - 41s 160ms/step - loss: 1.2169 - acc: 0.5448 - val_loss: 1.1982 - val_acc: 0.5545\n",
            "Epoch 4/50\n",
            "256/256 [==============================] - ETA: 0s - loss: 1.1766 - acc: 0.5622\n",
            "Epoch 00004: val_acc improved from 0.55455 to 0.56201, saving model to best_model.h5\n",
            "256/256 [==============================] - 42s 162ms/step - loss: 1.1766 - acc: 0.5622 - val_loss: 1.1764 - val_acc: 0.5620\n",
            "Epoch 5/50\n",
            "256/256 [==============================] - ETA: 0s - loss: 1.1491 - acc: 0.5745\n",
            "Epoch 00005: val_acc improved from 0.56201 to 0.56751, saving model to best_model.h5\n",
            "256/256 [==============================] - 43s 170ms/step - loss: 1.1491 - acc: 0.5745 - val_loss: 1.1569 - val_acc: 0.5675\n",
            "Epoch 6/50\n",
            "256/256 [==============================] - ETA: 0s - loss: 1.1220 - acc: 0.5860\n",
            "Epoch 00006: val_acc improved from 0.56751 to 0.57987, saving model to best_model.h5\n",
            "256/256 [==============================] - 41s 161ms/step - loss: 1.1220 - acc: 0.5860 - val_loss: 1.1415 - val_acc: 0.5799\n",
            "Epoch 7/50\n",
            "256/256 [==============================] - ETA: 0s - loss: 1.0972 - acc: 0.5943\n",
            "Epoch 00007: val_acc improved from 0.57987 to 0.58146, saving model to best_model.h5\n",
            "256/256 [==============================] - 41s 161ms/step - loss: 1.0972 - acc: 0.5943 - val_loss: 1.1358 - val_acc: 0.5815\n",
            "Epoch 8/50\n",
            "256/256 [==============================] - ETA: 0s - loss: 1.0753 - acc: 0.6036\n",
            "Epoch 00008: val_acc did not improve from 0.58146\n",
            "256/256 [==============================] - 41s 161ms/step - loss: 1.0753 - acc: 0.6036 - val_loss: 1.1245 - val_acc: 0.5793\n",
            "Epoch 9/50\n",
            "256/256 [==============================] - ETA: 0s - loss: 1.0600 - acc: 0.6090\n",
            "Epoch 00009: val_acc improved from 0.58146 to 0.58293, saving model to best_model.h5\n",
            "256/256 [==============================] - 41s 162ms/step - loss: 1.0600 - acc: 0.6090 - val_loss: 1.1205 - val_acc: 0.5829\n",
            "Epoch 10/50\n",
            "256/256 [==============================] - ETA: 0s - loss: 1.0319 - acc: 0.6202\n",
            "Epoch 00010: val_acc improved from 0.58293 to 0.58611, saving model to best_model.h5\n",
            "256/256 [==============================] - 42s 164ms/step - loss: 1.0319 - acc: 0.6202 - val_loss: 1.1165 - val_acc: 0.5861\n",
            "Epoch 11/50\n",
            "256/256 [==============================] - ETA: 0s - loss: 1.0117 - acc: 0.6278\n",
            "Epoch 00011: val_acc improved from 0.58611 to 0.58794, saving model to best_model.h5\n",
            "256/256 [==============================] - 42s 164ms/step - loss: 1.0117 - acc: 0.6278 - val_loss: 1.1156 - val_acc: 0.5879\n",
            "Epoch 12/50\n",
            "256/256 [==============================] - ETA: 0s - loss: 0.9858 - acc: 0.6375\n",
            "Epoch 00012: val_acc improved from 0.58794 to 0.59112, saving model to best_model.h5\n",
            "256/256 [==============================] - 42s 162ms/step - loss: 0.9858 - acc: 0.6375 - val_loss: 1.1167 - val_acc: 0.5911\n",
            "Epoch 13/50\n",
            "256/256 [==============================] - ETA: 0s - loss: 0.9652 - acc: 0.6463\n",
            "Epoch 00013: val_acc did not improve from 0.59112\n",
            "256/256 [==============================] - 41s 161ms/step - loss: 0.9652 - acc: 0.6463 - val_loss: 1.1268 - val_acc: 0.5898\n",
            "Epoch 14/50\n",
            "256/256 [==============================] - ETA: 0s - loss: 0.9419 - acc: 0.6558\n",
            "Epoch 00014: val_acc improved from 0.59112 to 0.59222, saving model to best_model.h5\n",
            "256/256 [==============================] - 41s 161ms/step - loss: 0.9419 - acc: 0.6558 - val_loss: 1.1197 - val_acc: 0.5922\n",
            "Epoch 15/50\n",
            "256/256 [==============================] - ETA: 0s - loss: 0.9175 - acc: 0.6658\n",
            "Epoch 00015: val_acc did not improve from 0.59222\n",
            "256/256 [==============================] - 41s 161ms/step - loss: 0.9175 - acc: 0.6658 - val_loss: 1.1350 - val_acc: 0.5920\n",
            "Epoch 16/50\n",
            "256/256 [==============================] - ETA: 0s - loss: 0.8935 - acc: 0.6741\n",
            "Epoch 00016: val_acc improved from 0.59222 to 0.59528, saving model to best_model.h5\n",
            "256/256 [==============================] - 41s 161ms/step - loss: 0.8935 - acc: 0.6741 - val_loss: 1.1345 - val_acc: 0.5953\n",
            "Epoch 17/50\n",
            "256/256 [==============================] - ETA: 0s - loss: 0.8734 - acc: 0.6814\n",
            "Epoch 00017: val_acc did not improve from 0.59528\n",
            "256/256 [==============================] - 41s 161ms/step - loss: 0.8734 - acc: 0.6814 - val_loss: 1.1450 - val_acc: 0.5900\n",
            "Epoch 18/50\n",
            "256/256 [==============================] - ETA: 0s - loss: 0.8437 - acc: 0.6914\n",
            "Epoch 00018: val_acc improved from 0.59528 to 0.59846, saving model to best_model.h5\n",
            "256/256 [==============================] - 41s 162ms/step - loss: 0.8437 - acc: 0.6914 - val_loss: 1.1546 - val_acc: 0.5985\n",
            "Epoch 19/50\n",
            "256/256 [==============================] - ETA: 0s - loss: 0.8202 - acc: 0.7007\n",
            "Epoch 00019: val_acc did not improve from 0.59846\n",
            "256/256 [==============================] - 41s 161ms/step - loss: 0.8202 - acc: 0.7007 - val_loss: 1.1825 - val_acc: 0.5915\n",
            "Epoch 20/50\n",
            "256/256 [==============================] - ETA: 0s - loss: 0.7962 - acc: 0.7101\n",
            "Epoch 00020: val_acc did not improve from 0.59846\n",
            "256/256 [==============================] - 42s 166ms/step - loss: 0.7962 - acc: 0.7101 - val_loss: 1.1763 - val_acc: 0.5948\n",
            "Epoch 21/50\n",
            "256/256 [==============================] - ETA: 0s - loss: 0.7768 - acc: 0.7151\n",
            "Epoch 00021: val_acc did not improve from 0.59846\n",
            "256/256 [==============================] - 42s 163ms/step - loss: 0.7768 - acc: 0.7151 - val_loss: 1.2090 - val_acc: 0.5921\n",
            "Epoch 00021: early stopping\n"
          ]
        }
      ]
    },
    {
      "cell_type": "code",
      "source": [
        "loaded_model = load_model('best_model.h5')\n",
        "print(\"\\n 테스트 정확도: %.4f\" % (loaded_model.evaluate(X_test, y_test)[1]))"
      ],
      "metadata": {
        "colab": {
          "base_uri": "https://localhost:8080/"
        },
        "id": "gi8EI9KYllHP",
        "outputId": "571052b1-7ab9-45af-cf83-9aa06a327b85"
      },
      "execution_count": null,
      "outputs": [
        {
          "output_type": "stream",
          "name": "stdout",
          "text": [
            "161/161 [==============================] - 2s 13ms/step - loss: 1.1858 - acc: 0.5883\n",
            "\n",
            " 테스트 정확도: 0.5883\n"
          ]
        }
      ]
    },
    {
      "cell_type": "code",
      "source": [
        "epochs = range(1, len(history.history['acc']) + 1)\n",
        "plt.plot(epochs, history.history['loss'])\n",
        "plt.plot(epochs, history.history['val_loss'])\n",
        "plt.title('model loss')\n",
        "plt.ylabel('loss')\n",
        "plt.xlabel('epoch')\n",
        "plt.legend(['train', 'test'], loc='upper left')\n",
        "plt.show()"
      ],
      "metadata": {
        "colab": {
          "base_uri": "https://localhost:8080/",
          "height": 295
        },
        "id": "ls63_eDGllHQ",
        "outputId": "727333c9-5cf4-4386-fda8-48c30083f5a3"
      },
      "execution_count": null,
      "outputs": [
        {
          "output_type": "display_data",
          "data": {
            "image/png": "[encoded data removed]",
            "text/plain": [
              "<Figure size 432x288 with 1 Axes>"
            ]
          },
          "metadata": {
            "needs_background": "light"
          }
        }
      ]
    },
    {
      "cell_type": "code",
      "source": [
        "# 예측해보기\n",
        "def sentiment_predict(new_sentence):\n",
        "  new_sentence = re.sub(r'[^ㄱ-ㅎㅏ-ㅣ가-힣 ]','', new_sentence)\n",
        "  new_sentence = okt.morphs(new_sentence, stem=True) # 토큰화\n",
        "  new_sentence = [word for word in new_sentence if not word in stop_words] # 불용어 제거\n",
        "  encoded = tokenizer.texts_to_sequences([new_sentence]) # 정수 인코딩\n",
        "  pad_new = pad_sequences(encoded, maxlen = max_len) # 패딩\n",
        "  score = loaded_model.predict(pad_new) # 예측\n",
        "#   print(score[0, score.argmax()])\n",
        "  return feel_bic_dic_reverse[score.argmax()]"
      ],
      "metadata": {
        "id": "fY5qvTR7llHQ"
      },
      "execution_count": null,
      "outputs": []
    },
    {
      "cell_type": "code",
      "source": [
        "sentiment_predict('사랑해')\n",
        "\n",
        "\n",
        "# 내생각엔 아마도, 패스트텍스트에서 미리 훈련한 벡터들이, 감성대화와 연관된 것이 아니라서 감성대화의 벡터를 잘 못잡아내는 것 같다는 생각을 했다. 대화체 문장을 못 잡아내지 않았나 싶음.\n",
        "# 문법에 강화된 fasttext라 대화형 감성분류에 대해 좀 더 취약했을 것 같다.\n",
        "# word2vec로 사전학습된 벡터를 사용해볼까 한다. "
      ],
      "metadata": {
        "colab": {
          "base_uri": "https://localhost:8080/",
          "height": 35
        },
        "id": "Z5od6OrullHR",
        "outputId": "7ec50291-918e-4f8a-81db-14bbd51e8966"
      },
      "execution_count": null,
      "outputs": [
        {
          "output_type": "execute_result",
          "data": {
            "application/vnd.google.colaboratory.intrinsic+json": {
              "type": "string"
            },
            "text/plain": [
              "'기쁨'"
            ]
          },
          "metadata": {},
          "execution_count": 66
        }
      ]
    },
    {
      "cell_type": "code",
      "source": [
        ""
      ],
      "metadata": {
        "id": "KIY-B5UDlmnx"
      },
      "execution_count": null,
      "outputs": []
    }
  ]
}