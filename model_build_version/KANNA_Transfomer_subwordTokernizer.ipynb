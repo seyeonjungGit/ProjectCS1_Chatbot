{
  "nbformat": 4,
  "nbformat_minor": 0,
  "metadata": {
    "colab": {
      "name": "트랜스포머를 이용한 챗봇.ipynb",
      "provenance": [],
      "toc_visible": true,
      "mount_file_id": "1UYDnQOVXnm5wnt0w9L2J1u-Y7YK4pczQ",
      "authorship_tag": "ABX9TyM7odO8OHFEwBm0sg5FtElv",
      "include_colab_link": true
    },
    "kernelspec": {
      "name": "python3",
      "display_name": "Python 3"
    },
    "language_info": {
      "name": "python"
    },
    "accelerator": "GPU"
  },
  "cells": [
    {
      "cell_type": "markdown",
      "metadata": {
        "id": "view-in-github",
        "colab_type": "text"
      },
      "source": [
        "<a href=\"https://colab.research.google.com/github/dagyeom23658/project_dayeom_chatbot/blob/main/%ED%8A%B8%EB%9E%9C%EC%8A%A4%ED%8F%AC%EB%A8%B8%EB%A5%BC_%EC%B1%97%EB%B4%87(%EC%84%9C%EB%B8%8C%EC%9B%8C%EB%93%9C%ED%86%A0%EC%BB%A4%EB%82%98%EC%9D%B4%EC%A0%80).ipynb\" target=\"_parent\"><img src=\"https://colab.research.google.com/assets/colab-badge.svg\" alt=\"Open In Colab\"/></a>"
      ]
    },
    {
      "cell_type": "code",
      "source": [
        "pip install konlpy"
      ],
      "metadata": {
        "colab": {
          "base_uri": "https://localhost:8080/"
        },
        "id": "qsc2P1c1pFK1",
        "outputId": "b8022dc8-a3c0-4b52-84ae-1c82547046e8"
      },
      "execution_count": null,
      "outputs": [
        {
          "output_type": "stream",
          "name": "stdout",
          "text": [
            "Collecting konlpy\n",
            "  Downloading konlpy-0.5.2-py2.py3-none-any.whl (19.4 MB)\n",
            "\u001b[K     |████████████████████████████████| 19.4 MB 1.3 MB/s \n",
            "\u001b[?25hRequirement already satisfied: tweepy>=3.7.0 in /usr/local/lib/python3.7/dist-packages (from konlpy) (3.10.0)\n",
            "Requirement already satisfied: lxml>=4.1.0 in /usr/local/lib/python3.7/dist-packages (from konlpy) (4.2.6)\n",
            "Collecting beautifulsoup4==4.6.0\n",
            "  Downloading beautifulsoup4-4.6.0-py3-none-any.whl (86 kB)\n",
            "\u001b[K     |████████████████████████████████| 86 kB 4.2 MB/s \n",
            "\u001b[?25hCollecting JPype1>=0.7.0\n",
            "  Downloading JPype1-1.3.0-cp37-cp37m-manylinux_2_5_x86_64.manylinux1_x86_64.whl (448 kB)\n",
            "\u001b[K     |████████████████████████████████| 448 kB 39.2 MB/s \n",
            "\u001b[?25hCollecting colorama\n",
            "  Downloading colorama-0.4.4-py2.py3-none-any.whl (16 kB)\n",
            "Requirement already satisfied: numpy>=1.6 in /usr/local/lib/python3.7/dist-packages (from konlpy) (1.19.5)\n",
            "Requirement already satisfied: typing-extensions in /usr/local/lib/python3.7/dist-packages (from JPype1>=0.7.0->konlpy) (3.10.0.2)\n",
            "Requirement already satisfied: requests-oauthlib>=0.7.0 in /usr/local/lib/python3.7/dist-packages (from tweepy>=3.7.0->konlpy) (1.3.0)\n",
            "Requirement already satisfied: requests[socks]>=2.11.1 in /usr/local/lib/python3.7/dist-packages (from tweepy>=3.7.0->konlpy) (2.23.0)\n",
            "Requirement already satisfied: six>=1.10.0 in /usr/local/lib/python3.7/dist-packages (from tweepy>=3.7.0->konlpy) (1.15.0)\n",
            "Requirement already satisfied: oauthlib>=3.0.0 in /usr/local/lib/python3.7/dist-packages (from requests-oauthlib>=0.7.0->tweepy>=3.7.0->konlpy) (3.1.1)\n",
            "Requirement already satisfied: urllib3!=1.25.0,!=1.25.1,<1.26,>=1.21.1 in /usr/local/lib/python3.7/dist-packages (from requests[socks]>=2.11.1->tweepy>=3.7.0->konlpy) (1.24.3)\n",
            "Requirement already satisfied: chardet<4,>=3.0.2 in /usr/local/lib/python3.7/dist-packages (from requests[socks]>=2.11.1->tweepy>=3.7.0->konlpy) (3.0.4)\n",
            "Requirement already satisfied: certifi>=2017.4.17 in /usr/local/lib/python3.7/dist-packages (from requests[socks]>=2.11.1->tweepy>=3.7.0->konlpy) (2021.10.8)\n",
            "Requirement already satisfied: idna<3,>=2.5 in /usr/local/lib/python3.7/dist-packages (from requests[socks]>=2.11.1->tweepy>=3.7.0->konlpy) (2.10)\n",
            "Requirement already satisfied: PySocks!=1.5.7,>=1.5.6 in /usr/local/lib/python3.7/dist-packages (from requests[socks]>=2.11.1->tweepy>=3.7.0->konlpy) (1.7.1)\n",
            "Installing collected packages: JPype1, colorama, beautifulsoup4, konlpy\n",
            "  Attempting uninstall: beautifulsoup4\n",
            "    Found existing installation: beautifulsoup4 4.6.3\n",
            "    Uninstalling beautifulsoup4-4.6.3:\n",
            "      Successfully uninstalled beautifulsoup4-4.6.3\n",
            "Successfully installed JPype1-1.3.0 beautifulsoup4-4.6.0 colorama-0.4.4 konlpy-0.5.2\n"
          ]
        }
      ]
    },
    {
      "cell_type": "markdown",
      "source": [
        "# 트랜스포머를 이용한 한국어 챗봇\n",
        "\n",
        " 2017년 구글이 발표한 논문인 \"Attention is all you need\"에서 나온 모델로 기존의 seq2seq의 구조인 인코더-디코더를 따르면서도, 논문의 이름처럼 어텐션(Attention)만으로 구현한 모델"
      ],
      "metadata": {
        "id": "SZvmOZJAvegM"
      }
    },
    {
      "cell_type": "code",
      "source": [
        "import numpy as np\n",
        "import matplotlib.pyplot as plt\n",
        "import tensorflow as tf"
      ],
      "metadata": {
        "id": "_J5cjk-vqAfy"
      },
      "execution_count": null,
      "outputs": []
    },
    {
      "cell_type": "markdown",
      "source": [
        "## 포지셔널 인코딩(Positional Encoding)\n",
        "- 기존 RNN은 단어의 위치에 따라 단어를 순차적으로 입력받아 처리하므로, 각 단어의 위치정보를 가질 수 있었다.\n",
        "\n",
        "- 트랜스포머는 단어를 순차입력받는 방식이 아니므로, 단어의 위치정보를 얻기위해 각 단어의 임베딩 벡터에 위치정보를 더해 모델의 입력으로 사용하게 된다. \n",
        "\n",
        "- 트랜스포머의 입력은 순서 정보가 고려된 임베딩 벡터이다."
      ],
      "metadata": {
        "id": "UVp9n66B1TQW"
      }
    },
    {
      "cell_type": "code",
      "source": [
        "class PositionalEncoding(tf.keras.layers.Layer):\n",
        "  def __init__(self, position, d_model):\n",
        "    super(PositionalEncoding, self).__init__()\n",
        "    self.pos_encoding = self.positional_encoding(position, d_model)\n",
        "\n",
        "  def get_angles(self, position, i, d_model):\n",
        "    angles = 1 / tf.pow(10000, (2 * (i // 2)) / tf.cast(d_model, tf.float32))\n",
        "    return position * angles\n",
        "\n",
        "  def positional_encoding(self, position, d_model):\n",
        "    angle_rads = self.get_angles(\n",
        "        position=tf.range(position, dtype=tf.float32)[:, tf.newaxis],\n",
        "        i=tf.range(d_model, dtype=tf.float32)[tf.newaxis, :],\n",
        "        d_model=d_model)\n",
        "\n",
        "    # 배열의 짝수 인덱스(2i)에는 사인 함수 적용\n",
        "    sines = tf.math.sin(angle_rads[:, 0::2])\n",
        "\n",
        "    # 배열의 홀수 인덱스(2i+1)에는 코사인 함수 적용\n",
        "    cosines = tf.math.cos(angle_rads[:, 1::2])\n",
        "\n",
        "    angle_rads = np.zeros(angle_rads.shape)\n",
        "    angle_rads[:, 0::2] = sines\n",
        "    angle_rads[:, 1::2] = cosines\n",
        "    pos_encoding = tf.constant(angle_rads)\n",
        "    pos_encoding = pos_encoding[tf.newaxis, ...]\n",
        "\n",
        "    print(pos_encoding.shape)\n",
        "    return tf.cast(pos_encoding, tf.float32)\n",
        "\n",
        "  def call(self, inputs):\n",
        "    return inputs + self.pos_encoding[:, :tf.shape(inputs)[1], :]"
      ],
      "metadata": {
        "id": "_VWWaLtwviML"
      },
      "execution_count": null,
      "outputs": []
    },
    {
      "cell_type": "markdown",
      "source": [
        "## 인코더(Encoder) - 셀프어텐션\n",
        "- 셀프 어텐션을 병렬적으로 사용\n",
        "- 어텐션 함수는 주어진 '쿼리(Query)'에 대해서 모든 '키(Key)'와의 유사도를 각각 구합니다. 그리고 구해낸 이 유사도를 가중치로 하여 키와 맵핑되어있는 각각의 '값(Value)'에 반영. 그리고 유사도가 반영된 '값(Value)'을 모두 가중합하여 리턴\n",
        "\n",
        "- 셀프 어텐션은 인코더의 초기 입력인 \n",
        "의 차원을 가지는 단어 벡터들을 사용하여 셀프 어텐션을 수행하는 것이 아니라 우선 각 단어 벡터들로부터 Q벡터, K벡터, V벡터를 얻는 작업을 거칩니다. 이때 이 Q벡터, K벡터, V벡터들은 초기 입력인 \n",
        "의 차원을 가지는 단어 벡터들보다 더 작은 차원을 가지는데, 논문에서는 \n",
        "=512의 차원을 가졌던 각 단어 벡터들을 64의 차원을 가지는 Q벡터, K벡터, V벡터로 변환하였습니다."
      ],
      "metadata": {
        "id": "78d8Y0GW9ld9"
      }
    },
    {
      "cell_type": "code",
      "source": [
        "def scaled_dot_product_attention(query, key, value, mask):\n",
        "  # query 크기 : (batch_size, num_heads, query의 문장 길이, d_model/num_heads)\n",
        "  # key 크기 : (batch_size, num_heads, key의 문장 길이, d_model/num_heads)\n",
        "  # value 크기 : (batch_size, num_heads, value의 문장 길이, d_model/num_heads)\n",
        "  # padding_mask : (batch_size, 1, 1, key의 문장 길이)\n",
        "\n",
        "  # Q와 K의 곱. 어텐션 스코어 행렬.\n",
        "  matmul_qk = tf.matmul(query, key, transpose_b=True)\n",
        "\n",
        "  # 스케일링\n",
        "  # dk의 루트값으로 나눠준다.\n",
        "  depth = tf.cast(tf.shape(key)[-1], tf.float32)\n",
        "  logits = matmul_qk / tf.math.sqrt(depth)\n",
        "\n",
        "  # 마스킹. 어텐션 스코어 행렬의 마스킹 할 위치에 매우 작은 음수값을 넣는다.\n",
        "  # 매우 작은 값이므로 소프트맥스 함수를 지나면 행렬의 해당 위치의 값은 0이 된다.\n",
        "  if mask is not None:\n",
        "    logits += (mask * -1e9)\n",
        "\n",
        "  # 소프트맥스 함수는 마지막 차원인 key의 문장 길이 방향으로 수행된다.\n",
        "  # attention weight : (batch_size, num_heads, query의 문장 길이, key의 문장 길이)\n",
        "  attention_weights = tf.nn.softmax(logits, axis=-1)\n",
        "\n",
        "  # output : (batch_size, num_heads, query의 문장 길이, d_model/num_heads)\n",
        "  output = tf.matmul(attention_weights, value)\n",
        "\n",
        "  return output, attention_weights"
      ],
      "metadata": {
        "id": "3I_PHX7J9TxG"
      },
      "execution_count": null,
      "outputs": []
    },
    {
      "cell_type": "markdown",
      "source": [
        "## 멀티 헤드 어텐션(Multi-head Attention)"
      ],
      "metadata": {
        "id": "anbm5He2JMX_"
      }
    },
    {
      "cell_type": "code",
      "source": [
        "class MultiHeadAttention(tf.keras.layers.Layer):\n",
        "\n",
        "  def __init__(self, d_model, num_heads, name=\"multi_head_attention\"):\n",
        "    super(MultiHeadAttention, self).__init__(name=name)\n",
        "    self.num_heads = num_heads\n",
        "    self.d_model = d_model\n",
        "\n",
        "    assert d_model % self.num_heads == 0\n",
        "\n",
        "    # d_model을 num_heads로 나눈 값.\n",
        "    # 논문 기준 : 64\n",
        "    self.depth = d_model // self.num_heads\n",
        "\n",
        "    # WQ, WK, WV에 해당하는 밀집층 정의\n",
        "    self.query_dense = tf.keras.layers.Dense(units=d_model)\n",
        "    self.key_dense = tf.keras.layers.Dense(units=d_model)\n",
        "    self.value_dense = tf.keras.layers.Dense(units=d_model)\n",
        "\n",
        "    # WO에 해당하는 밀집층 정의\n",
        "    self.dense = tf.keras.layers.Dense(units=d_model)\n",
        "\n",
        "  # num_heads 개수만큼 q, k, v를 split하는 함수\n",
        "  def split_heads(self, inputs, batch_size):\n",
        "    inputs = tf.reshape(\n",
        "        inputs, shape=(batch_size, -1, self.num_heads, self.depth))\n",
        "    return tf.transpose(inputs, perm=[0, 2, 1, 3])\n",
        "\n",
        "  def call(self, inputs):\n",
        "    query, key, value, mask = inputs['query'], inputs['key'], inputs[\n",
        "        'value'], inputs['mask']\n",
        "    batch_size = tf.shape(query)[0]\n",
        "\n",
        "    # 1. WQ, WK, WV에 해당하는 밀집층 지나기\n",
        "    # q : (batch_size, query의 문장 길이, d_model)\n",
        "    # k : (batch_size, key의 문장 길이, d_model)\n",
        "    # v : (batch_size, value의 문장 길이, d_model)\n",
        "    # 참고) 인코더(k, v)-디코더(q) 어텐션에서는 query 길이와 key, value의 길이는 다를 수 있다.\n",
        "    query = self.query_dense(query)\n",
        "    key = self.key_dense(key)\n",
        "    value = self.value_dense(value)\n",
        "\n",
        "    # 2. 헤드 나누기\n",
        "    # q : (batch_size, num_heads, query의 문장 길이, d_model/num_heads)\n",
        "    # k : (batch_size, num_heads, key의 문장 길이, d_model/num_heads)\n",
        "    # v : (batch_size, num_heads, value의 문장 길이, d_model/num_heads)\n",
        "    query = self.split_heads(query, batch_size)\n",
        "    key = self.split_heads(key, batch_size)\n",
        "    value = self.split_heads(value, batch_size)\n",
        "\n",
        "    # 3. 스케일드 닷 프로덕트 어텐션. 앞서 구현한 함수 사용.\n",
        "    # (batch_size, num_heads, query의 문장 길이, d_model/num_heads)\n",
        "    scaled_attention, _ = scaled_dot_product_attention(query, key, value, mask)\n",
        "    # (batch_size, query의 문장 길이, num_heads, d_model/num_heads)\n",
        "    scaled_attention = tf.transpose(scaled_attention, perm=[0, 2, 1, 3])\n",
        "\n",
        "    # 4. 헤드 연결(concatenate)하기\n",
        "    # (batch_size, query의 문장 길이, d_model)\n",
        "    concat_attention = tf.reshape(scaled_attention,\n",
        "                                  (batch_size, -1, self.d_model))\n",
        "\n",
        "    # 5. WO에 해당하는 밀집층 지나기\n",
        "    # (batch_size, query의 문장 길이, d_model)\n",
        "    outputs = self.dense(concat_attention)\n",
        "\n",
        "    return outputs"
      ],
      "metadata": {
        "id": "si-bn22LJG1t"
      },
      "execution_count": null,
      "outputs": []
    },
    {
      "cell_type": "code",
      "source": [
        "def create_padding_mask(x):\n",
        "  mask = tf.cast(tf.math.equal(x, 0), tf.float32)\n",
        "  # (batch_size, 1, 1, key의 문장 길이)\n",
        "  return mask[:, tf.newaxis, tf.newaxis, :]"
      ],
      "metadata": {
        "id": "C3QC4aHVlVeb"
      },
      "execution_count": null,
      "outputs": []
    },
    {
      "cell_type": "code",
      "source": [
        "def encoder_layer(dff, d_model, num_heads, dropout, name=\"encoder_layer\"):\n",
        "  inputs = tf.keras.Input(shape=(None, d_model), name=\"inputs\")\n",
        "\n",
        "  # 인코더는 패딩 마스크 사용\n",
        "  padding_mask = tf.keras.Input(shape=(1, 1, None), name=\"padding_mask\")\n",
        "\n",
        "  # 멀티-헤드 어텐션 (첫번째 서브층 / 셀프 어텐션)\n",
        "  attention = MultiHeadAttention(\n",
        "      d_model, num_heads, name=\"attention\")({\n",
        "          'query': inputs, 'key': inputs, 'value': inputs, # Q = K = V\n",
        "          'mask': padding_mask # 패딩 마스크 사용\n",
        "      })\n",
        "\n",
        "  # 드롭아웃 + 잔차 연결과 층 정규화\n",
        "  attention = tf.keras.layers.Dropout(rate=dropout)(attention)\n",
        "  attention = tf.keras.layers.LayerNormalization(\n",
        "      epsilon=1e-6)(inputs + attention)\n",
        "\n",
        "  # 포지션 와이즈 피드 포워드 신경망 (두번째 서브층)\n",
        "  outputs = tf.keras.layers.Dense(units=dff, activation='relu')(attention)\n",
        "  outputs = tf.keras.layers.Dense(units=d_model)(outputs)\n",
        "\n",
        "  # 드롭아웃 + 잔차 연결과 층 정규화\n",
        "  outputs = tf.keras.layers.Dropout(rate=dropout)(outputs)\n",
        "  outputs = tf.keras.layers.LayerNormalization(\n",
        "      epsilon=1e-6)(attention + outputs)\n",
        "\n",
        "  return tf.keras.Model(\n",
        "      inputs=[inputs, padding_mask], outputs=outputs, name=name)"
      ],
      "metadata": {
        "id": "qb2Yv0MSKB88"
      },
      "execution_count": null,
      "outputs": []
    },
    {
      "cell_type": "code",
      "source": [
        "def encoder(vocab_size, num_layers, dff,\n",
        "            d_model, num_heads, dropout,\n",
        "            name=\"encoder\"):\n",
        "  inputs = tf.keras.Input(shape=(None,), name=\"inputs\")\n",
        "\n",
        "  # 인코더는 패딩 마스크 사용\n",
        "  padding_mask = tf.keras.Input(shape=(1, 1, None), name=\"padding_mask\")\n",
        "\n",
        "  # 포지셔널 인코딩 + 드롭아웃\n",
        "  embeddings = tf.keras.layers.Embedding(vocab_size, d_model)(inputs)\n",
        "  embeddings *= tf.math.sqrt(tf.cast(d_model, tf.float32))\n",
        "  embeddings = PositionalEncoding(vocab_size, d_model)(embeddings)\n",
        "  outputs = tf.keras.layers.Dropout(rate=dropout)(embeddings)\n",
        "\n",
        "  # 인코더를 num_layers개 쌓기\n",
        "  for i in range(num_layers):\n",
        "    outputs = encoder_layer(dff=dff, d_model=d_model, num_heads=num_heads,\n",
        "        dropout=dropout, name=\"encoder_layer_{}\".format(i),\n",
        "    )([outputs, padding_mask])\n",
        "\n",
        "  return tf.keras.Model(\n",
        "      inputs=[inputs, padding_mask], outputs=outputs, name=name)"
      ],
      "metadata": {
        "id": "OPDocnFGLDzI"
      },
      "execution_count": null,
      "outputs": []
    },
    {
      "cell_type": "code",
      "source": [
        "# 디코더의 첫번째 서브층(sublayer)에서 미래 토큰을 Mask하는 함수\n",
        "def create_look_ahead_mask(x):\n",
        "  seq_len = tf.shape(x)[1]\n",
        "  look_ahead_mask = 1 - tf.linalg.band_part(tf.ones((seq_len, seq_len)), -1, 0)\n",
        "  padding_mask = create_padding_mask(x) # 패딩 마스크도 포함\n",
        "  return tf.maximum(look_ahead_mask, padding_mask)"
      ],
      "metadata": {
        "id": "3Q8h0fu7LK6p"
      },
      "execution_count": null,
      "outputs": []
    },
    {
      "cell_type": "code",
      "source": [
        "def decoder_layer(dff, d_model, num_heads, dropout, name=\"decoder_layer\"):\n",
        "  inputs = tf.keras.Input(shape=(None, d_model), name=\"inputs\")\n",
        "  enc_outputs = tf.keras.Input(shape=(None, d_model), name=\"encoder_outputs\")\n",
        "\n",
        "  # 룩어헤드 마스크(첫번째 서브층)\n",
        "  look_ahead_mask = tf.keras.Input(\n",
        "      shape=(1, None, None), name=\"look_ahead_mask\")\n",
        "\n",
        "  # 패딩 마스크(두번째 서브층)\n",
        "  padding_mask = tf.keras.Input(shape=(1, 1, None), name='padding_mask')\n",
        "\n",
        "  # 멀티-헤드 어텐션 (첫번째 서브층 / 마스크드 셀프 어텐션)\n",
        "  attention1 = MultiHeadAttention(\n",
        "      d_model, num_heads, name=\"attention_1\")(inputs={\n",
        "          'query': inputs, 'key': inputs, 'value': inputs, # Q = K = V\n",
        "          'mask': look_ahead_mask # 룩어헤드 마스크\n",
        "      })\n",
        "\n",
        "  # 잔차 연결과 층 정규화\n",
        "  attention1 = tf.keras.layers.LayerNormalization(\n",
        "      epsilon=1e-6)(attention1 + inputs)\n",
        "\n",
        "  # 멀티-헤드 어텐션 (두번째 서브층 / 디코더-인코더 어텐션)\n",
        "  attention2 = MultiHeadAttention(\n",
        "      d_model, num_heads, name=\"attention_2\")(inputs={\n",
        "          'query': attention1, 'key': enc_outputs, 'value': enc_outputs, # Q != K = V\n",
        "          'mask': padding_mask # 패딩 마스크\n",
        "      })\n",
        "\n",
        "  # 드롭아웃 + 잔차 연결과 층 정규화\n",
        "  attention2 = tf.keras.layers.Dropout(rate=dropout)(attention2)\n",
        "  attention2 = tf.keras.layers.LayerNormalization(\n",
        "      epsilon=1e-6)(attention2 + attention1)\n",
        "\n",
        "  # 포지션 와이즈 피드 포워드 신경망 (세번째 서브층)\n",
        "  outputs = tf.keras.layers.Dense(units=dff, activation='relu')(attention2)\n",
        "  outputs = tf.keras.layers.Dense(units=d_model)(outputs)\n",
        "\n",
        "  # 드롭아웃 + 잔차 연결과 층 정규화\n",
        "  outputs = tf.keras.layers.Dropout(rate=dropout)(outputs)\n",
        "  outputs = tf.keras.layers.LayerNormalization(\n",
        "      epsilon=1e-6)(outputs + attention2)\n",
        "\n",
        "  return tf.keras.Model(\n",
        "      inputs=[inputs, enc_outputs, look_ahead_mask, padding_mask],\n",
        "      outputs=outputs,\n",
        "      name=name)"
      ],
      "metadata": {
        "id": "C_ydOSI0LQJf"
      },
      "execution_count": null,
      "outputs": []
    },
    {
      "cell_type": "code",
      "source": [
        "def decoder(vocab_size, num_layers, dff,\n",
        "            d_model, num_heads, dropout,\n",
        "            name='decoder'):\n",
        "  inputs = tf.keras.Input(shape=(None,), name='inputs')\n",
        "  enc_outputs = tf.keras.Input(shape=(None, d_model), name='encoder_outputs')\n",
        "\n",
        "  # 디코더는 룩어헤드 마스크(첫번째 서브층)와 패딩 마스크(두번째 서브층) 둘 다 사용.\n",
        "  look_ahead_mask = tf.keras.Input(\n",
        "      shape=(1, None, None), name='look_ahead_mask')\n",
        "  padding_mask = tf.keras.Input(shape=(1, 1, None), name='padding_mask')\n",
        "\n",
        "  # 포지셔널 인코딩 + 드롭아웃\n",
        "  embeddings = tf.keras.layers.Embedding(vocab_size, d_model)(inputs)\n",
        "  embeddings *= tf.math.sqrt(tf.cast(d_model, tf.float32))\n",
        "  embeddings = PositionalEncoding(vocab_size, d_model)(embeddings)\n",
        "  outputs = tf.keras.layers.Dropout(rate=dropout)(embeddings)\n",
        "\n",
        "  # 디코더를 num_layers개 쌓기\n",
        "  for i in range(num_layers):\n",
        "    outputs = decoder_layer(dff=dff, d_model=d_model, num_heads=num_heads,\n",
        "        dropout=dropout, name='decoder_layer_{}'.format(i),\n",
        "    )(inputs=[outputs, enc_outputs, look_ahead_mask, padding_mask])\n",
        "\n",
        "  return tf.keras.Model(\n",
        "      inputs=[inputs, enc_outputs, look_ahead_mask, padding_mask],\n",
        "      outputs=outputs,\n",
        "      name=name)"
      ],
      "metadata": {
        "id": "XfHWAmMoLTmZ"
      },
      "execution_count": null,
      "outputs": []
    },
    {
      "cell_type": "code",
      "source": [
        "def transformer(vocab_size, num_layers, dff,\n",
        "                d_model, num_heads, dropout,\n",
        "                name=\"transformer\"):\n",
        "\n",
        "  # 인코더의 입력\n",
        "  inputs = tf.keras.Input(shape=(None,), name=\"inputs\")\n",
        "\n",
        "  # 디코더의 입력\n",
        "  dec_inputs = tf.keras.Input(shape=(None,), name=\"dec_inputs\")\n",
        "\n",
        "  # 인코더의 패딩 마스크\n",
        "  enc_padding_mask = tf.keras.layers.Lambda(\n",
        "      create_padding_mask, output_shape=(1, 1, None),\n",
        "      name='enc_padding_mask')(inputs)\n",
        "\n",
        "  # 디코더의 룩어헤드 마스크(첫번째 서브층)\n",
        "  look_ahead_mask = tf.keras.layers.Lambda(\n",
        "      create_look_ahead_mask, output_shape=(1, None, None),\n",
        "      name='look_ahead_mask')(dec_inputs)\n",
        "\n",
        "  # 디코더의 패딩 마스크(두번째 서브층)\n",
        "  dec_padding_mask = tf.keras.layers.Lambda(\n",
        "      create_padding_mask, output_shape=(1, 1, None),\n",
        "      name='dec_padding_mask')(inputs)\n",
        "\n",
        "  # 인코더의 출력은 enc_outputs. 디코더로 전달된다.\n",
        "  enc_outputs = encoder(vocab_size=vocab_size, num_layers=num_layers, dff=dff,\n",
        "      d_model=d_model, num_heads=num_heads, dropout=dropout,\n",
        "  )(inputs=[inputs, enc_padding_mask]) # 인코더의 입력은 입력 문장과 패딩 마스크\n",
        "\n",
        "  # 디코더의 출력은 dec_outputs. 출력층으로 전달된다.\n",
        "  dec_outputs = decoder(vocab_size=vocab_size, num_layers=num_layers, dff=dff,\n",
        "      d_model=d_model, num_heads=num_heads, dropout=dropout,\n",
        "  )(inputs=[dec_inputs, enc_outputs, look_ahead_mask, dec_padding_mask])\n",
        "\n",
        "  # 다음 단어 예측을 위한 출력층\n",
        "  outputs = tf.keras.layers.Dense(units=vocab_size, name=\"outputs\")(dec_outputs)\n",
        "\n",
        "  return tf.keras.Model(inputs=[inputs, dec_inputs], outputs=outputs, name=name)"
      ],
      "metadata": {
        "id": "UE1InZZULVZP"
      },
      "execution_count": null,
      "outputs": []
    },
    {
      "cell_type": "code",
      "source": [
        "small_transformer = transformer(\n",
        "    vocab_size = 9000,\n",
        "    num_layers = 3,\n",
        "    dff = 512,  # 디코더의 포지션 와이즈 피드 포워드 신경망의 은닉층 \n",
        "    d_model = 128,  #인코더와 디코더의 입, 출력의 차원\n",
        "    num_heads = 4,  #멀티-헤드 어텐션에서 병렬적으로 사용할 헤드의 수 \n",
        "    dropout = 0.3,\n",
        "    name=\"small_transformer\")\n",
        "\n",
        "tf.keras.utils.plot_model(\n",
        "    small_transformer, to_file='small_transformer.png', show_shapes=True)"
      ],
      "metadata": {
        "id": "4JzOysj5LYNb",
        "colab": {
          "base_uri": "https://localhost:8080/",
          "height": 496
        },
        "outputId": "d3f128a1-41ad-4d89-c335-a78c771d6625"
      },
      "execution_count": null,
      "outputs": [
        {
          "output_type": "stream",
          "name": "stdout",
          "text": [
            "(1, 9000, 128)\n",
            "(1, 9000, 128)\n"
          ]
        },
        {
          "output_type": "execute_result",
          "data": {
            "image/png": "[encoded data removed]",
            "text/plain": [
              "<IPython.core.display.Image object>"
            ]
          },
          "metadata": {},
          "execution_count": 13
        }
      ]
    },
    {
      "cell_type": "code",
      "source": [
        "def loss_function(y_true, y_pred):\n",
        "  y_true = tf.reshape(y_true, shape=(-1, MAX_LENGTH - 1))\n",
        "\n",
        "  loss = tf.keras.losses.SparseCategoricalCrossentropy(\n",
        "      from_logits=True, reduction='none')(y_true, y_pred)\n",
        "\n",
        "  mask = tf.cast(tf.not_equal(y_true, 0), tf.float32)\n",
        "  loss = tf.multiply(loss, mask)\n",
        "\n",
        "  return tf.reduce_mean(loss)"
      ],
      "metadata": {
        "id": "b3lE-iCtL_cK"
      },
      "execution_count": null,
      "outputs": []
    },
    {
      "cell_type": "code",
      "source": [
        "class CustomSchedule(tf.keras.optimizers.schedules.LearningRateSchedule):\n",
        "\n",
        "  def __init__(self, d_model, warmup_steps=4000):\n",
        "    super(CustomSchedule, self).__init__()\n",
        "    self.d_model = d_model\n",
        "    self.d_model = tf.cast(self.d_model, tf.float32)\n",
        "    self.warmup_steps = warmup_steps\n",
        "\n",
        "  def __call__(self, step):\n",
        "    arg1 = tf.math.rsqrt(step)\n",
        "    arg2 = step * (self.warmup_steps**-1.5)\n",
        "\n",
        "    return tf.math.rsqrt(self.d_model) * tf.math.minimum(arg1, arg2)"
      ],
      "metadata": {
        "id": "j0e3EYEPMDgH"
      },
      "execution_count": null,
      "outputs": []
    },
    {
      "cell_type": "code",
      "source": [
        "sample_learning_rate = CustomSchedule(d_model=128)\n",
        "\n",
        "plt.plot(sample_learning_rate(tf.range(200000, dtype=tf.float32)))\n",
        "plt.ylabel(\"Learning Rate\")\n",
        "plt.xlabel(\"Train Step\")"
      ],
      "metadata": {
        "id": "rRL_zDYOME3t",
        "colab": {
          "base_uri": "https://localhost:8080/",
          "height": 297
        },
        "outputId": "0e6b2c47-af08-48b7-f1ce-8b2b9456ea13"
      },
      "execution_count": null,
      "outputs": [
        {
          "output_type": "execute_result",
          "data": {
            "text/plain": [
              "Text(0.5, 0, 'Train Step')"
            ]
          },
          "metadata": {},
          "execution_count": 16
        },
        {
          "output_type": "display_data",
          "data": {
            "image/png": "[encoded data removed]",
            "text/plain": [
              "<Figure size 432x288 with 1 Axes>"
            ]
          },
          "metadata": {
            "needs_background": "light"
          }
        }
      ]
    },
    {
      "cell_type": "markdown",
      "source": [
        "# 파일 불러오기"
      ],
      "metadata": {
        "id": "pNqKBBiSksQ1"
      }
    },
    {
      "cell_type": "code",
      "execution_count": null,
      "metadata": {
        "id": "VTpT8Rhvnnoa"
      },
      "outputs": [],
      "source": [
        "import os\n",
        "import re\n",
        "import shutil\n",
        "import zipfile\n",
        "\n",
        "import numpy as np\n",
        "import pandas as pd\n",
        "import tensorflow as tf\n",
        "import unicodedata\n",
        "import urllib3\n",
        "from tensorflow.keras.layers import Embedding, GRU, Dense\n",
        "from tensorflow.keras.preprocessing.sequence import pad_sequences\n",
        "from tensorflow.keras.preprocessing.text import Tokenizer"
      ]
    },
    {
      "cell_type": "code",
      "source": [
        "train_data = pd.read_excel('/content/drive/MyDrive/프로젝트1/감성대화말뭉치(최종데이터)_Training.xlsx')  # 코랩에 올리고 실행되기까지 시간이 좀 걸림.\n",
        "train_data.head(3)"
      ],
      "metadata": {
        "colab": {
          "base_uri": "https://localhost:8080/",
          "height": 378
        },
        "id": "8nwFsCG3SF8W",
        "outputId": "429de4fa-cf5f-4e24-ffc9-256775523bb7"
      },
      "execution_count": null,
      "outputs": [
        {
          "output_type": "execute_result",
          "data": {
            "text/html": [
              "\n",
              "  <div id=\"df-6d6d0be4-868a-41d7-962e-7881df2239be\">\n",
              "    <div class=\"colab-df-container\">\n",
              "      <div>\n",
              "<style scoped>\n",
              "    .dataframe tbody tr th:only-of-type {\n",
              "        vertical-align: middle;\n",
              "    }\n",
              "\n",
              "    .dataframe tbody tr th {\n",
              "        vertical-align: top;\n",
              "    }\n",
              "\n",
              "    .dataframe thead th {\n",
              "        text-align: right;\n",
              "    }\n",
              "</style>\n",
              "<table border=\"1\" class=\"dataframe\">\n",
              "  <thead>\n",
              "    <tr style=\"text-align: right;\">\n",
              "      <th></th>\n",
              "      <th>번호</th>\n",
              "      <th>연령</th>\n",
              "      <th>성별</th>\n",
              "      <th>상황키워드</th>\n",
              "      <th>신체질환</th>\n",
              "      <th>감정_대분류</th>\n",
              "      <th>감정_소분류</th>\n",
              "      <th>사람문장1</th>\n",
              "      <th>시스템응답1</th>\n",
              "      <th>사람문장2</th>\n",
              "      <th>시스템응답2</th>\n",
              "      <th>사람문장3</th>\n",
              "      <th>시스템응답3</th>\n",
              "      <th>사람문장4</th>\n",
              "      <th>시스템응답4</th>\n",
              "    </tr>\n",
              "  </thead>\n",
              "  <tbody>\n",
              "    <tr>\n",
              "      <th>0</th>\n",
              "      <td>44164</td>\n",
              "      <td>청년</td>\n",
              "      <td>남성</td>\n",
              "      <td>연애, 결혼, 출산</td>\n",
              "      <td>해당없음</td>\n",
              "      <td>기쁨</td>\n",
              "      <td>신이 난</td>\n",
              "      <td>아내가 드디어 출산하게 되어서 정말 신이 나.</td>\n",
              "      <td>아내분이 출산을 하시는군요. 정말 축하드려요.</td>\n",
              "      <td>아 지금 정말 신이 나.</td>\n",
              "      <td>잘 된 일이네요.</td>\n",
              "      <td>아기가 점점 클게 벌써 기대가 되네. 내가 많이 놀아줘야지.</td>\n",
              "      <td>좋은 아빠가 되실 거 같아요. 진심으로 축하드려요.</td>\n",
              "      <td>NaN</td>\n",
              "      <td>NaN</td>\n",
              "    </tr>\n",
              "    <tr>\n",
              "      <th>1</th>\n",
              "      <td>3926</td>\n",
              "      <td>노년</td>\n",
              "      <td>남성</td>\n",
              "      <td>건강, 죽음</td>\n",
              "      <td>만성질환 유</td>\n",
              "      <td>불안</td>\n",
              "      <td>스트레스 받는</td>\n",
              "      <td>당뇨랑 합병증 때문에 먹어야 할 약이 열 가지가 넘어가니까 스트레스야.</td>\n",
              "      <td>약 종류가 많아 번거로우시겠어요.</td>\n",
              "      <td>건강할 때 관리 좀 잘할걸 하는 생각이 들더라고.</td>\n",
              "      <td>현재 상황에서 변화를 주기 위해 어떻게 하면 될까요?</td>\n",
              "      <td>약을 잘 챙겨 먹고 나을 수 있도록 노력해야지.</td>\n",
              "      <td>약을 잘 챙겨 먹어 건강해지시길 바랄게요.</td>\n",
              "      <td>NaN</td>\n",
              "      <td>NaN</td>\n",
              "    </tr>\n",
              "    <tr>\n",
              "      <th>2</th>\n",
              "      <td>50882</td>\n",
              "      <td>청소년</td>\n",
              "      <td>여성</td>\n",
              "      <td>학업 및 진로</td>\n",
              "      <td>해당없음</td>\n",
              "      <td>당황</td>\n",
              "      <td>당황</td>\n",
              "      <td>고등학교에 올라오니 중학교 때보다 수업이 갑자기 어려워져서 당황스러워.</td>\n",
              "      <td>고등학교 수업이 중학교 때와는 다르게 갑자기 어려워서 당황스러우시군요.</td>\n",
              "      <td>아직 학기 초인데 내가 수업에 잘 따라갈 수 있을지 걱정돼.</td>\n",
              "      <td>이 상황에서 할 수 있는 게 어떤 것이 있을까요?</td>\n",
              "      <td>중학교 수업을 들을 때보다 훨씬 더 열심히 할 거야.</td>\n",
              "      <td>수업을 어떤 방식으로 열심히 듣는게 좋을까요?</td>\n",
              "      <td>선생님이 강조하신 부분을 필기하고 집에서 매일 수업 내용을 복습하려고 해.</td>\n",
              "      <td>열심히 해서 좋은 결과가 있었으면 좋겠어요.</td>\n",
              "    </tr>\n",
              "  </tbody>\n",
              "</table>\n",
              "</div>\n",
              "      <button class=\"colab-df-convert\" onclick=\"convertToInteractive('df-6d6d0be4-868a-41d7-962e-7881df2239be')\"\n",
              "              title=\"Convert this dataframe to an interactive table.\"\n",
              "              style=\"display:none;\">\n",
              "        \n",
              "  <svg xmlns=\"http://www.w3.org/2000/svg\" height=\"24px\"viewBox=\"0 0 24 24\"\n",
              "       width=\"24px\">\n",
              "    <path d=\"M0 0h24v24H0V0z\" fill=\"none\"/>\n",
              "    <path d=\"M18.56 5.44l.94 2.06.94-2.06 2.06-.94-2.06-.94-.94-2.06-.94 2.06-2.06.94zm-11 1L8.5 8.5l.94-2.06 2.06-.94-2.06-.94L8.5 2.5l-.94 2.06-2.06.94zm10 10l.94 2.06.94-2.06 2.06-.94-2.06-.94-.94-2.06-.94 2.06-2.06.94z\"/><path d=\"M17.41 7.96l-1.37-1.37c-.4-.4-.92-.59-1.43-.59-.52 0-1.04.2-1.43.59L10.3 9.45l-7.72 7.72c-.78.78-.78 2.05 0 2.83L4 21.41c.39.39.9.59 1.41.59.51 0 1.02-.2 1.41-.59l7.78-7.78 2.81-2.81c.8-.78.8-2.07 0-2.86zM5.41 20L4 18.59l7.72-7.72 1.47 1.35L5.41 20z\"/>\n",
              "  </svg>\n",
              "      </button>\n",
              "      \n",
              "  <style>\n",
              "    .colab-df-container {\n",
              "      display:flex;\n",
              "      flex-wrap:wrap;\n",
              "      gap: 12px;\n",
              "    }\n",
              "\n",
              "    .colab-df-convert {\n",
              "      background-color: #E8F0FE;\n",
              "      border: none;\n",
              "      border-radius: 50%;\n",
              "      cursor: pointer;\n",
              "      display: none;\n",
              "      fill: #1967D2;\n",
              "      height: 32px;\n",
              "      padding: 0 0 0 0;\n",
              "      width: 32px;\n",
              "    }\n",
              "\n",
              "    .colab-df-convert:hover {\n",
              "      background-color: #E2EBFA;\n",
              "      box-shadow: 0px 1px 2px rgba(60, 64, 67, 0.3), 0px 1px 3px 1px rgba(60, 64, 67, 0.15);\n",
              "      fill: #174EA6;\n",
              "    }\n",
              "\n",
              "    [theme=dark] .colab-df-convert {\n",
              "      background-color: #3B4455;\n",
              "      fill: #D2E3FC;\n",
              "    }\n",
              "\n",
              "    [theme=dark] .colab-df-convert:hover {\n",
              "      background-color: #434B5C;\n",
              "      box-shadow: 0px 1px 3px 1px rgba(0, 0, 0, 0.15);\n",
              "      filter: drop-shadow(0px 1px 2px rgba(0, 0, 0, 0.3));\n",
              "      fill: #FFFFFF;\n",
              "    }\n",
              "  </style>\n",
              "\n",
              "      <script>\n",
              "        const buttonEl =\n",
              "          document.querySelector('#df-6d6d0be4-868a-41d7-962e-7881df2239be button.colab-df-convert');\n",
              "        buttonEl.style.display =\n",
              "          google.colab.kernel.accessAllowed ? 'block' : 'none';\n",
              "\n",
              "        async function convertToInteractive(key) {\n",
              "          const element = document.querySelector('#df-6d6d0be4-868a-41d7-962e-7881df2239be');\n",
              "          const dataTable =\n",
              "            await google.colab.kernel.invokeFunction('convertToInteractive',\n",
              "                                                     [key], {});\n",
              "          if (!dataTable) return;\n",
              "\n",
              "          const docLinkHtml = 'Like what you see? Visit the ' +\n",
              "            '<a target=\"_blank\" href=https://colab.research.google.com/notebooks/data_table.ipynb>data table notebook</a>'\n",
              "            + ' to learn more about interactive tables.';\n",
              "          element.innerHTML = '';\n",
              "          dataTable['output_type'] = 'display_data';\n",
              "          await google.colab.output.renderOutput(dataTable, element);\n",
              "          const docLink = document.createElement('div');\n",
              "          docLink.innerHTML = docLinkHtml;\n",
              "          element.appendChild(docLink);\n",
              "        }\n",
              "      </script>\n",
              "    </div>\n",
              "  </div>\n",
              "  "
            ],
            "text/plain": [
              "      번호  ...                    시스템응답4\n",
              "0  44164  ...                       NaN\n",
              "1   3926  ...                       NaN\n",
              "2  50882  ...  열심히 해서 좋은 결과가 있었으면 좋겠어요.\n",
              "\n",
              "[3 rows x 15 columns]"
            ]
          },
          "metadata": {},
          "execution_count": 18
        }
      ]
    },
    {
      "cell_type": "code",
      "source": [
        "val_data = pd.read_excel('/content/drive/MyDrive/프로젝트1/감성대화말뭉치(최종데이터)_Validation.xlsx')  # 코랩에 올리고 실행되기까지 시간이 좀 걸림.\n",
        "val_data.head(3)"
      ],
      "metadata": {
        "colab": {
          "base_uri": "https://localhost:8080/",
          "height": 344
        },
        "id": "zZckiPHISICq",
        "outputId": "707f62ab-adfb-4870-d7ec-14d7d968fa89"
      },
      "execution_count": null,
      "outputs": [
        {
          "output_type": "execute_result",
          "data": {
            "text/html": [
              "\n",
              "  <div id=\"df-0aaba611-25b3-4a1d-a9fa-30ec154b63d1\">\n",
              "    <div class=\"colab-df-container\">\n",
              "      <div>\n",
              "<style scoped>\n",
              "    .dataframe tbody tr th:only-of-type {\n",
              "        vertical-align: middle;\n",
              "    }\n",
              "\n",
              "    .dataframe tbody tr th {\n",
              "        vertical-align: top;\n",
              "    }\n",
              "\n",
              "    .dataframe thead th {\n",
              "        text-align: right;\n",
              "    }\n",
              "</style>\n",
              "<table border=\"1\" class=\"dataframe\">\n",
              "  <thead>\n",
              "    <tr style=\"text-align: right;\">\n",
              "      <th></th>\n",
              "      <th>번호</th>\n",
              "      <th>연령</th>\n",
              "      <th>성별</th>\n",
              "      <th>상황키워드</th>\n",
              "      <th>신체질환</th>\n",
              "      <th>감정_대분류</th>\n",
              "      <th>감정_소분류</th>\n",
              "      <th>사람문장1</th>\n",
              "      <th>시스템응답1</th>\n",
              "      <th>사람문장2</th>\n",
              "      <th>시스템응답2</th>\n",
              "      <th>사람문장3</th>\n",
              "      <th>시스템응답3</th>\n",
              "      <th>사람문장4</th>\n",
              "      <th>시스템응답4</th>\n",
              "    </tr>\n",
              "  </thead>\n",
              "  <tbody>\n",
              "    <tr>\n",
              "      <th>0</th>\n",
              "      <td>23093</td>\n",
              "      <td>청년</td>\n",
              "      <td>여성</td>\n",
              "      <td>진로, 취업, 직장</td>\n",
              "      <td>해당없음</td>\n",
              "      <td>분노</td>\n",
              "      <td>툴툴대는</td>\n",
              "      <td>요즘 부모님과 많이 부딪혀.</td>\n",
              "      <td>어떤 일로 부딪히시나요?</td>\n",
              "      <td>난 하고 싶은 일이 있는데 부모님은 안정적인 일만 하라고 하셔. 내 마음대로 하지도...</td>\n",
              "      <td>부모님과의 충돌로 힘드시겠군요.</td>\n",
              "      <td>응. 그래도 난 내가 하고 싶은 일을 위해 노력할 거야.</td>\n",
              "      <td>자신이 하고 싶은 일을 목표로 하기로 하셨군요.</td>\n",
              "      <td>NaN</td>\n",
              "      <td>NaN</td>\n",
              "    </tr>\n",
              "    <tr>\n",
              "      <th>1</th>\n",
              "      <td>32848</td>\n",
              "      <td>청소년</td>\n",
              "      <td>남성</td>\n",
              "      <td>가족관계</td>\n",
              "      <td>해당없음</td>\n",
              "      <td>슬픔</td>\n",
              "      <td>비통한</td>\n",
              "      <td>엄마가 결국 집을 나갔어. 너무 너무 슬퍼.</td>\n",
              "      <td>어머니께서 집을 나가셨다니 정말 슬프셨겠어요. 좀 더 자세히 얘기해주시겠어요?</td>\n",
              "      <td>엄마도 엄마만의 인생이 있을 테니 가지 말라고 할 수가 없었어. 그래서 더 마음이 ...</td>\n",
              "      <td>정말 많이 답답하셨겠어요. 어떻게 하는 게 기분이 좀 풀릴까요?</td>\n",
              "      <td>일단 좀 자야겠어.</td>\n",
              "      <td>일단 휴식을 가질 생각이시군요.</td>\n",
              "      <td>NaN</td>\n",
              "      <td>NaN</td>\n",
              "    </tr>\n",
              "    <tr>\n",
              "      <th>2</th>\n",
              "      <td>35590</td>\n",
              "      <td>청소년</td>\n",
              "      <td>남성</td>\n",
              "      <td>학교폭력/따돌림</td>\n",
              "      <td>해당없음</td>\n",
              "      <td>불안</td>\n",
              "      <td>조심스러운</td>\n",
              "      <td>학교에서 한 친구를 괴롭히는 무리에게 그만하라고 했어.</td>\n",
              "      <td>용기 있는 행동을 하셨네요. 마음이 어떠셨나요?</td>\n",
              "      <td>그런데 말을 하고 난 후 나도 괴롭힐까 봐 불안했어.</td>\n",
              "      <td>그랬군요. 지금 기분에서 벗어나기 위해 할 수 있는 일에는 무엇이 있을까요?</td>\n",
              "      <td>나는 옳은 일을 한 거라고 생각해. 나까지 괴롭힌다면 신고할 거야.</td>\n",
              "      <td>지금의 상황이 나의 방식으로써 잘 해결될 수 있기를 바라요.</td>\n",
              "      <td>NaN</td>\n",
              "      <td>NaN</td>\n",
              "    </tr>\n",
              "  </tbody>\n",
              "</table>\n",
              "</div>\n",
              "      <button class=\"colab-df-convert\" onclick=\"convertToInteractive('df-0aaba611-25b3-4a1d-a9fa-30ec154b63d1')\"\n",
              "              title=\"Convert this dataframe to an interactive table.\"\n",
              "              style=\"display:none;\">\n",
              "        \n",
              "  <svg xmlns=\"http://www.w3.org/2000/svg\" height=\"24px\"viewBox=\"0 0 24 24\"\n",
              "       width=\"24px\">\n",
              "    <path d=\"M0 0h24v24H0V0z\" fill=\"none\"/>\n",
              "    <path d=\"M18.56 5.44l.94 2.06.94-2.06 2.06-.94-2.06-.94-.94-2.06-.94 2.06-2.06.94zm-11 1L8.5 8.5l.94-2.06 2.06-.94-2.06-.94L8.5 2.5l-.94 2.06-2.06.94zm10 10l.94 2.06.94-2.06 2.06-.94-2.06-.94-.94-2.06-.94 2.06-2.06.94z\"/><path d=\"M17.41 7.96l-1.37-1.37c-.4-.4-.92-.59-1.43-.59-.52 0-1.04.2-1.43.59L10.3 9.45l-7.72 7.72c-.78.78-.78 2.05 0 2.83L4 21.41c.39.39.9.59 1.41.59.51 0 1.02-.2 1.41-.59l7.78-7.78 2.81-2.81c.8-.78.8-2.07 0-2.86zM5.41 20L4 18.59l7.72-7.72 1.47 1.35L5.41 20z\"/>\n",
              "  </svg>\n",
              "      </button>\n",
              "      \n",
              "  <style>\n",
              "    .colab-df-container {\n",
              "      display:flex;\n",
              "      flex-wrap:wrap;\n",
              "      gap: 12px;\n",
              "    }\n",
              "\n",
              "    .colab-df-convert {\n",
              "      background-color: #E8F0FE;\n",
              "      border: none;\n",
              "      border-radius: 50%;\n",
              "      cursor: pointer;\n",
              "      display: none;\n",
              "      fill: #1967D2;\n",
              "      height: 32px;\n",
              "      padding: 0 0 0 0;\n",
              "      width: 32px;\n",
              "    }\n",
              "\n",
              "    .colab-df-convert:hover {\n",
              "      background-color: #E2EBFA;\n",
              "      box-shadow: 0px 1px 2px rgba(60, 64, 67, 0.3), 0px 1px 3px 1px rgba(60, 64, 67, 0.15);\n",
              "      fill: #174EA6;\n",
              "    }\n",
              "\n",
              "    [theme=dark] .colab-df-convert {\n",
              "      background-color: #3B4455;\n",
              "      fill: #D2E3FC;\n",
              "    }\n",
              "\n",
              "    [theme=dark] .colab-df-convert:hover {\n",
              "      background-color: #434B5C;\n",
              "      box-shadow: 0px 1px 3px 1px rgba(0, 0, 0, 0.15);\n",
              "      filter: drop-shadow(0px 1px 2px rgba(0, 0, 0, 0.3));\n",
              "      fill: #FFFFFF;\n",
              "    }\n",
              "  </style>\n",
              "\n",
              "      <script>\n",
              "        const buttonEl =\n",
              "          document.querySelector('#df-0aaba611-25b3-4a1d-a9fa-30ec154b63d1 button.colab-df-convert');\n",
              "        buttonEl.style.display =\n",
              "          google.colab.kernel.accessAllowed ? 'block' : 'none';\n",
              "\n",
              "        async function convertToInteractive(key) {\n",
              "          const element = document.querySelector('#df-0aaba611-25b3-4a1d-a9fa-30ec154b63d1');\n",
              "          const dataTable =\n",
              "            await google.colab.kernel.invokeFunction('convertToInteractive',\n",
              "                                                     [key], {});\n",
              "          if (!dataTable) return;\n",
              "\n",
              "          const docLinkHtml = 'Like what you see? Visit the ' +\n",
              "            '<a target=\"_blank\" href=https://colab.research.google.com/notebooks/data_table.ipynb>data table notebook</a>'\n",
              "            + ' to learn more about interactive tables.';\n",
              "          element.innerHTML = '';\n",
              "          dataTable['output_type'] = 'display_data';\n",
              "          await google.colab.output.renderOutput(dataTable, element);\n",
              "          const docLink = document.createElement('div');\n",
              "          docLink.innerHTML = docLinkHtml;\n",
              "          element.appendChild(docLink);\n",
              "        }\n",
              "      </script>\n",
              "    </div>\n",
              "  </div>\n",
              "  "
            ],
            "text/plain": [
              "      번호   연령  성별  ...                             시스템응답3 사람문장4 시스템응답4\n",
              "0  23093   청년  여성  ...         자신이 하고 싶은 일을 목표로 하기로 하셨군요.   NaN    NaN\n",
              "1  32848  청소년  남성  ...                  일단 휴식을 가질 생각이시군요.   NaN    NaN\n",
              "2  35590  청소년  남성  ...  지금의 상황이 나의 방식으로써 잘 해결될 수 있기를 바라요.   NaN    NaN\n",
              "\n",
              "[3 rows x 15 columns]"
            ]
          },
          "metadata": {},
          "execution_count": 19
        }
      ]
    },
    {
      "cell_type": "code",
      "source": [
        "stop_words1 = pd.read_excel('/content/drive/MyDrive/프로젝트1/ko_stop_words.xlsx',header=None) "
      ],
      "metadata": {
        "id": "J66SVrMaSKMd"
      },
      "execution_count": null,
      "outputs": []
    },
    {
      "cell_type": "code",
      "source": [
        "stop_words2 = pd.read_excel('/content/drive/MyDrive/프로젝트1/ko_stop_words2.xlsx', header=None)  # 코랩에 올리고 실행되기까지 시간이 좀 걸림.\n",
        "stop_words2.head()"
      ],
      "metadata": {
        "colab": {
          "base_uri": "https://localhost:8080/",
          "height": 206
        },
        "id": "SVmwl6jtSR83",
        "outputId": "70b66a40-5239-4991-d321-29cb42b71867"
      },
      "execution_count": null,
      "outputs": [
        {
          "output_type": "execute_result",
          "data": {
            "text/html": [
              "\n",
              "  <div id=\"df-4a99e600-df8e-40d0-a26b-357e68056b94\">\n",
              "    <div class=\"colab-df-container\">\n",
              "      <div>\n",
              "<style scoped>\n",
              "    .dataframe tbody tr th:only-of-type {\n",
              "        vertical-align: middle;\n",
              "    }\n",
              "\n",
              "    .dataframe tbody tr th {\n",
              "        vertical-align: top;\n",
              "    }\n",
              "\n",
              "    .dataframe thead th {\n",
              "        text-align: right;\n",
              "    }\n",
              "</style>\n",
              "<table border=\"1\" class=\"dataframe\">\n",
              "  <thead>\n",
              "    <tr style=\"text-align: right;\">\n",
              "      <th></th>\n",
              "      <th>0</th>\n",
              "      <th>1</th>\n",
              "      <th>2</th>\n",
              "    </tr>\n",
              "  </thead>\n",
              "  <tbody>\n",
              "    <tr>\n",
              "      <th>0</th>\n",
              "      <td>이</td>\n",
              "      <td>VCP</td>\n",
              "      <td>0.018280</td>\n",
              "    </tr>\n",
              "    <tr>\n",
              "      <th>1</th>\n",
              "      <td>있</td>\n",
              "      <td>VA</td>\n",
              "      <td>0.011699</td>\n",
              "    </tr>\n",
              "    <tr>\n",
              "      <th>2</th>\n",
              "      <td>하</td>\n",
              "      <td>VV</td>\n",
              "      <td>0.009774</td>\n",
              "    </tr>\n",
              "    <tr>\n",
              "      <th>3</th>\n",
              "      <td>것</td>\n",
              "      <td>NNB</td>\n",
              "      <td>0.009733</td>\n",
              "    </tr>\n",
              "    <tr>\n",
              "      <th>4</th>\n",
              "      <td>들</td>\n",
              "      <td>XSN</td>\n",
              "      <td>0.006898</td>\n",
              "    </tr>\n",
              "  </tbody>\n",
              "</table>\n",
              "</div>\n",
              "      <button class=\"colab-df-convert\" onclick=\"convertToInteractive('df-4a99e600-df8e-40d0-a26b-357e68056b94')\"\n",
              "              title=\"Convert this dataframe to an interactive table.\"\n",
              "              style=\"display:none;\">\n",
              "        \n",
              "  <svg xmlns=\"http://www.w3.org/2000/svg\" height=\"24px\"viewBox=\"0 0 24 24\"\n",
              "       width=\"24px\">\n",
              "    <path d=\"M0 0h24v24H0V0z\" fill=\"none\"/>\n",
              "    <path d=\"M18.56 5.44l.94 2.06.94-2.06 2.06-.94-2.06-.94-.94-2.06-.94 2.06-2.06.94zm-11 1L8.5 8.5l.94-2.06 2.06-.94-2.06-.94L8.5 2.5l-.94 2.06-2.06.94zm10 10l.94 2.06.94-2.06 2.06-.94-2.06-.94-.94-2.06-.94 2.06-2.06.94z\"/><path d=\"M17.41 7.96l-1.37-1.37c-.4-.4-.92-.59-1.43-.59-.52 0-1.04.2-1.43.59L10.3 9.45l-7.72 7.72c-.78.78-.78 2.05 0 2.83L4 21.41c.39.39.9.59 1.41.59.51 0 1.02-.2 1.41-.59l7.78-7.78 2.81-2.81c.8-.78.8-2.07 0-2.86zM5.41 20L4 18.59l7.72-7.72 1.47 1.35L5.41 20z\"/>\n",
              "  </svg>\n",
              "      </button>\n",
              "      \n",
              "  <style>\n",
              "    .colab-df-container {\n",
              "      display:flex;\n",
              "      flex-wrap:wrap;\n",
              "      gap: 12px;\n",
              "    }\n",
              "\n",
              "    .colab-df-convert {\n",
              "      background-color: #E8F0FE;\n",
              "      border: none;\n",
              "      border-radius: 50%;\n",
              "      cursor: pointer;\n",
              "      display: none;\n",
              "      fill: #1967D2;\n",
              "      height: 32px;\n",
              "      padding: 0 0 0 0;\n",
              "      width: 32px;\n",
              "    }\n",
              "\n",
              "    .colab-df-convert:hover {\n",
              "      background-color: #E2EBFA;\n",
              "      box-shadow: 0px 1px 2px rgba(60, 64, 67, 0.3), 0px 1px 3px 1px rgba(60, 64, 67, 0.15);\n",
              "      fill: #174EA6;\n",
              "    }\n",
              "\n",
              "    [theme=dark] .colab-df-convert {\n",
              "      background-color: #3B4455;\n",
              "      fill: #D2E3FC;\n",
              "    }\n",
              "\n",
              "    [theme=dark] .colab-df-convert:hover {\n",
              "      background-color: #434B5C;\n",
              "      box-shadow: 0px 1px 3px 1px rgba(0, 0, 0, 0.15);\n",
              "      filter: drop-shadow(0px 1px 2px rgba(0, 0, 0, 0.3));\n",
              "      fill: #FFFFFF;\n",
              "    }\n",
              "  </style>\n",
              "\n",
              "      <script>\n",
              "        const buttonEl =\n",
              "          document.querySelector('#df-4a99e600-df8e-40d0-a26b-357e68056b94 button.colab-df-convert');\n",
              "        buttonEl.style.display =\n",
              "          google.colab.kernel.accessAllowed ? 'block' : 'none';\n",
              "\n",
              "        async function convertToInteractive(key) {\n",
              "          const element = document.querySelector('#df-4a99e600-df8e-40d0-a26b-357e68056b94');\n",
              "          const dataTable =\n",
              "            await google.colab.kernel.invokeFunction('convertToInteractive',\n",
              "                                                     [key], {});\n",
              "          if (!dataTable) return;\n",
              "\n",
              "          const docLinkHtml = 'Like what you see? Visit the ' +\n",
              "            '<a target=\"_blank\" href=https://colab.research.google.com/notebooks/data_table.ipynb>data table notebook</a>'\n",
              "            + ' to learn more about interactive tables.';\n",
              "          element.innerHTML = '';\n",
              "          dataTable['output_type'] = 'display_data';\n",
              "          await google.colab.output.renderOutput(dataTable, element);\n",
              "          const docLink = document.createElement('div');\n",
              "          docLink.innerHTML = docLinkHtml;\n",
              "          element.appendChild(docLink);\n",
              "        }\n",
              "      </script>\n",
              "    </div>\n",
              "  </div>\n",
              "  "
            ],
            "text/plain": [
              "   0    1         2\n",
              "0  이  VCP  0.018280\n",
              "1  있   VA  0.011699\n",
              "2  하   VV  0.009774\n",
              "3  것  NNB  0.009733\n",
              "4  들  XSN  0.006898"
            ]
          },
          "metadata": {},
          "execution_count": 21
        }
      ]
    },
    {
      "cell_type": "code",
      "source": [
        "print(stop_words1.shape)\n",
        "print(stop_words1.isna().sum())\n",
        "\n",
        "stop1 = stop_words1.iloc[:,0].to_frame().values.tolist()\n",
        "stop2 = stop_words1.iloc[:,1].to_frame().values.tolist()\n",
        "stop3 = stop_words1.iloc[:,2].to_frame().dropna().values.tolist()\n",
        "\n",
        "# 2차원리스트 -> 1차원리스트로 변환 https://codechacha.com/ko/python-flatten-list/\n",
        "\n",
        "stop = stop1+stop2+stop3\n",
        "print(len(stop))\n",
        "\n",
        "stop2=sum(stop,[])\n",
        "print(len(stop2))\n",
        "\n",
        "stop_im = stop_words2[0].to_list()\n",
        "stop_word=stop2 + stop_im\n",
        "print(len(stop_word))\n",
        "\n",
        "stop_words=set(stop_word)\n",
        "print(stop_words)"
      ],
      "metadata": {
        "colab": {
          "base_uri": "https://localhost:8080/"
        },
        "id": "6akFQPncSTX2",
        "outputId": "ce01c7b1-9eb4-4339-a277-993568ce8017"
      },
      "execution_count": null,
      "outputs": [
        {
          "output_type": "stream",
          "name": "stdout",
          "text": [
            "(250, 3)\n",
            "0     0\n",
            "1     0\n",
            "2    73\n",
            "dtype: int64\n",
            "677\n",
            "677\n",
            "777\n",
            "{'결과에 이르다', '하면서', '둘', '크', '오', '이리하여', '몇', '설사', '우리들', '어떠한', '다시', '아이구', '비록', '이래', '퉤', '솨', '나', '데', '하기 위하여', '비길수 없다', '어찌', '그러므로', '버금', '오히려', '할때', '부터', '콸콸', '한다면', '어째서', '기대여', '하느니', '받', '따라서', '진짜로', '이러이러하다', '하지 않도록', '저희', '할줄알다', '이렇', '지', '전후', '에 가서', '실로', '일것이다', '따위', '만큼', '헉', '까악', '무엇', '일반적으로', '대하', '무릎쓰고', '이천육', '좍좍', '때', '사회', '부류의 사람들', '거의', '게우다', '하여야', '때문', '아야', '그런 까닭에', '더', '힘입어', '그들', '말할것도 없고', '두번째로', '삐걱', '하마터면', '어떻', '더불어', '여전히', '가까스로', '동시에', '봐라', '너희들', '연관되다', '같', '관하여', '마음대로', '이외에도', '아무도', '그에 따르는', '해도좋다', '붕붕', '이러한', '하지 않는다면', '여보시오', '하게될것이다', '왜', '이렇구나', '각', '아하', '이 정도의', '기준으로', '알았어', '이용하여', '월', '원', '결국', '하곤하였다', '설령', '만일', '사실', '틈타', '언제', '팍', '륙', '휴', '비슷하다', '그러한즉', '어때', '에 대해', '오로지', '하든지', '구체적으로', '요컨대', '입장에서', '구토하다', '이럴정도로', '남들', '어찌됏든', '우리', '더욱이는', '등등', '그리하여', '이 외에', '오자마자', '좀', '조차도', '넷', '하면된다', '일때', '을', '매번', '나오', '무엇때문에', '댕그', '여기', '어이', '해요', '한 후', '어', '쿵', '영차', '하고있었다', '씨', '없', '즉시', '하려고하다', '이 때문에', '요만한 것', '놀라다', '할 줄 안다', '이와 같은', '그때', '어느 년도', '시각', '이 되다', '있다', '또한', '앗', '비추어 보아', '그렇게 함으로써', '남짓', '좋', '팔', '의', '네', '동안', '얼마큼', '한마디', '다음', '까지도', '것', '시초에', '잠시', '얼마간', '제', '하지마라', '혹은', '하자마자', '불문하고', '하도록하다', '이번', '로', '따라', '결론을 낼 수 있다', '로 인하여', '든간에', '야', '개', '만이 아니다', '밖에 안된다', '당장', '다시말하면', '허허', '해봐요', '이만큼', '할 생각이다', '엉엉', '아니라면', '한다면 몰라도', '임에 틀림없다', '비하면', '또', '어떻게', '를', '것들', '이쪽', '갖고말하자면', '더라도', '끼익', '허', '이상', '위해서', '관련이 있다', '까지 미치다', '이', '반드시', '다른', '하는 김에', '으로써', '하는것이 낫다', '아', '훨씬', '만 못하다', '다시 말하자면', '할 지경이다', '그럼', '얼마든지', '많', '하더라도', '운운', '하지만', '그러', '앞에서', '자', '정도에 이르다', '점에서 보아', '할지라도', '의해서', '중에서', '아울러', '쾅쾅', '주', '혹시', '더욱더', '정도', '그렇지않으면', '차라리', '과', '있', '위하', '지금', '점', '예', '않기 위하여', '할뿐', '하', '이어서', '명', '쪽으로', '위에서 서술한바와같이', '일', '하는 편이 낫다', '이 밖에', '하게하다', '저쪽', '어찌하든지', '시간', '이와 반대로', '헉헉', '와르르', '도달하다', '자기', '그녀', '그렇지 않다면', '이르기까지', '그치지 않다', '령', '어느때', '그러니까', '에게', '예를 들자면', '뒤따라', '하여금', '주저하지 않고', '펄렁', '어쨋든', '에 달려 있다', '단지', '응', '들', '지말고', '줄은 몰랏다', '년', '흐흐', '마저도', '한항목', '생각한대로', '저', '하고 있다', '와 같은 사람들', '아홉', '흥', '총적으로 보면', '둥둥', '딱', '여덟', '로써', '입각하여', '등', '뿐만 아니라', '하는바', '할 따름이다', '의해', '근거로', '한', '아이고', '만약', '중의하나', '이곳', '어느곳', '할 힘이 있다', '해야한다', '마저', '무슨', '뒤이어', '본대로', '위하여', '그렇', '어찌됏어', '못하', '막론하고', '약간', '물론', '같이', '이때', '외에도', '연이서', '거니와', '그래', '와', '시키', '않기 위해서', '향하여', '그런즉', '바꾸어말하자면', '까닭으로', '제각기', '거바', '여러분', '그저', '하기는한데', '설마', '그것', '라 해도', '비걱거리다', '잘', '논하지 않다', '관해서는', '해도된다', '해서는 안된다', '어쩔수 없다', '가령', '더구나', '만은 아니다', '잇따라', '어느', '때문에', '자신', '바와같이', '타인', '여', '되', '아무거나', '바꾸어말하면', '싶', '어찌하여', '알', '습니다', '헐떡헐떡', '생각', '지든지', '그러나', '다만', '즉', '그렇지만', '이었다', '어느해', '그', '다음으로', '관계가 있다', '하구나', '주룩주룩', '하기에', '줄은모른다', '하면 할수록', '당신', '요만큼', '자기집', '도착하다', '삼', '할만하다', '윙윙', '얼마나', '모르', '전부', '앞', '생각하', '하기만 하면', '다섯', '시작하여', '바꿔 말하면', '저기', '셋', '으로 인하여', '기점으로', '이런', '된이상', '저것만큼', '한켠으로는', '않', '할지언정', '다음에', '자마자', '할수있다', '할수있어', '얼마', '아래윗', '중', '이렇게 많은 것', '뿐이다', '겸사겸사', '할망정', '쉿', '이천팔', '및', '보드득', '인젠', '에서', '비교적', '그렇지', '이렇게말하자면', '여자', '비로소', '삐걱거리다', '그래도', '바꾸어서 한다면', '양자', '매', '습니까', '소생', '일단', '그위에', '뚝뚝', '이천구', '두', '개의치않고', '까지', '어떤것들', '보는데서', '아니었다면', '이와같다면', '토하다', '상대적으로 말하자면', '고려하면', '첫번째로', '한 이유는', '우르르', '즈음하여', '형식으로 쓰여', '고로', '보다더', '말하자면', '예를 들면', '참', '말', '아니면', '그렇지 않으면', '왜냐하면', '하겠는가', '봐', '하기 때문에', '다수', '언젠가', '하하', '게다가', '응당', '쳇', '각자', '곧', '기타', '총적으로 말하면', '일지라도', '이로 인하여', '집', '너희', '번', '따지지 않다', '안 그러면', '문제', '관계없이', '같다', '한 까닭에', '좋아', '하는것만 못하다', '견지에서', '아이쿠', '툭', '칠', '영', '각종', '다소', '만들', '로부터', '오직', '그런데', '이렇게되면', '으로서', '이와 같다', '누가 알겠는가', '이유만으로', '에', '저것', '뿐만아니라', '하는것도', '통하', '과연', '혼자', '잠깐', '사', '대해 말하자면', '얼마 안 되는 것', '전자', '하도록시키다', '이라면', '타다', '그럼에도 불구하고', '여부', '휘익', '모', '그러니', '말하', '각각', '통하여', '그러면', '의해되다', '그래서', '바꾸어서 말하면', '더군다나', '경우', '퍽', '이천칠', '때가 되어', '가지', '그중에서', '소리', '그리고', '졸졸', '그만이다', '관한', '겨우', '이것', '만약에', '이젠', '내', '보이', '따르', '여섯', '딩동', '이지만', '대로 하다', '참나', '인 듯하다', '한데', '대해서', '어떤', '오호', '너', '의지하여', '하도다', '공동으로', '허걱', '무렵', '반대로', '근거하여', '하기보다는', '하물며', '향해서', '어디', '끙끙', '조차', '바로', '마치', '총적으로', '했어요', '함께', '시키다', '심지어', '아이야', '여차', '제외하고', '수', '탕탕', '예컨대', '아니', '구', '향하다', '와아', '요만한걸', '얼마만큼', '꽈당', '어떻해', '의거하여', '앞의것', '한적이있다', '어기여차', '조금', '어떤것', '지만', '어느쪽', '살', '나머지는', '놓', '보', '옆사람', '에 있다', '전', '우에 종합한것과같이', '하나', '알 수 있다', '사람', '일곱', '다른 방면으로', '것과 같이', '육', '모두', '우선', '에 한하다', '아이', '어느것', '하지마', '오르다', '대하면', '아니나다를가', '적', '그런', '불구하고', '으로', '답다', '예하면', '이봐', '된바에야', '누구', '속', '메쓰겁다', '반대로 말하자면', '소인', '안', '가', '대하여'}\n"
          ]
        }
      ]
    },
    {
      "cell_type": "code",
      "source": [
        "stop_words.add(',')\n",
        "stop_words.add('.')"
      ],
      "metadata": {
        "id": "0458hEN-SVsv"
      },
      "execution_count": null,
      "outputs": []
    },
    {
      "cell_type": "code",
      "source": [
        "import pandas as pd\n",
        "import numpy as np\n",
        "import matplotlib.pyplot as plt\n",
        "from tensorflow.keras.preprocessing.text import Tokenizer\n",
        "from tensorflow.keras.utils import to_categorical"
      ],
      "metadata": {
        "id": "kI31AhjdSYMo"
      },
      "execution_count": null,
      "outputs": []
    },
    {
      "cell_type": "code",
      "source": [
        "train_data['번호']=train_data['번호'].astype('str')\n",
        "\n",
        "# 앞뒤 공백 처리.\n",
        "train_data =train_data.apply(lambda x: x.str.strip() , axis = 1)  #https://www.delftstack.com/ko/howto/python-pandas/difference-between-pandas-apply-map-and-applymap/\n",
        "train_data.head(3)"
      ],
      "metadata": {
        "colab": {
          "base_uri": "https://localhost:8080/",
          "height": 378
        },
        "id": "EISFJkw5SmkN",
        "outputId": "b56efe55-faf2-4fe2-fb34-e7dccf0fed0a"
      },
      "execution_count": null,
      "outputs": [
        {
          "output_type": "execute_result",
          "data": {
            "text/html": [
              "\n",
              "  <div id=\"df-b7a31692-7695-45b8-983a-685c6f19eb37\">\n",
              "    <div class=\"colab-df-container\">\n",
              "      <div>\n",
              "<style scoped>\n",
              "    .dataframe tbody tr th:only-of-type {\n",
              "        vertical-align: middle;\n",
              "    }\n",
              "\n",
              "    .dataframe tbody tr th {\n",
              "        vertical-align: top;\n",
              "    }\n",
              "\n",
              "    .dataframe thead th {\n",
              "        text-align: right;\n",
              "    }\n",
              "</style>\n",
              "<table border=\"1\" class=\"dataframe\">\n",
              "  <thead>\n",
              "    <tr style=\"text-align: right;\">\n",
              "      <th></th>\n",
              "      <th>번호</th>\n",
              "      <th>연령</th>\n",
              "      <th>성별</th>\n",
              "      <th>상황키워드</th>\n",
              "      <th>신체질환</th>\n",
              "      <th>감정_대분류</th>\n",
              "      <th>감정_소분류</th>\n",
              "      <th>사람문장1</th>\n",
              "      <th>시스템응답1</th>\n",
              "      <th>사람문장2</th>\n",
              "      <th>시스템응답2</th>\n",
              "      <th>사람문장3</th>\n",
              "      <th>시스템응답3</th>\n",
              "      <th>사람문장4</th>\n",
              "      <th>시스템응답4</th>\n",
              "    </tr>\n",
              "  </thead>\n",
              "  <tbody>\n",
              "    <tr>\n",
              "      <th>0</th>\n",
              "      <td>44164</td>\n",
              "      <td>청년</td>\n",
              "      <td>남성</td>\n",
              "      <td>연애, 결혼, 출산</td>\n",
              "      <td>해당없음</td>\n",
              "      <td>기쁨</td>\n",
              "      <td>신이 난</td>\n",
              "      <td>아내가 드디어 출산하게 되어서 정말 신이 나.</td>\n",
              "      <td>아내분이 출산을 하시는군요. 정말 축하드려요.</td>\n",
              "      <td>아 지금 정말 신이 나.</td>\n",
              "      <td>잘 된 일이네요.</td>\n",
              "      <td>아기가 점점 클게 벌써 기대가 되네. 내가 많이 놀아줘야지.</td>\n",
              "      <td>좋은 아빠가 되실 거 같아요. 진심으로 축하드려요.</td>\n",
              "      <td>NaN</td>\n",
              "      <td>NaN</td>\n",
              "    </tr>\n",
              "    <tr>\n",
              "      <th>1</th>\n",
              "      <td>3926</td>\n",
              "      <td>노년</td>\n",
              "      <td>남성</td>\n",
              "      <td>건강, 죽음</td>\n",
              "      <td>만성질환 유</td>\n",
              "      <td>불안</td>\n",
              "      <td>스트레스 받는</td>\n",
              "      <td>당뇨랑 합병증 때문에 먹어야 할 약이 열 가지가 넘어가니까 스트레스야.</td>\n",
              "      <td>약 종류가 많아 번거로우시겠어요.</td>\n",
              "      <td>건강할 때 관리 좀 잘할걸 하는 생각이 들더라고.</td>\n",
              "      <td>현재 상황에서 변화를 주기 위해 어떻게 하면 될까요?</td>\n",
              "      <td>약을 잘 챙겨 먹고 나을 수 있도록 노력해야지.</td>\n",
              "      <td>약을 잘 챙겨 먹어 건강해지시길 바랄게요.</td>\n",
              "      <td>NaN</td>\n",
              "      <td>NaN</td>\n",
              "    </tr>\n",
              "    <tr>\n",
              "      <th>2</th>\n",
              "      <td>50882</td>\n",
              "      <td>청소년</td>\n",
              "      <td>여성</td>\n",
              "      <td>학업 및 진로</td>\n",
              "      <td>해당없음</td>\n",
              "      <td>당황</td>\n",
              "      <td>당황</td>\n",
              "      <td>고등학교에 올라오니 중학교 때보다 수업이 갑자기 어려워져서 당황스러워.</td>\n",
              "      <td>고등학교 수업이 중학교 때와는 다르게 갑자기 어려워서 당황스러우시군요.</td>\n",
              "      <td>아직 학기 초인데 내가 수업에 잘 따라갈 수 있을지 걱정돼.</td>\n",
              "      <td>이 상황에서 할 수 있는 게 어떤 것이 있을까요?</td>\n",
              "      <td>중학교 수업을 들을 때보다 훨씬 더 열심히 할 거야.</td>\n",
              "      <td>수업을 어떤 방식으로 열심히 듣는게 좋을까요?</td>\n",
              "      <td>선생님이 강조하신 부분을 필기하고 집에서 매일 수업 내용을 복습하려고 해.</td>\n",
              "      <td>열심히 해서 좋은 결과가 있었으면 좋겠어요.</td>\n",
              "    </tr>\n",
              "  </tbody>\n",
              "</table>\n",
              "</div>\n",
              "      <button class=\"colab-df-convert\" onclick=\"convertToInteractive('df-b7a31692-7695-45b8-983a-685c6f19eb37')\"\n",
              "              title=\"Convert this dataframe to an interactive table.\"\n",
              "              style=\"display:none;\">\n",
              "        \n",
              "  <svg xmlns=\"http://www.w3.org/2000/svg\" height=\"24px\"viewBox=\"0 0 24 24\"\n",
              "       width=\"24px\">\n",
              "    <path d=\"M0 0h24v24H0V0z\" fill=\"none\"/>\n",
              "    <path d=\"M18.56 5.44l.94 2.06.94-2.06 2.06-.94-2.06-.94-.94-2.06-.94 2.06-2.06.94zm-11 1L8.5 8.5l.94-2.06 2.06-.94-2.06-.94L8.5 2.5l-.94 2.06-2.06.94zm10 10l.94 2.06.94-2.06 2.06-.94-2.06-.94-.94-2.06-.94 2.06-2.06.94z\"/><path d=\"M17.41 7.96l-1.37-1.37c-.4-.4-.92-.59-1.43-.59-.52 0-1.04.2-1.43.59L10.3 9.45l-7.72 7.72c-.78.78-.78 2.05 0 2.83L4 21.41c.39.39.9.59 1.41.59.51 0 1.02-.2 1.41-.59l7.78-7.78 2.81-2.81c.8-.78.8-2.07 0-2.86zM5.41 20L4 18.59l7.72-7.72 1.47 1.35L5.41 20z\"/>\n",
              "  </svg>\n",
              "      </button>\n",
              "      \n",
              "  <style>\n",
              "    .colab-df-container {\n",
              "      display:flex;\n",
              "      flex-wrap:wrap;\n",
              "      gap: 12px;\n",
              "    }\n",
              "\n",
              "    .colab-df-convert {\n",
              "      background-color: #E8F0FE;\n",
              "      border: none;\n",
              "      border-radius: 50%;\n",
              "      cursor: pointer;\n",
              "      display: none;\n",
              "      fill: #1967D2;\n",
              "      height: 32px;\n",
              "      padding: 0 0 0 0;\n",
              "      width: 32px;\n",
              "    }\n",
              "\n",
              "    .colab-df-convert:hover {\n",
              "      background-color: #E2EBFA;\n",
              "      box-shadow: 0px 1px 2px rgba(60, 64, 67, 0.3), 0px 1px 3px 1px rgba(60, 64, 67, 0.15);\n",
              "      fill: #174EA6;\n",
              "    }\n",
              "\n",
              "    [theme=dark] .colab-df-convert {\n",
              "      background-color: #3B4455;\n",
              "      fill: #D2E3FC;\n",
              "    }\n",
              "\n",
              "    [theme=dark] .colab-df-convert:hover {\n",
              "      background-color: #434B5C;\n",
              "      box-shadow: 0px 1px 3px 1px rgba(0, 0, 0, 0.15);\n",
              "      filter: drop-shadow(0px 1px 2px rgba(0, 0, 0, 0.3));\n",
              "      fill: #FFFFFF;\n",
              "    }\n",
              "  </style>\n",
              "\n",
              "      <script>\n",
              "        const buttonEl =\n",
              "          document.querySelector('#df-b7a31692-7695-45b8-983a-685c6f19eb37 button.colab-df-convert');\n",
              "        buttonEl.style.display =\n",
              "          google.colab.kernel.accessAllowed ? 'block' : 'none';\n",
              "\n",
              "        async function convertToInteractive(key) {\n",
              "          const element = document.querySelector('#df-b7a31692-7695-45b8-983a-685c6f19eb37');\n",
              "          const dataTable =\n",
              "            await google.colab.kernel.invokeFunction('convertToInteractive',\n",
              "                                                     [key], {});\n",
              "          if (!dataTable) return;\n",
              "\n",
              "          const docLinkHtml = 'Like what you see? Visit the ' +\n",
              "            '<a target=\"_blank\" href=https://colab.research.google.com/notebooks/data_table.ipynb>data table notebook</a>'\n",
              "            + ' to learn more about interactive tables.';\n",
              "          element.innerHTML = '';\n",
              "          dataTable['output_type'] = 'display_data';\n",
              "          await google.colab.output.renderOutput(dataTable, element);\n",
              "          const docLink = document.createElement('div');\n",
              "          docLink.innerHTML = docLinkHtml;\n",
              "          element.appendChild(docLink);\n",
              "        }\n",
              "      </script>\n",
              "    </div>\n",
              "  </div>\n",
              "  "
            ],
            "text/plain": [
              "      번호  ...                    시스템응답4\n",
              "0  44164  ...                       NaN\n",
              "1   3926  ...                       NaN\n",
              "2  50882  ...  열심히 해서 좋은 결과가 있었으면 좋겠어요.\n",
              "\n",
              "[3 rows x 15 columns]"
            ]
          },
          "metadata": {},
          "execution_count": 25
        }
      ]
    },
    {
      "cell_type": "code",
      "source": [
        "# 공백제거\n",
        "val_data['번호']=val_data['번호'].astype('str')\n",
        "val_data =val_data.apply(lambda x: x.str.strip() , axis = 1)"
      ],
      "metadata": {
        "id": "appcJgG202t1"
      },
      "execution_count": null,
      "outputs": []
    },
    {
      "cell_type": "code",
      "source": [
        "# 확인\n",
        "val_data.head(3)"
      ],
      "metadata": {
        "colab": {
          "base_uri": "https://localhost:8080/",
          "height": 344
        },
        "id": "HUnCTAy91iWr",
        "outputId": "004c3ec4-8a2d-4d05-e191-e6e251c5e0d8"
      },
      "execution_count": null,
      "outputs": [
        {
          "output_type": "execute_result",
          "data": {
            "text/html": [
              "\n",
              "  <div id=\"df-fd6de285-4e42-4ee6-b5c7-2b9b6d89f0af\">\n",
              "    <div class=\"colab-df-container\">\n",
              "      <div>\n",
              "<style scoped>\n",
              "    .dataframe tbody tr th:only-of-type {\n",
              "        vertical-align: middle;\n",
              "    }\n",
              "\n",
              "    .dataframe tbody tr th {\n",
              "        vertical-align: top;\n",
              "    }\n",
              "\n",
              "    .dataframe thead th {\n",
              "        text-align: right;\n",
              "    }\n",
              "</style>\n",
              "<table border=\"1\" class=\"dataframe\">\n",
              "  <thead>\n",
              "    <tr style=\"text-align: right;\">\n",
              "      <th></th>\n",
              "      <th>번호</th>\n",
              "      <th>연령</th>\n",
              "      <th>성별</th>\n",
              "      <th>상황키워드</th>\n",
              "      <th>신체질환</th>\n",
              "      <th>감정_대분류</th>\n",
              "      <th>감정_소분류</th>\n",
              "      <th>사람문장1</th>\n",
              "      <th>시스템응답1</th>\n",
              "      <th>사람문장2</th>\n",
              "      <th>시스템응답2</th>\n",
              "      <th>사람문장3</th>\n",
              "      <th>시스템응답3</th>\n",
              "      <th>사람문장4</th>\n",
              "      <th>시스템응답4</th>\n",
              "    </tr>\n",
              "  </thead>\n",
              "  <tbody>\n",
              "    <tr>\n",
              "      <th>0</th>\n",
              "      <td>23093</td>\n",
              "      <td>청년</td>\n",
              "      <td>여성</td>\n",
              "      <td>진로, 취업, 직장</td>\n",
              "      <td>해당없음</td>\n",
              "      <td>분노</td>\n",
              "      <td>툴툴대는</td>\n",
              "      <td>요즘 부모님과 많이 부딪혀.</td>\n",
              "      <td>어떤 일로 부딪히시나요?</td>\n",
              "      <td>난 하고 싶은 일이 있는데 부모님은 안정적인 일만 하라고 하셔. 내 마음대로 하지도...</td>\n",
              "      <td>부모님과의 충돌로 힘드시겠군요.</td>\n",
              "      <td>응. 그래도 난 내가 하고 싶은 일을 위해 노력할 거야.</td>\n",
              "      <td>자신이 하고 싶은 일을 목표로 하기로 하셨군요.</td>\n",
              "      <td>NaN</td>\n",
              "      <td>NaN</td>\n",
              "    </tr>\n",
              "    <tr>\n",
              "      <th>1</th>\n",
              "      <td>32848</td>\n",
              "      <td>청소년</td>\n",
              "      <td>남성</td>\n",
              "      <td>가족관계</td>\n",
              "      <td>해당없음</td>\n",
              "      <td>슬픔</td>\n",
              "      <td>비통한</td>\n",
              "      <td>엄마가 결국 집을 나갔어. 너무 너무 슬퍼.</td>\n",
              "      <td>어머니께서 집을 나가셨다니 정말 슬프셨겠어요. 좀 더 자세히 얘기해주시겠어요?</td>\n",
              "      <td>엄마도 엄마만의 인생이 있을 테니 가지 말라고 할 수가 없었어. 그래서 더 마음이 ...</td>\n",
              "      <td>정말 많이 답답하셨겠어요. 어떻게 하는 게 기분이 좀 풀릴까요?</td>\n",
              "      <td>일단 좀 자야겠어.</td>\n",
              "      <td>일단 휴식을 가질 생각이시군요.</td>\n",
              "      <td>NaN</td>\n",
              "      <td>NaN</td>\n",
              "    </tr>\n",
              "    <tr>\n",
              "      <th>2</th>\n",
              "      <td>35590</td>\n",
              "      <td>청소년</td>\n",
              "      <td>남성</td>\n",
              "      <td>학교폭력/따돌림</td>\n",
              "      <td>해당없음</td>\n",
              "      <td>불안</td>\n",
              "      <td>조심스러운</td>\n",
              "      <td>학교에서 한 친구를 괴롭히는 무리에게 그만하라고 했어.</td>\n",
              "      <td>용기 있는 행동을 하셨네요. 마음이 어떠셨나요?</td>\n",
              "      <td>그런데 말을 하고 난 후 나도 괴롭힐까 봐 불안했어.</td>\n",
              "      <td>그랬군요. 지금 기분에서 벗어나기 위해 할 수 있는 일에는 무엇이 있을까요?</td>\n",
              "      <td>나는 옳은 일을 한 거라고 생각해. 나까지 괴롭힌다면 신고할 거야.</td>\n",
              "      <td>지금의 상황이 나의 방식으로써 잘 해결될 수 있기를 바라요.</td>\n",
              "      <td>NaN</td>\n",
              "      <td>NaN</td>\n",
              "    </tr>\n",
              "  </tbody>\n",
              "</table>\n",
              "</div>\n",
              "      <button class=\"colab-df-convert\" onclick=\"convertToInteractive('df-fd6de285-4e42-4ee6-b5c7-2b9b6d89f0af')\"\n",
              "              title=\"Convert this dataframe to an interactive table.\"\n",
              "              style=\"display:none;\">\n",
              "        \n",
              "  <svg xmlns=\"http://www.w3.org/2000/svg\" height=\"24px\"viewBox=\"0 0 24 24\"\n",
              "       width=\"24px\">\n",
              "    <path d=\"M0 0h24v24H0V0z\" fill=\"none\"/>\n",
              "    <path d=\"M18.56 5.44l.94 2.06.94-2.06 2.06-.94-2.06-.94-.94-2.06-.94 2.06-2.06.94zm-11 1L8.5 8.5l.94-2.06 2.06-.94-2.06-.94L8.5 2.5l-.94 2.06-2.06.94zm10 10l.94 2.06.94-2.06 2.06-.94-2.06-.94-.94-2.06-.94 2.06-2.06.94z\"/><path d=\"M17.41 7.96l-1.37-1.37c-.4-.4-.92-.59-1.43-.59-.52 0-1.04.2-1.43.59L10.3 9.45l-7.72 7.72c-.78.78-.78 2.05 0 2.83L4 21.41c.39.39.9.59 1.41.59.51 0 1.02-.2 1.41-.59l7.78-7.78 2.81-2.81c.8-.78.8-2.07 0-2.86zM5.41 20L4 18.59l7.72-7.72 1.47 1.35L5.41 20z\"/>\n",
              "  </svg>\n",
              "      </button>\n",
              "      \n",
              "  <style>\n",
              "    .colab-df-container {\n",
              "      display:flex;\n",
              "      flex-wrap:wrap;\n",
              "      gap: 12px;\n",
              "    }\n",
              "\n",
              "    .colab-df-convert {\n",
              "      background-color: #E8F0FE;\n",
              "      border: none;\n",
              "      border-radius: 50%;\n",
              "      cursor: pointer;\n",
              "      display: none;\n",
              "      fill: #1967D2;\n",
              "      height: 32px;\n",
              "      padding: 0 0 0 0;\n",
              "      width: 32px;\n",
              "    }\n",
              "\n",
              "    .colab-df-convert:hover {\n",
              "      background-color: #E2EBFA;\n",
              "      box-shadow: 0px 1px 2px rgba(60, 64, 67, 0.3), 0px 1px 3px 1px rgba(60, 64, 67, 0.15);\n",
              "      fill: #174EA6;\n",
              "    }\n",
              "\n",
              "    [theme=dark] .colab-df-convert {\n",
              "      background-color: #3B4455;\n",
              "      fill: #D2E3FC;\n",
              "    }\n",
              "\n",
              "    [theme=dark] .colab-df-convert:hover {\n",
              "      background-color: #434B5C;\n",
              "      box-shadow: 0px 1px 3px 1px rgba(0, 0, 0, 0.15);\n",
              "      filter: drop-shadow(0px 1px 2px rgba(0, 0, 0, 0.3));\n",
              "      fill: #FFFFFF;\n",
              "    }\n",
              "  </style>\n",
              "\n",
              "      <script>\n",
              "        const buttonEl =\n",
              "          document.querySelector('#df-fd6de285-4e42-4ee6-b5c7-2b9b6d89f0af button.colab-df-convert');\n",
              "        buttonEl.style.display =\n",
              "          google.colab.kernel.accessAllowed ? 'block' : 'none';\n",
              "\n",
              "        async function convertToInteractive(key) {\n",
              "          const element = document.querySelector('#df-fd6de285-4e42-4ee6-b5c7-2b9b6d89f0af');\n",
              "          const dataTable =\n",
              "            await google.colab.kernel.invokeFunction('convertToInteractive',\n",
              "                                                     [key], {});\n",
              "          if (!dataTable) return;\n",
              "\n",
              "          const docLinkHtml = 'Like what you see? Visit the ' +\n",
              "            '<a target=\"_blank\" href=https://colab.research.google.com/notebooks/data_table.ipynb>data table notebook</a>'\n",
              "            + ' to learn more about interactive tables.';\n",
              "          element.innerHTML = '';\n",
              "          dataTable['output_type'] = 'display_data';\n",
              "          await google.colab.output.renderOutput(dataTable, element);\n",
              "          const docLink = document.createElement('div');\n",
              "          docLink.innerHTML = docLinkHtml;\n",
              "          element.appendChild(docLink);\n",
              "        }\n",
              "      </script>\n",
              "    </div>\n",
              "  </div>\n",
              "  "
            ],
            "text/plain": [
              "      번호   연령  성별  ...                             시스템응답3 사람문장4 시스템응답4\n",
              "0  23093   청년  여성  ...         자신이 하고 싶은 일을 목표로 하기로 하셨군요.   NaN    NaN\n",
              "1  32848  청소년  남성  ...                  일단 휴식을 가질 생각이시군요.   NaN    NaN\n",
              "2  35590  청소년  남성  ...  지금의 상황이 나의 방식으로써 잘 해결될 수 있기를 바라요.   NaN    NaN\n",
              "\n",
              "[3 rows x 15 columns]"
            ]
          },
          "metadata": {},
          "execution_count": 27
        }
      ]
    },
    {
      "cell_type": "code",
      "source": [
        "print('챗봇 샘플의 개수 :', len(train_data))"
      ],
      "metadata": {
        "colab": {
          "base_uri": "https://localhost:8080/"
        },
        "id": "HxjqhPb1Pg5g",
        "outputId": "ac1dc9a4-4ecb-4a05-e0c0-c990e58e10a5"
      },
      "execution_count": null,
      "outputs": [
        {
          "output_type": "stream",
          "name": "stdout",
          "text": [
            "챗봇 샘플의 개수 : 40879\n"
          ]
        }
      ]
    },
    {
      "cell_type": "code",
      "source": [
        "print(train_data.isnull().sum())"
      ],
      "metadata": {
        "colab": {
          "base_uri": "https://localhost:8080/"
        },
        "id": "_Oehe7YzPqMJ",
        "outputId": "965ce530-5bc0-4152-cf46-7ced12faddbe"
      },
      "execution_count": null,
      "outputs": [
        {
          "output_type": "stream",
          "name": "stdout",
          "text": [
            "번호            0\n",
            "연령            0\n",
            "성별            0\n",
            "상황키워드         0\n",
            "신체질환          0\n",
            "감정_대분류        0\n",
            "감정_소분류        0\n",
            "사람문장1         0\n",
            "시스템응답1        0\n",
            "사람문장2         0\n",
            "시스템응답2        0\n",
            "사람문장3      9820\n",
            "시스템응답3     9820\n",
            "사람문장4     39407\n",
            "시스템응답4    39517\n",
            "dtype: int64\n"
          ]
        }
      ]
    },
    {
      "cell_type": "markdown",
      "source": [
        "# 전처리 : 서브워드 토크나이저"
      ],
      "metadata": {
        "id": "DjuaSk-uiDt-"
      }
    },
    {
      "cell_type": "code",
      "source": [
        "# 구두점 처리\n",
        "questions = []\n",
        "for sentence in train_data['사람문장1']:\n",
        "    # 구두점에 대해서 띄어쓰기\n",
        "    # ex) 12시 땡! -> 12시 땡 !\n",
        "    sentence = re.sub(r\"([?.!,])\", r\" \\1 \", sentence)\n",
        "    sentence = sentence.strip()\n",
        "    questions.append(sentence)"
      ],
      "metadata": {
        "id": "DaWPML1wP8U_"
      },
      "execution_count": null,
      "outputs": []
    },
    {
      "cell_type": "code",
      "source": [
        "answers = []\n",
        "for sentence in train_data['시스템응답1']:\n",
        "    # 구두점에 대해서 띄어쓰기\n",
        "    # ex) 12시 땡! -> 12시 땡 !\n",
        "    sentence = re.sub(r\"([?.!,])\", r\" \\1 \", sentence)\n",
        "    sentence = sentence.strip()\n",
        "    answers.append(sentence)"
      ],
      "metadata": {
        "id": "K_NqDZcnQDvM"
      },
      "execution_count": null,
      "outputs": []
    },
    {
      "cell_type": "code",
      "source": [
        "print(questions[:5])\n",
        "print(answers[:5])"
      ],
      "metadata": {
        "colab": {
          "base_uri": "https://localhost:8080/"
        },
        "id": "tdk4dgmDQXfa",
        "outputId": "b85838c0-0214-4ae7-fe4f-01190fec9891"
      },
      "execution_count": null,
      "outputs": [
        {
          "output_type": "stream",
          "name": "stdout",
          "text": [
            "['아내가 드디어 출산하게 되어서 정말 신이 나 .', '당뇨랑 합병증 때문에 먹어야 할 약이 열 가지가 넘어가니까 스트레스야 .', '고등학교에 올라오니 중학교 때보다 수업이 갑자기 어려워져서 당황스러워 .', '재취업이 돼서 받게 된 첫 월급으로 온 가족이 외식을 할 예정이야 .  너무 행복해 .', '빚을 드디어 다 갚게 되어서 이제야 안도감이 들어 .']\n",
            "['아내분이 출산을 하시는군요 .  정말 축하드려요 .', '약 종류가 많아 번거로우시겠어요 .', '고등학교 수업이 중학교 때와는 다르게 갑자기 어려워서 당황스러우시군요 .', '재취업 후 첫 월급이라 정말 기쁘시겠어요 .', '기분 좋으시겠어요 .  앞으로는 어떻게 하실 생각이신가요 ?']\n"
          ]
        }
      ]
    },
    {
      "cell_type": "markdown",
      "source": [
        "# 단어 집합 생성\n",
        "- 서브워드 단위로 토큰을 분리하는 토크나이저로 학습 데이터로부터 학습하여 서브워드로 구성된 단어 집합을 생성"
      ],
      "metadata": {
        "id": "gPTfWhnPQaPJ"
      }
    },
    {
      "cell_type": "code",
      "source": [
        "pip install tensorflow_datasets"
      ],
      "metadata": {
        "colab": {
          "base_uri": "https://localhost:8080/"
        },
        "id": "zI51-EjBQ-uR",
        "outputId": "6da04cd2-fab8-4b32-883f-0f973750f192"
      },
      "execution_count": null,
      "outputs": [
        {
          "output_type": "stream",
          "name": "stdout",
          "text": [
            "Requirement already satisfied: tensorflow_datasets in /usr/local/lib/python3.7/dist-packages (4.0.1)\n",
            "Requirement already satisfied: importlib-resources in /usr/local/lib/python3.7/dist-packages (from tensorflow_datasets) (5.4.0)\n",
            "Requirement already satisfied: promise in /usr/local/lib/python3.7/dist-packages (from tensorflow_datasets) (2.3)\n",
            "Requirement already satisfied: numpy in /usr/local/lib/python3.7/dist-packages (from tensorflow_datasets) (1.19.5)\n",
            "Requirement already satisfied: tensorflow-metadata in /usr/local/lib/python3.7/dist-packages (from tensorflow_datasets) (1.4.0)\n",
            "Requirement already satisfied: absl-py in /usr/local/lib/python3.7/dist-packages (from tensorflow_datasets) (0.12.0)\n",
            "Requirement already satisfied: dill in /usr/local/lib/python3.7/dist-packages (from tensorflow_datasets) (0.3.4)\n",
            "Requirement already satisfied: termcolor in /usr/local/lib/python3.7/dist-packages (from tensorflow_datasets) (1.1.0)\n",
            "Requirement already satisfied: protobuf>=3.6.1 in /usr/local/lib/python3.7/dist-packages (from tensorflow_datasets) (3.17.3)\n",
            "Requirement already satisfied: requests>=2.19.0 in /usr/local/lib/python3.7/dist-packages (from tensorflow_datasets) (2.23.0)\n",
            "Requirement already satisfied: six in /usr/local/lib/python3.7/dist-packages (from tensorflow_datasets) (1.15.0)\n",
            "Requirement already satisfied: attrs>=18.1.0 in /usr/local/lib/python3.7/dist-packages (from tensorflow_datasets) (21.2.0)\n",
            "Requirement already satisfied: tqdm in /usr/local/lib/python3.7/dist-packages (from tensorflow_datasets) (4.62.3)\n",
            "Requirement already satisfied: future in /usr/local/lib/python3.7/dist-packages (from tensorflow_datasets) (0.16.0)\n",
            "Requirement already satisfied: dm-tree in /usr/local/lib/python3.7/dist-packages (from tensorflow_datasets) (0.1.6)\n",
            "Requirement already satisfied: idna<3,>=2.5 in /usr/local/lib/python3.7/dist-packages (from requests>=2.19.0->tensorflow_datasets) (2.10)\n",
            "Requirement already satisfied: chardet<4,>=3.0.2 in /usr/local/lib/python3.7/dist-packages (from requests>=2.19.0->tensorflow_datasets) (3.0.4)\n",
            "Requirement already satisfied: urllib3!=1.25.0,!=1.25.1,<1.26,>=1.21.1 in /usr/local/lib/python3.7/dist-packages (from requests>=2.19.0->tensorflow_datasets) (1.24.3)\n",
            "Requirement already satisfied: certifi>=2017.4.17 in /usr/local/lib/python3.7/dist-packages (from requests>=2.19.0->tensorflow_datasets) (2021.10.8)\n",
            "Requirement already satisfied: zipp>=3.1.0 in /usr/local/lib/python3.7/dist-packages (from importlib-resources->tensorflow_datasets) (3.6.0)\n",
            "Requirement already satisfied: googleapis-common-protos<2,>=1.52.0 in /usr/local/lib/python3.7/dist-packages (from tensorflow-metadata->tensorflow_datasets) (1.53.0)\n"
          ]
        }
      ]
    },
    {
      "cell_type": "code",
      "source": [
        "import tensorflow_datasets as tfds\n",
        "import urllib.request"
      ],
      "metadata": {
        "id": "l9yPWBxAiG0a"
      },
      "execution_count": null,
      "outputs": []
    },
    {
      "cell_type": "code",
      "source": [
        "# 서브워드텍스트인코더를 사용하여 질문, 답변 데이터로부터 단어 집합(Vocabulary) 생성\n",
        "import tensorflow_datasets as tfds\n",
        "tokenizer = tfds.deprecated.text.SubwordTextEncoder.build_from_corpus(\n",
        "    questions + answers, target_vocab_size=2**13)  #tfds.features.text.SubwordTextEncoder.build_from_corpus"
      ],
      "metadata": {
        "id": "saIvb9IrQjMo"
      },
      "execution_count": null,
      "outputs": []
    },
    {
      "cell_type": "code",
      "source": [
        "tokenizer.vocab_size "
      ],
      "metadata": {
        "colab": {
          "base_uri": "https://localhost:8080/"
        },
        "id": "vig9KttejATV",
        "outputId": "39cd7e19-6372-4382-efed-540d6a393b32"
      },
      "execution_count": null,
      "outputs": [
        {
          "output_type": "execute_result",
          "data": {
            "text/plain": [
              "8099"
            ]
          },
          "metadata": {},
          "execution_count": 36
        }
      ]
    },
    {
      "cell_type": "code",
      "source": [
        "# 시작 토큰과 종료 토큰에 대한 정수 부여.\n",
        "START_TOKEN, END_TOKEN = [tokenizer.vocab_size], [tokenizer.vocab_size + 1]\n",
        "\n",
        "# 시작 토큰과 종료 토큰을 고려하여 단어 집합의 크기를 + 2\n",
        "VOCAB_SIZE = tokenizer.vocab_size + 2\n",
        "\n",
        "# 패딩에 사용될 0번 토큰부터 마지막 토큰인 8,179번 토큰까지의 개수를 카운트하면 단어 집합의 크기는 8,180개"
      ],
      "metadata": {
        "id": "532MLawHRN1b"
      },
      "execution_count": null,
      "outputs": []
    },
    {
      "cell_type": "code",
      "source": [
        "print('시작 토큰 번호 :',START_TOKEN)\n",
        "print('종료 토큰 번호 :',END_TOKEN)\n",
        "print('단어 집합의 크기 :',VOCAB_SIZE)"
      ],
      "metadata": {
        "colab": {
          "base_uri": "https://localhost:8080/"
        },
        "id": "shdq9F-HRU2J",
        "outputId": "95d5d089-b80d-4ab4-cf96-922a5220ae45"
      },
      "execution_count": null,
      "outputs": [
        {
          "output_type": "stream",
          "name": "stdout",
          "text": [
            "시작 토큰 번호 : [8099]\n",
            "종료 토큰 번호 : [8100]\n",
            "단어 집합의 크기 : 8101\n"
          ]
        }
      ]
    },
    {
      "cell_type": "markdown",
      "source": [
        "# 정수 인코딩과 패딩"
      ],
      "metadata": {
        "id": "w6mOdueXjSIm"
      }
    },
    {
      "cell_type": "code",
      "source": [
        "# 서브워드텍스트인코더 토크나이저의 .encode()를 사용하여 텍스트 시퀀스를 정수 시퀀스로 변환.\n",
        "print('임의의 질문 샘플을 정수 인코딩 : {}'.format(tokenizer.encode(questions[20])))"
      ],
      "metadata": {
        "colab": {
          "base_uri": "https://localhost:8080/"
        },
        "id": "C2Ti3fTajQ3V",
        "outputId": "ceec6c74-01b2-438e-c68a-fcdd64cfce3d"
      },
      "execution_count": null,
      "outputs": [
        {
          "output_type": "stream",
          "name": "stdout",
          "text": [
            "임의의 질문 샘플을 정수 인코딩 : [4850, 2051, 2113, 1497, 17, 4, 198, 3326, 1233, 2, 37, 96, 4609, 6754, 3152, 2918, 6, 35, 1]\n"
          ]
        }
      ]
    },
    {
      "cell_type": "code",
      "source": [
        "print('정수 인코딩 결과를 디코딩 : {}'.format(tokenizer.decode([4850, 2051, 2113, 1497, 17, 4, 198, 3326, 1233, 2, 37, 96, 4609, 6754, 3152, 2918, 6, 35, 1])))"
      ],
      "metadata": {
        "colab": {
          "base_uri": "https://localhost:8080/"
        },
        "id": "eWxvPB1rjgxU",
        "outputId": "c7971c8b-11eb-4b94-9662-28af58ecacc1"
      },
      "execution_count": null,
      "outputs": [
        {
          "output_type": "stream",
          "name": "stdout",
          "text": [
            "정수 인코딩 결과를 디코딩 : 지난주에 주식이 폭락해서 너무 큰 손해를 봤어 .  어떻게 해야 좋을지 모르겠고 정신이 나갈 것 같아 .\n"
          ]
        }
      ]
    },
    {
      "cell_type": "code",
      "source": [
        "# 서브워드텍스트인코더 토크나이저의 .encode()와 .decode() 테스트해보기\n",
        "# 임의의 입력 문장을 sample_string에 저장\n",
        "sample_string = questions[20]\n",
        "\n",
        "# encode() : 텍스트 시퀀스 --> 정수 시퀀스\n",
        "tokenized_string = tokenizer.encode(sample_string)\n",
        "print ('정수 인코딩 후의 문장 {}'.format(tokenized_string))\n",
        "\n",
        "# decode() : 정수 시퀀스 --> 텍스트 시퀀스\n",
        "original_string = tokenizer.decode(tokenized_string)\n",
        "print ('기존 문장: {}'.format(original_string))"
      ],
      "metadata": {
        "colab": {
          "base_uri": "https://localhost:8080/"
        },
        "id": "qZRFAuHQkO87",
        "outputId": "410330c3-a13b-441c-ec77-db9bb862a631"
      },
      "execution_count": null,
      "outputs": [
        {
          "output_type": "stream",
          "name": "stdout",
          "text": [
            "정수 인코딩 후의 문장 [4850, 2051, 2113, 1497, 17, 4, 198, 3326, 1233, 2, 37, 96, 4609, 6754, 3152, 2918, 6, 35, 1]\n",
            "기존 문장: 지난주에 주식이 폭락해서 너무 큰 손해를 봤어 .  어떻게 해야 좋을지 모르겠고 정신이 나갈 것 같아 .\n"
          ]
        }
      ]
    },
    {
      "cell_type": "code",
      "source": [
        "# 각 정수는 각 단어와 어떻게 mapping되는지 병렬로 출력\n",
        "# 서브워드텍스트인코더는 의미있는 단위의 서브워드로 토크나이징한다. 띄어쓰기 단위 X 형태소 분석 단위 X\n",
        "for ts in tokenized_string:\n",
        "  print ('{} ----> {}'.format(ts, tokenizer.decode([ts])))"
      ],
      "metadata": {
        "colab": {
          "base_uri": "https://localhost:8080/"
        },
        "id": "9xZcMdBgkJWg",
        "outputId": "cba0f95a-5ba5-439a-eb48-4f7c88da64de"
      },
      "execution_count": null,
      "outputs": [
        {
          "output_type": "stream",
          "name": "stdout",
          "text": [
            "4850 ----> 지난주에 \n",
            "2051 ----> 주식이 \n",
            "2113 ----> 폭\n",
            "1497 ----> 락\n",
            "17 ----> 해서 \n",
            "4 ----> 너무 \n",
            "198 ----> 큰 \n",
            "3326 ----> 손해를 \n",
            "1233 ----> 봤어\n",
            "2 ---->  .  \n",
            "37 ----> 어떻게 \n",
            "96 ----> 해야 \n",
            "4609 ----> 좋을지 \n",
            "6754 ----> 모르겠고 \n",
            "3152 ----> 정신이 \n",
            "2918 ----> 나갈 \n",
            "6 ----> 것 \n",
            "35 ----> 같아\n",
            "1 ---->  .\n"
          ]
        }
      ]
    },
    {
      "cell_type": "code",
      "source": [
        "# 최대 길이를 40으로 정의\n",
        "MAX_LENGTH = 40\n",
        "\n",
        "# 토큰화 / 정수 인코딩 / 시작 토큰과 종료 토큰 추가 / 패딩\n",
        "def tokenize_and_filter(inputs, outputs):\n",
        "  tokenized_inputs, tokenized_outputs = [], []\n",
        "\n",
        "  for (sentence1, sentence2) in zip(inputs, outputs):\n",
        "    # encode(토큰화 + 정수 인코딩), 시작 토큰과 종료 토큰 추가\n",
        "    sentence1 = START_TOKEN + tokenizer.encode(sentence1) + END_TOKEN\n",
        "    sentence2 = START_TOKEN + tokenizer.encode(sentence2) + END_TOKEN\n",
        "\n",
        "    tokenized_inputs.append(sentence1)\n",
        "    tokenized_outputs.append(sentence2)\n",
        "\n",
        "  # 패딩\n",
        "  tokenized_inputs = tf.keras.preprocessing.sequence.pad_sequences(\n",
        "      tokenized_inputs, maxlen=MAX_LENGTH, padding='post')\n",
        "  tokenized_outputs = tf.keras.preprocessing.sequence.pad_sequences(\n",
        "      tokenized_outputs, maxlen=MAX_LENGTH, padding='post')\n",
        "\n",
        "  return tokenized_inputs, tokenized_outputs"
      ],
      "metadata": {
        "id": "qGL_gHjtlztv"
      },
      "execution_count": null,
      "outputs": []
    },
    {
      "cell_type": "code",
      "source": [
        "questions, answers = tokenize_and_filter(questions, answers)"
      ],
      "metadata": {
        "id": "x8iEWznMl0AW"
      },
      "execution_count": null,
      "outputs": []
    },
    {
      "cell_type": "code",
      "source": [
        "print('질문 데이터의 크기(shape) :', questions.shape)\n",
        "print('답변 데이터의 크기(shape) :', answers.shape)"
      ],
      "metadata": {
        "colab": {
          "base_uri": "https://localhost:8080/"
        },
        "id": "aWrBzv8Vl2UJ",
        "outputId": "f7e67161-9416-4006-ce0f-f99c5ebb1c40"
      },
      "execution_count": null,
      "outputs": [
        {
          "output_type": "stream",
          "name": "stdout",
          "text": [
            "질문 데이터의 크기(shape) : (40879, 40)\n",
            "답변 데이터의 크기(shape) : (40879, 40)\n"
          ]
        }
      ]
    },
    {
      "cell_type": "code",
      "source": [
        "# 0번 샘플을 임의로 출력\n",
        "print(questions[0])\n",
        "print(answers[0])"
      ],
      "metadata": {
        "colab": {
          "base_uri": "https://localhost:8080/"
        },
        "id": "bG0nW1v6l4I-",
        "outputId": "45b3588f-db00-4268-b45f-e60c90107004"
      },
      "execution_count": null,
      "outputs": [
        {
          "output_type": "stream",
          "name": "stdout",
          "text": [
            "[8099   70  373 4035   14  256   19  894   34    1 8100    0    0    0\n",
            "    0    0    0    0    0    0    0    0    0    0    0    0    0    0\n",
            "    0    0    0    0    0    0    0    0    0    0    0    0]\n",
            "[8099 1246 1983  500    2   19  519    1 8100    0    0    0    0    0\n",
            "    0    0    0    0    0    0    0    0    0    0    0    0    0    0\n",
            "    0    0    0    0    0    0    0    0    0    0    0    0]\n"
          ]
        }
      ]
    },
    {
      "cell_type": "markdown",
      "source": [
        "# 인코더와 디코더의 입력, 그리고 레이블 만들기."
      ],
      "metadata": {
        "id": "wypnsN5Pl9yB"
      }
    },
    {
      "cell_type": "code",
      "source": [
        "# 텐서플로우 dataset을 이용하여 셔플(shuffle)을 수행하되, 배치 크기로 데이터를 묶는다.\n",
        "# 또한 이 과정에서 교사 강요(teacher forcing)을 사용하기 위해서 디코더의 입력과 실제값 시퀀스를 구성한다.\n",
        "BATCH_SIZE = 64\n",
        "BUFFER_SIZE = 20000\n",
        "\n",
        "# 디코더의 실제값 시퀀스에서는 시작 토큰을 제거해야 한다.\n",
        "dataset = tf.data.Dataset.from_tensor_slices((\n",
        "    {\n",
        "        'inputs': questions,\n",
        "        'dec_inputs': answers[:, :-1] # 디코더의 입력. 마지막 패딩 토큰이 제거된다.\n",
        "    },\n",
        "    {\n",
        "        'outputs': answers[:, 1:]  # 맨 처음 토큰이 제거된다. 다시 말해 시작 토큰이 제거된다.\n",
        "    },\n",
        "))\n",
        "\n",
        "dataset = dataset.cache()\n",
        "dataset = dataset.shuffle(BUFFER_SIZE)\n",
        "dataset = dataset.batch(BATCH_SIZE)\n",
        "dataset = dataset.prefetch(tf.data.experimental.AUTOTUNE)"
      ],
      "metadata": {
        "id": "Hi62acJql7cT"
      },
      "execution_count": null,
      "outputs": []
    },
    {
      "cell_type": "code",
      "source": [
        "# 임의의 샘플에 대해서 [:, :-1]과 [:, 1:]이 어떤 의미를 가지는지 테스트해본다.\n",
        "print(answers[0]) # 기존 샘플\n",
        "print(answers[:1][:, :-1]) # 마지막 패딩 토큰 제거하면서 길이가 39가 된다.\n",
        "print(answers[:1][:, 1:]) # 맨 처음 토큰이 제거된다. 다시 말해 시작 토큰이 제거된다. 길이는 역시 39가 된다."
      ],
      "metadata": {
        "colab": {
          "base_uri": "https://localhost:8080/"
        },
        "id": "BCp2Hsr0mAOG",
        "outputId": "8a51fc5b-6f2b-4202-dde9-2068630a80e6"
      },
      "execution_count": null,
      "outputs": [
        {
          "output_type": "stream",
          "name": "stdout",
          "text": [
            "[8099 1246 1983  500    2   19  519    1 8100    0    0    0    0    0\n",
            "    0    0    0    0    0    0    0    0    0    0    0    0    0    0\n",
            "    0    0    0    0    0    0    0    0    0    0    0    0]\n",
            "[[8099 1246 1983  500    2   19  519    1 8100    0    0    0    0    0\n",
            "     0    0    0    0    0    0    0    0    0    0    0    0    0    0\n",
            "     0    0    0    0    0    0    0    0    0    0    0]]\n",
            "[[1246 1983  500    2   19  519    1 8100    0    0    0    0    0    0\n",
            "     0    0    0    0    0    0    0    0    0    0    0    0    0    0\n",
            "     0    0    0    0    0    0    0    0    0    0    0]]\n"
          ]
        }
      ]
    },
    {
      "cell_type": "markdown",
      "source": [
        "# 트랜스포머 만들기"
      ],
      "metadata": {
        "id": "P_W3QADumI57"
      }
    },
    {
      "cell_type": "code",
      "source": [
        "tf.keras.backend.clear_session()\n",
        "\n",
        "# 하이퍼파라미터\n",
        "D_MODEL = 256\n",
        "NUM_LAYERS = 2\n",
        "NUM_HEADS = 8\n",
        "DFF = 512\n",
        "DROPOUT = 0.1\n",
        "\n",
        "model = transformer(\n",
        "    vocab_size=VOCAB_SIZE,\n",
        "    num_layers=NUM_LAYERS,\n",
        "    dff=DFF,\n",
        "    d_model=D_MODEL,\n",
        "    num_heads=NUM_HEADS,\n",
        "    dropout=DROPOUT)\n",
        "\n",
        "tf.keras.utils.plot_model(\n",
        "    small_transformer, to_file='model.png', show_shapes=True)"
      ],
      "metadata": {
        "colab": {
          "base_uri": "https://localhost:8080/",
          "height": 496
        },
        "id": "M1l_3ydSmDuy",
        "outputId": "f7ad0594-df20-480d-c2a6-28c5f767ee46"
      },
      "execution_count": null,
      "outputs": [
        {
          "output_type": "stream",
          "name": "stdout",
          "text": [
            "(1, 8101, 256)\n",
            "(1, 8101, 256)\n"
          ]
        },
        {
          "output_type": "execute_result",
          "data": {
            "image/png": "[encoded data removed]",
            "text/plain": [
              "<IPython.core.display.Image object>"
            ]
          },
          "metadata": {},
          "execution_count": 49
        }
      ]
    },
    {
      "cell_type": "code",
      "source": [
        "learning_rate = CustomSchedule(D_MODEL)\n",
        "\n",
        "optimizer = tf.keras.optimizers.Adam(\n",
        "    learning_rate, beta_1=0.9, beta_2=0.98, epsilon=1e-9)\n",
        "\n",
        "def accuracy(y_true, y_pred):\n",
        "  # 레이블의 크기는 (batch_size, MAX_LENGTH - 1)\n",
        "  y_true = tf.reshape(y_true, shape=(-1, MAX_LENGTH - 1))\n",
        "  return tf.keras.metrics.sparse_categorical_accuracy(y_true, y_pred)\n",
        "\n",
        "model.compile(optimizer=optimizer, loss=loss_function, metrics=[accuracy])"
      ],
      "metadata": {
        "id": "1jhFkPYtmWvL"
      },
      "execution_count": null,
      "outputs": []
    },
    {
      "cell_type": "code",
      "source": [
        "EPOCHS = 50\n",
        "model.fit(dataset, epochs=EPOCHS)  #왜 accuracy로는 측정되지 않는가?"
      ],
      "metadata": {
        "colab": {
          "base_uri": "https://localhost:8080/"
        },
        "id": "MetZv1fRmbAT",
        "outputId": "ccb58446-f5f4-4379-8a4c-2f397e879254"
      },
      "execution_count": null,
      "outputs": [
        {
          "output_type": "stream",
          "name": "stdout",
          "text": [
            "Epoch 1/50\n",
            "639/639 [==============================] - 96s 117ms/step - loss: 2.0108 - accuracy: 0.0393\n",
            "Epoch 2/50\n",
            "639/639 [==============================] - 76s 118ms/step - loss: 1.4710 - accuracy: 0.0740\n",
            "Epoch 3/50\n",
            "639/639 [==============================] - 73s 115ms/step - loss: 1.2435 - accuracy: 0.0886\n",
            "Epoch 4/50\n",
            "639/639 [==============================] - 73s 114ms/step - loss: 1.0756 - accuracy: 0.1005\n",
            "Epoch 5/50\n",
            "639/639 [==============================] - 73s 114ms/step - loss: 0.9407 - accuracy: 0.1101\n",
            "Epoch 6/50\n",
            "639/639 [==============================] - 73s 114ms/step - loss: 0.8368 - accuracy: 0.1189\n",
            "Epoch 7/50\n",
            "639/639 [==============================] - 73s 114ms/step - loss: 0.7497 - accuracy: 0.1283\n",
            "Epoch 8/50\n",
            "639/639 [==============================] - 73s 114ms/step - loss: 0.6468 - accuracy: 0.1415\n",
            "Epoch 9/50\n",
            "639/639 [==============================] - 72s 113ms/step - loss: 0.5555 - accuracy: 0.1549\n",
            "Epoch 10/50\n",
            "639/639 [==============================] - 72s 113ms/step - loss: 0.4774 - accuracy: 0.1679\n",
            "Epoch 11/50\n",
            "639/639 [==============================] - 73s 114ms/step - loss: 0.4125 - accuracy: 0.1797\n",
            "Epoch 12/50\n",
            "639/639 [==============================] - 73s 114ms/step - loss: 0.3565 - accuracy: 0.1903\n",
            "Epoch 13/50\n",
            "639/639 [==============================] - 73s 114ms/step - loss: 0.3106 - accuracy: 0.1999\n",
            "Epoch 14/50\n",
            "639/639 [==============================] - 73s 113ms/step - loss: 0.2719 - accuracy: 0.2081\n",
            "Epoch 15/50\n",
            "639/639 [==============================] - 72s 113ms/step - loss: 0.2398 - accuracy: 0.2152\n",
            "Epoch 16/50\n",
            "639/639 [==============================] - 73s 114ms/step - loss: 0.2131 - accuracy: 0.2217\n",
            "Epoch 17/50\n",
            "639/639 [==============================] - 72s 113ms/step - loss: 0.1907 - accuracy: 0.2270\n",
            "Epoch 18/50\n",
            "639/639 [==============================] - 73s 114ms/step - loss: 0.1715 - accuracy: 0.2319\n",
            "Epoch 19/50\n",
            "639/639 [==============================] - 73s 114ms/step - loss: 0.1561 - accuracy: 0.2356\n",
            "Epoch 20/50\n",
            "639/639 [==============================] - 73s 114ms/step - loss: 0.1426 - accuracy: 0.2393\n",
            "Epoch 21/50\n",
            "639/639 [==============================] - 73s 114ms/step - loss: 0.1309 - accuracy: 0.2425\n",
            "Epoch 22/50\n",
            "639/639 [==============================] - 73s 114ms/step - loss: 0.1204 - accuracy: 0.2452\n",
            "Epoch 23/50\n",
            "639/639 [==============================] - 72s 113ms/step - loss: 0.1113 - accuracy: 0.2478\n",
            "Epoch 24/50\n",
            "639/639 [==============================] - 72s 113ms/step - loss: 0.1043 - accuracy: 0.2498\n",
            "Epoch 25/50\n",
            "639/639 [==============================] - 73s 114ms/step - loss: 0.0974 - accuracy: 0.2519\n",
            "Epoch 26/50\n",
            "639/639 [==============================] - 73s 113ms/step - loss: 0.0916 - accuracy: 0.2533\n",
            "Epoch 27/50\n",
            "639/639 [==============================] - 73s 114ms/step - loss: 0.0863 - accuracy: 0.2550\n",
            "Epoch 28/50\n",
            "639/639 [==============================] - 73s 114ms/step - loss: 0.0820 - accuracy: 0.2561\n",
            "Epoch 29/50\n",
            "639/639 [==============================] - 73s 114ms/step - loss: 0.0774 - accuracy: 0.2575\n",
            "Epoch 30/50\n",
            "639/639 [==============================] - 75s 118ms/step - loss: 0.0739 - accuracy: 0.2585\n",
            "Epoch 31/50\n",
            "639/639 [==============================] - 73s 114ms/step - loss: 0.0701 - accuracy: 0.2597\n",
            "Epoch 32/50\n",
            "639/639 [==============================] - 73s 114ms/step - loss: 0.0663 - accuracy: 0.2608\n",
            "Epoch 33/50\n",
            "639/639 [==============================] - 73s 114ms/step - loss: 0.0638 - accuracy: 0.2615\n",
            "Epoch 34/50\n",
            "639/639 [==============================] - 73s 113ms/step - loss: 0.0611 - accuracy: 0.2623\n",
            "Epoch 35/50\n",
            "639/639 [==============================] - 73s 114ms/step - loss: 0.0584 - accuracy: 0.2631\n",
            "Epoch 36/50\n",
            "639/639 [==============================] - 73s 114ms/step - loss: 0.0567 - accuracy: 0.2636\n",
            "Epoch 37/50\n",
            "639/639 [==============================] - 73s 114ms/step - loss: 0.0542 - accuracy: 0.2643\n",
            "Epoch 38/50\n",
            "639/639 [==============================] - 73s 113ms/step - loss: 0.0524 - accuracy: 0.2647\n",
            "Epoch 39/50\n",
            "639/639 [==============================] - 73s 114ms/step - loss: 0.0504 - accuracy: 0.2655\n",
            "Epoch 40/50\n",
            "639/639 [==============================] - 73s 113ms/step - loss: 0.0485 - accuracy: 0.2661\n",
            "Epoch 41/50\n",
            "639/639 [==============================] - 73s 114ms/step - loss: 0.0472 - accuracy: 0.2664\n",
            "Epoch 42/50\n",
            "639/639 [==============================] - 73s 114ms/step - loss: 0.0456 - accuracy: 0.2669\n",
            "Epoch 43/50\n",
            "639/639 [==============================] - 73s 114ms/step - loss: 0.0440 - accuracy: 0.2674\n",
            "Epoch 44/50\n",
            "639/639 [==============================] - 73s 114ms/step - loss: 0.0429 - accuracy: 0.2677\n",
            "Epoch 45/50\n",
            "639/639 [==============================] - 73s 114ms/step - loss: 0.0419 - accuracy: 0.2681\n",
            "Epoch 46/50\n",
            "639/639 [==============================] - 73s 114ms/step - loss: 0.0406 - accuracy: 0.2684\n",
            "Epoch 47/50\n",
            "639/639 [==============================] - 73s 114ms/step - loss: 0.0392 - accuracy: 0.2688\n",
            "Epoch 48/50\n",
            "639/639 [==============================] - 73s 113ms/step - loss: 0.0386 - accuracy: 0.2690\n",
            "Epoch 49/50\n",
            "639/639 [==============================] - 73s 114ms/step - loss: 0.0373 - accuracy: 0.2693\n",
            "Epoch 50/50\n",
            "639/639 [==============================] - 73s 114ms/step - loss: 0.0364 - accuracy: 0.2696\n"
          ]
        },
        {
          "output_type": "execute_result",
          "data": {
            "text/plain": [
              "<keras.callbacks.History at 0x7f7c189cc090>"
            ]
          },
          "metadata": {},
          "execution_count": 51
        }
      ]
    },
    {
      "cell_type": "markdown",
      "source": [
        "# 챗봇 평가"
      ],
      "metadata": {
        "id": "o3HVbz0zmoxS"
      }
    },
    {
      "cell_type": "markdown",
      "source": [
        "pip install git+https://github.com/ssut/py-hanspell.git"
      ],
      "metadata": {
        "id": "4hdTXj9YUXYA"
      }
    },
    {
      "cell_type": "code",
      "source": [
        "pip install git+https://github.com/ssut/py-hanspell.git"
      ],
      "metadata": {
        "colab": {
          "base_uri": "https://localhost:8080/"
        },
        "id": "x7xbVqb0UXwN",
        "outputId": "e3ef75c9-98c8-492e-c174-4e4946a38306"
      },
      "execution_count": null,
      "outputs": [
        {
          "output_type": "stream",
          "name": "stdout",
          "text": [
            "Collecting git+https://github.com/ssut/py-hanspell.git\n",
            "  Cloning https://github.com/ssut/py-hanspell.git to /tmp/pip-req-build-uv5s21id\n",
            "  Running command git clone -q https://github.com/ssut/py-hanspell.git /tmp/pip-req-build-uv5s21id\n",
            "Requirement already satisfied: requests in /usr/local/lib/python3.7/dist-packages (from py-hanspell==1.1) (2.23.0)\n",
            "Requirement already satisfied: idna<3,>=2.5 in /usr/local/lib/python3.7/dist-packages (from requests->py-hanspell==1.1) (2.10)\n",
            "Requirement already satisfied: chardet<4,>=3.0.2 in /usr/local/lib/python3.7/dist-packages (from requests->py-hanspell==1.1) (3.0.4)\n",
            "Requirement already satisfied: urllib3!=1.25.0,!=1.25.1,<1.26,>=1.21.1 in /usr/local/lib/python3.7/dist-packages (from requests->py-hanspell==1.1) (1.24.3)\n",
            "Requirement already satisfied: certifi>=2017.4.17 in /usr/local/lib/python3.7/dist-packages (from requests->py-hanspell==1.1) (2021.10.8)\n",
            "Building wheels for collected packages: py-hanspell\n",
            "  Building wheel for py-hanspell (setup.py) ... \u001b[?25l\u001b[?25hdone\n",
            "  Created wheel for py-hanspell: filename=py_hanspell-1.1-py3-none-any.whl size=4868 sha256=e3820d4a2ad3370cafba2a52b52f384a4448cca52eb3a0849b5d9a7b5ef1f77d\n",
            "  Stored in directory: /tmp/pip-ephem-wheel-cache-ga7358ap/wheels/ab/f5/7b/d4124bb329c905301baed80e2ae45aa14e824f62ebc3ec2cc4\n",
            "Successfully built py-hanspell\n",
            "Installing collected packages: py-hanspell\n",
            "Successfully installed py-hanspell-1.1\n"
          ]
        }
      ]
    },
    {
      "cell_type": "code",
      "source": [
        "from hanspell import spell_checker"
      ],
      "metadata": {
        "id": "fIuLLMZ9UZ7L"
      },
      "execution_count": null,
      "outputs": []
    },
    {
      "cell_type": "code",
      "source": [
        "def preprocess_sentence(sentence):\n",
        "  # 단어와 구두점 사이에 공백 추가.\n",
        "  # ex) 12시 땡! -> 12시 땡 !\n",
        "  spelled_sent = spell_checker.check(sentence)    # 챗봇에 단어를 입력할 때는 비문법이 많으므로 문법을 맞춰주고 띄어쓰기를 시켜준다. 이걸 추가하니까 성능이 훨씬 좋아졌다.\n",
        "  hanspell_sent = spelled_sent.checked\n",
        "  sentence = re.sub(r\"([?.!,])\", r\" \\1 \", hanspell_sent)\n",
        "  sentence = sentence.strip()\n",
        "  return sentence"
      ],
      "metadata": {
        "id": "TtdOwJ18mvzP"
      },
      "execution_count": null,
      "outputs": []
    },
    {
      "cell_type": "code",
      "source": [
        "def evaluate(sentence):\n",
        "  # 입력 문장에 대한 전처리\n",
        "  sentence = preprocess_sentence(sentence)\n",
        "\n",
        "  # 입력 문장에 시작 토큰과 종료 토큰을 추가\n",
        "  sentence = tf.expand_dims(\n",
        "      START_TOKEN + tokenizer.encode(sentence) + END_TOKEN, axis=0)\n",
        "\n",
        "  output = tf.expand_dims(START_TOKEN, 0)\n",
        "\n",
        "  # 디코더의 예측 시작\n",
        "  for i in range(MAX_LENGTH):\n",
        "    predictions = model(inputs=[sentence, output], training=False)\n",
        "\n",
        "    # 현재 시점의 예측 단어를 받아온다.\n",
        "    predictions = predictions[:, -1:, :]\n",
        "    predicted_id = tf.cast(tf.argmax(predictions, axis=-1), tf.int32)\n",
        "\n",
        "    # 만약 현재 시점의 예측 단어가 종료 토큰이라면 예측을 중단\n",
        "    if tf.equal(predicted_id, END_TOKEN[0]):\n",
        "      break\n",
        "\n",
        "    # 현재 시점의 예측 단어를 output(출력)에 연결한다.\n",
        "    # output은 for문의 다음 루프에서 디코더의 입력이 된다.\n",
        "    output = tf.concat([output, predicted_id], axis=-1)\n",
        "\n",
        "  # 단어 예측이 모두 끝났다면 output을 리턴.\n",
        "  return tf.squeeze(output, axis=0)"
      ],
      "metadata": {
        "id": "XV7-N425mxfR"
      },
      "execution_count": null,
      "outputs": []
    },
    {
      "cell_type": "code",
      "source": [
        "def predict(sentence):\n",
        "  prediction = evaluate(sentence)\n",
        "\n",
        "  # prediction == 디코더가 리턴한 챗봇의 대답에 해당하는 정수 시퀀스\n",
        "  # tokenizer.decode()를 통해 정수 시퀀스를 문자열로 디코딩.\n",
        "  predicted_sentence = tokenizer.decode(\n",
        "      [i for i in prediction if i < tokenizer.vocab_size])\n",
        "\n",
        "  print('Input: {}'.format(sentence))\n",
        "  print('Output: {}'.format(predicted_sentence))\n",
        "\n",
        "  return predicted_sentence"
      ],
      "metadata": {
        "id": "-_sadTcam0W1"
      },
      "execution_count": null,
      "outputs": []
    },
    {
      "cell_type": "code",
      "source": [
        "# 감성별로 분류해서 모델을 각자 따로 만들어야 겠다. 그래서, 감정을 먼저 예측하고, 그게 알맞은 모델로 배치되서 나올 수 있도록 해야겠다. \n",
        "# 챗봇 특성상, 띄어쓰기를 안하거나 맞춤법을 맞추지 못해도 반영이 되어야 하는데,,, 그게 반영이 안된다. 사용자입력시퀀스에서 띄어쓰기가 되도록 전처리를 다른 방법으로 해야할 것 같다. # 사용자입력시퀀스에서만 하면 될 듯. \n",
        "# 데이터의 언어가 너무 정형화되어 있다. 이름만 감성데이터셋이지, 감성이 별로 반영되지 않은 것 같다. \n",
        "# 챗봇이랑은 '은밀하게' 얘기할텐데, 누가 저렇게 정형화된 언어로 바람직하게 말한단 말인가.\n",
        "# 하여튼,, 데이터와 전처리가 정말 중요한 것 같다. \n",
        "\n",
        "# 이어나가면서 말하는 건 어떻게 구현하지?\n",
        "\n",
        "# 다른 말투로 말하는건 어떻게 구현할까... \n",
        "\n",
        "# 첫번째 문장으로 감성분석을 해주고... \n",
        "\n",
        "# 불용어 제거가 필요하다. "
      ],
      "metadata": {
        "id": "ml5eWz4q6RYn"
      },
      "execution_count": null,
      "outputs": []
    },
    {
      "cell_type": "code",
      "source": [
        "output = predict(\"에고 짜증나\")   # 에고 와 같은 의성어는 전혀 반영하지 못한다. 학습 데이터에 없었던 것 같다. "
      ],
      "metadata": {
        "colab": {
          "base_uri": "https://localhost:8080/"
        },
        "id": "e3X0QD3InBBp",
        "outputId": "60d1a977-b793-42e8-fbab-ae454920abe4"
      },
      "execution_count": null,
      "outputs": [
        {
          "output_type": "stream",
          "name": "stdout",
          "text": [
            "Input: 에고 짜증나\n",
            "Output: 에짜증이 나시는군요 .  무슨 일이 있으셨나요 ?\n"
          ]
        }
      ]
    },
    {
      "cell_type": "code",
      "source": [
        "output = predict(\"누군가 내 몸에 빙의했다\")   # 이런건 아예 못알아듣는다. "
      ],
      "metadata": {
        "colab": {
          "base_uri": "https://localhost:8080/"
        },
        "id": "buegw_dqnvt3",
        "outputId": "3c9eaf62-e1f5-4e5d-8f20-41909a908083"
      },
      "execution_count": null,
      "outputs": [
        {
          "output_type": "stream",
          "name": "stdout",
          "text": [
            "Input: 누군가 내 몸에 빙의했다\n",
            "Output: 건강이 몸이 모습을 보며 드시겠군요 .\n"
          ]
        }
      ]
    },
    {
      "cell_type": "code",
      "source": [
        "output = predict(\"오징어도 사랑이 되나요\")   # 이런 부분은 데이터셋의 문제라고 하겠다. "
      ],
      "metadata": {
        "colab": {
          "base_uri": "https://localhost:8080/"
        },
        "id": "BoHXZvCt7eRN",
        "outputId": "49c7b8b1-7f30-4321-834d-063bbff1429c"
      },
      "execution_count": null,
      "outputs": [
        {
          "output_type": "stream",
          "name": "stdout",
          "text": [
            "Input: 오징어도 사랑이 되나요\n",
            "Output: 오랜교에서 사랑이 있는 것 같아 속상하신가 봐요 .\n"
          ]
        }
      ]
    },
    {
      "cell_type": "code",
      "source": [
        "output = predict(\"연애하고싶다\")   # 챗봇 특성상, 띄어쓰기를 안하거나 맞춤법을 맞추지 못해도 반영이 되어야 하는데,,, 그게 반영이 안된다. "
      ],
      "metadata": {
        "colab": {
          "base_uri": "https://localhost:8080/"
        },
        "id": "hAL_UThBnxCr",
        "outputId": "f35a2ac1-dada-4e6d-e36c-ab62848e8f8a"
      },
      "execution_count": null,
      "outputs": [
        {
          "output_type": "stream",
          "name": "stdout",
          "text": [
            "Input: 연애하고싶다\n",
            "Output: 어떤 분과 연애를 하고 싶으신가요 ?\n"
          ]
        }
      ]
    },
    {
      "cell_type": "code",
      "source": [
        "output = predict(\"연애하고 싶다\")  # 띄어쓰기가 잘 되어 있으니 잘 알아듣는다. 이거는 언어 전처리에 문제가 있어보인다. "
      ],
      "metadata": {
        "colab": {
          "base_uri": "https://localhost:8080/"
        },
        "id": "6o8_naAbnyGf",
        "outputId": "3dda5351-8db2-48f5-cc04-d171fe121177"
      },
      "execution_count": null,
      "outputs": [
        {
          "output_type": "stream",
          "name": "stdout",
          "text": [
            "Input: 연애하고 싶다\n",
            "Output: 어떤 분과 연애를 하고 싶으신가요 ?\n"
          ]
        }
      ]
    },
    {
      "cell_type": "code",
      "source": [
        "output = predict(\"게임하자\")  # 이런 건 데이터 부족이라고밖에는 못하겠다. "
      ],
      "metadata": {
        "colab": {
          "base_uri": "https://localhost:8080/"
        },
        "id": "x8R0NGYrn0Dm",
        "outputId": "dc960eea-9b0f-442a-cfe8-9c675d6e4b95"
      },
      "execution_count": null,
      "outputs": [
        {
          "output_type": "stream",
          "name": "stdout",
          "text": [
            "Input: 게임하자\n",
            "Output: 게임기가 막신 걸 알고 마음이 쓰이셨군요 .\n"
          ]
        }
      ]
    },
    {
      "cell_type": "code",
      "source": [
        "output = predict(\"사랑해요\")   # 하 진짜루 ㅠ ㅠ"
      ],
      "metadata": {
        "colab": {
          "base_uri": "https://localhost:8080/"
        },
        "id": "VMM_qgNJ7p6v",
        "outputId": "32c8fe83-0495-4313-a89c-c7bd2beed161"
      },
      "execution_count": null,
      "outputs": [
        {
          "output_type": "stream",
          "name": "stdout",
          "text": [
            "Input: 사랑해요\n",
            "Output: 요가를 하시면서 기분이 좋으신가 봐요 .\n"
          ]
        }
      ]
    },
    {
      "cell_type": "code",
      "source": [
        "output = predict(\"그를 너무 사랑해\")   # 대명사 파악안됌"
      ],
      "metadata": {
        "colab": {
          "base_uri": "https://localhost:8080/"
        },
        "id": "VPbblDVX721_",
        "outputId": "473800a5-0ff0-40a3-c0ad-bc061502ddd4"
      },
      "execution_count": null,
      "outputs": [
        {
          "output_type": "stream",
          "name": "stdout",
          "text": [
            "Input: 그를 너무 사랑해\n",
            "Output: 무슨 일이 있으신가요 ?  자세히 말해 주시겠어요 ?\n"
          ]
        }
      ]
    },
    {
      "cell_type": "code",
      "source": [
        "output = predict(\"오늘 너무 행복한 날이였어.\")"
      ],
      "metadata": {
        "colab": {
          "base_uri": "https://localhost:8080/"
        },
        "id": "TuTIf5yc8L_a",
        "outputId": "fe33afed-9394-48d6-efe7-872834564444"
      },
      "execution_count": null,
      "outputs": [
        {
          "output_type": "stream",
          "name": "stdout",
          "text": [
            "Input: 오늘 너무 행복한 날이였어.\n",
            "Output: 오늘 무슨 일이 있으셨나 봐요 .\n"
          ]
        }
      ]
    },
    {
      "cell_type": "code",
      "source": [
        "output = predict(\"내 집을 구입해서 너무 기뻐\")"
      ],
      "metadata": {
        "colab": {
          "base_uri": "https://localhost:8080/"
        },
        "id": "HytpsCqE818r",
        "outputId": "3c095ce9-cb03-46c0-f4ba-d9c565b0a9af"
      },
      "execution_count": null,
      "outputs": [
        {
          "output_type": "stream",
          "name": "stdout",
          "text": [
            "Input: 내 집을 구입해서 너무 기뻐\n",
            "Output: 집을 구하셨군요 .  기분이 좋으시군요 .\n"
          ]
        }
      ]
    },
    {
      "cell_type": "code",
      "source": [
        "output = predict(\"너는 오늘 뭐했니\")"
      ],
      "metadata": {
        "colab": {
          "base_uri": "https://localhost:8080/"
        },
        "id": "UoGEZi5c9F8I",
        "outputId": "929bf0cf-21c3-4a2a-b5db-6bbc855de50a"
      },
      "execution_count": null,
      "outputs": [
        {
          "output_type": "stream",
          "name": "stdout",
          "text": [
            "Input: 너는 오늘 뭐했니\n",
            "Output: 무슨 일이 있으셨나요 ?\n"
          ]
        }
      ]
    },
    {
      "cell_type": "code",
      "source": [
        "output = predict(\"커피를 너무 많이 마셨더니 잠이 잘 와\")"
      ],
      "metadata": {
        "colab": {
          "base_uri": "https://localhost:8080/"
        },
        "id": "jqj84aaE8SAo",
        "outputId": "a2d0f125-c2af-43dc-e6c7-4c2d2d25c489"
      },
      "execution_count": null,
      "outputs": [
        {
          "output_type": "stream",
          "name": "stdout",
          "text": [
            "Input: 커피를 너무 많이 마셨더니 잠이 잘 와\n",
            "Output: 커피를 많이 당황스러우셨겠어요 .\n"
          ]
        }
      ]
    },
    {
      "cell_type": "code",
      "source": [
        "output = predict(\"엄청 큰 다이아몬드반지\")"
      ],
      "metadata": {
        "colab": {
          "base_uri": "https://localhost:8080/"
        },
        "id": "VnioFDgW9d4T",
        "outputId": "3d7f9579-dd6b-4a91-fe03-b3ef15996ac1"
      },
      "execution_count": null,
      "outputs": [
        {
          "output_type": "stream",
          "name": "stdout",
          "text": [
            "Input: 엄청 큰 다이아몬드반지\n",
            "Output: 큰 아몬의 반영양한 것이 무엇인가요 ?\n"
          ]
        }
      ]
    },
    {
      "cell_type": "code",
      "source": [
        "output = predict(\"넌 비아냥거리지 말았으면 좋겠다.\")  #데이터셋에 문제가 있는 것 같습니다. 도무지 챗봇에 적합한 데이터셋이라고는 못하겠네요. 데이터셋 교체합니다. "
      ],
      "metadata": {
        "colab": {
          "base_uri": "https://localhost:8080/"
        },
        "id": "Vj9H-XNo9r6f",
        "outputId": "ba652541-619f-4709-85ea-58e9fb8dbde6"
      },
      "execution_count": null,
      "outputs": [
        {
          "output_type": "stream",
          "name": "stdout",
          "text": [
            "Input: 넌 비아냥거리지 말았으면 좋겠다.\n",
            "Output: 댄대에서 비아냥대는 말투에 당황하셨군요 .\n"
          ]
        }
      ]
    },
    {
      "cell_type": "code",
      "source": [
        "output = predict(\"나는 네 주인이야! \")"
      ],
      "metadata": {
        "colab": {
          "base_uri": "https://localhost:8080/"
        },
        "id": "Lj0ZZQFB91CS",
        "outputId": "f9698fa4-153a-4783-b100-c97acbc12b64"
      },
      "execution_count": null,
      "outputs": [
        {
          "output_type": "stream",
          "name": "stdout",
          "text": [
            "Input: 나는 네 주인이야! \n",
            "Output: 무슨 일 있으셨어요 ?\n"
          ]
        }
      ]
    },
    {
      "cell_type": "code",
      "source": [
        "output = predict(\"밥도 사고 커피도 사고 운전도 하고 오빠가 다 해\")"
      ],
      "metadata": {
        "colab": {
          "base_uri": "https://localhost:8080/"
        },
        "id": "Ik4gbgJK-S7i",
        "outputId": "ef6ee23b-19fa-4411-dad9-5fb2f10f1b33"
      },
      "execution_count": null,
      "outputs": [
        {
          "output_type": "stream",
          "name": "stdout",
          "text": [
            "Input: 밥도 사고 커피도 사고 운전도 하고 오빠가 다 해\n",
            "Output: 오빠에게 커피 심부름을 시키면 기쁘시겠어요 .\n"
          ]
        }
      ]
    },
    {
      "cell_type": "code",
      "source": [
        "output = predict(\"어디갈거야?\")"
      ],
      "metadata": {
        "colab": {
          "base_uri": "https://localhost:8080/"
        },
        "id": "ajdKGXMu_lpJ",
        "outputId": "68ed0cbd-ed2d-4892-f35c-1b78caeb0306"
      },
      "execution_count": null,
      "outputs": [
        {
          "output_type": "stream",
          "name": "stdout",
          "text": [
            "Input: 어디갈거야?\n",
            "Output: 그렇게 생각하시는 이유가 있나요 ?\n"
          ]
        }
      ]
    },
    {
      "cell_type": "code",
      "source": [
        "output = predict(\"오늘 너무 행복해\")"
      ],
      "metadata": {
        "colab": {
          "base_uri": "https://localhost:8080/"
        },
        "id": "qIZ6QYjj_7Zl",
        "outputId": "94928157-b699-4e37-ecc3-42209feae4bd"
      },
      "execution_count": null,
      "outputs": [
        {
          "output_type": "stream",
          "name": "stdout",
          "text": [
            "Input: 오늘 너무 행복해\n",
            "Output: 오늘 행복하시다니 너무 행복하시군요 .  무슨 일이 있으셨나요 ?\n"
          ]
        }
      ]
    },
    {
      "cell_type": "code",
      "source": [
        "output = predict(\"청혼을 받았거든. 하늘을 날것같아\")   # 심지어 악담을 하는 챗봇..."
      ],
      "metadata": {
        "colab": {
          "base_uri": "https://localhost:8080/"
        },
        "id": "h4cqYJNS_-lS",
        "outputId": "7bc3216f-6d86-4d3d-bda8-d87cb2497335"
      },
      "execution_count": null,
      "outputs": [
        {
          "output_type": "stream",
          "name": "stdout",
          "text": [
            "Input: 청혼을 받았거든. 하늘을 날것같아\n",
            "Output: 청혼을 받아 요 .  든든하시겠어요 .\n"
          ]
        }
      ]
    },
    {
      "cell_type": "code",
      "source": [
        "# 이정도쯤 되면, Rule-Based 챗봇이 가장 간단하고 성능이 좋을 것 같다는 생각이 듭니다. https://needjarvis.tistory.com/639"
      ],
      "metadata": {
        "id": "qtS5db4X8FhP"
      },
      "execution_count": null,
      "outputs": []
    },
    {
      "cell_type": "code",
      "source": [
        "output = predict(\"ㅋㅋㅋㅋㅋㅋㅋㅋ 삐리뽕빼리뽕 아이돌 에이비식스 기부요정\") "
      ],
      "metadata": {
        "colab": {
          "base_uri": "https://localhost:8080/"
        },
        "id": "y2NSIaEOYKIV",
        "outputId": "f6939cd7-e97b-4726-b591-7dd230512a92"
      },
      "execution_count": null,
      "outputs": [
        {
          "output_type": "stream",
          "name": "stdout",
          "text": [
            "Input: ㅋㅋㅋㅋㅋㅋㅋㅋ 삐리뽕빼리뽕 아이돌 에이비식스 기부요정\n",
            "Output: 좋은 소식이네요 .  성과만큼 좋은 일 방법으로 전셋있을 거라 하니 기쁘시겠어요 .\n"
          ]
        }
      ]
    },
    {
      "cell_type": "code",
      "source": [
        "피클로 저장하기 : https://terryvery.tistory.com/63\n",
        "\n"
      ],
      "metadata": {
        "id": "zBElnAG8B_-O"
      },
      "execution_count": null,
      "outputs": []
    }
  ]
}